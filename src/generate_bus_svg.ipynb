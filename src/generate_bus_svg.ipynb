{
 "cells": [
  {
   "cell_type": "code",
   "execution_count": 60,
   "metadata": {},
   "outputs": [
    {
     "data": {
      "image/svg+xml": [
       "<svg xmlns=\"http://www.w3.org/2000/svg\" xmlns:ev=\"http://www.w3.org/2001/xml-events\" xmlns:xlink=\"http://www.w3.org/1999/xlink\" baseProfile=\"full\" height=\"120\" version=\"1.1\" width=\"120\"><defs/><rect fill=\"#5292c9\" height=\"77\" rx=\"10\" ry=\"10\" width=\"100%\" x=\"0.0\" y=\"21.5\"/><text alignment-baseline=\"middle\" fill=\"#ffffff\" font-family=\"Arial\" font-size=\"45\" font-weight=\"bold\" text-anchor=\"middle\" x=\"50%\" y=\"53%\">17</text></svg>"
      ],
      "text/plain": [
       "<IPython.core.display.SVG object>"
      ]
     },
     "metadata": {},
     "output_type": "display_data"
    },
    {
     "data": {
      "image/svg+xml": [
       "<svg xmlns=\"http://www.w3.org/2000/svg\" xmlns:ev=\"http://www.w3.org/2001/xml-events\" xmlns:xlink=\"http://www.w3.org/1999/xlink\" baseProfile=\"full\" height=\"120\" version=\"1.1\" width=\"120\"><defs/><rect fill=\"#daa3c6\" height=\"77\" rx=\"10\" ry=\"10\" width=\"100%\" x=\"0.0\" y=\"21.5\"/><text alignment-baseline=\"middle\" fill=\"#ffffff\" font-family=\"Arial\" font-size=\"45\" font-weight=\"bold\" text-anchor=\"middle\" x=\"50%\" y=\"53%\">115</text></svg>"
      ],
      "text/plain": [
       "<IPython.core.display.SVG object>"
      ]
     },
     "metadata": {},
     "output_type": "display_data"
    },
    {
     "data": {
      "image/svg+xml": [
       "<svg xmlns=\"http://www.w3.org/2000/svg\" xmlns:ev=\"http://www.w3.org/2001/xml-events\" xmlns:xlink=\"http://www.w3.org/1999/xlink\" baseProfile=\"full\" height=\"120\" version=\"1.1\" width=\"120\"><defs/><rect fill=\"#f085b5\" height=\"77\" rx=\"10\" ry=\"10\" width=\"100%\" x=\"0.0\" y=\"21.5\"/><text alignment-baseline=\"middle\" fill=\"#000000\" font-family=\"Arial\" font-size=\"45\" font-weight=\"bold\" text-anchor=\"middle\" x=\"50%\" y=\"53%\">48</text></svg>"
      ],
      "text/plain": [
       "<IPython.core.display.SVG object>"
      ]
     },
     "metadata": {},
     "output_type": "display_data"
    },
    {
     "data": {
      "image/svg+xml": [
       "<svg xmlns=\"http://www.w3.org/2000/svg\" xmlns:ev=\"http://www.w3.org/2001/xml-events\" xmlns:xlink=\"http://www.w3.org/1999/xlink\" baseProfile=\"full\" height=\"120\" version=\"1.1\" width=\"120\"><defs/><rect fill=\"#eace9b\" height=\"77\" rx=\"10\" ry=\"10\" width=\"100%\" x=\"0.0\" y=\"21.5\"/><text alignment-baseline=\"middle\" fill=\"#000000\" font-family=\"Arial\" font-size=\"45\" font-weight=\"bold\" text-anchor=\"middle\" x=\"50%\" y=\"53%\">49</text></svg>"
      ],
      "text/plain": [
       "<IPython.core.display.SVG object>"
      ]
     },
     "metadata": {},
     "output_type": "display_data"
    },
    {
     "data": {
      "image/svg+xml": [
       "<svg xmlns=\"http://www.w3.org/2000/svg\" xmlns:ev=\"http://www.w3.org/2001/xml-events\" xmlns:xlink=\"http://www.w3.org/1999/xlink\" baseProfile=\"full\" height=\"120\" version=\"1.1\" width=\"120\"><defs/><rect fill=\"#81c391\" height=\"77\" rx=\"10\" ry=\"10\" width=\"100%\" x=\"0.0\" y=\"21.5\"/><text alignment-baseline=\"middle\" fill=\"#000000\" font-family=\"Arial\" font-size=\"45\" font-weight=\"bold\" text-anchor=\"middle\" x=\"50%\" y=\"53%\">201</text></svg>"
      ],
      "text/plain": [
       "<IPython.core.display.SVG object>"
      ]
     },
     "metadata": {},
     "output_type": "display_data"
    },
    {
     "data": {
      "image/svg+xml": [
       "<svg xmlns=\"http://www.w3.org/2000/svg\" xmlns:ev=\"http://www.w3.org/2001/xml-events\" xmlns:xlink=\"http://www.w3.org/1999/xlink\" baseProfile=\"full\" height=\"120\" version=\"1.1\" width=\"120\"><defs/><rect fill=\"#aaaaaa\" height=\"77\" rx=\"10\" ry=\"10\" width=\"100%\" x=\"0.0\" y=\"21.5\"/><text alignment-baseline=\"middle\" fill=\"#000000\" font-family=\"Arial\" font-size=\"45\" font-weight=\"bold\" text-anchor=\"middle\" x=\"50%\" y=\"53%\">11B</text></svg>"
      ],
      "text/plain": [
       "<IPython.core.display.SVG object>"
      ]
     },
     "metadata": {},
     "output_type": "display_data"
    },
    {
     "data": {
      "image/svg+xml": [
       "<svg xmlns=\"http://www.w3.org/2000/svg\" xmlns:ev=\"http://www.w3.org/2001/xml-events\" xmlns:xlink=\"http://www.w3.org/1999/xlink\" baseProfile=\"full\" height=\"120\" version=\"1.1\" width=\"120\"><defs/><rect fill=\"#82c8e6\" height=\"77\" rx=\"10\" ry=\"10\" width=\"100%\" x=\"0.0\" y=\"21.5\"/><text alignment-baseline=\"middle\" fill=\"#000000\" font-family=\"Arial\" font-size=\"45\" font-weight=\"bold\" text-anchor=\"middle\" x=\"50%\" y=\"53%\">168</text></svg>"
      ],
      "text/plain": [
       "<IPython.core.display.SVG object>"
      ]
     },
     "metadata": {},
     "output_type": "display_data"
    },
    {
     "data": {
      "image/svg+xml": [
       "<svg xmlns=\"http://www.w3.org/2000/svg\" xmlns:ev=\"http://www.w3.org/2001/xml-events\" xmlns:xlink=\"http://www.w3.org/1999/xlink\" baseProfile=\"full\" height=\"120\" version=\"1.1\" width=\"120\"><defs/><rect fill=\"#c4a4cc\" height=\"77\" rx=\"10\" ry=\"10\" width=\"100%\" x=\"0.0\" y=\"21.5\"/><text alignment-baseline=\"middle\" fill=\"#000000\" font-family=\"Arial\" font-size=\"45\" font-weight=\"bold\" text-anchor=\"middle\" x=\"50%\" y=\"53%\">35</text></svg>"
      ],
      "text/plain": [
       "<IPython.core.display.SVG object>"
      ]
     },
     "metadata": {},
     "output_type": "display_data"
    },
    {
     "data": {
      "image/svg+xml": [
       "<svg xmlns=\"http://www.w3.org/2000/svg\" xmlns:ev=\"http://www.w3.org/2001/xml-events\" xmlns:xlink=\"http://www.w3.org/1999/xlink\" baseProfile=\"full\" height=\"120\" version=\"1.1\" width=\"120\"><defs/><rect fill=\"#f28f42\" height=\"77\" rx=\"10\" ry=\"10\" width=\"100%\" x=\"0.0\" y=\"21.5\"/><text alignment-baseline=\"middle\" fill=\"#000000\" font-family=\"Arial\" font-size=\"45\" font-weight=\"bold\" text-anchor=\"middle\" x=\"50%\" y=\"53%\">49</text></svg>"
      ],
      "text/plain": [
       "<IPython.core.display.SVG object>"
      ]
     },
     "metadata": {},
     "output_type": "display_data"
    },
    {
     "data": {
      "image/svg+xml": [
       "<svg xmlns=\"http://www.w3.org/2000/svg\" xmlns:ev=\"http://www.w3.org/2001/xml-events\" xmlns:xlink=\"http://www.w3.org/1999/xlink\" baseProfile=\"full\" height=\"120\" version=\"1.1\" width=\"120\"><defs/><rect fill=\"#d5a6bd\" height=\"77\" rx=\"10\" ry=\"10\" width=\"100%\" x=\"0.0\" y=\"21.5\"/><text alignment-baseline=\"middle\" fill=\"#000000\" font-family=\"Arial\" font-size=\"45\" font-weight=\"bold\" text-anchor=\"middle\" x=\"50%\" y=\"53%\">4B</text></svg>"
      ],
      "text/plain": [
       "<IPython.core.display.SVG object>"
      ]
     },
     "metadata": {},
     "output_type": "display_data"
    },
    {
     "data": {
      "image/svg+xml": [
       "<svg xmlns=\"http://www.w3.org/2000/svg\" xmlns:ev=\"http://www.w3.org/2001/xml-events\" xmlns:xlink=\"http://www.w3.org/1999/xlink\" baseProfile=\"full\" height=\"120\" version=\"1.1\" width=\"120\"><defs/><rect fill=\"#5291ce\" height=\"77\" rx=\"10\" ry=\"10\" width=\"100%\" x=\"0.0\" y=\"21.5\"/><text alignment-baseline=\"middle\" fill=\"#ffffff\" font-family=\"Arial\" font-size=\"45\" font-weight=\"bold\" text-anchor=\"middle\" x=\"50%\" y=\"53%\">45S</text></svg>"
      ],
      "text/plain": [
       "<IPython.core.display.SVG object>"
      ]
     },
     "metadata": {},
     "output_type": "display_data"
    },
    {
     "data": {
      "image/svg+xml": [
       "<svg xmlns=\"http://www.w3.org/2000/svg\" xmlns:ev=\"http://www.w3.org/2001/xml-events\" xmlns:xlink=\"http://www.w3.org/1999/xlink\" baseProfile=\"full\" height=\"120\" version=\"1.1\" width=\"120\"><defs/><rect fill=\"#8ad3de\" height=\"77\" rx=\"10\" ry=\"10\" width=\"100%\" x=\"0.0\" y=\"21.5\"/><text alignment-baseline=\"middle\" fill=\"#000000\" font-family=\"Arial\" font-size=\"45\" font-weight=\"bold\" text-anchor=\"middle\" x=\"50%\" y=\"53%\">5</text></svg>"
      ],
      "text/plain": [
       "<IPython.core.display.SVG object>"
      ]
     },
     "metadata": {},
     "output_type": "display_data"
    },
    {
     "data": {
      "image/svg+xml": [
       "<svg xmlns=\"http://www.w3.org/2000/svg\" xmlns:ev=\"http://www.w3.org/2001/xml-events\" xmlns:xlink=\"http://www.w3.org/1999/xlink\" baseProfile=\"full\" height=\"120\" version=\"1.1\" width=\"120\"><defs/><rect fill=\"#8eb4e3\" height=\"77\" rx=\"10\" ry=\"10\" width=\"100%\" x=\"0.0\" y=\"21.5\"/><text alignment-baseline=\"middle\" fill=\"#ffffff\" font-family=\"Arial\" font-size=\"45\" font-weight=\"bold\" text-anchor=\"middle\" x=\"50%\" y=\"53%\">12A</text></svg>"
      ],
      "text/plain": [
       "<IPython.core.display.SVG object>"
      ]
     },
     "metadata": {},
     "output_type": "display_data"
    },
    {
     "data": {
      "image/svg+xml": [
       "<svg xmlns=\"http://www.w3.org/2000/svg\" xmlns:ev=\"http://www.w3.org/2001/xml-events\" xmlns:xlink=\"http://www.w3.org/1999/xlink\" baseProfile=\"full\" height=\"120\" version=\"1.1\" width=\"120\"><defs/><rect fill=\"#83c491\" height=\"77\" rx=\"10\" ry=\"10\" width=\"100%\" x=\"0.0\" y=\"21.5\"/><text alignment-baseline=\"middle\" fill=\"#000000\" font-family=\"Arial\" font-size=\"45\" font-weight=\"bold\" text-anchor=\"middle\" x=\"50%\" y=\"53%\">317</text></svg>"
      ],
      "text/plain": [
       "<IPython.core.display.SVG object>"
      ]
     },
     "metadata": {},
     "output_type": "display_data"
    },
    {
     "data": {
      "image/svg+xml": [
       "<svg xmlns=\"http://www.w3.org/2000/svg\" xmlns:ev=\"http://www.w3.org/2001/xml-events\" xmlns:xlink=\"http://www.w3.org/1999/xlink\" baseProfile=\"full\" height=\"120\" version=\"1.1\" width=\"120\"><defs/><rect fill=\"#f1c232\" height=\"77\" rx=\"10\" ry=\"10\" width=\"100%\" x=\"0.0\" y=\"21.5\"/><text alignment-baseline=\"middle\" fill=\"#000000\" font-family=\"Arial\" font-size=\"45\" font-weight=\"bold\" text-anchor=\"middle\" x=\"50%\" y=\"53%\">31B</text></svg>"
      ],
      "text/plain": [
       "<IPython.core.display.SVG object>"
      ]
     },
     "metadata": {},
     "output_type": "display_data"
    },
    {
     "data": {
      "image/svg+xml": [
       "<svg xmlns=\"http://www.w3.org/2000/svg\" xmlns:ev=\"http://www.w3.org/2001/xml-events\" xmlns:xlink=\"http://www.w3.org/1999/xlink\" baseProfile=\"full\" height=\"120\" version=\"1.1\" width=\"120\"><defs/><rect fill=\"#98b3de\" height=\"77\" rx=\"10\" ry=\"10\" width=\"100%\" x=\"0.0\" y=\"21.5\"/><text alignment-baseline=\"middle\" fill=\"#ffffff\" font-family=\"Arial\" font-size=\"45\" font-weight=\"bold\" text-anchor=\"middle\" x=\"50%\" y=\"53%\">33</text></svg>"
      ],
      "text/plain": [
       "<IPython.core.display.SVG object>"
      ]
     },
     "metadata": {},
     "output_type": "display_data"
    },
    {
     "data": {
      "image/svg+xml": [
       "<svg xmlns=\"http://www.w3.org/2000/svg\" xmlns:ev=\"http://www.w3.org/2001/xml-events\" xmlns:xlink=\"http://www.w3.org/1999/xlink\" baseProfile=\"full\" height=\"120\" version=\"1.1\" width=\"120\"><defs/><rect fill=\"#f3a4ba\" height=\"77\" rx=\"10\" ry=\"10\" width=\"100%\" x=\"0.0\" y=\"21.5\"/><text alignment-baseline=\"middle\" fill=\"#000000\" font-family=\"Arial\" font-size=\"45\" font-weight=\"bold\" text-anchor=\"middle\" x=\"50%\" y=\"53%\">37A</text></svg>"
      ],
      "text/plain": [
       "<IPython.core.display.SVG object>"
      ]
     },
     "metadata": {},
     "output_type": "display_data"
    },
    {
     "data": {
      "image/svg+xml": [
       "<svg xmlns=\"http://www.w3.org/2000/svg\" xmlns:ev=\"http://www.w3.org/2001/xml-events\" xmlns:xlink=\"http://www.w3.org/1999/xlink\" baseProfile=\"full\" height=\"120\" version=\"1.1\" width=\"120\"><defs/><rect fill=\"#e3b229\" height=\"77\" rx=\"10\" ry=\"10\" width=\"100%\" x=\"0.0\" y=\"21.5\"/><text alignment-baseline=\"middle\" fill=\"#000000\" font-family=\"Arial\" font-size=\"45\" font-weight=\"bold\" text-anchor=\"middle\" x=\"50%\" y=\"53%\">34A</text></svg>"
      ],
      "text/plain": [
       "<IPython.core.display.SVG object>"
      ]
     },
     "metadata": {},
     "output_type": "display_data"
    },
    {
     "data": {
      "image/svg+xml": [
       "<svg xmlns=\"http://www.w3.org/2000/svg\" xmlns:ev=\"http://www.w3.org/2001/xml-events\" xmlns:xlink=\"http://www.w3.org/1999/xlink\" baseProfile=\"full\" height=\"120\" version=\"1.1\" width=\"120\"><defs/><rect fill=\"#0e7ec2\" height=\"77\" rx=\"10\" ry=\"10\" width=\"100%\" x=\"0.0\" y=\"21.5\"/><text alignment-baseline=\"middle\" fill=\"#ffffff\" font-family=\"Arial\" font-size=\"45\" font-weight=\"bold\" text-anchor=\"middle\" x=\"50%\" y=\"53%\">11</text></svg>"
      ],
      "text/plain": [
       "<IPython.core.display.SVG object>"
      ]
     },
     "metadata": {},
     "output_type": "display_data"
    },
    {
     "data": {
      "image/svg+xml": [
       "<svg xmlns=\"http://www.w3.org/2000/svg\" xmlns:ev=\"http://www.w3.org/2001/xml-events\" xmlns:xlink=\"http://www.w3.org/1999/xlink\" baseProfile=\"full\" height=\"120\" version=\"1.1\" width=\"120\"><defs/><rect fill=\"#996633\" height=\"77\" rx=\"10\" ry=\"10\" width=\"100%\" x=\"0.0\" y=\"21.5\"/><text alignment-baseline=\"middle\" fill=\"#ffffff\" font-family=\"Arial\" font-size=\"45\" font-weight=\"bold\" text-anchor=\"middle\" x=\"50%\" y=\"53%\">09A</text></svg>"
      ],
      "text/plain": [
       "<IPython.core.display.SVG object>"
      ]
     },
     "metadata": {},
     "output_type": "display_data"
    },
    {
     "data": {
      "image/svg+xml": [
       "<svg xmlns=\"http://www.w3.org/2000/svg\" xmlns:ev=\"http://www.w3.org/2001/xml-events\" xmlns:xlink=\"http://www.w3.org/1999/xlink\" baseProfile=\"full\" height=\"120\" version=\"1.1\" width=\"120\"><defs/><rect fill=\"#b19c0f\" height=\"77\" rx=\"10\" ry=\"10\" width=\"100%\" x=\"0.0\" y=\"21.5\"/><text alignment-baseline=\"middle\" fill=\"#ffffff\" font-family=\"Arial\" font-size=\"45\" font-weight=\"bold\" text-anchor=\"middle\" x=\"50%\" y=\"53%\">41</text></svg>"
      ],
      "text/plain": [
       "<IPython.core.display.SVG object>"
      ]
     },
     "metadata": {},
     "output_type": "display_data"
    },
    {
     "data": {
      "image/svg+xml": [
       "<svg xmlns=\"http://www.w3.org/2000/svg\" xmlns:ev=\"http://www.w3.org/2001/xml-events\" xmlns:xlink=\"http://www.w3.org/1999/xlink\" baseProfile=\"full\" height=\"120\" version=\"1.1\" width=\"120\"><defs/><rect fill=\"#81c391\" height=\"77\" rx=\"10\" ry=\"10\" width=\"100%\" x=\"0.0\" y=\"21.5\"/><text alignment-baseline=\"middle\" fill=\"#000000\" font-family=\"Arial\" font-size=\"45\" font-weight=\"bold\" text-anchor=\"middle\" x=\"50%\" y=\"53%\">35B</text></svg>"
      ],
      "text/plain": [
       "<IPython.core.display.SVG object>"
      ]
     },
     "metadata": {},
     "output_type": "display_data"
    },
    {
     "data": {
      "image/svg+xml": [
       "<svg xmlns=\"http://www.w3.org/2000/svg\" xmlns:ev=\"http://www.w3.org/2001/xml-events\" xmlns:xlink=\"http://www.w3.org/1999/xlink\" baseProfile=\"full\" height=\"120\" version=\"1.1\" width=\"120\"><defs/><rect fill=\"#783f04\" height=\"77\" rx=\"10\" ry=\"10\" width=\"100%\" x=\"0.0\" y=\"21.5\"/><text alignment-baseline=\"middle\" fill=\"#ffffff\" font-family=\"Arial\" font-size=\"45\" font-weight=\"bold\" text-anchor=\"middle\" x=\"50%\" y=\"53%\">09B</text></svg>"
      ],
      "text/plain": [
       "<IPython.core.display.SVG object>"
      ]
     },
     "metadata": {},
     "output_type": "display_data"
    },
    {
     "data": {
      "image/svg+xml": [
       "<svg xmlns=\"http://www.w3.org/2000/svg\" xmlns:ev=\"http://www.w3.org/2001/xml-events\" xmlns:xlink=\"http://www.w3.org/1999/xlink\" baseProfile=\"full\" height=\"120\" version=\"1.1\" width=\"120\"><defs/><rect fill=\"#ea9999\" height=\"77\" rx=\"10\" ry=\"10\" width=\"100%\" x=\"0.0\" y=\"21.5\"/><text alignment-baseline=\"middle\" fill=\"#000000\" font-family=\"Arial\" font-size=\"45\" font-weight=\"bold\" text-anchor=\"middle\" x=\"50%\" y=\"53%\">41B</text></svg>"
      ],
      "text/plain": [
       "<IPython.core.display.SVG object>"
      ]
     },
     "metadata": {},
     "output_type": "display_data"
    },
    {
     "data": {
      "image/svg+xml": [
       "<svg xmlns=\"http://www.w3.org/2000/svg\" xmlns:ev=\"http://www.w3.org/2001/xml-events\" xmlns:xlink=\"http://www.w3.org/1999/xlink\" baseProfile=\"full\" height=\"120\" version=\"1.1\" width=\"120\"><defs/><rect fill=\"#ff8c57\" height=\"77\" rx=\"10\" ry=\"10\" width=\"100%\" x=\"0.0\" y=\"21.5\"/><text alignment-baseline=\"middle\" fill=\"#000000\" font-family=\"Arial\" font-size=\"45\" font-weight=\"bold\" text-anchor=\"middle\" x=\"50%\" y=\"53%\">37</text></svg>"
      ],
      "text/plain": [
       "<IPython.core.display.SVG object>"
      ]
     },
     "metadata": {},
     "output_type": "display_data"
    },
    {
     "data": {
      "image/svg+xml": [
       "<svg xmlns=\"http://www.w3.org/2000/svg\" xmlns:ev=\"http://www.w3.org/2001/xml-events\" xmlns:xlink=\"http://www.w3.org/1999/xlink\" baseProfile=\"full\" height=\"120\" version=\"1.1\" width=\"120\"><defs/><rect fill=\"#aaaaaa\" height=\"77\" rx=\"10\" ry=\"10\" width=\"100%\" x=\"0.0\" y=\"21.5\"/><text alignment-baseline=\"middle\" fill=\"#000000\" font-family=\"Arial\" font-size=\"45\" font-weight=\"bold\" text-anchor=\"middle\" x=\"50%\" y=\"53%\">11s</text></svg>"
      ],
      "text/plain": [
       "<IPython.core.display.SVG object>"
      ]
     },
     "metadata": {},
     "output_type": "display_data"
    },
    {
     "data": {
      "image/svg+xml": [
       "<svg xmlns=\"http://www.w3.org/2000/svg\" xmlns:ev=\"http://www.w3.org/2001/xml-events\" xmlns:xlink=\"http://www.w3.org/1999/xlink\" baseProfile=\"full\" height=\"120\" version=\"1.1\" width=\"120\"><defs/><rect fill=\"#dba2ca\" height=\"77\" rx=\"10\" ry=\"10\" width=\"100%\" x=\"0.0\" y=\"21.5\"/><text alignment-baseline=\"middle\" fill=\"#ffffff\" font-family=\"Arial\" font-size=\"45\" font-weight=\"bold\" text-anchor=\"middle\" x=\"50%\" y=\"53%\">12.1</text></svg>"
      ],
      "text/plain": [
       "<IPython.core.display.SVG object>"
      ]
     },
     "metadata": {},
     "output_type": "display_data"
    },
    {
     "data": {
      "image/svg+xml": [
       "<svg xmlns=\"http://www.w3.org/2000/svg\" xmlns:ev=\"http://www.w3.org/2001/xml-events\" xmlns:xlink=\"http://www.w3.org/1999/xlink\" baseProfile=\"full\" height=\"120\" version=\"1.1\" width=\"120\"><defs/><rect fill=\"#3c91dc\" height=\"77\" rx=\"10\" ry=\"10\" width=\"100%\" x=\"0.0\" y=\"21.5\"/><text alignment-baseline=\"middle\" fill=\"#ffffff\" font-family=\"Arial\" font-size=\"45\" font-weight=\"bold\" text-anchor=\"middle\" x=\"50%\" y=\"53%\">29</text></svg>"
      ],
      "text/plain": [
       "<IPython.core.display.SVG object>"
      ]
     },
     "metadata": {},
     "output_type": "display_data"
    },
    {
     "data": {
      "image/svg+xml": [
       "<svg xmlns=\"http://www.w3.org/2000/svg\" xmlns:ev=\"http://www.w3.org/2001/xml-events\" xmlns:xlink=\"http://www.w3.org/1999/xlink\" baseProfile=\"full\" height=\"120\" version=\"1.1\" width=\"120\"><defs/><rect fill=\"#008b5b\" height=\"77\" rx=\"10\" ry=\"10\" width=\"100%\" x=\"0.0\" y=\"21.5\"/><text alignment-baseline=\"middle\" fill=\"#ffffff\" font-family=\"Arial\" font-size=\"45\" font-weight=\"bold\" text-anchor=\"middle\" x=\"50%\" y=\"53%\">47</text></svg>"
      ],
      "text/plain": [
       "<IPython.core.display.SVG object>"
      ]
     },
     "metadata": {},
     "output_type": "display_data"
    },
    {
     "data": {
      "image/svg+xml": [
       "<svg xmlns=\"http://www.w3.org/2000/svg\" xmlns:ev=\"http://www.w3.org/2001/xml-events\" xmlns:xlink=\"http://www.w3.org/1999/xlink\" baseProfile=\"full\" height=\"120\" version=\"1.1\" width=\"120\"><defs/><rect fill=\"#97bf0d\" height=\"77\" rx=\"10\" ry=\"10\" width=\"100%\" x=\"0.0\" y=\"21.5\"/><text alignment-baseline=\"middle\" fill=\"#ffffff\" font-family=\"Arial\" font-size=\"45\" font-weight=\"bold\" text-anchor=\"middle\" x=\"50%\" y=\"53%\">20</text></svg>"
      ],
      "text/plain": [
       "<IPython.core.display.SVG object>"
      ]
     },
     "metadata": {},
     "output_type": "display_data"
    },
    {
     "data": {
      "image/svg+xml": [
       "<svg xmlns=\"http://www.w3.org/2000/svg\" xmlns:ev=\"http://www.w3.org/2001/xml-events\" xmlns:xlink=\"http://www.w3.org/1999/xlink\" baseProfile=\"full\" height=\"120\" version=\"1.1\" width=\"120\"><defs/><rect fill=\"#fcbb73\" height=\"77\" rx=\"10\" ry=\"10\" width=\"100%\" x=\"0.0\" y=\"21.5\"/><text alignment-baseline=\"middle\" fill=\"#000000\" font-family=\"Arial\" font-size=\"45\" font-weight=\"bold\" text-anchor=\"middle\" x=\"50%\" y=\"53%\">02</text></svg>"
      ],
      "text/plain": [
       "<IPython.core.display.SVG object>"
      ]
     },
     "metadata": {},
     "output_type": "display_data"
    },
    {
     "data": {
      "image/svg+xml": [
       "<svg xmlns=\"http://www.w3.org/2000/svg\" xmlns:ev=\"http://www.w3.org/2001/xml-events\" xmlns:xlink=\"http://www.w3.org/1999/xlink\" baseProfile=\"full\" height=\"120\" version=\"1.1\" width=\"120\"><defs/><rect fill=\"#cec92b\" height=\"77\" rx=\"10\" ry=\"10\" width=\"100%\" x=\"0.0\" y=\"21.5\"/><text alignment-baseline=\"middle\" fill=\"#000000\" font-family=\"Arial\" font-size=\"45\" font-weight=\"bold\" text-anchor=\"middle\" x=\"50%\" y=\"53%\">32</text></svg>"
      ],
      "text/plain": [
       "<IPython.core.display.SVG object>"
      ]
     },
     "metadata": {},
     "output_type": "display_data"
    },
    {
     "data": {
      "image/svg+xml": [
       "<svg xmlns=\"http://www.w3.org/2000/svg\" xmlns:ev=\"http://www.w3.org/2001/xml-events\" xmlns:xlink=\"http://www.w3.org/1999/xlink\" baseProfile=\"full\" height=\"120\" version=\"1.1\" width=\"120\"><defs/><rect fill=\"#ea9999\" height=\"77\" rx=\"10\" ry=\"10\" width=\"100%\" x=\"0.0\" y=\"21.5\"/><text alignment-baseline=\"middle\" fill=\"#000000\" font-family=\"Arial\" font-size=\"45\" font-weight=\"bold\" text-anchor=\"middle\" x=\"50%\" y=\"53%\">292</text></svg>"
      ],
      "text/plain": [
       "<IPython.core.display.SVG object>"
      ]
     },
     "metadata": {},
     "output_type": "display_data"
    },
    {
     "data": {
      "image/svg+xml": [
       "<svg xmlns=\"http://www.w3.org/2000/svg\" xmlns:ev=\"http://www.w3.org/2001/xml-events\" xmlns:xlink=\"http://www.w3.org/1999/xlink\" baseProfile=\"full\" height=\"120\" version=\"1.1\" width=\"120\"><defs/><rect fill=\"#70746f\" height=\"77\" rx=\"10\" ry=\"10\" width=\"100%\" x=\"0.0\" y=\"21.5\"/><text alignment-baseline=\"middle\" fill=\"#ffffff\" font-family=\"Arial\" font-size=\"45\" font-weight=\"bold\" text-anchor=\"middle\" x=\"50%\" y=\"53%\">6-3</text></svg>"
      ],
      "text/plain": [
       "<IPython.core.display.SVG object>"
      ]
     },
     "metadata": {},
     "output_type": "display_data"
    },
    {
     "data": {
      "image/svg+xml": [
       "<svg xmlns=\"http://www.w3.org/2000/svg\" xmlns:ev=\"http://www.w3.org/2001/xml-events\" xmlns:xlink=\"http://www.w3.org/1999/xlink\" baseProfile=\"full\" height=\"120\" version=\"1.1\" width=\"120\"><defs/><rect fill=\"#f9da61\" height=\"77\" rx=\"10\" ry=\"10\" width=\"100%\" x=\"0.0\" y=\"21.5\"/><text alignment-baseline=\"middle\" fill=\"#000000\" font-family=\"Arial\" font-size=\"45\" font-weight=\"bold\" text-anchor=\"middle\" x=\"50%\" y=\"53%\">15</text></svg>"
      ],
      "text/plain": [
       "<IPython.core.display.SVG object>"
      ]
     },
     "metadata": {},
     "output_type": "display_data"
    },
    {
     "data": {
      "image/svg+xml": [
       "<svg xmlns=\"http://www.w3.org/2000/svg\" xmlns:ev=\"http://www.w3.org/2001/xml-events\" xmlns:xlink=\"http://www.w3.org/1999/xlink\" baseProfile=\"full\" height=\"120\" version=\"1.1\" width=\"120\"><defs/><rect fill=\"#e74215\" height=\"77\" rx=\"10\" ry=\"10\" width=\"100%\" x=\"0.0\" y=\"21.5\"/><text alignment-baseline=\"middle\" fill=\"#ffffff\" font-family=\"Arial\" font-size=\"45\" font-weight=\"bold\" text-anchor=\"middle\" x=\"50%\" y=\"53%\">414</text></svg>"
      ],
      "text/plain": [
       "<IPython.core.display.SVG object>"
      ]
     },
     "metadata": {},
     "output_type": "display_data"
    },
    {
     "data": {
      "image/svg+xml": [
       "<svg xmlns=\"http://www.w3.org/2000/svg\" xmlns:ev=\"http://www.w3.org/2001/xml-events\" xmlns:xlink=\"http://www.w3.org/1999/xlink\" baseProfile=\"full\" height=\"120\" version=\"1.1\" width=\"120\"><defs/><rect fill=\"#d0d0d0\" height=\"77\" rx=\"10\" ry=\"10\" width=\"100%\" x=\"0.0\" y=\"21.5\"/><text alignment-baseline=\"middle\" fill=\"#000000\" font-family=\"Arial\" font-size=\"45\" font-weight=\"bold\" text-anchor=\"middle\" x=\"50%\" y=\"53%\">16</text></svg>"
      ],
      "text/plain": [
       "<IPython.core.display.SVG object>"
      ]
     },
     "metadata": {},
     "output_type": "display_data"
    },
    {
     "data": {
      "image/svg+xml": [
       "<svg xmlns=\"http://www.w3.org/2000/svg\" xmlns:ev=\"http://www.w3.org/2001/xml-events\" xmlns:xlink=\"http://www.w3.org/1999/xlink\" baseProfile=\"full\" height=\"120\" version=\"1.1\" width=\"120\"><defs/><rect fill=\"#ffce00\" height=\"77\" rx=\"10\" ry=\"10\" width=\"100%\" x=\"0.0\" y=\"21.5\"/><text alignment-baseline=\"middle\" fill=\"#000000\" font-family=\"Arial\" font-size=\"45\" font-weight=\"bold\" text-anchor=\"middle\" x=\"50%\" y=\"53%\">43S</text></svg>"
      ],
      "text/plain": [
       "<IPython.core.display.SVG object>"
      ]
     },
     "metadata": {},
     "output_type": "display_data"
    },
    {
     "data": {
      "image/svg+xml": [
       "<svg xmlns=\"http://www.w3.org/2000/svg\" xmlns:ev=\"http://www.w3.org/2001/xml-events\" xmlns:xlink=\"http://www.w3.org/1999/xlink\" baseProfile=\"full\" height=\"120\" version=\"1.1\" width=\"120\"><defs/><rect fill=\"#005aa1\" height=\"77\" rx=\"10\" ry=\"10\" width=\"100%\" x=\"0.0\" y=\"21.5\"/><text alignment-baseline=\"middle\" fill=\"#ffffff\" font-family=\"Arial\" font-size=\"45\" font-weight=\"bold\" text-anchor=\"middle\" x=\"50%\" y=\"53%\">702</text></svg>"
      ],
      "text/plain": [
       "<IPython.core.display.SVG object>"
      ]
     },
     "metadata": {},
     "output_type": "display_data"
    },
    {
     "data": {
      "image/svg+xml": [
       "<svg xmlns=\"http://www.w3.org/2000/svg\" xmlns:ev=\"http://www.w3.org/2001/xml-events\" xmlns:xlink=\"http://www.w3.org/1999/xlink\" baseProfile=\"full\" height=\"120\" version=\"1.1\" width=\"120\"><defs/><rect fill=\"#ee765d\" height=\"77\" rx=\"10\" ry=\"10\" width=\"100%\" x=\"0.0\" y=\"21.5\"/><text alignment-baseline=\"middle\" fill=\"#000000\" font-family=\"Arial\" font-size=\"45\" font-weight=\"bold\" text-anchor=\"middle\" x=\"50%\" y=\"53%\">7B</text></svg>"
      ],
      "text/plain": [
       "<IPython.core.display.SVG object>"
      ]
     },
     "metadata": {},
     "output_type": "display_data"
    },
    {
     "data": {
      "image/svg+xml": [
       "<svg xmlns=\"http://www.w3.org/2000/svg\" xmlns:ev=\"http://www.w3.org/2001/xml-events\" xmlns:xlink=\"http://www.w3.org/1999/xlink\" baseProfile=\"full\" height=\"120\" version=\"1.1\" width=\"120\"><defs/><rect fill=\"#ff582a\" height=\"77\" rx=\"10\" ry=\"10\" width=\"100%\" x=\"0.0\" y=\"21.5\"/><text alignment-baseline=\"middle\" fill=\"#ffffff\" font-family=\"Arial\" font-size=\"45\" font-weight=\"bold\" text-anchor=\"middle\" x=\"50%\" y=\"53%\">N130</text></svg>"
      ],
      "text/plain": [
       "<IPython.core.display.SVG object>"
      ]
     },
     "metadata": {},
     "output_type": "display_data"
    },
    {
     "data": {
      "image/svg+xml": [
       "<svg xmlns=\"http://www.w3.org/2000/svg\" xmlns:ev=\"http://www.w3.org/2001/xml-events\" xmlns:xlink=\"http://www.w3.org/1999/xlink\" baseProfile=\"full\" height=\"120\" version=\"1.1\" width=\"120\"><defs/><rect fill=\"#f9c5b3\" height=\"77\" rx=\"10\" ry=\"10\" width=\"100%\" x=\"0.0\" y=\"21.5\"/><text alignment-baseline=\"middle\" fill=\"#000000\" font-family=\"Arial\" font-size=\"45\" font-weight=\"bold\" text-anchor=\"middle\" x=\"50%\" y=\"53%\">7D</text></svg>"
      ],
      "text/plain": [
       "<IPython.core.display.SVG object>"
      ]
     },
     "metadata": {},
     "output_type": "display_data"
    },
    {
     "data": {
      "image/svg+xml": [
       "<svg xmlns=\"http://www.w3.org/2000/svg\" xmlns:ev=\"http://www.w3.org/2001/xml-events\" xmlns:xlink=\"http://www.w3.org/1999/xlink\" baseProfile=\"full\" height=\"120\" version=\"1.1\" width=\"120\"><defs/><rect fill=\"#eddb8e\" height=\"77\" rx=\"10\" ry=\"10\" width=\"100%\" x=\"0.0\" y=\"21.5\"/><text alignment-baseline=\"middle\" fill=\"#000000\" font-family=\"Arial\" font-size=\"45\" font-weight=\"bold\" text-anchor=\"middle\" x=\"50%\" y=\"53%\">9C</text></svg>"
      ],
      "text/plain": [
       "<IPython.core.display.SVG object>"
      ]
     },
     "metadata": {},
     "output_type": "display_data"
    },
    {
     "data": {
      "image/svg+xml": [
       "<svg xmlns=\"http://www.w3.org/2000/svg\" xmlns:ev=\"http://www.w3.org/2001/xml-events\" xmlns:xlink=\"http://www.w3.org/1999/xlink\" baseProfile=\"full\" height=\"120\" version=\"1.1\" width=\"120\"><defs/><rect fill=\"#9900ff\" height=\"77\" rx=\"10\" ry=\"10\" width=\"100%\" x=\"0.0\" y=\"21.5\"/><text alignment-baseline=\"middle\" fill=\"#000000\" font-family=\"Arial\" font-size=\"45\" font-weight=\"bold\" text-anchor=\"middle\" x=\"50%\" y=\"53%\">350</text></svg>"
      ],
      "text/plain": [
       "<IPython.core.display.SVG object>"
      ]
     },
     "metadata": {},
     "output_type": "display_data"
    },
    {
     "data": {
      "image/svg+xml": [
       "<svg xmlns=\"http://www.w3.org/2000/svg\" xmlns:ev=\"http://www.w3.org/2001/xml-events\" xmlns:xlink=\"http://www.w3.org/1999/xlink\" baseProfile=\"full\" height=\"120\" version=\"1.1\" width=\"120\"><defs/><rect fill=\"#59c6f2\" height=\"77\" rx=\"10\" ry=\"10\" width=\"100%\" x=\"0.0\" y=\"21.5\"/><text alignment-baseline=\"middle\" fill=\"#000000\" font-family=\"Arial\" font-size=\"45\" font-weight=\"bold\" text-anchor=\"middle\" x=\"50%\" y=\"53%\">13B</text></svg>"
      ],
      "text/plain": [
       "<IPython.core.display.SVG object>"
      ]
     },
     "metadata": {},
     "output_type": "display_data"
    },
    {
     "data": {
      "image/svg+xml": [
       "<svg xmlns=\"http://www.w3.org/2000/svg\" xmlns:ev=\"http://www.w3.org/2001/xml-events\" xmlns:xlink=\"http://www.w3.org/1999/xlink\" baseProfile=\"full\" height=\"120\" version=\"1.1\" width=\"120\"><defs/><rect fill=\"#ee77a5\" height=\"77\" rx=\"10\" ry=\"10\" width=\"100%\" x=\"0.0\" y=\"21.5\"/><text alignment-baseline=\"middle\" fill=\"#000000\" font-family=\"Arial\" font-size=\"45\" font-weight=\"bold\" text-anchor=\"middle\" x=\"50%\" y=\"53%\">14B</text></svg>"
      ],
      "text/plain": [
       "<IPython.core.display.SVG object>"
      ]
     },
     "metadata": {},
     "output_type": "display_data"
    },
    {
     "data": {
      "image/svg+xml": [
       "<svg xmlns=\"http://www.w3.org/2000/svg\" xmlns:ev=\"http://www.w3.org/2001/xml-events\" xmlns:xlink=\"http://www.w3.org/1999/xlink\" baseProfile=\"full\" height=\"120\" version=\"1.1\" width=\"120\"><defs/><rect fill=\"#bf1f25\" height=\"77\" rx=\"10\" ry=\"10\" width=\"100%\" x=\"0.0\" y=\"21.5\"/><text alignment-baseline=\"middle\" fill=\"#ffffff\" font-family=\"Arial\" font-size=\"45\" font-weight=\"bold\" text-anchor=\"middle\" x=\"50%\" y=\"53%\">17</text></svg>"
      ],
      "text/plain": [
       "<IPython.core.display.SVG object>"
      ]
     },
     "metadata": {},
     "output_type": "display_data"
    },
    {
     "data": {
      "image/svg+xml": [
       "<svg xmlns=\"http://www.w3.org/2000/svg\" xmlns:ev=\"http://www.w3.org/2001/xml-events\" xmlns:xlink=\"http://www.w3.org/1999/xlink\" baseProfile=\"full\" height=\"120\" version=\"1.1\" width=\"120\"><defs/><rect fill=\"#005aa1\" height=\"77\" rx=\"10\" ry=\"10\" width=\"100%\" x=\"0.0\" y=\"21.5\"/><text alignment-baseline=\"middle\" fill=\"#ffffff\" font-family=\"Arial\" font-size=\"45\" font-weight=\"bold\" text-anchor=\"middle\" x=\"50%\" y=\"53%\">701</text></svg>"
      ],
      "text/plain": [
       "<IPython.core.display.SVG object>"
      ]
     },
     "metadata": {},
     "output_type": "display_data"
    },
    {
     "data": {
      "image/svg+xml": [
       "<svg xmlns=\"http://www.w3.org/2000/svg\" xmlns:ev=\"http://www.w3.org/2001/xml-events\" xmlns:xlink=\"http://www.w3.org/1999/xlink\" baseProfile=\"full\" height=\"120\" version=\"1.1\" width=\"120\"><defs/><rect fill=\"#efd561\" height=\"77\" rx=\"10\" ry=\"10\" width=\"100%\" x=\"0.0\" y=\"21.5\"/><text alignment-baseline=\"middle\" fill=\"#000000\" font-family=\"Arial\" font-size=\"45\" font-weight=\"bold\" text-anchor=\"middle\" x=\"50%\" y=\"53%\">31</text></svg>"
      ],
      "text/plain": [
       "<IPython.core.display.SVG object>"
      ]
     },
     "metadata": {},
     "output_type": "display_data"
    },
    {
     "data": {
      "image/svg+xml": [
       "<svg xmlns=\"http://www.w3.org/2000/svg\" xmlns:ev=\"http://www.w3.org/2001/xml-events\" xmlns:xlink=\"http://www.w3.org/1999/xlink\" baseProfile=\"full\" height=\"120\" version=\"1.1\" width=\"120\"><defs/><rect fill=\"#ffff00\" height=\"77\" rx=\"10\" ry=\"10\" width=\"100%\" x=\"0.0\" y=\"21.5\"/><text alignment-baseline=\"middle\" fill=\"#000000\" font-family=\"Arial\" font-size=\"45\" font-weight=\"bold\" text-anchor=\"middle\" x=\"50%\" y=\"53%\">14</text></svg>"
      ],
      "text/plain": [
       "<IPython.core.display.SVG object>"
      ]
     },
     "metadata": {},
     "output_type": "display_data"
    },
    {
     "data": {
      "image/svg+xml": [
       "<svg xmlns=\"http://www.w3.org/2000/svg\" xmlns:ev=\"http://www.w3.org/2001/xml-events\" xmlns:xlink=\"http://www.w3.org/1999/xlink\" baseProfile=\"full\" height=\"120\" version=\"1.1\" width=\"120\"><defs/><rect fill=\"#bda40f\" height=\"77\" rx=\"10\" ry=\"10\" width=\"100%\" x=\"0.0\" y=\"21.5\"/><text alignment-baseline=\"middle\" fill=\"#000000\" font-family=\"Arial\" font-size=\"45\" font-weight=\"bold\" text-anchor=\"middle\" x=\"50%\" y=\"53%\">35</text></svg>"
      ],
      "text/plain": [
       "<IPython.core.display.SVG object>"
      ]
     },
     "metadata": {},
     "output_type": "display_data"
    },
    {
     "data": {
      "image/svg+xml": [
       "<svg xmlns=\"http://www.w3.org/2000/svg\" xmlns:ev=\"http://www.w3.org/2001/xml-events\" xmlns:xlink=\"http://www.w3.org/1999/xlink\" baseProfile=\"full\" height=\"120\" version=\"1.1\" width=\"120\"><defs/><rect fill=\"#674ea7\" height=\"77\" rx=\"10\" ry=\"10\" width=\"100%\" x=\"0.0\" y=\"21.5\"/><text alignment-baseline=\"middle\" fill=\"#ffffff\" font-family=\"Arial\" font-size=\"45\" font-weight=\"bold\" text-anchor=\"middle\" x=\"50%\" y=\"53%\">18</text></svg>"
      ],
      "text/plain": [
       "<IPython.core.display.SVG object>"
      ]
     },
     "metadata": {},
     "output_type": "display_data"
    },
    {
     "data": {
      "image/svg+xml": [
       "<svg xmlns=\"http://www.w3.org/2000/svg\" xmlns:ev=\"http://www.w3.org/2001/xml-events\" xmlns:xlink=\"http://www.w3.org/1999/xlink\" baseProfile=\"full\" height=\"120\" version=\"1.1\" width=\"120\"><defs/><rect fill=\"#867da9\" height=\"77\" rx=\"10\" ry=\"10\" width=\"100%\" x=\"0.0\" y=\"21.5\"/><text alignment-baseline=\"middle\" fill=\"#000000\" font-family=\"Arial\" font-size=\"45\" font-weight=\"bold\" text-anchor=\"middle\" x=\"50%\" y=\"53%\">45</text></svg>"
      ],
      "text/plain": [
       "<IPython.core.display.SVG object>"
      ]
     },
     "metadata": {},
     "output_type": "display_data"
    },
    {
     "data": {
      "image/svg+xml": [
       "<svg xmlns=\"http://www.w3.org/2000/svg\" xmlns:ev=\"http://www.w3.org/2001/xml-events\" xmlns:xlink=\"http://www.w3.org/1999/xlink\" baseProfile=\"full\" height=\"120\" version=\"1.1\" width=\"120\"><defs/><rect fill=\"#ff0000\" height=\"77\" rx=\"10\" ry=\"10\" width=\"100%\" x=\"0.0\" y=\"21.5\"/><text alignment-baseline=\"middle\" fill=\"#ffffff\" font-family=\"Arial\" font-size=\"45\" font-weight=\"bold\" text-anchor=\"middle\" x=\"50%\" y=\"53%\">412</text></svg>"
      ],
      "text/plain": [
       "<IPython.core.display.SVG object>"
      ]
     },
     "metadata": {},
     "output_type": "display_data"
    },
    {
     "data": {
      "image/svg+xml": [
       "<svg xmlns=\"http://www.w3.org/2000/svg\" xmlns:ev=\"http://www.w3.org/2001/xml-events\" xmlns:xlink=\"http://www.w3.org/1999/xlink\" baseProfile=\"full\" height=\"120\" version=\"1.1\" width=\"120\"><defs/><rect fill=\"#fdd59b\" height=\"77\" rx=\"10\" ry=\"10\" width=\"100%\" x=\"0.0\" y=\"21.5\"/><text alignment-baseline=\"middle\" fill=\"#000000\" font-family=\"Arial\" font-size=\"45\" font-weight=\"bold\" text-anchor=\"middle\" x=\"50%\" y=\"53%\">51</text></svg>"
      ],
      "text/plain": [
       "<IPython.core.display.SVG object>"
      ]
     },
     "metadata": {},
     "output_type": "display_data"
    },
    {
     "data": {
      "image/svg+xml": [
       "<svg xmlns=\"http://www.w3.org/2000/svg\" xmlns:ev=\"http://www.w3.org/2001/xml-events\" xmlns:xlink=\"http://www.w3.org/1999/xlink\" baseProfile=\"full\" height=\"120\" version=\"1.1\" width=\"120\"><defs/><rect fill=\"#9b993b\" height=\"77\" rx=\"10\" ry=\"10\" width=\"100%\" x=\"0.0\" y=\"21.5\"/><text alignment-baseline=\"middle\" fill=\"#ffffff\" font-family=\"Arial\" font-size=\"45\" font-weight=\"bold\" text-anchor=\"middle\" x=\"50%\" y=\"53%\">50</text></svg>"
      ],
      "text/plain": [
       "<IPython.core.display.SVG object>"
      ]
     },
     "metadata": {},
     "output_type": "display_data"
    },
    {
     "data": {
      "image/svg+xml": [
       "<svg xmlns=\"http://www.w3.org/2000/svg\" xmlns:ev=\"http://www.w3.org/2001/xml-events\" xmlns:xlink=\"http://www.w3.org/1999/xlink\" baseProfile=\"full\" height=\"120\" version=\"1.1\" width=\"120\"><defs/><rect fill=\"#f4a58b\" height=\"77\" rx=\"10\" ry=\"10\" width=\"100%\" x=\"0.0\" y=\"21.5\"/><text alignment-baseline=\"middle\" fill=\"#ffffff\" font-family=\"Arial\" font-size=\"45\" font-weight=\"bold\" text-anchor=\"middle\" x=\"50%\" y=\"53%\">116</text></svg>"
      ],
      "text/plain": [
       "<IPython.core.display.SVG object>"
      ]
     },
     "metadata": {},
     "output_type": "display_data"
    },
    {
     "data": {
      "image/svg+xml": [
       "<svg xmlns=\"http://www.w3.org/2000/svg\" xmlns:ev=\"http://www.w3.org/2001/xml-events\" xmlns:xlink=\"http://www.w3.org/1999/xlink\" baseProfile=\"full\" height=\"120\" version=\"1.1\" width=\"120\"><defs/><rect fill=\"#a1c74d\" height=\"77\" rx=\"10\" ry=\"10\" width=\"100%\" x=\"0.0\" y=\"21.5\"/><text alignment-baseline=\"middle\" fill=\"#000000\" font-family=\"Arial\" font-size=\"45\" font-weight=\"bold\" text-anchor=\"middle\" x=\"50%\" y=\"53%\">17</text></svg>"
      ],
      "text/plain": [
       "<IPython.core.display.SVG object>"
      ]
     },
     "metadata": {},
     "output_type": "display_data"
    },
    {
     "data": {
      "image/svg+xml": [
       "<svg xmlns=\"http://www.w3.org/2000/svg\" xmlns:ev=\"http://www.w3.org/2001/xml-events\" xmlns:xlink=\"http://www.w3.org/1999/xlink\" baseProfile=\"full\" height=\"120\" version=\"1.1\" width=\"120\"><defs/><rect fill=\"#d2d200\" height=\"77\" rx=\"10\" ry=\"10\" width=\"100%\" x=\"0.0\" y=\"21.5\"/><text alignment-baseline=\"middle\" fill=\"#000000\" font-family=\"Arial\" font-size=\"45\" font-weight=\"bold\" text-anchor=\"middle\" x=\"50%\" y=\"53%\">353</text></svg>"
      ],
      "text/plain": [
       "<IPython.core.display.SVG object>"
      ]
     },
     "metadata": {},
     "output_type": "display_data"
    },
    {
     "data": {
      "image/svg+xml": [
       "<svg xmlns=\"http://www.w3.org/2000/svg\" xmlns:ev=\"http://www.w3.org/2001/xml-events\" xmlns:xlink=\"http://www.w3.org/1999/xlink\" baseProfile=\"full\" height=\"120\" version=\"1.1\" width=\"120\"><defs/><rect fill=\"#b90745\" height=\"77\" rx=\"10\" ry=\"10\" width=\"100%\" x=\"0.0\" y=\"21.5\"/><text alignment-baseline=\"middle\" fill=\"#ffffff\" font-family=\"Arial\" font-size=\"45\" font-weight=\"bold\" text-anchor=\"middle\" x=\"50%\" y=\"53%\">4</text></svg>"
      ],
      "text/plain": [
       "<IPython.core.display.SVG object>"
      ]
     },
     "metadata": {},
     "output_type": "display_data"
    },
    {
     "data": {
      "image/svg+xml": [
       "<svg xmlns=\"http://www.w3.org/2000/svg\" xmlns:ev=\"http://www.w3.org/2001/xml-events\" xmlns:xlink=\"http://www.w3.org/1999/xlink\" baseProfile=\"full\" height=\"120\" version=\"1.1\" width=\"120\"><defs/><rect fill=\"#ffbe00\" height=\"77\" rx=\"10\" ry=\"10\" width=\"100%\" x=\"0.0\" y=\"21.5\"/><text alignment-baseline=\"middle\" fill=\"#000000\" font-family=\"Arial\" font-size=\"45\" font-weight=\"bold\" text-anchor=\"middle\" x=\"50%\" y=\"53%\">260</text></svg>"
      ],
      "text/plain": [
       "<IPython.core.display.SVG object>"
      ]
     },
     "metadata": {},
     "output_type": "display_data"
    },
    {
     "data": {
      "image/svg+xml": [
       "<svg xmlns=\"http://www.w3.org/2000/svg\" xmlns:ev=\"http://www.w3.org/2001/xml-events\" xmlns:xlink=\"http://www.w3.org/1999/xlink\" baseProfile=\"full\" height=\"120\" version=\"1.1\" width=\"120\"><defs/><rect fill=\"#dc9600\" height=\"77\" rx=\"10\" ry=\"10\" width=\"100%\" x=\"0.0\" y=\"21.5\"/><text alignment-baseline=\"middle\" fill=\"#000000\" font-family=\"Arial\" font-size=\"45\" font-weight=\"bold\" text-anchor=\"middle\" x=\"50%\" y=\"53%\">107</text></svg>"
      ],
      "text/plain": [
       "<IPython.core.display.SVG object>"
      ]
     },
     "metadata": {},
     "output_type": "display_data"
    },
    {
     "data": {
      "image/svg+xml": [
       "<svg xmlns=\"http://www.w3.org/2000/svg\" xmlns:ev=\"http://www.w3.org/2001/xml-events\" xmlns:xlink=\"http://www.w3.org/1999/xlink\" baseProfile=\"full\" height=\"120\" version=\"1.1\" width=\"120\"><defs/><rect fill=\"#81c491\" height=\"77\" rx=\"10\" ry=\"10\" width=\"100%\" x=\"0.0\" y=\"21.5\"/><text alignment-baseline=\"middle\" fill=\"#000000\" font-family=\"Arial\" font-size=\"45\" font-weight=\"bold\" text-anchor=\"middle\" x=\"50%\" y=\"53%\">7</text></svg>"
      ],
      "text/plain": [
       "<IPython.core.display.SVG object>"
      ]
     },
     "metadata": {},
     "output_type": "display_data"
    },
    {
     "data": {
      "image/svg+xml": [
       "<svg xmlns=\"http://www.w3.org/2000/svg\" xmlns:ev=\"http://www.w3.org/2001/xml-events\" xmlns:xlink=\"http://www.w3.org/1999/xlink\" baseProfile=\"full\" height=\"120\" version=\"1.1\" width=\"120\"><defs/><rect fill=\"#4d90cd\" height=\"77\" rx=\"10\" ry=\"10\" width=\"100%\" x=\"0.0\" y=\"21.5\"/><text alignment-baseline=\"middle\" fill=\"#ffffff\" font-family=\"Arial\" font-size=\"45\" font-weight=\"bold\" text-anchor=\"middle\" x=\"50%\" y=\"53%\">75</text></svg>"
      ],
      "text/plain": [
       "<IPython.core.display.SVG object>"
      ]
     },
     "metadata": {},
     "output_type": "display_data"
    },
    {
     "data": {
      "image/svg+xml": [
       "<svg xmlns=\"http://www.w3.org/2000/svg\" xmlns:ev=\"http://www.w3.org/2001/xml-events\" xmlns:xlink=\"http://www.w3.org/1999/xlink\" baseProfile=\"full\" height=\"120\" version=\"1.1\" width=\"120\"><defs/><rect fill=\"#19b200\" height=\"77\" rx=\"10\" ry=\"10\" width=\"100%\" x=\"0.0\" y=\"21.5\"/><text alignment-baseline=\"middle\" fill=\"#ffffff\" font-family=\"Arial\" font-size=\"45\" font-weight=\"bold\" text-anchor=\"middle\" x=\"50%\" y=\"53%\">9s</text></svg>"
      ],
      "text/plain": [
       "<IPython.core.display.SVG object>"
      ]
     },
     "metadata": {},
     "output_type": "display_data"
    },
    {
     "data": {
      "image/svg+xml": [
       "<svg xmlns=\"http://www.w3.org/2000/svg\" xmlns:ev=\"http://www.w3.org/2001/xml-events\" xmlns:xlink=\"http://www.w3.org/1999/xlink\" baseProfile=\"full\" height=\"120\" version=\"1.1\" width=\"120\"><defs/><rect fill=\"#f3a4ba\" height=\"77\" rx=\"10\" ry=\"10\" width=\"100%\" x=\"0.0\" y=\"21.5\"/><text alignment-baseline=\"middle\" fill=\"#000000\" font-family=\"Arial\" font-size=\"45\" font-weight=\"bold\" text-anchor=\"middle\" x=\"50%\" y=\"53%\">319</text></svg>"
      ],
      "text/plain": [
       "<IPython.core.display.SVG object>"
      ]
     },
     "metadata": {},
     "output_type": "display_data"
    },
    {
     "data": {
      "image/svg+xml": [
       "<svg xmlns=\"http://www.w3.org/2000/svg\" xmlns:ev=\"http://www.w3.org/2001/xml-events\" xmlns:xlink=\"http://www.w3.org/1999/xlink\" baseProfile=\"full\" height=\"120\" version=\"1.1\" width=\"120\"><defs/><rect fill=\"#0087c8\" height=\"77\" rx=\"10\" ry=\"10\" width=\"100%\" x=\"0.0\" y=\"21.5\"/><text alignment-baseline=\"middle\" fill=\"#ffffff\" font-family=\"Arial\" font-size=\"45\" font-weight=\"bold\" text-anchor=\"middle\" x=\"50%\" y=\"53%\">5</text></svg>"
      ],
      "text/plain": [
       "<IPython.core.display.SVG object>"
      ]
     },
     "metadata": {},
     "output_type": "display_data"
    },
    {
     "data": {
      "image/svg+xml": [
       "<svg xmlns=\"http://www.w3.org/2000/svg\" xmlns:ev=\"http://www.w3.org/2001/xml-events\" xmlns:xlink=\"http://www.w3.org/1999/xlink\" baseProfile=\"full\" height=\"120\" version=\"1.1\" width=\"120\"><defs/><rect fill=\"#aa3296\" height=\"77\" rx=\"10\" ry=\"10\" width=\"100%\" x=\"0.0\" y=\"21.5\"/><text alignment-baseline=\"middle\" fill=\"#ffffff\" font-family=\"Arial\" font-size=\"45\" font-weight=\"bold\" text-anchor=\"middle\" x=\"50%\" y=\"53%\">111</text></svg>"
      ],
      "text/plain": [
       "<IPython.core.display.SVG object>"
      ]
     },
     "metadata": {},
     "output_type": "display_data"
    },
    {
     "data": {
      "image/svg+xml": [
       "<svg xmlns=\"http://www.w3.org/2000/svg\" xmlns:ev=\"http://www.w3.org/2001/xml-events\" xmlns:xlink=\"http://www.w3.org/1999/xlink\" baseProfile=\"full\" height=\"120\" version=\"1.1\" width=\"120\"><defs/><rect fill=\"#fbe800\" height=\"77\" rx=\"10\" ry=\"10\" width=\"100%\" x=\"0.0\" y=\"21.5\"/><text alignment-baseline=\"middle\" fill=\"#000000\" font-family=\"Arial\" font-size=\"45\" font-weight=\"bold\" text-anchor=\"middle\" x=\"50%\" y=\"53%\">18s</text></svg>"
      ],
      "text/plain": [
       "<IPython.core.display.SVG object>"
      ]
     },
     "metadata": {},
     "output_type": "display_data"
    },
    {
     "data": {
      "image/svg+xml": [
       "<svg xmlns=\"http://www.w3.org/2000/svg\" xmlns:ev=\"http://www.w3.org/2001/xml-events\" xmlns:xlink=\"http://www.w3.org/1999/xlink\" baseProfile=\"full\" height=\"120\" version=\"1.1\" width=\"120\"><defs/><rect fill=\"#e3051c\" height=\"77\" rx=\"10\" ry=\"10\" width=\"100%\" x=\"0.0\" y=\"21.5\"/><text alignment-baseline=\"middle\" fill=\"#ffffff\" font-family=\"Arial\" font-size=\"45\" font-weight=\"bold\" text-anchor=\"middle\" x=\"50%\" y=\"53%\">61</text></svg>"
      ],
      "text/plain": [
       "<IPython.core.display.SVG object>"
      ]
     },
     "metadata": {},
     "output_type": "display_data"
    },
    {
     "data": {
      "image/svg+xml": [
       "<svg xmlns=\"http://www.w3.org/2000/svg\" xmlns:ev=\"http://www.w3.org/2001/xml-events\" xmlns:xlink=\"http://www.w3.org/1999/xlink\" baseProfile=\"full\" height=\"120\" version=\"1.1\" width=\"120\"><defs/><rect fill=\"#0064b0\" height=\"77\" rx=\"10\" ry=\"10\" width=\"100%\" x=\"0.0\" y=\"21.5\"/><text alignment-baseline=\"middle\" fill=\"#ffffff\" font-family=\"Arial\" font-size=\"45\" font-weight=\"bold\" text-anchor=\"middle\" x=\"50%\" y=\"53%\">18</text></svg>"
      ],
      "text/plain": [
       "<IPython.core.display.SVG object>"
      ]
     },
     "metadata": {},
     "output_type": "display_data"
    },
    {
     "data": {
      "image/svg+xml": [
       "<svg xmlns=\"http://www.w3.org/2000/svg\" xmlns:ev=\"http://www.w3.org/2001/xml-events\" xmlns:xlink=\"http://www.w3.org/1999/xlink\" baseProfile=\"full\" height=\"120\" version=\"1.1\" width=\"120\"><defs/><rect fill=\"#f4aacc\" height=\"77\" rx=\"10\" ry=\"10\" width=\"100%\" x=\"0.0\" y=\"21.5\"/><text alignment-baseline=\"middle\" fill=\"#000000\" font-family=\"Arial\" font-size=\"45\" font-weight=\"bold\" text-anchor=\"middle\" x=\"50%\" y=\"53%\">01</text></svg>"
      ],
      "text/plain": [
       "<IPython.core.display.SVG object>"
      ]
     },
     "metadata": {},
     "output_type": "display_data"
    },
    {
     "data": {
      "image/svg+xml": [
       "<svg xmlns=\"http://www.w3.org/2000/svg\" xmlns:ev=\"http://www.w3.org/2001/xml-events\" xmlns:xlink=\"http://www.w3.org/1999/xlink\" baseProfile=\"full\" height=\"120\" version=\"1.1\" width=\"120\"><defs/><rect fill=\"#9bcda4\" height=\"77\" rx=\"10\" ry=\"10\" width=\"100%\" x=\"0.0\" y=\"21.5\"/><text alignment-baseline=\"middle\" fill=\"#000000\" font-family=\"Arial\" font-size=\"45\" font-weight=\"bold\" text-anchor=\"middle\" x=\"50%\" y=\"53%\">47</text></svg>"
      ],
      "text/plain": [
       "<IPython.core.display.SVG object>"
      ]
     },
     "metadata": {},
     "output_type": "display_data"
    },
    {
     "data": {
      "image/svg+xml": [
       "<svg xmlns=\"http://www.w3.org/2000/svg\" xmlns:ev=\"http://www.w3.org/2001/xml-events\" xmlns:xlink=\"http://www.w3.org/1999/xlink\" baseProfile=\"full\" height=\"120\" version=\"1.1\" width=\"120\"><defs/><rect fill=\"#b0d6ed\" height=\"77\" rx=\"10\" ry=\"10\" width=\"100%\" x=\"0.0\" y=\"21.5\"/><text alignment-baseline=\"middle\" fill=\"#000000\" font-family=\"Arial\" font-size=\"45\" font-weight=\"bold\" text-anchor=\"middle\" x=\"50%\" y=\"53%\">9AB</text></svg>"
      ],
      "text/plain": [
       "<IPython.core.display.SVG object>"
      ]
     },
     "metadata": {},
     "output_type": "display_data"
    },
    {
     "data": {
      "image/svg+xml": [
       "<svg xmlns=\"http://www.w3.org/2000/svg\" xmlns:ev=\"http://www.w3.org/2001/xml-events\" xmlns:xlink=\"http://www.w3.org/1999/xlink\" baseProfile=\"full\" height=\"120\" version=\"1.1\" width=\"120\"><defs/><rect fill=\"#e3051b\" height=\"77\" rx=\"10\" ry=\"10\" width=\"100%\" x=\"0.0\" y=\"21.5\"/><text alignment-baseline=\"middle\" fill=\"#ffffff\" font-family=\"Arial\" font-size=\"45\" font-weight=\"bold\" text-anchor=\"middle\" x=\"50%\" y=\"53%\">31</text></svg>"
      ],
      "text/plain": [
       "<IPython.core.display.SVG object>"
      ]
     },
     "metadata": {},
     "output_type": "display_data"
    },
    {
     "data": {
      "image/svg+xml": [
       "<svg xmlns=\"http://www.w3.org/2000/svg\" xmlns:ev=\"http://www.w3.org/2001/xml-events\" xmlns:xlink=\"http://www.w3.org/1999/xlink\" baseProfile=\"full\" height=\"120\" version=\"1.1\" width=\"120\"><defs/><rect fill=\"#a9c153\" height=\"77\" rx=\"10\" ry=\"10\" width=\"100%\" x=\"0.0\" y=\"21.5\"/><text alignment-baseline=\"middle\" fill=\"#ffffff\" font-family=\"Arial\" font-size=\"45\" font-weight=\"bold\" text-anchor=\"middle\" x=\"50%\" y=\"53%\">9D</text></svg>"
      ],
      "text/plain": [
       "<IPython.core.display.SVG object>"
      ]
     },
     "metadata": {},
     "output_type": "display_data"
    },
    {
     "data": {
      "image/svg+xml": [
       "<svg xmlns=\"http://www.w3.org/2000/svg\" xmlns:ev=\"http://www.w3.org/2001/xml-events\" xmlns:xlink=\"http://www.w3.org/1999/xlink\" baseProfile=\"full\" height=\"120\" version=\"1.1\" width=\"120\"><defs/><rect fill=\"#98b3de\" height=\"77\" rx=\"10\" ry=\"10\" width=\"100%\" x=\"0.0\" y=\"21.5\"/><text alignment-baseline=\"middle\" fill=\"#ffffff\" font-family=\"Arial\" font-size=\"45\" font-weight=\"bold\" text-anchor=\"middle\" x=\"50%\" y=\"53%\">38</text></svg>"
      ],
      "text/plain": [
       "<IPython.core.display.SVG object>"
      ]
     },
     "metadata": {},
     "output_type": "display_data"
    },
    {
     "data": {
      "image/svg+xml": [
       "<svg xmlns=\"http://www.w3.org/2000/svg\" xmlns:ev=\"http://www.w3.org/2001/xml-events\" xmlns:xlink=\"http://www.w3.org/1999/xlink\" baseProfile=\"full\" height=\"120\" version=\"1.1\" width=\"120\"><defs/><rect fill=\"#98b3de\" height=\"77\" rx=\"10\" ry=\"10\" width=\"100%\" x=\"0.0\" y=\"21.5\"/><text alignment-baseline=\"middle\" fill=\"#ffffff\" font-family=\"Arial\" font-size=\"45\" font-weight=\"bold\" text-anchor=\"middle\" x=\"50%\" y=\"53%\">12</text></svg>"
      ],
      "text/plain": [
       "<IPython.core.display.SVG object>"
      ]
     },
     "metadata": {},
     "output_type": "display_data"
    },
    {
     "data": {
      "image/svg+xml": [
       "<svg xmlns=\"http://www.w3.org/2000/svg\" xmlns:ev=\"http://www.w3.org/2001/xml-events\" xmlns:xlink=\"http://www.w3.org/1999/xlink\" baseProfile=\"full\" height=\"120\" version=\"1.1\" width=\"120\"><defs/><rect fill=\"#98b3de\" height=\"77\" rx=\"10\" ry=\"10\" width=\"100%\" x=\"0.0\" y=\"21.5\"/><text alignment-baseline=\"middle\" fill=\"#ffffff\" font-family=\"Arial\" font-size=\"45\" font-weight=\"bold\" text-anchor=\"middle\" x=\"50%\" y=\"53%\">17</text></svg>"
      ],
      "text/plain": [
       "<IPython.core.display.SVG object>"
      ]
     },
     "metadata": {},
     "output_type": "display_data"
    },
    {
     "data": {
      "image/svg+xml": [
       "<svg xmlns=\"http://www.w3.org/2000/svg\" xmlns:ev=\"http://www.w3.org/2001/xml-events\" xmlns:xlink=\"http://www.w3.org/1999/xlink\" baseProfile=\"full\" height=\"120\" version=\"1.1\" width=\"120\"><defs/><rect fill=\"#b80b4b\" height=\"77\" rx=\"10\" ry=\"10\" width=\"100%\" x=\"0.0\" y=\"21.5\"/><text alignment-baseline=\"middle\" fill=\"#ffffff\" font-family=\"Arial\" font-size=\"45\" font-weight=\"bold\" text-anchor=\"middle\" x=\"50%\" y=\"53%\">701</text></svg>"
      ],
      "text/plain": [
       "<IPython.core.display.SVG object>"
      ]
     },
     "metadata": {},
     "output_type": "display_data"
    },
    {
     "data": {
      "image/svg+xml": [
       "<svg xmlns=\"http://www.w3.org/2000/svg\" xmlns:ev=\"http://www.w3.org/2001/xml-events\" xmlns:xlink=\"http://www.w3.org/1999/xlink\" baseProfile=\"full\" height=\"120\" version=\"1.1\" width=\"120\"><defs/><rect fill=\"#5191cd\" height=\"77\" rx=\"10\" ry=\"10\" width=\"100%\" x=\"0.0\" y=\"21.5\"/><text alignment-baseline=\"middle\" fill=\"#ffffff\" font-family=\"Arial\" font-size=\"45\" font-weight=\"bold\" text-anchor=\"middle\" x=\"50%\" y=\"53%\">703</text></svg>"
      ],
      "text/plain": [
       "<IPython.core.display.SVG object>"
      ]
     },
     "metadata": {},
     "output_type": "display_data"
    },
    {
     "data": {
      "image/svg+xml": [
       "<svg xmlns=\"http://www.w3.org/2000/svg\" xmlns:ev=\"http://www.w3.org/2001/xml-events\" xmlns:xlink=\"http://www.w3.org/1999/xlink\" baseProfile=\"full\" height=\"120\" version=\"1.1\" width=\"120\"><defs/><rect fill=\"#98d4e2\" height=\"77\" rx=\"10\" ry=\"10\" width=\"100%\" x=\"0.0\" y=\"21.5\"/><text alignment-baseline=\"middle\" fill=\"#000000\" font-family=\"Arial\" font-size=\"45\" font-weight=\"bold\" text-anchor=\"middle\" x=\"50%\" y=\"53%\">705</text></svg>"
      ],
      "text/plain": [
       "<IPython.core.display.SVG object>"
      ]
     },
     "metadata": {},
     "output_type": "display_data"
    },
    {
     "data": {
      "image/svg+xml": [
       "<svg xmlns=\"http://www.w3.org/2000/svg\" xmlns:ev=\"http://www.w3.org/2001/xml-events\" xmlns:xlink=\"http://www.w3.org/1999/xlink\" baseProfile=\"full\" height=\"120\" version=\"1.1\" width=\"120\"><defs/><rect fill=\"#e3b326\" height=\"77\" rx=\"10\" ry=\"10\" width=\"100%\" x=\"0.0\" y=\"21.5\"/><text alignment-baseline=\"middle\" fill=\"#000000\" font-family=\"Arial\" font-size=\"45\" font-weight=\"bold\" text-anchor=\"middle\" x=\"50%\" y=\"53%\">709</text></svg>"
      ],
      "text/plain": [
       "<IPython.core.display.SVG object>"
      ]
     },
     "metadata": {},
     "output_type": "display_data"
    },
    {
     "data": {
      "image/svg+xml": [
       "<svg xmlns=\"http://www.w3.org/2000/svg\" xmlns:ev=\"http://www.w3.org/2001/xml-events\" xmlns:xlink=\"http://www.w3.org/1999/xlink\" baseProfile=\"full\" height=\"120\" version=\"1.1\" width=\"120\"><defs/><rect fill=\"#df9aa0\" height=\"77\" rx=\"10\" ry=\"10\" width=\"100%\" x=\"0.0\" y=\"21.5\"/><text alignment-baseline=\"middle\" fill=\"#ffffff\" font-family=\"Arial\" font-size=\"45\" font-weight=\"bold\" text-anchor=\"middle\" x=\"50%\" y=\"53%\">714</text></svg>"
      ],
      "text/plain": [
       "<IPython.core.display.SVG object>"
      ]
     },
     "metadata": {},
     "output_type": "display_data"
    },
    {
     "data": {
      "image/svg+xml": [
       "<svg xmlns=\"http://www.w3.org/2000/svg\" xmlns:ev=\"http://www.w3.org/2001/xml-events\" xmlns:xlink=\"http://www.w3.org/1999/xlink\" baseProfile=\"full\" height=\"120\" version=\"1.1\" width=\"120\"><defs/><rect fill=\"#97b9e2\" height=\"77\" rx=\"10\" ry=\"10\" width=\"100%\" x=\"0.0\" y=\"21.5\"/><text alignment-baseline=\"middle\" fill=\"#000000\" font-family=\"Arial\" font-size=\"45\" font-weight=\"bold\" text-anchor=\"middle\" x=\"50%\" y=\"53%\">9</text></svg>"
      ],
      "text/plain": [
       "<IPython.core.display.SVG object>"
      ]
     },
     "metadata": {},
     "output_type": "display_data"
    },
    {
     "data": {
      "image/svg+xml": [
       "<svg xmlns=\"http://www.w3.org/2000/svg\" xmlns:ev=\"http://www.w3.org/2001/xml-events\" xmlns:xlink=\"http://www.w3.org/1999/xlink\" baseProfile=\"full\" height=\"120\" version=\"1.1\" width=\"120\"><defs/><rect fill=\"#96c0e8\" height=\"77\" rx=\"10\" ry=\"10\" width=\"100%\" x=\"0.0\" y=\"21.5\"/><text alignment-baseline=\"middle\" fill=\"#000000\" font-family=\"Arial\" font-size=\"45\" font-weight=\"bold\" text-anchor=\"middle\" x=\"50%\" y=\"53%\">05</text></svg>"
      ],
      "text/plain": [
       "<IPython.core.display.SVG object>"
      ]
     },
     "metadata": {},
     "output_type": "display_data"
    },
    {
     "data": {
      "image/svg+xml": [
       "<svg xmlns=\"http://www.w3.org/2000/svg\" xmlns:ev=\"http://www.w3.org/2001/xml-events\" xmlns:xlink=\"http://www.w3.org/1999/xlink\" baseProfile=\"full\" height=\"120\" version=\"1.1\" width=\"120\"><defs/><rect fill=\"#f5a488\" height=\"77\" rx=\"10\" ry=\"10\" width=\"100%\" x=\"0.0\" y=\"21.5\"/><text alignment-baseline=\"middle\" fill=\"#000000\" font-family=\"Arial\" font-size=\"45\" font-weight=\"bold\" text-anchor=\"middle\" x=\"50%\" y=\"53%\">19</text></svg>"
      ],
      "text/plain": [
       "<IPython.core.display.SVG object>"
      ]
     },
     "metadata": {},
     "output_type": "display_data"
    },
    {
     "data": {
      "image/svg+xml": [
       "<svg xmlns=\"http://www.w3.org/2000/svg\" xmlns:ev=\"http://www.w3.org/2001/xml-events\" xmlns:xlink=\"http://www.w3.org/1999/xlink\" baseProfile=\"full\" height=\"120\" version=\"1.1\" width=\"120\"><defs/><rect fill=\"#fee900\" height=\"77\" rx=\"10\" ry=\"10\" width=\"100%\" x=\"0.0\" y=\"21.5\"/><text alignment-baseline=\"middle\" fill=\"#000000\" font-family=\"Arial\" font-size=\"45\" font-weight=\"bold\" text-anchor=\"middle\" x=\"50%\" y=\"53%\">89</text></svg>"
      ],
      "text/plain": [
       "<IPython.core.display.SVG object>"
      ]
     },
     "metadata": {},
     "output_type": "display_data"
    },
    {
     "data": {
      "image/svg+xml": [
       "<svg xmlns=\"http://www.w3.org/2000/svg\" xmlns:ev=\"http://www.w3.org/2001/xml-events\" xmlns:xlink=\"http://www.w3.org/1999/xlink\" baseProfile=\"full\" height=\"120\" version=\"1.1\" width=\"120\"><defs/><rect fill=\"#ff1400\" height=\"77\" rx=\"10\" ry=\"10\" width=\"100%\" x=\"0.0\" y=\"21.5\"/><text alignment-baseline=\"middle\" fill=\"#ffffff\" font-family=\"Arial\" font-size=\"45\" font-weight=\"bold\" text-anchor=\"middle\" x=\"50%\" y=\"53%\">1</text></svg>"
      ],
      "text/plain": [
       "<IPython.core.display.SVG object>"
      ]
     },
     "metadata": {},
     "output_type": "display_data"
    },
    {
     "data": {
      "image/svg+xml": [
       "<svg xmlns=\"http://www.w3.org/2000/svg\" xmlns:ev=\"http://www.w3.org/2001/xml-events\" xmlns:xlink=\"http://www.w3.org/1999/xlink\" baseProfile=\"full\" height=\"120\" version=\"1.1\" width=\"120\"><defs/><rect fill=\"#f51cff\" height=\"77\" rx=\"10\" ry=\"10\" width=\"100%\" x=\"0.0\" y=\"21.5\"/><text alignment-baseline=\"middle\" fill=\"#ffffff\" font-family=\"Arial\" font-size=\"45\" font-weight=\"bold\" text-anchor=\"middle\" x=\"50%\" y=\"53%\">12</text></svg>"
      ],
      "text/plain": [
       "<IPython.core.display.SVG object>"
      ]
     },
     "metadata": {},
     "output_type": "display_data"
    },
    {
     "data": {
      "image/svg+xml": [
       "<svg xmlns=\"http://www.w3.org/2000/svg\" xmlns:ev=\"http://www.w3.org/2001/xml-events\" xmlns:xlink=\"http://www.w3.org/1999/xlink\" baseProfile=\"full\" height=\"120\" version=\"1.1\" width=\"120\"><defs/><rect fill=\"#73c6c8\" height=\"77\" rx=\"10\" ry=\"10\" width=\"100%\" x=\"0.0\" y=\"21.5\"/><text alignment-baseline=\"middle\" fill=\"#ffffff\" font-family=\"Arial\" font-size=\"45\" font-weight=\"bold\" text-anchor=\"middle\" x=\"50%\" y=\"53%\">20</text></svg>"
      ],
      "text/plain": [
       "<IPython.core.display.SVG object>"
      ]
     },
     "metadata": {},
     "output_type": "display_data"
    },
    {
     "data": {
      "image/svg+xml": [
       "<svg xmlns=\"http://www.w3.org/2000/svg\" xmlns:ev=\"http://www.w3.org/2001/xml-events\" xmlns:xlink=\"http://www.w3.org/1999/xlink\" baseProfile=\"full\" height=\"120\" version=\"1.1\" width=\"120\"><defs/><rect fill=\"#6e6e00\" height=\"77\" rx=\"10\" ry=\"10\" width=\"100%\" x=\"0.0\" y=\"21.5\"/><text alignment-baseline=\"middle\" fill=\"#ffffff\" font-family=\"Arial\" font-size=\"45\" font-weight=\"bold\" text-anchor=\"middle\" x=\"50%\" y=\"53%\">32</text></svg>"
      ],
      "text/plain": [
       "<IPython.core.display.SVG object>"
      ]
     },
     "metadata": {},
     "output_type": "display_data"
    },
    {
     "data": {
      "image/svg+xml": [
       "<svg xmlns=\"http://www.w3.org/2000/svg\" xmlns:ev=\"http://www.w3.org/2001/xml-events\" xmlns:xlink=\"http://www.w3.org/1999/xlink\" baseProfile=\"full\" height=\"120\" version=\"1.1\" width=\"120\"><defs/><rect fill=\"#651235\" height=\"77\" rx=\"10\" ry=\"10\" width=\"100%\" x=\"0.0\" y=\"21.5\"/><text alignment-baseline=\"middle\" fill=\"#ffffff\" font-family=\"Arial\" font-size=\"45\" font-weight=\"bold\" text-anchor=\"middle\" x=\"50%\" y=\"53%\">111</text></svg>"
      ],
      "text/plain": [
       "<IPython.core.display.SVG object>"
      ]
     },
     "metadata": {},
     "output_type": "display_data"
    },
    {
     "data": {
      "image/svg+xml": [
       "<svg xmlns=\"http://www.w3.org/2000/svg\" xmlns:ev=\"http://www.w3.org/2001/xml-events\" xmlns:xlink=\"http://www.w3.org/1999/xlink\" baseProfile=\"full\" height=\"120\" version=\"1.1\" width=\"120\"><defs/><rect fill=\"#dc9600\" height=\"77\" rx=\"10\" ry=\"10\" width=\"100%\" x=\"0.0\" y=\"21.5\"/><text alignment-baseline=\"middle\" fill=\"#000000\" font-family=\"Arial\" font-size=\"45\" font-weight=\"bold\" text-anchor=\"middle\" x=\"50%\" y=\"53%\">N42</text></svg>"
      ],
      "text/plain": [
       "<IPython.core.display.SVG object>"
      ]
     },
     "metadata": {},
     "output_type": "display_data"
    },
    {
     "data": {
      "image/svg+xml": [
       "<svg xmlns=\"http://www.w3.org/2000/svg\" xmlns:ev=\"http://www.w3.org/2001/xml-events\" xmlns:xlink=\"http://www.w3.org/1999/xlink\" baseProfile=\"full\" height=\"120\" version=\"1.1\" width=\"120\"><defs/><rect fill=\"#045ba3\" height=\"77\" rx=\"10\" ry=\"10\" width=\"100%\" x=\"0.0\" y=\"21.5\"/><text alignment-baseline=\"middle\" fill=\"#ffffff\" font-family=\"Arial\" font-size=\"45\" font-weight=\"bold\" text-anchor=\"middle\" x=\"50%\" y=\"53%\">103</text></svg>"
      ],
      "text/plain": [
       "<IPython.core.display.SVG object>"
      ]
     },
     "metadata": {},
     "output_type": "display_data"
    },
    {
     "data": {
      "image/svg+xml": [
       "<svg xmlns=\"http://www.w3.org/2000/svg\" xmlns:ev=\"http://www.w3.org/2001/xml-events\" xmlns:xlink=\"http://www.w3.org/1999/xlink\" baseProfile=\"full\" height=\"120\" version=\"1.1\" width=\"120\"><defs/><rect fill=\"#82dc73\" height=\"77\" rx=\"10\" ry=\"10\" width=\"100%\" x=\"0.0\" y=\"21.5\"/><text alignment-baseline=\"middle\" fill=\"#000000\" font-family=\"Arial\" font-size=\"45\" font-weight=\"bold\" text-anchor=\"middle\" x=\"50%\" y=\"53%\">93</text></svg>"
      ],
      "text/plain": [
       "<IPython.core.display.SVG object>"
      ]
     },
     "metadata": {},
     "output_type": "display_data"
    },
    {
     "data": {
      "image/svg+xml": [
       "<svg xmlns=\"http://www.w3.org/2000/svg\" xmlns:ev=\"http://www.w3.org/2001/xml-events\" xmlns:xlink=\"http://www.w3.org/1999/xlink\" baseProfile=\"full\" height=\"120\" version=\"1.1\" width=\"120\"><defs/><rect fill=\"#71cc98\" height=\"77\" rx=\"10\" ry=\"10\" width=\"100%\" x=\"0.0\" y=\"21.5\"/><text alignment-baseline=\"middle\" fill=\"#000000\" font-family=\"Arial\" font-size=\"45\" font-weight=\"bold\" text-anchor=\"middle\" x=\"50%\" y=\"53%\">04</text></svg>"
      ],
      "text/plain": [
       "<IPython.core.display.SVG object>"
      ]
     },
     "metadata": {},
     "output_type": "display_data"
    },
    {
     "data": {
      "image/svg+xml": [
       "<svg xmlns=\"http://www.w3.org/2000/svg\" xmlns:ev=\"http://www.w3.org/2001/xml-events\" xmlns:xlink=\"http://www.w3.org/1999/xlink\" baseProfile=\"full\" height=\"120\" version=\"1.1\" width=\"120\"><defs/><rect fill=\"#9cfa00\" height=\"77\" rx=\"10\" ry=\"10\" width=\"100%\" x=\"0.0\" y=\"21.5\"/><text alignment-baseline=\"middle\" fill=\"#000000\" font-family=\"Arial\" font-size=\"45\" font-weight=\"bold\" text-anchor=\"middle\" x=\"50%\" y=\"53%\">17</text></svg>"
      ],
      "text/plain": [
       "<IPython.core.display.SVG object>"
      ]
     },
     "metadata": {},
     "output_type": "display_data"
    },
    {
     "data": {
      "image/svg+xml": [
       "<svg xmlns=\"http://www.w3.org/2000/svg\" xmlns:ev=\"http://www.w3.org/2001/xml-events\" xmlns:xlink=\"http://www.w3.org/1999/xlink\" baseProfile=\"full\" height=\"120\" version=\"1.1\" width=\"120\"><defs/><rect fill=\"#00b397\" height=\"77\" rx=\"10\" ry=\"10\" width=\"100%\" x=\"0.0\" y=\"21.5\"/><text alignment-baseline=\"middle\" fill=\"#ffffff\" font-family=\"Arial\" font-size=\"45\" font-weight=\"bold\" text-anchor=\"middle\" x=\"50%\" y=\"53%\">66</text></svg>"
      ],
      "text/plain": [
       "<IPython.core.display.SVG object>"
      ]
     },
     "metadata": {},
     "output_type": "display_data"
    },
    {
     "data": {
      "image/svg+xml": [
       "<svg xmlns=\"http://www.w3.org/2000/svg\" xmlns:ev=\"http://www.w3.org/2001/xml-events\" xmlns:xlink=\"http://www.w3.org/1999/xlink\" baseProfile=\"full\" height=\"120\" version=\"1.1\" width=\"120\"><defs/><rect fill=\"#33ff00\" height=\"77\" rx=\"10\" ry=\"10\" width=\"100%\" x=\"0.0\" y=\"21.5\"/><text alignment-baseline=\"middle\" fill=\"#000000\" font-family=\"Arial\" font-size=\"45\" font-weight=\"bold\" text-anchor=\"middle\" x=\"50%\" y=\"53%\">37</text></svg>"
      ],
      "text/plain": [
       "<IPython.core.display.SVG object>"
      ]
     },
     "metadata": {},
     "output_type": "display_data"
    },
    {
     "data": {
      "image/svg+xml": [
       "<svg xmlns=\"http://www.w3.org/2000/svg\" xmlns:ev=\"http://www.w3.org/2001/xml-events\" xmlns:xlink=\"http://www.w3.org/1999/xlink\" baseProfile=\"full\" height=\"120\" version=\"1.1\" width=\"120\"><defs/><rect fill=\"#efa602\" height=\"77\" rx=\"10\" ry=\"10\" width=\"100%\" x=\"0.0\" y=\"21.5\"/><text alignment-baseline=\"middle\" fill=\"#ffffff\" font-family=\"Arial\" font-size=\"45\" font-weight=\"bold\" text-anchor=\"middle\" x=\"50%\" y=\"53%\">403</text></svg>"
      ],
      "text/plain": [
       "<IPython.core.display.SVG object>"
      ]
     },
     "metadata": {},
     "output_type": "display_data"
    },
    {
     "data": {
      "image/svg+xml": [
       "<svg xmlns=\"http://www.w3.org/2000/svg\" xmlns:ev=\"http://www.w3.org/2001/xml-events\" xmlns:xlink=\"http://www.w3.org/1999/xlink\" baseProfile=\"full\" height=\"120\" version=\"1.1\" width=\"120\"><defs/><rect fill=\"#00ff00\" height=\"77\" rx=\"10\" ry=\"10\" width=\"100%\" x=\"0.0\" y=\"21.5\"/><text alignment-baseline=\"middle\" fill=\"#000000\" font-family=\"Arial\" font-size=\"45\" font-weight=\"bold\" text-anchor=\"middle\" x=\"50%\" y=\"53%\">4</text></svg>"
      ],
      "text/plain": [
       "<IPython.core.display.SVG object>"
      ]
     },
     "metadata": {},
     "output_type": "display_data"
    },
    {
     "data": {
      "image/svg+xml": [
       "<svg xmlns=\"http://www.w3.org/2000/svg\" xmlns:ev=\"http://www.w3.org/2001/xml-events\" xmlns:xlink=\"http://www.w3.org/1999/xlink\" baseProfile=\"full\" height=\"120\" version=\"1.1\" width=\"120\"><defs/><rect fill=\"#8d653d\" height=\"77\" rx=\"10\" ry=\"10\" width=\"100%\" x=\"0.0\" y=\"21.5\"/><text alignment-baseline=\"middle\" fill=\"#ffffff\" font-family=\"Arial\" font-size=\"45\" font-weight=\"bold\" text-anchor=\"middle\" x=\"50%\" y=\"53%\">21</text></svg>"
      ],
      "text/plain": [
       "<IPython.core.display.SVG object>"
      ]
     },
     "metadata": {},
     "output_type": "display_data"
    },
    {
     "data": {
      "image/svg+xml": [
       "<svg xmlns=\"http://www.w3.org/2000/svg\" xmlns:ev=\"http://www.w3.org/2001/xml-events\" xmlns:xlink=\"http://www.w3.org/1999/xlink\" baseProfile=\"full\" height=\"120\" version=\"1.1\" width=\"120\"><defs/><rect fill=\"#a0006e\" height=\"77\" rx=\"10\" ry=\"10\" width=\"100%\" x=\"0.0\" y=\"21.5\"/><text alignment-baseline=\"middle\" fill=\"#ffffff\" font-family=\"Arial\" font-size=\"45\" font-weight=\"bold\" text-anchor=\"middle\" x=\"50%\" y=\"53%\">36</text></svg>"
      ],
      "text/plain": [
       "<IPython.core.display.SVG object>"
      ]
     },
     "metadata": {},
     "output_type": "display_data"
    },
    {
     "data": {
      "image/svg+xml": [
       "<svg xmlns=\"http://www.w3.org/2000/svg\" xmlns:ev=\"http://www.w3.org/2001/xml-events\" xmlns:xlink=\"http://www.w3.org/1999/xlink\" baseProfile=\"full\" height=\"120\" version=\"1.1\" width=\"120\"><defs/><rect fill=\"#e69138\" height=\"77\" rx=\"10\" ry=\"10\" width=\"100%\" x=\"0.0\" y=\"21.5\"/><text alignment-baseline=\"middle\" fill=\"#000000\" font-family=\"Arial\" font-size=\"45\" font-weight=\"bold\" text-anchor=\"middle\" x=\"50%\" y=\"53%\">34S2</text></svg>"
      ],
      "text/plain": [
       "<IPython.core.display.SVG object>"
      ]
     },
     "metadata": {},
     "output_type": "display_data"
    },
    {
     "data": {
      "image/svg+xml": [
       "<svg xmlns=\"http://www.w3.org/2000/svg\" xmlns:ev=\"http://www.w3.org/2001/xml-events\" xmlns:xlink=\"http://www.w3.org/1999/xlink\" baseProfile=\"full\" height=\"120\" version=\"1.1\" width=\"120\"><defs/><rect fill=\"#65318f\" height=\"77\" rx=\"10\" ry=\"10\" width=\"100%\" x=\"0.0\" y=\"21.5\"/><text alignment-baseline=\"middle\" fill=\"#ffffff\" font-family=\"Arial\" font-size=\"45\" font-weight=\"bold\" text-anchor=\"middle\" x=\"50%\" y=\"53%\">26</text></svg>"
      ],
      "text/plain": [
       "<IPython.core.display.SVG object>"
      ]
     },
     "metadata": {},
     "output_type": "display_data"
    },
    {
     "data": {
      "image/svg+xml": [
       "<svg xmlns=\"http://www.w3.org/2000/svg\" xmlns:ev=\"http://www.w3.org/2001/xml-events\" xmlns:xlink=\"http://www.w3.org/1999/xlink\" baseProfile=\"full\" height=\"120\" version=\"1.1\" width=\"120\"><defs/><rect fill=\"#77b5fe\" height=\"77\" rx=\"10\" ry=\"10\" width=\"100%\" x=\"0.0\" y=\"21.5\"/><text alignment-baseline=\"middle\" fill=\"#000000\" font-family=\"Arial\" font-size=\"45\" font-weight=\"bold\" text-anchor=\"middle\" x=\"50%\" y=\"53%\">5</text></svg>"
      ],
      "text/plain": [
       "<IPython.core.display.SVG object>"
      ]
     },
     "metadata": {},
     "output_type": "display_data"
    },
    {
     "data": {
      "image/svg+xml": [
       "<svg xmlns=\"http://www.w3.org/2000/svg\" xmlns:ev=\"http://www.w3.org/2001/xml-events\" xmlns:xlink=\"http://www.w3.org/1999/xlink\" baseProfile=\"full\" height=\"120\" version=\"1.1\" width=\"120\"><defs/><rect fill=\"#82dc73\" height=\"77\" rx=\"10\" ry=\"10\" width=\"100%\" x=\"0.0\" y=\"21.5\"/><text alignment-baseline=\"middle\" fill=\"#000000\" font-family=\"Arial\" font-size=\"45\" font-weight=\"bold\" text-anchor=\"middle\" x=\"50%\" y=\"53%\">21</text></svg>"
      ],
      "text/plain": [
       "<IPython.core.display.SVG object>"
      ]
     },
     "metadata": {},
     "output_type": "display_data"
    },
    {
     "data": {
      "image/svg+xml": [
       "<svg xmlns=\"http://www.w3.org/2000/svg\" xmlns:ev=\"http://www.w3.org/2001/xml-events\" xmlns:xlink=\"http://www.w3.org/1999/xlink\" baseProfile=\"full\" height=\"120\" version=\"1.1\" width=\"120\"><defs/><rect fill=\"#6e6e00\" height=\"77\" rx=\"10\" ry=\"10\" width=\"100%\" x=\"0.0\" y=\"21.5\"/><text alignment-baseline=\"middle\" fill=\"#ffffff\" font-family=\"Arial\" font-size=\"45\" font-weight=\"bold\" text-anchor=\"middle\" x=\"50%\" y=\"53%\">43</text></svg>"
      ],
      "text/plain": [
       "<IPython.core.display.SVG object>"
      ]
     },
     "metadata": {},
     "output_type": "display_data"
    },
    {
     "data": {
      "image/svg+xml": [
       "<svg xmlns=\"http://www.w3.org/2000/svg\" xmlns:ev=\"http://www.w3.org/2001/xml-events\" xmlns:xlink=\"http://www.w3.org/1999/xlink\" baseProfile=\"full\" height=\"120\" version=\"1.1\" width=\"120\"><defs/><rect fill=\"#82c8e6\" height=\"77\" rx=\"10\" ry=\"10\" width=\"100%\" x=\"0.0\" y=\"21.5\"/><text alignment-baseline=\"middle\" fill=\"#000000\" font-family=\"Arial\" font-size=\"45\" font-weight=\"bold\" text-anchor=\"middle\" x=\"50%\" y=\"53%\">58</text></svg>"
      ],
      "text/plain": [
       "<IPython.core.display.SVG object>"
      ]
     },
     "metadata": {},
     "output_type": "display_data"
    },
    {
     "data": {
      "image/svg+xml": [
       "<svg xmlns=\"http://www.w3.org/2000/svg\" xmlns:ev=\"http://www.w3.org/2001/xml-events\" xmlns:xlink=\"http://www.w3.org/1999/xlink\" baseProfile=\"full\" height=\"120\" version=\"1.1\" width=\"120\"><defs/><rect fill=\"#b5539a\" height=\"77\" rx=\"10\" ry=\"10\" width=\"100%\" x=\"0.0\" y=\"21.5\"/><text alignment-baseline=\"middle\" fill=\"#ffffff\" font-family=\"Arial\" font-size=\"45\" font-weight=\"bold\" text-anchor=\"middle\" x=\"50%\" y=\"53%\">64</text></svg>"
      ],
      "text/plain": [
       "<IPython.core.display.SVG object>"
      ]
     },
     "metadata": {},
     "output_type": "display_data"
    },
    {
     "data": {
      "image/svg+xml": [
       "<svg xmlns=\"http://www.w3.org/2000/svg\" xmlns:ev=\"http://www.w3.org/2001/xml-events\" xmlns:xlink=\"http://www.w3.org/1999/xlink\" baseProfile=\"full\" height=\"120\" version=\"1.1\" width=\"120\"><defs/><rect fill=\"#b6de92\" height=\"77\" rx=\"10\" ry=\"10\" width=\"100%\" x=\"0.0\" y=\"21.5\"/><text alignment-baseline=\"middle\" fill=\"#000000\" font-family=\"Arial\" font-size=\"45\" font-weight=\"bold\" text-anchor=\"middle\" x=\"50%\" y=\"53%\">26</text></svg>"
      ],
      "text/plain": [
       "<IPython.core.display.SVG object>"
      ]
     },
     "metadata": {},
     "output_type": "display_data"
    },
    {
     "data": {
      "image/svg+xml": [
       "<svg xmlns=\"http://www.w3.org/2000/svg\" xmlns:ev=\"http://www.w3.org/2001/xml-events\" xmlns:xlink=\"http://www.w3.org/1999/xlink\" baseProfile=\"full\" height=\"120\" version=\"1.1\" width=\"120\"><defs/><rect fill=\"#a69514\" height=\"77\" rx=\"10\" ry=\"10\" width=\"100%\" x=\"0.0\" y=\"21.5\"/><text alignment-baseline=\"middle\" fill=\"#ffffff\" font-family=\"Arial\" font-size=\"45\" font-weight=\"bold\" text-anchor=\"middle\" x=\"50%\" y=\"53%\">9A</text></svg>"
      ],
      "text/plain": [
       "<IPython.core.display.SVG object>"
      ]
     },
     "metadata": {},
     "output_type": "display_data"
    },
    {
     "data": {
      "image/svg+xml": [
       "<svg xmlns=\"http://www.w3.org/2000/svg\" xmlns:ev=\"http://www.w3.org/2001/xml-events\" xmlns:xlink=\"http://www.w3.org/1999/xlink\" baseProfile=\"full\" height=\"120\" version=\"1.1\" width=\"120\"><defs/><rect fill=\"#ebdb01\" height=\"77\" rx=\"10\" ry=\"10\" width=\"100%\" x=\"0.0\" y=\"21.5\"/><text alignment-baseline=\"middle\" fill=\"#000000\" font-family=\"Arial\" font-size=\"45\" font-weight=\"bold\" text-anchor=\"middle\" x=\"50%\" y=\"53%\">36</text></svg>"
      ],
      "text/plain": [
       "<IPython.core.display.SVG object>"
      ]
     },
     "metadata": {},
     "output_type": "display_data"
    },
    {
     "data": {
      "image/svg+xml": [
       "<svg xmlns=\"http://www.w3.org/2000/svg\" xmlns:ev=\"http://www.w3.org/2001/xml-events\" xmlns:xlink=\"http://www.w3.org/1999/xlink\" baseProfile=\"full\" height=\"120\" version=\"1.1\" width=\"120\"><defs/><rect fill=\"#ff5a00\" height=\"77\" rx=\"10\" ry=\"10\" width=\"100%\" x=\"0.0\" y=\"21.5\"/><text alignment-baseline=\"middle\" fill=\"#000000\" font-family=\"Arial\" font-size=\"45\" font-weight=\"bold\" text-anchor=\"middle\" x=\"50%\" y=\"53%\">27</text></svg>"
      ],
      "text/plain": [
       "<IPython.core.display.SVG object>"
      ]
     },
     "metadata": {},
     "output_type": "display_data"
    },
    {
     "data": {
      "image/svg+xml": [
       "<svg xmlns=\"http://www.w3.org/2000/svg\" xmlns:ev=\"http://www.w3.org/2001/xml-events\" xmlns:xlink=\"http://www.w3.org/1999/xlink\" baseProfile=\"full\" height=\"120\" version=\"1.1\" width=\"120\"><defs/><rect fill=\"#f178ae\" height=\"77\" rx=\"10\" ry=\"10\" width=\"100%\" x=\"0.0\" y=\"21.5\"/><text alignment-baseline=\"middle\" fill=\"#000000\" font-family=\"Arial\" font-size=\"45\" font-weight=\"bold\" text-anchor=\"middle\" x=\"50%\" y=\"53%\">12</text></svg>"
      ],
      "text/plain": [
       "<IPython.core.display.SVG object>"
      ]
     },
     "metadata": {},
     "output_type": "display_data"
    },
    {
     "data": {
      "image/svg+xml": [
       "<svg xmlns=\"http://www.w3.org/2000/svg\" xmlns:ev=\"http://www.w3.org/2001/xml-events\" xmlns:xlink=\"http://www.w3.org/1999/xlink\" baseProfile=\"full\" height=\"120\" version=\"1.1\" width=\"120\"><defs/><rect fill=\"#cc7f3c\" height=\"77\" rx=\"10\" ry=\"10\" width=\"100%\" x=\"0.0\" y=\"21.5\"/><text alignment-baseline=\"middle\" fill=\"#000000\" font-family=\"Arial\" font-size=\"45\" font-weight=\"bold\" text-anchor=\"middle\" x=\"50%\" y=\"53%\">34</text></svg>"
      ],
      "text/plain": [
       "<IPython.core.display.SVG object>"
      ]
     },
     "metadata": {},
     "output_type": "display_data"
    },
    {
     "data": {
      "image/svg+xml": [
       "<svg xmlns=\"http://www.w3.org/2000/svg\" xmlns:ev=\"http://www.w3.org/2001/xml-events\" xmlns:xlink=\"http://www.w3.org/1999/xlink\" baseProfile=\"full\" height=\"120\" version=\"1.1\" width=\"120\"><defs/><rect fill=\"#ffff00\" height=\"77\" rx=\"10\" ry=\"10\" width=\"100%\" x=\"0.0\" y=\"21.5\"/><text alignment-baseline=\"middle\" fill=\"#000000\" font-family=\"Arial\" font-size=\"45\" font-weight=\"bold\" text-anchor=\"middle\" x=\"50%\" y=\"53%\">42</text></svg>"
      ],
      "text/plain": [
       "<IPython.core.display.SVG object>"
      ]
     },
     "metadata": {},
     "output_type": "display_data"
    },
    {
     "data": {
      "image/svg+xml": [
       "<svg xmlns=\"http://www.w3.org/2000/svg\" xmlns:ev=\"http://www.w3.org/2001/xml-events\" xmlns:xlink=\"http://www.w3.org/1999/xlink\" baseProfile=\"full\" height=\"120\" version=\"1.1\" width=\"120\"><defs/><rect fill=\"#fbba00\" height=\"77\" rx=\"10\" ry=\"10\" width=\"100%\" x=\"0.0\" y=\"21.5\"/><text alignment-baseline=\"middle\" fill=\"#000000\" font-family=\"Arial\" font-size=\"45\" font-weight=\"bold\" text-anchor=\"middle\" x=\"50%\" y=\"53%\">14</text></svg>"
      ],
      "text/plain": [
       "<IPython.core.display.SVG object>"
      ]
     },
     "metadata": {},
     "output_type": "display_data"
    },
    {
     "data": {
      "image/svg+xml": [
       "<svg xmlns=\"http://www.w3.org/2000/svg\" xmlns:ev=\"http://www.w3.org/2001/xml-events\" xmlns:xlink=\"http://www.w3.org/1999/xlink\" baseProfile=\"full\" height=\"120\" version=\"1.1\" width=\"120\"><defs/><rect fill=\"#00643c\" height=\"77\" rx=\"10\" ry=\"10\" width=\"100%\" x=\"0.0\" y=\"21.5\"/><text alignment-baseline=\"middle\" fill=\"#ffffff\" font-family=\"Arial\" font-size=\"45\" font-weight=\"bold\" text-anchor=\"middle\" x=\"50%\" y=\"53%\">61</text></svg>"
      ],
      "text/plain": [
       "<IPython.core.display.SVG object>"
      ]
     },
     "metadata": {},
     "output_type": "display_data"
    },
    {
     "data": {
      "image/svg+xml": [
       "<svg xmlns=\"http://www.w3.org/2000/svg\" xmlns:ev=\"http://www.w3.org/2001/xml-events\" xmlns:xlink=\"http://www.w3.org/1999/xlink\" baseProfile=\"full\" height=\"120\" version=\"1.1\" width=\"120\"><defs/><rect fill=\"#640082\" height=\"77\" rx=\"10\" ry=\"10\" width=\"100%\" x=\"0.0\" y=\"21.5\"/><text alignment-baseline=\"middle\" fill=\"#ffffff\" font-family=\"Arial\" font-size=\"45\" font-weight=\"bold\" text-anchor=\"middle\" x=\"50%\" y=\"53%\">110</text></svg>"
      ],
      "text/plain": [
       "<IPython.core.display.SVG object>"
      ]
     },
     "metadata": {},
     "output_type": "display_data"
    },
    {
     "data": {
      "image/svg+xml": [
       "<svg xmlns=\"http://www.w3.org/2000/svg\" xmlns:ev=\"http://www.w3.org/2001/xml-events\" xmlns:xlink=\"http://www.w3.org/1999/xlink\" baseProfile=\"full\" height=\"120\" version=\"1.1\" width=\"120\"><defs/><rect fill=\"#82c8e6\" height=\"77\" rx=\"10\" ry=\"10\" width=\"100%\" x=\"0.0\" y=\"21.5\"/><text alignment-baseline=\"middle\" fill=\"#000000\" font-family=\"Arial\" font-size=\"45\" font-weight=\"bold\" text-anchor=\"middle\" x=\"50%\" y=\"53%\">116</text></svg>"
      ],
      "text/plain": [
       "<IPython.core.display.SVG object>"
      ]
     },
     "metadata": {},
     "output_type": "display_data"
    },
    {
     "data": {
      "image/svg+xml": [
       "<svg xmlns=\"http://www.w3.org/2000/svg\" xmlns:ev=\"http://www.w3.org/2001/xml-events\" xmlns:xlink=\"http://www.w3.org/1999/xlink\" baseProfile=\"full\" height=\"120\" version=\"1.1\" width=\"120\"><defs/><rect fill=\"#ffbe00\" height=\"77\" rx=\"10\" ry=\"10\" width=\"100%\" x=\"0.0\" y=\"21.5\"/><text alignment-baseline=\"middle\" fill=\"#000000\" font-family=\"Arial\" font-size=\"45\" font-weight=\"bold\" text-anchor=\"middle\" x=\"50%\" y=\"53%\">119</text></svg>"
      ],
      "text/plain": [
       "<IPython.core.display.SVG object>"
      ]
     },
     "metadata": {},
     "output_type": "display_data"
    },
    {
     "data": {
      "image/svg+xml": [
       "<svg xmlns=\"http://www.w3.org/2000/svg\" xmlns:ev=\"http://www.w3.org/2001/xml-events\" xmlns:xlink=\"http://www.w3.org/1999/xlink\" baseProfile=\"full\" height=\"120\" version=\"1.1\" width=\"120\"><defs/><rect fill=\"#6e6e00\" height=\"77\" rx=\"10\" ry=\"10\" width=\"100%\" x=\"0.0\" y=\"21.5\"/><text alignment-baseline=\"middle\" fill=\"#ffffff\" font-family=\"Arial\" font-size=\"45\" font-weight=\"bold\" text-anchor=\"middle\" x=\"50%\" y=\"53%\">129</text></svg>"
      ],
      "text/plain": [
       "<IPython.core.display.SVG object>"
      ]
     },
     "metadata": {},
     "output_type": "display_data"
    },
    {
     "data": {
      "image/svg+xml": [
       "<svg xmlns=\"http://www.w3.org/2000/svg\" xmlns:ev=\"http://www.w3.org/2001/xml-events\" xmlns:xlink=\"http://www.w3.org/1999/xlink\" baseProfile=\"full\" height=\"120\" version=\"1.1\" width=\"120\"><defs/><rect fill=\"#ff1400\" height=\"77\" rx=\"10\" ry=\"10\" width=\"100%\" x=\"0.0\" y=\"21.5\"/><text alignment-baseline=\"middle\" fill=\"#ffffff\" font-family=\"Arial\" font-size=\"45\" font-weight=\"bold\" text-anchor=\"middle\" x=\"50%\" y=\"53%\">152</text></svg>"
      ],
      "text/plain": [
       "<IPython.core.display.SVG object>"
      ]
     },
     "metadata": {},
     "output_type": "display_data"
    },
    {
     "data": {
      "image/svg+xml": [
       "<svg xmlns=\"http://www.w3.org/2000/svg\" xmlns:ev=\"http://www.w3.org/2001/xml-events\" xmlns:xlink=\"http://www.w3.org/1999/xlink\" baseProfile=\"full\" height=\"120\" version=\"1.1\" width=\"120\"><defs/><rect fill=\"#82dc73\" height=\"77\" rx=\"10\" ry=\"10\" width=\"100%\" x=\"0.0\" y=\"21.5\"/><text alignment-baseline=\"middle\" fill=\"#000000\" font-family=\"Arial\" font-size=\"45\" font-weight=\"bold\" text-anchor=\"middle\" x=\"50%\" y=\"53%\">167</text></svg>"
      ],
      "text/plain": [
       "<IPython.core.display.SVG object>"
      ]
     },
     "metadata": {},
     "output_type": "display_data"
    },
    {
     "data": {
      "image/svg+xml": [
       "<svg xmlns=\"http://www.w3.org/2000/svg\" xmlns:ev=\"http://www.w3.org/2001/xml-events\" xmlns:xlink=\"http://www.w3.org/1999/xlink\" baseProfile=\"full\" height=\"120\" version=\"1.1\" width=\"120\"><defs/><rect fill=\"#00643c\" height=\"77\" rx=\"10\" ry=\"10\" width=\"100%\" x=\"0.0\" y=\"21.5\"/><text alignment-baseline=\"middle\" fill=\"#ffffff\" font-family=\"Arial\" font-size=\"45\" font-weight=\"bold\" text-anchor=\"middle\" x=\"50%\" y=\"53%\">172</text></svg>"
      ],
      "text/plain": [
       "<IPython.core.display.SVG object>"
      ]
     },
     "metadata": {},
     "output_type": "display_data"
    },
    {
     "data": {
      "image/svg+xml": [
       "<svg xmlns=\"http://www.w3.org/2000/svg\" xmlns:ev=\"http://www.w3.org/2001/xml-events\" xmlns:xlink=\"http://www.w3.org/1999/xlink\" baseProfile=\"full\" height=\"120\" version=\"1.1\" width=\"120\"><defs/><rect fill=\"#0055c8\" height=\"77\" rx=\"10\" ry=\"10\" width=\"100%\" x=\"0.0\" y=\"21.5\"/><text alignment-baseline=\"middle\" fill=\"#ffffff\" font-family=\"Arial\" font-size=\"45\" font-weight=\"bold\" text-anchor=\"middle\" x=\"50%\" y=\"53%\">175</text></svg>"
      ],
      "text/plain": [
       "<IPython.core.display.SVG object>"
      ]
     },
     "metadata": {},
     "output_type": "display_data"
    },
    {
     "data": {
      "image/svg+xml": [
       "<svg xmlns=\"http://www.w3.org/2000/svg\" xmlns:ev=\"http://www.w3.org/2001/xml-events\" xmlns:xlink=\"http://www.w3.org/1999/xlink\" baseProfile=\"full\" height=\"120\" version=\"1.1\" width=\"120\"><defs/><rect fill=\"#0055c8\" height=\"77\" rx=\"10\" ry=\"10\" width=\"100%\" x=\"0.0\" y=\"21.5\"/><text alignment-baseline=\"middle\" fill=\"#ffffff\" font-family=\"Arial\" font-size=\"45\" font-weight=\"bold\" text-anchor=\"middle\" x=\"50%\" y=\"53%\">178</text></svg>"
      ],
      "text/plain": [
       "<IPython.core.display.SVG object>"
      ]
     },
     "metadata": {},
     "output_type": "display_data"
    },
    {
     "data": {
      "image/svg+xml": [
       "<svg xmlns=\"http://www.w3.org/2000/svg\" xmlns:ev=\"http://www.w3.org/2001/xml-events\" xmlns:xlink=\"http://www.w3.org/1999/xlink\" baseProfile=\"full\" height=\"120\" version=\"1.1\" width=\"120\"><defs/><rect fill=\"#6e5b1e\" height=\"77\" rx=\"10\" ry=\"10\" width=\"100%\" x=\"0.0\" y=\"21.5\"/><text alignment-baseline=\"middle\" fill=\"#ffffff\" font-family=\"Arial\" font-size=\"45\" font-weight=\"bold\" text-anchor=\"middle\" x=\"50%\" y=\"53%\">181</text></svg>"
      ],
      "text/plain": [
       "<IPython.core.display.SVG object>"
      ]
     },
     "metadata": {},
     "output_type": "display_data"
    },
    {
     "data": {
      "image/svg+xml": [
       "<svg xmlns=\"http://www.w3.org/2000/svg\" xmlns:ev=\"http://www.w3.org/2001/xml-events\" xmlns:xlink=\"http://www.w3.org/1999/xlink\" baseProfile=\"full\" height=\"120\" version=\"1.1\" width=\"120\"><defs/><rect fill=\"#a0006e\" height=\"77\" rx=\"10\" ry=\"10\" width=\"100%\" x=\"0.0\" y=\"21.5\"/><text alignment-baseline=\"middle\" fill=\"#ffffff\" font-family=\"Arial\" font-size=\"45\" font-weight=\"bold\" text-anchor=\"middle\" x=\"50%\" y=\"53%\">186</text></svg>"
      ],
      "text/plain": [
       "<IPython.core.display.SVG object>"
      ]
     },
     "metadata": {},
     "output_type": "display_data"
    },
    {
     "data": {
      "image/svg+xml": [
       "<svg xmlns=\"http://www.w3.org/2000/svg\" xmlns:ev=\"http://www.w3.org/2001/xml-events\" xmlns:xlink=\"http://www.w3.org/1999/xlink\" baseProfile=\"full\" height=\"120\" version=\"1.1\" width=\"120\"><defs/><rect fill=\"#d282be\" height=\"77\" rx=\"10\" ry=\"10\" width=\"100%\" x=\"0.0\" y=\"21.5\"/><text alignment-baseline=\"middle\" fill=\"#000000\" font-family=\"Arial\" font-size=\"45\" font-weight=\"bold\" text-anchor=\"middle\" x=\"50%\" y=\"53%\">188</text></svg>"
      ],
      "text/plain": [
       "<IPython.core.display.SVG object>"
      ]
     },
     "metadata": {},
     "output_type": "display_data"
    },
    {
     "data": {
      "image/svg+xml": [
       "<svg xmlns=\"http://www.w3.org/2000/svg\" xmlns:ev=\"http://www.w3.org/2001/xml-events\" xmlns:xlink=\"http://www.w3.org/1999/xlink\" baseProfile=\"full\" height=\"120\" version=\"1.1\" width=\"120\"><defs/><rect fill=\"#ffbe00\" height=\"77\" rx=\"10\" ry=\"10\" width=\"100%\" x=\"0.0\" y=\"21.5\"/><text alignment-baseline=\"middle\" fill=\"#000000\" font-family=\"Arial\" font-size=\"45\" font-weight=\"bold\" text-anchor=\"middle\" x=\"50%\" y=\"53%\">253</text></svg>"
      ],
      "text/plain": [
       "<IPython.core.display.SVG object>"
      ]
     },
     "metadata": {},
     "output_type": "display_data"
    },
    {
     "data": {
      "image/svg+xml": [
       "<svg xmlns=\"http://www.w3.org/2000/svg\" xmlns:ev=\"http://www.w3.org/2001/xml-events\" xmlns:xlink=\"http://www.w3.org/1999/xlink\" baseProfile=\"full\" height=\"120\" version=\"1.1\" width=\"120\"><defs/><rect fill=\"#82dc73\" height=\"77\" rx=\"10\" ry=\"10\" width=\"100%\" x=\"0.0\" y=\"21.5\"/><text alignment-baseline=\"middle\" fill=\"#000000\" font-family=\"Arial\" font-size=\"45\" font-weight=\"bold\" text-anchor=\"middle\" x=\"50%\" y=\"53%\">192</text></svg>"
      ],
      "text/plain": [
       "<IPython.core.display.SVG object>"
      ]
     },
     "metadata": {},
     "output_type": "display_data"
    },
    {
     "data": {
      "image/svg+xml": [
       "<svg xmlns=\"http://www.w3.org/2000/svg\" xmlns:ev=\"http://www.w3.org/2001/xml-events\" xmlns:xlink=\"http://www.w3.org/1999/xlink\" baseProfile=\"full\" height=\"120\" version=\"1.1\" width=\"120\"><defs/><rect fill=\"#82dc73\" height=\"77\" rx=\"10\" ry=\"10\" width=\"100%\" x=\"0.0\" y=\"21.5\"/><text alignment-baseline=\"middle\" fill=\"#000000\" font-family=\"Arial\" font-size=\"45\" font-weight=\"bold\" text-anchor=\"middle\" x=\"50%\" y=\"53%\">215</text></svg>"
      ],
      "text/plain": [
       "<IPython.core.display.SVG object>"
      ]
     },
     "metadata": {},
     "output_type": "display_data"
    },
    {
     "data": {
      "image/svg+xml": [
       "<svg xmlns=\"http://www.w3.org/2000/svg\" xmlns:ev=\"http://www.w3.org/2001/xml-events\" xmlns:xlink=\"http://www.w3.org/1999/xlink\" baseProfile=\"full\" height=\"120\" version=\"1.1\" width=\"120\"><defs/><rect fill=\"#640082\" height=\"77\" rx=\"10\" ry=\"10\" width=\"100%\" x=\"0.0\" y=\"21.5\"/><text alignment-baseline=\"middle\" fill=\"#ffffff\" font-family=\"Arial\" font-size=\"45\" font-weight=\"bold\" text-anchor=\"middle\" x=\"50%\" y=\"53%\">217</text></svg>"
      ],
      "text/plain": [
       "<IPython.core.display.SVG object>"
      ]
     },
     "metadata": {},
     "output_type": "display_data"
    },
    {
     "data": {
      "image/svg+xml": [
       "<svg xmlns=\"http://www.w3.org/2000/svg\" xmlns:ev=\"http://www.w3.org/2001/xml-events\" xmlns:xlink=\"http://www.w3.org/1999/xlink\" baseProfile=\"full\" height=\"120\" version=\"1.1\" width=\"120\"><defs/><rect fill=\"#6e5b1e\" height=\"77\" rx=\"10\" ry=\"10\" width=\"100%\" x=\"0.0\" y=\"21.5\"/><text alignment-baseline=\"middle\" fill=\"#ffffff\" font-family=\"Arial\" font-size=\"45\" font-weight=\"bold\" text-anchor=\"middle\" x=\"50%\" y=\"53%\">241</text></svg>"
      ],
      "text/plain": [
       "<IPython.core.display.SVG object>"
      ]
     },
     "metadata": {},
     "output_type": "display_data"
    },
    {
     "data": {
      "image/svg+xml": [
       "<svg xmlns=\"http://www.w3.org/2000/svg\" xmlns:ev=\"http://www.w3.org/2001/xml-events\" xmlns:xlink=\"http://www.w3.org/1999/xlink\" baseProfile=\"full\" height=\"120\" version=\"1.1\" width=\"120\"><defs/><rect fill=\"#ffbe00\" height=\"77\" rx=\"10\" ry=\"10\" width=\"100%\" x=\"0.0\" y=\"21.5\"/><text alignment-baseline=\"middle\" fill=\"#000000\" font-family=\"Arial\" font-size=\"45\" font-weight=\"bold\" text-anchor=\"middle\" x=\"50%\" y=\"53%\">275</text></svg>"
      ],
      "text/plain": [
       "<IPython.core.display.SVG object>"
      ]
     },
     "metadata": {},
     "output_type": "display_data"
    },
    {
     "data": {
      "image/svg+xml": [
       "<svg xmlns=\"http://www.w3.org/2000/svg\" xmlns:ev=\"http://www.w3.org/2001/xml-events\" xmlns:xlink=\"http://www.w3.org/1999/xlink\" baseProfile=\"full\" height=\"120\" version=\"1.1\" width=\"120\"><defs/><rect fill=\"#a0006e\" height=\"77\" rx=\"10\" ry=\"10\" width=\"100%\" x=\"0.0\" y=\"21.5\"/><text alignment-baseline=\"middle\" fill=\"#ffffff\" font-family=\"Arial\" font-size=\"45\" font-weight=\"bold\" text-anchor=\"middle\" x=\"50%\" y=\"53%\">297</text></svg>"
      ],
      "text/plain": [
       "<IPython.core.display.SVG object>"
      ]
     },
     "metadata": {},
     "output_type": "display_data"
    },
    {
     "data": {
      "image/svg+xml": [
       "<svg xmlns=\"http://www.w3.org/2000/svg\" xmlns:ev=\"http://www.w3.org/2001/xml-events\" xmlns:xlink=\"http://www.w3.org/1999/xlink\" baseProfile=\"full\" height=\"120\" version=\"1.1\" width=\"120\"><defs/><rect fill=\"#ffbe00\" height=\"77\" rx=\"10\" ry=\"10\" width=\"100%\" x=\"0.0\" y=\"21.5\"/><text alignment-baseline=\"middle\" fill=\"#000000\" font-family=\"Arial\" font-size=\"45\" font-weight=\"bold\" text-anchor=\"middle\" x=\"50%\" y=\"53%\">372</text></svg>"
      ],
      "text/plain": [
       "<IPython.core.display.SVG object>"
      ]
     },
     "metadata": {},
     "output_type": "display_data"
    },
    {
     "data": {
      "image/svg+xml": [
       "<svg xmlns=\"http://www.w3.org/2000/svg\" xmlns:ev=\"http://www.w3.org/2001/xml-events\" xmlns:xlink=\"http://www.w3.org/1999/xlink\" baseProfile=\"full\" height=\"120\" version=\"1.1\" width=\"120\"><defs/><rect fill=\"#d2d200\" height=\"77\" rx=\"10\" ry=\"10\" width=\"100%\" x=\"0.0\" y=\"21.5\"/><text alignment-baseline=\"middle\" fill=\"#000000\" font-family=\"Arial\" font-size=\"45\" font-weight=\"bold\" text-anchor=\"middle\" x=\"50%\" y=\"53%\">301</text></svg>"
      ],
      "text/plain": [
       "<IPython.core.display.SVG object>"
      ]
     },
     "metadata": {},
     "output_type": "display_data"
    },
    {
     "data": {
      "image/svg+xml": [
       "<svg xmlns=\"http://www.w3.org/2000/svg\" xmlns:ev=\"http://www.w3.org/2001/xml-events\" xmlns:xlink=\"http://www.w3.org/1999/xlink\" baseProfile=\"full\" height=\"120\" version=\"1.1\" width=\"120\"><defs/><rect fill=\"#6e6e00\" height=\"77\" rx=\"10\" ry=\"10\" width=\"100%\" x=\"0.0\" y=\"21.5\"/><text alignment-baseline=\"middle\" fill=\"#ffffff\" font-family=\"Arial\" font-size=\"45\" font-weight=\"bold\" text-anchor=\"middle\" x=\"50%\" y=\"53%\">303</text></svg>"
      ],
      "text/plain": [
       "<IPython.core.display.SVG object>"
      ]
     },
     "metadata": {},
     "output_type": "display_data"
    },
    {
     "data": {
      "image/svg+xml": [
       "<svg xmlns=\"http://www.w3.org/2000/svg\" xmlns:ev=\"http://www.w3.org/2001/xml-events\" xmlns:xlink=\"http://www.w3.org/1999/xlink\" baseProfile=\"full\" height=\"120\" version=\"1.1\" width=\"120\"><defs/><rect fill=\"#0055c8\" height=\"77\" rx=\"10\" ry=\"10\" width=\"100%\" x=\"0.0\" y=\"21.5\"/><text alignment-baseline=\"middle\" fill=\"#ffffff\" font-family=\"Arial\" font-size=\"45\" font-weight=\"bold\" text-anchor=\"middle\" x=\"50%\" y=\"53%\">318</text></svg>"
      ],
      "text/plain": [
       "<IPython.core.display.SVG object>"
      ]
     },
     "metadata": {},
     "output_type": "display_data"
    },
    {
     "data": {
      "image/svg+xml": [
       "<svg xmlns=\"http://www.w3.org/2000/svg\" xmlns:ev=\"http://www.w3.org/2001/xml-events\" xmlns:xlink=\"http://www.w3.org/1999/xlink\" baseProfile=\"full\" height=\"120\" version=\"1.1\" width=\"120\"><defs/><rect fill=\"#d2d200\" height=\"77\" rx=\"10\" ry=\"10\" width=\"100%\" x=\"0.0\" y=\"21.5\"/><text alignment-baseline=\"middle\" fill=\"#000000\" font-family=\"Arial\" font-size=\"45\" font-weight=\"bold\" text-anchor=\"middle\" x=\"50%\" y=\"53%\">323</text></svg>"
      ],
      "text/plain": [
       "<IPython.core.display.SVG object>"
      ]
     },
     "metadata": {},
     "output_type": "display_data"
    },
    {
     "data": {
      "image/svg+xml": [
       "<svg xmlns=\"http://www.w3.org/2000/svg\" xmlns:ev=\"http://www.w3.org/2001/xml-events\" xmlns:xlink=\"http://www.w3.org/1999/xlink\" baseProfile=\"full\" height=\"120\" version=\"1.1\" width=\"120\"><defs/><rect fill=\"#00643c\" height=\"77\" rx=\"10\" ry=\"10\" width=\"100%\" x=\"0.0\" y=\"21.5\"/><text alignment-baseline=\"middle\" fill=\"#ffffff\" font-family=\"Arial\" font-size=\"45\" font-weight=\"bold\" text-anchor=\"middle\" x=\"50%\" y=\"53%\">378</text></svg>"
      ],
      "text/plain": [
       "<IPython.core.display.SVG object>"
      ]
     },
     "metadata": {},
     "output_type": "display_data"
    },
    {
     "data": {
      "image/svg+xml": [
       "<svg xmlns=\"http://www.w3.org/2000/svg\" xmlns:ev=\"http://www.w3.org/2001/xml-events\" xmlns:xlink=\"http://www.w3.org/1999/xlink\" baseProfile=\"full\" height=\"120\" version=\"1.1\" width=\"120\"><defs/><rect fill=\"#0055c8\" height=\"77\" rx=\"10\" ry=\"10\" width=\"100%\" x=\"0.0\" y=\"21.5\"/><text alignment-baseline=\"middle\" fill=\"#ffffff\" font-family=\"Arial\" font-size=\"45\" font-weight=\"bold\" text-anchor=\"middle\" x=\"50%\" y=\"53%\">389</text></svg>"
      ],
      "text/plain": [
       "<IPython.core.display.SVG object>"
      ]
     },
     "metadata": {},
     "output_type": "display_data"
    },
    {
     "data": {
      "image/svg+xml": [
       "<svg xmlns=\"http://www.w3.org/2000/svg\" xmlns:ev=\"http://www.w3.org/2001/xml-events\" xmlns:xlink=\"http://www.w3.org/1999/xlink\" baseProfile=\"full\" height=\"120\" version=\"1.1\" width=\"120\"><defs/><rect fill=\"#dc9600\" height=\"77\" rx=\"10\" ry=\"10\" width=\"100%\" x=\"0.0\" y=\"21.5\"/><text alignment-baseline=\"middle\" fill=\"#000000\" font-family=\"Arial\" font-size=\"45\" font-weight=\"bold\" text-anchor=\"middle\" x=\"50%\" y=\"53%\">N32</text></svg>"
      ],
      "text/plain": [
       "<IPython.core.display.SVG object>"
      ]
     },
     "metadata": {},
     "output_type": "display_data"
    },
    {
     "data": {
      "image/svg+xml": [
       "<svg xmlns=\"http://www.w3.org/2000/svg\" xmlns:ev=\"http://www.w3.org/2001/xml-events\" xmlns:xlink=\"http://www.w3.org/1999/xlink\" baseProfile=\"full\" height=\"120\" version=\"1.1\" width=\"120\"><defs/><rect fill=\"#ff1400\" height=\"77\" rx=\"10\" ry=\"10\" width=\"100%\" x=\"0.0\" y=\"21.5\"/><text alignment-baseline=\"middle\" fill=\"#ffffff\" font-family=\"Arial\" font-size=\"45\" font-weight=\"bold\" text-anchor=\"middle\" x=\"50%\" y=\"53%\">43</text></svg>"
      ],
      "text/plain": [
       "<IPython.core.display.SVG object>"
      ]
     },
     "metadata": {},
     "output_type": "display_data"
    },
    {
     "data": {
      "image/svg+xml": [
       "<svg xmlns=\"http://www.w3.org/2000/svg\" xmlns:ev=\"http://www.w3.org/2001/xml-events\" xmlns:xlink=\"http://www.w3.org/1999/xlink\" baseProfile=\"full\" height=\"120\" version=\"1.1\" width=\"120\"><defs/><rect fill=\"#ffbe00\" height=\"77\" rx=\"10\" ry=\"10\" width=\"100%\" x=\"0.0\" y=\"21.5\"/><text alignment-baseline=\"middle\" fill=\"#000000\" font-family=\"Arial\" font-size=\"45\" font-weight=\"bold\" text-anchor=\"middle\" x=\"50%\" y=\"53%\">42</text></svg>"
      ],
      "text/plain": [
       "<IPython.core.display.SVG object>"
      ]
     },
     "metadata": {},
     "output_type": "display_data"
    },
    {
     "data": {
      "image/svg+xml": [
       "<svg xmlns=\"http://www.w3.org/2000/svg\" xmlns:ev=\"http://www.w3.org/2001/xml-events\" xmlns:xlink=\"http://www.w3.org/1999/xlink\" baseProfile=\"full\" height=\"120\" version=\"1.1\" width=\"120\"><defs/><rect fill=\"#00643c\" height=\"77\" rx=\"10\" ry=\"10\" width=\"100%\" x=\"0.0\" y=\"21.5\"/><text alignment-baseline=\"middle\" fill=\"#ffffff\" font-family=\"Arial\" font-size=\"45\" font-weight=\"bold\" text-anchor=\"middle\" x=\"50%\" y=\"53%\">421</text></svg>"
      ],
      "text/plain": [
       "<IPython.core.display.SVG object>"
      ]
     },
     "metadata": {},
     "output_type": "display_data"
    },
    {
     "data": {
      "image/svg+xml": [
       "<svg xmlns=\"http://www.w3.org/2000/svg\" xmlns:ev=\"http://www.w3.org/2001/xml-events\" xmlns:xlink=\"http://www.w3.org/1999/xlink\" baseProfile=\"full\" height=\"120\" version=\"1.1\" width=\"120\"><defs/><rect fill=\"#dc9600\" height=\"77\" rx=\"10\" ry=\"10\" width=\"100%\" x=\"0.0\" y=\"21.5\"/><text alignment-baseline=\"middle\" fill=\"#000000\" font-family=\"Arial\" font-size=\"45\" font-weight=\"bold\" text-anchor=\"middle\" x=\"50%\" y=\"53%\">N61</text></svg>"
      ],
      "text/plain": [
       "<IPython.core.display.SVG object>"
      ]
     },
     "metadata": {},
     "output_type": "display_data"
    },
    {
     "data": {
      "image/svg+xml": [
       "<svg xmlns=\"http://www.w3.org/2000/svg\" xmlns:ev=\"http://www.w3.org/2001/xml-events\" xmlns:xlink=\"http://www.w3.org/1999/xlink\" baseProfile=\"full\" height=\"120\" version=\"1.1\" width=\"120\"><defs/><rect fill=\"#ff82b4\" height=\"77\" rx=\"10\" ry=\"10\" width=\"100%\" x=\"0.0\" y=\"21.5\"/><text alignment-baseline=\"middle\" fill=\"#000000\" font-family=\"Arial\" font-size=\"45\" font-weight=\"bold\" text-anchor=\"middle\" x=\"50%\" y=\"53%\">N13</text></svg>"
      ],
      "text/plain": [
       "<IPython.core.display.SVG object>"
      ]
     },
     "metadata": {},
     "output_type": "display_data"
    },
    {
     "data": {
      "image/svg+xml": [
       "<svg xmlns=\"http://www.w3.org/2000/svg\" xmlns:ev=\"http://www.w3.org/2001/xml-events\" xmlns:xlink=\"http://www.w3.org/1999/xlink\" baseProfile=\"full\" height=\"120\" version=\"1.1\" width=\"120\"><defs/><rect fill=\"#79ac2b\" height=\"77\" rx=\"10\" ry=\"10\" width=\"100%\" x=\"0.0\" y=\"21.5\"/><text alignment-baseline=\"middle\" fill=\"#ffffff\" font-family=\"Arial\" font-size=\"45\" font-weight=\"bold\" text-anchor=\"middle\" x=\"50%\" y=\"53%\">463</text></svg>"
      ],
      "text/plain": [
       "<IPython.core.display.SVG object>"
      ]
     },
     "metadata": {},
     "output_type": "display_data"
    },
    {
     "data": {
      "image/svg+xml": [
       "<svg xmlns=\"http://www.w3.org/2000/svg\" xmlns:ev=\"http://www.w3.org/2001/xml-events\" xmlns:xlink=\"http://www.w3.org/1999/xlink\" baseProfile=\"full\" height=\"120\" version=\"1.1\" width=\"120\"><defs/><rect fill=\"#79ac2b\" height=\"77\" rx=\"10\" ry=\"10\" width=\"100%\" x=\"0.0\" y=\"21.5\"/><text alignment-baseline=\"middle\" fill=\"#ffffff\" font-family=\"Arial\" font-size=\"45\" font-weight=\"bold\" text-anchor=\"middle\" x=\"50%\" y=\"53%\">440</text></svg>"
      ],
      "text/plain": [
       "<IPython.core.display.SVG object>"
      ]
     },
     "metadata": {},
     "output_type": "display_data"
    },
    {
     "data": {
      "image/svg+xml": [
       "<svg xmlns=\"http://www.w3.org/2000/svg\" xmlns:ev=\"http://www.w3.org/2001/xml-events\" xmlns:xlink=\"http://www.w3.org/1999/xlink\" baseProfile=\"full\" height=\"120\" version=\"1.1\" width=\"120\"><defs/><rect fill=\"#d2d200\" height=\"77\" rx=\"10\" ry=\"10\" width=\"100%\" x=\"0.0\" y=\"21.5\"/><text alignment-baseline=\"middle\" fill=\"#000000\" font-family=\"Arial\" font-size=\"45\" font-weight=\"bold\" text-anchor=\"middle\" x=\"50%\" y=\"53%\">46</text></svg>"
      ],
      "text/plain": [
       "<IPython.core.display.SVG object>"
      ]
     },
     "metadata": {},
     "output_type": "display_data"
    },
    {
     "data": {
      "image/svg+xml": [
       "<svg xmlns=\"http://www.w3.org/2000/svg\" xmlns:ev=\"http://www.w3.org/2001/xml-events\" xmlns:xlink=\"http://www.w3.org/1999/xlink\" baseProfile=\"full\" height=\"120\" version=\"1.1\" width=\"120\"><defs/><rect fill=\"#a0006e\" height=\"77\" rx=\"10\" ry=\"10\" width=\"100%\" x=\"0.0\" y=\"21.5\"/><text alignment-baseline=\"middle\" fill=\"#ffffff\" font-family=\"Arial\" font-size=\"45\" font-weight=\"bold\" text-anchor=\"middle\" x=\"50%\" y=\"53%\">N71</text></svg>"
      ],
      "text/plain": [
       "<IPython.core.display.SVG object>"
      ]
     },
     "metadata": {},
     "output_type": "display_data"
    },
    {
     "data": {
      "image/svg+xml": [
       "<svg xmlns=\"http://www.w3.org/2000/svg\" xmlns:ev=\"http://www.w3.org/2001/xml-events\" xmlns:xlink=\"http://www.w3.org/1999/xlink\" baseProfile=\"full\" height=\"120\" version=\"1.1\" width=\"120\"><defs/><rect fill=\"#0055c8\" height=\"77\" rx=\"10\" ry=\"10\" width=\"100%\" x=\"0.0\" y=\"21.5\"/><text alignment-baseline=\"middle\" fill=\"#ffffff\" font-family=\"Arial\" font-size=\"45\" font-weight=\"bold\" text-anchor=\"middle\" x=\"50%\" y=\"53%\">471</text></svg>"
      ],
      "text/plain": [
       "<IPython.core.display.SVG object>"
      ]
     },
     "metadata": {},
     "output_type": "display_data"
    },
    {
     "data": {
      "image/svg+xml": [
       "<svg xmlns=\"http://www.w3.org/2000/svg\" xmlns:ev=\"http://www.w3.org/2001/xml-events\" xmlns:xlink=\"http://www.w3.org/1999/xlink\" baseProfile=\"full\" height=\"120\" version=\"1.1\" width=\"120\"><defs/><rect fill=\"#82dc73\" height=\"77\" rx=\"10\" ry=\"10\" width=\"100%\" x=\"0.0\" y=\"21.5\"/><text alignment-baseline=\"middle\" fill=\"#000000\" font-family=\"Arial\" font-size=\"45\" font-weight=\"bold\" text-anchor=\"middle\" x=\"50%\" y=\"53%\">35</text></svg>"
      ],
      "text/plain": [
       "<IPython.core.display.SVG object>"
      ]
     },
     "metadata": {},
     "output_type": "display_data"
    },
    {
     "data": {
      "image/svg+xml": [
       "<svg xmlns=\"http://www.w3.org/2000/svg\" xmlns:ev=\"http://www.w3.org/2001/xml-events\" xmlns:xlink=\"http://www.w3.org/1999/xlink\" baseProfile=\"full\" height=\"120\" version=\"1.1\" width=\"120\"><defs/><rect fill=\"#e3051c\" height=\"77\" rx=\"10\" ry=\"10\" width=\"100%\" x=\"0.0\" y=\"21.5\"/><text alignment-baseline=\"middle\" fill=\"#ffffff\" font-family=\"Arial\" font-size=\"45\" font-weight=\"bold\" text-anchor=\"middle\" x=\"50%\" y=\"53%\">10</text></svg>"
      ],
      "text/plain": [
       "<IPython.core.display.SVG object>"
      ]
     },
     "metadata": {},
     "output_type": "display_data"
    },
    {
     "data": {
      "image/svg+xml": [
       "<svg xmlns=\"http://www.w3.org/2000/svg\" xmlns:ev=\"http://www.w3.org/2001/xml-events\" xmlns:xlink=\"http://www.w3.org/1999/xlink\" baseProfile=\"full\" height=\"120\" version=\"1.1\" width=\"120\"><defs/><rect fill=\"#0069b8\" height=\"77\" rx=\"10\" ry=\"10\" width=\"100%\" x=\"0.0\" y=\"21.5\"/><text alignment-baseline=\"middle\" fill=\"#ffffff\" font-family=\"Arial\" font-size=\"45\" font-weight=\"bold\" text-anchor=\"middle\" x=\"50%\" y=\"53%\">208</text></svg>"
      ],
      "text/plain": [
       "<IPython.core.display.SVG object>"
      ]
     },
     "metadata": {},
     "output_type": "display_data"
    },
    {
     "data": {
      "image/svg+xml": [
       "<svg xmlns=\"http://www.w3.org/2000/svg\" xmlns:ev=\"http://www.w3.org/2001/xml-events\" xmlns:xlink=\"http://www.w3.org/1999/xlink\" baseProfile=\"full\" height=\"120\" version=\"1.1\" width=\"120\"><defs/><rect fill=\"#e0b03b\" height=\"77\" rx=\"10\" ry=\"10\" width=\"100%\" x=\"0.0\" y=\"21.5\"/><text alignment-baseline=\"middle\" fill=\"#000000\" font-family=\"Arial\" font-size=\"45\" font-weight=\"bold\" text-anchor=\"middle\" x=\"50%\" y=\"53%\">69</text></svg>"
      ],
      "text/plain": [
       "<IPython.core.display.SVG object>"
      ]
     },
     "metadata": {},
     "output_type": "display_data"
    },
    {
     "data": {
      "image/svg+xml": [
       "<svg xmlns=\"http://www.w3.org/2000/svg\" xmlns:ev=\"http://www.w3.org/2001/xml-events\" xmlns:xlink=\"http://www.w3.org/1999/xlink\" baseProfile=\"full\" height=\"120\" version=\"1.1\" width=\"120\"><defs/><rect fill=\"#d2d200\" height=\"77\" rx=\"10\" ry=\"10\" width=\"100%\" x=\"0.0\" y=\"21.5\"/><text alignment-baseline=\"middle\" fill=\"#000000\" font-family=\"Arial\" font-size=\"45\" font-weight=\"bold\" text-anchor=\"middle\" x=\"50%\" y=\"53%\">63</text></svg>"
      ],
      "text/plain": [
       "<IPython.core.display.SVG object>"
      ]
     },
     "metadata": {},
     "output_type": "display_data"
    },
    {
     "data": {
      "image/svg+xml": [
       "<svg xmlns=\"http://www.w3.org/2000/svg\" xmlns:ev=\"http://www.w3.org/2001/xml-events\" xmlns:xlink=\"http://www.w3.org/1999/xlink\" baseProfile=\"full\" height=\"120\" version=\"1.1\" width=\"120\"><defs/><rect fill=\"#ff5a00\" height=\"77\" rx=\"10\" ry=\"10\" width=\"100%\" x=\"0.0\" y=\"21.5\"/><text alignment-baseline=\"middle\" fill=\"#000000\" font-family=\"Arial\" font-size=\"45\" font-weight=\"bold\" text-anchor=\"middle\" x=\"50%\" y=\"53%\">70</text></svg>"
      ],
      "text/plain": [
       "<IPython.core.display.SVG object>"
      ]
     },
     "metadata": {},
     "output_type": "display_data"
    },
    {
     "data": {
      "image/svg+xml": [
       "<svg xmlns=\"http://www.w3.org/2000/svg\" xmlns:ev=\"http://www.w3.org/2001/xml-events\" xmlns:xlink=\"http://www.w3.org/1999/xlink\" baseProfile=\"full\" height=\"120\" version=\"1.1\" width=\"120\"><defs/><rect fill=\"#82c8e6\" height=\"77\" rx=\"10\" ry=\"10\" width=\"100%\" x=\"0.0\" y=\"21.5\"/><text alignment-baseline=\"middle\" fill=\"#000000\" font-family=\"Arial\" font-size=\"45\" font-weight=\"bold\" text-anchor=\"middle\" x=\"50%\" y=\"53%\">69</text></svg>"
      ],
      "text/plain": [
       "<IPython.core.display.SVG object>"
      ]
     },
     "metadata": {},
     "output_type": "display_data"
    },
    {
     "data": {
      "image/svg+xml": [
       "<svg xmlns=\"http://www.w3.org/2000/svg\" xmlns:ev=\"http://www.w3.org/2001/xml-events\" xmlns:xlink=\"http://www.w3.org/1999/xlink\" baseProfile=\"full\" height=\"120\" version=\"1.1\" width=\"120\"><defs/><rect fill=\"#e3b229\" height=\"77\" rx=\"10\" ry=\"10\" width=\"100%\" x=\"0.0\" y=\"21.5\"/><text alignment-baseline=\"middle\" fill=\"#000000\" font-family=\"Arial\" font-size=\"45\" font-weight=\"bold\" text-anchor=\"middle\" x=\"50%\" y=\"53%\">23</text></svg>"
      ],
      "text/plain": [
       "<IPython.core.display.SVG object>"
      ]
     },
     "metadata": {},
     "output_type": "display_data"
    },
    {
     "data": {
      "image/svg+xml": [
       "<svg xmlns=\"http://www.w3.org/2000/svg\" xmlns:ev=\"http://www.w3.org/2001/xml-events\" xmlns:xlink=\"http://www.w3.org/1999/xlink\" baseProfile=\"full\" height=\"120\" version=\"1.1\" width=\"120\"><defs/><rect fill=\"#8c5e23\" height=\"77\" rx=\"10\" ry=\"10\" width=\"100%\" x=\"0.0\" y=\"21.5\"/><text alignment-baseline=\"middle\" fill=\"#ffffff\" font-family=\"Arial\" font-size=\"45\" font-weight=\"bold\" text-anchor=\"middle\" x=\"50%\" y=\"53%\">8</text></svg>"
      ],
      "text/plain": [
       "<IPython.core.display.SVG object>"
      ]
     },
     "metadata": {},
     "output_type": "display_data"
    },
    {
     "data": {
      "image/svg+xml": [
       "<svg xmlns=\"http://www.w3.org/2000/svg\" xmlns:ev=\"http://www.w3.org/2001/xml-events\" xmlns:xlink=\"http://www.w3.org/1999/xlink\" baseProfile=\"full\" height=\"120\" version=\"1.1\" width=\"120\"><defs/><rect fill=\"#1f97d4\" height=\"77\" rx=\"10\" ry=\"10\" width=\"100%\" x=\"0.0\" y=\"21.5\"/><text alignment-baseline=\"middle\" fill=\"#ffffff\" font-family=\"Arial\" font-size=\"45\" font-weight=\"bold\" text-anchor=\"middle\" x=\"50%\" y=\"53%\">13A</text></svg>"
      ],
      "text/plain": [
       "<IPython.core.display.SVG object>"
      ]
     },
     "metadata": {},
     "output_type": "display_data"
    },
    {
     "data": {
      "image/svg+xml": [
       "<svg xmlns=\"http://www.w3.org/2000/svg\" xmlns:ev=\"http://www.w3.org/2001/xml-events\" xmlns:xlink=\"http://www.w3.org/1999/xlink\" baseProfile=\"full\" height=\"120\" version=\"1.1\" width=\"120\"><defs/><rect fill=\"#e5000f\" height=\"77\" rx=\"10\" ry=\"10\" width=\"100%\" x=\"0.0\" y=\"21.5\"/><text alignment-baseline=\"middle\" fill=\"#ffffff\" font-family=\"Arial\" font-size=\"45\" font-weight=\"bold\" text-anchor=\"middle\" x=\"50%\" y=\"53%\">9</text></svg>"
      ],
      "text/plain": [
       "<IPython.core.display.SVG object>"
      ]
     },
     "metadata": {},
     "output_type": "display_data"
    },
    {
     "data": {
      "image/svg+xml": [
       "<svg xmlns=\"http://www.w3.org/2000/svg\" xmlns:ev=\"http://www.w3.org/2001/xml-events\" xmlns:xlink=\"http://www.w3.org/1999/xlink\" baseProfile=\"full\" height=\"120\" version=\"1.1\" width=\"120\"><defs/><rect fill=\"#b1b9df\" height=\"77\" rx=\"10\" ry=\"10\" width=\"100%\" x=\"0.0\" y=\"21.5\"/><text alignment-baseline=\"middle\" fill=\"#000000\" font-family=\"Arial\" font-size=\"45\" font-weight=\"bold\" text-anchor=\"middle\" x=\"50%\" y=\"53%\">403</text></svg>"
      ],
      "text/plain": [
       "<IPython.core.display.SVG object>"
      ]
     },
     "metadata": {},
     "output_type": "display_data"
    },
    {
     "data": {
      "image/svg+xml": [
       "<svg xmlns=\"http://www.w3.org/2000/svg\" xmlns:ev=\"http://www.w3.org/2001/xml-events\" xmlns:xlink=\"http://www.w3.org/1999/xlink\" baseProfile=\"full\" height=\"120\" version=\"1.1\" width=\"120\"><defs/><rect fill=\"#f1c232\" height=\"77\" rx=\"10\" ry=\"10\" width=\"100%\" x=\"0.0\" y=\"21.5\"/><text alignment-baseline=\"middle\" fill=\"#000000\" font-family=\"Arial\" font-size=\"45\" font-weight=\"bold\" text-anchor=\"middle\" x=\"50%\" y=\"53%\">10</text></svg>"
      ],
      "text/plain": [
       "<IPython.core.display.SVG object>"
      ]
     },
     "metadata": {},
     "output_type": "display_data"
    },
    {
     "data": {
      "image/svg+xml": [
       "<svg xmlns=\"http://www.w3.org/2000/svg\" xmlns:ev=\"http://www.w3.org/2001/xml-events\" xmlns:xlink=\"http://www.w3.org/1999/xlink\" baseProfile=\"full\" height=\"120\" version=\"1.1\" width=\"120\"><defs/><rect fill=\"#640082\" height=\"77\" rx=\"10\" ry=\"10\" width=\"100%\" x=\"0.0\" y=\"21.5\"/><text alignment-baseline=\"middle\" fill=\"#ffffff\" font-family=\"Arial\" font-size=\"45\" font-weight=\"bold\" text-anchor=\"middle\" x=\"50%\" y=\"53%\">95</text></svg>"
      ],
      "text/plain": [
       "<IPython.core.display.SVG object>"
      ]
     },
     "metadata": {},
     "output_type": "display_data"
    },
    {
     "data": {
      "image/svg+xml": [
       "<svg xmlns=\"http://www.w3.org/2000/svg\" xmlns:ev=\"http://www.w3.org/2001/xml-events\" xmlns:xlink=\"http://www.w3.org/1999/xlink\" baseProfile=\"full\" height=\"120\" version=\"1.1\" width=\"120\"><defs/><rect fill=\"#78a6d1\" height=\"77\" rx=\"10\" ry=\"10\" width=\"100%\" x=\"0.0\" y=\"21.5\"/><text alignment-baseline=\"middle\" fill=\"#000000\" font-family=\"Arial\" font-size=\"45\" font-weight=\"bold\" text-anchor=\"middle\" x=\"50%\" y=\"53%\">65</text></svg>"
      ],
      "text/plain": [
       "<IPython.core.display.SVG object>"
      ]
     },
     "metadata": {},
     "output_type": "display_data"
    },
    {
     "data": {
      "image/svg+xml": [
       "<svg xmlns=\"http://www.w3.org/2000/svg\" xmlns:ev=\"http://www.w3.org/2001/xml-events\" xmlns:xlink=\"http://www.w3.org/1999/xlink\" baseProfile=\"full\" height=\"120\" version=\"1.1\" width=\"120\"><defs/><rect fill=\"#ff82b4\" height=\"77\" rx=\"10\" ry=\"10\" width=\"100%\" x=\"0.0\" y=\"21.5\"/><text alignment-baseline=\"middle\" fill=\"#000000\" font-family=\"Arial\" font-size=\"45\" font-weight=\"bold\" text-anchor=\"middle\" x=\"50%\" y=\"53%\">107</text></svg>"
      ],
      "text/plain": [
       "<IPython.core.display.SVG object>"
      ]
     },
     "metadata": {},
     "output_type": "display_data"
    },
    {
     "data": {
      "image/svg+xml": [
       "<svg xmlns=\"http://www.w3.org/2000/svg\" xmlns:ev=\"http://www.w3.org/2001/xml-events\" xmlns:xlink=\"http://www.w3.org/1999/xlink\" baseProfile=\"full\" height=\"120\" version=\"1.1\" width=\"120\"><defs/><rect fill=\"#dc9600\" height=\"77\" rx=\"10\" ry=\"10\" width=\"100%\" x=\"0.0\" y=\"21.5\"/><text alignment-baseline=\"middle\" fill=\"#000000\" font-family=\"Arial\" font-size=\"45\" font-weight=\"bold\" text-anchor=\"middle\" x=\"50%\" y=\"53%\">96</text></svg>"
      ],
      "text/plain": [
       "<IPython.core.display.SVG object>"
      ]
     },
     "metadata": {},
     "output_type": "display_data"
    },
    {
     "data": {
      "image/svg+xml": [
       "<svg xmlns=\"http://www.w3.org/2000/svg\" xmlns:ev=\"http://www.w3.org/2001/xml-events\" xmlns:xlink=\"http://www.w3.org/1999/xlink\" baseProfile=\"full\" height=\"120\" version=\"1.1\" width=\"120\"><defs/><rect fill=\"#6e5b1e\" height=\"77\" rx=\"10\" ry=\"10\" width=\"100%\" x=\"0.0\" y=\"21.5\"/><text alignment-baseline=\"middle\" fill=\"#ffffff\" font-family=\"Arial\" font-size=\"45\" font-weight=\"bold\" text-anchor=\"middle\" x=\"50%\" y=\"53%\">131</text></svg>"
      ],
      "text/plain": [
       "<IPython.core.display.SVG object>"
      ]
     },
     "metadata": {},
     "output_type": "display_data"
    },
    {
     "data": {
      "image/svg+xml": [
       "<svg xmlns=\"http://www.w3.org/2000/svg\" xmlns:ev=\"http://www.w3.org/2001/xml-events\" xmlns:xlink=\"http://www.w3.org/1999/xlink\" baseProfile=\"full\" height=\"120\" version=\"1.1\" width=\"120\"><defs/><rect fill=\"#ff5a00\" height=\"77\" rx=\"10\" ry=\"10\" width=\"100%\" x=\"0.0\" y=\"21.5\"/><text alignment-baseline=\"middle\" fill=\"#000000\" font-family=\"Arial\" font-size=\"45\" font-weight=\"bold\" text-anchor=\"middle\" x=\"50%\" y=\"53%\">137</text></svg>"
      ],
      "text/plain": [
       "<IPython.core.display.SVG object>"
      ]
     },
     "metadata": {},
     "output_type": "display_data"
    },
    {
     "data": {
      "image/svg+xml": [
       "<svg xmlns=\"http://www.w3.org/2000/svg\" xmlns:ev=\"http://www.w3.org/2001/xml-events\" xmlns:xlink=\"http://www.w3.org/1999/xlink\" baseProfile=\"full\" height=\"120\" version=\"1.1\" width=\"120\"><defs/><rect fill=\"#ff5a00\" height=\"77\" rx=\"10\" ry=\"10\" width=\"100%\" x=\"0.0\" y=\"21.5\"/><text alignment-baseline=\"middle\" fill=\"#000000\" font-family=\"Arial\" font-size=\"45\" font-weight=\"bold\" text-anchor=\"middle\" x=\"50%\" y=\"53%\">158</text></svg>"
      ],
      "text/plain": [
       "<IPython.core.display.SVG object>"
      ]
     },
     "metadata": {},
     "output_type": "display_data"
    },
    {
     "data": {
      "image/svg+xml": [
       "<svg xmlns=\"http://www.w3.org/2000/svg\" xmlns:ev=\"http://www.w3.org/2001/xml-events\" xmlns:xlink=\"http://www.w3.org/1999/xlink\" baseProfile=\"full\" height=\"120\" version=\"1.1\" width=\"120\"><defs/><rect fill=\"#ff5a00\" height=\"77\" rx=\"10\" ry=\"10\" width=\"100%\" x=\"0.0\" y=\"21.5\"/><text alignment-baseline=\"middle\" fill=\"#000000\" font-family=\"Arial\" font-size=\"45\" font-weight=\"bold\" text-anchor=\"middle\" x=\"50%\" y=\"53%\">185</text></svg>"
      ],
      "text/plain": [
       "<IPython.core.display.SVG object>"
      ]
     },
     "metadata": {},
     "output_type": "display_data"
    },
    {
     "data": {
      "image/svg+xml": [
       "<svg xmlns=\"http://www.w3.org/2000/svg\" xmlns:ev=\"http://www.w3.org/2001/xml-events\" xmlns:xlink=\"http://www.w3.org/1999/xlink\" baseProfile=\"full\" height=\"120\" version=\"1.1\" width=\"120\"><defs/><rect fill=\"#6fa8dc\" height=\"77\" rx=\"10\" ry=\"10\" width=\"100%\" x=\"0.0\" y=\"21.5\"/><text alignment-baseline=\"middle\" fill=\"#ffffff\" font-family=\"Arial\" font-size=\"45\" font-weight=\"bold\" text-anchor=\"middle\" x=\"50%\" y=\"53%\">53</text></svg>"
      ],
      "text/plain": [
       "<IPython.core.display.SVG object>"
      ]
     },
     "metadata": {},
     "output_type": "display_data"
    },
    {
     "data": {
      "image/svg+xml": [
       "<svg xmlns=\"http://www.w3.org/2000/svg\" xmlns:ev=\"http://www.w3.org/2001/xml-events\" xmlns:xlink=\"http://www.w3.org/1999/xlink\" baseProfile=\"full\" height=\"120\" version=\"1.1\" width=\"120\"><defs/><rect fill=\"#ffbe00\" height=\"77\" rx=\"10\" ry=\"10\" width=\"100%\" x=\"0.0\" y=\"21.5\"/><text alignment-baseline=\"middle\" fill=\"#000000\" font-family=\"Arial\" font-size=\"45\" font-weight=\"bold\" text-anchor=\"middle\" x=\"50%\" y=\"53%\">102</text></svg>"
      ],
      "text/plain": [
       "<IPython.core.display.SVG object>"
      ]
     },
     "metadata": {},
     "output_type": "display_data"
    },
    {
     "data": {
      "image/svg+xml": [
       "<svg xmlns=\"http://www.w3.org/2000/svg\" xmlns:ev=\"http://www.w3.org/2001/xml-events\" xmlns:xlink=\"http://www.w3.org/1999/xlink\" baseProfile=\"full\" height=\"120\" version=\"1.1\" width=\"120\"><defs/><rect fill=\"#ff1400\" height=\"77\" rx=\"10\" ry=\"10\" width=\"100%\" x=\"0.0\" y=\"21.5\"/><text alignment-baseline=\"middle\" fill=\"#ffffff\" font-family=\"Arial\" font-size=\"45\" font-weight=\"bold\" text-anchor=\"middle\" x=\"50%\" y=\"53%\">251</text></svg>"
      ],
      "text/plain": [
       "<IPython.core.display.SVG object>"
      ]
     },
     "metadata": {},
     "output_type": "display_data"
    },
    {
     "data": {
      "image/svg+xml": [
       "<svg xmlns=\"http://www.w3.org/2000/svg\" xmlns:ev=\"http://www.w3.org/2001/xml-events\" xmlns:xlink=\"http://www.w3.org/1999/xlink\" baseProfile=\"full\" height=\"120\" version=\"1.1\" width=\"120\"><defs/><rect fill=\"#ff5a00\" height=\"77\" rx=\"10\" ry=\"10\" width=\"100%\" x=\"0.0\" y=\"21.5\"/><text alignment-baseline=\"middle\" fill=\"#000000\" font-family=\"Arial\" font-size=\"45\" font-weight=\"bold\" text-anchor=\"middle\" x=\"50%\" y=\"53%\">312</text></svg>"
      ],
      "text/plain": [
       "<IPython.core.display.SVG object>"
      ]
     },
     "metadata": {},
     "output_type": "display_data"
    },
    {
     "data": {
      "image/svg+xml": [
       "<svg xmlns=\"http://www.w3.org/2000/svg\" xmlns:ev=\"http://www.w3.org/2001/xml-events\" xmlns:xlink=\"http://www.w3.org/1999/xlink\" baseProfile=\"full\" height=\"120\" version=\"1.1\" width=\"120\"><defs/><rect fill=\"#d2d200\" height=\"77\" rx=\"10\" ry=\"10\" width=\"100%\" x=\"0.0\" y=\"21.5\"/><text alignment-baseline=\"middle\" fill=\"#000000\" font-family=\"Arial\" font-size=\"45\" font-weight=\"bold\" text-anchor=\"middle\" x=\"50%\" y=\"53%\">396</text></svg>"
      ],
      "text/plain": [
       "<IPython.core.display.SVG object>"
      ]
     },
     "metadata": {},
     "output_type": "display_data"
    },
    {
     "data": {
      "image/svg+xml": [
       "<svg xmlns=\"http://www.w3.org/2000/svg\" xmlns:ev=\"http://www.w3.org/2001/xml-events\" xmlns:xlink=\"http://www.w3.org/1999/xlink\" baseProfile=\"full\" height=\"120\" version=\"1.1\" width=\"120\"><defs/><rect fill=\"#00a092\" height=\"77\" rx=\"10\" ry=\"10\" width=\"100%\" x=\"0.0\" y=\"21.5\"/><text alignment-baseline=\"middle\" fill=\"#ffffff\" font-family=\"Arial\" font-size=\"45\" font-weight=\"bold\" text-anchor=\"middle\" x=\"50%\" y=\"53%\">209</text></svg>"
      ],
      "text/plain": [
       "<IPython.core.display.SVG object>"
      ]
     },
     "metadata": {},
     "output_type": "display_data"
    },
    {
     "data": {
      "image/svg+xml": [
       "<svg xmlns=\"http://www.w3.org/2000/svg\" xmlns:ev=\"http://www.w3.org/2001/xml-events\" xmlns:xlink=\"http://www.w3.org/1999/xlink\" baseProfile=\"full\" height=\"120\" version=\"1.1\" width=\"120\"><defs/><rect fill=\"#108642\" height=\"77\" rx=\"10\" ry=\"10\" width=\"100%\" x=\"0.0\" y=\"21.5\"/><text alignment-baseline=\"middle\" fill=\"#000000\" font-family=\"Arial\" font-size=\"45\" font-weight=\"bold\" text-anchor=\"middle\" x=\"50%\" y=\"53%\">3804</text></svg>"
      ],
      "text/plain": [
       "<IPython.core.display.SVG object>"
      ]
     },
     "metadata": {},
     "output_type": "display_data"
    },
    {
     "data": {
      "image/svg+xml": [
       "<svg xmlns=\"http://www.w3.org/2000/svg\" xmlns:ev=\"http://www.w3.org/2001/xml-events\" xmlns:xlink=\"http://www.w3.org/1999/xlink\" baseProfile=\"full\" height=\"120\" version=\"1.1\" width=\"120\"><defs/><rect fill=\"#ed1b2a\" height=\"77\" rx=\"10\" ry=\"10\" width=\"100%\" x=\"0.0\" y=\"21.5\"/><text alignment-baseline=\"middle\" fill=\"#ffffff\" font-family=\"Arial\" font-size=\"45\" font-weight=\"bold\" text-anchor=\"middle\" x=\"50%\" y=\"53%\">N152</text></svg>"
      ],
      "text/plain": [
       "<IPython.core.display.SVG object>"
      ]
     },
     "metadata": {},
     "output_type": "display_data"
    },
    {
     "data": {
      "image/svg+xml": [
       "<svg xmlns=\"http://www.w3.org/2000/svg\" xmlns:ev=\"http://www.w3.org/2001/xml-events\" xmlns:xlink=\"http://www.w3.org/1999/xlink\" baseProfile=\"full\" height=\"120\" version=\"1.1\" width=\"120\"><defs/><rect fill=\"#008b5a\" height=\"77\" rx=\"10\" ry=\"10\" width=\"100%\" x=\"0.0\" y=\"21.5\"/><text alignment-baseline=\"middle\" fill=\"#ffffff\" font-family=\"Arial\" font-size=\"45\" font-weight=\"bold\" text-anchor=\"middle\" x=\"50%\" y=\"53%\">N143</text></svg>"
      ],
      "text/plain": [
       "<IPython.core.display.SVG object>"
      ]
     },
     "metadata": {},
     "output_type": "display_data"
    },
    {
     "data": {
      "image/svg+xml": [
       "<svg xmlns=\"http://www.w3.org/2000/svg\" xmlns:ev=\"http://www.w3.org/2001/xml-events\" xmlns:xlink=\"http://www.w3.org/1999/xlink\" baseProfile=\"full\" height=\"120\" version=\"1.1\" width=\"120\"><defs/><rect fill=\"#98b3da\" height=\"77\" rx=\"10\" ry=\"10\" width=\"100%\" x=\"0.0\" y=\"21.5\"/><text alignment-baseline=\"middle\" fill=\"#ffffff\" font-family=\"Arial\" font-size=\"45\" font-weight=\"bold\" text-anchor=\"middle\" x=\"50%\" y=\"53%\">24</text></svg>"
      ],
      "text/plain": [
       "<IPython.core.display.SVG object>"
      ]
     },
     "metadata": {},
     "output_type": "display_data"
    },
    {
     "data": {
      "image/svg+xml": [
       "<svg xmlns=\"http://www.w3.org/2000/svg\" xmlns:ev=\"http://www.w3.org/2001/xml-events\" xmlns:xlink=\"http://www.w3.org/1999/xlink\" baseProfile=\"full\" height=\"120\" version=\"1.1\" width=\"120\"><defs/><rect fill=\"#e30613\" height=\"77\" rx=\"10\" ry=\"10\" width=\"100%\" x=\"0.0\" y=\"21.5\"/><text alignment-baseline=\"middle\" fill=\"#ffffff\" font-family=\"Arial\" font-size=\"45\" font-weight=\"bold\" text-anchor=\"middle\" x=\"50%\" y=\"53%\">101</text></svg>"
      ],
      "text/plain": [
       "<IPython.core.display.SVG object>"
      ]
     },
     "metadata": {},
     "output_type": "display_data"
    },
    {
     "data": {
      "image/svg+xml": [
       "<svg xmlns=\"http://www.w3.org/2000/svg\" xmlns:ev=\"http://www.w3.org/2001/xml-events\" xmlns:xlink=\"http://www.w3.org/1999/xlink\" baseProfile=\"full\" height=\"120\" version=\"1.1\" width=\"120\"><defs/><rect fill=\"#78c696\" height=\"77\" rx=\"10\" ry=\"10\" width=\"100%\" x=\"0.0\" y=\"21.5\"/><text alignment-baseline=\"middle\" fill=\"#000000\" font-family=\"Arial\" font-size=\"45\" font-weight=\"bold\" text-anchor=\"middle\" x=\"50%\" y=\"53%\">51</text></svg>"
      ],
      "text/plain": [
       "<IPython.core.display.SVG object>"
      ]
     },
     "metadata": {},
     "output_type": "display_data"
    },
    {
     "data": {
      "image/svg+xml": [
       "<svg xmlns=\"http://www.w3.org/2000/svg\" xmlns:ev=\"http://www.w3.org/2001/xml-events\" xmlns:xlink=\"http://www.w3.org/1999/xlink\" baseProfile=\"full\" height=\"120\" version=\"1.1\" width=\"120\"><defs/><rect fill=\"#8c4b25\" height=\"77\" rx=\"10\" ry=\"10\" width=\"100%\" x=\"0.0\" y=\"21.5\"/><text alignment-baseline=\"middle\" fill=\"#ffffff\" font-family=\"Arial\" font-size=\"45\" font-weight=\"bold\" text-anchor=\"middle\" x=\"50%\" y=\"53%\">21</text></svg>"
      ],
      "text/plain": [
       "<IPython.core.display.SVG object>"
      ]
     },
     "metadata": {},
     "output_type": "display_data"
    },
    {
     "data": {
      "image/svg+xml": [
       "<svg xmlns=\"http://www.w3.org/2000/svg\" xmlns:ev=\"http://www.w3.org/2001/xml-events\" xmlns:xlink=\"http://www.w3.org/1999/xlink\" baseProfile=\"full\" height=\"120\" version=\"1.1\" width=\"120\"><defs/><rect fill=\"#b6d061\" height=\"77\" rx=\"10\" ry=\"10\" width=\"100%\" x=\"0.0\" y=\"21.5\"/><text alignment-baseline=\"middle\" fill=\"#000000\" font-family=\"Arial\" font-size=\"45\" font-weight=\"bold\" text-anchor=\"middle\" x=\"50%\" y=\"53%\">22</text></svg>"
      ],
      "text/plain": [
       "<IPython.core.display.SVG object>"
      ]
     },
     "metadata": {},
     "output_type": "display_data"
    },
    {
     "data": {
      "image/svg+xml": [
       "<svg xmlns=\"http://www.w3.org/2000/svg\" xmlns:ev=\"http://www.w3.org/2001/xml-events\" xmlns:xlink=\"http://www.w3.org/1999/xlink\" baseProfile=\"full\" height=\"120\" version=\"1.1\" width=\"120\"><defs/><rect fill=\"#facc00\" height=\"77\" rx=\"10\" ry=\"10\" width=\"100%\" x=\"0.0\" y=\"21.5\"/><text alignment-baseline=\"middle\" fill=\"#000000\" font-family=\"Arial\" font-size=\"45\" font-weight=\"bold\" text-anchor=\"middle\" x=\"50%\" y=\"53%\">7</text></svg>"
      ],
      "text/plain": [
       "<IPython.core.display.SVG object>"
      ]
     },
     "metadata": {},
     "output_type": "display_data"
    },
    {
     "data": {
      "image/svg+xml": [
       "<svg xmlns=\"http://www.w3.org/2000/svg\" xmlns:ev=\"http://www.w3.org/2001/xml-events\" xmlns:xlink=\"http://www.w3.org/1999/xlink\" baseProfile=\"full\" height=\"120\" version=\"1.1\" width=\"120\"><defs/><rect fill=\"#c1ce00\" height=\"77\" rx=\"10\" ry=\"10\" width=\"100%\" x=\"0.0\" y=\"21.5\"/><text alignment-baseline=\"middle\" fill=\"#000000\" font-family=\"Arial\" font-size=\"45\" font-weight=\"bold\" text-anchor=\"middle\" x=\"50%\" y=\"53%\">7</text></svg>"
      ],
      "text/plain": [
       "<IPython.core.display.SVG object>"
      ]
     },
     "metadata": {},
     "output_type": "display_data"
    },
    {
     "data": {
      "image/svg+xml": [
       "<svg xmlns=\"http://www.w3.org/2000/svg\" xmlns:ev=\"http://www.w3.org/2001/xml-events\" xmlns:xlink=\"http://www.w3.org/1999/xlink\" baseProfile=\"full\" height=\"120\" version=\"1.1\" width=\"120\"><defs/><rect fill=\"#e78c2a\" height=\"77\" rx=\"10\" ry=\"10\" width=\"100%\" x=\"0.0\" y=\"21.5\"/><text alignment-baseline=\"middle\" fill=\"#000000\" font-family=\"Arial\" font-size=\"45\" font-weight=\"bold\" text-anchor=\"middle\" x=\"50%\" y=\"53%\">19</text></svg>"
      ],
      "text/plain": [
       "<IPython.core.display.SVG object>"
      ]
     },
     "metadata": {},
     "output_type": "display_data"
    },
    {
     "data": {
      "image/svg+xml": [
       "<svg xmlns=\"http://www.w3.org/2000/svg\" xmlns:ev=\"http://www.w3.org/2001/xml-events\" xmlns:xlink=\"http://www.w3.org/1999/xlink\" baseProfile=\"full\" height=\"120\" version=\"1.1\" width=\"120\"><defs/><rect fill=\"#c04191\" height=\"77\" rx=\"10\" ry=\"10\" width=\"100%\" x=\"0.0\" y=\"21.5\"/><text alignment-baseline=\"middle\" fill=\"#ffffff\" font-family=\"Arial\" font-size=\"45\" font-weight=\"bold\" text-anchor=\"middle\" x=\"50%\" y=\"53%\">16</text></svg>"
      ],
      "text/plain": [
       "<IPython.core.display.SVG object>"
      ]
     },
     "metadata": {},
     "output_type": "display_data"
    },
    {
     "data": {
      "image/svg+xml": [
       "<svg xmlns=\"http://www.w3.org/2000/svg\" xmlns:ev=\"http://www.w3.org/2001/xml-events\" xmlns:xlink=\"http://www.w3.org/1999/xlink\" baseProfile=\"full\" height=\"120\" version=\"1.1\" width=\"120\"><defs/><rect fill=\"#b28e64\" height=\"77\" rx=\"10\" ry=\"10\" width=\"100%\" x=\"0.0\" y=\"21.5\"/><text alignment-baseline=\"middle\" fill=\"#ffffff\" font-family=\"Arial\" font-size=\"45\" font-weight=\"bold\" text-anchor=\"middle\" x=\"50%\" y=\"53%\">71</text></svg>"
      ],
      "text/plain": [
       "<IPython.core.display.SVG object>"
      ]
     },
     "metadata": {},
     "output_type": "display_data"
    },
    {
     "data": {
      "image/svg+xml": [
       "<svg xmlns=\"http://www.w3.org/2000/svg\" xmlns:ev=\"http://www.w3.org/2001/xml-events\" xmlns:xlink=\"http://www.w3.org/1999/xlink\" baseProfile=\"full\" height=\"120\" version=\"1.1\" width=\"120\"><defs/><rect fill=\"#6166ff\" height=\"77\" rx=\"10\" ry=\"10\" width=\"100%\" x=\"0.0\" y=\"21.5\"/><text alignment-baseline=\"middle\" fill=\"#000000\" font-family=\"Arial\" font-size=\"45\" font-weight=\"bold\" text-anchor=\"middle\" x=\"50%\" y=\"53%\">6</text></svg>"
      ],
      "text/plain": [
       "<IPython.core.display.SVG object>"
      ]
     },
     "metadata": {},
     "output_type": "display_data"
    },
    {
     "data": {
      "image/svg+xml": [
       "<svg xmlns=\"http://www.w3.org/2000/svg\" xmlns:ev=\"http://www.w3.org/2001/xml-events\" xmlns:xlink=\"http://www.w3.org/1999/xlink\" baseProfile=\"full\" height=\"120\" version=\"1.1\" width=\"120\"><defs/><rect fill=\"#61edd5\" height=\"77\" rx=\"10\" ry=\"10\" width=\"100%\" x=\"0.0\" y=\"21.5\"/><text alignment-baseline=\"middle\" fill=\"#000000\" font-family=\"Arial\" font-size=\"45\" font-weight=\"bold\" text-anchor=\"middle\" x=\"50%\" y=\"53%\">7</text></svg>"
      ],
      "text/plain": [
       "<IPython.core.display.SVG object>"
      ]
     },
     "metadata": {},
     "output_type": "display_data"
    },
    {
     "data": {
      "image/svg+xml": [
       "<svg xmlns=\"http://www.w3.org/2000/svg\" xmlns:ev=\"http://www.w3.org/2001/xml-events\" xmlns:xlink=\"http://www.w3.org/1999/xlink\" baseProfile=\"full\" height=\"120\" version=\"1.1\" width=\"120\"><defs/><rect fill=\"#d96ba6\" height=\"77\" rx=\"10\" ry=\"10\" width=\"100%\" x=\"0.0\" y=\"21.5\"/><text alignment-baseline=\"middle\" fill=\"#ffffff\" font-family=\"Arial\" font-size=\"45\" font-weight=\"bold\" text-anchor=\"middle\" x=\"50%\" y=\"53%\">449</text></svg>"
      ],
      "text/plain": [
       "<IPython.core.display.SVG object>"
      ]
     },
     "metadata": {},
     "output_type": "display_data"
    },
    {
     "data": {
      "image/svg+xml": [
       "<svg xmlns=\"http://www.w3.org/2000/svg\" xmlns:ev=\"http://www.w3.org/2001/xml-events\" xmlns:xlink=\"http://www.w3.org/1999/xlink\" baseProfile=\"full\" height=\"120\" version=\"1.1\" width=\"120\"><defs/><rect fill=\"#00ff66\" height=\"77\" rx=\"10\" ry=\"10\" width=\"100%\" x=\"0.0\" y=\"21.5\"/><text alignment-baseline=\"middle\" fill=\"#000000\" font-family=\"Arial\" font-size=\"45\" font-weight=\"bold\" text-anchor=\"middle\" x=\"50%\" y=\"53%\">4301</text></svg>"
      ],
      "text/plain": [
       "<IPython.core.display.SVG object>"
      ]
     },
     "metadata": {},
     "output_type": "display_data"
    },
    {
     "data": {
      "image/svg+xml": [
       "<svg xmlns=\"http://www.w3.org/2000/svg\" xmlns:ev=\"http://www.w3.org/2001/xml-events\" xmlns:xlink=\"http://www.w3.org/1999/xlink\" baseProfile=\"full\" height=\"120\" version=\"1.1\" width=\"120\"><defs/><rect fill=\"#e18409\" height=\"77\" rx=\"10\" ry=\"10\" width=\"100%\" x=\"0.0\" y=\"21.5\"/><text alignment-baseline=\"middle\" fill=\"#ffffff\" font-family=\"Arial\" font-size=\"45\" font-weight=\"bold\" text-anchor=\"middle\" x=\"50%\" y=\"53%\">451</text></svg>"
      ],
      "text/plain": [
       "<IPython.core.display.SVG object>"
      ]
     },
     "metadata": {},
     "output_type": "display_data"
    },
    {
     "data": {
      "image/svg+xml": [
       "<svg xmlns=\"http://www.w3.org/2000/svg\" xmlns:ev=\"http://www.w3.org/2001/xml-events\" xmlns:xlink=\"http://www.w3.org/1999/xlink\" baseProfile=\"full\" height=\"120\" version=\"1.1\" width=\"120\"><defs/><rect fill=\"#d96ba6\" height=\"77\" rx=\"10\" ry=\"10\" width=\"100%\" x=\"0.0\" y=\"21.5\"/><text alignment-baseline=\"middle\" fill=\"#ffffff\" font-family=\"Arial\" font-size=\"45\" font-weight=\"bold\" text-anchor=\"middle\" x=\"50%\" y=\"53%\">453</text></svg>"
      ],
      "text/plain": [
       "<IPython.core.display.SVG object>"
      ]
     },
     "metadata": {},
     "output_type": "display_data"
    },
    {
     "data": {
      "image/svg+xml": [
       "<svg xmlns=\"http://www.w3.org/2000/svg\" xmlns:ev=\"http://www.w3.org/2001/xml-events\" xmlns:xlink=\"http://www.w3.org/1999/xlink\" baseProfile=\"full\" height=\"120\" version=\"1.1\" width=\"120\"><defs/><rect fill=\"#db2f36\" height=\"77\" rx=\"10\" ry=\"10\" width=\"100%\" x=\"0.0\" y=\"21.5\"/><text alignment-baseline=\"middle\" fill=\"#ffffff\" font-family=\"Arial\" font-size=\"45\" font-weight=\"bold\" text-anchor=\"middle\" x=\"50%\" y=\"53%\">2</text></svg>"
      ],
      "text/plain": [
       "<IPython.core.display.SVG object>"
      ]
     },
     "metadata": {},
     "output_type": "display_data"
    },
    {
     "data": {
      "image/svg+xml": [
       "<svg xmlns=\"http://www.w3.org/2000/svg\" xmlns:ev=\"http://www.w3.org/2001/xml-events\" xmlns:xlink=\"http://www.w3.org/1999/xlink\" baseProfile=\"full\" height=\"120\" version=\"1.1\" width=\"120\"><defs/><rect fill=\"#ff0000\" height=\"77\" rx=\"10\" ry=\"10\" width=\"100%\" x=\"0.0\" y=\"21.5\"/><text alignment-baseline=\"middle\" fill=\"#ffffff\" font-family=\"Arial\" font-size=\"45\" font-weight=\"bold\" text-anchor=\"middle\" x=\"50%\" y=\"53%\">23</text></svg>"
      ],
      "text/plain": [
       "<IPython.core.display.SVG object>"
      ]
     },
     "metadata": {},
     "output_type": "display_data"
    },
    {
     "data": {
      "image/svg+xml": [
       "<svg xmlns=\"http://www.w3.org/2000/svg\" xmlns:ev=\"http://www.w3.org/2001/xml-events\" xmlns:xlink=\"http://www.w3.org/1999/xlink\" baseProfile=\"full\" height=\"120\" version=\"1.1\" width=\"120\"><defs/><rect fill=\"#ceadcf\" height=\"77\" rx=\"10\" ry=\"10\" width=\"100%\" x=\"0.0\" y=\"21.5\"/><text alignment-baseline=\"middle\" fill=\"#000000\" font-family=\"Arial\" font-size=\"45\" font-weight=\"bold\" text-anchor=\"middle\" x=\"50%\" y=\"53%\">263</text></svg>"
      ],
      "text/plain": [
       "<IPython.core.display.SVG object>"
      ]
     },
     "metadata": {},
     "output_type": "display_data"
    },
    {
     "data": {
      "image/svg+xml": [
       "<svg xmlns=\"http://www.w3.org/2000/svg\" xmlns:ev=\"http://www.w3.org/2001/xml-events\" xmlns:xlink=\"http://www.w3.org/1999/xlink\" baseProfile=\"full\" height=\"120\" version=\"1.1\" width=\"120\"><defs/><rect fill=\"#ffcc30\" height=\"77\" rx=\"10\" ry=\"10\" width=\"100%\" x=\"0.0\" y=\"21.5\"/><text alignment-baseline=\"middle\" fill=\"#000000\" font-family=\"Arial\" font-size=\"45\" font-weight=\"bold\" text-anchor=\"middle\" x=\"50%\" y=\"53%\">42</text></svg>"
      ],
      "text/plain": [
       "<IPython.core.display.SVG object>"
      ]
     },
     "metadata": {},
     "output_type": "display_data"
    },
    {
     "data": {
      "image/svg+xml": [
       "<svg xmlns=\"http://www.w3.org/2000/svg\" xmlns:ev=\"http://www.w3.org/2001/xml-events\" xmlns:xlink=\"http://www.w3.org/1999/xlink\" baseProfile=\"full\" height=\"120\" version=\"1.1\" width=\"120\"><defs/><rect fill=\"#1791ff\" height=\"77\" rx=\"10\" ry=\"10\" width=\"100%\" x=\"0.0\" y=\"21.5\"/><text alignment-baseline=\"middle\" fill=\"#000000\" font-family=\"Arial\" font-size=\"45\" font-weight=\"bold\" text-anchor=\"middle\" x=\"50%\" y=\"53%\">24</text></svg>"
      ],
      "text/plain": [
       "<IPython.core.display.SVG object>"
      ]
     },
     "metadata": {},
     "output_type": "display_data"
    },
    {
     "data": {
      "image/svg+xml": [
       "<svg xmlns=\"http://www.w3.org/2000/svg\" xmlns:ev=\"http://www.w3.org/2001/xml-events\" xmlns:xlink=\"http://www.w3.org/1999/xlink\" baseProfile=\"full\" height=\"120\" version=\"1.1\" width=\"120\"><defs/><rect fill=\"#db8cff\" height=\"77\" rx=\"10\" ry=\"10\" width=\"100%\" x=\"0.0\" y=\"21.5\"/><text alignment-baseline=\"middle\" fill=\"#ffffff\" font-family=\"Arial\" font-size=\"45\" font-weight=\"bold\" text-anchor=\"middle\" x=\"50%\" y=\"53%\">5</text></svg>"
      ],
      "text/plain": [
       "<IPython.core.display.SVG object>"
      ]
     },
     "metadata": {},
     "output_type": "display_data"
    },
    {
     "data": {
      "image/svg+xml": [
       "<svg xmlns=\"http://www.w3.org/2000/svg\" xmlns:ev=\"http://www.w3.org/2001/xml-events\" xmlns:xlink=\"http://www.w3.org/1999/xlink\" baseProfile=\"full\" height=\"120\" version=\"1.1\" width=\"120\"><defs/><rect fill=\"#ff0000\" height=\"77\" rx=\"10\" ry=\"10\" width=\"100%\" x=\"0.0\" y=\"21.5\"/><text alignment-baseline=\"middle\" fill=\"#ffffff\" font-family=\"Arial\" font-size=\"45\" font-weight=\"bold\" text-anchor=\"middle\" x=\"50%\" y=\"53%\">1</text></svg>"
      ],
      "text/plain": [
       "<IPython.core.display.SVG object>"
      ]
     },
     "metadata": {},
     "output_type": "display_data"
    },
    {
     "data": {
      "image/svg+xml": [
       "<svg xmlns=\"http://www.w3.org/2000/svg\" xmlns:ev=\"http://www.w3.org/2001/xml-events\" xmlns:xlink=\"http://www.w3.org/1999/xlink\" baseProfile=\"full\" height=\"120\" version=\"1.1\" width=\"120\"><defs/><rect fill=\"#ff8c57\" height=\"77\" rx=\"10\" ry=\"10\" width=\"100%\" x=\"0.0\" y=\"21.5\"/><text alignment-baseline=\"middle\" fill=\"#000000\" font-family=\"Arial\" font-size=\"45\" font-weight=\"bold\" text-anchor=\"middle\" x=\"50%\" y=\"53%\">4</text></svg>"
      ],
      "text/plain": [
       "<IPython.core.display.SVG object>"
      ]
     },
     "metadata": {},
     "output_type": "display_data"
    },
    {
     "data": {
      "image/svg+xml": [
       "<svg xmlns=\"http://www.w3.org/2000/svg\" xmlns:ev=\"http://www.w3.org/2001/xml-events\" xmlns:xlink=\"http://www.w3.org/1999/xlink\" baseProfile=\"full\" height=\"120\" version=\"1.1\" width=\"120\"><defs/><rect fill=\"#0a560b\" height=\"77\" rx=\"10\" ry=\"10\" width=\"100%\" x=\"0.0\" y=\"21.5\"/><text alignment-baseline=\"middle\" fill=\"#ffffff\" font-family=\"Arial\" font-size=\"45\" font-weight=\"bold\" text-anchor=\"middle\" x=\"50%\" y=\"53%\">13</text></svg>"
      ],
      "text/plain": [
       "<IPython.core.display.SVG object>"
      ]
     },
     "metadata": {},
     "output_type": "display_data"
    },
    {
     "data": {
      "image/svg+xml": [
       "<svg xmlns=\"http://www.w3.org/2000/svg\" xmlns:ev=\"http://www.w3.org/2001/xml-events\" xmlns:xlink=\"http://www.w3.org/1999/xlink\" baseProfile=\"full\" height=\"120\" version=\"1.1\" width=\"120\"><defs/><rect fill=\"#ff5a00\" height=\"77\" rx=\"10\" ry=\"10\" width=\"100%\" x=\"0.0\" y=\"21.5\"/><text alignment-baseline=\"middle\" fill=\"#000000\" font-family=\"Arial\" font-size=\"45\" font-weight=\"bold\" text-anchor=\"middle\" x=\"50%\" y=\"53%\">48</text></svg>"
      ],
      "text/plain": [
       "<IPython.core.display.SVG object>"
      ]
     },
     "metadata": {},
     "output_type": "display_data"
    },
    {
     "data": {
      "image/svg+xml": [
       "<svg xmlns=\"http://www.w3.org/2000/svg\" xmlns:ev=\"http://www.w3.org/2001/xml-events\" xmlns:xlink=\"http://www.w3.org/1999/xlink\" baseProfile=\"full\" height=\"120\" version=\"1.1\" width=\"120\"><defs/><rect fill=\"#00a092\" height=\"77\" rx=\"10\" ry=\"10\" width=\"100%\" x=\"0.0\" y=\"21.5\"/><text alignment-baseline=\"middle\" fill=\"#ffffff\" font-family=\"Arial\" font-size=\"45\" font-weight=\"bold\" text-anchor=\"middle\" x=\"50%\" y=\"53%\">49</text></svg>"
      ],
      "text/plain": [
       "<IPython.core.display.SVG object>"
      ]
     },
     "metadata": {},
     "output_type": "display_data"
    },
    {
     "data": {
      "image/svg+xml": [
       "<svg xmlns=\"http://www.w3.org/2000/svg\" xmlns:ev=\"http://www.w3.org/2001/xml-events\" xmlns:xlink=\"http://www.w3.org/1999/xlink\" baseProfile=\"full\" height=\"120\" version=\"1.1\" width=\"120\"><defs/><rect fill=\"#00643c\" height=\"77\" rx=\"10\" ry=\"10\" width=\"100%\" x=\"0.0\" y=\"21.5\"/><text alignment-baseline=\"middle\" fill=\"#ffffff\" font-family=\"Arial\" font-size=\"45\" font-weight=\"bold\" text-anchor=\"middle\" x=\"50%\" y=\"53%\">57</text></svg>"
      ],
      "text/plain": [
       "<IPython.core.display.SVG object>"
      ]
     },
     "metadata": {},
     "output_type": "display_data"
    },
    {
     "data": {
      "image/svg+xml": [
       "<svg xmlns=\"http://www.w3.org/2000/svg\" xmlns:ev=\"http://www.w3.org/2001/xml-events\" xmlns:xlink=\"http://www.w3.org/1999/xlink\" baseProfile=\"full\" height=\"120\" version=\"1.1\" width=\"120\"><defs/><rect fill=\"#9b9842\" height=\"77\" rx=\"10\" ry=\"10\" width=\"100%\" x=\"0.0\" y=\"21.5\"/><text alignment-baseline=\"middle\" fill=\"#ffffff\" font-family=\"Arial\" font-size=\"45\" font-weight=\"bold\" text-anchor=\"middle\" x=\"50%\" y=\"53%\">42</text></svg>"
      ],
      "text/plain": [
       "<IPython.core.display.SVG object>"
      ]
     },
     "metadata": {},
     "output_type": "display_data"
    },
    {
     "data": {
      "image/svg+xml": [
       "<svg xmlns=\"http://www.w3.org/2000/svg\" xmlns:ev=\"http://www.w3.org/2001/xml-events\" xmlns:xlink=\"http://www.w3.org/1999/xlink\" baseProfile=\"full\" height=\"120\" version=\"1.1\" width=\"120\"><defs/><rect fill=\"#bf19ff\" height=\"77\" rx=\"10\" ry=\"10\" width=\"100%\" x=\"0.0\" y=\"21.5\"/><text alignment-baseline=\"middle\" fill=\"#ffffff\" font-family=\"Arial\" font-size=\"45\" font-weight=\"bold\" text-anchor=\"middle\" x=\"50%\" y=\"53%\">2276</text></svg>"
      ],
      "text/plain": [
       "<IPython.core.display.SVG object>"
      ]
     },
     "metadata": {},
     "output_type": "display_data"
    },
    {
     "data": {
      "image/svg+xml": [
       "<svg xmlns=\"http://www.w3.org/2000/svg\" xmlns:ev=\"http://www.w3.org/2001/xml-events\" xmlns:xlink=\"http://www.w3.org/1999/xlink\" baseProfile=\"full\" height=\"120\" version=\"1.1\" width=\"120\"><defs/><rect fill=\"#4cff00\" height=\"77\" rx=\"10\" ry=\"10\" width=\"100%\" x=\"0.0\" y=\"21.5\"/><text alignment-baseline=\"middle\" fill=\"#000000\" font-family=\"Arial\" font-size=\"45\" font-weight=\"bold\" text-anchor=\"middle\" x=\"50%\" y=\"53%\">2273</text></svg>"
      ],
      "text/plain": [
       "<IPython.core.display.SVG object>"
      ]
     },
     "metadata": {},
     "output_type": "display_data"
    },
    {
     "data": {
      "image/svg+xml": [
       "<svg xmlns=\"http://www.w3.org/2000/svg\" xmlns:ev=\"http://www.w3.org/2001/xml-events\" xmlns:xlink=\"http://www.w3.org/1999/xlink\" baseProfile=\"full\" height=\"120\" version=\"1.1\" width=\"120\"><defs/><rect fill=\"#ff0000\" height=\"77\" rx=\"10\" ry=\"10\" width=\"100%\" x=\"0.0\" y=\"21.5\"/><text alignment-baseline=\"middle\" fill=\"#000000\" font-family=\"Arial\" font-size=\"45\" font-weight=\"bold\" text-anchor=\"middle\" x=\"50%\" y=\"53%\">2271</text></svg>"
      ],
      "text/plain": [
       "<IPython.core.display.SVG object>"
      ]
     },
     "metadata": {},
     "output_type": "display_data"
    },
    {
     "data": {
      "image/svg+xml": [
       "<svg xmlns=\"http://www.w3.org/2000/svg\" xmlns:ev=\"http://www.w3.org/2001/xml-events\" xmlns:xlink=\"http://www.w3.org/1999/xlink\" baseProfile=\"full\" height=\"120\" version=\"1.1\" width=\"120\"><defs/><rect fill=\"#e74215\" height=\"77\" rx=\"10\" ry=\"10\" width=\"100%\" x=\"0.0\" y=\"21.5\"/><text alignment-baseline=\"middle\" fill=\"#ffffff\" font-family=\"Arial\" font-size=\"45\" font-weight=\"bold\" text-anchor=\"middle\" x=\"50%\" y=\"53%\">417</text></svg>"
      ],
      "text/plain": [
       "<IPython.core.display.SVG object>"
      ]
     },
     "metadata": {},
     "output_type": "display_data"
    },
    {
     "data": {
      "image/svg+xml": [
       "<svg xmlns=\"http://www.w3.org/2000/svg\" xmlns:ev=\"http://www.w3.org/2001/xml-events\" xmlns:xlink=\"http://www.w3.org/1999/xlink\" baseProfile=\"full\" height=\"120\" version=\"1.1\" width=\"120\"><defs/><rect fill=\"#79ac2b\" height=\"77\" rx=\"10\" ry=\"10\" width=\"100%\" x=\"0.0\" y=\"21.5\"/><text alignment-baseline=\"middle\" fill=\"#ffffff\" font-family=\"Arial\" font-size=\"45\" font-weight=\"bold\" text-anchor=\"middle\" x=\"50%\" y=\"53%\">467</text></svg>"
      ],
      "text/plain": [
       "<IPython.core.display.SVG object>"
      ]
     },
     "metadata": {},
     "output_type": "display_data"
    },
    {
     "data": {
      "image/svg+xml": [
       "<svg xmlns=\"http://www.w3.org/2000/svg\" xmlns:ev=\"http://www.w3.org/2001/xml-events\" xmlns:xlink=\"http://www.w3.org/1999/xlink\" baseProfile=\"full\" height=\"120\" version=\"1.1\" width=\"120\"><defs/><rect fill=\"#e2001a\" height=\"77\" rx=\"10\" ry=\"10\" width=\"100%\" x=\"0.0\" y=\"21.5\"/><text alignment-baseline=\"middle\" fill=\"#ffffff\" font-family=\"Arial\" font-size=\"45\" font-weight=\"bold\" text-anchor=\"middle\" x=\"50%\" y=\"53%\">602</text></svg>"
      ],
      "text/plain": [
       "<IPython.core.display.SVG object>"
      ]
     },
     "metadata": {},
     "output_type": "display_data"
    },
    {
     "data": {
      "image/svg+xml": [
       "<svg xmlns=\"http://www.w3.org/2000/svg\" xmlns:ev=\"http://www.w3.org/2001/xml-events\" xmlns:xlink=\"http://www.w3.org/1999/xlink\" baseProfile=\"full\" height=\"120\" version=\"1.1\" width=\"120\"><defs/><rect fill=\"#00b0f0\" height=\"77\" rx=\"10\" ry=\"10\" width=\"100%\" x=\"0.0\" y=\"21.5\"/><text alignment-baseline=\"middle\" fill=\"#ffffff\" font-family=\"Arial\" font-size=\"45\" font-weight=\"bold\" text-anchor=\"middle\" x=\"50%\" y=\"53%\">28</text></svg>"
      ],
      "text/plain": [
       "<IPython.core.display.SVG object>"
      ]
     },
     "metadata": {},
     "output_type": "display_data"
    },
    {
     "data": {
      "image/svg+xml": [
       "<svg xmlns=\"http://www.w3.org/2000/svg\" xmlns:ev=\"http://www.w3.org/2001/xml-events\" xmlns:xlink=\"http://www.w3.org/1999/xlink\" baseProfile=\"full\" height=\"120\" version=\"1.1\" width=\"120\"><defs/><rect fill=\"#79ac2b\" height=\"77\" rx=\"10\" ry=\"10\" width=\"100%\" x=\"0.0\" y=\"21.5\"/><text alignment-baseline=\"middle\" fill=\"#ffffff\" font-family=\"Arial\" font-size=\"45\" font-weight=\"bold\" text-anchor=\"middle\" x=\"50%\" y=\"53%\">468</text></svg>"
      ],
      "text/plain": [
       "<IPython.core.display.SVG object>"
      ]
     },
     "metadata": {},
     "output_type": "display_data"
    },
    {
     "data": {
      "image/svg+xml": [
       "<svg xmlns=\"http://www.w3.org/2000/svg\" xmlns:ev=\"http://www.w3.org/2001/xml-events\" xmlns:xlink=\"http://www.w3.org/1999/xlink\" baseProfile=\"full\" height=\"120\" version=\"1.1\" width=\"120\"><defs/><rect fill=\"#f28e43\" height=\"77\" rx=\"10\" ry=\"10\" width=\"100%\" x=\"0.0\" y=\"21.5\"/><text alignment-baseline=\"middle\" fill=\"#000000\" font-family=\"Arial\" font-size=\"45\" font-weight=\"bold\" text-anchor=\"middle\" x=\"50%\" y=\"53%\">607</text></svg>"
      ],
      "text/plain": [
       "<IPython.core.display.SVG object>"
      ]
     },
     "metadata": {},
     "output_type": "display_data"
    },
    {
     "data": {
      "image/svg+xml": [
       "<svg xmlns=\"http://www.w3.org/2000/svg\" xmlns:ev=\"http://www.w3.org/2001/xml-events\" xmlns:xlink=\"http://www.w3.org/1999/xlink\" baseProfile=\"full\" height=\"120\" version=\"1.1\" width=\"120\"><defs/><rect fill=\"#81d4f1\" height=\"77\" rx=\"10\" ry=\"10\" width=\"100%\" x=\"0.0\" y=\"21.5\"/><text alignment-baseline=\"middle\" fill=\"#000000\" font-family=\"Arial\" font-size=\"45\" font-weight=\"bold\" text-anchor=\"middle\" x=\"50%\" y=\"53%\">407</text></svg>"
      ],
      "text/plain": [
       "<IPython.core.display.SVG object>"
      ]
     },
     "metadata": {},
     "output_type": "display_data"
    },
    {
     "data": {
      "image/svg+xml": [
       "<svg xmlns=\"http://www.w3.org/2000/svg\" xmlns:ev=\"http://www.w3.org/2001/xml-events\" xmlns:xlink=\"http://www.w3.org/1999/xlink\" baseProfile=\"full\" height=\"120\" version=\"1.1\" width=\"120\"><defs/><rect fill=\"#f28cbd\" height=\"77\" rx=\"10\" ry=\"10\" width=\"100%\" x=\"0.0\" y=\"21.5\"/><text alignment-baseline=\"middle\" fill=\"#000000\" font-family=\"Arial\" font-size=\"45\" font-weight=\"bold\" text-anchor=\"middle\" x=\"50%\" y=\"53%\">414</text></svg>"
      ],
      "text/plain": [
       "<IPython.core.display.SVG object>"
      ]
     },
     "metadata": {},
     "output_type": "display_data"
    },
    {
     "data": {
      "image/svg+xml": [
       "<svg xmlns=\"http://www.w3.org/2000/svg\" xmlns:ev=\"http://www.w3.org/2001/xml-events\" xmlns:xlink=\"http://www.w3.org/1999/xlink\" baseProfile=\"full\" height=\"120\" version=\"1.1\" width=\"120\"><defs/><rect fill=\"#f200cc\" height=\"77\" rx=\"10\" ry=\"10\" width=\"100%\" x=\"0.0\" y=\"21.5\"/><text alignment-baseline=\"middle\" fill=\"#ffffff\" font-family=\"Arial\" font-size=\"45\" font-weight=\"bold\" text-anchor=\"middle\" x=\"50%\" y=\"53%\">109</text></svg>"
      ],
      "text/plain": [
       "<IPython.core.display.SVG object>"
      ]
     },
     "metadata": {},
     "output_type": "display_data"
    },
    {
     "data": {
      "image/svg+xml": [
       "<svg xmlns=\"http://www.w3.org/2000/svg\" xmlns:ev=\"http://www.w3.org/2001/xml-events\" xmlns:xlink=\"http://www.w3.org/1999/xlink\" baseProfile=\"full\" height=\"120\" version=\"1.1\" width=\"120\"><defs/><rect fill=\"#676464\" height=\"77\" rx=\"10\" ry=\"10\" width=\"100%\" x=\"0.0\" y=\"21.5\"/><text alignment-baseline=\"middle\" fill=\"#ffffff\" font-family=\"Arial\" font-size=\"45\" font-weight=\"bold\" text-anchor=\"middle\" x=\"50%\" y=\"53%\">412</text></svg>"
      ],
      "text/plain": [
       "<IPython.core.display.SVG object>"
      ]
     },
     "metadata": {},
     "output_type": "display_data"
    },
    {
     "data": {
      "image/svg+xml": [
       "<svg xmlns=\"http://www.w3.org/2000/svg\" xmlns:ev=\"http://www.w3.org/2001/xml-events\" xmlns:xlink=\"http://www.w3.org/1999/xlink\" baseProfile=\"full\" height=\"120\" version=\"1.1\" width=\"120\"><defs/><rect fill=\"#f3a4ba\" height=\"77\" rx=\"10\" ry=\"10\" width=\"100%\" x=\"0.0\" y=\"21.5\"/><text alignment-baseline=\"middle\" fill=\"#000000\" font-family=\"Arial\" font-size=\"45\" font-weight=\"bold\" text-anchor=\"middle\" x=\"50%\" y=\"53%\">617</text></svg>"
      ],
      "text/plain": [
       "<IPython.core.display.SVG object>"
      ]
     },
     "metadata": {},
     "output_type": "display_data"
    },
    {
     "data": {
      "image/svg+xml": [
       "<svg xmlns=\"http://www.w3.org/2000/svg\" xmlns:ev=\"http://www.w3.org/2001/xml-events\" xmlns:xlink=\"http://www.w3.org/1999/xlink\" baseProfile=\"full\" height=\"120\" version=\"1.1\" width=\"120\"><defs/><rect fill=\"#40147f\" height=\"77\" rx=\"10\" ry=\"10\" width=\"100%\" x=\"0.0\" y=\"21.5\"/><text alignment-baseline=\"middle\" fill=\"#ffffff\" font-family=\"Arial\" font-size=\"45\" font-weight=\"bold\" text-anchor=\"middle\" x=\"50%\" y=\"53%\">31</text></svg>"
      ],
      "text/plain": [
       "<IPython.core.display.SVG object>"
      ]
     },
     "metadata": {},
     "output_type": "display_data"
    },
    {
     "data": {
      "image/svg+xml": [
       "<svg xmlns=\"http://www.w3.org/2000/svg\" xmlns:ev=\"http://www.w3.org/2001/xml-events\" xmlns:xlink=\"http://www.w3.org/1999/xlink\" baseProfile=\"full\" height=\"120\" version=\"1.1\" width=\"120\"><defs/><rect fill=\"#b1badf\" height=\"77\" rx=\"10\" ry=\"10\" width=\"100%\" x=\"0.0\" y=\"21.5\"/><text alignment-baseline=\"middle\" fill=\"#000000\" font-family=\"Arial\" font-size=\"45\" font-weight=\"bold\" text-anchor=\"middle\" x=\"50%\" y=\"53%\">430</text></svg>"
      ],
      "text/plain": [
       "<IPython.core.display.SVG object>"
      ]
     },
     "metadata": {},
     "output_type": "display_data"
    },
    {
     "data": {
      "image/svg+xml": [
       "<svg xmlns=\"http://www.w3.org/2000/svg\" xmlns:ev=\"http://www.w3.org/2001/xml-events\" xmlns:xlink=\"http://www.w3.org/1999/xlink\" baseProfile=\"full\" height=\"120\" version=\"1.1\" width=\"120\"><defs/><rect fill=\"#ff7300\" height=\"77\" rx=\"10\" ry=\"10\" width=\"100%\" x=\"0.0\" y=\"21.5\"/><text alignment-baseline=\"middle\" fill=\"#ffffff\" font-family=\"Arial\" font-size=\"45\" font-weight=\"bold\" text-anchor=\"middle\" x=\"50%\" y=\"53%\">20</text></svg>"
      ],
      "text/plain": [
       "<IPython.core.display.SVG object>"
      ]
     },
     "metadata": {},
     "output_type": "display_data"
    },
    {
     "data": {
      "image/svg+xml": [
       "<svg xmlns=\"http://www.w3.org/2000/svg\" xmlns:ev=\"http://www.w3.org/2001/xml-events\" xmlns:xlink=\"http://www.w3.org/1999/xlink\" baseProfile=\"full\" height=\"120\" version=\"1.1\" width=\"120\"><defs/><rect fill=\"#009fe3\" height=\"77\" rx=\"10\" ry=\"10\" width=\"100%\" x=\"0.0\" y=\"21.5\"/><text alignment-baseline=\"middle\" fill=\"#000000\" font-family=\"Arial\" font-size=\"45\" font-weight=\"bold\" text-anchor=\"middle\" x=\"50%\" y=\"53%\">458</text></svg>"
      ],
      "text/plain": [
       "<IPython.core.display.SVG object>"
      ]
     },
     "metadata": {},
     "output_type": "display_data"
    },
    {
     "data": {
      "image/svg+xml": [
       "<svg xmlns=\"http://www.w3.org/2000/svg\" xmlns:ev=\"http://www.w3.org/2001/xml-events\" xmlns:xlink=\"http://www.w3.org/1999/xlink\" baseProfile=\"full\" height=\"120\" version=\"1.1\" width=\"120\"><defs/><rect fill=\"#e20022\" height=\"77\" rx=\"10\" ry=\"10\" width=\"100%\" x=\"0.0\" y=\"21.5\"/><text alignment-baseline=\"middle\" fill=\"#ffffff\" font-family=\"Arial\" font-size=\"45\" font-weight=\"bold\" text-anchor=\"middle\" x=\"50%\" y=\"53%\">262</text></svg>"
      ],
      "text/plain": [
       "<IPython.core.display.SVG object>"
      ]
     },
     "metadata": {},
     "output_type": "display_data"
    },
    {
     "data": {
      "image/svg+xml": [
       "<svg xmlns=\"http://www.w3.org/2000/svg\" xmlns:ev=\"http://www.w3.org/2001/xml-events\" xmlns:xlink=\"http://www.w3.org/1999/xlink\" baseProfile=\"full\" height=\"120\" version=\"1.1\" width=\"120\"><defs/><rect fill=\"#b1badf\" height=\"77\" rx=\"10\" ry=\"10\" width=\"100%\" x=\"0.0\" y=\"21.5\"/><text alignment-baseline=\"middle\" fill=\"#000000\" font-family=\"Arial\" font-size=\"45\" font-weight=\"bold\" text-anchor=\"middle\" x=\"50%\" y=\"53%\">431</text></svg>"
      ],
      "text/plain": [
       "<IPython.core.display.SVG object>"
      ]
     },
     "metadata": {},
     "output_type": "display_data"
    },
    {
     "data": {
      "image/svg+xml": [
       "<svg xmlns=\"http://www.w3.org/2000/svg\" xmlns:ev=\"http://www.w3.org/2001/xml-events\" xmlns:xlink=\"http://www.w3.org/1999/xlink\" baseProfile=\"full\" height=\"120\" version=\"1.1\" width=\"120\"><defs/><rect fill=\"#6aa84f\" height=\"77\" rx=\"10\" ry=\"10\" width=\"100%\" x=\"0.0\" y=\"21.5\"/><text alignment-baseline=\"middle\" fill=\"#ffffff\" font-family=\"Arial\" font-size=\"45\" font-weight=\"bold\" text-anchor=\"middle\" x=\"50%\" y=\"53%\">71</text></svg>"
      ],
      "text/plain": [
       "<IPython.core.display.SVG object>"
      ]
     },
     "metadata": {},
     "output_type": "display_data"
    },
    {
     "data": {
      "image/svg+xml": [
       "<svg xmlns=\"http://www.w3.org/2000/svg\" xmlns:ev=\"http://www.w3.org/2001/xml-events\" xmlns:xlink=\"http://www.w3.org/1999/xlink\" baseProfile=\"full\" height=\"120\" version=\"1.1\" width=\"120\"><defs/><rect fill=\"#f9bd1b\" height=\"77\" rx=\"10\" ry=\"10\" width=\"100%\" x=\"0.0\" y=\"21.5\"/><text alignment-baseline=\"middle\" fill=\"#000000\" font-family=\"Arial\" font-size=\"45\" font-weight=\"bold\" text-anchor=\"middle\" x=\"50%\" y=\"53%\">469</text></svg>"
      ],
      "text/plain": [
       "<IPython.core.display.SVG object>"
      ]
     },
     "metadata": {},
     "output_type": "display_data"
    },
    {
     "data": {
      "image/svg+xml": [
       "<svg xmlns=\"http://www.w3.org/2000/svg\" xmlns:ev=\"http://www.w3.org/2001/xml-events\" xmlns:xlink=\"http://www.w3.org/1999/xlink\" baseProfile=\"full\" height=\"120\" version=\"1.1\" width=\"120\"><defs/><rect fill=\"#38761d\" height=\"77\" rx=\"10\" ry=\"10\" width=\"100%\" x=\"0.0\" y=\"21.5\"/><text alignment-baseline=\"middle\" fill=\"#ffffff\" font-family=\"Arial\" font-size=\"45\" font-weight=\"bold\" text-anchor=\"middle\" x=\"50%\" y=\"53%\">82</text></svg>"
      ],
      "text/plain": [
       "<IPython.core.display.SVG object>"
      ]
     },
     "metadata": {},
     "output_type": "display_data"
    },
    {
     "data": {
      "image/svg+xml": [
       "<svg xmlns=\"http://www.w3.org/2000/svg\" xmlns:ev=\"http://www.w3.org/2001/xml-events\" xmlns:xlink=\"http://www.w3.org/1999/xlink\" baseProfile=\"full\" height=\"120\" version=\"1.1\" width=\"120\"><defs/><rect fill=\"#f4cccc\" height=\"77\" rx=\"10\" ry=\"10\" width=\"100%\" x=\"0.0\" y=\"21.5\"/><text alignment-baseline=\"middle\" fill=\"#000000\" font-family=\"Arial\" font-size=\"45\" font-weight=\"bold\" text-anchor=\"middle\" x=\"50%\" y=\"53%\">9</text></svg>"
      ],
      "text/plain": [
       "<IPython.core.display.SVG object>"
      ]
     },
     "metadata": {},
     "output_type": "display_data"
    },
    {
     "data": {
      "image/svg+xml": [
       "<svg xmlns=\"http://www.w3.org/2000/svg\" xmlns:ev=\"http://www.w3.org/2001/xml-events\" xmlns:xlink=\"http://www.w3.org/1999/xlink\" baseProfile=\"full\" height=\"120\" version=\"1.1\" width=\"120\"><defs/><rect fill=\"#98d4e2\" height=\"77\" rx=\"10\" ry=\"10\" width=\"100%\" x=\"0.0\" y=\"21.5\"/><text alignment-baseline=\"middle\" fill=\"#000000\" font-family=\"Arial\" font-size=\"45\" font-weight=\"bold\" text-anchor=\"middle\" x=\"50%\" y=\"53%\">41</text></svg>"
      ],
      "text/plain": [
       "<IPython.core.display.SVG object>"
      ]
     },
     "metadata": {},
     "output_type": "display_data"
    },
    {
     "data": {
      "image/svg+xml": [
       "<svg xmlns=\"http://www.w3.org/2000/svg\" xmlns:ev=\"http://www.w3.org/2001/xml-events\" xmlns:xlink=\"http://www.w3.org/1999/xlink\" baseProfile=\"full\" height=\"120\" version=\"1.1\" width=\"120\"><defs/><rect fill=\"#bc85bb\" height=\"77\" rx=\"10\" ry=\"10\" width=\"100%\" x=\"0.0\" y=\"21.5\"/><text alignment-baseline=\"middle\" fill=\"#000000\" font-family=\"Arial\" font-size=\"45\" font-weight=\"bold\" text-anchor=\"middle\" x=\"50%\" y=\"53%\">4</text></svg>"
      ],
      "text/plain": [
       "<IPython.core.display.SVG object>"
      ]
     },
     "metadata": {},
     "output_type": "display_data"
    },
    {
     "data": {
      "image/svg+xml": [
       "<svg xmlns=\"http://www.w3.org/2000/svg\" xmlns:ev=\"http://www.w3.org/2001/xml-events\" xmlns:xlink=\"http://www.w3.org/1999/xlink\" baseProfile=\"full\" height=\"120\" version=\"1.1\" width=\"120\"><defs/><rect fill=\"#fdc300\" height=\"77\" rx=\"10\" ry=\"10\" width=\"100%\" x=\"0.0\" y=\"21.5\"/><text alignment-baseline=\"middle\" fill=\"#ffffff\" font-family=\"Arial\" font-size=\"45\" font-weight=\"bold\" text-anchor=\"middle\" x=\"50%\" y=\"53%\">76</text></svg>"
      ],
      "text/plain": [
       "<IPython.core.display.SVG object>"
      ]
     },
     "metadata": {},
     "output_type": "display_data"
    },
    {
     "data": {
      "image/svg+xml": [
       "<svg xmlns=\"http://www.w3.org/2000/svg\" xmlns:ev=\"http://www.w3.org/2001/xml-events\" xmlns:xlink=\"http://www.w3.org/1999/xlink\" baseProfile=\"full\" height=\"120\" version=\"1.1\" width=\"120\"><defs/><rect fill=\"#b1b9df\" height=\"77\" rx=\"10\" ry=\"10\" width=\"100%\" x=\"0.0\" y=\"21.5\"/><text alignment-baseline=\"middle\" fill=\"#000000\" font-family=\"Arial\" font-size=\"45\" font-weight=\"bold\" text-anchor=\"middle\" x=\"50%\" y=\"53%\">444</text></svg>"
      ],
      "text/plain": [
       "<IPython.core.display.SVG object>"
      ]
     },
     "metadata": {},
     "output_type": "display_data"
    },
    {
     "data": {
      "image/svg+xml": [
       "<svg xmlns=\"http://www.w3.org/2000/svg\" xmlns:ev=\"http://www.w3.org/2001/xml-events\" xmlns:xlink=\"http://www.w3.org/1999/xlink\" baseProfile=\"full\" height=\"120\" version=\"1.1\" width=\"120\"><defs/><rect fill=\"#82c8e6\" height=\"77\" rx=\"10\" ry=\"10\" width=\"100%\" x=\"0.0\" y=\"21.5\"/><text alignment-baseline=\"middle\" fill=\"#000000\" font-family=\"Arial\" font-size=\"45\" font-weight=\"bold\" text-anchor=\"middle\" x=\"50%\" y=\"53%\">325</text></svg>"
      ],
      "text/plain": [
       "<IPython.core.display.SVG object>"
      ]
     },
     "metadata": {},
     "output_type": "display_data"
    },
    {
     "data": {
      "image/svg+xml": [
       "<svg xmlns=\"http://www.w3.org/2000/svg\" xmlns:ev=\"http://www.w3.org/2001/xml-events\" xmlns:xlink=\"http://www.w3.org/1999/xlink\" baseProfile=\"full\" height=\"120\" version=\"1.1\" width=\"120\"><defs/><rect fill=\"#c5a3cd\" height=\"77\" rx=\"10\" ry=\"10\" width=\"100%\" x=\"0.0\" y=\"21.5\"/><text alignment-baseline=\"middle\" fill=\"#000000\" font-family=\"Arial\" font-size=\"45\" font-weight=\"bold\" text-anchor=\"middle\" x=\"50%\" y=\"53%\">34</text></svg>"
      ],
      "text/plain": [
       "<IPython.core.display.SVG object>"
      ]
     },
     "metadata": {},
     "output_type": "display_data"
    },
    {
     "data": {
      "image/svg+xml": [
       "<svg xmlns=\"http://www.w3.org/2000/svg\" xmlns:ev=\"http://www.w3.org/2001/xml-events\" xmlns:xlink=\"http://www.w3.org/1999/xlink\" baseProfile=\"full\" height=\"120\" version=\"1.1\" width=\"120\"><defs/><rect fill=\"#c4a4cc\" height=\"77\" rx=\"10\" ry=\"10\" width=\"100%\" x=\"0.0\" y=\"21.5\"/><text alignment-baseline=\"middle\" fill=\"#000000\" font-family=\"Arial\" font-size=\"45\" font-weight=\"bold\" text-anchor=\"middle\" x=\"50%\" y=\"53%\">2C</text></svg>"
      ],
      "text/plain": [
       "<IPython.core.display.SVG object>"
      ]
     },
     "metadata": {},
     "output_type": "display_data"
    },
    {
     "data": {
      "image/svg+xml": [
       "<svg xmlns=\"http://www.w3.org/2000/svg\" xmlns:ev=\"http://www.w3.org/2001/xml-events\" xmlns:xlink=\"http://www.w3.org/1999/xlink\" baseProfile=\"full\" height=\"120\" version=\"1.1\" width=\"120\"><defs/><rect fill=\"#ff5a00\" height=\"77\" rx=\"10\" ry=\"10\" width=\"100%\" x=\"0.0\" y=\"21.5\"/><text alignment-baseline=\"middle\" fill=\"#ffffff\" font-family=\"Arial\" font-size=\"45\" font-weight=\"bold\" text-anchor=\"middle\" x=\"50%\" y=\"53%\">74</text></svg>"
      ],
      "text/plain": [
       "<IPython.core.display.SVG object>"
      ]
     },
     "metadata": {},
     "output_type": "display_data"
    },
    {
     "data": {
      "image/svg+xml": [
       "<svg xmlns=\"http://www.w3.org/2000/svg\" xmlns:ev=\"http://www.w3.org/2001/xml-events\" xmlns:xlink=\"http://www.w3.org/1999/xlink\" baseProfile=\"full\" height=\"120\" version=\"1.1\" width=\"120\"><defs/><rect fill=\"#f8b63a\" height=\"77\" rx=\"10\" ry=\"10\" width=\"100%\" x=\"0.0\" y=\"21.5\"/><text alignment-baseline=\"middle\" fill=\"#000000\" font-family=\"Arial\" font-size=\"45\" font-weight=\"bold\" text-anchor=\"middle\" x=\"50%\" y=\"53%\">35</text></svg>"
      ],
      "text/plain": [
       "<IPython.core.display.SVG object>"
      ]
     },
     "metadata": {},
     "output_type": "display_data"
    },
    {
     "data": {
      "image/svg+xml": [
       "<svg xmlns=\"http://www.w3.org/2000/svg\" xmlns:ev=\"http://www.w3.org/2001/xml-events\" xmlns:xlink=\"http://www.w3.org/1999/xlink\" baseProfile=\"full\" height=\"120\" version=\"1.1\" width=\"120\"><defs/><rect fill=\"#8ad3de\" height=\"77\" rx=\"10\" ry=\"10\" width=\"100%\" x=\"0.0\" y=\"21.5\"/><text alignment-baseline=\"middle\" fill=\"#000000\" font-family=\"Arial\" font-size=\"45\" font-weight=\"bold\" text-anchor=\"middle\" x=\"50%\" y=\"53%\">22</text></svg>"
      ],
      "text/plain": [
       "<IPython.core.display.SVG object>"
      ]
     },
     "metadata": {},
     "output_type": "display_data"
    },
    {
     "data": {
      "image/svg+xml": [
       "<svg xmlns=\"http://www.w3.org/2000/svg\" xmlns:ev=\"http://www.w3.org/2001/xml-events\" xmlns:xlink=\"http://www.w3.org/1999/xlink\" baseProfile=\"full\" height=\"120\" version=\"1.1\" width=\"120\"><defs/><rect fill=\"#5091cb\" height=\"77\" rx=\"10\" ry=\"10\" width=\"100%\" x=\"0.0\" y=\"21.5\"/><text alignment-baseline=\"middle\" fill=\"#ffffff\" font-family=\"Arial\" font-size=\"45\" font-weight=\"bold\" text-anchor=\"middle\" x=\"50%\" y=\"53%\">17</text></svg>"
      ],
      "text/plain": [
       "<IPython.core.display.SVG object>"
      ]
     },
     "metadata": {},
     "output_type": "display_data"
    },
    {
     "data": {
      "image/svg+xml": [
       "<svg xmlns=\"http://www.w3.org/2000/svg\" xmlns:ev=\"http://www.w3.org/2001/xml-events\" xmlns:xlink=\"http://www.w3.org/1999/xlink\" baseProfile=\"full\" height=\"120\" version=\"1.1\" width=\"120\"><defs/><rect fill=\"#8d5e2a\" height=\"77\" rx=\"10\" ry=\"10\" width=\"100%\" x=\"0.0\" y=\"21.5\"/><text alignment-baseline=\"middle\" fill=\"#ffffff\" font-family=\"Arial\" font-size=\"45\" font-weight=\"bold\" text-anchor=\"middle\" x=\"50%\" y=\"53%\">331</text></svg>"
      ],
      "text/plain": [
       "<IPython.core.display.SVG object>"
      ]
     },
     "metadata": {},
     "output_type": "display_data"
    },
    {
     "data": {
      "image/svg+xml": [
       "<svg xmlns=\"http://www.w3.org/2000/svg\" xmlns:ev=\"http://www.w3.org/2001/xml-events\" xmlns:xlink=\"http://www.w3.org/1999/xlink\" baseProfile=\"full\" height=\"120\" version=\"1.1\" width=\"120\"><defs/><rect fill=\"#de9b9f\" height=\"77\" rx=\"10\" ry=\"10\" width=\"100%\" x=\"0.0\" y=\"21.5\"/><text alignment-baseline=\"middle\" fill=\"#ffffff\" font-family=\"Arial\" font-size=\"45\" font-weight=\"bold\" text-anchor=\"middle\" x=\"50%\" y=\"53%\">260</text></svg>"
      ],
      "text/plain": [
       "<IPython.core.display.SVG object>"
      ]
     },
     "metadata": {},
     "output_type": "display_data"
    },
    {
     "data": {
      "image/svg+xml": [
       "<svg xmlns=\"http://www.w3.org/2000/svg\" xmlns:ev=\"http://www.w3.org/2001/xml-events\" xmlns:xlink=\"http://www.w3.org/1999/xlink\" baseProfile=\"full\" height=\"120\" version=\"1.1\" width=\"120\"><defs/><rect fill=\"#ff8c57\" height=\"77\" rx=\"10\" ry=\"10\" width=\"100%\" x=\"0.0\" y=\"21.5\"/><text alignment-baseline=\"middle\" fill=\"#000000\" font-family=\"Arial\" font-size=\"45\" font-weight=\"bold\" text-anchor=\"middle\" x=\"50%\" y=\"53%\">12</text></svg>"
      ],
      "text/plain": [
       "<IPython.core.display.SVG object>"
      ]
     },
     "metadata": {},
     "output_type": "display_data"
    },
    {
     "data": {
      "image/svg+xml": [
       "<svg xmlns=\"http://www.w3.org/2000/svg\" xmlns:ev=\"http://www.w3.org/2001/xml-events\" xmlns:xlink=\"http://www.w3.org/1999/xlink\" baseProfile=\"full\" height=\"120\" version=\"1.1\" width=\"120\"><defs/><rect fill=\"#82c8e6\" height=\"77\" rx=\"10\" ry=\"10\" width=\"100%\" x=\"0.0\" y=\"21.5\"/><text alignment-baseline=\"middle\" fill=\"#000000\" font-family=\"Arial\" font-size=\"45\" font-weight=\"bold\" text-anchor=\"middle\" x=\"50%\" y=\"53%\">12</text></svg>"
      ],
      "text/plain": [
       "<IPython.core.display.SVG object>"
      ]
     },
     "metadata": {},
     "output_type": "display_data"
    },
    {
     "data": {
      "image/svg+xml": [
       "<svg xmlns=\"http://www.w3.org/2000/svg\" xmlns:ev=\"http://www.w3.org/2001/xml-events\" xmlns:xlink=\"http://www.w3.org/1999/xlink\" baseProfile=\"full\" height=\"120\" version=\"1.1\" width=\"120\"><defs/><rect fill=\"#65b659\" height=\"77\" rx=\"10\" ry=\"10\" width=\"100%\" x=\"0.0\" y=\"21.5\"/><text alignment-baseline=\"middle\" fill=\"#000000\" font-family=\"Arial\" font-size=\"45\" font-weight=\"bold\" text-anchor=\"middle\" x=\"50%\" y=\"53%\">18</text></svg>"
      ],
      "text/plain": [
       "<IPython.core.display.SVG object>"
      ]
     },
     "metadata": {},
     "output_type": "display_data"
    },
    {
     "data": {
      "image/svg+xml": [
       "<svg xmlns=\"http://www.w3.org/2000/svg\" xmlns:ev=\"http://www.w3.org/2001/xml-events\" xmlns:xlink=\"http://www.w3.org/1999/xlink\" baseProfile=\"full\" height=\"120\" version=\"1.1\" width=\"120\"><defs/><rect fill=\"#cec92b\" height=\"77\" rx=\"10\" ry=\"10\" width=\"100%\" x=\"0.0\" y=\"21.5\"/><text alignment-baseline=\"middle\" fill=\"#000000\" font-family=\"Arial\" font-size=\"45\" font-weight=\"bold\" text-anchor=\"middle\" x=\"50%\" y=\"53%\">59</text></svg>"
      ],
      "text/plain": [
       "<IPython.core.display.SVG object>"
      ]
     },
     "metadata": {},
     "output_type": "display_data"
    },
    {
     "data": {
      "image/svg+xml": [
       "<svg xmlns=\"http://www.w3.org/2000/svg\" xmlns:ev=\"http://www.w3.org/2001/xml-events\" xmlns:xlink=\"http://www.w3.org/1999/xlink\" baseProfile=\"full\" height=\"120\" version=\"1.1\" width=\"120\"><defs/><rect fill=\"#65318f\" height=\"77\" rx=\"10\" ry=\"10\" width=\"100%\" x=\"0.0\" y=\"21.5\"/><text alignment-baseline=\"middle\" fill=\"#ffffff\" font-family=\"Arial\" font-size=\"45\" font-weight=\"bold\" text-anchor=\"middle\" x=\"50%\" y=\"53%\">34</text></svg>"
      ],
      "text/plain": [
       "<IPython.core.display.SVG object>"
      ]
     },
     "metadata": {},
     "output_type": "display_data"
    },
    {
     "data": {
      "image/svg+xml": [
       "<svg xmlns=\"http://www.w3.org/2000/svg\" xmlns:ev=\"http://www.w3.org/2001/xml-events\" xmlns:xlink=\"http://www.w3.org/1999/xlink\" baseProfile=\"full\" height=\"120\" version=\"1.1\" width=\"120\"><defs/><rect fill=\"#8cad08\" height=\"77\" rx=\"10\" ry=\"10\" width=\"100%\" x=\"0.0\" y=\"21.5\"/><text alignment-baseline=\"middle\" fill=\"#ffffff\" font-family=\"Arial\" font-size=\"45\" font-weight=\"bold\" text-anchor=\"middle\" x=\"50%\" y=\"53%\">20</text></svg>"
      ],
      "text/plain": [
       "<IPython.core.display.SVG object>"
      ]
     },
     "metadata": {},
     "output_type": "display_data"
    },
    {
     "data": {
      "image/svg+xml": [
       "<svg xmlns=\"http://www.w3.org/2000/svg\" xmlns:ev=\"http://www.w3.org/2001/xml-events\" xmlns:xlink=\"http://www.w3.org/1999/xlink\" baseProfile=\"full\" height=\"120\" version=\"1.1\" width=\"120\"><defs/><rect fill=\"#96d4e1\" height=\"77\" rx=\"10\" ry=\"10\" width=\"100%\" x=\"0.0\" y=\"21.5\"/><text alignment-baseline=\"middle\" fill=\"#000000\" font-family=\"Arial\" font-size=\"45\" font-weight=\"bold\" text-anchor=\"middle\" x=\"50%\" y=\"53%\">20</text></svg>"
      ],
      "text/plain": [
       "<IPython.core.display.SVG object>"
      ]
     },
     "metadata": {},
     "output_type": "display_data"
    },
    {
     "data": {
      "image/svg+xml": [
       "<svg xmlns=\"http://www.w3.org/2000/svg\" xmlns:ev=\"http://www.w3.org/2001/xml-events\" xmlns:xlink=\"http://www.w3.org/1999/xlink\" baseProfile=\"full\" height=\"120\" version=\"1.1\" width=\"120\"><defs/><rect fill=\"#5191ce\" height=\"77\" rx=\"10\" ry=\"10\" width=\"100%\" x=\"0.0\" y=\"21.5\"/><text alignment-baseline=\"middle\" fill=\"#ffffff\" font-family=\"Arial\" font-size=\"45\" font-weight=\"bold\" text-anchor=\"middle\" x=\"50%\" y=\"53%\">7</text></svg>"
      ],
      "text/plain": [
       "<IPython.core.display.SVG object>"
      ]
     },
     "metadata": {},
     "output_type": "display_data"
    },
    {
     "data": {
      "image/svg+xml": [
       "<svg xmlns=\"http://www.w3.org/2000/svg\" xmlns:ev=\"http://www.w3.org/2001/xml-events\" xmlns:xlink=\"http://www.w3.org/1999/xlink\" baseProfile=\"full\" height=\"120\" version=\"1.1\" width=\"120\"><defs/><rect fill=\"#aaaaaa\" height=\"77\" rx=\"10\" ry=\"10\" width=\"100%\" x=\"0.0\" y=\"21.5\"/><text alignment-baseline=\"middle\" fill=\"#000000\" font-family=\"Arial\" font-size=\"45\" font-weight=\"bold\" text-anchor=\"middle\" x=\"50%\" y=\"53%\">710S</text></svg>"
      ],
      "text/plain": [
       "<IPython.core.display.SVG object>"
      ]
     },
     "metadata": {},
     "output_type": "display_data"
    },
    {
     "data": {
      "image/svg+xml": [
       "<svg xmlns=\"http://www.w3.org/2000/svg\" xmlns:ev=\"http://www.w3.org/2001/xml-events\" xmlns:xlink=\"http://www.w3.org/1999/xlink\" baseProfile=\"full\" height=\"120\" version=\"1.1\" width=\"120\"><defs/><rect fill=\"#b80c4b\" height=\"77\" rx=\"10\" ry=\"10\" width=\"100%\" x=\"0.0\" y=\"21.5\"/><text alignment-baseline=\"middle\" fill=\"#ffffff\" font-family=\"Arial\" font-size=\"45\" font-weight=\"bold\" text-anchor=\"middle\" x=\"50%\" y=\"53%\">62</text></svg>"
      ],
      "text/plain": [
       "<IPython.core.display.SVG object>"
      ]
     },
     "metadata": {},
     "output_type": "display_data"
    },
    {
     "data": {
      "image/svg+xml": [
       "<svg xmlns=\"http://www.w3.org/2000/svg\" xmlns:ev=\"http://www.w3.org/2001/xml-events\" xmlns:xlink=\"http://www.w3.org/1999/xlink\" baseProfile=\"full\" height=\"120\" version=\"1.1\" width=\"120\"><defs/><rect fill=\"#78c696\" height=\"77\" rx=\"10\" ry=\"10\" width=\"100%\" x=\"0.0\" y=\"21.5\"/><text alignment-baseline=\"middle\" fill=\"#000000\" font-family=\"Arial\" font-size=\"45\" font-weight=\"bold\" text-anchor=\"middle\" x=\"50%\" y=\"53%\">93</text></svg>"
      ],
      "text/plain": [
       "<IPython.core.display.SVG object>"
      ]
     },
     "metadata": {},
     "output_type": "display_data"
    },
    {
     "data": {
      "image/svg+xml": [
       "<svg xmlns=\"http://www.w3.org/2000/svg\" xmlns:ev=\"http://www.w3.org/2001/xml-events\" xmlns:xlink=\"http://www.w3.org/1999/xlink\" baseProfile=\"full\" height=\"120\" version=\"1.1\" width=\"120\"><defs/><rect fill=\"#bb4b9b\" height=\"77\" rx=\"10\" ry=\"10\" width=\"100%\" x=\"0.0\" y=\"21.5\"/><text alignment-baseline=\"middle\" fill=\"#ffffff\" font-family=\"Arial\" font-size=\"45\" font-weight=\"bold\" text-anchor=\"middle\" x=\"50%\" y=\"53%\">73</text></svg>"
      ],
      "text/plain": [
       "<IPython.core.display.SVG object>"
      ]
     },
     "metadata": {},
     "output_type": "display_data"
    },
    {
     "data": {
      "image/svg+xml": [
       "<svg xmlns=\"http://www.w3.org/2000/svg\" xmlns:ev=\"http://www.w3.org/2001/xml-events\" xmlns:xlink=\"http://www.w3.org/1999/xlink\" baseProfile=\"full\" height=\"120\" version=\"1.1\" width=\"120\"><defs/><rect fill=\"#fae91a\" height=\"77\" rx=\"10\" ry=\"10\" width=\"100%\" x=\"0.0\" y=\"21.5\"/><text alignment-baseline=\"middle\" fill=\"#000000\" font-family=\"Arial\" font-size=\"45\" font-weight=\"bold\" text-anchor=\"middle\" x=\"50%\" y=\"53%\">114</text></svg>"
      ],
      "text/plain": [
       "<IPython.core.display.SVG object>"
      ]
     },
     "metadata": {},
     "output_type": "display_data"
    },
    {
     "data": {
      "image/svg+xml": [
       "<svg xmlns=\"http://www.w3.org/2000/svg\" xmlns:ev=\"http://www.w3.org/2001/xml-events\" xmlns:xlink=\"http://www.w3.org/1999/xlink\" baseProfile=\"full\" height=\"120\" version=\"1.1\" width=\"120\"><defs/><rect fill=\"#00b297\" height=\"77\" rx=\"10\" ry=\"10\" width=\"100%\" x=\"0.0\" y=\"21.5\"/><text alignment-baseline=\"middle\" fill=\"#ffffff\" font-family=\"Arial\" font-size=\"45\" font-weight=\"bold\" text-anchor=\"middle\" x=\"50%\" y=\"53%\">22</text></svg>"
      ],
      "text/plain": [
       "<IPython.core.display.SVG object>"
      ]
     },
     "metadata": {},
     "output_type": "display_data"
    },
    {
     "data": {
      "image/svg+xml": [
       "<svg xmlns=\"http://www.w3.org/2000/svg\" xmlns:ev=\"http://www.w3.org/2001/xml-events\" xmlns:xlink=\"http://www.w3.org/1999/xlink\" baseProfile=\"full\" height=\"120\" version=\"1.1\" width=\"120\"><defs/><rect fill=\"#0064b0\" height=\"77\" rx=\"10\" ry=\"10\" width=\"100%\" x=\"0.0\" y=\"21.5\"/><text alignment-baseline=\"middle\" fill=\"#ffffff\" font-family=\"Arial\" font-size=\"45\" font-weight=\"bold\" text-anchor=\"middle\" x=\"50%\" y=\"53%\">39</text></svg>"
      ],
      "text/plain": [
       "<IPython.core.display.SVG object>"
      ]
     },
     "metadata": {},
     "output_type": "display_data"
    },
    {
     "data": {
      "image/svg+xml": [
       "<svg xmlns=\"http://www.w3.org/2000/svg\" xmlns:ev=\"http://www.w3.org/2001/xml-events\" xmlns:xlink=\"http://www.w3.org/1999/xlink\" baseProfile=\"full\" height=\"120\" version=\"1.1\" width=\"120\"><defs/><rect fill=\"#8d653d\" height=\"77\" rx=\"10\" ry=\"10\" width=\"100%\" x=\"0.0\" y=\"21.5\"/><text alignment-baseline=\"middle\" fill=\"#ffffff\" font-family=\"Arial\" font-size=\"45\" font-weight=\"bold\" text-anchor=\"middle\" x=\"50%\" y=\"53%\">382</text></svg>"
      ],
      "text/plain": [
       "<IPython.core.display.SVG object>"
      ]
     },
     "metadata": {},
     "output_type": "display_data"
    },
    {
     "data": {
      "image/svg+xml": [
       "<svg xmlns=\"http://www.w3.org/2000/svg\" xmlns:ev=\"http://www.w3.org/2001/xml-events\" xmlns:xlink=\"http://www.w3.org/1999/xlink\" baseProfile=\"full\" height=\"120\" version=\"1.1\" width=\"120\"><defs/><rect fill=\"#a29a24\" height=\"77\" rx=\"10\" ry=\"10\" width=\"100%\" x=\"0.0\" y=\"21.5\"/><text alignment-baseline=\"middle\" fill=\"#ffffff\" font-family=\"Arial\" font-size=\"45\" font-weight=\"bold\" text-anchor=\"middle\" x=\"50%\" y=\"53%\">110</text></svg>"
      ],
      "text/plain": [
       "<IPython.core.display.SVG object>"
      ]
     },
     "metadata": {},
     "output_type": "display_data"
    },
    {
     "data": {
      "image/svg+xml": [
       "<svg xmlns=\"http://www.w3.org/2000/svg\" xmlns:ev=\"http://www.w3.org/2001/xml-events\" xmlns:xlink=\"http://www.w3.org/1999/xlink\" baseProfile=\"full\" height=\"120\" version=\"1.1\" width=\"120\"><defs/><rect fill=\"#f4a58b\" height=\"77\" rx=\"10\" ry=\"10\" width=\"100%\" x=\"0.0\" y=\"21.5\"/><text alignment-baseline=\"middle\" fill=\"#ffffff\" font-family=\"Arial\" font-size=\"45\" font-weight=\"bold\" text-anchor=\"middle\" x=\"50%\" y=\"53%\">108</text></svg>"
      ],
      "text/plain": [
       "<IPython.core.display.SVG object>"
      ]
     },
     "metadata": {},
     "output_type": "display_data"
    },
    {
     "data": {
      "image/svg+xml": [
       "<svg xmlns=\"http://www.w3.org/2000/svg\" xmlns:ev=\"http://www.w3.org/2001/xml-events\" xmlns:xlink=\"http://www.w3.org/1999/xlink\" baseProfile=\"full\" height=\"120\" version=\"1.1\" width=\"120\"><defs/><rect fill=\"#f69fb3\" height=\"77\" rx=\"10\" ry=\"10\" width=\"100%\" x=\"0.0\" y=\"21.5\"/><text alignment-baseline=\"middle\" fill=\"#000000\" font-family=\"Arial\" font-size=\"45\" font-weight=\"bold\" text-anchor=\"middle\" x=\"50%\" y=\"53%\">27</text></svg>"
      ],
      "text/plain": [
       "<IPython.core.display.SVG object>"
      ]
     },
     "metadata": {},
     "output_type": "display_data"
    },
    {
     "data": {
      "image/svg+xml": [
       "<svg xmlns=\"http://www.w3.org/2000/svg\" xmlns:ev=\"http://www.w3.org/2001/xml-events\" xmlns:xlink=\"http://www.w3.org/1999/xlink\" baseProfile=\"full\" height=\"120\" version=\"1.1\" width=\"120\"><defs/><rect fill=\"#9ad0bf\" height=\"77\" rx=\"10\" ry=\"10\" width=\"100%\" x=\"0.0\" y=\"21.5\"/><text alignment-baseline=\"middle\" fill=\"#ffffff\" font-family=\"Arial\" font-size=\"45\" font-weight=\"bold\" text-anchor=\"middle\" x=\"50%\" y=\"53%\">112</text></svg>"
      ],
      "text/plain": [
       "<IPython.core.display.SVG object>"
      ]
     },
     "metadata": {},
     "output_type": "display_data"
    },
    {
     "data": {
      "image/svg+xml": [
       "<svg xmlns=\"http://www.w3.org/2000/svg\" xmlns:ev=\"http://www.w3.org/2001/xml-events\" xmlns:xlink=\"http://www.w3.org/1999/xlink\" baseProfile=\"full\" height=\"120\" version=\"1.1\" width=\"120\"><defs/><rect fill=\"#ffce00\" height=\"77\" rx=\"10\" ry=\"10\" width=\"100%\" x=\"0.0\" y=\"21.5\"/><text alignment-baseline=\"middle\" fill=\"#000000\" font-family=\"Arial\" font-size=\"45\" font-weight=\"bold\" text-anchor=\"middle\" x=\"50%\" y=\"53%\">318</text></svg>"
      ],
      "text/plain": [
       "<IPython.core.display.SVG object>"
      ]
     },
     "metadata": {},
     "output_type": "display_data"
    },
    {
     "data": {
      "image/svg+xml": [
       "<svg xmlns=\"http://www.w3.org/2000/svg\" xmlns:ev=\"http://www.w3.org/2001/xml-events\" xmlns:xlink=\"http://www.w3.org/1999/xlink\" baseProfile=\"full\" height=\"120\" version=\"1.1\" width=\"120\"><defs/><rect fill=\"#f28f42\" height=\"77\" rx=\"10\" ry=\"10\" width=\"100%\" x=\"0.0\" y=\"21.5\"/><text alignment-baseline=\"middle\" fill=\"#000000\" font-family=\"Arial\" font-size=\"45\" font-weight=\"bold\" text-anchor=\"middle\" x=\"50%\" y=\"53%\">23</text></svg>"
      ],
      "text/plain": [
       "<IPython.core.display.SVG object>"
      ]
     },
     "metadata": {},
     "output_type": "display_data"
    },
    {
     "data": {
      "image/svg+xml": [
       "<svg xmlns=\"http://www.w3.org/2000/svg\" xmlns:ev=\"http://www.w3.org/2001/xml-events\" xmlns:xlink=\"http://www.w3.org/1999/xlink\" baseProfile=\"full\" height=\"120\" version=\"1.1\" width=\"120\"><defs/><rect fill=\"#3d85c6\" height=\"77\" rx=\"10\" ry=\"10\" width=\"100%\" x=\"0.0\" y=\"21.5\"/><text alignment-baseline=\"middle\" fill=\"#ffffff\" font-family=\"Arial\" font-size=\"45\" font-weight=\"bold\" text-anchor=\"middle\" x=\"50%\" y=\"53%\">12B</text></svg>"
      ],
      "text/plain": [
       "<IPython.core.display.SVG object>"
      ]
     },
     "metadata": {},
     "output_type": "display_data"
    },
    {
     "data": {
      "image/svg+xml": [
       "<svg xmlns=\"http://www.w3.org/2000/svg\" xmlns:ev=\"http://www.w3.org/2001/xml-events\" xmlns:xlink=\"http://www.w3.org/1999/xlink\" baseProfile=\"full\" height=\"120\" version=\"1.1\" width=\"120\"><defs/><rect fill=\"#ffcc00\" height=\"77\" rx=\"10\" ry=\"10\" width=\"100%\" x=\"0.0\" y=\"21.5\"/><text alignment-baseline=\"middle\" fill=\"#000000\" font-family=\"Arial\" font-size=\"45\" font-weight=\"bold\" text-anchor=\"middle\" x=\"50%\" y=\"53%\">31C</text></svg>"
      ],
      "text/plain": [
       "<IPython.core.display.SVG object>"
      ]
     },
     "metadata": {},
     "output_type": "display_data"
    },
    {
     "data": {
      "image/svg+xml": [
       "<svg xmlns=\"http://www.w3.org/2000/svg\" xmlns:ev=\"http://www.w3.org/2001/xml-events\" xmlns:xlink=\"http://www.w3.org/1999/xlink\" baseProfile=\"full\" height=\"120\" version=\"1.1\" width=\"120\"><defs/><rect fill=\"#3d85c6\" height=\"77\" rx=\"10\" ry=\"10\" width=\"100%\" x=\"0.0\" y=\"21.5\"/><text alignment-baseline=\"middle\" fill=\"#ffffff\" font-family=\"Arial\" font-size=\"45\" font-weight=\"bold\" text-anchor=\"middle\" x=\"50%\" y=\"53%\">12C</text></svg>"
      ],
      "text/plain": [
       "<IPython.core.display.SVG object>"
      ]
     },
     "metadata": {},
     "output_type": "display_data"
    },
    {
     "data": {
      "image/svg+xml": [
       "<svg xmlns=\"http://www.w3.org/2000/svg\" xmlns:ev=\"http://www.w3.org/2001/xml-events\" xmlns:xlink=\"http://www.w3.org/1999/xlink\" baseProfile=\"full\" height=\"120\" version=\"1.1\" width=\"120\"><defs/><rect fill=\"#ccb299\" height=\"77\" rx=\"10\" ry=\"10\" width=\"100%\" x=\"0.0\" y=\"21.5\"/><text alignment-baseline=\"middle\" fill=\"#000000\" font-family=\"Arial\" font-size=\"45\" font-weight=\"bold\" text-anchor=\"middle\" x=\"50%\" y=\"53%\">13</text></svg>"
      ],
      "text/plain": [
       "<IPython.core.display.SVG object>"
      ]
     },
     "metadata": {},
     "output_type": "display_data"
    },
    {
     "data": {
      "image/svg+xml": [
       "<svg xmlns=\"http://www.w3.org/2000/svg\" xmlns:ev=\"http://www.w3.org/2001/xml-events\" xmlns:xlink=\"http://www.w3.org/1999/xlink\" baseProfile=\"full\" height=\"120\" version=\"1.1\" width=\"120\"><defs/><rect fill=\"#ceacd2\" height=\"77\" rx=\"10\" ry=\"10\" width=\"100%\" x=\"0.0\" y=\"21.5\"/><text alignment-baseline=\"middle\" fill=\"#000000\" font-family=\"Arial\" font-size=\"45\" font-weight=\"bold\" text-anchor=\"middle\" x=\"50%\" y=\"53%\">37B</text></svg>"
      ],
      "text/plain": [
       "<IPython.core.display.SVG object>"
      ]
     },
     "metadata": {},
     "output_type": "display_data"
    },
    {
     "data": {
      "image/svg+xml": [
       "<svg xmlns=\"http://www.w3.org/2000/svg\" xmlns:ev=\"http://www.w3.org/2001/xml-events\" xmlns:xlink=\"http://www.w3.org/1999/xlink\" baseProfile=\"full\" height=\"120\" version=\"1.1\" width=\"120\"><defs/><rect fill=\"#b90745\" height=\"77\" rx=\"10\" ry=\"10\" width=\"100%\" x=\"0.0\" y=\"21.5\"/><text alignment-baseline=\"middle\" fill=\"#ffffff\" font-family=\"Arial\" font-size=\"45\" font-weight=\"bold\" text-anchor=\"middle\" x=\"50%\" y=\"53%\">30A</text></svg>"
      ],
      "text/plain": [
       "<IPython.core.display.SVG object>"
      ]
     },
     "metadata": {},
     "output_type": "display_data"
    },
    {
     "data": {
      "image/svg+xml": [
       "<svg xmlns=\"http://www.w3.org/2000/svg\" xmlns:ev=\"http://www.w3.org/2001/xml-events\" xmlns:xlink=\"http://www.w3.org/1999/xlink\" baseProfile=\"full\" height=\"120\" version=\"1.1\" width=\"120\"><defs/><rect fill=\"#00814f\" height=\"77\" rx=\"10\" ry=\"10\" width=\"100%\" x=\"0.0\" y=\"21.5\"/><text alignment-baseline=\"middle\" fill=\"#ffffff\" font-family=\"Arial\" font-size=\"45\" font-weight=\"bold\" text-anchor=\"middle\" x=\"50%\" y=\"53%\">35A</text></svg>"
      ],
      "text/plain": [
       "<IPython.core.display.SVG object>"
      ]
     },
     "metadata": {},
     "output_type": "display_data"
    },
    {
     "data": {
      "image/svg+xml": [
       "<svg xmlns=\"http://www.w3.org/2000/svg\" xmlns:ev=\"http://www.w3.org/2001/xml-events\" xmlns:xlink=\"http://www.w3.org/1999/xlink\" baseProfile=\"full\" height=\"120\" version=\"1.1\" width=\"120\"><defs/><rect fill=\"#c9d201\" height=\"77\" rx=\"10\" ry=\"10\" width=\"100%\" x=\"0.0\" y=\"21.5\"/><text alignment-baseline=\"middle\" fill=\"#000000\" font-family=\"Arial\" font-size=\"45\" font-weight=\"bold\" text-anchor=\"middle\" x=\"50%\" y=\"53%\">42</text></svg>"
      ],
      "text/plain": [
       "<IPython.core.display.SVG object>"
      ]
     },
     "metadata": {},
     "output_type": "display_data"
    },
    {
     "data": {
      "image/svg+xml": [
       "<svg xmlns=\"http://www.w3.org/2000/svg\" xmlns:ev=\"http://www.w3.org/2001/xml-events\" xmlns:xlink=\"http://www.w3.org/1999/xlink\" baseProfile=\"full\" height=\"120\" version=\"1.1\" width=\"120\"><defs/><rect fill=\"#09a88e\" height=\"77\" rx=\"10\" ry=\"10\" width=\"100%\" x=\"0.0\" y=\"21.5\"/><text alignment-baseline=\"middle\" fill=\"#ffffff\" font-family=\"Arial\" font-size=\"45\" font-weight=\"bold\" text-anchor=\"middle\" x=\"50%\" y=\"53%\">35C</text></svg>"
      ],
      "text/plain": [
       "<IPython.core.display.SVG object>"
      ]
     },
     "metadata": {},
     "output_type": "display_data"
    },
    {
     "data": {
      "image/svg+xml": [
       "<svg xmlns=\"http://www.w3.org/2000/svg\" xmlns:ev=\"http://www.w3.org/2001/xml-events\" xmlns:xlink=\"http://www.w3.org/1999/xlink\" baseProfile=\"full\" height=\"120\" version=\"1.1\" width=\"120\"><defs/><rect fill=\"#b397c7\" height=\"77\" rx=\"10\" ry=\"10\" width=\"100%\" x=\"0.0\" y=\"21.5\"/><text alignment-baseline=\"middle\" fill=\"#ffffff\" font-family=\"Arial\" font-size=\"45\" font-weight=\"bold\" text-anchor=\"middle\" x=\"50%\" y=\"53%\">14.1</text></svg>"
      ],
      "text/plain": [
       "<IPython.core.display.SVG object>"
      ]
     },
     "metadata": {},
     "output_type": "display_data"
    },
    {
     "data": {
      "image/svg+xml": [
       "<svg xmlns=\"http://www.w3.org/2000/svg\" xmlns:ev=\"http://www.w3.org/2001/xml-events\" xmlns:xlink=\"http://www.w3.org/1999/xlink\" baseProfile=\"full\" height=\"120\" version=\"1.1\" width=\"120\"><defs/><rect fill=\"#cccc00\" height=\"77\" rx=\"10\" ry=\"10\" width=\"100%\" x=\"0.0\" y=\"21.5\"/><text alignment-baseline=\"middle\" fill=\"#ffffff\" font-family=\"Arial\" font-size=\"45\" font-weight=\"bold\" text-anchor=\"middle\" x=\"50%\" y=\"53%\">29B</text></svg>"
      ],
      "text/plain": [
       "<IPython.core.display.SVG object>"
      ]
     },
     "metadata": {},
     "output_type": "display_data"
    },
    {
     "data": {
      "image/svg+xml": [
       "<svg xmlns=\"http://www.w3.org/2000/svg\" xmlns:ev=\"http://www.w3.org/2001/xml-events\" xmlns:xlink=\"http://www.w3.org/1999/xlink\" baseProfile=\"full\" height=\"120\" version=\"1.1\" width=\"120\"><defs/><rect fill=\"#cccc00\" height=\"77\" rx=\"10\" ry=\"10\" width=\"100%\" x=\"0.0\" y=\"21.5\"/><text alignment-baseline=\"middle\" fill=\"#ffffff\" font-family=\"Arial\" font-size=\"45\" font-weight=\"bold\" text-anchor=\"middle\" x=\"50%\" y=\"53%\">29M</text></svg>"
      ],
      "text/plain": [
       "<IPython.core.display.SVG object>"
      ]
     },
     "metadata": {},
     "output_type": "display_data"
    },
    {
     "data": {
      "image/svg+xml": [
       "<svg xmlns=\"http://www.w3.org/2000/svg\" xmlns:ev=\"http://www.w3.org/2001/xml-events\" xmlns:xlink=\"http://www.w3.org/1999/xlink\" baseProfile=\"full\" height=\"120\" version=\"1.1\" width=\"120\"><defs/><rect fill=\"#1fa22e\" height=\"77\" rx=\"10\" ry=\"10\" width=\"100%\" x=\"0.0\" y=\"21.5\"/><text alignment-baseline=\"middle\" fill=\"#ffffff\" font-family=\"Arial\" font-size=\"45\" font-weight=\"bold\" text-anchor=\"middle\" x=\"50%\" y=\"53%\">04</text></svg>"
      ],
      "text/plain": [
       "<IPython.core.display.SVG object>"
      ]
     },
     "metadata": {},
     "output_type": "display_data"
    },
    {
     "data": {
      "image/svg+xml": [
       "<svg xmlns=\"http://www.w3.org/2000/svg\" xmlns:ev=\"http://www.w3.org/2001/xml-events\" xmlns:xlink=\"http://www.w3.org/1999/xlink\" baseProfile=\"full\" height=\"120\" version=\"1.1\" width=\"120\"><defs/><rect fill=\"#007a45\" height=\"77\" rx=\"10\" ry=\"10\" width=\"100%\" x=\"0.0\" y=\"21.5\"/><text alignment-baseline=\"middle\" fill=\"#ffffff\" font-family=\"Arial\" font-size=\"45\" font-weight=\"bold\" text-anchor=\"middle\" x=\"50%\" y=\"53%\">500</text></svg>"
      ],
      "text/plain": [
       "<IPython.core.display.SVG object>"
      ]
     },
     "metadata": {},
     "output_type": "display_data"
    },
    {
     "data": {
      "image/svg+xml": [
       "<svg xmlns=\"http://www.w3.org/2000/svg\" xmlns:ev=\"http://www.w3.org/2001/xml-events\" xmlns:xlink=\"http://www.w3.org/1999/xlink\" baseProfile=\"full\" height=\"120\" version=\"1.1\" width=\"120\"><defs/><rect fill=\"#6e5b1e\" height=\"77\" rx=\"10\" ry=\"10\" width=\"100%\" x=\"0.0\" y=\"21.5\"/><text alignment-baseline=\"middle\" fill=\"#ffffff\" font-family=\"Arial\" font-size=\"45\" font-weight=\"bold\" text-anchor=\"middle\" x=\"50%\" y=\"53%\">71</text></svg>"
      ],
      "text/plain": [
       "<IPython.core.display.SVG object>"
      ]
     },
     "metadata": {},
     "output_type": "display_data"
    },
    {
     "data": {
      "image/svg+xml": [
       "<svg xmlns=\"http://www.w3.org/2000/svg\" xmlns:ev=\"http://www.w3.org/2001/xml-events\" xmlns:xlink=\"http://www.w3.org/1999/xlink\" baseProfile=\"full\" height=\"120\" version=\"1.1\" width=\"120\"><defs/><rect fill=\"#83c491\" height=\"77\" rx=\"10\" ry=\"10\" width=\"100%\" x=\"0.0\" y=\"21.5\"/><text alignment-baseline=\"middle\" fill=\"#000000\" font-family=\"Arial\" font-size=\"45\" font-weight=\"bold\" text-anchor=\"middle\" x=\"50%\" y=\"53%\">325</text></svg>"
      ],
      "text/plain": [
       "<IPython.core.display.SVG object>"
      ]
     },
     "metadata": {},
     "output_type": "display_data"
    },
    {
     "data": {
      "image/svg+xml": [
       "<svg xmlns=\"http://www.w3.org/2000/svg\" xmlns:ev=\"http://www.w3.org/2001/xml-events\" xmlns:xlink=\"http://www.w3.org/1999/xlink\" baseProfile=\"full\" height=\"120\" version=\"1.1\" width=\"120\"><defs/><rect fill=\"#ff82b4\" height=\"77\" rx=\"10\" ry=\"10\" width=\"100%\" x=\"0.0\" y=\"21.5\"/><text alignment-baseline=\"middle\" fill=\"#000000\" font-family=\"Arial\" font-size=\"45\" font-weight=\"bold\" text-anchor=\"middle\" x=\"50%\" y=\"53%\">263</text></svg>"
      ],
      "text/plain": [
       "<IPython.core.display.SVG object>"
      ]
     },
     "metadata": {},
     "output_type": "display_data"
    },
    {
     "data": {
      "image/svg+xml": [
       "<svg xmlns=\"http://www.w3.org/2000/svg\" xmlns:ev=\"http://www.w3.org/2001/xml-events\" xmlns:xlink=\"http://www.w3.org/1999/xlink\" baseProfile=\"full\" height=\"120\" version=\"1.1\" width=\"120\"><defs/><rect fill=\"#7fff33\" height=\"77\" rx=\"10\" ry=\"10\" width=\"100%\" x=\"0.0\" y=\"21.5\"/><text alignment-baseline=\"middle\" fill=\"#000000\" font-family=\"Arial\" font-size=\"45\" font-weight=\"bold\" text-anchor=\"middle\" x=\"50%\" y=\"53%\">202</text></svg>"
      ],
      "text/plain": [
       "<IPython.core.display.SVG object>"
      ]
     },
     "metadata": {},
     "output_type": "display_data"
    },
    {
     "data": {
      "image/svg+xml": [
       "<svg xmlns=\"http://www.w3.org/2000/svg\" xmlns:ev=\"http://www.w3.org/2001/xml-events\" xmlns:xlink=\"http://www.w3.org/1999/xlink\" baseProfile=\"full\" height=\"120\" version=\"1.1\" width=\"120\"><defs/><rect fill=\"#467d30\" height=\"77\" rx=\"10\" ry=\"10\" width=\"100%\" x=\"0.0\" y=\"21.5\"/><text alignment-baseline=\"middle\" fill=\"#ffffff\" font-family=\"Arial\" font-size=\"45\" font-weight=\"bold\" text-anchor=\"middle\" x=\"50%\" y=\"53%\">11</text></svg>"
      ],
      "text/plain": [
       "<IPython.core.display.SVG object>"
      ]
     },
     "metadata": {},
     "output_type": "display_data"
    },
    {
     "data": {
      "image/svg+xml": [
       "<svg xmlns=\"http://www.w3.org/2000/svg\" xmlns:ev=\"http://www.w3.org/2001/xml-events\" xmlns:xlink=\"http://www.w3.org/1999/xlink\" baseProfile=\"full\" height=\"120\" version=\"1.1\" width=\"120\"><defs/><rect fill=\"#b1b9df\" height=\"77\" rx=\"10\" ry=\"10\" width=\"100%\" x=\"0.0\" y=\"21.5\"/><text alignment-baseline=\"middle\" fill=\"#000000\" font-family=\"Arial\" font-size=\"45\" font-weight=\"bold\" text-anchor=\"middle\" x=\"50%\" y=\"53%\">50</text></svg>"
      ],
      "text/plain": [
       "<IPython.core.display.SVG object>"
      ]
     },
     "metadata": {},
     "output_type": "display_data"
    },
    {
     "data": {
      "image/svg+xml": [
       "<svg xmlns=\"http://www.w3.org/2000/svg\" xmlns:ev=\"http://www.w3.org/2001/xml-events\" xmlns:xlink=\"http://www.w3.org/1999/xlink\" baseProfile=\"full\" height=\"120\" version=\"1.1\" width=\"120\"><defs/><rect fill=\"#82c8e6\" height=\"77\" rx=\"10\" ry=\"10\" width=\"100%\" x=\"0.0\" y=\"21.5\"/><text alignment-baseline=\"middle\" fill=\"#000000\" font-family=\"Arial\" font-size=\"45\" font-weight=\"bold\" text-anchor=\"middle\" x=\"50%\" y=\"53%\">56</text></svg>"
      ],
      "text/plain": [
       "<IPython.core.display.SVG object>"
      ]
     },
     "metadata": {},
     "output_type": "display_data"
    },
    {
     "data": {
      "image/svg+xml": [
       "<svg xmlns=\"http://www.w3.org/2000/svg\" xmlns:ev=\"http://www.w3.org/2001/xml-events\" xmlns:xlink=\"http://www.w3.org/1999/xlink\" baseProfile=\"full\" height=\"120\" version=\"1.1\" width=\"120\"><defs/><rect fill=\"#ff0000\" height=\"77\" rx=\"10\" ry=\"10\" width=\"100%\" x=\"0.0\" y=\"21.5\"/><text alignment-baseline=\"middle\" fill=\"#000000\" font-family=\"Arial\" font-size=\"45\" font-weight=\"bold\" text-anchor=\"middle\" x=\"50%\" y=\"53%\">276</text></svg>"
      ],
      "text/plain": [
       "<IPython.core.display.SVG object>"
      ]
     },
     "metadata": {},
     "output_type": "display_data"
    },
    {
     "data": {
      "image/svg+xml": [
       "<svg xmlns=\"http://www.w3.org/2000/svg\" xmlns:ev=\"http://www.w3.org/2001/xml-events\" xmlns:xlink=\"http://www.w3.org/1999/xlink\" baseProfile=\"full\" height=\"120\" version=\"1.1\" width=\"120\"><defs/><rect fill=\"#285697\" height=\"77\" rx=\"10\" ry=\"10\" width=\"100%\" x=\"0.0\" y=\"21.5\"/><text alignment-baseline=\"middle\" fill=\"#ffffff\" font-family=\"Arial\" font-size=\"45\" font-weight=\"bold\" text-anchor=\"middle\" x=\"50%\" y=\"53%\">2</text></svg>"
      ],
      "text/plain": [
       "<IPython.core.display.SVG object>"
      ]
     },
     "metadata": {},
     "output_type": "display_data"
    },
    {
     "data": {
      "image/svg+xml": [
       "<svg xmlns=\"http://www.w3.org/2000/svg\" xmlns:ev=\"http://www.w3.org/2001/xml-events\" xmlns:xlink=\"http://www.w3.org/1999/xlink\" baseProfile=\"full\" height=\"120\" version=\"1.1\" width=\"120\"><defs/><rect fill=\"#3bb2ff\" height=\"77\" rx=\"10\" ry=\"10\" width=\"100%\" x=\"0.0\" y=\"21.5\"/><text alignment-baseline=\"middle\" fill=\"#000000\" font-family=\"Arial\" font-size=\"45\" font-weight=\"bold\" text-anchor=\"middle\" x=\"50%\" y=\"53%\">80</text></svg>"
      ],
      "text/plain": [
       "<IPython.core.display.SVG object>"
      ]
     },
     "metadata": {},
     "output_type": "display_data"
    },
    {
     "data": {
      "image/svg+xml": [
       "<svg xmlns=\"http://www.w3.org/2000/svg\" xmlns:ev=\"http://www.w3.org/2001/xml-events\" xmlns:xlink=\"http://www.w3.org/1999/xlink\" baseProfile=\"full\" height=\"120\" version=\"1.1\" width=\"120\"><defs/><rect fill=\"#3bb2ff\" height=\"77\" rx=\"10\" ry=\"10\" width=\"100%\" x=\"0.0\" y=\"21.5\"/><text alignment-baseline=\"middle\" fill=\"#000000\" font-family=\"Arial\" font-size=\"45\" font-weight=\"bold\" text-anchor=\"middle\" x=\"50%\" y=\"53%\">55</text></svg>"
      ],
      "text/plain": [
       "<IPython.core.display.SVG object>"
      ]
     },
     "metadata": {},
     "output_type": "display_data"
    },
    {
     "data": {
      "image/svg+xml": [
       "<svg xmlns=\"http://www.w3.org/2000/svg\" xmlns:ev=\"http://www.w3.org/2001/xml-events\" xmlns:xlink=\"http://www.w3.org/1999/xlink\" baseProfile=\"full\" height=\"120\" version=\"1.1\" width=\"120\"><defs/><rect fill=\"#78c696\" height=\"77\" rx=\"10\" ry=\"10\" width=\"100%\" x=\"0.0\" y=\"21.5\"/><text alignment-baseline=\"middle\" fill=\"#000000\" font-family=\"Arial\" font-size=\"45\" font-weight=\"bold\" text-anchor=\"middle\" x=\"50%\" y=\"53%\">14</text></svg>"
      ],
      "text/plain": [
       "<IPython.core.display.SVG object>"
      ]
     },
     "metadata": {},
     "output_type": "display_data"
    },
    {
     "data": {
      "image/svg+xml": [
       "<svg xmlns=\"http://www.w3.org/2000/svg\" xmlns:ev=\"http://www.w3.org/2001/xml-events\" xmlns:xlink=\"http://www.w3.org/1999/xlink\" baseProfile=\"full\" height=\"120\" version=\"1.1\" width=\"120\"><defs/><rect fill=\"#aaaaaa\" height=\"77\" rx=\"10\" ry=\"10\" width=\"100%\" x=\"0.0\" y=\"21.5\"/><text alignment-baseline=\"middle\" fill=\"#000000\" font-family=\"Arial\" font-size=\"45\" font-weight=\"bold\" text-anchor=\"middle\" x=\"50%\" y=\"53%\">N137</text></svg>"
      ],
      "text/plain": [
       "<IPython.core.display.SVG object>"
      ]
     },
     "metadata": {},
     "output_type": "display_data"
    },
    {
     "data": {
      "image/svg+xml": [
       "<svg xmlns=\"http://www.w3.org/2000/svg\" xmlns:ev=\"http://www.w3.org/2001/xml-events\" xmlns:xlink=\"http://www.w3.org/1999/xlink\" baseProfile=\"full\" height=\"120\" version=\"1.1\" width=\"120\"><defs/><rect fill=\"#008c5a\" height=\"77\" rx=\"10\" ry=\"10\" width=\"100%\" x=\"0.0\" y=\"21.5\"/><text alignment-baseline=\"middle\" fill=\"#ffffff\" font-family=\"Arial\" font-size=\"45\" font-weight=\"bold\" text-anchor=\"middle\" x=\"50%\" y=\"53%\">72</text></svg>"
      ],
      "text/plain": [
       "<IPython.core.display.SVG object>"
      ]
     },
     "metadata": {},
     "output_type": "display_data"
    },
    {
     "data": {
      "image/svg+xml": [
       "<svg xmlns=\"http://www.w3.org/2000/svg\" xmlns:ev=\"http://www.w3.org/2001/xml-events\" xmlns:xlink=\"http://www.w3.org/1999/xlink\" baseProfile=\"full\" height=\"120\" version=\"1.1\" width=\"120\"><defs/><rect fill=\"#5a230a\" height=\"77\" rx=\"10\" ry=\"10\" width=\"100%\" x=\"0.0\" y=\"21.5\"/><text alignment-baseline=\"middle\" fill=\"#ffffff\" font-family=\"Arial\" font-size=\"45\" font-weight=\"bold\" text-anchor=\"middle\" x=\"50%\" y=\"53%\">47</text></svg>"
      ],
      "text/plain": [
       "<IPython.core.display.SVG object>"
      ]
     },
     "metadata": {},
     "output_type": "display_data"
    },
    {
     "data": {
      "image/svg+xml": [
       "<svg xmlns=\"http://www.w3.org/2000/svg\" xmlns:ev=\"http://www.w3.org/2001/xml-events\" xmlns:xlink=\"http://www.w3.org/1999/xlink\" baseProfile=\"full\" height=\"120\" version=\"1.1\" width=\"120\"><defs/><rect fill=\"#914499\" height=\"77\" rx=\"10\" ry=\"10\" width=\"100%\" x=\"0.0\" y=\"21.5\"/><text alignment-baseline=\"middle\" fill=\"#ffffff\" font-family=\"Arial\" font-size=\"45\" font-weight=\"bold\" text-anchor=\"middle\" x=\"50%\" y=\"53%\">46</text></svg>"
      ],
      "text/plain": [
       "<IPython.core.display.SVG object>"
      ]
     },
     "metadata": {},
     "output_type": "display_data"
    },
    {
     "data": {
      "image/svg+xml": [
       "<svg xmlns=\"http://www.w3.org/2000/svg\" xmlns:ev=\"http://www.w3.org/2001/xml-events\" xmlns:xlink=\"http://www.w3.org/1999/xlink\" baseProfile=\"full\" height=\"120\" version=\"1.1\" width=\"120\"><defs/><rect fill=\"#f39a80\" height=\"77\" rx=\"10\" ry=\"10\" width=\"100%\" x=\"0.0\" y=\"21.5\"/><text alignment-baseline=\"middle\" fill=\"#000000\" font-family=\"Arial\" font-size=\"45\" font-weight=\"bold\" text-anchor=\"middle\" x=\"50%\" y=\"53%\">7C</text></svg>"
      ],
      "text/plain": [
       "<IPython.core.display.SVG object>"
      ]
     },
     "metadata": {},
     "output_type": "display_data"
    },
    {
     "data": {
      "image/svg+xml": [
       "<svg xmlns=\"http://www.w3.org/2000/svg\" xmlns:ev=\"http://www.w3.org/2001/xml-events\" xmlns:xlink=\"http://www.w3.org/1999/xlink\" baseProfile=\"full\" height=\"120\" version=\"1.1\" width=\"120\"><defs/><rect fill=\"#ceacd2\" height=\"77\" rx=\"10\" ry=\"10\" width=\"100%\" x=\"0.0\" y=\"21.5\"/><text alignment-baseline=\"middle\" fill=\"#000000\" font-family=\"Arial\" font-size=\"45\" font-weight=\"bold\" text-anchor=\"middle\" x=\"50%\" y=\"53%\">56</text></svg>"
      ],
      "text/plain": [
       "<IPython.core.display.SVG object>"
      ]
     },
     "metadata": {},
     "output_type": "display_data"
    },
    {
     "data": {
      "image/svg+xml": [
       "<svg xmlns=\"http://www.w3.org/2000/svg\" xmlns:ev=\"http://www.w3.org/2001/xml-events\" xmlns:xlink=\"http://www.w3.org/1999/xlink\" baseProfile=\"full\" height=\"120\" version=\"1.1\" width=\"120\"><defs/><rect fill=\"#0b5394\" height=\"77\" rx=\"10\" ry=\"10\" width=\"100%\" x=\"0.0\" y=\"21.5\"/><text alignment-baseline=\"middle\" fill=\"#ffffff\" font-family=\"Arial\" font-size=\"45\" font-weight=\"bold\" text-anchor=\"middle\" x=\"50%\" y=\"53%\">482</text></svg>"
      ],
      "text/plain": [
       "<IPython.core.display.SVG object>"
      ]
     },
     "metadata": {},
     "output_type": "display_data"
    },
    {
     "data": {
      "image/svg+xml": [
       "<svg xmlns=\"http://www.w3.org/2000/svg\" xmlns:ev=\"http://www.w3.org/2001/xml-events\" xmlns:xlink=\"http://www.w3.org/1999/xlink\" baseProfile=\"full\" height=\"120\" version=\"1.1\" width=\"120\"><defs/><rect fill=\"#00a9c2\" height=\"77\" rx=\"10\" ry=\"10\" width=\"100%\" x=\"0.0\" y=\"21.5\"/><text alignment-baseline=\"middle\" fill=\"#000000\" font-family=\"Arial\" font-size=\"45\" font-weight=\"bold\" text-anchor=\"middle\" x=\"50%\" y=\"53%\">210</text></svg>"
      ],
      "text/plain": [
       "<IPython.core.display.SVG object>"
      ]
     },
     "metadata": {},
     "output_type": "display_data"
    },
    {
     "data": {
      "image/svg+xml": [
       "<svg xmlns=\"http://www.w3.org/2000/svg\" xmlns:ev=\"http://www.w3.org/2001/xml-events\" xmlns:xlink=\"http://www.w3.org/1999/xlink\" baseProfile=\"full\" height=\"120\" version=\"1.1\" width=\"120\"><defs/><rect fill=\"#009a7a\" height=\"77\" rx=\"10\" ry=\"10\" width=\"100%\" x=\"0.0\" y=\"21.5\"/><text alignment-baseline=\"middle\" fill=\"#ffffff\" font-family=\"Arial\" font-size=\"45\" font-weight=\"bold\" text-anchor=\"middle\" x=\"50%\" y=\"53%\">11</text></svg>"
      ],
      "text/plain": [
       "<IPython.core.display.SVG object>"
      ]
     },
     "metadata": {},
     "output_type": "display_data"
    },
    {
     "data": {
      "image/svg+xml": [
       "<svg xmlns=\"http://www.w3.org/2000/svg\" xmlns:ev=\"http://www.w3.org/2001/xml-events\" xmlns:xlink=\"http://www.w3.org/1999/xlink\" baseProfile=\"full\" height=\"120\" version=\"1.1\" width=\"120\"><defs/><rect fill=\"#783f04\" height=\"77\" rx=\"10\" ry=\"10\" width=\"100%\" x=\"0.0\" y=\"21.5\"/><text alignment-baseline=\"middle\" fill=\"#ffffff\" font-family=\"Arial\" font-size=\"45\" font-weight=\"bold\" text-anchor=\"middle\" x=\"50%\" y=\"53%\">8ASc</text></svg>"
      ],
      "text/plain": [
       "<IPython.core.display.SVG object>"
      ]
     },
     "metadata": {},
     "output_type": "display_data"
    },
    {
     "data": {
      "image/svg+xml": [
       "<svg xmlns=\"http://www.w3.org/2000/svg\" xmlns:ev=\"http://www.w3.org/2001/xml-events\" xmlns:xlink=\"http://www.w3.org/1999/xlink\" baseProfile=\"full\" height=\"120\" version=\"1.1\" width=\"120\"><defs/><rect fill=\"#eba2ac\" height=\"77\" rx=\"10\" ry=\"10\" width=\"100%\" x=\"0.0\" y=\"21.5\"/><text alignment-baseline=\"middle\" fill=\"#000000\" font-family=\"Arial\" font-size=\"45\" font-weight=\"bold\" text-anchor=\"middle\" x=\"50%\" y=\"53%\">41</text></svg>"
      ],
      "text/plain": [
       "<IPython.core.display.SVG object>"
      ]
     },
     "metadata": {},
     "output_type": "display_data"
    },
    {
     "data": {
      "image/svg+xml": [
       "<svg xmlns=\"http://www.w3.org/2000/svg\" xmlns:ev=\"http://www.w3.org/2001/xml-events\" xmlns:xlink=\"http://www.w3.org/1999/xlink\" baseProfile=\"full\" height=\"120\" version=\"1.1\" width=\"120\"><defs/><rect fill=\"#25fde9\" height=\"77\" rx=\"10\" ry=\"10\" width=\"100%\" x=\"0.0\" y=\"21.5\"/><text alignment-baseline=\"middle\" fill=\"#000000\" font-family=\"Arial\" font-size=\"45\" font-weight=\"bold\" text-anchor=\"middle\" x=\"50%\" y=\"53%\">41</text></svg>"
      ],
      "text/plain": [
       "<IPython.core.display.SVG object>"
      ]
     },
     "metadata": {},
     "output_type": "display_data"
    },
    {
     "data": {
      "image/svg+xml": [
       "<svg xmlns=\"http://www.w3.org/2000/svg\" xmlns:ev=\"http://www.w3.org/2001/xml-events\" xmlns:xlink=\"http://www.w3.org/1999/xlink\" baseProfile=\"full\" height=\"120\" version=\"1.1\" width=\"120\"><defs/><rect fill=\"#ef373e\" height=\"77\" rx=\"10\" ry=\"10\" width=\"100%\" x=\"0.0\" y=\"21.5\"/><text alignment-baseline=\"middle\" fill=\"#ffffff\" font-family=\"Arial\" font-size=\"45\" font-weight=\"bold\" text-anchor=\"middle\" x=\"50%\" y=\"53%\">49</text></svg>"
      ],
      "text/plain": [
       "<IPython.core.display.SVG object>"
      ]
     },
     "metadata": {},
     "output_type": "display_data"
    },
    {
     "data": {
      "image/svg+xml": [
       "<svg xmlns=\"http://www.w3.org/2000/svg\" xmlns:ev=\"http://www.w3.org/2001/xml-events\" xmlns:xlink=\"http://www.w3.org/1999/xlink\" baseProfile=\"full\" height=\"120\" version=\"1.1\" width=\"120\"><defs/><rect fill=\"#38761d\" height=\"77\" rx=\"10\" ry=\"10\" width=\"100%\" x=\"0.0\" y=\"21.5\"/><text alignment-baseline=\"middle\" fill=\"#ffffff\" font-family=\"Arial\" font-size=\"45\" font-weight=\"bold\" text-anchor=\"middle\" x=\"50%\" y=\"53%\">Ns</text></svg>"
      ],
      "text/plain": [
       "<IPython.core.display.SVG object>"
      ]
     },
     "metadata": {},
     "output_type": "display_data"
    },
    {
     "data": {
      "image/svg+xml": [
       "<svg xmlns=\"http://www.w3.org/2000/svg\" xmlns:ev=\"http://www.w3.org/2001/xml-events\" xmlns:xlink=\"http://www.w3.org/1999/xlink\" baseProfile=\"full\" height=\"120\" version=\"1.1\" width=\"120\"><defs/><rect fill=\"#ee1d23\" height=\"77\" rx=\"10\" ry=\"10\" width=\"100%\" x=\"0.0\" y=\"21.5\"/><text alignment-baseline=\"middle\" fill=\"#ffffff\" font-family=\"Arial\" font-size=\"45\" font-weight=\"bold\" text-anchor=\"middle\" x=\"50%\" y=\"53%\">24</text></svg>"
      ],
      "text/plain": [
       "<IPython.core.display.SVG object>"
      ]
     },
     "metadata": {},
     "output_type": "display_data"
    },
    {
     "data": {
      "image/svg+xml": [
       "<svg xmlns=\"http://www.w3.org/2000/svg\" xmlns:ev=\"http://www.w3.org/2001/xml-events\" xmlns:xlink=\"http://www.w3.org/1999/xlink\" baseProfile=\"full\" height=\"120\" version=\"1.1\" width=\"120\"><defs/><rect fill=\"#19b200\" height=\"77\" rx=\"10\" ry=\"10\" width=\"100%\" x=\"0.0\" y=\"21.5\"/><text alignment-baseline=\"middle\" fill=\"#ffffff\" font-family=\"Arial\" font-size=\"45\" font-weight=\"bold\" text-anchor=\"middle\" x=\"50%\" y=\"53%\">9</text></svg>"
      ],
      "text/plain": [
       "<IPython.core.display.SVG object>"
      ]
     },
     "metadata": {},
     "output_type": "display_data"
    },
    {
     "data": {
      "image/svg+xml": [
       "<svg xmlns=\"http://www.w3.org/2000/svg\" xmlns:ev=\"http://www.w3.org/2001/xml-events\" xmlns:xlink=\"http://www.w3.org/1999/xlink\" baseProfile=\"full\" height=\"120\" version=\"1.1\" width=\"120\"><defs/><rect fill=\"#97bf35\" height=\"77\" rx=\"10\" ry=\"10\" width=\"100%\" x=\"0.0\" y=\"21.5\"/><text alignment-baseline=\"middle\" fill=\"#000000\" font-family=\"Arial\" font-size=\"45\" font-weight=\"bold\" text-anchor=\"middle\" x=\"50%\" y=\"53%\">7</text></svg>"
      ],
      "text/plain": [
       "<IPython.core.display.SVG object>"
      ]
     },
     "metadata": {},
     "output_type": "display_data"
    },
    {
     "data": {
      "image/svg+xml": [
       "<svg xmlns=\"http://www.w3.org/2000/svg\" xmlns:ev=\"http://www.w3.org/2001/xml-events\" xmlns:xlink=\"http://www.w3.org/1999/xlink\" baseProfile=\"full\" height=\"120\" version=\"1.1\" width=\"120\"><defs/><rect fill=\"#f28e43\" height=\"77\" rx=\"10\" ry=\"10\" width=\"100%\" x=\"0.0\" y=\"21.5\"/><text alignment-baseline=\"middle\" fill=\"#000000\" font-family=\"Arial\" font-size=\"45\" font-weight=\"bold\" text-anchor=\"middle\" x=\"50%\" y=\"53%\">643</text></svg>"
      ],
      "text/plain": [
       "<IPython.core.display.SVG object>"
      ]
     },
     "metadata": {},
     "output_type": "display_data"
    },
    {
     "data": {
      "image/svg+xml": [
       "<svg xmlns=\"http://www.w3.org/2000/svg\" xmlns:ev=\"http://www.w3.org/2001/xml-events\" xmlns:xlink=\"http://www.w3.org/1999/xlink\" baseProfile=\"full\" height=\"120\" version=\"1.1\" width=\"120\"><defs/><rect fill=\"#7d7b7e\" height=\"77\" rx=\"10\" ry=\"10\" width=\"100%\" x=\"0.0\" y=\"21.5\"/><text alignment-baseline=\"middle\" fill=\"#ffffff\" font-family=\"Arial\" font-size=\"45\" font-weight=\"bold\" text-anchor=\"middle\" x=\"50%\" y=\"53%\">71</text></svg>"
      ],
      "text/plain": [
       "<IPython.core.display.SVG object>"
      ]
     },
     "metadata": {},
     "output_type": "display_data"
    },
    {
     "data": {
      "image/svg+xml": [
       "<svg xmlns=\"http://www.w3.org/2000/svg\" xmlns:ev=\"http://www.w3.org/2001/xml-events\" xmlns:xlink=\"http://www.w3.org/1999/xlink\" baseProfile=\"full\" height=\"120\" version=\"1.1\" width=\"120\"><defs/><rect fill=\"#f49c03\" height=\"77\" rx=\"10\" ry=\"10\" width=\"100%\" x=\"0.0\" y=\"21.5\"/><text alignment-baseline=\"middle\" fill=\"#ffffff\" font-family=\"Arial\" font-size=\"45\" font-weight=\"bold\" text-anchor=\"middle\" x=\"50%\" y=\"53%\">170</text></svg>"
      ],
      "text/plain": [
       "<IPython.core.display.SVG object>"
      ]
     },
     "metadata": {},
     "output_type": "display_data"
    },
    {
     "data": {
      "image/svg+xml": [
       "<svg xmlns=\"http://www.w3.org/2000/svg\" xmlns:ev=\"http://www.w3.org/2001/xml-events\" xmlns:xlink=\"http://www.w3.org/1999/xlink\" baseProfile=\"full\" height=\"120\" version=\"1.1\" width=\"120\"><defs/><rect fill=\"#3bb2ff\" height=\"77\" rx=\"10\" ry=\"10\" width=\"100%\" x=\"0.0\" y=\"21.5\"/><text alignment-baseline=\"middle\" fill=\"#000000\" font-family=\"Arial\" font-size=\"45\" font-weight=\"bold\" text-anchor=\"middle\" x=\"50%\" y=\"53%\">10</text></svg>"
      ],
      "text/plain": [
       "<IPython.core.display.SVG object>"
      ]
     },
     "metadata": {},
     "output_type": "display_data"
    },
    {
     "data": {
      "image/svg+xml": [
       "<svg xmlns=\"http://www.w3.org/2000/svg\" xmlns:ev=\"http://www.w3.org/2001/xml-events\" xmlns:xlink=\"http://www.w3.org/1999/xlink\" baseProfile=\"full\" height=\"120\" version=\"1.1\" width=\"120\"><defs/><rect fill=\"#a6a4a5\" height=\"77\" rx=\"10\" ry=\"10\" width=\"100%\" x=\"0.0\" y=\"21.5\"/><text alignment-baseline=\"middle\" fill=\"#000000\" font-family=\"Arial\" font-size=\"45\" font-weight=\"bold\" text-anchor=\"middle\" x=\"50%\" y=\"53%\">23</text></svg>"
      ],
      "text/plain": [
       "<IPython.core.display.SVG object>"
      ]
     },
     "metadata": {},
     "output_type": "display_data"
    },
    {
     "data": {
      "image/svg+xml": [
       "<svg xmlns=\"http://www.w3.org/2000/svg\" xmlns:ev=\"http://www.w3.org/2001/xml-events\" xmlns:xlink=\"http://www.w3.org/1999/xlink\" baseProfile=\"full\" height=\"120\" version=\"1.1\" width=\"120\"><defs/><rect fill=\"#d9d2e9\" height=\"77\" rx=\"10\" ry=\"10\" width=\"100%\" x=\"0.0\" y=\"21.5\"/><text alignment-baseline=\"middle\" fill=\"#ffffff\" font-family=\"Arial\" font-size=\"45\" font-weight=\"bold\" text-anchor=\"middle\" x=\"50%\" y=\"53%\">9A</text></svg>"
      ],
      "text/plain": [
       "<IPython.core.display.SVG object>"
      ]
     },
     "metadata": {},
     "output_type": "display_data"
    },
    {
     "data": {
      "image/svg+xml": [
       "<svg xmlns=\"http://www.w3.org/2000/svg\" xmlns:ev=\"http://www.w3.org/2001/xml-events\" xmlns:xlink=\"http://www.w3.org/1999/xlink\" baseProfile=\"full\" height=\"120\" version=\"1.1\" width=\"120\"><defs/><rect fill=\"#9c9a3e\" height=\"77\" rx=\"10\" ry=\"10\" width=\"100%\" x=\"0.0\" y=\"21.5\"/><text alignment-baseline=\"middle\" fill=\"#ffffff\" font-family=\"Arial\" font-size=\"45\" font-weight=\"bold\" text-anchor=\"middle\" x=\"50%\" y=\"53%\">30D</text></svg>"
      ],
      "text/plain": [
       "<IPython.core.display.SVG object>"
      ]
     },
     "metadata": {},
     "output_type": "display_data"
    },
    {
     "data": {
      "image/svg+xml": [
       "<svg xmlns=\"http://www.w3.org/2000/svg\" xmlns:ev=\"http://www.w3.org/2001/xml-events\" xmlns:xlink=\"http://www.w3.org/1999/xlink\" baseProfile=\"full\" height=\"120\" version=\"1.1\" width=\"120\"><defs/><rect fill=\"#e69138\" height=\"77\" rx=\"10\" ry=\"10\" width=\"100%\" x=\"0.0\" y=\"21.5\"/><text alignment-baseline=\"middle\" fill=\"#ffffff\" font-family=\"Arial\" font-size=\"45\" font-weight=\"bold\" text-anchor=\"middle\" x=\"50%\" y=\"53%\">9B</text></svg>"
      ],
      "text/plain": [
       "<IPython.core.display.SVG object>"
      ]
     },
     "metadata": {},
     "output_type": "display_data"
    },
    {
     "data": {
      "image/svg+xml": [
       "<svg xmlns=\"http://www.w3.org/2000/svg\" xmlns:ev=\"http://www.w3.org/2001/xml-events\" xmlns:xlink=\"http://www.w3.org/1999/xlink\" baseProfile=\"full\" height=\"120\" version=\"1.1\" width=\"120\"><defs/><rect fill=\"#d4c900\" height=\"77\" rx=\"10\" ry=\"10\" width=\"100%\" x=\"0.0\" y=\"21.5\"/><text alignment-baseline=\"middle\" fill=\"#000000\" font-family=\"Arial\" font-size=\"45\" font-weight=\"bold\" text-anchor=\"middle\" x=\"50%\" y=\"53%\">21</text></svg>"
      ],
      "text/plain": [
       "<IPython.core.display.SVG object>"
      ]
     },
     "metadata": {},
     "output_type": "display_data"
    },
    {
     "data": {
      "image/svg+xml": [
       "<svg xmlns=\"http://www.w3.org/2000/svg\" xmlns:ev=\"http://www.w3.org/2001/xml-events\" xmlns:xlink=\"http://www.w3.org/1999/xlink\" baseProfile=\"full\" height=\"120\" version=\"1.1\" width=\"120\"><defs/><rect fill=\"#c04191\" height=\"77\" rx=\"10\" ry=\"10\" width=\"100%\" x=\"0.0\" y=\"21.5\"/><text alignment-baseline=\"middle\" fill=\"#ffffff\" font-family=\"Arial\" font-size=\"45\" font-weight=\"bold\" text-anchor=\"middle\" x=\"50%\" y=\"53%\">11</text></svg>"
      ],
      "text/plain": [
       "<IPython.core.display.SVG object>"
      ]
     },
     "metadata": {},
     "output_type": "display_data"
    },
    {
     "data": {
      "image/svg+xml": [
       "<svg xmlns=\"http://www.w3.org/2000/svg\" xmlns:ev=\"http://www.w3.org/2001/xml-events\" xmlns:xlink=\"http://www.w3.org/1999/xlink\" baseProfile=\"full\" height=\"120\" version=\"1.1\" width=\"120\"><defs/><rect fill=\"#fece00\" height=\"77\" rx=\"10\" ry=\"10\" width=\"100%\" x=\"0.0\" y=\"21.5\"/><text alignment-baseline=\"middle\" fill=\"#000000\" font-family=\"Arial\" font-size=\"45\" font-weight=\"bold\" text-anchor=\"middle\" x=\"50%\" y=\"53%\">715</text></svg>"
      ],
      "text/plain": [
       "<IPython.core.display.SVG object>"
      ]
     },
     "metadata": {},
     "output_type": "display_data"
    },
    {
     "data": {
      "image/svg+xml": [
       "<svg xmlns=\"http://www.w3.org/2000/svg\" xmlns:ev=\"http://www.w3.org/2001/xml-events\" xmlns:xlink=\"http://www.w3.org/1999/xlink\" baseProfile=\"full\" height=\"120\" version=\"1.1\" width=\"120\"><defs/><rect fill=\"#81c391\" height=\"77\" rx=\"10\" ry=\"10\" width=\"100%\" x=\"0.0\" y=\"21.5\"/><text alignment-baseline=\"middle\" fill=\"#000000\" font-family=\"Arial\" font-size=\"45\" font-weight=\"bold\" text-anchor=\"middle\" x=\"50%\" y=\"53%\">707</text></svg>"
      ],
      "text/plain": [
       "<IPython.core.display.SVG object>"
      ]
     },
     "metadata": {},
     "output_type": "display_data"
    },
    {
     "data": {
      "image/svg+xml": [
       "<svg xmlns=\"http://www.w3.org/2000/svg\" xmlns:ev=\"http://www.w3.org/2001/xml-events\" xmlns:xlink=\"http://www.w3.org/1999/xlink\" baseProfile=\"full\" height=\"120\" version=\"1.1\" width=\"120\"><defs/><rect fill=\"#fece00\" height=\"77\" rx=\"10\" ry=\"10\" width=\"100%\" x=\"0.0\" y=\"21.5\"/><text alignment-baseline=\"middle\" fill=\"#000000\" font-family=\"Arial\" font-size=\"45\" font-weight=\"bold\" text-anchor=\"middle\" x=\"50%\" y=\"53%\">708</text></svg>"
      ],
      "text/plain": [
       "<IPython.core.display.SVG object>"
      ]
     },
     "metadata": {},
     "output_type": "display_data"
    },
    {
     "data": {
      "image/svg+xml": [
       "<svg xmlns=\"http://www.w3.org/2000/svg\" xmlns:ev=\"http://www.w3.org/2001/xml-events\" xmlns:xlink=\"http://www.w3.org/1999/xlink\" baseProfile=\"full\" height=\"120\" version=\"1.1\" width=\"120\"><defs/><rect fill=\"#8c5e2b\" height=\"77\" rx=\"10\" ry=\"10\" width=\"100%\" x=\"0.0\" y=\"21.5\"/><text alignment-baseline=\"middle\" fill=\"#ffffff\" font-family=\"Arial\" font-size=\"45\" font-weight=\"bold\" text-anchor=\"middle\" x=\"50%\" y=\"53%\">702</text></svg>"
      ],
      "text/plain": [
       "<IPython.core.display.SVG object>"
      ]
     },
     "metadata": {},
     "output_type": "display_data"
    },
    {
     "data": {
      "image/svg+xml": [
       "<svg xmlns=\"http://www.w3.org/2000/svg\" xmlns:ev=\"http://www.w3.org/2001/xml-events\" xmlns:xlink=\"http://www.w3.org/1999/xlink\" baseProfile=\"full\" height=\"120\" version=\"1.1\" width=\"120\"><defs/><rect fill=\"#9dc48a\" height=\"77\" rx=\"10\" ry=\"10\" width=\"100%\" x=\"0.0\" y=\"21.5\"/><text alignment-baseline=\"middle\" fill=\"#000000\" font-family=\"Arial\" font-size=\"45\" font-weight=\"bold\" text-anchor=\"middle\" x=\"50%\" y=\"53%\">08</text></svg>"
      ],
      "text/plain": [
       "<IPython.core.display.SVG object>"
      ]
     },
     "metadata": {},
     "output_type": "display_data"
    },
    {
     "data": {
      "image/svg+xml": [
       "<svg xmlns=\"http://www.w3.org/2000/svg\" xmlns:ev=\"http://www.w3.org/2001/xml-events\" xmlns:xlink=\"http://www.w3.org/1999/xlink\" baseProfile=\"full\" height=\"120\" version=\"1.1\" width=\"120\"><defs/><rect fill=\"#b3b300\" height=\"77\" rx=\"10\" ry=\"10\" width=\"100%\" x=\"0.0\" y=\"21.5\"/><text alignment-baseline=\"middle\" fill=\"#000000\" font-family=\"Arial\" font-size=\"45\" font-weight=\"bold\" text-anchor=\"middle\" x=\"50%\" y=\"53%\">15</text></svg>"
      ],
      "text/plain": [
       "<IPython.core.display.SVG object>"
      ]
     },
     "metadata": {},
     "output_type": "display_data"
    },
    {
     "data": {
      "image/svg+xml": [
       "<svg xmlns=\"http://www.w3.org/2000/svg\" xmlns:ev=\"http://www.w3.org/2001/xml-events\" xmlns:xlink=\"http://www.w3.org/1999/xlink\" baseProfile=\"full\" height=\"120\" version=\"1.1\" width=\"120\"><defs/><rect fill=\"#f5a162\" height=\"77\" rx=\"10\" ry=\"10\" width=\"100%\" x=\"0.0\" y=\"21.5\"/><text alignment-baseline=\"middle\" fill=\"#000000\" font-family=\"Arial\" font-size=\"45\" font-weight=\"bold\" text-anchor=\"middle\" x=\"50%\" y=\"53%\">18</text></svg>"
      ],
      "text/plain": [
       "<IPython.core.display.SVG object>"
      ]
     },
     "metadata": {},
     "output_type": "display_data"
    },
    {
     "data": {
      "image/svg+xml": [
       "<svg xmlns=\"http://www.w3.org/2000/svg\" xmlns:ev=\"http://www.w3.org/2001/xml-events\" xmlns:xlink=\"http://www.w3.org/1999/xlink\" baseProfile=\"full\" height=\"120\" version=\"1.1\" width=\"120\"><defs/><rect fill=\"#feee5d\" height=\"77\" rx=\"10\" ry=\"10\" width=\"100%\" x=\"0.0\" y=\"21.5\"/><text alignment-baseline=\"middle\" fill=\"#000000\" font-family=\"Arial\" font-size=\"45\" font-weight=\"bold\" text-anchor=\"middle\" x=\"50%\" y=\"53%\">24</text></svg>"
      ],
      "text/plain": [
       "<IPython.core.display.SVG object>"
      ]
     },
     "metadata": {},
     "output_type": "display_data"
    },
    {
     "data": {
      "image/svg+xml": [
       "<svg xmlns=\"http://www.w3.org/2000/svg\" xmlns:ev=\"http://www.w3.org/2001/xml-events\" xmlns:xlink=\"http://www.w3.org/1999/xlink\" baseProfile=\"full\" height=\"120\" version=\"1.1\" width=\"120\"><defs/><rect fill=\"#cc9ec6\" height=\"77\" rx=\"10\" ry=\"10\" width=\"100%\" x=\"0.0\" y=\"21.5\"/><text alignment-baseline=\"middle\" fill=\"#000000\" font-family=\"Arial\" font-size=\"45\" font-weight=\"bold\" text-anchor=\"middle\" x=\"50%\" y=\"53%\">25</text></svg>"
      ],
      "text/plain": [
       "<IPython.core.display.SVG object>"
      ]
     },
     "metadata": {},
     "output_type": "display_data"
    },
    {
     "data": {
      "image/svg+xml": [
       "<svg xmlns=\"http://www.w3.org/2000/svg\" xmlns:ev=\"http://www.w3.org/2001/xml-events\" xmlns:xlink=\"http://www.w3.org/1999/xlink\" baseProfile=\"full\" height=\"120\" version=\"1.1\" width=\"120\"><defs/><rect fill=\"#fecf00\" height=\"77\" rx=\"10\" ry=\"10\" width=\"100%\" x=\"0.0\" y=\"21.5\"/><text alignment-baseline=\"middle\" fill=\"#000000\" font-family=\"Arial\" font-size=\"45\" font-weight=\"bold\" text-anchor=\"middle\" x=\"50%\" y=\"53%\">54</text></svg>"
      ],
      "text/plain": [
       "<IPython.core.display.SVG object>"
      ]
     },
     "metadata": {},
     "output_type": "display_data"
    },
    {
     "data": {
      "image/svg+xml": [
       "<svg xmlns=\"http://www.w3.org/2000/svg\" xmlns:ev=\"http://www.w3.org/2001/xml-events\" xmlns:xlink=\"http://www.w3.org/1999/xlink\" baseProfile=\"full\" height=\"120\" version=\"1.1\" width=\"120\"><defs/><rect fill=\"#3c91dc\" height=\"77\" rx=\"10\" ry=\"10\" width=\"100%\" x=\"0.0\" y=\"21.5\"/><text alignment-baseline=\"middle\" fill=\"#ffffff\" font-family=\"Arial\" font-size=\"45\" font-weight=\"bold\" text-anchor=\"middle\" x=\"50%\" y=\"53%\">7</text></svg>"
      ],
      "text/plain": [
       "<IPython.core.display.SVG object>"
      ]
     },
     "metadata": {},
     "output_type": "display_data"
    },
    {
     "data": {
      "image/svg+xml": [
       "<svg xmlns=\"http://www.w3.org/2000/svg\" xmlns:ev=\"http://www.w3.org/2001/xml-events\" xmlns:xlink=\"http://www.w3.org/1999/xlink\" baseProfile=\"full\" height=\"120\" version=\"1.1\" width=\"120\"><defs/><rect fill=\"#e75094\" height=\"77\" rx=\"10\" ry=\"10\" width=\"100%\" x=\"0.0\" y=\"21.5\"/><text alignment-baseline=\"middle\" fill=\"#000000\" font-family=\"Arial\" font-size=\"45\" font-weight=\"bold\" text-anchor=\"middle\" x=\"50%\" y=\"53%\">19</text></svg>"
      ],
      "text/plain": [
       "<IPython.core.display.SVG object>"
      ]
     },
     "metadata": {},
     "output_type": "display_data"
    },
    {
     "data": {
      "image/svg+xml": [
       "<svg xmlns=\"http://www.w3.org/2000/svg\" xmlns:ev=\"http://www.w3.org/2001/xml-events\" xmlns:xlink=\"http://www.w3.org/1999/xlink\" baseProfile=\"full\" height=\"120\" version=\"1.1\" width=\"120\"><defs/><rect fill=\"#eb690b\" height=\"77\" rx=\"10\" ry=\"10\" width=\"100%\" x=\"0.0\" y=\"21.5\"/><text alignment-baseline=\"middle\" fill=\"#ffffff\" font-family=\"Arial\" font-size=\"45\" font-weight=\"bold\" text-anchor=\"middle\" x=\"50%\" y=\"53%\">501</text></svg>"
      ],
      "text/plain": [
       "<IPython.core.display.SVG object>"
      ]
     },
     "metadata": {},
     "output_type": "display_data"
    },
    {
     "data": {
      "image/svg+xml": [
       "<svg xmlns=\"http://www.w3.org/2000/svg\" xmlns:ev=\"http://www.w3.org/2001/xml-events\" xmlns:xlink=\"http://www.w3.org/1999/xlink\" baseProfile=\"full\" height=\"120\" version=\"1.1\" width=\"120\"><defs/><rect fill=\"#3bb2ff\" height=\"77\" rx=\"10\" ry=\"10\" width=\"100%\" x=\"0.0\" y=\"21.5\"/><text alignment-baseline=\"middle\" fill=\"#000000\" font-family=\"Arial\" font-size=\"45\" font-weight=\"bold\" text-anchor=\"middle\" x=\"50%\" y=\"53%\">15</text></svg>"
      ],
      "text/plain": [
       "<IPython.core.display.SVG object>"
      ]
     },
     "metadata": {},
     "output_type": "display_data"
    },
    {
     "data": {
      "image/svg+xml": [
       "<svg xmlns=\"http://www.w3.org/2000/svg\" xmlns:ev=\"http://www.w3.org/2001/xml-events\" xmlns:xlink=\"http://www.w3.org/1999/xlink\" baseProfile=\"full\" height=\"120\" version=\"1.1\" width=\"120\"><defs/><rect fill=\"#644c18\" height=\"77\" rx=\"10\" ry=\"10\" width=\"100%\" x=\"0.0\" y=\"21.5\"/><text alignment-baseline=\"middle\" fill=\"#ffffff\" font-family=\"Arial\" font-size=\"45\" font-weight=\"bold\" text-anchor=\"middle\" x=\"50%\" y=\"53%\">5</text></svg>"
      ],
      "text/plain": [
       "<IPython.core.display.SVG object>"
      ]
     },
     "metadata": {},
     "output_type": "display_data"
    },
    {
     "data": {
      "image/svg+xml": [
       "<svg xmlns=\"http://www.w3.org/2000/svg\" xmlns:ev=\"http://www.w3.org/2001/xml-events\" xmlns:xlink=\"http://www.w3.org/1999/xlink\" baseProfile=\"full\" height=\"120\" version=\"1.1\" width=\"120\"><defs/><rect fill=\"#df3a82\" height=\"77\" rx=\"10\" ry=\"10\" width=\"100%\" x=\"0.0\" y=\"21.5\"/><text alignment-baseline=\"middle\" fill=\"#ffffff\" font-family=\"Arial\" font-size=\"45\" font-weight=\"bold\" text-anchor=\"middle\" x=\"50%\" y=\"53%\">N1</text></svg>"
      ],
      "text/plain": [
       "<IPython.core.display.SVG object>"
      ]
     },
     "metadata": {},
     "output_type": "display_data"
    },
    {
     "data": {
      "image/svg+xml": [
       "<svg xmlns=\"http://www.w3.org/2000/svg\" xmlns:ev=\"http://www.w3.org/2001/xml-events\" xmlns:xlink=\"http://www.w3.org/1999/xlink\" baseProfile=\"full\" height=\"120\" version=\"1.1\" width=\"120\"><defs/><rect fill=\"#83d0f5\" height=\"77\" rx=\"10\" ry=\"10\" width=\"100%\" x=\"0.0\" y=\"21.5\"/><text alignment-baseline=\"middle\" fill=\"#000000\" font-family=\"Arial\" font-size=\"45\" font-weight=\"bold\" text-anchor=\"middle\" x=\"50%\" y=\"53%\">448</text></svg>"
      ],
      "text/plain": [
       "<IPython.core.display.SVG object>"
      ]
     },
     "metadata": {},
     "output_type": "display_data"
    },
    {
     "data": {
      "image/svg+xml": [
       "<svg xmlns=\"http://www.w3.org/2000/svg\" xmlns:ev=\"http://www.w3.org/2001/xml-events\" xmlns:xlink=\"http://www.w3.org/1999/xlink\" baseProfile=\"full\" height=\"120\" version=\"1.1\" width=\"120\"><defs/><rect fill=\"#ff82b4\" height=\"77\" rx=\"10\" ry=\"10\" width=\"100%\" x=\"0.0\" y=\"21.5\"/><text alignment-baseline=\"middle\" fill=\"#000000\" font-family=\"Arial\" font-size=\"45\" font-weight=\"bold\" text-anchor=\"middle\" x=\"50%\" y=\"53%\">30</text></svg>"
      ],
      "text/plain": [
       "<IPython.core.display.SVG object>"
      ]
     },
     "metadata": {},
     "output_type": "display_data"
    },
    {
     "data": {
      "image/svg+xml": [
       "<svg xmlns=\"http://www.w3.org/2000/svg\" xmlns:ev=\"http://www.w3.org/2001/xml-events\" xmlns:xlink=\"http://www.w3.org/1999/xlink\" baseProfile=\"full\" height=\"120\" version=\"1.1\" width=\"120\"><defs/><rect fill=\"#c5a3cd\" height=\"77\" rx=\"10\" ry=\"10\" width=\"100%\" x=\"0.0\" y=\"21.5\"/><text alignment-baseline=\"middle\" fill=\"#000000\" font-family=\"Arial\" font-size=\"45\" font-weight=\"bold\" text-anchor=\"middle\" x=\"50%\" y=\"53%\">44</text></svg>"
      ],
      "text/plain": [
       "<IPython.core.display.SVG object>"
      ]
     },
     "metadata": {},
     "output_type": "display_data"
    },
    {
     "data": {
      "image/svg+xml": [
       "<svg xmlns=\"http://www.w3.org/2000/svg\" xmlns:ev=\"http://www.w3.org/2001/xml-events\" xmlns:xlink=\"http://www.w3.org/1999/xlink\" baseProfile=\"full\" height=\"120\" version=\"1.1\" width=\"120\"><defs/><rect fill=\"#79ac2b\" height=\"77\" rx=\"10\" ry=\"10\" width=\"100%\" x=\"0.0\" y=\"21.5\"/><text alignment-baseline=\"middle\" fill=\"#ffffff\" font-family=\"Arial\" font-size=\"45\" font-weight=\"bold\" text-anchor=\"middle\" x=\"50%\" y=\"53%\">420</text></svg>"
      ],
      "text/plain": [
       "<IPython.core.display.SVG object>"
      ]
     },
     "metadata": {},
     "output_type": "display_data"
    },
    {
     "data": {
      "image/svg+xml": [
       "<svg xmlns=\"http://www.w3.org/2000/svg\" xmlns:ev=\"http://www.w3.org/2001/xml-events\" xmlns:xlink=\"http://www.w3.org/1999/xlink\" baseProfile=\"full\" height=\"120\" version=\"1.1\" width=\"120\"><defs/><rect fill=\"#ff5a00\" height=\"77\" rx=\"10\" ry=\"10\" width=\"100%\" x=\"0.0\" y=\"21.5\"/><text alignment-baseline=\"middle\" fill=\"#000000\" font-family=\"Arial\" font-size=\"45\" font-weight=\"bold\" text-anchor=\"middle\" x=\"50%\" y=\"53%\">20</text></svg>"
      ],
      "text/plain": [
       "<IPython.core.display.SVG object>"
      ]
     },
     "metadata": {},
     "output_type": "display_data"
    },
    {
     "data": {
      "image/svg+xml": [
       "<svg xmlns=\"http://www.w3.org/2000/svg\" xmlns:ev=\"http://www.w3.org/2001/xml-events\" xmlns:xlink=\"http://www.w3.org/1999/xlink\" baseProfile=\"full\" height=\"120\" version=\"1.1\" width=\"120\"><defs/><rect fill=\"#ff1400\" height=\"77\" rx=\"10\" ry=\"10\" width=\"100%\" x=\"0.0\" y=\"21.5\"/><text alignment-baseline=\"middle\" fill=\"#ffffff\" font-family=\"Arial\" font-size=\"45\" font-weight=\"bold\" text-anchor=\"middle\" x=\"50%\" y=\"53%\">38</text></svg>"
      ],
      "text/plain": [
       "<IPython.core.display.SVG object>"
      ]
     },
     "metadata": {},
     "output_type": "display_data"
    },
    {
     "data": {
      "image/svg+xml": [
       "<svg xmlns=\"http://www.w3.org/2000/svg\" xmlns:ev=\"http://www.w3.org/2001/xml-events\" xmlns:xlink=\"http://www.w3.org/1999/xlink\" baseProfile=\"full\" height=\"120\" version=\"1.1\" width=\"120\"><defs/><rect fill=\"#791cf8\" height=\"77\" rx=\"10\" ry=\"10\" width=\"100%\" x=\"0.0\" y=\"21.5\"/><text alignment-baseline=\"middle\" fill=\"#ffffff\" font-family=\"Arial\" font-size=\"45\" font-weight=\"bold\" text-anchor=\"middle\" x=\"50%\" y=\"53%\">6</text></svg>"
      ],
      "text/plain": [
       "<IPython.core.display.SVG object>"
      ]
     },
     "metadata": {},
     "output_type": "display_data"
    },
    {
     "data": {
      "image/svg+xml": [
       "<svg xmlns=\"http://www.w3.org/2000/svg\" xmlns:ev=\"http://www.w3.org/2001/xml-events\" xmlns:xlink=\"http://www.w3.org/1999/xlink\" baseProfile=\"full\" height=\"120\" version=\"1.1\" width=\"120\"><defs/><rect fill=\"#00b397\" height=\"77\" rx=\"10\" ry=\"10\" width=\"100%\" x=\"0.0\" y=\"21.5\"/><text alignment-baseline=\"middle\" fill=\"#ffffff\" font-family=\"Arial\" font-size=\"45\" font-weight=\"bold\" text-anchor=\"middle\" x=\"50%\" y=\"53%\">25</text></svg>"
      ],
      "text/plain": [
       "<IPython.core.display.SVG object>"
      ]
     },
     "metadata": {},
     "output_type": "display_data"
    },
    {
     "data": {
      "image/svg+xml": [
       "<svg xmlns=\"http://www.w3.org/2000/svg\" xmlns:ev=\"http://www.w3.org/2001/xml-events\" xmlns:xlink=\"http://www.w3.org/1999/xlink\" baseProfile=\"full\" height=\"120\" version=\"1.1\" width=\"120\"><defs/><rect fill=\"#0a560b\" height=\"77\" rx=\"10\" ry=\"10\" width=\"100%\" x=\"0.0\" y=\"21.5\"/><text alignment-baseline=\"middle\" fill=\"#ffffff\" font-family=\"Arial\" font-size=\"45\" font-weight=\"bold\" text-anchor=\"middle\" x=\"50%\" y=\"53%\">23</text></svg>"
      ],
      "text/plain": [
       "<IPython.core.display.SVG object>"
      ]
     },
     "metadata": {},
     "output_type": "display_data"
    },
    {
     "data": {
      "image/svg+xml": [
       "<svg xmlns=\"http://www.w3.org/2000/svg\" xmlns:ev=\"http://www.w3.org/2001/xml-events\" xmlns:xlink=\"http://www.w3.org/1999/xlink\" baseProfile=\"full\" height=\"120\" version=\"1.1\" width=\"120\"><defs/><rect fill=\"#e3b229\" height=\"77\" rx=\"10\" ry=\"10\" width=\"100%\" x=\"0.0\" y=\"21.5\"/><text alignment-baseline=\"middle\" fill=\"#000000\" font-family=\"Arial\" font-size=\"45\" font-weight=\"bold\" text-anchor=\"middle\" x=\"50%\" y=\"53%\">6</text></svg>"
      ],
      "text/plain": [
       "<IPython.core.display.SVG object>"
      ]
     },
     "metadata": {},
     "output_type": "display_data"
    },
    {
     "data": {
      "image/svg+xml": [
       "<svg xmlns=\"http://www.w3.org/2000/svg\" xmlns:ev=\"http://www.w3.org/2001/xml-events\" xmlns:xlink=\"http://www.w3.org/1999/xlink\" baseProfile=\"full\" height=\"120\" version=\"1.1\" width=\"120\"><defs/><rect fill=\"#9fe855\" height=\"77\" rx=\"10\" ry=\"10\" width=\"100%\" x=\"0.0\" y=\"21.5\"/><text alignment-baseline=\"middle\" fill=\"#000000\" font-family=\"Arial\" font-size=\"45\" font-weight=\"bold\" text-anchor=\"middle\" x=\"50%\" y=\"53%\">43</text></svg>"
      ],
      "text/plain": [
       "<IPython.core.display.SVG object>"
      ]
     },
     "metadata": {},
     "output_type": "display_data"
    },
    {
     "data": {
      "image/svg+xml": [
       "<svg xmlns=\"http://www.w3.org/2000/svg\" xmlns:ev=\"http://www.w3.org/2001/xml-events\" xmlns:xlink=\"http://www.w3.org/1999/xlink\" baseProfile=\"full\" height=\"120\" version=\"1.1\" width=\"120\"><defs/><rect fill=\"#93d5f6\" height=\"77\" rx=\"10\" ry=\"10\" width=\"100%\" x=\"0.0\" y=\"21.5\"/><text alignment-baseline=\"middle\" fill=\"#000000\" font-family=\"Arial\" font-size=\"45\" font-weight=\"bold\" text-anchor=\"middle\" x=\"50%\" y=\"53%\">37</text></svg>"
      ],
      "text/plain": [
       "<IPython.core.display.SVG object>"
      ]
     },
     "metadata": {},
     "output_type": "display_data"
    },
    {
     "data": {
      "image/svg+xml": [
       "<svg xmlns=\"http://www.w3.org/2000/svg\" xmlns:ev=\"http://www.w3.org/2001/xml-events\" xmlns:xlink=\"http://www.w3.org/1999/xlink\" baseProfile=\"full\" height=\"120\" version=\"1.1\" width=\"120\"><defs/><rect fill=\"#006b2d\" height=\"77\" rx=\"10\" ry=\"10\" width=\"100%\" x=\"0.0\" y=\"21.5\"/><text alignment-baseline=\"middle\" fill=\"#ffffff\" font-family=\"Arial\" font-size=\"45\" font-weight=\"bold\" text-anchor=\"middle\" x=\"50%\" y=\"53%\">17A</text></svg>"
      ],
      "text/plain": [
       "<IPython.core.display.SVG object>"
      ]
     },
     "metadata": {},
     "output_type": "display_data"
    },
    {
     "data": {
      "image/svg+xml": [
       "<svg xmlns=\"http://www.w3.org/2000/svg\" xmlns:ev=\"http://www.w3.org/2001/xml-events\" xmlns:xlink=\"http://www.w3.org/1999/xlink\" baseProfile=\"full\" height=\"120\" version=\"1.1\" width=\"120\"><defs/><rect fill=\"#813318\" height=\"77\" rx=\"10\" ry=\"10\" width=\"100%\" x=\"0.0\" y=\"21.5\"/><text alignment-baseline=\"middle\" fill=\"#ffffff\" font-family=\"Arial\" font-size=\"45\" font-weight=\"bold\" text-anchor=\"middle\" x=\"50%\" y=\"53%\">18A</text></svg>"
      ],
      "text/plain": [
       "<IPython.core.display.SVG object>"
      ]
     },
     "metadata": {},
     "output_type": "display_data"
    },
    {
     "data": {
      "image/svg+xml": [
       "<svg xmlns=\"http://www.w3.org/2000/svg\" xmlns:ev=\"http://www.w3.org/2001/xml-events\" xmlns:xlink=\"http://www.w3.org/1999/xlink\" baseProfile=\"full\" height=\"120\" version=\"1.1\" width=\"120\"><defs/><rect fill=\"#351c75\" height=\"77\" rx=\"10\" ry=\"10\" width=\"100%\" x=\"0.0\" y=\"21.5\"/><text alignment-baseline=\"middle\" fill=\"#ffffff\" font-family=\"Arial\" font-size=\"45\" font-weight=\"bold\" text-anchor=\"middle\" x=\"50%\" y=\"53%\">31</text></svg>"
      ],
      "text/plain": [
       "<IPython.core.display.SVG object>"
      ]
     },
     "metadata": {},
     "output_type": "display_data"
    },
    {
     "data": {
      "image/svg+xml": [
       "<svg xmlns=\"http://www.w3.org/2000/svg\" xmlns:ev=\"http://www.w3.org/2001/xml-events\" xmlns:xlink=\"http://www.w3.org/1999/xlink\" baseProfile=\"full\" height=\"120\" version=\"1.1\" width=\"120\"><defs/><rect fill=\"#4d90cd\" height=\"77\" rx=\"10\" ry=\"10\" width=\"100%\" x=\"0.0\" y=\"21.5\"/><text alignment-baseline=\"middle\" fill=\"#000000\" font-family=\"Arial\" font-size=\"45\" font-weight=\"bold\" text-anchor=\"middle\" x=\"50%\" y=\"53%\">68</text></svg>"
      ],
      "text/plain": [
       "<IPython.core.display.SVG object>"
      ]
     },
     "metadata": {},
     "output_type": "display_data"
    },
    {
     "data": {
      "image/svg+xml": [
       "<svg xmlns=\"http://www.w3.org/2000/svg\" xmlns:ev=\"http://www.w3.org/2001/xml-events\" xmlns:xlink=\"http://www.w3.org/1999/xlink\" baseProfile=\"full\" height=\"120\" version=\"1.1\" width=\"120\"><defs/><rect fill=\"#00643c\" height=\"77\" rx=\"10\" ry=\"10\" width=\"100%\" x=\"0.0\" y=\"21.5\"/><text alignment-baseline=\"middle\" fill=\"#ffffff\" font-family=\"Arial\" font-size=\"45\" font-weight=\"bold\" text-anchor=\"middle\" x=\"50%\" y=\"53%\">22</text></svg>"
      ],
      "text/plain": [
       "<IPython.core.display.SVG object>"
      ]
     },
     "metadata": {},
     "output_type": "display_data"
    },
    {
     "data": {
      "image/svg+xml": [
       "<svg xmlns=\"http://www.w3.org/2000/svg\" xmlns:ev=\"http://www.w3.org/2001/xml-events\" xmlns:xlink=\"http://www.w3.org/1999/xlink\" baseProfile=\"full\" height=\"120\" version=\"1.1\" width=\"120\"><defs/><rect fill=\"#018150\" height=\"77\" rx=\"10\" ry=\"10\" width=\"100%\" x=\"0.0\" y=\"21.5\"/><text alignment-baseline=\"middle\" fill=\"#ffffff\" font-family=\"Arial\" font-size=\"45\" font-weight=\"bold\" text-anchor=\"middle\" x=\"50%\" y=\"53%\">32</text></svg>"
      ],
      "text/plain": [
       "<IPython.core.display.SVG object>"
      ]
     },
     "metadata": {},
     "output_type": "display_data"
    },
    {
     "data": {
      "image/svg+xml": [
       "<svg xmlns=\"http://www.w3.org/2000/svg\" xmlns:ev=\"http://www.w3.org/2001/xml-events\" xmlns:xlink=\"http://www.w3.org/1999/xlink\" baseProfile=\"full\" height=\"120\" version=\"1.1\" width=\"120\"><defs/><rect fill=\"#f4a25f\" height=\"77\" rx=\"10\" ry=\"10\" width=\"100%\" x=\"0.0\" y=\"21.5\"/><text alignment-baseline=\"middle\" fill=\"#000000\" font-family=\"Arial\" font-size=\"45\" font-weight=\"bold\" text-anchor=\"middle\" x=\"50%\" y=\"53%\">34</text></svg>"
      ],
      "text/plain": [
       "<IPython.core.display.SVG object>"
      ]
     },
     "metadata": {},
     "output_type": "display_data"
    },
    {
     "data": {
      "image/svg+xml": [
       "<svg xmlns=\"http://www.w3.org/2000/svg\" xmlns:ev=\"http://www.w3.org/2001/xml-events\" xmlns:xlink=\"http://www.w3.org/1999/xlink\" baseProfile=\"full\" height=\"120\" version=\"1.1\" width=\"120\"><defs/><rect fill=\"#640082\" height=\"77\" rx=\"10\" ry=\"10\" width=\"100%\" x=\"0.0\" y=\"21.5\"/><text alignment-baseline=\"middle\" fill=\"#ffffff\" font-family=\"Arial\" font-size=\"45\" font-weight=\"bold\" text-anchor=\"middle\" x=\"50%\" y=\"53%\">30</text></svg>"
      ],
      "text/plain": [
       "<IPython.core.display.SVG object>"
      ]
     },
     "metadata": {},
     "output_type": "display_data"
    },
    {
     "data": {
      "image/svg+xml": [
       "<svg xmlns=\"http://www.w3.org/2000/svg\" xmlns:ev=\"http://www.w3.org/2001/xml-events\" xmlns:xlink=\"http://www.w3.org/1999/xlink\" baseProfile=\"full\" height=\"120\" version=\"1.1\" width=\"120\"><defs/><rect fill=\"#ff82b4\" height=\"77\" rx=\"10\" ry=\"10\" width=\"100%\" x=\"0.0\" y=\"21.5\"/><text alignment-baseline=\"middle\" fill=\"#000000\" font-family=\"Arial\" font-size=\"45\" font-weight=\"bold\" text-anchor=\"middle\" x=\"50%\" y=\"53%\">124</text></svg>"
      ],
      "text/plain": [
       "<IPython.core.display.SVG object>"
      ]
     },
     "metadata": {},
     "output_type": "display_data"
    },
    {
     "data": {
      "image/svg+xml": [
       "<svg xmlns=\"http://www.w3.org/2000/svg\" xmlns:ev=\"http://www.w3.org/2001/xml-events\" xmlns:xlink=\"http://www.w3.org/1999/xlink\" baseProfile=\"full\" height=\"120\" version=\"1.1\" width=\"120\"><defs/><rect fill=\"#82c8e6\" height=\"77\" rx=\"10\" ry=\"10\" width=\"100%\" x=\"0.0\" y=\"21.5\"/><text alignment-baseline=\"middle\" fill=\"#000000\" font-family=\"Arial\" font-size=\"45\" font-weight=\"bold\" text-anchor=\"middle\" x=\"50%\" y=\"53%\">89</text></svg>"
      ],
      "text/plain": [
       "<IPython.core.display.SVG object>"
      ]
     },
     "metadata": {},
     "output_type": "display_data"
    },
    {
     "data": {
      "image/svg+xml": [
       "<svg xmlns=\"http://www.w3.org/2000/svg\" xmlns:ev=\"http://www.w3.org/2001/xml-events\" xmlns:xlink=\"http://www.w3.org/1999/xlink\" baseProfile=\"full\" height=\"120\" version=\"1.1\" width=\"120\"><defs/><rect fill=\"#ffbe00\" height=\"77\" rx=\"10\" ry=\"10\" width=\"100%\" x=\"0.0\" y=\"21.5\"/><text alignment-baseline=\"middle\" fill=\"#000000\" font-family=\"Arial\" font-size=\"45\" font-weight=\"bold\" text-anchor=\"middle\" x=\"50%\" y=\"53%\">92</text></svg>"
      ],
      "text/plain": [
       "<IPython.core.display.SVG object>"
      ]
     },
     "metadata": {},
     "output_type": "display_data"
    },
    {
     "data": {
      "image/svg+xml": [
       "<svg xmlns=\"http://www.w3.org/2000/svg\" xmlns:ev=\"http://www.w3.org/2001/xml-events\" xmlns:xlink=\"http://www.w3.org/1999/xlink\" baseProfile=\"full\" height=\"120\" version=\"1.1\" width=\"120\"><defs/><rect fill=\"#6e5b1e\" height=\"77\" rx=\"10\" ry=\"10\" width=\"100%\" x=\"0.0\" y=\"21.5\"/><text alignment-baseline=\"middle\" fill=\"#ffffff\" font-family=\"Arial\" font-size=\"45\" font-weight=\"bold\" text-anchor=\"middle\" x=\"50%\" y=\"53%\">128</text></svg>"
      ],
      "text/plain": [
       "<IPython.core.display.SVG object>"
      ]
     },
     "metadata": {},
     "output_type": "display_data"
    },
    {
     "data": {
      "image/svg+xml": [
       "<svg xmlns=\"http://www.w3.org/2000/svg\" xmlns:ev=\"http://www.w3.org/2001/xml-events\" xmlns:xlink=\"http://www.w3.org/1999/xlink\" baseProfile=\"full\" height=\"120\" version=\"1.1\" width=\"120\"><defs/><rect fill=\"#ff1400\" height=\"77\" rx=\"10\" ry=\"10\" width=\"100%\" x=\"0.0\" y=\"21.5\"/><text alignment-baseline=\"middle\" fill=\"#ffffff\" font-family=\"Arial\" font-size=\"45\" font-weight=\"bold\" text-anchor=\"middle\" x=\"50%\" y=\"53%\">140</text></svg>"
      ],
      "text/plain": [
       "<IPython.core.display.SVG object>"
      ]
     },
     "metadata": {},
     "output_type": "display_data"
    },
    {
     "data": {
      "image/svg+xml": [
       "<svg xmlns=\"http://www.w3.org/2000/svg\" xmlns:ev=\"http://www.w3.org/2001/xml-events\" xmlns:xlink=\"http://www.w3.org/1999/xlink\" baseProfile=\"full\" height=\"120\" version=\"1.1\" width=\"120\"><defs/><rect fill=\"#dc9600\" height=\"77\" rx=\"10\" ry=\"10\" width=\"100%\" x=\"0.0\" y=\"21.5\"/><text alignment-baseline=\"middle\" fill=\"#000000\" font-family=\"Arial\" font-size=\"45\" font-weight=\"bold\" text-anchor=\"middle\" x=\"50%\" y=\"53%\">141</text></svg>"
      ],
      "text/plain": [
       "<IPython.core.display.SVG object>"
      ]
     },
     "metadata": {},
     "output_type": "display_data"
    },
    {
     "data": {
      "image/svg+xml": [
       "<svg xmlns=\"http://www.w3.org/2000/svg\" xmlns:ev=\"http://www.w3.org/2001/xml-events\" xmlns:xlink=\"http://www.w3.org/1999/xlink\" baseProfile=\"full\" height=\"120\" version=\"1.1\" width=\"120\"><defs/><rect fill=\"#d282be\" height=\"77\" rx=\"10\" ry=\"10\" width=\"100%\" x=\"0.0\" y=\"21.5\"/><text alignment-baseline=\"middle\" fill=\"#000000\" font-family=\"Arial\" font-size=\"45\" font-weight=\"bold\" text-anchor=\"middle\" x=\"50%\" y=\"53%\">144</text></svg>"
      ],
      "text/plain": [
       "<IPython.core.display.SVG object>"
      ]
     },
     "metadata": {},
     "output_type": "display_data"
    },
    {
     "data": {
      "image/svg+xml": [
       "<svg xmlns=\"http://www.w3.org/2000/svg\" xmlns:ev=\"http://www.w3.org/2001/xml-events\" xmlns:xlink=\"http://www.w3.org/1999/xlink\" baseProfile=\"full\" height=\"120\" version=\"1.1\" width=\"120\"><defs/><rect fill=\"#d282be\" height=\"77\" rx=\"10\" ry=\"10\" width=\"100%\" x=\"0.0\" y=\"21.5\"/><text alignment-baseline=\"middle\" fill=\"#000000\" font-family=\"Arial\" font-size=\"45\" font-weight=\"bold\" text-anchor=\"middle\" x=\"50%\" y=\"53%\">146</text></svg>"
      ],
      "text/plain": [
       "<IPython.core.display.SVG object>"
      ]
     },
     "metadata": {},
     "output_type": "display_data"
    },
    {
     "data": {
      "image/svg+xml": [
       "<svg xmlns=\"http://www.w3.org/2000/svg\" xmlns:ev=\"http://www.w3.org/2001/xml-events\" xmlns:xlink=\"http://www.w3.org/1999/xlink\" baseProfile=\"full\" height=\"120\" version=\"1.1\" width=\"120\"><defs/><rect fill=\"#ff1400\" height=\"77\" rx=\"10\" ry=\"10\" width=\"100%\" x=\"0.0\" y=\"21.5\"/><text alignment-baseline=\"middle\" fill=\"#ffffff\" font-family=\"Arial\" font-size=\"45\" font-weight=\"bold\" text-anchor=\"middle\" x=\"50%\" y=\"53%\">147</text></svg>"
      ],
      "text/plain": [
       "<IPython.core.display.SVG object>"
      ]
     },
     "metadata": {},
     "output_type": "display_data"
    },
    {
     "data": {
      "image/svg+xml": [
       "<svg xmlns=\"http://www.w3.org/2000/svg\" xmlns:ev=\"http://www.w3.org/2001/xml-events\" xmlns:xlink=\"http://www.w3.org/1999/xlink\" baseProfile=\"full\" height=\"120\" version=\"1.1\" width=\"120\"><defs/><rect fill=\"#dc9600\" height=\"77\" rx=\"10\" ry=\"10\" width=\"100%\" x=\"0.0\" y=\"21.5\"/><text alignment-baseline=\"middle\" fill=\"#000000\" font-family=\"Arial\" font-size=\"45\" font-weight=\"bold\" text-anchor=\"middle\" x=\"50%\" y=\"53%\">163</text></svg>"
      ],
      "text/plain": [
       "<IPython.core.display.SVG object>"
      ]
     },
     "metadata": {},
     "output_type": "display_data"
    },
    {
     "data": {
      "image/svg+xml": [
       "<svg xmlns=\"http://www.w3.org/2000/svg\" xmlns:ev=\"http://www.w3.org/2001/xml-events\" xmlns:xlink=\"http://www.w3.org/1999/xlink\" baseProfile=\"full\" height=\"120\" version=\"1.1\" width=\"120\"><defs/><rect fill=\"#640082\" height=\"77\" rx=\"10\" ry=\"10\" width=\"100%\" x=\"0.0\" y=\"21.5\"/><text alignment-baseline=\"middle\" fill=\"#ffffff\" font-family=\"Arial\" font-size=\"45\" font-weight=\"bold\" text-anchor=\"middle\" x=\"50%\" y=\"53%\">166</text></svg>"
      ],
      "text/plain": [
       "<IPython.core.display.SVG object>"
      ]
     },
     "metadata": {},
     "output_type": "display_data"
    },
    {
     "data": {
      "image/svg+xml": [
       "<svg xmlns=\"http://www.w3.org/2000/svg\" xmlns:ev=\"http://www.w3.org/2001/xml-events\" xmlns:xlink=\"http://www.w3.org/1999/xlink\" baseProfile=\"full\" height=\"120\" version=\"1.1\" width=\"120\"><defs/><rect fill=\"#8ce39c\" height=\"77\" rx=\"10\" ry=\"10\" width=\"100%\" x=\"0.0\" y=\"21.5\"/><text alignment-baseline=\"middle\" fill=\"#000000\" font-family=\"Arial\" font-size=\"45\" font-weight=\"bold\" text-anchor=\"middle\" x=\"50%\" y=\"53%\">101</text></svg>"
      ],
      "text/plain": [
       "<IPython.core.display.SVG object>"
      ]
     },
     "metadata": {},
     "output_type": "display_data"
    },
    {
     "data": {
      "image/svg+xml": [
       "<svg xmlns=\"http://www.w3.org/2000/svg\" xmlns:ev=\"http://www.w3.org/2001/xml-events\" xmlns:xlink=\"http://www.w3.org/1999/xlink\" baseProfile=\"full\" height=\"120\" version=\"1.1\" width=\"120\"><defs/><rect fill=\"#d282be\" height=\"77\" rx=\"10\" ry=\"10\" width=\"100%\" x=\"0.0\" y=\"21.5\"/><text alignment-baseline=\"middle\" fill=\"#000000\" font-family=\"Arial\" font-size=\"45\" font-weight=\"bold\" text-anchor=\"middle\" x=\"50%\" y=\"53%\">294</text></svg>"
      ],
      "text/plain": [
       "<IPython.core.display.SVG object>"
      ]
     },
     "metadata": {},
     "output_type": "display_data"
    },
    {
     "data": {
      "image/svg+xml": [
       "<svg xmlns=\"http://www.w3.org/2000/svg\" xmlns:ev=\"http://www.w3.org/2001/xml-events\" xmlns:xlink=\"http://www.w3.org/1999/xlink\" baseProfile=\"full\" height=\"120\" version=\"1.1\" width=\"120\"><defs/><rect fill=\"#6e5b1e\" height=\"77\" rx=\"10\" ry=\"10\" width=\"100%\" x=\"0.0\" y=\"21.5\"/><text alignment-baseline=\"middle\" fill=\"#ffffff\" font-family=\"Arial\" font-size=\"45\" font-weight=\"bold\" text-anchor=\"middle\" x=\"50%\" y=\"53%\">190</text></svg>"
      ],
      "text/plain": [
       "<IPython.core.display.SVG object>"
      ]
     },
     "metadata": {},
     "output_type": "display_data"
    },
    {
     "data": {
      "image/svg+xml": [
       "<svg xmlns=\"http://www.w3.org/2000/svg\" xmlns:ev=\"http://www.w3.org/2001/xml-events\" xmlns:xlink=\"http://www.w3.org/1999/xlink\" baseProfile=\"full\" height=\"120\" version=\"1.1\" width=\"120\"><defs/><rect fill=\"#ff82b4\" height=\"77\" rx=\"10\" ry=\"10\" width=\"100%\" x=\"0.0\" y=\"21.5\"/><text alignment-baseline=\"middle\" fill=\"#000000\" font-family=\"Arial\" font-size=\"45\" font-weight=\"bold\" text-anchor=\"middle\" x=\"50%\" y=\"53%\">191</text></svg>"
      ],
      "text/plain": [
       "<IPython.core.display.SVG object>"
      ]
     },
     "metadata": {},
     "output_type": "display_data"
    },
    {
     "data": {
      "image/svg+xml": [
       "<svg xmlns=\"http://www.w3.org/2000/svg\" xmlns:ev=\"http://www.w3.org/2001/xml-events\" xmlns:xlink=\"http://www.w3.org/1999/xlink\" baseProfile=\"full\" height=\"120\" version=\"1.1\" width=\"120\"><defs/><rect fill=\"#ff82b4\" height=\"77\" rx=\"10\" ry=\"10\" width=\"100%\" x=\"0.0\" y=\"21.5\"/><text alignment-baseline=\"middle\" fill=\"#000000\" font-family=\"Arial\" font-size=\"45\" font-weight=\"bold\" text-anchor=\"middle\" x=\"50%\" y=\"53%\">238</text></svg>"
      ],
      "text/plain": [
       "<IPython.core.display.SVG object>"
      ]
     },
     "metadata": {},
     "output_type": "display_data"
    },
    {
     "data": {
      "image/svg+xml": [
       "<svg xmlns=\"http://www.w3.org/2000/svg\" xmlns:ev=\"http://www.w3.org/2001/xml-events\" xmlns:xlink=\"http://www.w3.org/1999/xlink\" baseProfile=\"full\" height=\"120\" version=\"1.1\" width=\"120\"><defs/><rect fill=\"#dc9600\" height=\"77\" rx=\"10\" ry=\"10\" width=\"100%\" x=\"0.0\" y=\"21.5\"/><text alignment-baseline=\"middle\" fill=\"#000000\" font-family=\"Arial\" font-size=\"45\" font-weight=\"bold\" text-anchor=\"middle\" x=\"50%\" y=\"53%\">281</text></svg>"
      ],
      "text/plain": [
       "<IPython.core.display.SVG object>"
      ]
     },
     "metadata": {},
     "output_type": "display_data"
    },
    {
     "data": {
      "image/svg+xml": [
       "<svg xmlns=\"http://www.w3.org/2000/svg\" xmlns:ev=\"http://www.w3.org/2001/xml-events\" xmlns:xlink=\"http://www.w3.org/1999/xlink\" baseProfile=\"full\" height=\"120\" version=\"1.1\" width=\"120\"><defs/><rect fill=\"#d2d200\" height=\"77\" rx=\"10\" ry=\"10\" width=\"100%\" x=\"0.0\" y=\"21.5\"/><text alignment-baseline=\"middle\" fill=\"#000000\" font-family=\"Arial\" font-size=\"45\" font-weight=\"bold\" text-anchor=\"middle\" x=\"50%\" y=\"53%\">346</text></svg>"
      ],
      "text/plain": [
       "<IPython.core.display.SVG object>"
      ]
     },
     "metadata": {},
     "output_type": "display_data"
    },
    {
     "data": {
      "image/svg+xml": [
       "<svg xmlns=\"http://www.w3.org/2000/svg\" xmlns:ev=\"http://www.w3.org/2001/xml-events\" xmlns:xlink=\"http://www.w3.org/1999/xlink\" baseProfile=\"full\" height=\"120\" version=\"1.1\" width=\"120\"><defs/><rect fill=\"#dc9600\" height=\"77\" rx=\"10\" ry=\"10\" width=\"100%\" x=\"0.0\" y=\"21.5\"/><text alignment-baseline=\"middle\" fill=\"#000000\" font-family=\"Arial\" font-size=\"45\" font-weight=\"bold\" text-anchor=\"middle\" x=\"50%\" y=\"53%\">340</text></svg>"
      ],
      "text/plain": [
       "<IPython.core.display.SVG object>"
      ]
     },
     "metadata": {},
     "output_type": "display_data"
    },
    {
     "data": {
      "image/svg+xml": [
       "<svg xmlns=\"http://www.w3.org/2000/svg\" xmlns:ev=\"http://www.w3.org/2001/xml-events\" xmlns:xlink=\"http://www.w3.org/1999/xlink\" baseProfile=\"full\" height=\"120\" version=\"1.1\" width=\"120\"><defs/><rect fill=\"#0055c8\" height=\"77\" rx=\"10\" ry=\"10\" width=\"100%\" x=\"0.0\" y=\"21.5\"/><text alignment-baseline=\"middle\" fill=\"#ffffff\" font-family=\"Arial\" font-size=\"45\" font-weight=\"bold\" text-anchor=\"middle\" x=\"50%\" y=\"53%\">361</text></svg>"
      ],
      "text/plain": [
       "<IPython.core.display.SVG object>"
      ]
     },
     "metadata": {},
     "output_type": "display_data"
    },
    {
     "data": {
      "image/svg+xml": [
       "<svg xmlns=\"http://www.w3.org/2000/svg\" xmlns:ev=\"http://www.w3.org/2001/xml-events\" xmlns:xlink=\"http://www.w3.org/1999/xlink\" baseProfile=\"full\" height=\"120\" version=\"1.1\" width=\"120\"><defs/><rect fill=\"#d2d200\" height=\"77\" rx=\"10\" ry=\"10\" width=\"100%\" x=\"0.0\" y=\"21.5\"/><text alignment-baseline=\"middle\" fill=\"#000000\" font-family=\"Arial\" font-size=\"45\" font-weight=\"bold\" text-anchor=\"middle\" x=\"50%\" y=\"53%\">391</text></svg>"
      ],
      "text/plain": [
       "<IPython.core.display.SVG object>"
      ]
     },
     "metadata": {},
     "output_type": "display_data"
    },
    {
     "data": {
      "image/svg+xml": [
       "<svg xmlns=\"http://www.w3.org/2000/svg\" xmlns:ev=\"http://www.w3.org/2001/xml-events\" xmlns:xlink=\"http://www.w3.org/1999/xlink\" baseProfile=\"full\" height=\"120\" version=\"1.1\" width=\"120\"><defs/><rect fill=\"#ffbe00\" height=\"77\" rx=\"10\" ry=\"10\" width=\"100%\" x=\"0.0\" y=\"21.5\"/><text alignment-baseline=\"middle\" fill=\"#000000\" font-family=\"Arial\" font-size=\"45\" font-weight=\"bold\" text-anchor=\"middle\" x=\"50%\" y=\"53%\">492</text></svg>"
      ],
      "text/plain": [
       "<IPython.core.display.SVG object>"
      ]
     },
     "metadata": {},
     "output_type": "display_data"
    },
    {
     "data": {
      "image/svg+xml": [
       "<svg xmlns=\"http://www.w3.org/2000/svg\" xmlns:ev=\"http://www.w3.org/2001/xml-events\" xmlns:xlink=\"http://www.w3.org/1999/xlink\" baseProfile=\"full\" height=\"120\" version=\"1.1\" width=\"120\"><defs/><rect fill=\"#ff82b4\" height=\"77\" rx=\"10\" ry=\"10\" width=\"100%\" x=\"0.0\" y=\"21.5\"/><text alignment-baseline=\"middle\" fill=\"#000000\" font-family=\"Arial\" font-size=\"45\" font-weight=\"bold\" text-anchor=\"middle\" x=\"50%\" y=\"53%\">N31</text></svg>"
      ],
      "text/plain": [
       "<IPython.core.display.SVG object>"
      ]
     },
     "metadata": {},
     "output_type": "display_data"
    },
    {
     "data": {
      "image/svg+xml": [
       "<svg xmlns=\"http://www.w3.org/2000/svg\" xmlns:ev=\"http://www.w3.org/2001/xml-events\" xmlns:xlink=\"http://www.w3.org/1999/xlink\" baseProfile=\"full\" height=\"120\" version=\"1.1\" width=\"120\"><defs/><rect fill=\"#ffbe00\" height=\"77\" rx=\"10\" ry=\"10\" width=\"100%\" x=\"0.0\" y=\"21.5\"/><text alignment-baseline=\"middle\" fill=\"#000000\" font-family=\"Arial\" font-size=\"45\" font-weight=\"bold\" text-anchor=\"middle\" x=\"50%\" y=\"53%\">N45</text></svg>"
      ],
      "text/plain": [
       "<IPython.core.display.SVG object>"
      ]
     },
     "metadata": {},
     "output_type": "display_data"
    },
    {
     "data": {
      "image/svg+xml": [
       "<svg xmlns=\"http://www.w3.org/2000/svg\" xmlns:ev=\"http://www.w3.org/2001/xml-events\" xmlns:xlink=\"http://www.w3.org/1999/xlink\" baseProfile=\"full\" height=\"120\" version=\"1.1\" width=\"120\"><defs/><rect fill=\"#ff5a00\" height=\"77\" rx=\"10\" ry=\"10\" width=\"100%\" x=\"0.0\" y=\"21.5\"/><text alignment-baseline=\"middle\" fill=\"#ffffff\" font-family=\"Arial\" font-size=\"45\" font-weight=\"bold\" text-anchor=\"middle\" x=\"50%\" y=\"53%\">N43</text></svg>"
      ],
      "text/plain": [
       "<IPython.core.display.SVG object>"
      ]
     },
     "metadata": {},
     "output_type": "display_data"
    },
    {
     "data": {
      "image/svg+xml": [
       "<svg xmlns=\"http://www.w3.org/2000/svg\" xmlns:ev=\"http://www.w3.org/2001/xml-events\" xmlns:xlink=\"http://www.w3.org/1999/xlink\" baseProfile=\"full\" height=\"120\" version=\"1.1\" width=\"120\"><defs/><rect fill=\"#0055c8\" height=\"77\" rx=\"10\" ry=\"10\" width=\"100%\" x=\"0.0\" y=\"21.5\"/><text alignment-baseline=\"middle\" fill=\"#ffffff\" font-family=\"Arial\" font-size=\"45\" font-weight=\"bold\" text-anchor=\"middle\" x=\"50%\" y=\"53%\">564</text></svg>"
      ],
      "text/plain": [
       "<IPython.core.display.SVG object>"
      ]
     },
     "metadata": {},
     "output_type": "display_data"
    },
    {
     "data": {
      "image/svg+xml": [
       "<svg xmlns=\"http://www.w3.org/2000/svg\" xmlns:ev=\"http://www.w3.org/2001/xml-events\" xmlns:xlink=\"http://www.w3.org/1999/xlink\" baseProfile=\"full\" height=\"120\" version=\"1.1\" width=\"120\"><defs/><rect fill=\"#00643c\" height=\"77\" rx=\"10\" ry=\"10\" width=\"100%\" x=\"0.0\" y=\"21.5\"/><text alignment-baseline=\"middle\" fill=\"#ffffff\" font-family=\"Arial\" font-size=\"45\" font-weight=\"bold\" text-anchor=\"middle\" x=\"50%\" y=\"53%\">565</text></svg>"
      ],
      "text/plain": [
       "<IPython.core.display.SVG object>"
      ]
     },
     "metadata": {},
     "output_type": "display_data"
    },
    {
     "data": {
      "image/svg+xml": [
       "<svg xmlns=\"http://www.w3.org/2000/svg\" xmlns:ev=\"http://www.w3.org/2001/xml-events\" xmlns:xlink=\"http://www.w3.org/1999/xlink\" baseProfile=\"full\" height=\"120\" version=\"1.1\" width=\"120\"><defs/><rect fill=\"#82dc73\" height=\"77\" rx=\"10\" ry=\"10\" width=\"100%\" x=\"0.0\" y=\"21.5\"/><text alignment-baseline=\"middle\" fill=\"#000000\" font-family=\"Arial\" font-size=\"45\" font-weight=\"bold\" text-anchor=\"middle\" x=\"50%\" y=\"53%\">N53</text></svg>"
      ],
      "text/plain": [
       "<IPython.core.display.SVG object>"
      ]
     },
     "metadata": {},
     "output_type": "display_data"
    },
    {
     "data": {
      "image/svg+xml": [
       "<svg xmlns=\"http://www.w3.org/2000/svg\" xmlns:ev=\"http://www.w3.org/2001/xml-events\" xmlns:xlink=\"http://www.w3.org/1999/xlink\" baseProfile=\"full\" height=\"120\" version=\"1.1\" width=\"120\"><defs/><rect fill=\"#ff82b4\" height=\"77\" rx=\"10\" ry=\"10\" width=\"100%\" x=\"0.0\" y=\"21.5\"/><text alignment-baseline=\"middle\" fill=\"#000000\" font-family=\"Arial\" font-size=\"45\" font-weight=\"bold\" text-anchor=\"middle\" x=\"50%\" y=\"53%\">N41</text></svg>"
      ],
      "text/plain": [
       "<IPython.core.display.SVG object>"
      ]
     },
     "metadata": {},
     "output_type": "display_data"
    },
    {
     "data": {
      "image/svg+xml": [
       "<svg xmlns=\"http://www.w3.org/2000/svg\" xmlns:ev=\"http://www.w3.org/2001/xml-events\" xmlns:xlink=\"http://www.w3.org/1999/xlink\" baseProfile=\"full\" height=\"120\" version=\"1.1\" width=\"120\"><defs/><rect fill=\"#ffbe00\" height=\"77\" rx=\"10\" ry=\"10\" width=\"100%\" x=\"0.0\" y=\"21.5\"/><text alignment-baseline=\"middle\" fill=\"#000000\" font-family=\"Arial\" font-size=\"45\" font-weight=\"bold\" text-anchor=\"middle\" x=\"50%\" y=\"53%\">N35</text></svg>"
      ],
      "text/plain": [
       "<IPython.core.display.SVG object>"
      ]
     },
     "metadata": {},
     "output_type": "display_data"
    },
    {
     "data": {
      "image/svg+xml": [
       "<svg xmlns=\"http://www.w3.org/2000/svg\" xmlns:ev=\"http://www.w3.org/2001/xml-events\" xmlns:xlink=\"http://www.w3.org/1999/xlink\" baseProfile=\"full\" height=\"120\" version=\"1.1\" width=\"120\"><defs/><rect fill=\"#82dc73\" height=\"77\" rx=\"10\" ry=\"10\" width=\"100%\" x=\"0.0\" y=\"21.5\"/><text alignment-baseline=\"middle\" fill=\"#000000\" font-family=\"Arial\" font-size=\"45\" font-weight=\"bold\" text-anchor=\"middle\" x=\"50%\" y=\"53%\">N14</text></svg>"
      ],
      "text/plain": [
       "<IPython.core.display.SVG object>"
      ]
     },
     "metadata": {},
     "output_type": "display_data"
    },
    {
     "data": {
      "image/svg+xml": [
       "<svg xmlns=\"http://www.w3.org/2000/svg\" xmlns:ev=\"http://www.w3.org/2001/xml-events\" xmlns:xlink=\"http://www.w3.org/1999/xlink\" baseProfile=\"full\" height=\"120\" version=\"1.1\" width=\"120\"><defs/><rect fill=\"#640082\" height=\"77\" rx=\"10\" ry=\"10\" width=\"100%\" x=\"0.0\" y=\"21.5\"/><text alignment-baseline=\"middle\" fill=\"#ffffff\" font-family=\"Arial\" font-size=\"45\" font-weight=\"bold\" text-anchor=\"middle\" x=\"50%\" y=\"53%\">337</text></svg>"
      ],
      "text/plain": [
       "<IPython.core.display.SVG object>"
      ]
     },
     "metadata": {},
     "output_type": "display_data"
    },
    {
     "data": {
      "image/svg+xml": [
       "<svg xmlns=\"http://www.w3.org/2000/svg\" xmlns:ev=\"http://www.w3.org/2001/xml-events\" xmlns:xlink=\"http://www.w3.org/1999/xlink\" baseProfile=\"full\" height=\"120\" version=\"1.1\" width=\"120\"><defs/><rect fill=\"#ffbe00\" height=\"77\" rx=\"10\" ry=\"10\" width=\"100%\" x=\"0.0\" y=\"21.5\"/><text alignment-baseline=\"middle\" fill=\"#000000\" font-family=\"Arial\" font-size=\"45\" font-weight=\"bold\" text-anchor=\"middle\" x=\"50%\" y=\"53%\">487</text></svg>"
      ],
      "text/plain": [
       "<IPython.core.display.SVG object>"
      ]
     },
     "metadata": {},
     "output_type": "display_data"
    },
    {
     "data": {
      "image/svg+xml": [
       "<svg xmlns=\"http://www.w3.org/2000/svg\" xmlns:ev=\"http://www.w3.org/2001/xml-events\" xmlns:xlink=\"http://www.w3.org/1999/xlink\" baseProfile=\"full\" height=\"120\" version=\"1.1\" width=\"120\"><defs/><rect fill=\"#0074ba\" height=\"77\" rx=\"10\" ry=\"10\" width=\"100%\" x=\"0.0\" y=\"21.5\"/><text alignment-baseline=\"middle\" fill=\"#ffffff\" font-family=\"Arial\" font-size=\"45\" font-weight=\"bold\" text-anchor=\"middle\" x=\"50%\" y=\"53%\">2</text></svg>"
      ],
      "text/plain": [
       "<IPython.core.display.SVG object>"
      ]
     },
     "metadata": {},
     "output_type": "display_data"
    },
    {
     "data": {
      "image/svg+xml": [
       "<svg xmlns=\"http://www.w3.org/2000/svg\" xmlns:ev=\"http://www.w3.org/2001/xml-events\" xmlns:xlink=\"http://www.w3.org/1999/xlink\" baseProfile=\"full\" height=\"120\" version=\"1.1\" width=\"120\"><defs/><rect fill=\"#ed808d\" height=\"77\" rx=\"10\" ry=\"10\" width=\"100%\" x=\"0.0\" y=\"21.5\"/><text alignment-baseline=\"middle\" fill=\"#000000\" font-family=\"Arial\" font-size=\"45\" font-weight=\"bold\" text-anchor=\"middle\" x=\"50%\" y=\"53%\">204</text></svg>"
      ],
      "text/plain": [
       "<IPython.core.display.SVG object>"
      ]
     },
     "metadata": {},
     "output_type": "display_data"
    },
    {
     "data": {
      "image/svg+xml": [
       "<svg xmlns=\"http://www.w3.org/2000/svg\" xmlns:ev=\"http://www.w3.org/2001/xml-events\" xmlns:xlink=\"http://www.w3.org/1999/xlink\" baseProfile=\"full\" height=\"120\" version=\"1.1\" width=\"120\"><defs/><rect fill=\"#a5be9a\" height=\"77\" rx=\"10\" ry=\"10\" width=\"100%\" x=\"0.0\" y=\"21.5\"/><text alignment-baseline=\"middle\" fill=\"#ffffff\" font-family=\"Arial\" font-size=\"45\" font-weight=\"bold\" text-anchor=\"middle\" x=\"50%\" y=\"53%\">14</text></svg>"
      ],
      "text/plain": [
       "<IPython.core.display.SVG object>"
      ]
     },
     "metadata": {},
     "output_type": "display_data"
    },
    {
     "data": {
      "image/svg+xml": [
       "<svg xmlns=\"http://www.w3.org/2000/svg\" xmlns:ev=\"http://www.w3.org/2001/xml-events\" xmlns:xlink=\"http://www.w3.org/1999/xlink\" baseProfile=\"full\" height=\"120\" version=\"1.1\" width=\"120\"><defs/><rect fill=\"#005aa1\" height=\"77\" rx=\"10\" ry=\"10\" width=\"100%\" x=\"0.0\" y=\"21.5\"/><text alignment-baseline=\"middle\" fill=\"#ffffff\" font-family=\"Arial\" font-size=\"45\" font-weight=\"bold\" text-anchor=\"middle\" x=\"50%\" y=\"53%\">703</text></svg>"
      ],
      "text/plain": [
       "<IPython.core.display.SVG object>"
      ]
     },
     "metadata": {},
     "output_type": "display_data"
    },
    {
     "data": {
      "image/svg+xml": [
       "<svg xmlns=\"http://www.w3.org/2000/svg\" xmlns:ev=\"http://www.w3.org/2001/xml-events\" xmlns:xlink=\"http://www.w3.org/1999/xlink\" baseProfile=\"full\" height=\"120\" version=\"1.1\" width=\"120\"><defs/><rect fill=\"#d2d200\" height=\"77\" rx=\"10\" ry=\"10\" width=\"100%\" x=\"0.0\" y=\"21.5\"/><text alignment-baseline=\"middle\" fill=\"#000000\" font-family=\"Arial\" font-size=\"45\" font-weight=\"bold\" text-anchor=\"middle\" x=\"50%\" y=\"53%\">74</text></svg>"
      ],
      "text/plain": [
       "<IPython.core.display.SVG object>"
      ]
     },
     "metadata": {},
     "output_type": "display_data"
    },
    {
     "data": {
      "image/svg+xml": [
       "<svg xmlns=\"http://www.w3.org/2000/svg\" xmlns:ev=\"http://www.w3.org/2001/xml-events\" xmlns:xlink=\"http://www.w3.org/1999/xlink\" baseProfile=\"full\" height=\"120\" version=\"1.1\" width=\"120\"><defs/><rect fill=\"#ff6600\" height=\"77\" rx=\"10\" ry=\"10\" width=\"100%\" x=\"0.0\" y=\"21.5\"/><text alignment-baseline=\"middle\" fill=\"#ffffff\" font-family=\"Arial\" font-size=\"45\" font-weight=\"bold\" text-anchor=\"middle\" x=\"50%\" y=\"53%\">116</text></svg>"
      ],
      "text/plain": [
       "<IPython.core.display.SVG object>"
      ]
     },
     "metadata": {},
     "output_type": "display_data"
    },
    {
     "data": {
      "image/svg+xml": [
       "<svg xmlns=\"http://www.w3.org/2000/svg\" xmlns:ev=\"http://www.w3.org/2001/xml-events\" xmlns:xlink=\"http://www.w3.org/1999/xlink\" baseProfile=\"full\" height=\"120\" version=\"1.1\" width=\"120\"><defs/><rect fill=\"#40c9ff\" height=\"77\" rx=\"10\" ry=\"10\" width=\"100%\" x=\"0.0\" y=\"21.5\"/><text alignment-baseline=\"middle\" fill=\"#000000\" font-family=\"Arial\" font-size=\"45\" font-weight=\"bold\" text-anchor=\"middle\" x=\"50%\" y=\"53%\">12</text></svg>"
      ],
      "text/plain": [
       "<IPython.core.display.SVG object>"
      ]
     },
     "metadata": {},
     "output_type": "display_data"
    },
    {
     "data": {
      "image/svg+xml": [
       "<svg xmlns=\"http://www.w3.org/2000/svg\" xmlns:ev=\"http://www.w3.org/2001/xml-events\" xmlns:xlink=\"http://www.w3.org/1999/xlink\" baseProfile=\"full\" height=\"120\" version=\"1.1\" width=\"120\"><defs/><rect fill=\"#9ad0be\" height=\"77\" rx=\"10\" ry=\"10\" width=\"100%\" x=\"0.0\" y=\"21.5\"/><text alignment-baseline=\"middle\" fill=\"#ffffff\" font-family=\"Arial\" font-size=\"45\" font-weight=\"bold\" text-anchor=\"middle\" x=\"50%\" y=\"53%\">753</text></svg>"
      ],
      "text/plain": [
       "<IPython.core.display.SVG object>"
      ]
     },
     "metadata": {},
     "output_type": "display_data"
    },
    {
     "data": {
      "image/svg+xml": [
       "<svg xmlns=\"http://www.w3.org/2000/svg\" xmlns:ev=\"http://www.w3.org/2001/xml-events\" xmlns:xlink=\"http://www.w3.org/1999/xlink\" baseProfile=\"full\" height=\"120\" version=\"1.1\" width=\"120\"><defs/><rect fill=\"#6e5b1e\" height=\"77\" rx=\"10\" ry=\"10\" width=\"100%\" x=\"0.0\" y=\"21.5\"/><text alignment-baseline=\"middle\" fill=\"#ffffff\" font-family=\"Arial\" font-size=\"45\" font-weight=\"bold\" text-anchor=\"middle\" x=\"50%\" y=\"53%\">85</text></svg>"
      ],
      "text/plain": [
       "<IPython.core.display.SVG object>"
      ]
     },
     "metadata": {},
     "output_type": "display_data"
    },
    {
     "data": {
      "image/svg+xml": [
       "<svg xmlns=\"http://www.w3.org/2000/svg\" xmlns:ev=\"http://www.w3.org/2001/xml-events\" xmlns:xlink=\"http://www.w3.org/1999/xlink\" baseProfile=\"full\" height=\"120\" version=\"1.1\" width=\"120\"><defs/><rect fill=\"#33ff33\" height=\"77\" rx=\"10\" ry=\"10\" width=\"100%\" x=\"0.0\" y=\"21.5\"/><text alignment-baseline=\"middle\" fill=\"#000000\" font-family=\"Arial\" font-size=\"45\" font-weight=\"bold\" text-anchor=\"middle\" x=\"50%\" y=\"53%\">3</text></svg>"
      ],
      "text/plain": [
       "<IPython.core.display.SVG object>"
      ]
     },
     "metadata": {},
     "output_type": "display_data"
    },
    {
     "data": {
      "image/svg+xml": [
       "<svg xmlns=\"http://www.w3.org/2000/svg\" xmlns:ev=\"http://www.w3.org/2001/xml-events\" xmlns:xlink=\"http://www.w3.org/1999/xlink\" baseProfile=\"full\" height=\"120\" version=\"1.1\" width=\"120\"><defs/><rect fill=\"#ff5a00\" height=\"77\" rx=\"10\" ry=\"10\" width=\"100%\" x=\"0.0\" y=\"21.5\"/><text alignment-baseline=\"middle\" fill=\"#000000\" font-family=\"Arial\" font-size=\"45\" font-weight=\"bold\" text-anchor=\"middle\" x=\"50%\" y=\"53%\">103</text></svg>"
      ],
      "text/plain": [
       "<IPython.core.display.SVG object>"
      ]
     },
     "metadata": {},
     "output_type": "display_data"
    },
    {
     "data": {
      "image/svg+xml": [
       "<svg xmlns=\"http://www.w3.org/2000/svg\" xmlns:ev=\"http://www.w3.org/2001/xml-events\" xmlns:xlink=\"http://www.w3.org/1999/xlink\" baseProfile=\"full\" height=\"120\" version=\"1.1\" width=\"120\"><defs/><rect fill=\"#82dc73\" height=\"77\" rx=\"10\" ry=\"10\" width=\"100%\" x=\"0.0\" y=\"21.5\"/><text alignment-baseline=\"middle\" fill=\"#000000\" font-family=\"Arial\" font-size=\"45\" font-weight=\"bold\" text-anchor=\"middle\" x=\"50%\" y=\"53%\">114</text></svg>"
      ],
      "text/plain": [
       "<IPython.core.display.SVG object>"
      ]
     },
     "metadata": {},
     "output_type": "display_data"
    },
    {
     "data": {
      "image/svg+xml": [
       "<svg xmlns=\"http://www.w3.org/2000/svg\" xmlns:ev=\"http://www.w3.org/2001/xml-events\" xmlns:xlink=\"http://www.w3.org/1999/xlink\" baseProfile=\"full\" height=\"120\" version=\"1.1\" width=\"120\"><defs/><rect fill=\"#ff5a00\" height=\"77\" rx=\"10\" ry=\"10\" width=\"100%\" x=\"0.0\" y=\"21.5\"/><text alignment-baseline=\"middle\" fill=\"#000000\" font-family=\"Arial\" font-size=\"45\" font-weight=\"bold\" text-anchor=\"middle\" x=\"50%\" y=\"53%\">165</text></svg>"
      ],
      "text/plain": [
       "<IPython.core.display.SVG object>"
      ]
     },
     "metadata": {},
     "output_type": "display_data"
    },
    {
     "data": {
      "image/svg+xml": [
       "<svg xmlns=\"http://www.w3.org/2000/svg\" xmlns:ev=\"http://www.w3.org/2001/xml-events\" xmlns:xlink=\"http://www.w3.org/1999/xlink\" baseProfile=\"full\" height=\"120\" version=\"1.1\" width=\"120\"><defs/><rect fill=\"#ff1400\" height=\"77\" rx=\"10\" ry=\"10\" width=\"100%\" x=\"0.0\" y=\"21.5\"/><text alignment-baseline=\"middle\" fill=\"#ffffff\" font-family=\"Arial\" font-size=\"45\" font-weight=\"bold\" text-anchor=\"middle\" x=\"50%\" y=\"53%\">N153</text></svg>"
      ],
      "text/plain": [
       "<IPython.core.display.SVG object>"
      ]
     },
     "metadata": {},
     "output_type": "display_data"
    },
    {
     "data": {
      "image/svg+xml": [
       "<svg xmlns=\"http://www.w3.org/2000/svg\" xmlns:ev=\"http://www.w3.org/2001/xml-events\" xmlns:xlink=\"http://www.w3.org/1999/xlink\" baseProfile=\"full\" height=\"120\" version=\"1.1\" width=\"120\"><defs/><rect fill=\"#d282be\" height=\"77\" rx=\"10\" ry=\"10\" width=\"100%\" x=\"0.0\" y=\"21.5\"/><text alignment-baseline=\"middle\" fill=\"#000000\" font-family=\"Arial\" font-size=\"45\" font-weight=\"bold\" text-anchor=\"middle\" x=\"50%\" y=\"53%\">122</text></svg>"
      ],
      "text/plain": [
       "<IPython.core.display.SVG object>"
      ]
     },
     "metadata": {},
     "output_type": "display_data"
    },
    {
     "data": {
      "image/svg+xml": [
       "<svg xmlns=\"http://www.w3.org/2000/svg\" xmlns:ev=\"http://www.w3.org/2001/xml-events\" xmlns:xlink=\"http://www.w3.org/1999/xlink\" baseProfile=\"full\" height=\"120\" version=\"1.1\" width=\"120\"><defs/><rect fill=\"#00643c\" height=\"77\" rx=\"10\" ry=\"10\" width=\"100%\" x=\"0.0\" y=\"21.5\"/><text alignment-baseline=\"middle\" fill=\"#ffffff\" font-family=\"Arial\" font-size=\"45\" font-weight=\"bold\" text-anchor=\"middle\" x=\"50%\" y=\"53%\">123</text></svg>"
      ],
      "text/plain": [
       "<IPython.core.display.SVG object>"
      ]
     },
     "metadata": {},
     "output_type": "display_data"
    },
    {
     "data": {
      "image/svg+xml": [
       "<svg xmlns=\"http://www.w3.org/2000/svg\" xmlns:ev=\"http://www.w3.org/2001/xml-events\" xmlns:xlink=\"http://www.w3.org/1999/xlink\" baseProfile=\"full\" height=\"120\" version=\"1.1\" width=\"120\"><defs/><rect fill=\"#ff5a00\" height=\"77\" rx=\"10\" ry=\"10\" width=\"100%\" x=\"0.0\" y=\"21.5\"/><text alignment-baseline=\"middle\" fill=\"#000000\" font-family=\"Arial\" font-size=\"45\" font-weight=\"bold\" text-anchor=\"middle\" x=\"50%\" y=\"53%\">194</text></svg>"
      ],
      "text/plain": [
       "<IPython.core.display.SVG object>"
      ]
     },
     "metadata": {},
     "output_type": "display_data"
    },
    {
     "data": {
      "image/svg+xml": [
       "<svg xmlns=\"http://www.w3.org/2000/svg\" xmlns:ev=\"http://www.w3.org/2001/xml-events\" xmlns:xlink=\"http://www.w3.org/1999/xlink\" baseProfile=\"full\" height=\"120\" version=\"1.1\" width=\"120\"><defs/><rect fill=\"#ff5a00\" height=\"77\" rx=\"10\" ry=\"10\" width=\"100%\" x=\"0.0\" y=\"21.5\"/><text alignment-baseline=\"middle\" fill=\"#000000\" font-family=\"Arial\" font-size=\"45\" font-weight=\"bold\" text-anchor=\"middle\" x=\"50%\" y=\"53%\">269</text></svg>"
      ],
      "text/plain": [
       "<IPython.core.display.SVG object>"
      ]
     },
     "metadata": {},
     "output_type": "display_data"
    },
    {
     "data": {
      "image/svg+xml": [
       "<svg xmlns=\"http://www.w3.org/2000/svg\" xmlns:ev=\"http://www.w3.org/2001/xml-events\" xmlns:xlink=\"http://www.w3.org/1999/xlink\" baseProfile=\"full\" height=\"120\" version=\"1.1\" width=\"120\"><defs/><rect fill=\"#ff5a00\" height=\"77\" rx=\"10\" ry=\"10\" width=\"100%\" x=\"0.0\" y=\"21.5\"/><text alignment-baseline=\"middle\" fill=\"#000000\" font-family=\"Arial\" font-size=\"45\" font-weight=\"bold\" text-anchor=\"middle\" x=\"50%\" y=\"53%\">272</text></svg>"
      ],
      "text/plain": [
       "<IPython.core.display.SVG object>"
      ]
     },
     "metadata": {},
     "output_type": "display_data"
    },
    {
     "data": {
      "image/svg+xml": [
       "<svg xmlns=\"http://www.w3.org/2000/svg\" xmlns:ev=\"http://www.w3.org/2001/xml-events\" xmlns:xlink=\"http://www.w3.org/1999/xlink\" baseProfile=\"full\" height=\"120\" version=\"1.1\" width=\"120\"><defs/><rect fill=\"#ffbe00\" height=\"77\" rx=\"10\" ry=\"10\" width=\"100%\" x=\"0.0\" y=\"21.5\"/><text alignment-baseline=\"middle\" fill=\"#000000\" font-family=\"Arial\" font-size=\"45\" font-weight=\"bold\" text-anchor=\"middle\" x=\"50%\" y=\"53%\">320</text></svg>"
      ],
      "text/plain": [
       "<IPython.core.display.SVG object>"
      ]
     },
     "metadata": {},
     "output_type": "display_data"
    },
    {
     "data": {
      "image/svg+xml": [
       "<svg xmlns=\"http://www.w3.org/2000/svg\" xmlns:ev=\"http://www.w3.org/2001/xml-events\" xmlns:xlink=\"http://www.w3.org/1999/xlink\" baseProfile=\"full\" height=\"120\" version=\"1.1\" width=\"120\"><defs/><rect fill=\"#82c8e6\" height=\"77\" rx=\"10\" ry=\"10\" width=\"100%\" x=\"0.0\" y=\"21.5\"/><text alignment-baseline=\"middle\" fill=\"#000000\" font-family=\"Arial\" font-size=\"45\" font-weight=\"bold\" text-anchor=\"middle\" x=\"50%\" y=\"53%\">322</text></svg>"
      ],
      "text/plain": [
       "<IPython.core.display.SVG object>"
      ]
     },
     "metadata": {},
     "output_type": "display_data"
    },
    {
     "data": {
      "image/svg+xml": [
       "<svg xmlns=\"http://www.w3.org/2000/svg\" xmlns:ev=\"http://www.w3.org/2001/xml-events\" xmlns:xlink=\"http://www.w3.org/1999/xlink\" baseProfile=\"full\" height=\"120\" version=\"1.1\" width=\"120\"><defs/><rect fill=\"#0055c8\" height=\"77\" rx=\"10\" ry=\"10\" width=\"100%\" x=\"0.0\" y=\"21.5\"/><text alignment-baseline=\"middle\" fill=\"#ffffff\" font-family=\"Arial\" font-size=\"45\" font-weight=\"bold\" text-anchor=\"middle\" x=\"50%\" y=\"53%\">488</text></svg>"
      ],
      "text/plain": [
       "<IPython.core.display.SVG object>"
      ]
     },
     "metadata": {},
     "output_type": "display_data"
    },
    {
     "data": {
      "image/svg+xml": [
       "<svg xmlns=\"http://www.w3.org/2000/svg\" xmlns:ev=\"http://www.w3.org/2001/xml-events\" xmlns:xlink=\"http://www.w3.org/1999/xlink\" baseProfile=\"full\" height=\"120\" version=\"1.1\" width=\"120\"><defs/><rect fill=\"#ff5a00\" height=\"77\" rx=\"10\" ry=\"10\" width=\"100%\" x=\"0.0\" y=\"21.5\"/><text alignment-baseline=\"middle\" fill=\"#000000\" font-family=\"Arial\" font-size=\"45\" font-weight=\"bold\" text-anchor=\"middle\" x=\"50%\" y=\"53%\">485</text></svg>"
      ],
      "text/plain": [
       "<IPython.core.display.SVG object>"
      ]
     },
     "metadata": {},
     "output_type": "display_data"
    },
    {
     "data": {
      "image/svg+xml": [
       "<svg xmlns=\"http://www.w3.org/2000/svg\" xmlns:ev=\"http://www.w3.org/2001/xml-events\" xmlns:xlink=\"http://www.w3.org/1999/xlink\" baseProfile=\"full\" height=\"120\" version=\"1.1\" width=\"120\"><defs/><rect fill=\"#d2d200\" height=\"77\" rx=\"10\" ry=\"10\" width=\"100%\" x=\"0.0\" y=\"21.5\"/><text alignment-baseline=\"middle\" fill=\"#000000\" font-family=\"Arial\" font-size=\"45\" font-weight=\"bold\" text-anchor=\"middle\" x=\"50%\" y=\"53%\">N63</text></svg>"
      ],
      "text/plain": [
       "<IPython.core.display.SVG object>"
      ]
     },
     "metadata": {},
     "output_type": "display_data"
    },
    {
     "data": {
      "image/svg+xml": [
       "<svg xmlns=\"http://www.w3.org/2000/svg\" xmlns:ev=\"http://www.w3.org/2001/xml-events\" xmlns:xlink=\"http://www.w3.org/1999/xlink\" baseProfile=\"full\" height=\"120\" version=\"1.1\" width=\"120\"><defs/><rect fill=\"#ff5a00\" height=\"77\" rx=\"10\" ry=\"10\" width=\"100%\" x=\"0.0\" y=\"21.5\"/><text alignment-baseline=\"middle\" fill=\"#ffffff\" font-family=\"Arial\" font-size=\"45\" font-weight=\"bold\" text-anchor=\"middle\" x=\"50%\" y=\"53%\">N24</text></svg>"
      ],
      "text/plain": [
       "<IPython.core.display.SVG object>"
      ]
     },
     "metadata": {},
     "output_type": "display_data"
    },
    {
     "data": {
      "image/svg+xml": [
       "<svg xmlns=\"http://www.w3.org/2000/svg\" xmlns:ev=\"http://www.w3.org/2001/xml-events\" xmlns:xlink=\"http://www.w3.org/1999/xlink\" baseProfile=\"full\" height=\"120\" version=\"1.1\" width=\"120\"><defs/><rect fill=\"#d282be\" height=\"77\" rx=\"10\" ry=\"10\" width=\"100%\" x=\"0.0\" y=\"21.5\"/><text alignment-baseline=\"middle\" fill=\"#000000\" font-family=\"Arial\" font-size=\"45\" font-weight=\"bold\" text-anchor=\"middle\" x=\"50%\" y=\"53%\">248</text></svg>"
      ],
      "text/plain": [
       "<IPython.core.display.SVG object>"
      ]
     },
     "metadata": {},
     "output_type": "display_data"
    },
    {
     "data": {
      "image/svg+xml": [
       "<svg xmlns=\"http://www.w3.org/2000/svg\" xmlns:ev=\"http://www.w3.org/2001/xml-events\" xmlns:xlink=\"http://www.w3.org/1999/xlink\" baseProfile=\"full\" height=\"120\" version=\"1.1\" width=\"120\"><defs/><rect fill=\"#6e6e00\" height=\"77\" rx=\"10\" ry=\"10\" width=\"100%\" x=\"0.0\" y=\"21.5\"/><text alignment-baseline=\"middle\" fill=\"#ffffff\" font-family=\"Arial\" font-size=\"45\" font-weight=\"bold\" text-anchor=\"middle\" x=\"50%\" y=\"53%\">559D</text></svg>"
      ],
      "text/plain": [
       "<IPython.core.display.SVG object>"
      ]
     },
     "metadata": {},
     "output_type": "display_data"
    },
    {
     "data": {
      "image/svg+xml": [
       "<svg xmlns=\"http://www.w3.org/2000/svg\" xmlns:ev=\"http://www.w3.org/2001/xml-events\" xmlns:xlink=\"http://www.w3.org/1999/xlink\" baseProfile=\"full\" height=\"120\" version=\"1.1\" width=\"120\"><defs/><rect fill=\"#0055c8\" height=\"77\" rx=\"10\" ry=\"10\" width=\"100%\" x=\"0.0\" y=\"21.5\"/><text alignment-baseline=\"middle\" fill=\"#ffffff\" font-family=\"Arial\" font-size=\"45\" font-weight=\"bold\" text-anchor=\"middle\" x=\"50%\" y=\"53%\">77</text></svg>"
      ],
      "text/plain": [
       "<IPython.core.display.SVG object>"
      ]
     },
     "metadata": {},
     "output_type": "display_data"
    },
    {
     "data": {
      "image/svg+xml": [
       "<svg xmlns=\"http://www.w3.org/2000/svg\" xmlns:ev=\"http://www.w3.org/2001/xml-events\" xmlns:xlink=\"http://www.w3.org/1999/xlink\" baseProfile=\"full\" height=\"120\" version=\"1.1\" width=\"120\"><defs/><rect fill=\"#008b5a\" height=\"77\" rx=\"10\" ry=\"10\" width=\"100%\" x=\"0.0\" y=\"21.5\"/><text alignment-baseline=\"middle\" fill=\"#ffffff\" font-family=\"Arial\" font-size=\"45\" font-weight=\"bold\" text-anchor=\"middle\" x=\"50%\" y=\"53%\">N132</text></svg>"
      ],
      "text/plain": [
       "<IPython.core.display.SVG object>"
      ]
     },
     "metadata": {},
     "output_type": "display_data"
    },
    {
     "data": {
      "image/svg+xml": [
       "<svg xmlns=\"http://www.w3.org/2000/svg\" xmlns:ev=\"http://www.w3.org/2001/xml-events\" xmlns:xlink=\"http://www.w3.org/1999/xlink\" baseProfile=\"full\" height=\"120\" version=\"1.1\" width=\"120\"><defs/><rect fill=\"#ff5a00\" height=\"77\" rx=\"10\" ry=\"10\" width=\"100%\" x=\"0.0\" y=\"21.5\"/><text alignment-baseline=\"middle\" fill=\"#000000\" font-family=\"Arial\" font-size=\"45\" font-weight=\"bold\" text-anchor=\"middle\" x=\"50%\" y=\"53%\">247</text></svg>"
      ],
      "text/plain": [
       "<IPython.core.display.SVG object>"
      ]
     },
     "metadata": {},
     "output_type": "display_data"
    },
    {
     "data": {
      "image/svg+xml": [
       "<svg xmlns=\"http://www.w3.org/2000/svg\" xmlns:ev=\"http://www.w3.org/2001/xml-events\" xmlns:xlink=\"http://www.w3.org/1999/xlink\" baseProfile=\"full\" height=\"120\" version=\"1.1\" width=\"120\"><defs/><rect fill=\"#79ac2b\" height=\"77\" rx=\"10\" ry=\"10\" width=\"100%\" x=\"0.0\" y=\"21.5\"/><text alignment-baseline=\"middle\" fill=\"#ffffff\" font-family=\"Arial\" font-size=\"45\" font-weight=\"bold\" text-anchor=\"middle\" x=\"50%\" y=\"53%\">461</text></svg>"
      ],
      "text/plain": [
       "<IPython.core.display.SVG object>"
      ]
     },
     "metadata": {},
     "output_type": "display_data"
    },
    {
     "data": {
      "image/svg+xml": [
       "<svg xmlns=\"http://www.w3.org/2000/svg\" xmlns:ev=\"http://www.w3.org/2001/xml-events\" xmlns:xlink=\"http://www.w3.org/1999/xlink\" baseProfile=\"full\" height=\"120\" version=\"1.1\" width=\"120\"><defs/><rect fill=\"#006cb8\" height=\"77\" rx=\"10\" ry=\"10\" width=\"100%\" x=\"0.0\" y=\"21.5\"/><text alignment-baseline=\"middle\" fill=\"#ffffff\" font-family=\"Arial\" font-size=\"45\" font-weight=\"bold\" text-anchor=\"middle\" x=\"50%\" y=\"53%\">N140</text></svg>"
      ],
      "text/plain": [
       "<IPython.core.display.SVG object>"
      ]
     },
     "metadata": {},
     "output_type": "display_data"
    },
    {
     "data": {
      "image/svg+xml": [
       "<svg xmlns=\"http://www.w3.org/2000/svg\" xmlns:ev=\"http://www.w3.org/2001/xml-events\" xmlns:xlink=\"http://www.w3.org/1999/xlink\" baseProfile=\"full\" height=\"120\" version=\"1.1\" width=\"120\"><defs/><rect fill=\"#b100bd\" height=\"77\" rx=\"10\" ry=\"10\" width=\"100%\" x=\"0.0\" y=\"21.5\"/><text alignment-baseline=\"middle\" fill=\"#ffffff\" font-family=\"Arial\" font-size=\"45\" font-weight=\"bold\" text-anchor=\"middle\" x=\"50%\" y=\"53%\">3</text></svg>"
      ],
      "text/plain": [
       "<IPython.core.display.SVG object>"
      ]
     },
     "metadata": {},
     "output_type": "display_data"
    },
    {
     "data": {
      "image/svg+xml": [
       "<svg xmlns=\"http://www.w3.org/2000/svg\" xmlns:ev=\"http://www.w3.org/2001/xml-events\" xmlns:xlink=\"http://www.w3.org/1999/xlink\" baseProfile=\"full\" height=\"120\" version=\"1.1\" width=\"120\"><defs/><rect fill=\"#008b5a\" height=\"77\" rx=\"10\" ry=\"10\" width=\"100%\" x=\"0.0\" y=\"21.5\"/><text alignment-baseline=\"middle\" fill=\"#ffffff\" font-family=\"Arial\" font-size=\"45\" font-weight=\"bold\" text-anchor=\"middle\" x=\"50%\" y=\"53%\">N144</text></svg>"
      ],
      "text/plain": [
       "<IPython.core.display.SVG object>"
      ]
     },
     "metadata": {},
     "output_type": "display_data"
    },
    {
     "data": {
      "image/svg+xml": [
       "<svg xmlns=\"http://www.w3.org/2000/svg\" xmlns:ev=\"http://www.w3.org/2001/xml-events\" xmlns:xlink=\"http://www.w3.org/1999/xlink\" baseProfile=\"full\" height=\"120\" version=\"1.1\" width=\"120\"><defs/><rect fill=\"#ff8c57\" height=\"77\" rx=\"10\" ry=\"10\" width=\"100%\" x=\"0.0\" y=\"21.5\"/><text alignment-baseline=\"middle\" fill=\"#000000\" font-family=\"Arial\" font-size=\"45\" font-weight=\"bold\" text-anchor=\"middle\" x=\"50%\" y=\"53%\">2</text></svg>"
      ],
      "text/plain": [
       "<IPython.core.display.SVG object>"
      ]
     },
     "metadata": {},
     "output_type": "display_data"
    },
    {
     "data": {
      "image/svg+xml": [
       "<svg xmlns=\"http://www.w3.org/2000/svg\" xmlns:ev=\"http://www.w3.org/2001/xml-events\" xmlns:xlink=\"http://www.w3.org/1999/xlink\" baseProfile=\"full\" height=\"120\" version=\"1.1\" width=\"120\"><defs/><rect fill=\"#fedf53\" height=\"77\" rx=\"10\" ry=\"10\" width=\"100%\" x=\"0.0\" y=\"21.5\"/><text alignment-baseline=\"middle\" fill=\"#000000\" font-family=\"Arial\" font-size=\"45\" font-weight=\"bold\" text-anchor=\"middle\" x=\"50%\" y=\"53%\">N154</text></svg>"
      ],
      "text/plain": [
       "<IPython.core.display.SVG object>"
      ]
     },
     "metadata": {},
     "output_type": "display_data"
    },
    {
     "data": {
      "image/svg+xml": [
       "<svg xmlns=\"http://www.w3.org/2000/svg\" xmlns:ev=\"http://www.w3.org/2001/xml-events\" xmlns:xlink=\"http://www.w3.org/1999/xlink\" baseProfile=\"full\" height=\"120\" version=\"1.1\" width=\"120\"><defs/><rect fill=\"#ff26d9\" height=\"77\" rx=\"10\" ry=\"10\" width=\"100%\" x=\"0.0\" y=\"21.5\"/><text alignment-baseline=\"middle\" fill=\"#000000\" font-family=\"Arial\" font-size=\"45\" font-weight=\"bold\" text-anchor=\"middle\" x=\"50%\" y=\"53%\">4305</text></svg>"
      ],
      "text/plain": [
       "<IPython.core.display.SVG object>"
      ]
     },
     "metadata": {},
     "output_type": "display_data"
    },
    {
     "data": {
      "image/svg+xml": [
       "<svg xmlns=\"http://www.w3.org/2000/svg\" xmlns:ev=\"http://www.w3.org/2001/xml-events\" xmlns:xlink=\"http://www.w3.org/1999/xlink\" baseProfile=\"full\" height=\"120\" version=\"1.1\" width=\"120\"><defs/><rect fill=\"#ff00ff\" height=\"77\" rx=\"10\" ry=\"10\" width=\"100%\" x=\"0.0\" y=\"21.5\"/><text alignment-baseline=\"middle\" fill=\"#000000\" font-family=\"Arial\" font-size=\"45\" font-weight=\"bold\" text-anchor=\"middle\" x=\"50%\" y=\"53%\">23</text></svg>"
      ],
      "text/plain": [
       "<IPython.core.display.SVG object>"
      ]
     },
     "metadata": {},
     "output_type": "display_data"
    },
    {
     "data": {
      "image/svg+xml": [
       "<svg xmlns=\"http://www.w3.org/2000/svg\" xmlns:ev=\"http://www.w3.org/2001/xml-events\" xmlns:xlink=\"http://www.w3.org/1999/xlink\" baseProfile=\"full\" height=\"120\" version=\"1.1\" width=\"120\"><defs/><rect fill=\"#76b72a\" height=\"77\" rx=\"10\" ry=\"10\" width=\"100%\" x=\"0.0\" y=\"21.5\"/><text alignment-baseline=\"middle\" fill=\"#000000\" font-family=\"Arial\" font-size=\"45\" font-weight=\"bold\" text-anchor=\"middle\" x=\"50%\" y=\"53%\">8</text></svg>"
      ],
      "text/plain": [
       "<IPython.core.display.SVG object>"
      ]
     },
     "metadata": {},
     "output_type": "display_data"
    },
    {
     "data": {
      "image/svg+xml": [
       "<svg xmlns=\"http://www.w3.org/2000/svg\" xmlns:ev=\"http://www.w3.org/2001/xml-events\" xmlns:xlink=\"http://www.w3.org/1999/xlink\" baseProfile=\"full\" height=\"120\" version=\"1.1\" width=\"120\"><defs/><rect fill=\"#50b586\" height=\"77\" rx=\"10\" ry=\"10\" width=\"100%\" x=\"0.0\" y=\"21.5\"/><text alignment-baseline=\"middle\" fill=\"#ffffff\" font-family=\"Arial\" font-size=\"45\" font-weight=\"bold\" text-anchor=\"middle\" x=\"50%\" y=\"53%\">3</text></svg>"
      ],
      "text/plain": [
       "<IPython.core.display.SVG object>"
      ]
     },
     "metadata": {},
     "output_type": "display_data"
    },
    {
     "data": {
      "image/svg+xml": [
       "<svg xmlns=\"http://www.w3.org/2000/svg\" xmlns:ev=\"http://www.w3.org/2001/xml-events\" xmlns:xlink=\"http://www.w3.org/1999/xlink\" baseProfile=\"full\" height=\"120\" version=\"1.1\" width=\"120\"><defs/><rect fill=\"#640082\" height=\"77\" rx=\"10\" ry=\"10\" width=\"100%\" x=\"0.0\" y=\"21.5\"/><text alignment-baseline=\"middle\" fill=\"#ffffff\" font-family=\"Arial\" font-size=\"45\" font-weight=\"bold\" text-anchor=\"middle\" x=\"50%\" y=\"53%\">6</text></svg>"
      ],
      "text/plain": [
       "<IPython.core.display.SVG object>"
      ]
     },
     "metadata": {},
     "output_type": "display_data"
    },
    {
     "data": {
      "image/svg+xml": [
       "<svg xmlns=\"http://www.w3.org/2000/svg\" xmlns:ev=\"http://www.w3.org/2001/xml-events\" xmlns:xlink=\"http://www.w3.org/1999/xlink\" baseProfile=\"full\" height=\"120\" version=\"1.1\" width=\"120\"><defs/><rect fill=\"#be549a\" height=\"77\" rx=\"10\" ry=\"10\" width=\"100%\" x=\"0.0\" y=\"21.5\"/><text alignment-baseline=\"middle\" fill=\"#ffffff\" font-family=\"Arial\" font-size=\"45\" font-weight=\"bold\" text-anchor=\"middle\" x=\"50%\" y=\"53%\">14</text></svg>"
      ],
      "text/plain": [
       "<IPython.core.display.SVG object>"
      ]
     },
     "metadata": {},
     "output_type": "display_data"
    },
    {
     "data": {
      "image/svg+xml": [
       "<svg xmlns=\"http://www.w3.org/2000/svg\" xmlns:ev=\"http://www.w3.org/2001/xml-events\" xmlns:xlink=\"http://www.w3.org/1999/xlink\" baseProfile=\"full\" height=\"120\" version=\"1.1\" width=\"120\"><defs/><rect fill=\"#ffed00\" height=\"77\" rx=\"10\" ry=\"10\" width=\"100%\" x=\"0.0\" y=\"21.5\"/><text alignment-baseline=\"middle\" fill=\"#000000\" font-family=\"Arial\" font-size=\"45\" font-weight=\"bold\" text-anchor=\"middle\" x=\"50%\" y=\"53%\">312</text></svg>"
      ],
      "text/plain": [
       "<IPython.core.display.SVG object>"
      ]
     },
     "metadata": {},
     "output_type": "display_data"
    },
    {
     "data": {
      "image/svg+xml": [
       "<svg xmlns=\"http://www.w3.org/2000/svg\" xmlns:ev=\"http://www.w3.org/2001/xml-events\" xmlns:xlink=\"http://www.w3.org/1999/xlink\" baseProfile=\"full\" height=\"120\" version=\"1.1\" width=\"120\"><defs/><rect fill=\"#00b397\" height=\"77\" rx=\"10\" ry=\"10\" width=\"100%\" x=\"0.0\" y=\"21.5\"/><text alignment-baseline=\"middle\" fill=\"#ffffff\" font-family=\"Arial\" font-size=\"45\" font-weight=\"bold\" text-anchor=\"middle\" x=\"50%\" y=\"53%\">74</text></svg>"
      ],
      "text/plain": [
       "<IPython.core.display.SVG object>"
      ]
     },
     "metadata": {},
     "output_type": "display_data"
    },
    {
     "data": {
      "image/svg+xml": [
       "<svg xmlns=\"http://www.w3.org/2000/svg\" xmlns:ev=\"http://www.w3.org/2001/xml-events\" xmlns:xlink=\"http://www.w3.org/1999/xlink\" baseProfile=\"full\" height=\"120\" version=\"1.1\" width=\"120\"><defs/><rect fill=\"#7ccef4\" height=\"77\" rx=\"10\" ry=\"10\" width=\"100%\" x=\"0.0\" y=\"21.5\"/><text alignment-baseline=\"middle\" fill=\"#000000\" font-family=\"Arial\" font-size=\"45\" font-weight=\"bold\" text-anchor=\"middle\" x=\"50%\" y=\"53%\">452</text></svg>"
      ],
      "text/plain": [
       "<IPython.core.display.SVG object>"
      ]
     },
     "metadata": {},
     "output_type": "display_data"
    },
    {
     "data": {
      "image/svg+xml": [
       "<svg xmlns=\"http://www.w3.org/2000/svg\" xmlns:ev=\"http://www.w3.org/2001/xml-events\" xmlns:xlink=\"http://www.w3.org/1999/xlink\" baseProfile=\"full\" height=\"120\" version=\"1.1\" width=\"120\"><defs/><rect fill=\"#0064a4\" height=\"77\" rx=\"10\" ry=\"10\" width=\"100%\" x=\"0.0\" y=\"21.5\"/><text alignment-baseline=\"middle\" fill=\"#ffffff\" font-family=\"Arial\" font-size=\"45\" font-weight=\"bold\" text-anchor=\"middle\" x=\"50%\" y=\"53%\">6</text></svg>"
      ],
      "text/plain": [
       "<IPython.core.display.SVG object>"
      ]
     },
     "metadata": {},
     "output_type": "display_data"
    },
    {
     "data": {
      "image/svg+xml": [
       "<svg xmlns=\"http://www.w3.org/2000/svg\" xmlns:ev=\"http://www.w3.org/2001/xml-events\" xmlns:xlink=\"http://www.w3.org/1999/xlink\" baseProfile=\"full\" height=\"120\" version=\"1.1\" width=\"120\"><defs/><rect fill=\"#0090d7\" height=\"77\" rx=\"10\" ry=\"10\" width=\"100%\" x=\"0.0\" y=\"21.5\"/><text alignment-baseline=\"middle\" fill=\"#ffffff\" font-family=\"Arial\" font-size=\"45\" font-weight=\"bold\" text-anchor=\"middle\" x=\"50%\" y=\"53%\">455</text></svg>"
      ],
      "text/plain": [
       "<IPython.core.display.SVG object>"
      ]
     },
     "metadata": {},
     "output_type": "display_data"
    },
    {
     "data": {
      "image/svg+xml": [
       "<svg xmlns=\"http://www.w3.org/2000/svg\" xmlns:ev=\"http://www.w3.org/2001/xml-events\" xmlns:xlink=\"http://www.w3.org/1999/xlink\" baseProfile=\"full\" height=\"120\" version=\"1.1\" width=\"120\"><defs/><rect fill=\"#fdc300\" height=\"77\" rx=\"10\" ry=\"10\" width=\"100%\" x=\"0.0\" y=\"21.5\"/><text alignment-baseline=\"middle\" fill=\"#000000\" font-family=\"Arial\" font-size=\"45\" font-weight=\"bold\" text-anchor=\"middle\" x=\"50%\" y=\"53%\">450</text></svg>"
      ],
      "text/plain": [
       "<IPython.core.display.SVG object>"
      ]
     },
     "metadata": {},
     "output_type": "display_data"
    },
    {
     "data": {
      "image/svg+xml": [
       "<svg xmlns=\"http://www.w3.org/2000/svg\" xmlns:ev=\"http://www.w3.org/2001/xml-events\" xmlns:xlink=\"http://www.w3.org/1999/xlink\" baseProfile=\"full\" height=\"120\" version=\"1.1\" width=\"120\"><defs/><rect fill=\"#034ad9\" height=\"77\" rx=\"10\" ry=\"10\" width=\"100%\" x=\"0.0\" y=\"21.5\"/><text alignment-baseline=\"middle\" fill=\"#ffffff\" font-family=\"Arial\" font-size=\"45\" font-weight=\"bold\" text-anchor=\"middle\" x=\"50%\" y=\"53%\">18</text></svg>"
      ],
      "text/plain": [
       "<IPython.core.display.SVG object>"
      ]
     },
     "metadata": {},
     "output_type": "display_data"
    },
    {
     "data": {
      "image/svg+xml": [
       "<svg xmlns=\"http://www.w3.org/2000/svg\" xmlns:ev=\"http://www.w3.org/2001/xml-events\" xmlns:xlink=\"http://www.w3.org/1999/xlink\" baseProfile=\"full\" height=\"120\" version=\"1.1\" width=\"120\"><defs/><rect fill=\"#e600ff\" height=\"77\" rx=\"10\" ry=\"10\" width=\"100%\" x=\"0.0\" y=\"21.5\"/><text alignment-baseline=\"middle\" fill=\"#ffffff\" font-family=\"Arial\" font-size=\"45\" font-weight=\"bold\" text-anchor=\"middle\" x=\"50%\" y=\"53%\">36</text></svg>"
      ],
      "text/plain": [
       "<IPython.core.display.SVG object>"
      ]
     },
     "metadata": {},
     "output_type": "display_data"
    },
    {
     "data": {
      "image/svg+xml": [
       "<svg xmlns=\"http://www.w3.org/2000/svg\" xmlns:ev=\"http://www.w3.org/2001/xml-events\" xmlns:xlink=\"http://www.w3.org/1999/xlink\" baseProfile=\"full\" height=\"120\" version=\"1.1\" width=\"120\"><defs/><rect fill=\"#ee1d23\" height=\"77\" rx=\"10\" ry=\"10\" width=\"100%\" x=\"0.0\" y=\"21.5\"/><text alignment-baseline=\"middle\" fill=\"#ffffff\" font-family=\"Arial\" font-size=\"45\" font-weight=\"bold\" text-anchor=\"middle\" x=\"50%\" y=\"53%\">22</text></svg>"
      ],
      "text/plain": [
       "<IPython.core.display.SVG object>"
      ]
     },
     "metadata": {},
     "output_type": "display_data"
    },
    {
     "data": {
      "image/svg+xml": [
       "<svg xmlns=\"http://www.w3.org/2000/svg\" xmlns:ev=\"http://www.w3.org/2001/xml-events\" xmlns:xlink=\"http://www.w3.org/1999/xlink\" baseProfile=\"full\" height=\"120\" version=\"1.1\" width=\"120\"><defs/><rect fill=\"#72bb81\" height=\"77\" rx=\"10\" ry=\"10\" width=\"100%\" x=\"0.0\" y=\"21.5\"/><text alignment-baseline=\"middle\" fill=\"#000000\" font-family=\"Arial\" font-size=\"45\" font-weight=\"bold\" text-anchor=\"middle\" x=\"50%\" y=\"53%\">2</text></svg>"
      ],
      "text/plain": [
       "<IPython.core.display.SVG object>"
      ]
     },
     "metadata": {},
     "output_type": "display_data"
    },
    {
     "data": {
      "image/svg+xml": [
       "<svg xmlns=\"http://www.w3.org/2000/svg\" xmlns:ev=\"http://www.w3.org/2001/xml-events\" xmlns:xlink=\"http://www.w3.org/1999/xlink\" baseProfile=\"full\" height=\"120\" version=\"1.1\" width=\"120\"><defs/><rect fill=\"#8ce39c\" height=\"77\" rx=\"10\" ry=\"10\" width=\"100%\" x=\"0.0\" y=\"21.5\"/><text alignment-baseline=\"middle\" fill=\"#ffffff\" font-family=\"Arial\" font-size=\"45\" font-weight=\"bold\" text-anchor=\"middle\" x=\"50%\" y=\"53%\">6</text></svg>"
      ],
      "text/plain": [
       "<IPython.core.display.SVG object>"
      ]
     },
     "metadata": {},
     "output_type": "display_data"
    },
    {
     "data": {
      "image/svg+xml": [
       "<svg xmlns=\"http://www.w3.org/2000/svg\" xmlns:ev=\"http://www.w3.org/2001/xml-events\" xmlns:xlink=\"http://www.w3.org/1999/xlink\" baseProfile=\"full\" height=\"120\" version=\"1.1\" width=\"120\"><defs/><rect fill=\"#8e6539\" height=\"77\" rx=\"10\" ry=\"10\" width=\"100%\" x=\"0.0\" y=\"21.5\"/><text alignment-baseline=\"middle\" fill=\"#ffffff\" font-family=\"Arial\" font-size=\"45\" font-weight=\"bold\" text-anchor=\"middle\" x=\"50%\" y=\"53%\">94</text></svg>"
      ],
      "text/plain": [
       "<IPython.core.display.SVG object>"
      ]
     },
     "metadata": {},
     "output_type": "display_data"
    },
    {
     "data": {
      "image/svg+xml": [
       "<svg xmlns=\"http://www.w3.org/2000/svg\" xmlns:ev=\"http://www.w3.org/2001/xml-events\" xmlns:xlink=\"http://www.w3.org/1999/xlink\" baseProfile=\"full\" height=\"120\" version=\"1.1\" width=\"120\"><defs/><rect fill=\"#d2d200\" height=\"77\" rx=\"10\" ry=\"10\" width=\"100%\" x=\"0.0\" y=\"21.5\"/><text alignment-baseline=\"middle\" fill=\"#000000\" font-family=\"Arial\" font-size=\"45\" font-weight=\"bold\" text-anchor=\"middle\" x=\"50%\" y=\"53%\">39</text></svg>"
      ],
      "text/plain": [
       "<IPython.core.display.SVG object>"
      ]
     },
     "metadata": {},
     "output_type": "display_data"
    },
    {
     "data": {
      "image/svg+xml": [
       "<svg xmlns=\"http://www.w3.org/2000/svg\" xmlns:ev=\"http://www.w3.org/2001/xml-events\" xmlns:xlink=\"http://www.w3.org/1999/xlink\" baseProfile=\"full\" height=\"120\" version=\"1.1\" width=\"120\"><defs/><rect fill=\"#640082\" height=\"77\" rx=\"10\" ry=\"10\" width=\"100%\" x=\"0.0\" y=\"21.5\"/><text alignment-baseline=\"middle\" fill=\"#ffffff\" font-family=\"Arial\" font-size=\"45\" font-weight=\"bold\" text-anchor=\"middle\" x=\"50%\" y=\"53%\">45</text></svg>"
      ],
      "text/plain": [
       "<IPython.core.display.SVG object>"
      ]
     },
     "metadata": {},
     "output_type": "display_data"
    },
    {
     "data": {
      "image/svg+xml": [
       "<svg xmlns=\"http://www.w3.org/2000/svg\" xmlns:ev=\"http://www.w3.org/2001/xml-events\" xmlns:xlink=\"http://www.w3.org/1999/xlink\" baseProfile=\"full\" height=\"120\" version=\"1.1\" width=\"120\"><defs/><rect fill=\"#be418e\" height=\"77\" rx=\"10\" ry=\"10\" width=\"100%\" x=\"0.0\" y=\"21.5\"/><text alignment-baseline=\"middle\" fill=\"#ffffff\" font-family=\"Arial\" font-size=\"45\" font-weight=\"bold\" text-anchor=\"middle\" x=\"50%\" y=\"53%\">2</text></svg>"
      ],
      "text/plain": [
       "<IPython.core.display.SVG object>"
      ]
     },
     "metadata": {},
     "output_type": "display_data"
    },
    {
     "data": {
      "image/svg+xml": [
       "<svg xmlns=\"http://www.w3.org/2000/svg\" xmlns:ev=\"http://www.w3.org/2001/xml-events\" xmlns:xlink=\"http://www.w3.org/1999/xlink\" baseProfile=\"full\" height=\"120\" version=\"1.1\" width=\"120\"><defs/><rect fill=\"#f3a4ba\" height=\"77\" rx=\"10\" ry=\"10\" width=\"100%\" x=\"0.0\" y=\"21.5\"/><text alignment-baseline=\"middle\" fill=\"#000000\" font-family=\"Arial\" font-size=\"45\" font-weight=\"bold\" text-anchor=\"middle\" x=\"50%\" y=\"53%\">5</text></svg>"
      ],
      "text/plain": [
       "<IPython.core.display.SVG object>"
      ]
     },
     "metadata": {},
     "output_type": "display_data"
    },
    {
     "data": {
      "image/svg+xml": [
       "<svg xmlns=\"http://www.w3.org/2000/svg\" xmlns:ev=\"http://www.w3.org/2001/xml-events\" xmlns:xlink=\"http://www.w3.org/1999/xlink\" baseProfile=\"full\" height=\"120\" version=\"1.1\" width=\"120\"><defs/><rect fill=\"#e74215\" height=\"77\" rx=\"10\" ry=\"10\" width=\"100%\" x=\"0.0\" y=\"21.5\"/><text alignment-baseline=\"middle\" fill=\"#ffffff\" font-family=\"Arial\" font-size=\"45\" font-weight=\"bold\" text-anchor=\"middle\" x=\"50%\" y=\"53%\">415</text></svg>"
      ],
      "text/plain": [
       "<IPython.core.display.SVG object>"
      ]
     },
     "metadata": {},
     "output_type": "display_data"
    },
    {
     "data": {
      "image/svg+xml": [
       "<svg xmlns=\"http://www.w3.org/2000/svg\" xmlns:ev=\"http://www.w3.org/2001/xml-events\" xmlns:xlink=\"http://www.w3.org/1999/xlink\" baseProfile=\"full\" height=\"120\" version=\"1.1\" width=\"120\"><defs/><rect fill=\"#ff0000\" height=\"77\" rx=\"10\" ry=\"10\" width=\"100%\" x=\"0.0\" y=\"21.5\"/><text alignment-baseline=\"middle\" fill=\"#ffffff\" font-family=\"Arial\" font-size=\"45\" font-weight=\"bold\" text-anchor=\"middle\" x=\"50%\" y=\"53%\">27</text></svg>"
      ],
      "text/plain": [
       "<IPython.core.display.SVG object>"
      ]
     },
     "metadata": {},
     "output_type": "display_data"
    },
    {
     "data": {
      "image/svg+xml": [
       "<svg xmlns=\"http://www.w3.org/2000/svg\" xmlns:ev=\"http://www.w3.org/2001/xml-events\" xmlns:xlink=\"http://www.w3.org/1999/xlink\" baseProfile=\"full\" height=\"120\" version=\"1.1\" width=\"120\"><defs/><rect fill=\"#d7437e\" height=\"77\" rx=\"10\" ry=\"10\" width=\"100%\" x=\"0.0\" y=\"21.5\"/><text alignment-baseline=\"middle\" fill=\"#ffffff\" font-family=\"Arial\" font-size=\"45\" font-weight=\"bold\" text-anchor=\"middle\" x=\"50%\" y=\"53%\">9</text></svg>"
      ],
      "text/plain": [
       "<IPython.core.display.SVG object>"
      ]
     },
     "metadata": {},
     "output_type": "display_data"
    },
    {
     "data": {
      "image/svg+xml": [
       "<svg xmlns=\"http://www.w3.org/2000/svg\" xmlns:ev=\"http://www.w3.org/2001/xml-events\" xmlns:xlink=\"http://www.w3.org/1999/xlink\" baseProfile=\"full\" height=\"120\" version=\"1.1\" width=\"120\"><defs/><rect fill=\"#b1b9df\" height=\"77\" rx=\"10\" ry=\"10\" width=\"100%\" x=\"0.0\" y=\"21.5\"/><text alignment-baseline=\"middle\" fill=\"#000000\" font-family=\"Arial\" font-size=\"45\" font-weight=\"bold\" text-anchor=\"middle\" x=\"50%\" y=\"53%\">402</text></svg>"
      ],
      "text/plain": [
       "<IPython.core.display.SVG object>"
      ]
     },
     "metadata": {},
     "output_type": "display_data"
    },
    {
     "data": {
      "image/svg+xml": [
       "<svg xmlns=\"http://www.w3.org/2000/svg\" xmlns:ev=\"http://www.w3.org/2001/xml-events\" xmlns:xlink=\"http://www.w3.org/1999/xlink\" baseProfile=\"full\" height=\"120\" version=\"1.1\" width=\"120\"><defs/><rect fill=\"#a80983\" height=\"77\" rx=\"10\" ry=\"10\" width=\"100%\" x=\"0.0\" y=\"21.5\"/><text alignment-baseline=\"middle\" fill=\"#ffffff\" font-family=\"Arial\" font-size=\"45\" font-weight=\"bold\" text-anchor=\"middle\" x=\"50%\" y=\"53%\">453</text></svg>"
      ],
      "text/plain": [
       "<IPython.core.display.SVG object>"
      ]
     },
     "metadata": {},
     "output_type": "display_data"
    },
    {
     "data": {
      "image/svg+xml": [
       "<svg xmlns=\"http://www.w3.org/2000/svg\" xmlns:ev=\"http://www.w3.org/2001/xml-events\" xmlns:xlink=\"http://www.w3.org/1999/xlink\" baseProfile=\"full\" height=\"120\" version=\"1.1\" width=\"120\"><defs/><rect fill=\"#99c400\" height=\"77\" rx=\"10\" ry=\"10\" width=\"100%\" x=\"0.0\" y=\"21.5\"/><text alignment-baseline=\"middle\" fill=\"#ffffff\" font-family=\"Arial\" font-size=\"45\" font-weight=\"bold\" text-anchor=\"middle\" x=\"50%\" y=\"53%\">404</text></svg>"
      ],
      "text/plain": [
       "<IPython.core.display.SVG object>"
      ]
     },
     "metadata": {},
     "output_type": "display_data"
    },
    {
     "data": {
      "image/svg+xml": [
       "<svg xmlns=\"http://www.w3.org/2000/svg\" xmlns:ev=\"http://www.w3.org/2001/xml-events\" xmlns:xlink=\"http://www.w3.org/1999/xlink\" baseProfile=\"full\" height=\"120\" version=\"1.1\" width=\"120\"><defs/><rect fill=\"#00814f\" height=\"77\" rx=\"10\" ry=\"10\" width=\"100%\" x=\"0.0\" y=\"21.5\"/><text alignment-baseline=\"middle\" fill=\"#ffffff\" font-family=\"Arial\" font-size=\"45\" font-weight=\"bold\" text-anchor=\"middle\" x=\"50%\" y=\"53%\">613</text></svg>"
      ],
      "text/plain": [
       "<IPython.core.display.SVG object>"
      ]
     },
     "metadata": {},
     "output_type": "display_data"
    },
    {
     "data": {
      "image/svg+xml": [
       "<svg xmlns=\"http://www.w3.org/2000/svg\" xmlns:ev=\"http://www.w3.org/2001/xml-events\" xmlns:xlink=\"http://www.w3.org/1999/xlink\" baseProfile=\"full\" height=\"120\" version=\"1.1\" width=\"120\"><defs/><rect fill=\"#00643c\" height=\"77\" rx=\"10\" ry=\"10\" width=\"100%\" x=\"0.0\" y=\"21.5\"/><text alignment-baseline=\"middle\" fill=\"#ffffff\" font-family=\"Arial\" font-size=\"45\" font-weight=\"bold\" text-anchor=\"middle\" x=\"50%\" y=\"53%\">3</text></svg>"
      ],
      "text/plain": [
       "<IPython.core.display.SVG object>"
      ]
     },
     "metadata": {},
     "output_type": "display_data"
    },
    {
     "data": {
      "image/svg+xml": [
       "<svg xmlns=\"http://www.w3.org/2000/svg\" xmlns:ev=\"http://www.w3.org/2001/xml-events\" xmlns:xlink=\"http://www.w3.org/1999/xlink\" baseProfile=\"full\" height=\"120\" version=\"1.1\" width=\"120\"><defs/><rect fill=\"#e3b32a\" height=\"77\" rx=\"10\" ry=\"10\" width=\"100%\" x=\"0.0\" y=\"21.5\"/><text alignment-baseline=\"middle\" fill=\"#000000\" font-family=\"Arial\" font-size=\"45\" font-weight=\"bold\" text-anchor=\"middle\" x=\"50%\" y=\"53%\">618</text></svg>"
      ],
      "text/plain": [
       "<IPython.core.display.SVG object>"
      ]
     },
     "metadata": {},
     "output_type": "display_data"
    },
    {
     "data": {
      "image/svg+xml": [
       "<svg xmlns=\"http://www.w3.org/2000/svg\" xmlns:ev=\"http://www.w3.org/2001/xml-events\" xmlns:xlink=\"http://www.w3.org/1999/xlink\" baseProfile=\"full\" height=\"120\" version=\"1.1\" width=\"120\"><defs/><rect fill=\"#00814f\" height=\"77\" rx=\"10\" ry=\"10\" width=\"100%\" x=\"0.0\" y=\"21.5\"/><text alignment-baseline=\"middle\" fill=\"#ffffff\" font-family=\"Arial\" font-size=\"45\" font-weight=\"bold\" text-anchor=\"middle\" x=\"50%\" y=\"53%\">620</text></svg>"
      ],
      "text/plain": [
       "<IPython.core.display.SVG object>"
      ]
     },
     "metadata": {},
     "output_type": "display_data"
    },
    {
     "data": {
      "image/svg+xml": [
       "<svg xmlns=\"http://www.w3.org/2000/svg\" xmlns:ev=\"http://www.w3.org/2001/xml-events\" xmlns:xlink=\"http://www.w3.org/1999/xlink\" baseProfile=\"full\" height=\"120\" version=\"1.1\" width=\"120\"><defs/><rect fill=\"#d2d200\" height=\"77\" rx=\"10\" ry=\"10\" width=\"100%\" x=\"0.0\" y=\"21.5\"/><text alignment-baseline=\"middle\" fill=\"#000000\" font-family=\"Arial\" font-size=\"45\" font-weight=\"bold\" text-anchor=\"middle\" x=\"50%\" y=\"53%\">415</text></svg>"
      ],
      "text/plain": [
       "<IPython.core.display.SVG object>"
      ]
     },
     "metadata": {},
     "output_type": "display_data"
    },
    {
     "data": {
      "image/svg+xml": [
       "<svg xmlns=\"http://www.w3.org/2000/svg\" xmlns:ev=\"http://www.w3.org/2001/xml-events\" xmlns:xlink=\"http://www.w3.org/1999/xlink\" baseProfile=\"full\" height=\"120\" version=\"1.1\" width=\"120\"><defs/><rect fill=\"#98b6dc\" height=\"77\" rx=\"10\" ry=\"10\" width=\"100%\" x=\"0.0\" y=\"21.5\"/><text alignment-baseline=\"middle\" fill=\"#ffffff\" font-family=\"Arial\" font-size=\"45\" font-weight=\"bold\" text-anchor=\"middle\" x=\"50%\" y=\"53%\">264</text></svg>"
      ],
      "text/plain": [
       "<IPython.core.display.SVG object>"
      ]
     },
     "metadata": {},
     "output_type": "display_data"
    },
    {
     "data": {
      "image/svg+xml": [
       "<svg xmlns=\"http://www.w3.org/2000/svg\" xmlns:ev=\"http://www.w3.org/2001/xml-events\" xmlns:xlink=\"http://www.w3.org/1999/xlink\" baseProfile=\"full\" height=\"120\" version=\"1.1\" width=\"120\"><defs/><rect fill=\"#e69138\" height=\"77\" rx=\"10\" ry=\"10\" width=\"100%\" x=\"0.0\" y=\"21.5\"/><text alignment-baseline=\"middle\" fill=\"#ffffff\" font-family=\"Arial\" font-size=\"45\" font-weight=\"bold\" text-anchor=\"middle\" x=\"50%\" y=\"53%\">300</text></svg>"
      ],
      "text/plain": [
       "<IPython.core.display.SVG object>"
      ]
     },
     "metadata": {},
     "output_type": "display_data"
    },
    {
     "data": {
      "image/svg+xml": [
       "<svg xmlns=\"http://www.w3.org/2000/svg\" xmlns:ev=\"http://www.w3.org/2001/xml-events\" xmlns:xlink=\"http://www.w3.org/1999/xlink\" baseProfile=\"full\" height=\"120\" version=\"1.1\" width=\"120\"><defs/><rect fill=\"#ceadd2\" height=\"77\" rx=\"10\" ry=\"10\" width=\"100%\" x=\"0.0\" y=\"21.5\"/><text alignment-baseline=\"middle\" fill=\"#000000\" font-family=\"Arial\" font-size=\"45\" font-weight=\"bold\" text-anchor=\"middle\" x=\"50%\" y=\"53%\">6</text></svg>"
      ],
      "text/plain": [
       "<IPython.core.display.SVG object>"
      ]
     },
     "metadata": {},
     "output_type": "display_data"
    },
    {
     "data": {
      "image/svg+xml": [
       "<svg xmlns=\"http://www.w3.org/2000/svg\" xmlns:ev=\"http://www.w3.org/2001/xml-events\" xmlns:xlink=\"http://www.w3.org/1999/xlink\" baseProfile=\"full\" height=\"120\" version=\"1.1\" width=\"120\"><defs/><rect fill=\"#8e7cc3\" height=\"77\" rx=\"10\" ry=\"10\" width=\"100%\" x=\"0.0\" y=\"21.5\"/><text alignment-baseline=\"middle\" fill=\"#ffffff\" font-family=\"Arial\" font-size=\"45\" font-weight=\"bold\" text-anchor=\"middle\" x=\"50%\" y=\"53%\">105A</text></svg>"
      ],
      "text/plain": [
       "<IPython.core.display.SVG object>"
      ]
     },
     "metadata": {},
     "output_type": "display_data"
    },
    {
     "data": {
      "image/svg+xml": [
       "<svg xmlns=\"http://www.w3.org/2000/svg\" xmlns:ev=\"http://www.w3.org/2001/xml-events\" xmlns:xlink=\"http://www.w3.org/1999/xlink\" baseProfile=\"full\" height=\"120\" version=\"1.1\" width=\"120\"><defs/><rect fill=\"#9900ff\" height=\"77\" rx=\"10\" ry=\"10\" width=\"100%\" x=\"0.0\" y=\"21.5\"/><text alignment-baseline=\"middle\" fill=\"#ffffff\" font-family=\"Arial\" font-size=\"45\" font-weight=\"bold\" text-anchor=\"middle\" x=\"50%\" y=\"53%\">105B</text></svg>"
      ],
      "text/plain": [
       "<IPython.core.display.SVG object>"
      ]
     },
     "metadata": {},
     "output_type": "display_data"
    },
    {
     "data": {
      "image/svg+xml": [
       "<svg xmlns=\"http://www.w3.org/2000/svg\" xmlns:ev=\"http://www.w3.org/2001/xml-events\" xmlns:xlink=\"http://www.w3.org/1999/xlink\" baseProfile=\"full\" height=\"120\" version=\"1.1\" width=\"120\"><defs/><rect fill=\"#9bcda4\" height=\"77\" rx=\"10\" ry=\"10\" width=\"100%\" x=\"0.0\" y=\"21.5\"/><text alignment-baseline=\"middle\" fill=\"#000000\" font-family=\"Arial\" font-size=\"45\" font-weight=\"bold\" text-anchor=\"middle\" x=\"50%\" y=\"53%\">34</text></svg>"
      ],
      "text/plain": [
       "<IPython.core.display.SVG object>"
      ]
     },
     "metadata": {},
     "output_type": "display_data"
    },
    {
     "data": {
      "image/svg+xml": [
       "<svg xmlns=\"http://www.w3.org/2000/svg\" xmlns:ev=\"http://www.w3.org/2001/xml-events\" xmlns:xlink=\"http://www.w3.org/1999/xlink\" baseProfile=\"full\" height=\"120\" version=\"1.1\" width=\"120\"><defs/><rect fill=\"#ff0000\" height=\"77\" rx=\"10\" ry=\"10\" width=\"100%\" x=\"0.0\" y=\"21.5\"/><text alignment-baseline=\"middle\" fill=\"#ffffff\" font-family=\"Arial\" font-size=\"45\" font-weight=\"bold\" text-anchor=\"middle\" x=\"50%\" y=\"53%\">21</text></svg>"
      ],
      "text/plain": [
       "<IPython.core.display.SVG object>"
      ]
     },
     "metadata": {},
     "output_type": "display_data"
    },
    {
     "data": {
      "image/svg+xml": [
       "<svg xmlns=\"http://www.w3.org/2000/svg\" xmlns:ev=\"http://www.w3.org/2001/xml-events\" xmlns:xlink=\"http://www.w3.org/1999/xlink\" baseProfile=\"full\" height=\"120\" version=\"1.1\" width=\"120\"><defs/><rect fill=\"#1765ae\" height=\"77\" rx=\"10\" ry=\"10\" width=\"100%\" x=\"0.0\" y=\"21.5\"/><text alignment-baseline=\"middle\" fill=\"#000000\" font-family=\"Arial\" font-size=\"45\" font-weight=\"bold\" text-anchor=\"middle\" x=\"50%\" y=\"53%\">N141</text></svg>"
      ],
      "text/plain": [
       "<IPython.core.display.SVG object>"
      ]
     },
     "metadata": {},
     "output_type": "display_data"
    },
    {
     "data": {
      "image/svg+xml": [
       "<svg xmlns=\"http://www.w3.org/2000/svg\" xmlns:ev=\"http://www.w3.org/2001/xml-events\" xmlns:xlink=\"http://www.w3.org/1999/xlink\" baseProfile=\"full\" height=\"120\" version=\"1.1\" width=\"120\"><defs/><rect fill=\"#00a1e6\" height=\"77\" rx=\"10\" ry=\"10\" width=\"100%\" x=\"0.0\" y=\"21.5\"/><text alignment-baseline=\"middle\" fill=\"#000000\" font-family=\"Arial\" font-size=\"45\" font-weight=\"bold\" text-anchor=\"middle\" x=\"50%\" y=\"53%\">N</text></svg>"
      ],
      "text/plain": [
       "<IPython.core.display.SVG object>"
      ]
     },
     "metadata": {},
     "output_type": "display_data"
    },
    {
     "data": {
      "image/svg+xml": [
       "<svg xmlns=\"http://www.w3.org/2000/svg\" xmlns:ev=\"http://www.w3.org/2001/xml-events\" xmlns:xlink=\"http://www.w3.org/1999/xlink\" baseProfile=\"full\" height=\"120\" version=\"1.1\" width=\"120\"><defs/><rect fill=\"#ceadd2\" height=\"77\" rx=\"10\" ry=\"10\" width=\"100%\" x=\"0.0\" y=\"21.5\"/><text alignment-baseline=\"middle\" fill=\"#000000\" font-family=\"Arial\" font-size=\"45\" font-weight=\"bold\" text-anchor=\"middle\" x=\"50%\" y=\"53%\">604</text></svg>"
      ],
      "text/plain": [
       "<IPython.core.display.SVG object>"
      ]
     },
     "metadata": {},
     "output_type": "display_data"
    },
    {
     "data": {
      "image/svg+xml": [
       "<svg xmlns=\"http://www.w3.org/2000/svg\" xmlns:ev=\"http://www.w3.org/2001/xml-events\" xmlns:xlink=\"http://www.w3.org/1999/xlink\" baseProfile=\"full\" height=\"120\" version=\"1.1\" width=\"120\"><defs/><rect fill=\"#a0006e\" height=\"77\" rx=\"10\" ry=\"10\" width=\"100%\" x=\"0.0\" y=\"21.5\"/><text alignment-baseline=\"middle\" fill=\"#ffffff\" font-family=\"Arial\" font-size=\"45\" font-weight=\"bold\" text-anchor=\"middle\" x=\"50%\" y=\"53%\">N01</text></svg>"
      ],
      "text/plain": [
       "<IPython.core.display.SVG object>"
      ]
     },
     "metadata": {},
     "output_type": "display_data"
    },
    {
     "data": {
      "image/svg+xml": [
       "<svg xmlns=\"http://www.w3.org/2000/svg\" xmlns:ev=\"http://www.w3.org/2001/xml-events\" xmlns:xlink=\"http://www.w3.org/1999/xlink\" baseProfile=\"full\" height=\"120\" version=\"1.1\" width=\"120\"><defs/><rect fill=\"#ff1400\" height=\"77\" rx=\"10\" ry=\"10\" width=\"100%\" x=\"0.0\" y=\"21.5\"/><text alignment-baseline=\"middle\" fill=\"#ffffff\" font-family=\"Arial\" font-size=\"45\" font-weight=\"bold\" text-anchor=\"middle\" x=\"50%\" y=\"53%\">N02</text></svg>"
      ],
      "text/plain": [
       "<IPython.core.display.SVG object>"
      ]
     },
     "metadata": {},
     "output_type": "display_data"
    },
    {
     "data": {
      "image/svg+xml": [
       "<svg xmlns=\"http://www.w3.org/2000/svg\" xmlns:ev=\"http://www.w3.org/2001/xml-events\" xmlns:xlink=\"http://www.w3.org/1999/xlink\" baseProfile=\"full\" height=\"120\" version=\"1.1\" width=\"120\"><defs/><rect fill=\"#eb6793\" height=\"77\" rx=\"10\" ry=\"10\" width=\"100%\" x=\"0.0\" y=\"21.5\"/><text alignment-baseline=\"middle\" fill=\"#ffffff\" font-family=\"Arial\" font-size=\"45\" font-weight=\"bold\" text-anchor=\"middle\" x=\"50%\" y=\"53%\">40</text></svg>"
      ],
      "text/plain": [
       "<IPython.core.display.SVG object>"
      ]
     },
     "metadata": {},
     "output_type": "display_data"
    },
    {
     "data": {
      "image/svg+xml": [
       "<svg xmlns=\"http://www.w3.org/2000/svg\" xmlns:ev=\"http://www.w3.org/2001/xml-events\" xmlns:xlink=\"http://www.w3.org/1999/xlink\" baseProfile=\"full\" height=\"120\" version=\"1.1\" width=\"120\"><defs/><rect fill=\"#008b5b\" height=\"77\" rx=\"10\" ry=\"10\" width=\"100%\" x=\"0.0\" y=\"21.5\"/><text alignment-baseline=\"middle\" fill=\"#ffffff\" font-family=\"Arial\" font-size=\"45\" font-weight=\"bold\" text-anchor=\"middle\" x=\"50%\" y=\"53%\">1</text></svg>"
      ],
      "text/plain": [
       "<IPython.core.display.SVG object>"
      ]
     },
     "metadata": {},
     "output_type": "display_data"
    },
    {
     "data": {
      "image/svg+xml": [
       "<svg xmlns=\"http://www.w3.org/2000/svg\" xmlns:ev=\"http://www.w3.org/2001/xml-events\" xmlns:xlink=\"http://www.w3.org/1999/xlink\" baseProfile=\"full\" height=\"120\" version=\"1.1\" width=\"120\"><defs/><rect fill=\"#7ac597\" height=\"77\" rx=\"10\" ry=\"10\" width=\"100%\" x=\"0.0\" y=\"21.5\"/><text alignment-baseline=\"middle\" fill=\"#000000\" font-family=\"Arial\" font-size=\"45\" font-weight=\"bold\" text-anchor=\"middle\" x=\"50%\" y=\"53%\">N</text></svg>"
      ],
      "text/plain": [
       "<IPython.core.display.SVG object>"
      ]
     },
     "metadata": {},
     "output_type": "display_data"
    },
    {
     "data": {
      "image/svg+xml": [
       "<svg xmlns=\"http://www.w3.org/2000/svg\" xmlns:ev=\"http://www.w3.org/2001/xml-events\" xmlns:xlink=\"http://www.w3.org/1999/xlink\" baseProfile=\"full\" height=\"120\" version=\"1.1\" width=\"120\"><defs/><rect fill=\"#b6134c\" height=\"77\" rx=\"10\" ry=\"10\" width=\"100%\" x=\"0.0\" y=\"21.5\"/><text alignment-baseline=\"middle\" fill=\"#ffffff\" font-family=\"Arial\" font-size=\"45\" font-weight=\"bold\" text-anchor=\"middle\" x=\"50%\" y=\"53%\">15</text></svg>"
      ],
      "text/plain": [
       "<IPython.core.display.SVG object>"
      ]
     },
     "metadata": {},
     "output_type": "display_data"
    },
    {
     "data": {
      "image/svg+xml": [
       "<svg xmlns=\"http://www.w3.org/2000/svg\" xmlns:ev=\"http://www.w3.org/2001/xml-events\" xmlns:xlink=\"http://www.w3.org/1999/xlink\" baseProfile=\"full\" height=\"120\" version=\"1.1\" width=\"120\"><defs/><rect fill=\"#008c5a\" height=\"77\" rx=\"10\" ry=\"10\" width=\"100%\" x=\"0.0\" y=\"21.5\"/><text alignment-baseline=\"middle\" fill=\"#ffffff\" font-family=\"Arial\" font-size=\"45\" font-weight=\"bold\" text-anchor=\"middle\" x=\"50%\" y=\"53%\">33</text></svg>"
      ],
      "text/plain": [
       "<IPython.core.display.SVG object>"
      ]
     },
     "metadata": {},
     "output_type": "display_data"
    },
    {
     "data": {
      "image/svg+xml": [
       "<svg xmlns=\"http://www.w3.org/2000/svg\" xmlns:ev=\"http://www.w3.org/2001/xml-events\" xmlns:xlink=\"http://www.w3.org/1999/xlink\" baseProfile=\"full\" height=\"120\" version=\"1.1\" width=\"120\"><defs/><rect fill=\"#642165\" height=\"77\" rx=\"10\" ry=\"10\" width=\"100%\" x=\"0.0\" y=\"21.5\"/><text alignment-baseline=\"middle\" fill=\"#ffffff\" font-family=\"Arial\" font-size=\"45\" font-weight=\"bold\" text-anchor=\"middle\" x=\"50%\" y=\"53%\">416</text></svg>"
      ],
      "text/plain": [
       "<IPython.core.display.SVG object>"
      ]
     },
     "metadata": {},
     "output_type": "display_data"
    },
    {
     "data": {
      "image/svg+xml": [
       "<svg xmlns=\"http://www.w3.org/2000/svg\" xmlns:ev=\"http://www.w3.org/2001/xml-events\" xmlns:xlink=\"http://www.w3.org/1999/xlink\" baseProfile=\"full\" height=\"120\" version=\"1.1\" width=\"120\"><defs/><rect fill=\"#ffcc00\" height=\"77\" rx=\"10\" ry=\"10\" width=\"100%\" x=\"0.0\" y=\"21.5\"/><text alignment-baseline=\"middle\" fill=\"#000000\" font-family=\"Arial\" font-size=\"45\" font-weight=\"bold\" text-anchor=\"middle\" x=\"50%\" y=\"53%\">31A</text></svg>"
      ],
      "text/plain": [
       "<IPython.core.display.SVG object>"
      ]
     },
     "metadata": {},
     "output_type": "display_data"
    },
    {
     "data": {
      "image/svg+xml": [
       "<svg xmlns=\"http://www.w3.org/2000/svg\" xmlns:ev=\"http://www.w3.org/2001/xml-events\" xmlns:xlink=\"http://www.w3.org/1999/xlink\" baseProfile=\"full\" height=\"120\" version=\"1.1\" width=\"120\"><defs/><rect fill=\"#f78f4b\" height=\"77\" rx=\"10\" ry=\"10\" width=\"100%\" x=\"0.0\" y=\"21.5\"/><text alignment-baseline=\"middle\" fill=\"#000000\" font-family=\"Arial\" font-size=\"45\" font-weight=\"bold\" text-anchor=\"middle\" x=\"50%\" y=\"53%\">28</text></svg>"
      ],
      "text/plain": [
       "<IPython.core.display.SVG object>"
      ]
     },
     "metadata": {},
     "output_type": "display_data"
    },
    {
     "data": {
      "image/svg+xml": [
       "<svg xmlns=\"http://www.w3.org/2000/svg\" xmlns:ev=\"http://www.w3.org/2001/xml-events\" xmlns:xlink=\"http://www.w3.org/1999/xlink\" baseProfile=\"full\" height=\"120\" version=\"1.1\" width=\"120\"><defs/><rect fill=\"#ffcd03\" height=\"77\" rx=\"10\" ry=\"10\" width=\"100%\" x=\"0.0\" y=\"21.5\"/><text alignment-baseline=\"middle\" fill=\"#000000\" font-family=\"Arial\" font-size=\"45\" font-weight=\"bold\" text-anchor=\"middle\" x=\"50%\" y=\"53%\">91</text></svg>"
      ],
      "text/plain": [
       "<IPython.core.display.SVG object>"
      ]
     },
     "metadata": {},
     "output_type": "display_data"
    },
    {
     "data": {
      "image/svg+xml": [
       "<svg xmlns=\"http://www.w3.org/2000/svg\" xmlns:ev=\"http://www.w3.org/2001/xml-events\" xmlns:xlink=\"http://www.w3.org/1999/xlink\" baseProfile=\"full\" height=\"120\" version=\"1.1\" width=\"120\"><defs/><rect fill=\"#79ac2b\" height=\"77\" rx=\"10\" ry=\"10\" width=\"100%\" x=\"0.0\" y=\"21.5\"/><text alignment-baseline=\"middle\" fill=\"#ffffff\" font-family=\"Arial\" font-size=\"45\" font-weight=\"bold\" text-anchor=\"middle\" x=\"50%\" y=\"53%\">45</text></svg>"
      ],
      "text/plain": [
       "<IPython.core.display.SVG object>"
      ]
     },
     "metadata": {},
     "output_type": "display_data"
    },
    {
     "data": {
      "image/svg+xml": [
       "<svg xmlns=\"http://www.w3.org/2000/svg\" xmlns:ev=\"http://www.w3.org/2001/xml-events\" xmlns:xlink=\"http://www.w3.org/1999/xlink\" baseProfile=\"full\" height=\"120\" version=\"1.1\" width=\"120\"><defs/><rect fill=\"#dd9ec6\" height=\"77\" rx=\"10\" ry=\"10\" width=\"100%\" x=\"0.0\" y=\"21.5\"/><text alignment-baseline=\"middle\" fill=\"#000000\" font-family=\"Arial\" font-size=\"45\" font-weight=\"bold\" text-anchor=\"middle\" x=\"50%\" y=\"53%\">19</text></svg>"
      ],
      "text/plain": [
       "<IPython.core.display.SVG object>"
      ]
     },
     "metadata": {},
     "output_type": "display_data"
    },
    {
     "data": {
      "image/svg+xml": [
       "<svg xmlns=\"http://www.w3.org/2000/svg\" xmlns:ev=\"http://www.w3.org/2001/xml-events\" xmlns:xlink=\"http://www.w3.org/1999/xlink\" baseProfile=\"full\" height=\"120\" version=\"1.1\" width=\"120\"><defs/><rect fill=\"#8ce39c\" height=\"77\" rx=\"10\" ry=\"10\" width=\"100%\" x=\"0.0\" y=\"21.5\"/><text alignment-baseline=\"middle\" fill=\"#ffffff\" font-family=\"Arial\" font-size=\"45\" font-weight=\"bold\" text-anchor=\"middle\" x=\"50%\" y=\"53%\">1</text></svg>"
      ],
      "text/plain": [
       "<IPython.core.display.SVG object>"
      ]
     },
     "metadata": {},
     "output_type": "display_data"
    },
    {
     "data": {
      "image/svg+xml": [
       "<svg xmlns=\"http://www.w3.org/2000/svg\" xmlns:ev=\"http://www.w3.org/2001/xml-events\" xmlns:xlink=\"http://www.w3.org/1999/xlink\" baseProfile=\"full\" height=\"120\" version=\"1.1\" width=\"120\"><defs/><rect fill=\"#f58f53\" height=\"77\" rx=\"10\" ry=\"10\" width=\"100%\" x=\"0.0\" y=\"21.5\"/><text alignment-baseline=\"middle\" fill=\"#ffffff\" font-family=\"Arial\" font-size=\"45\" font-weight=\"bold\" text-anchor=\"middle\" x=\"50%\" y=\"53%\">81</text></svg>"
      ],
      "text/plain": [
       "<IPython.core.display.SVG object>"
      ]
     },
     "metadata": {},
     "output_type": "display_data"
    },
    {
     "data": {
      "image/svg+xml": [
       "<svg xmlns=\"http://www.w3.org/2000/svg\" xmlns:ev=\"http://www.w3.org/2001/xml-events\" xmlns:xlink=\"http://www.w3.org/1999/xlink\" baseProfile=\"full\" height=\"120\" version=\"1.1\" width=\"120\"><defs/><rect fill=\"#9ad0bf\" height=\"77\" rx=\"10\" ry=\"10\" width=\"100%\" x=\"0.0\" y=\"21.5\"/><text alignment-baseline=\"middle\" fill=\"#ffffff\" font-family=\"Arial\" font-size=\"45\" font-weight=\"bold\" text-anchor=\"middle\" x=\"50%\" y=\"53%\">111</text></svg>"
      ],
      "text/plain": [
       "<IPython.core.display.SVG object>"
      ]
     },
     "metadata": {},
     "output_type": "display_data"
    },
    {
     "data": {
      "image/svg+xml": [
       "<svg xmlns=\"http://www.w3.org/2000/svg\" xmlns:ev=\"http://www.w3.org/2001/xml-events\" xmlns:xlink=\"http://www.w3.org/1999/xlink\" baseProfile=\"full\" height=\"120\" version=\"1.1\" width=\"120\"><defs/><rect fill=\"#662d91\" height=\"77\" rx=\"10\" ry=\"10\" width=\"100%\" x=\"0.0\" y=\"21.5\"/><text alignment-baseline=\"middle\" fill=\"#ffffff\" font-family=\"Arial\" font-size=\"45\" font-weight=\"bold\" text-anchor=\"middle\" x=\"50%\" y=\"53%\">N155</text></svg>"
      ],
      "text/plain": [
       "<IPython.core.display.SVG object>"
      ]
     },
     "metadata": {},
     "output_type": "display_data"
    },
    {
     "data": {
      "image/svg+xml": [
       "<svg xmlns=\"http://www.w3.org/2000/svg\" xmlns:ev=\"http://www.w3.org/2001/xml-events\" xmlns:xlink=\"http://www.w3.org/1999/xlink\" baseProfile=\"full\" height=\"120\" version=\"1.1\" width=\"120\"><defs/><rect fill=\"#8ce39c\" height=\"77\" rx=\"10\" ry=\"10\" width=\"100%\" x=\"0.0\" y=\"21.5\"/><text alignment-baseline=\"middle\" fill=\"#ffffff\" font-family=\"Arial\" font-size=\"45\" font-weight=\"bold\" text-anchor=\"middle\" x=\"50%\" y=\"53%\">2</text></svg>"
      ],
      "text/plain": [
       "<IPython.core.display.SVG object>"
      ]
     },
     "metadata": {},
     "output_type": "display_data"
    },
    {
     "data": {
      "image/svg+xml": [
       "<svg xmlns=\"http://www.w3.org/2000/svg\" xmlns:ev=\"http://www.w3.org/2001/xml-events\" xmlns:xlink=\"http://www.w3.org/1999/xlink\" baseProfile=\"full\" height=\"120\" version=\"1.1\" width=\"120\"><defs/><rect fill=\"#1da6df\" height=\"77\" rx=\"10\" ry=\"10\" width=\"100%\" x=\"0.0\" y=\"21.5\"/><text alignment-baseline=\"middle\" fill=\"#000000\" font-family=\"Arial\" font-size=\"45\" font-weight=\"bold\" text-anchor=\"middle\" x=\"50%\" y=\"53%\">14</text></svg>"
      ],
      "text/plain": [
       "<IPython.core.display.SVG object>"
      ]
     },
     "metadata": {},
     "output_type": "display_data"
    },
    {
     "data": {
      "image/svg+xml": [
       "<svg xmlns=\"http://www.w3.org/2000/svg\" xmlns:ev=\"http://www.w3.org/2001/xml-events\" xmlns:xlink=\"http://www.w3.org/1999/xlink\" baseProfile=\"full\" height=\"120\" version=\"1.1\" width=\"120\"><defs/><rect fill=\"#f29520\" height=\"77\" rx=\"10\" ry=\"10\" width=\"100%\" x=\"0.0\" y=\"21.5\"/><text alignment-baseline=\"middle\" fill=\"#000000\" font-family=\"Arial\" font-size=\"45\" font-weight=\"bold\" text-anchor=\"middle\" x=\"50%\" y=\"53%\">16</text></svg>"
      ],
      "text/plain": [
       "<IPython.core.display.SVG object>"
      ]
     },
     "metadata": {},
     "output_type": "display_data"
    },
    {
     "data": {
      "image/svg+xml": [
       "<svg xmlns=\"http://www.w3.org/2000/svg\" xmlns:ev=\"http://www.w3.org/2001/xml-events\" xmlns:xlink=\"http://www.w3.org/1999/xlink\" baseProfile=\"full\" height=\"120\" version=\"1.1\" width=\"120\"><defs/><rect fill=\"#8cc7ff\" height=\"77\" rx=\"10\" ry=\"10\" width=\"100%\" x=\"0.0\" y=\"21.5\"/><text alignment-baseline=\"middle\" fill=\"#ffffff\" font-family=\"Arial\" font-size=\"45\" font-weight=\"bold\" text-anchor=\"middle\" x=\"50%\" y=\"53%\">1</text></svg>"
      ],
      "text/plain": [
       "<IPython.core.display.SVG object>"
      ]
     },
     "metadata": {},
     "output_type": "display_data"
    },
    {
     "data": {
      "image/svg+xml": [
       "<svg xmlns=\"http://www.w3.org/2000/svg\" xmlns:ev=\"http://www.w3.org/2001/xml-events\" xmlns:xlink=\"http://www.w3.org/1999/xlink\" baseProfile=\"full\" height=\"120\" version=\"1.1\" width=\"120\"><defs/><rect fill=\"#662583\" height=\"77\" rx=\"10\" ry=\"10\" width=\"100%\" x=\"0.0\" y=\"21.5\"/><text alignment-baseline=\"middle\" fill=\"#ffffff\" font-family=\"Arial\" font-size=\"45\" font-weight=\"bold\" text-anchor=\"middle\" x=\"50%\" y=\"53%\">3</text></svg>"
      ],
      "text/plain": [
       "<IPython.core.display.SVG object>"
      ]
     },
     "metadata": {},
     "output_type": "display_data"
    },
    {
     "data": {
      "image/svg+xml": [
       "<svg xmlns=\"http://www.w3.org/2000/svg\" xmlns:ev=\"http://www.w3.org/2001/xml-events\" xmlns:xlink=\"http://www.w3.org/1999/xlink\" baseProfile=\"full\" height=\"120\" version=\"1.1\" width=\"120\"><defs/><rect fill=\"#f3a4ba\" height=\"77\" rx=\"10\" ry=\"10\" width=\"100%\" x=\"0.0\" y=\"21.5\"/><text alignment-baseline=\"middle\" fill=\"#000000\" font-family=\"Arial\" font-size=\"45\" font-weight=\"bold\" text-anchor=\"middle\" x=\"50%\" y=\"53%\">30C</text></svg>"
      ],
      "text/plain": [
       "<IPython.core.display.SVG object>"
      ]
     },
     "metadata": {},
     "output_type": "display_data"
    },
    {
     "data": {
      "image/svg+xml": [
       "<svg xmlns=\"http://www.w3.org/2000/svg\" xmlns:ev=\"http://www.w3.org/2001/xml-events\" xmlns:xlink=\"http://www.w3.org/1999/xlink\" baseProfile=\"full\" height=\"120\" version=\"1.1\" width=\"120\"><defs/><rect fill=\"#78c696\" height=\"77\" rx=\"10\" ry=\"10\" width=\"100%\" x=\"0.0\" y=\"21.5\"/><text alignment-baseline=\"middle\" fill=\"#000000\" font-family=\"Arial\" font-size=\"45\" font-weight=\"bold\" text-anchor=\"middle\" x=\"50%\" y=\"53%\">40</text></svg>"
      ],
      "text/plain": [
       "<IPython.core.display.SVG object>"
      ]
     },
     "metadata": {},
     "output_type": "display_data"
    },
    {
     "data": {
      "image/svg+xml": [
       "<svg xmlns=\"http://www.w3.org/2000/svg\" xmlns:ev=\"http://www.w3.org/2001/xml-events\" xmlns:xlink=\"http://www.w3.org/1999/xlink\" baseProfile=\"full\" height=\"120\" version=\"1.1\" width=\"120\"><defs/><rect fill=\"#e0b03b\" height=\"77\" rx=\"10\" ry=\"10\" width=\"100%\" x=\"0.0\" y=\"21.5\"/><text alignment-baseline=\"middle\" fill=\"#000000\" font-family=\"Arial\" font-size=\"45\" font-weight=\"bold\" text-anchor=\"middle\" x=\"50%\" y=\"53%\">31</text></svg>"
      ],
      "text/plain": [
       "<IPython.core.display.SVG object>"
      ]
     },
     "metadata": {},
     "output_type": "display_data"
    },
    {
     "data": {
      "image/svg+xml": [
       "<svg xmlns=\"http://www.w3.org/2000/svg\" xmlns:ev=\"http://www.w3.org/2001/xml-events\" xmlns:xlink=\"http://www.w3.org/1999/xlink\" baseProfile=\"full\" height=\"120\" version=\"1.1\" width=\"120\"><defs/><rect fill=\"#006db8\" height=\"77\" rx=\"10\" ry=\"10\" width=\"100%\" x=\"0.0\" y=\"21.5\"/><text alignment-baseline=\"middle\" fill=\"#ffffff\" font-family=\"Arial\" font-size=\"45\" font-weight=\"bold\" text-anchor=\"middle\" x=\"50%\" y=\"53%\">17</text></svg>"
      ],
      "text/plain": [
       "<IPython.core.display.SVG object>"
      ]
     },
     "metadata": {},
     "output_type": "display_data"
    },
    {
     "data": {
      "image/svg+xml": [
       "<svg xmlns=\"http://www.w3.org/2000/svg\" xmlns:ev=\"http://www.w3.org/2001/xml-events\" xmlns:xlink=\"http://www.w3.org/1999/xlink\" baseProfile=\"full\" height=\"120\" version=\"1.1\" width=\"120\"><defs/><rect fill=\"#2c964d\" height=\"77\" rx=\"10\" ry=\"10\" width=\"100%\" x=\"0.0\" y=\"21.5\"/><text alignment-baseline=\"middle\" fill=\"#ffffff\" font-family=\"Arial\" font-size=\"45\" font-weight=\"bold\" text-anchor=\"middle\" x=\"50%\" y=\"53%\">10</text></svg>"
      ],
      "text/plain": [
       "<IPython.core.display.SVG object>"
      ]
     },
     "metadata": {},
     "output_type": "display_data"
    },
    {
     "data": {
      "image/svg+xml": [
       "<svg xmlns=\"http://www.w3.org/2000/svg\" xmlns:ev=\"http://www.w3.org/2001/xml-events\" xmlns:xlink=\"http://www.w3.org/1999/xlink\" baseProfile=\"full\" height=\"120\" version=\"1.1\" width=\"120\"><defs/><rect fill=\"#b80c4b\" height=\"77\" rx=\"10\" ry=\"10\" width=\"100%\" x=\"0.0\" y=\"21.5\"/><text alignment-baseline=\"middle\" fill=\"#ffffff\" font-family=\"Arial\" font-size=\"45\" font-weight=\"bold\" text-anchor=\"middle\" x=\"50%\" y=\"53%\">4</text></svg>"
      ],
      "text/plain": [
       "<IPython.core.display.SVG object>"
      ]
     },
     "metadata": {},
     "output_type": "display_data"
    },
    {
     "data": {
      "image/svg+xml": [
       "<svg xmlns=\"http://www.w3.org/2000/svg\" xmlns:ev=\"http://www.w3.org/2001/xml-events\" xmlns:xlink=\"http://www.w3.org/1999/xlink\" baseProfile=\"full\" height=\"120\" version=\"1.1\" width=\"120\"><defs/><rect fill=\"#662d91\" height=\"77\" rx=\"10\" ry=\"10\" width=\"100%\" x=\"0.0\" y=\"21.5\"/><text alignment-baseline=\"middle\" fill=\"#ffffff\" font-family=\"Arial\" font-size=\"45\" font-weight=\"bold\" text-anchor=\"middle\" x=\"50%\" y=\"53%\">76</text></svg>"
      ],
      "text/plain": [
       "<IPython.core.display.SVG object>"
      ]
     },
     "metadata": {},
     "output_type": "display_data"
    },
    {
     "data": {
      "image/svg+xml": [
       "<svg xmlns=\"http://www.w3.org/2000/svg\" xmlns:ev=\"http://www.w3.org/2001/xml-events\" xmlns:xlink=\"http://www.w3.org/1999/xlink\" baseProfile=\"full\" height=\"120\" version=\"1.1\" width=\"120\"><defs/><rect fill=\"#aaaaaa\" height=\"77\" rx=\"10\" ry=\"10\" width=\"100%\" x=\"0.0\" y=\"21.5\"/><text alignment-baseline=\"middle\" fill=\"#000000\" font-family=\"Arial\" font-size=\"45\" font-weight=\"bold\" text-anchor=\"middle\" x=\"50%\" y=\"53%\">4002</text></svg>"
      ],
      "text/plain": [
       "<IPython.core.display.SVG object>"
      ]
     },
     "metadata": {},
     "output_type": "display_data"
    },
    {
     "data": {
      "image/svg+xml": [
       "<svg xmlns=\"http://www.w3.org/2000/svg\" xmlns:ev=\"http://www.w3.org/2001/xml-events\" xmlns:xlink=\"http://www.w3.org/1999/xlink\" baseProfile=\"full\" height=\"120\" version=\"1.1\" width=\"120\"><defs/><rect fill=\"#009ee0\" height=\"77\" rx=\"10\" ry=\"10\" width=\"100%\" x=\"0.0\" y=\"21.5\"/><text alignment-baseline=\"middle\" fill=\"#ffffff\" font-family=\"Arial\" font-size=\"45\" font-weight=\"bold\" text-anchor=\"middle\" x=\"50%\" y=\"53%\">4318</text></svg>"
      ],
      "text/plain": [
       "<IPython.core.display.SVG object>"
      ]
     },
     "metadata": {},
     "output_type": "display_data"
    },
    {
     "data": {
      "image/svg+xml": [
       "<svg xmlns=\"http://www.w3.org/2000/svg\" xmlns:ev=\"http://www.w3.org/2001/xml-events\" xmlns:xlink=\"http://www.w3.org/1999/xlink\" baseProfile=\"full\" height=\"120\" version=\"1.1\" width=\"120\"><defs/><rect fill=\"#8d653d\" height=\"77\" rx=\"10\" ry=\"10\" width=\"100%\" x=\"0.0\" y=\"21.5\"/><text alignment-baseline=\"middle\" fill=\"#ffffff\" font-family=\"Arial\" font-size=\"45\" font-weight=\"bold\" text-anchor=\"middle\" x=\"50%\" y=\"53%\">17</text></svg>"
      ],
      "text/plain": [
       "<IPython.core.display.SVG object>"
      ]
     },
     "metadata": {},
     "output_type": "display_data"
    },
    {
     "data": {
      "image/svg+xml": [
       "<svg xmlns=\"http://www.w3.org/2000/svg\" xmlns:ev=\"http://www.w3.org/2001/xml-events\" xmlns:xlink=\"http://www.w3.org/1999/xlink\" baseProfile=\"full\" height=\"120\" version=\"1.1\" width=\"120\"><defs/><rect fill=\"#6aa84f\" height=\"77\" rx=\"10\" ry=\"10\" width=\"100%\" x=\"0.0\" y=\"21.5\"/><text alignment-baseline=\"middle\" fill=\"#ffffff\" font-family=\"Arial\" font-size=\"45\" font-weight=\"bold\" text-anchor=\"middle\" x=\"50%\" y=\"53%\">47</text></svg>"
      ],
      "text/plain": [
       "<IPython.core.display.SVG object>"
      ]
     },
     "metadata": {},
     "output_type": "display_data"
    },
    {
     "data": {
      "image/svg+xml": [
       "<svg xmlns=\"http://www.w3.org/2000/svg\" xmlns:ev=\"http://www.w3.org/2001/xml-events\" xmlns:xlink=\"http://www.w3.org/1999/xlink\" baseProfile=\"full\" height=\"120\" version=\"1.1\" width=\"120\"><defs/><rect fill=\"#e46c0a\" height=\"77\" rx=\"10\" ry=\"10\" width=\"100%\" x=\"0.0\" y=\"21.5\"/><text alignment-baseline=\"middle\" fill=\"#000000\" font-family=\"Arial\" font-size=\"45\" font-weight=\"bold\" text-anchor=\"middle\" x=\"50%\" y=\"53%\">02C</text></svg>"
      ],
      "text/plain": [
       "<IPython.core.display.SVG object>"
      ]
     },
     "metadata": {},
     "output_type": "display_data"
    },
    {
     "data": {
      "image/svg+xml": [
       "<svg xmlns=\"http://www.w3.org/2000/svg\" xmlns:ev=\"http://www.w3.org/2001/xml-events\" xmlns:xlink=\"http://www.w3.org/1999/xlink\" baseProfile=\"full\" height=\"120\" version=\"1.1\" width=\"120\"><defs/><rect fill=\"#bd1220\" height=\"77\" rx=\"10\" ry=\"10\" width=\"100%\" x=\"0.0\" y=\"21.5\"/><text alignment-baseline=\"middle\" fill=\"#ffffff\" font-family=\"Arial\" font-size=\"45\" font-weight=\"bold\" text-anchor=\"middle\" x=\"50%\" y=\"53%\">20</text></svg>"
      ],
      "text/plain": [
       "<IPython.core.display.SVG object>"
      ]
     },
     "metadata": {},
     "output_type": "display_data"
    },
    {
     "data": {
      "image/svg+xml": [
       "<svg xmlns=\"http://www.w3.org/2000/svg\" xmlns:ev=\"http://www.w3.org/2001/xml-events\" xmlns:xlink=\"http://www.w3.org/1999/xlink\" baseProfile=\"full\" height=\"120\" version=\"1.1\" width=\"120\"><defs/><rect fill=\"#98d4e2\" height=\"77\" rx=\"10\" ry=\"10\" width=\"100%\" x=\"0.0\" y=\"21.5\"/><text alignment-baseline=\"middle\" fill=\"#000000\" font-family=\"Arial\" font-size=\"45\" font-weight=\"bold\" text-anchor=\"middle\" x=\"50%\" y=\"53%\">320</text></svg>"
      ],
      "text/plain": [
       "<IPython.core.display.SVG object>"
      ]
     },
     "metadata": {},
     "output_type": "display_data"
    },
    {
     "data": {
      "image/svg+xml": [
       "<svg xmlns=\"http://www.w3.org/2000/svg\" xmlns:ev=\"http://www.w3.org/2001/xml-events\" xmlns:xlink=\"http://www.w3.org/1999/xlink\" baseProfile=\"full\" height=\"120\" version=\"1.1\" width=\"120\"><defs/><rect fill=\"#aaaaaa\" height=\"77\" rx=\"10\" ry=\"10\" width=\"100%\" x=\"0.0\" y=\"21.5\"/><text alignment-baseline=\"middle\" fill=\"#000000\" font-family=\"Arial\" font-size=\"45\" font-weight=\"bold\" text-anchor=\"middle\" x=\"50%\" y=\"53%\">11C</text></svg>"
      ],
      "text/plain": [
       "<IPython.core.display.SVG object>"
      ]
     },
     "metadata": {},
     "output_type": "display_data"
    },
    {
     "data": {
      "image/svg+xml": [
       "<svg xmlns=\"http://www.w3.org/2000/svg\" xmlns:ev=\"http://www.w3.org/2001/xml-events\" xmlns:xlink=\"http://www.w3.org/1999/xlink\" baseProfile=\"full\" height=\"120\" version=\"1.1\" width=\"120\"><defs/><rect fill=\"#006fb6\" height=\"77\" rx=\"10\" ry=\"10\" width=\"100%\" x=\"0.0\" y=\"21.5\"/><text alignment-baseline=\"middle\" fill=\"#ffffff\" font-family=\"Arial\" font-size=\"45\" font-weight=\"bold\" text-anchor=\"middle\" x=\"50%\" y=\"53%\">89</text></svg>"
      ],
      "text/plain": [
       "<IPython.core.display.SVG object>"
      ]
     },
     "metadata": {},
     "output_type": "display_data"
    },
    {
     "data": {
      "image/svg+xml": [
       "<svg xmlns=\"http://www.w3.org/2000/svg\" xmlns:ev=\"http://www.w3.org/2001/xml-events\" xmlns:xlink=\"http://www.w3.org/1999/xlink\" baseProfile=\"full\" height=\"120\" version=\"1.1\" width=\"120\"><defs/><rect fill=\"#00a88f\" height=\"77\" rx=\"10\" ry=\"10\" width=\"100%\" x=\"0.0\" y=\"21.5\"/><text alignment-baseline=\"middle\" fill=\"#ffffff\" font-family=\"Arial\" font-size=\"45\" font-weight=\"bold\" text-anchor=\"middle\" x=\"50%\" y=\"53%\">322</text></svg>"
      ],
      "text/plain": [
       "<IPython.core.display.SVG object>"
      ]
     },
     "metadata": {},
     "output_type": "display_data"
    },
    {
     "data": {
      "image/svg+xml": [
       "<svg xmlns=\"http://www.w3.org/2000/svg\" xmlns:ev=\"http://www.w3.org/2001/xml-events\" xmlns:xlink=\"http://www.w3.org/1999/xlink\" baseProfile=\"full\" height=\"120\" version=\"1.1\" width=\"120\"><defs/><rect fill=\"#8d5e2a\" height=\"77\" rx=\"10\" ry=\"10\" width=\"100%\" x=\"0.0\" y=\"21.5\"/><text alignment-baseline=\"middle\" fill=\"#ffffff\" font-family=\"Arial\" font-size=\"45\" font-weight=\"bold\" text-anchor=\"middle\" x=\"50%\" y=\"53%\">316</text></svg>"
      ],
      "text/plain": [
       "<IPython.core.display.SVG object>"
      ]
     },
     "metadata": {},
     "output_type": "display_data"
    },
    {
     "data": {
      "image/svg+xml": [
       "<svg xmlns=\"http://www.w3.org/2000/svg\" xmlns:ev=\"http://www.w3.org/2001/xml-events\" xmlns:xlink=\"http://www.w3.org/1999/xlink\" baseProfile=\"full\" height=\"120\" version=\"1.1\" width=\"120\"><defs/><rect fill=\"#d282be\" height=\"77\" rx=\"10\" ry=\"10\" width=\"100%\" x=\"0.0\" y=\"21.5\"/><text alignment-baseline=\"middle\" fill=\"#000000\" font-family=\"Arial\" font-size=\"45\" font-weight=\"bold\" text-anchor=\"middle\" x=\"50%\" y=\"53%\">559B</text></svg>"
      ],
      "text/plain": [
       "<IPython.core.display.SVG object>"
      ]
     },
     "metadata": {},
     "output_type": "display_data"
    },
    {
     "data": {
      "image/svg+xml": [
       "<svg xmlns=\"http://www.w3.org/2000/svg\" xmlns:ev=\"http://www.w3.org/2001/xml-events\" xmlns:xlink=\"http://www.w3.org/1999/xlink\" baseProfile=\"full\" height=\"120\" version=\"1.1\" width=\"120\"><defs/><rect fill=\"#cc9900\" height=\"77\" rx=\"10\" ry=\"10\" width=\"100%\" x=\"0.0\" y=\"21.5\"/><text alignment-baseline=\"middle\" fill=\"#000000\" font-family=\"Arial\" font-size=\"45\" font-weight=\"bold\" text-anchor=\"middle\" x=\"50%\" y=\"53%\">03B</text></svg>"
      ],
      "text/plain": [
       "<IPython.core.display.SVG object>"
      ]
     },
     "metadata": {},
     "output_type": "display_data"
    },
    {
     "data": {
      "image/svg+xml": [
       "<svg xmlns=\"http://www.w3.org/2000/svg\" xmlns:ev=\"http://www.w3.org/2001/xml-events\" xmlns:xlink=\"http://www.w3.org/1999/xlink\" baseProfile=\"full\" height=\"120\" version=\"1.1\" width=\"120\"><defs/><rect fill=\"#cfadd2\" height=\"77\" rx=\"10\" ry=\"10\" width=\"100%\" x=\"0.0\" y=\"21.5\"/><text alignment-baseline=\"middle\" fill=\"#000000\" font-family=\"Arial\" font-size=\"45\" font-weight=\"bold\" text-anchor=\"middle\" x=\"50%\" y=\"53%\">28B</text></svg>"
      ],
      "text/plain": [
       "<IPython.core.display.SVG object>"
      ]
     },
     "metadata": {},
     "output_type": "display_data"
    },
    {
     "data": {
      "image/svg+xml": [
       "<svg xmlns=\"http://www.w3.org/2000/svg\" xmlns:ev=\"http://www.w3.org/2001/xml-events\" xmlns:xlink=\"http://www.w3.org/1999/xlink\" baseProfile=\"full\" height=\"120\" version=\"1.1\" width=\"120\"><defs/><rect fill=\"#d282be\" height=\"77\" rx=\"10\" ry=\"10\" width=\"100%\" x=\"0.0\" y=\"21.5\"/><text alignment-baseline=\"middle\" fill=\"#000000\" font-family=\"Arial\" font-size=\"45\" font-weight=\"bold\" text-anchor=\"middle\" x=\"50%\" y=\"53%\">55</text></svg>"
      ],
      "text/plain": [
       "<IPython.core.display.SVG object>"
      ]
     },
     "metadata": {},
     "output_type": "display_data"
    },
    {
     "data": {
      "image/svg+xml": [
       "<svg xmlns=\"http://www.w3.org/2000/svg\" xmlns:ev=\"http://www.w3.org/2001/xml-events\" xmlns:xlink=\"http://www.w3.org/1999/xlink\" baseProfile=\"full\" height=\"120\" version=\"1.1\" width=\"120\"><defs/><rect fill=\"#e3051c\" height=\"77\" rx=\"10\" ry=\"10\" width=\"100%\" x=\"0.0\" y=\"21.5\"/><text alignment-baseline=\"middle\" fill=\"#ffffff\" font-family=\"Arial\" font-size=\"45\" font-weight=\"bold\" text-anchor=\"middle\" x=\"50%\" y=\"53%\">30B</text></svg>"
      ],
      "text/plain": [
       "<IPython.core.display.SVG object>"
      ]
     },
     "metadata": {},
     "output_type": "display_data"
    },
    {
     "data": {
      "image/svg+xml": [
       "<svg xmlns=\"http://www.w3.org/2000/svg\" xmlns:ev=\"http://www.w3.org/2001/xml-events\" xmlns:xlink=\"http://www.w3.org/1999/xlink\" baseProfile=\"full\" height=\"120\" version=\"1.1\" width=\"120\"><defs/><rect fill=\"#9c91c5\" height=\"77\" rx=\"10\" ry=\"10\" width=\"100%\" x=\"0.0\" y=\"21.5\"/><text alignment-baseline=\"middle\" fill=\"#ffffff\" font-family=\"Arial\" font-size=\"45\" font-weight=\"bold\" text-anchor=\"middle\" x=\"50%\" y=\"53%\">17B</text></svg>"
      ],
      "text/plain": [
       "<IPython.core.display.SVG object>"
      ]
     },
     "metadata": {},
     "output_type": "display_data"
    },
    {
     "data": {
      "image/svg+xml": [
       "<svg xmlns=\"http://www.w3.org/2000/svg\" xmlns:ev=\"http://www.w3.org/2001/xml-events\" xmlns:xlink=\"http://www.w3.org/1999/xlink\" baseProfile=\"full\" height=\"120\" version=\"1.1\" width=\"120\"><defs/><rect fill=\"#6fa8dc\" height=\"77\" rx=\"10\" ry=\"10\" width=\"100%\" x=\"0.0\" y=\"21.5\"/><text alignment-baseline=\"middle\" fill=\"#ffffff\" font-family=\"Arial\" font-size=\"45\" font-weight=\"bold\" text-anchor=\"middle\" x=\"50%\" y=\"53%\">N138</text></svg>"
      ],
      "text/plain": [
       "<IPython.core.display.SVG object>"
      ]
     },
     "metadata": {},
     "output_type": "display_data"
    },
    {
     "data": {
      "image/svg+xml": [
       "<svg xmlns=\"http://www.w3.org/2000/svg\" xmlns:ev=\"http://www.w3.org/2001/xml-events\" xmlns:xlink=\"http://www.w3.org/1999/xlink\" baseProfile=\"full\" height=\"120\" version=\"1.1\" width=\"120\"><defs/><rect fill=\"#38761d\" height=\"77\" rx=\"10\" ry=\"10\" width=\"100%\" x=\"0.0\" y=\"21.5\"/><text alignment-baseline=\"middle\" fill=\"#ffffff\" font-family=\"Arial\" font-size=\"45\" font-weight=\"bold\" text-anchor=\"middle\" x=\"50%\" y=\"53%\">32S</text></svg>"
      ],
      "text/plain": [
       "<IPython.core.display.SVG object>"
      ]
     },
     "metadata": {},
     "output_type": "display_data"
    },
    {
     "data": {
      "image/svg+xml": [
       "<svg xmlns=\"http://www.w3.org/2000/svg\" xmlns:ev=\"http://www.w3.org/2001/xml-events\" xmlns:xlink=\"http://www.w3.org/1999/xlink\" baseProfile=\"full\" height=\"120\" version=\"1.1\" width=\"120\"><defs/><rect fill=\"#93d5f6\" height=\"77\" rx=\"10\" ry=\"10\" width=\"100%\" x=\"0.0\" y=\"21.5\"/><text alignment-baseline=\"middle\" fill=\"#000000\" font-family=\"Arial\" font-size=\"45\" font-weight=\"bold\" text-anchor=\"middle\" x=\"50%\" y=\"53%\">62C</text></svg>"
      ],
      "text/plain": [
       "<IPython.core.display.SVG object>"
      ]
     },
     "metadata": {},
     "output_type": "display_data"
    },
    {
     "data": {
      "image/svg+xml": [
       "<svg xmlns=\"http://www.w3.org/2000/svg\" xmlns:ev=\"http://www.w3.org/2001/xml-events\" xmlns:xlink=\"http://www.w3.org/1999/xlink\" baseProfile=\"full\" height=\"120\" version=\"1.1\" width=\"120\"><defs/><rect fill=\"#ec619f\" height=\"77\" rx=\"10\" ry=\"10\" width=\"100%\" x=\"0.0\" y=\"21.5\"/><text alignment-baseline=\"middle\" fill=\"#000000\" font-family=\"Arial\" font-size=\"45\" font-weight=\"bold\" text-anchor=\"middle\" x=\"50%\" y=\"53%\">63</text></svg>"
      ],
      "text/plain": [
       "<IPython.core.display.SVG object>"
      ]
     },
     "metadata": {},
     "output_type": "display_data"
    },
    {
     "data": {
      "image/svg+xml": [
       "<svg xmlns=\"http://www.w3.org/2000/svg\" xmlns:ev=\"http://www.w3.org/2001/xml-events\" xmlns:xlink=\"http://www.w3.org/1999/xlink\" baseProfile=\"full\" height=\"120\" version=\"1.1\" width=\"120\"><defs/><rect fill=\"#a38c57\" height=\"77\" rx=\"10\" ry=\"10\" width=\"100%\" x=\"0.0\" y=\"21.5\"/><text alignment-baseline=\"middle\" fill=\"#000000\" font-family=\"Arial\" font-size=\"45\" font-weight=\"bold\" text-anchor=\"middle\" x=\"50%\" y=\"53%\">102</text></svg>"
      ],
      "text/plain": [
       "<IPython.core.display.SVG object>"
      ]
     },
     "metadata": {},
     "output_type": "display_data"
    },
    {
     "data": {
      "image/svg+xml": [
       "<svg xmlns=\"http://www.w3.org/2000/svg\" xmlns:ev=\"http://www.w3.org/2001/xml-events\" xmlns:xlink=\"http://www.w3.org/1999/xlink\" baseProfile=\"full\" height=\"120\" version=\"1.1\" width=\"120\"><defs/><rect fill=\"#f69f83\" height=\"77\" rx=\"10\" ry=\"10\" width=\"100%\" x=\"0.0\" y=\"21.5\"/><text alignment-baseline=\"middle\" fill=\"#000000\" font-family=\"Arial\" font-size=\"45\" font-weight=\"bold\" text-anchor=\"middle\" x=\"50%\" y=\"53%\">5 S</text></svg>"
      ],
      "text/plain": [
       "<IPython.core.display.SVG object>"
      ]
     },
     "metadata": {},
     "output_type": "display_data"
    },
    {
     "data": {
      "image/svg+xml": [
       "<svg xmlns=\"http://www.w3.org/2000/svg\" xmlns:ev=\"http://www.w3.org/2001/xml-events\" xmlns:xlink=\"http://www.w3.org/1999/xlink\" baseProfile=\"full\" height=\"120\" version=\"1.1\" width=\"120\"><defs/><rect fill=\"#f3a4ba\" height=\"77\" rx=\"10\" ry=\"10\" width=\"100%\" x=\"0.0\" y=\"21.5\"/><text alignment-baseline=\"middle\" fill=\"#000000\" font-family=\"Arial\" font-size=\"45\" font-weight=\"bold\" text-anchor=\"middle\" x=\"50%\" y=\"53%\">200</text></svg>"
      ],
      "text/plain": [
       "<IPython.core.display.SVG object>"
      ]
     },
     "metadata": {},
     "output_type": "display_data"
    },
    {
     "data": {
      "image/svg+xml": [
       "<svg xmlns=\"http://www.w3.org/2000/svg\" xmlns:ev=\"http://www.w3.org/2001/xml-events\" xmlns:xlink=\"http://www.w3.org/1999/xlink\" baseProfile=\"full\" height=\"120\" version=\"1.1\" width=\"120\"><defs/><rect fill=\"#ff9900\" height=\"77\" rx=\"10\" ry=\"10\" width=\"100%\" x=\"0.0\" y=\"21.5\"/><text alignment-baseline=\"middle\" fill=\"#000000\" font-family=\"Arial\" font-size=\"45\" font-weight=\"bold\" text-anchor=\"middle\" x=\"50%\" y=\"53%\">51</text></svg>"
      ],
      "text/plain": [
       "<IPython.core.display.SVG object>"
      ]
     },
     "metadata": {},
     "output_type": "display_data"
    },
    {
     "data": {
      "image/svg+xml": [
       "<svg xmlns=\"http://www.w3.org/2000/svg\" xmlns:ev=\"http://www.w3.org/2001/xml-events\" xmlns:xlink=\"http://www.w3.org/1999/xlink\" baseProfile=\"full\" height=\"120\" version=\"1.1\" width=\"120\"><defs/><rect fill=\"#502361\" height=\"77\" rx=\"10\" ry=\"10\" width=\"100%\" x=\"0.0\" y=\"21.5\"/><text alignment-baseline=\"middle\" fill=\"#ffffff\" font-family=\"Arial\" font-size=\"45\" font-weight=\"bold\" text-anchor=\"middle\" x=\"50%\" y=\"53%\">37</text></svg>"
      ],
      "text/plain": [
       "<IPython.core.display.SVG object>"
      ]
     },
     "metadata": {},
     "output_type": "display_data"
    },
    {
     "data": {
      "image/svg+xml": [
       "<svg xmlns=\"http://www.w3.org/2000/svg\" xmlns:ev=\"http://www.w3.org/2001/xml-events\" xmlns:xlink=\"http://www.w3.org/1999/xlink\" baseProfile=\"full\" height=\"120\" version=\"1.1\" width=\"120\"><defs/><rect fill=\"#fa8cc7\" height=\"77\" rx=\"10\" ry=\"10\" width=\"100%\" x=\"0.0\" y=\"21.5\"/><text alignment-baseline=\"middle\" fill=\"#ffffff\" font-family=\"Arial\" font-size=\"45\" font-weight=\"bold\" text-anchor=\"middle\" x=\"50%\" y=\"53%\">57</text></svg>"
      ],
      "text/plain": [
       "<IPython.core.display.SVG object>"
      ]
     },
     "metadata": {},
     "output_type": "display_data"
    },
    {
     "data": {
      "image/svg+xml": [
       "<svg xmlns=\"http://www.w3.org/2000/svg\" xmlns:ev=\"http://www.w3.org/2001/xml-events\" xmlns:xlink=\"http://www.w3.org/1999/xlink\" baseProfile=\"full\" height=\"120\" version=\"1.1\" width=\"120\"><defs/><rect fill=\"#0055c8\" height=\"77\" rx=\"10\" ry=\"10\" width=\"100%\" x=\"0.0\" y=\"21.5\"/><text alignment-baseline=\"middle\" fill=\"#ffffff\" font-family=\"Arial\" font-size=\"45\" font-weight=\"bold\" text-anchor=\"middle\" x=\"50%\" y=\"53%\">48</text></svg>"
      ],
      "text/plain": [
       "<IPython.core.display.SVG object>"
      ]
     },
     "metadata": {},
     "output_type": "display_data"
    },
    {
     "data": {
      "image/svg+xml": [
       "<svg xmlns=\"http://www.w3.org/2000/svg\" xmlns:ev=\"http://www.w3.org/2001/xml-events\" xmlns:xlink=\"http://www.w3.org/1999/xlink\" baseProfile=\"full\" height=\"120\" version=\"1.1\" width=\"120\"><defs/><rect fill=\"#3bb2ff\" height=\"77\" rx=\"10\" ry=\"10\" width=\"100%\" x=\"0.0\" y=\"21.5\"/><text alignment-baseline=\"middle\" fill=\"#000000\" font-family=\"Arial\" font-size=\"45\" font-weight=\"bold\" text-anchor=\"middle\" x=\"50%\" y=\"53%\">60</text></svg>"
      ],
      "text/plain": [
       "<IPython.core.display.SVG object>"
      ]
     },
     "metadata": {},
     "output_type": "display_data"
    },
    {
     "data": {
      "image/svg+xml": [
       "<svg xmlns=\"http://www.w3.org/2000/svg\" xmlns:ev=\"http://www.w3.org/2001/xml-events\" xmlns:xlink=\"http://www.w3.org/1999/xlink\" baseProfile=\"full\" height=\"120\" version=\"1.1\" width=\"120\"><defs/><rect fill=\"#09a78e\" height=\"77\" rx=\"10\" ry=\"10\" width=\"100%\" x=\"0.0\" y=\"21.5\"/><text alignment-baseline=\"middle\" fill=\"#ffffff\" font-family=\"Arial\" font-size=\"45\" font-weight=\"bold\" text-anchor=\"middle\" x=\"50%\" y=\"53%\">21</text></svg>"
      ],
      "text/plain": [
       "<IPython.core.display.SVG object>"
      ]
     },
     "metadata": {},
     "output_type": "display_data"
    },
    {
     "data": {
      "image/svg+xml": [
       "<svg xmlns=\"http://www.w3.org/2000/svg\" xmlns:ev=\"http://www.w3.org/2001/xml-events\" xmlns:xlink=\"http://www.w3.org/1999/xlink\" baseProfile=\"full\" height=\"120\" version=\"1.1\" width=\"120\"><defs/><rect fill=\"#00adee\" height=\"77\" rx=\"10\" ry=\"10\" width=\"100%\" x=\"0.0\" y=\"21.5\"/><text alignment-baseline=\"middle\" fill=\"#000000\" font-family=\"Arial\" font-size=\"45\" font-weight=\"bold\" text-anchor=\"middle\" x=\"50%\" y=\"53%\">480</text></svg>"
      ],
      "text/plain": [
       "<IPython.core.display.SVG object>"
      ]
     },
     "metadata": {},
     "output_type": "display_data"
    },
    {
     "data": {
      "image/svg+xml": [
       "<svg xmlns=\"http://www.w3.org/2000/svg\" xmlns:ev=\"http://www.w3.org/2001/xml-events\" xmlns:xlink=\"http://www.w3.org/1999/xlink\" baseProfile=\"full\" height=\"120\" version=\"1.1\" width=\"120\"><defs/><rect fill=\"#3bb2ff\" height=\"77\" rx=\"10\" ry=\"10\" width=\"100%\" x=\"0.0\" y=\"21.5\"/><text alignment-baseline=\"middle\" fill=\"#000000\" font-family=\"Arial\" font-size=\"45\" font-weight=\"bold\" text-anchor=\"middle\" x=\"50%\" y=\"53%\">02E</text></svg>"
      ],
      "text/plain": [
       "<IPython.core.display.SVG object>"
      ]
     },
     "metadata": {},
     "output_type": "display_data"
    },
    {
     "data": {
      "image/svg+xml": [
       "<svg xmlns=\"http://www.w3.org/2000/svg\" xmlns:ev=\"http://www.w3.org/2001/xml-events\" xmlns:xlink=\"http://www.w3.org/1999/xlink\" baseProfile=\"full\" height=\"120\" version=\"1.1\" width=\"120\"><defs/><rect fill=\"#ea9999\" height=\"77\" rx=\"10\" ry=\"10\" width=\"100%\" x=\"0.0\" y=\"21.5\"/><text alignment-baseline=\"middle\" fill=\"#000000\" font-family=\"Arial\" font-size=\"45\" font-weight=\"bold\" text-anchor=\"middle\" x=\"50%\" y=\"53%\">221</text></svg>"
      ],
      "text/plain": [
       "<IPython.core.display.SVG object>"
      ]
     },
     "metadata": {},
     "output_type": "display_data"
    },
    {
     "data": {
      "image/svg+xml": [
       "<svg xmlns=\"http://www.w3.org/2000/svg\" xmlns:ev=\"http://www.w3.org/2001/xml-events\" xmlns:xlink=\"http://www.w3.org/1999/xlink\" baseProfile=\"full\" height=\"120\" version=\"1.1\" width=\"120\"><defs/><rect fill=\"#ff8ce3\" height=\"77\" rx=\"10\" ry=\"10\" width=\"100%\" x=\"0.0\" y=\"21.5\"/><text alignment-baseline=\"middle\" fill=\"#000000\" font-family=\"Arial\" font-size=\"45\" font-weight=\"bold\" text-anchor=\"middle\" x=\"50%\" y=\"53%\">54</text></svg>"
      ],
      "text/plain": [
       "<IPython.core.display.SVG object>"
      ]
     },
     "metadata": {},
     "output_type": "display_data"
    },
    {
     "data": {
      "image/svg+xml": [
       "<svg xmlns=\"http://www.w3.org/2000/svg\" xmlns:ev=\"http://www.w3.org/2001/xml-events\" xmlns:xlink=\"http://www.w3.org/1999/xlink\" baseProfile=\"full\" height=\"120\" version=\"1.1\" width=\"120\"><defs/><rect fill=\"#e69138\" height=\"77\" rx=\"10\" ry=\"10\" width=\"100%\" x=\"0.0\" y=\"21.5\"/><text alignment-baseline=\"middle\" fill=\"#000000\" font-family=\"Arial\" font-size=\"45\" font-weight=\"bold\" text-anchor=\"middle\" x=\"50%\" y=\"53%\">299</text></svg>"
      ],
      "text/plain": [
       "<IPython.core.display.SVG object>"
      ]
     },
     "metadata": {},
     "output_type": "display_data"
    },
    {
     "data": {
      "image/svg+xml": [
       "<svg xmlns=\"http://www.w3.org/2000/svg\" xmlns:ev=\"http://www.w3.org/2001/xml-events\" xmlns:xlink=\"http://www.w3.org/1999/xlink\" baseProfile=\"full\" height=\"120\" version=\"1.1\" width=\"120\"><defs/><rect fill=\"#b4dbf6\" height=\"77\" rx=\"10\" ry=\"10\" width=\"100%\" x=\"0.0\" y=\"21.5\"/><text alignment-baseline=\"middle\" fill=\"#000000\" font-family=\"Arial\" font-size=\"45\" font-weight=\"bold\" text-anchor=\"middle\" x=\"50%\" y=\"53%\">8B</text></svg>"
      ],
      "text/plain": [
       "<IPython.core.display.SVG object>"
      ]
     },
     "metadata": {},
     "output_type": "display_data"
    },
    {
     "data": {
      "image/svg+xml": [
       "<svg xmlns=\"http://www.w3.org/2000/svg\" xmlns:ev=\"http://www.w3.org/2001/xml-events\" xmlns:xlink=\"http://www.w3.org/1999/xlink\" baseProfile=\"full\" height=\"120\" version=\"1.1\" width=\"120\"><defs/><rect fill=\"#7a6e00\" height=\"77\" rx=\"10\" ry=\"10\" width=\"100%\" x=\"0.0\" y=\"21.5\"/><text alignment-baseline=\"middle\" fill=\"#ffffff\" font-family=\"Arial\" font-size=\"45\" font-weight=\"bold\" text-anchor=\"middle\" x=\"50%\" y=\"53%\">9D</text></svg>"
      ],
      "text/plain": [
       "<IPython.core.display.SVG object>"
      ]
     },
     "metadata": {},
     "output_type": "display_data"
    },
    {
     "data": {
      "image/svg+xml": [
       "<svg xmlns=\"http://www.w3.org/2000/svg\" xmlns:ev=\"http://www.w3.org/2001/xml-events\" xmlns:xlink=\"http://www.w3.org/1999/xlink\" baseProfile=\"full\" height=\"120\" version=\"1.1\" width=\"120\"><defs/><rect fill=\"#3b9860\" height=\"77\" rx=\"10\" ry=\"10\" width=\"100%\" x=\"0.0\" y=\"21.5\"/><text alignment-baseline=\"middle\" fill=\"#ffffff\" font-family=\"Arial\" font-size=\"45\" font-weight=\"bold\" text-anchor=\"middle\" x=\"50%\" y=\"53%\">17B</text></svg>"
      ],
      "text/plain": [
       "<IPython.core.display.SVG object>"
      ]
     },
     "metadata": {},
     "output_type": "display_data"
    },
    {
     "data": {
      "image/svg+xml": [
       "<svg xmlns=\"http://www.w3.org/2000/svg\" xmlns:ev=\"http://www.w3.org/2001/xml-events\" xmlns:xlink=\"http://www.w3.org/1999/xlink\" baseProfile=\"full\" height=\"120\" version=\"1.1\" width=\"120\"><defs/><rect fill=\"#177fc2\" height=\"77\" rx=\"10\" ry=\"10\" width=\"100%\" x=\"0.0\" y=\"21.5\"/><text alignment-baseline=\"middle\" fill=\"#ffffff\" font-family=\"Arial\" font-size=\"45\" font-weight=\"bold\" text-anchor=\"middle\" x=\"50%\" y=\"53%\">23</text></svg>"
      ],
      "text/plain": [
       "<IPython.core.display.SVG object>"
      ]
     },
     "metadata": {},
     "output_type": "display_data"
    },
    {
     "data": {
      "image/svg+xml": [
       "<svg xmlns=\"http://www.w3.org/2000/svg\" xmlns:ev=\"http://www.w3.org/2001/xml-events\" xmlns:xlink=\"http://www.w3.org/1999/xlink\" baseProfile=\"full\" height=\"120\" version=\"1.1\" width=\"120\"><defs/><rect fill=\"#cc0000\" height=\"77\" rx=\"10\" ry=\"10\" width=\"100%\" x=\"0.0\" y=\"21.5\"/><text alignment-baseline=\"middle\" fill=\"#ffffff\" font-family=\"Arial\" font-size=\"45\" font-weight=\"bold\" text-anchor=\"middle\" x=\"50%\" y=\"53%\">40</text></svg>"
      ],
      "text/plain": [
       "<IPython.core.display.SVG object>"
      ]
     },
     "metadata": {},
     "output_type": "display_data"
    },
    {
     "data": {
      "image/svg+xml": [
       "<svg xmlns=\"http://www.w3.org/2000/svg\" xmlns:ev=\"http://www.w3.org/2001/xml-events\" xmlns:xlink=\"http://www.w3.org/1999/xlink\" baseProfile=\"full\" height=\"120\" version=\"1.1\" width=\"120\"><defs/><rect fill=\"#f37941\" height=\"77\" rx=\"10\" ry=\"10\" width=\"100%\" x=\"0.0\" y=\"21.5\"/><text alignment-baseline=\"middle\" fill=\"#000000\" font-family=\"Arial\" font-size=\"45\" font-weight=\"bold\" text-anchor=\"middle\" x=\"50%\" y=\"53%\">41</text></svg>"
      ],
      "text/plain": [
       "<IPython.core.display.SVG object>"
      ]
     },
     "metadata": {},
     "output_type": "display_data"
    },
    {
     "data": {
      "image/svg+xml": [
       "<svg xmlns=\"http://www.w3.org/2000/svg\" xmlns:ev=\"http://www.w3.org/2001/xml-events\" xmlns:xlink=\"http://www.w3.org/1999/xlink\" baseProfile=\"full\" height=\"120\" version=\"1.1\" width=\"120\"><defs/><rect fill=\"#f1c232\" height=\"77\" rx=\"10\" ry=\"10\" width=\"100%\" x=\"0.0\" y=\"21.5\"/><text alignment-baseline=\"middle\" fill=\"#000000\" font-family=\"Arial\" font-size=\"45\" font-weight=\"bold\" text-anchor=\"middle\" x=\"50%\" y=\"53%\">351</text></svg>"
      ],
      "text/plain": [
       "<IPython.core.display.SVG object>"
      ]
     },
     "metadata": {},
     "output_type": "display_data"
    },
    {
     "data": {
      "image/svg+xml": [
       "<svg xmlns=\"http://www.w3.org/2000/svg\" xmlns:ev=\"http://www.w3.org/2001/xml-events\" xmlns:xlink=\"http://www.w3.org/1999/xlink\" baseProfile=\"full\" height=\"120\" version=\"1.1\" width=\"120\"><defs/><rect fill=\"#9f6f16\" height=\"77\" rx=\"10\" ry=\"10\" width=\"100%\" x=\"0.0\" y=\"21.5\"/><text alignment-baseline=\"middle\" fill=\"#ffffff\" font-family=\"Arial\" font-size=\"45\" font-weight=\"bold\" text-anchor=\"middle\" x=\"50%\" y=\"53%\">38</text></svg>"
      ],
      "text/plain": [
       "<IPython.core.display.SVG object>"
      ]
     },
     "metadata": {},
     "output_type": "display_data"
    },
    {
     "data": {
      "image/svg+xml": [
       "<svg xmlns=\"http://www.w3.org/2000/svg\" xmlns:ev=\"http://www.w3.org/2001/xml-events\" xmlns:xlink=\"http://www.w3.org/1999/xlink\" baseProfile=\"full\" height=\"120\" version=\"1.1\" width=\"120\"><defs/><rect fill=\"#38761d\" height=\"77\" rx=\"10\" ry=\"10\" width=\"100%\" x=\"0.0\" y=\"21.5\"/><text alignment-baseline=\"middle\" fill=\"#ffffff\" font-family=\"Arial\" font-size=\"45\" font-weight=\"bold\" text-anchor=\"middle\" x=\"50%\" y=\"53%\">50</text></svg>"
      ],
      "text/plain": [
       "<IPython.core.display.SVG object>"
      ]
     },
     "metadata": {},
     "output_type": "display_data"
    },
    {
     "data": {
      "image/svg+xml": [
       "<svg xmlns=\"http://www.w3.org/2000/svg\" xmlns:ev=\"http://www.w3.org/2001/xml-events\" xmlns:xlink=\"http://www.w3.org/1999/xlink\" baseProfile=\"full\" height=\"120\" version=\"1.1\" width=\"120\"><defs/><rect fill=\"#a88cff\" height=\"77\" rx=\"10\" ry=\"10\" width=\"100%\" x=\"0.0\" y=\"21.5\"/><text alignment-baseline=\"middle\" fill=\"#ffffff\" font-family=\"Arial\" font-size=\"45\" font-weight=\"bold\" text-anchor=\"middle\" x=\"50%\" y=\"53%\">53</text></svg>"
      ],
      "text/plain": [
       "<IPython.core.display.SVG object>"
      ]
     },
     "metadata": {},
     "output_type": "display_data"
    },
    {
     "data": {
      "image/svg+xml": [
       "<svg xmlns=\"http://www.w3.org/2000/svg\" xmlns:ev=\"http://www.w3.org/2001/xml-events\" xmlns:xlink=\"http://www.w3.org/1999/xlink\" baseProfile=\"full\" height=\"120\" version=\"1.1\" width=\"120\"><defs/><rect fill=\"#bf9000\" height=\"77\" rx=\"10\" ry=\"10\" width=\"100%\" x=\"0.0\" y=\"21.5\"/><text alignment-baseline=\"middle\" fill=\"#000000\" font-family=\"Arial\" font-size=\"45\" font-weight=\"bold\" text-anchor=\"middle\" x=\"50%\" y=\"53%\">291</text></svg>"
      ],
      "text/plain": [
       "<IPython.core.display.SVG object>"
      ]
     },
     "metadata": {},
     "output_type": "display_data"
    },
    {
     "data": {
      "image/svg+xml": [
       "<svg xmlns=\"http://www.w3.org/2000/svg\" xmlns:ev=\"http://www.w3.org/2001/xml-events\" xmlns:xlink=\"http://www.w3.org/1999/xlink\" baseProfile=\"full\" height=\"120\" version=\"1.1\" width=\"120\"><defs/><rect fill=\"#f04a72\" height=\"77\" rx=\"10\" ry=\"10\" width=\"100%\" x=\"0.0\" y=\"21.5\"/><text alignment-baseline=\"middle\" fill=\"#ffffff\" font-family=\"Arial\" font-size=\"45\" font-weight=\"bold\" text-anchor=\"middle\" x=\"50%\" y=\"53%\">71</text></svg>"
      ],
      "text/plain": [
       "<IPython.core.display.SVG object>"
      ]
     },
     "metadata": {},
     "output_type": "display_data"
    },
    {
     "data": {
      "image/svg+xml": [
       "<svg xmlns=\"http://www.w3.org/2000/svg\" xmlns:ev=\"http://www.w3.org/2001/xml-events\" xmlns:xlink=\"http://www.w3.org/1999/xlink\" baseProfile=\"full\" height=\"120\" version=\"1.1\" width=\"120\"><defs/><rect fill=\"#f58f53\" height=\"77\" rx=\"10\" ry=\"10\" width=\"100%\" x=\"0.0\" y=\"21.5\"/><text alignment-baseline=\"middle\" fill=\"#000000\" font-family=\"Arial\" font-size=\"45\" font-weight=\"bold\" text-anchor=\"middle\" x=\"50%\" y=\"53%\">311</text></svg>"
      ],
      "text/plain": [
       "<IPython.core.display.SVG object>"
      ]
     },
     "metadata": {},
     "output_type": "display_data"
    },
    {
     "data": {
      "image/svg+xml": [
       "<svg xmlns=\"http://www.w3.org/2000/svg\" xmlns:ev=\"http://www.w3.org/2001/xml-events\" xmlns:xlink=\"http://www.w3.org/1999/xlink\" baseProfile=\"full\" height=\"120\" version=\"1.1\" width=\"120\"><defs/><rect fill=\"#cda796\" height=\"77\" rx=\"10\" ry=\"10\" width=\"100%\" x=\"0.0\" y=\"21.5\"/><text alignment-baseline=\"middle\" fill=\"#000000\" font-family=\"Arial\" font-size=\"45\" font-weight=\"bold\" text-anchor=\"middle\" x=\"50%\" y=\"53%\">18C</text></svg>"
      ],
      "text/plain": [
       "<IPython.core.display.SVG object>"
      ]
     },
     "metadata": {},
     "output_type": "display_data"
    },
    {
     "data": {
      "image/svg+xml": [
       "<svg xmlns=\"http://www.w3.org/2000/svg\" xmlns:ev=\"http://www.w3.org/2001/xml-events\" xmlns:xlink=\"http://www.w3.org/1999/xlink\" baseProfile=\"full\" height=\"120\" version=\"1.1\" width=\"120\"><defs/><rect fill=\"#8a5d99\" height=\"77\" rx=\"10\" ry=\"10\" width=\"100%\" x=\"0.0\" y=\"21.5\"/><text alignment-baseline=\"middle\" fill=\"#ffffff\" font-family=\"Arial\" font-size=\"45\" font-weight=\"bold\" text-anchor=\"middle\" x=\"50%\" y=\"53%\">23</text></svg>"
      ],
      "text/plain": [
       "<IPython.core.display.SVG object>"
      ]
     },
     "metadata": {},
     "output_type": "display_data"
    },
    {
     "data": {
      "image/svg+xml": [
       "<svg xmlns=\"http://www.w3.org/2000/svg\" xmlns:ev=\"http://www.w3.org/2001/xml-events\" xmlns:xlink=\"http://www.w3.org/1999/xlink\" baseProfile=\"full\" height=\"120\" version=\"1.1\" width=\"120\"><defs/><rect fill=\"#e2a34e\" height=\"77\" rx=\"10\" ry=\"10\" width=\"100%\" x=\"0.0\" y=\"21.5\"/><text alignment-baseline=\"middle\" fill=\"#000000\" font-family=\"Arial\" font-size=\"45\" font-weight=\"bold\" text-anchor=\"middle\" x=\"50%\" y=\"53%\">501</text></svg>"
      ],
      "text/plain": [
       "<IPython.core.display.SVG object>"
      ]
     },
     "metadata": {},
     "output_type": "display_data"
    },
    {
     "data": {
      "image/svg+xml": [
       "<svg xmlns=\"http://www.w3.org/2000/svg\" xmlns:ev=\"http://www.w3.org/2001/xml-events\" xmlns:xlink=\"http://www.w3.org/1999/xlink\" baseProfile=\"full\" height=\"120\" version=\"1.1\" width=\"120\"><defs/><rect fill=\"#b398c3\" height=\"77\" rx=\"10\" ry=\"10\" width=\"100%\" x=\"0.0\" y=\"21.5\"/><text alignment-baseline=\"middle\" fill=\"#ffffff\" font-family=\"Arial\" font-size=\"45\" font-weight=\"bold\" text-anchor=\"middle\" x=\"50%\" y=\"53%\">114</text></svg>"
      ],
      "text/plain": [
       "<IPython.core.display.SVG object>"
      ]
     },
     "metadata": {},
     "output_type": "display_data"
    },
    {
     "data": {
      "image/svg+xml": [
       "<svg xmlns=\"http://www.w3.org/2000/svg\" xmlns:ev=\"http://www.w3.org/2001/xml-events\" xmlns:xlink=\"http://www.w3.org/1999/xlink\" baseProfile=\"full\" height=\"120\" version=\"1.1\" width=\"120\"><defs/><rect fill=\"#e78c2a\" height=\"77\" rx=\"10\" ry=\"10\" width=\"100%\" x=\"0.0\" y=\"21.5\"/><text alignment-baseline=\"middle\" fill=\"#000000\" font-family=\"Arial\" font-size=\"45\" font-weight=\"bold\" text-anchor=\"middle\" x=\"50%\" y=\"53%\">16</text></svg>"
      ],
      "text/plain": [
       "<IPython.core.display.SVG object>"
      ]
     },
     "metadata": {},
     "output_type": "display_data"
    },
    {
     "data": {
      "image/svg+xml": [
       "<svg xmlns=\"http://www.w3.org/2000/svg\" xmlns:ev=\"http://www.w3.org/2001/xml-events\" xmlns:xlink=\"http://www.w3.org/1999/xlink\" baseProfile=\"full\" height=\"120\" version=\"1.1\" width=\"120\"><defs/><rect fill=\"#83c491\" height=\"77\" rx=\"10\" ry=\"10\" width=\"100%\" x=\"0.0\" y=\"21.5\"/><text alignment-baseline=\"middle\" fill=\"#000000\" font-family=\"Arial\" font-size=\"45\" font-weight=\"bold\" text-anchor=\"middle\" x=\"50%\" y=\"53%\">644</text></svg>"
      ],
      "text/plain": [
       "<IPython.core.display.SVG object>"
      ]
     },
     "metadata": {},
     "output_type": "display_data"
    },
    {
     "data": {
      "image/svg+xml": [
       "<svg xmlns=\"http://www.w3.org/2000/svg\" xmlns:ev=\"http://www.w3.org/2001/xml-events\" xmlns:xlink=\"http://www.w3.org/1999/xlink\" baseProfile=\"full\" height=\"120\" version=\"1.1\" width=\"120\"><defs/><rect fill=\"#f59eb3\" height=\"77\" rx=\"10\" ry=\"10\" width=\"100%\" x=\"0.0\" y=\"21.5\"/><text alignment-baseline=\"middle\" fill=\"#000000\" font-family=\"Arial\" font-size=\"45\" font-weight=\"bold\" text-anchor=\"middle\" x=\"50%\" y=\"53%\">65</text></svg>"
      ],
      "text/plain": [
       "<IPython.core.display.SVG object>"
      ]
     },
     "metadata": {},
     "output_type": "display_data"
    },
    {
     "data": {
      "image/svg+xml": [
       "<svg xmlns=\"http://www.w3.org/2000/svg\" xmlns:ev=\"http://www.w3.org/2001/xml-events\" xmlns:xlink=\"http://www.w3.org/1999/xlink\" baseProfile=\"full\" height=\"120\" version=\"1.1\" width=\"120\"><defs/><rect fill=\"#f08262\" height=\"77\" rx=\"10\" ry=\"10\" width=\"100%\" x=\"0.0\" y=\"21.5\"/><text alignment-baseline=\"middle\" fill=\"#ffffff\" font-family=\"Arial\" font-size=\"45\" font-weight=\"bold\" text-anchor=\"middle\" x=\"50%\" y=\"53%\">40</text></svg>"
      ],
      "text/plain": [
       "<IPython.core.display.SVG object>"
      ]
     },
     "metadata": {},
     "output_type": "display_data"
    },
    {
     "data": {
      "image/svg+xml": [
       "<svg xmlns=\"http://www.w3.org/2000/svg\" xmlns:ev=\"http://www.w3.org/2001/xml-events\" xmlns:xlink=\"http://www.w3.org/1999/xlink\" baseProfile=\"full\" height=\"120\" version=\"1.1\" width=\"120\"><defs/><rect fill=\"#6c666e\" height=\"77\" rx=\"10\" ry=\"10\" width=\"100%\" x=\"0.0\" y=\"21.5\"/><text alignment-baseline=\"middle\" fill=\"#ffffff\" font-family=\"Arial\" font-size=\"45\" font-weight=\"bold\" text-anchor=\"middle\" x=\"50%\" y=\"53%\">41</text></svg>"
      ],
      "text/plain": [
       "<IPython.core.display.SVG object>"
      ]
     },
     "metadata": {},
     "output_type": "display_data"
    },
    {
     "data": {
      "image/svg+xml": [
       "<svg xmlns=\"http://www.w3.org/2000/svg\" xmlns:ev=\"http://www.w3.org/2001/xml-events\" xmlns:xlink=\"http://www.w3.org/1999/xlink\" baseProfile=\"full\" height=\"120\" version=\"1.1\" width=\"120\"><defs/><rect fill=\"#a2c335\" height=\"77\" rx=\"10\" ry=\"10\" width=\"100%\" x=\"0.0\" y=\"21.5\"/><text alignment-baseline=\"middle\" fill=\"#ffffff\" font-family=\"Arial\" font-size=\"45\" font-weight=\"bold\" text-anchor=\"middle\" x=\"50%\" y=\"53%\">171</text></svg>"
      ],
      "text/plain": [
       "<IPython.core.display.SVG object>"
      ]
     },
     "metadata": {},
     "output_type": "display_data"
    },
    {
     "data": {
      "image/svg+xml": [
       "<svg xmlns=\"http://www.w3.org/2000/svg\" xmlns:ev=\"http://www.w3.org/2001/xml-events\" xmlns:xlink=\"http://www.w3.org/1999/xlink\" baseProfile=\"full\" height=\"120\" version=\"1.1\" width=\"120\"><defs/><rect fill=\"#9a95bb\" height=\"77\" rx=\"10\" ry=\"10\" width=\"100%\" x=\"0.0\" y=\"21.5\"/><text alignment-baseline=\"middle\" fill=\"#ffffff\" font-family=\"Arial\" font-size=\"45\" font-weight=\"bold\" text-anchor=\"middle\" x=\"50%\" y=\"53%\">172</text></svg>"
      ],
      "text/plain": [
       "<IPython.core.display.SVG object>"
      ]
     },
     "metadata": {},
     "output_type": "display_data"
    },
    {
     "data": {
      "image/svg+xml": [
       "<svg xmlns=\"http://www.w3.org/2000/svg\" xmlns:ev=\"http://www.w3.org/2001/xml-events\" xmlns:xlink=\"http://www.w3.org/1999/xlink\" baseProfile=\"full\" height=\"120\" version=\"1.1\" width=\"120\"><defs/><rect fill=\"#8a8946\" height=\"77\" rx=\"10\" ry=\"10\" width=\"100%\" x=\"0.0\" y=\"21.5\"/><text alignment-baseline=\"middle\" fill=\"#ffffff\" font-family=\"Arial\" font-size=\"45\" font-weight=\"bold\" text-anchor=\"middle\" x=\"50%\" y=\"53%\">512</text></svg>"
      ],
      "text/plain": [
       "<IPython.core.display.SVG object>"
      ]
     },
     "metadata": {},
     "output_type": "display_data"
    },
    {
     "data": {
      "image/svg+xml": [
       "<svg xmlns=\"http://www.w3.org/2000/svg\" xmlns:ev=\"http://www.w3.org/2001/xml-events\" xmlns:xlink=\"http://www.w3.org/1999/xlink\" baseProfile=\"full\" height=\"120\" version=\"1.1\" width=\"120\"><defs/><rect fill=\"#9bc0a9\" height=\"77\" rx=\"10\" ry=\"10\" width=\"100%\" x=\"0.0\" y=\"21.5\"/><text alignment-baseline=\"middle\" fill=\"#ffffff\" font-family=\"Arial\" font-size=\"45\" font-weight=\"bold\" text-anchor=\"middle\" x=\"50%\" y=\"53%\">19</text></svg>"
      ],
      "text/plain": [
       "<IPython.core.display.SVG object>"
      ]
     },
     "metadata": {},
     "output_type": "display_data"
    },
    {
     "data": {
      "image/svg+xml": [
       "<svg xmlns=\"http://www.w3.org/2000/svg\" xmlns:ev=\"http://www.w3.org/2001/xml-events\" xmlns:xlink=\"http://www.w3.org/1999/xlink\" baseProfile=\"full\" height=\"120\" version=\"1.1\" width=\"120\"><defs/><rect fill=\"#cec92b\" height=\"77\" rx=\"10\" ry=\"10\" width=\"100%\" x=\"0.0\" y=\"21.5\"/><text alignment-baseline=\"middle\" fill=\"#000000\" font-family=\"Arial\" font-size=\"45\" font-weight=\"bold\" text-anchor=\"middle\" x=\"50%\" y=\"53%\">32</text></svg>"
      ],
      "text/plain": [
       "<IPython.core.display.SVG object>"
      ]
     },
     "metadata": {},
     "output_type": "display_data"
    },
    {
     "data": {
      "image/svg+xml": [
       "<svg xmlns=\"http://www.w3.org/2000/svg\" xmlns:ev=\"http://www.w3.org/2001/xml-events\" xmlns:xlink=\"http://www.w3.org/1999/xlink\" baseProfile=\"full\" height=\"120\" version=\"1.1\" width=\"120\"><defs/><rect fill=\"#98d0c1\" height=\"77\" rx=\"10\" ry=\"10\" width=\"100%\" x=\"0.0\" y=\"21.5\"/><text alignment-baseline=\"middle\" fill=\"#ffffff\" font-family=\"Arial\" font-size=\"45\" font-weight=\"bold\" text-anchor=\"middle\" x=\"50%\" y=\"53%\">50</text></svg>"
      ],
      "text/plain": [
       "<IPython.core.display.SVG object>"
      ]
     },
     "metadata": {},
     "output_type": "display_data"
    },
    {
     "data": {
      "image/svg+xml": [
       "<svg xmlns=\"http://www.w3.org/2000/svg\" xmlns:ev=\"http://www.w3.org/2001/xml-events\" xmlns:xlink=\"http://www.w3.org/1999/xlink\" baseProfile=\"full\" height=\"120\" version=\"1.1\" width=\"120\"><defs/><rect fill=\"#dba2ca\" height=\"77\" rx=\"10\" ry=\"10\" width=\"100%\" x=\"0.0\" y=\"21.5\"/><text alignment-baseline=\"middle\" fill=\"#ffffff\" font-family=\"Arial\" font-size=\"45\" font-weight=\"bold\" text-anchor=\"middle\" x=\"50%\" y=\"53%\">710</text></svg>"
      ],
      "text/plain": [
       "<IPython.core.display.SVG object>"
      ]
     },
     "metadata": {},
     "output_type": "display_data"
    },
    {
     "data": {
      "image/svg+xml": [
       "<svg xmlns=\"http://www.w3.org/2000/svg\" xmlns:ev=\"http://www.w3.org/2001/xml-events\" xmlns:xlink=\"http://www.w3.org/1999/xlink\" baseProfile=\"full\" height=\"120\" version=\"1.1\" width=\"120\"><defs/><rect fill=\"#f28f42\" height=\"77\" rx=\"10\" ry=\"10\" width=\"100%\" x=\"0.0\" y=\"21.5\"/><text alignment-baseline=\"middle\" fill=\"#000000\" font-family=\"Arial\" font-size=\"45\" font-weight=\"bold\" text-anchor=\"middle\" x=\"50%\" y=\"53%\">39</text></svg>"
      ],
      "text/plain": [
       "<IPython.core.display.SVG object>"
      ]
     },
     "metadata": {},
     "output_type": "display_data"
    },
    {
     "data": {
      "image/svg+xml": [
       "<svg xmlns=\"http://www.w3.org/2000/svg\" xmlns:ev=\"http://www.w3.org/2001/xml-events\" xmlns:xlink=\"http://www.w3.org/1999/xlink\" baseProfile=\"full\" height=\"120\" version=\"1.1\" width=\"120\"><defs/><rect fill=\"#98d4e2\" height=\"77\" rx=\"10\" ry=\"10\" width=\"100%\" x=\"0.0\" y=\"21.5\"/><text alignment-baseline=\"middle\" fill=\"#000000\" font-family=\"Arial\" font-size=\"45\" font-weight=\"bold\" text-anchor=\"middle\" x=\"50%\" y=\"53%\">711</text></svg>"
      ],
      "text/plain": [
       "<IPython.core.display.SVG object>"
      ]
     },
     "metadata": {},
     "output_type": "display_data"
    },
    {
     "data": {
      "image/svg+xml": [
       "<svg xmlns=\"http://www.w3.org/2000/svg\" xmlns:ev=\"http://www.w3.org/2001/xml-events\" xmlns:xlink=\"http://www.w3.org/1999/xlink\" baseProfile=\"full\" height=\"120\" version=\"1.1\" width=\"120\"><defs/><rect fill=\"#97b3de\" height=\"77\" rx=\"10\" ry=\"10\" width=\"100%\" x=\"0.0\" y=\"21.5\"/><text alignment-baseline=\"middle\" fill=\"#ffffff\" font-family=\"Arial\" font-size=\"45\" font-weight=\"bold\" text-anchor=\"middle\" x=\"50%\" y=\"53%\">756</text></svg>"
      ],
      "text/plain": [
       "<IPython.core.display.SVG object>"
      ]
     },
     "metadata": {},
     "output_type": "display_data"
    },
    {
     "data": {
      "image/svg+xml": [
       "<svg xmlns=\"http://www.w3.org/2000/svg\" xmlns:ev=\"http://www.w3.org/2001/xml-events\" xmlns:xlink=\"http://www.w3.org/1999/xlink\" baseProfile=\"full\" height=\"120\" version=\"1.1\" width=\"120\"><defs/><rect fill=\"#c29cc8\" height=\"77\" rx=\"10\" ry=\"10\" width=\"100%\" x=\"0.0\" y=\"21.5\"/><text alignment-baseline=\"middle\" fill=\"#000000\" font-family=\"Arial\" font-size=\"45\" font-weight=\"bold\" text-anchor=\"middle\" x=\"50%\" y=\"53%\">65</text></svg>"
      ],
      "text/plain": [
       "<IPython.core.display.SVG object>"
      ]
     },
     "metadata": {},
     "output_type": "display_data"
    },
    {
     "data": {
      "image/svg+xml": [
       "<svg xmlns=\"http://www.w3.org/2000/svg\" xmlns:ev=\"http://www.w3.org/2001/xml-events\" xmlns:xlink=\"http://www.w3.org/1999/xlink\" baseProfile=\"full\" height=\"120\" version=\"1.1\" width=\"120\"><defs/><rect fill=\"#aa7b6a\" height=\"77\" rx=\"10\" ry=\"10\" width=\"100%\" x=\"0.0\" y=\"21.5\"/><text alignment-baseline=\"middle\" fill=\"#000000\" font-family=\"Arial\" font-size=\"45\" font-weight=\"bold\" text-anchor=\"middle\" x=\"50%\" y=\"53%\">04</text></svg>"
      ],
      "text/plain": [
       "<IPython.core.display.SVG object>"
      ]
     },
     "metadata": {},
     "output_type": "display_data"
    },
    {
     "data": {
      "image/svg+xml": [
       "<svg xmlns=\"http://www.w3.org/2000/svg\" xmlns:ev=\"http://www.w3.org/2001/xml-events\" xmlns:xlink=\"http://www.w3.org/1999/xlink\" baseProfile=\"full\" height=\"120\" version=\"1.1\" width=\"120\"><defs/><rect fill=\"#ce9fc5\" height=\"77\" rx=\"10\" ry=\"10\" width=\"100%\" x=\"0.0\" y=\"21.5\"/><text alignment-baseline=\"middle\" fill=\"#000000\" font-family=\"Arial\" font-size=\"45\" font-weight=\"bold\" text-anchor=\"middle\" x=\"50%\" y=\"53%\">20</text></svg>"
      ],
      "text/plain": [
       "<IPython.core.display.SVG object>"
      ]
     },
     "metadata": {},
     "output_type": "display_data"
    },
    {
     "data": {
      "image/svg+xml": [
       "<svg xmlns=\"http://www.w3.org/2000/svg\" xmlns:ev=\"http://www.w3.org/2001/xml-events\" xmlns:xlink=\"http://www.w3.org/1999/xlink\" baseProfile=\"full\" height=\"120\" version=\"1.1\" width=\"120\"><defs/><rect fill=\"#ab7e5c\" height=\"77\" rx=\"10\" ry=\"10\" width=\"100%\" x=\"0.0\" y=\"21.5\"/><text alignment-baseline=\"middle\" fill=\"#ffffff\" font-family=\"Arial\" font-size=\"45\" font-weight=\"bold\" text-anchor=\"middle\" x=\"50%\" y=\"53%\">55</text></svg>"
      ],
      "text/plain": [
       "<IPython.core.display.SVG object>"
      ]
     },
     "metadata": {},
     "output_type": "display_data"
    },
    {
     "data": {
      "image/svg+xml": [
       "<svg xmlns=\"http://www.w3.org/2000/svg\" xmlns:ev=\"http://www.w3.org/2001/xml-events\" xmlns:xlink=\"http://www.w3.org/1999/xlink\" baseProfile=\"full\" height=\"120\" version=\"1.1\" width=\"120\"><defs/><rect fill=\"#f5b5d3\" height=\"77\" rx=\"10\" ry=\"10\" width=\"100%\" x=\"0.0\" y=\"21.5\"/><text alignment-baseline=\"middle\" fill=\"#000000\" font-family=\"Arial\" font-size=\"45\" font-weight=\"bold\" text-anchor=\"middle\" x=\"50%\" y=\"53%\">27</text></svg>"
      ],
      "text/plain": [
       "<IPython.core.display.SVG object>"
      ]
     },
     "metadata": {},
     "output_type": "display_data"
    },
    {
     "data": {
      "image/svg+xml": [
       "<svg xmlns=\"http://www.w3.org/2000/svg\" xmlns:ev=\"http://www.w3.org/2001/xml-events\" xmlns:xlink=\"http://www.w3.org/1999/xlink\" baseProfile=\"full\" height=\"120\" version=\"1.1\" width=\"120\"><defs/><rect fill=\"#83d1f2\" height=\"77\" rx=\"10\" ry=\"10\" width=\"100%\" x=\"0.0\" y=\"21.5\"/><text alignment-baseline=\"middle\" fill=\"#000000\" font-family=\"Arial\" font-size=\"45\" font-weight=\"bold\" text-anchor=\"middle\" x=\"50%\" y=\"53%\">18</text></svg>"
      ],
      "text/plain": [
       "<IPython.core.display.SVG object>"
      ]
     },
     "metadata": {},
     "output_type": "display_data"
    },
    {
     "data": {
      "image/svg+xml": [
       "<svg xmlns=\"http://www.w3.org/2000/svg\" xmlns:ev=\"http://www.w3.org/2001/xml-events\" xmlns:xlink=\"http://www.w3.org/1999/xlink\" baseProfile=\"full\" height=\"120\" version=\"1.1\" width=\"120\"><defs/><rect fill=\"#3bb2ff\" height=\"77\" rx=\"10\" ry=\"10\" width=\"100%\" x=\"0.0\" y=\"21.5\"/><text alignment-baseline=\"middle\" fill=\"#000000\" font-family=\"Arial\" font-size=\"45\" font-weight=\"bold\" text-anchor=\"middle\" x=\"50%\" y=\"53%\">50</text></svg>"
      ],
      "text/plain": [
       "<IPython.core.display.SVG object>"
      ]
     },
     "metadata": {},
     "output_type": "display_data"
    },
    {
     "data": {
      "image/svg+xml": [
       "<svg xmlns=\"http://www.w3.org/2000/svg\" xmlns:ev=\"http://www.w3.org/2001/xml-events\" xmlns:xlink=\"http://www.w3.org/1999/xlink\" baseProfile=\"full\" height=\"120\" version=\"1.1\" width=\"120\"><defs/><rect fill=\"#f0bcd4\" height=\"77\" rx=\"10\" ry=\"10\" width=\"100%\" x=\"0.0\" y=\"21.5\"/><text alignment-baseline=\"middle\" fill=\"#000000\" font-family=\"Arial\" font-size=\"45\" font-weight=\"bold\" text-anchor=\"middle\" x=\"50%\" y=\"53%\">10</text></svg>"
      ],
      "text/plain": [
       "<IPython.core.display.SVG object>"
      ]
     },
     "metadata": {},
     "output_type": "display_data"
    },
    {
     "data": {
      "image/svg+xml": [
       "<svg xmlns=\"http://www.w3.org/2000/svg\" xmlns:ev=\"http://www.w3.org/2001/xml-events\" xmlns:xlink=\"http://www.w3.org/1999/xlink\" baseProfile=\"full\" height=\"120\" version=\"1.1\" width=\"120\"><defs/><rect fill=\"#2cb461\" height=\"77\" rx=\"10\" ry=\"10\" width=\"100%\" x=\"0.0\" y=\"21.5\"/><text alignment-baseline=\"middle\" fill=\"#ffffff\" font-family=\"Arial\" font-size=\"45\" font-weight=\"bold\" text-anchor=\"middle\" x=\"50%\" y=\"53%\">282</text></svg>"
      ],
      "text/plain": [
       "<IPython.core.display.SVG object>"
      ]
     },
     "metadata": {},
     "output_type": "display_data"
    },
    {
     "data": {
      "image/svg+xml": [
       "<svg xmlns=\"http://www.w3.org/2000/svg\" xmlns:ev=\"http://www.w3.org/2001/xml-events\" xmlns:xlink=\"http://www.w3.org/1999/xlink\" baseProfile=\"full\" height=\"120\" version=\"1.1\" width=\"120\"><defs/><rect fill=\"#045ba3\" height=\"77\" rx=\"10\" ry=\"10\" width=\"100%\" x=\"0.0\" y=\"21.5\"/><text alignment-baseline=\"middle\" fill=\"#ffffff\" font-family=\"Arial\" font-size=\"45\" font-weight=\"bold\" text-anchor=\"middle\" x=\"50%\" y=\"53%\">102</text></svg>"
      ],
      "text/plain": [
       "<IPython.core.display.SVG object>"
      ]
     },
     "metadata": {},
     "output_type": "display_data"
    },
    {
     "data": {
      "image/svg+xml": [
       "<svg xmlns=\"http://www.w3.org/2000/svg\" xmlns:ev=\"http://www.w3.org/2001/xml-events\" xmlns:xlink=\"http://www.w3.org/1999/xlink\" baseProfile=\"full\" height=\"120\" version=\"1.1\" width=\"120\"><defs/><rect fill=\"#8ad3de\" height=\"77\" rx=\"10\" ry=\"10\" width=\"100%\" x=\"0.0\" y=\"21.5\"/><text alignment-baseline=\"middle\" fill=\"#000000\" font-family=\"Arial\" font-size=\"45\" font-weight=\"bold\" text-anchor=\"middle\" x=\"50%\" y=\"53%\">07</text></svg>"
      ],
      "text/plain": [
       "<IPython.core.display.SVG object>"
      ]
     },
     "metadata": {},
     "output_type": "display_data"
    },
    {
     "data": {
      "image/svg+xml": [
       "<svg xmlns=\"http://www.w3.org/2000/svg\" xmlns:ev=\"http://www.w3.org/2001/xml-events\" xmlns:xlink=\"http://www.w3.org/1999/xlink\" baseProfile=\"full\" height=\"120\" version=\"1.1\" width=\"120\"><defs/><rect fill=\"#de00d9\" height=\"77\" rx=\"10\" ry=\"10\" width=\"100%\" x=\"0.0\" y=\"21.5\"/><text alignment-baseline=\"middle\" fill=\"#ffffff\" font-family=\"Arial\" font-size=\"45\" font-weight=\"bold\" text-anchor=\"middle\" x=\"50%\" y=\"53%\">19</text></svg>"
      ],
      "text/plain": [
       "<IPython.core.display.SVG object>"
      ]
     },
     "metadata": {},
     "output_type": "display_data"
    },
    {
     "data": {
      "image/svg+xml": [
       "<svg xmlns=\"http://www.w3.org/2000/svg\" xmlns:ev=\"http://www.w3.org/2001/xml-events\" xmlns:xlink=\"http://www.w3.org/1999/xlink\" baseProfile=\"full\" height=\"120\" version=\"1.1\" width=\"120\"><defs/><rect fill=\"#f78f4b\" height=\"77\" rx=\"10\" ry=\"10\" width=\"100%\" x=\"0.0\" y=\"21.5\"/><text alignment-baseline=\"middle\" fill=\"#000000\" font-family=\"Arial\" font-size=\"45\" font-weight=\"bold\" text-anchor=\"middle\" x=\"50%\" y=\"53%\">19</text></svg>"
      ],
      "text/plain": [
       "<IPython.core.display.SVG object>"
      ]
     },
     "metadata": {},
     "output_type": "display_data"
    },
    {
     "data": {
      "image/svg+xml": [
       "<svg xmlns=\"http://www.w3.org/2000/svg\" xmlns:ev=\"http://www.w3.org/2001/xml-events\" xmlns:xlink=\"http://www.w3.org/1999/xlink\" baseProfile=\"full\" height=\"120\" version=\"1.1\" width=\"120\"><defs/><rect fill=\"#f3a4ba\" height=\"77\" rx=\"10\" ry=\"10\" width=\"100%\" x=\"0.0\" y=\"21.5\"/><text alignment-baseline=\"middle\" fill=\"#000000\" font-family=\"Arial\" font-size=\"45\" font-weight=\"bold\" text-anchor=\"middle\" x=\"50%\" y=\"53%\">116</text></svg>"
      ],
      "text/plain": [
       "<IPython.core.display.SVG object>"
      ]
     },
     "metadata": {},
     "output_type": "display_data"
    },
    {
     "data": {
      "image/svg+xml": [
       "<svg xmlns=\"http://www.w3.org/2000/svg\" xmlns:ev=\"http://www.w3.org/2001/xml-events\" xmlns:xlink=\"http://www.w3.org/1999/xlink\" baseProfile=\"full\" height=\"120\" version=\"1.1\" width=\"120\"><defs/><rect fill=\"#ffbe00\" height=\"77\" rx=\"10\" ry=\"10\" width=\"100%\" x=\"0.0\" y=\"21.5\"/><text alignment-baseline=\"middle\" fill=\"#000000\" font-family=\"Arial\" font-size=\"45\" font-weight=\"bold\" text-anchor=\"middle\" x=\"50%\" y=\"53%\">34</text></svg>"
      ],
      "text/plain": [
       "<IPython.core.display.SVG object>"
      ]
     },
     "metadata": {},
     "output_type": "display_data"
    },
    {
     "data": {
      "image/svg+xml": [
       "<svg xmlns=\"http://www.w3.org/2000/svg\" xmlns:ev=\"http://www.w3.org/2001/xml-events\" xmlns:xlink=\"http://www.w3.org/1999/xlink\" baseProfile=\"full\" height=\"120\" version=\"1.1\" width=\"120\"><defs/><rect fill=\"#dfaf47\" height=\"77\" rx=\"10\" ry=\"10\" width=\"100%\" x=\"0.0\" y=\"21.5\"/><text alignment-baseline=\"middle\" fill=\"#ffffff\" font-family=\"Arial\" font-size=\"45\" font-weight=\"bold\" text-anchor=\"middle\" x=\"50%\" y=\"53%\">109</text></svg>"
      ],
      "text/plain": [
       "<IPython.core.display.SVG object>"
      ]
     },
     "metadata": {},
     "output_type": "display_data"
    },
    {
     "data": {
      "image/svg+xml": [
       "<svg xmlns=\"http://www.w3.org/2000/svg\" xmlns:ev=\"http://www.w3.org/2001/xml-events\" xmlns:xlink=\"http://www.w3.org/1999/xlink\" baseProfile=\"full\" height=\"120\" version=\"1.1\" width=\"120\"><defs/><rect fill=\"#0055c8\" height=\"77\" rx=\"10\" ry=\"10\" width=\"100%\" x=\"0.0\" y=\"21.5\"/><text alignment-baseline=\"middle\" fill=\"#ffffff\" font-family=\"Arial\" font-size=\"45\" font-weight=\"bold\" text-anchor=\"middle\" x=\"50%\" y=\"53%\">40</text></svg>"
      ],
      "text/plain": [
       "<IPython.core.display.SVG object>"
      ]
     },
     "metadata": {},
     "output_type": "display_data"
    },
    {
     "data": {
      "image/svg+xml": [
       "<svg xmlns=\"http://www.w3.org/2000/svg\" xmlns:ev=\"http://www.w3.org/2001/xml-events\" xmlns:xlink=\"http://www.w3.org/1999/xlink\" baseProfile=\"full\" height=\"120\" version=\"1.1\" width=\"120\"><defs/><rect fill=\"#00ff00\" height=\"77\" rx=\"10\" ry=\"10\" width=\"100%\" x=\"0.0\" y=\"21.5\"/><text alignment-baseline=\"middle\" fill=\"#000000\" font-family=\"Arial\" font-size=\"45\" font-weight=\"bold\" text-anchor=\"middle\" x=\"50%\" y=\"53%\">9</text></svg>"
      ],
      "text/plain": [
       "<IPython.core.display.SVG object>"
      ]
     },
     "metadata": {},
     "output_type": "display_data"
    },
    {
     "data": {
      "image/svg+xml": [
       "<svg xmlns=\"http://www.w3.org/2000/svg\" xmlns:ev=\"http://www.w3.org/2001/xml-events\" xmlns:xlink=\"http://www.w3.org/1999/xlink\" baseProfile=\"full\" height=\"120\" version=\"1.1\" width=\"120\"><defs/><rect fill=\"#a0006e\" height=\"77\" rx=\"10\" ry=\"10\" width=\"100%\" x=\"0.0\" y=\"21.5\"/><text alignment-baseline=\"middle\" fill=\"#ffffff\" font-family=\"Arial\" font-size=\"45\" font-weight=\"bold\" text-anchor=\"middle\" x=\"50%\" y=\"53%\">59</text></svg>"
      ],
      "text/plain": [
       "<IPython.core.display.SVG object>"
      ]
     },
     "metadata": {},
     "output_type": "display_data"
    },
    {
     "data": {
      "image/svg+xml": [
       "<svg xmlns=\"http://www.w3.org/2000/svg\" xmlns:ev=\"http://www.w3.org/2001/xml-events\" xmlns:xlink=\"http://www.w3.org/1999/xlink\" baseProfile=\"full\" height=\"120\" version=\"1.1\" width=\"120\"><defs/><rect fill=\"#3a8923\" height=\"77\" rx=\"10\" ry=\"10\" width=\"100%\" x=\"0.0\" y=\"21.5\"/><text alignment-baseline=\"middle\" fill=\"#ffffff\" font-family=\"Arial\" font-size=\"45\" font-weight=\"bold\" text-anchor=\"middle\" x=\"50%\" y=\"53%\">209</text></svg>"
      ],
      "text/plain": [
       "<IPython.core.display.SVG object>"
      ]
     },
     "metadata": {},
     "output_type": "display_data"
    },
    {
     "data": {
      "image/svg+xml": [
       "<svg xmlns=\"http://www.w3.org/2000/svg\" xmlns:ev=\"http://www.w3.org/2001/xml-events\" xmlns:xlink=\"http://www.w3.org/1999/xlink\" baseProfile=\"full\" height=\"120\" version=\"1.1\" width=\"120\"><defs/><rect fill=\"#8cad08\" height=\"77\" rx=\"10\" ry=\"10\" width=\"100%\" x=\"0.0\" y=\"21.5\"/><text alignment-baseline=\"middle\" fill=\"#ffffff\" font-family=\"Arial\" font-size=\"45\" font-weight=\"bold\" text-anchor=\"middle\" x=\"50%\" y=\"53%\">105</text></svg>"
      ],
      "text/plain": [
       "<IPython.core.display.SVG object>"
      ]
     },
     "metadata": {},
     "output_type": "display_data"
    },
    {
     "data": {
      "image/svg+xml": [
       "<svg xmlns=\"http://www.w3.org/2000/svg\" xmlns:ev=\"http://www.w3.org/2001/xml-events\" xmlns:xlink=\"http://www.w3.org/1999/xlink\" baseProfile=\"full\" height=\"120\" version=\"1.1\" width=\"120\"><defs/><rect fill=\"#ff6600\" height=\"77\" rx=\"10\" ry=\"10\" width=\"100%\" x=\"0.0\" y=\"21.5\"/><text alignment-baseline=\"middle\" fill=\"#ffffff\" font-family=\"Arial\" font-size=\"45\" font-weight=\"bold\" text-anchor=\"middle\" x=\"50%\" y=\"53%\">207</text></svg>"
      ],
      "text/plain": [
       "<IPython.core.display.SVG object>"
      ]
     },
     "metadata": {},
     "output_type": "display_data"
    },
    {
     "data": {
      "image/svg+xml": [
       "<svg xmlns=\"http://www.w3.org/2000/svg\" xmlns:ev=\"http://www.w3.org/2001/xml-events\" xmlns:xlink=\"http://www.w3.org/1999/xlink\" baseProfile=\"full\" height=\"120\" version=\"1.1\" width=\"120\"><defs/><rect fill=\"#ff7f00\" height=\"77\" rx=\"10\" ry=\"10\" width=\"100%\" x=\"0.0\" y=\"21.5\"/><text alignment-baseline=\"middle\" fill=\"#ffffff\" font-family=\"Arial\" font-size=\"45\" font-weight=\"bold\" text-anchor=\"middle\" x=\"50%\" y=\"53%\">53</text></svg>"
      ],
      "text/plain": [
       "<IPython.core.display.SVG object>"
      ]
     },
     "metadata": {},
     "output_type": "display_data"
    },
    {
     "data": {
      "image/svg+xml": [
       "<svg xmlns=\"http://www.w3.org/2000/svg\" xmlns:ev=\"http://www.w3.org/2001/xml-events\" xmlns:xlink=\"http://www.w3.org/1999/xlink\" baseProfile=\"full\" height=\"120\" version=\"1.1\" width=\"120\"><defs/><rect fill=\"#f04c50\" height=\"77\" rx=\"10\" ry=\"10\" width=\"100%\" x=\"0.0\" y=\"21.5\"/><text alignment-baseline=\"middle\" fill=\"#ffffff\" font-family=\"Arial\" font-size=\"45\" font-weight=\"bold\" text-anchor=\"middle\" x=\"50%\" y=\"53%\">202</text></svg>"
      ],
      "text/plain": [
       "<IPython.core.display.SVG object>"
      ]
     },
     "metadata": {},
     "output_type": "display_data"
    },
    {
     "data": {
      "image/svg+xml": [
       "<svg xmlns=\"http://www.w3.org/2000/svg\" xmlns:ev=\"http://www.w3.org/2001/xml-events\" xmlns:xlink=\"http://www.w3.org/1999/xlink\" baseProfile=\"full\" height=\"120\" version=\"1.1\" width=\"120\"><defs/><rect fill=\"#e62e2b\" height=\"77\" rx=\"10\" ry=\"10\" width=\"100%\" x=\"0.0\" y=\"21.5\"/><text alignment-baseline=\"middle\" fill=\"#ffffff\" font-family=\"Arial\" font-size=\"45\" font-weight=\"bold\" text-anchor=\"middle\" x=\"50%\" y=\"53%\">7A</text></svg>"
      ],
      "text/plain": [
       "<IPython.core.display.SVG object>"
      ]
     },
     "metadata": {},
     "output_type": "display_data"
    },
    {
     "data": {
      "image/svg+xml": [
       "<svg xmlns=\"http://www.w3.org/2000/svg\" xmlns:ev=\"http://www.w3.org/2001/xml-events\" xmlns:xlink=\"http://www.w3.org/1999/xlink\" baseProfile=\"full\" height=\"120\" version=\"1.1\" width=\"120\"><defs/><rect fill=\"#ff7f00\" height=\"77\" rx=\"10\" ry=\"10\" width=\"100%\" x=\"0.0\" y=\"21.5\"/><text alignment-baseline=\"middle\" fill=\"#ffffff\" font-family=\"Arial\" font-size=\"45\" font-weight=\"bold\" text-anchor=\"middle\" x=\"50%\" y=\"53%\">04</text></svg>"
      ],
      "text/plain": [
       "<IPython.core.display.SVG object>"
      ]
     },
     "metadata": {},
     "output_type": "display_data"
    },
    {
     "data": {
      "image/svg+xml": [
       "<svg xmlns=\"http://www.w3.org/2000/svg\" xmlns:ev=\"http://www.w3.org/2001/xml-events\" xmlns:xlink=\"http://www.w3.org/1999/xlink\" baseProfile=\"full\" height=\"120\" version=\"1.1\" width=\"120\"><defs/><rect fill=\"#e72d81\" height=\"77\" rx=\"10\" ry=\"10\" width=\"100%\" x=\"0.0\" y=\"21.5\"/><text alignment-baseline=\"middle\" fill=\"#ffffff\" font-family=\"Arial\" font-size=\"45\" font-weight=\"bold\" text-anchor=\"middle\" x=\"50%\" y=\"53%\">14A</text></svg>"
      ],
      "text/plain": [
       "<IPython.core.display.SVG object>"
      ]
     },
     "metadata": {},
     "output_type": "display_data"
    },
    {
     "data": {
      "image/svg+xml": [
       "<svg xmlns=\"http://www.w3.org/2000/svg\" xmlns:ev=\"http://www.w3.org/2001/xml-events\" xmlns:xlink=\"http://www.w3.org/1999/xlink\" baseProfile=\"full\" height=\"120\" version=\"1.1\" width=\"120\"><defs/><rect fill=\"#2680ff\" height=\"77\" rx=\"10\" ry=\"10\" width=\"100%\" x=\"0.0\" y=\"21.5\"/><text alignment-baseline=\"middle\" fill=\"#000000\" font-family=\"Arial\" font-size=\"45\" font-weight=\"bold\" text-anchor=\"middle\" x=\"50%\" y=\"53%\">7006</text></svg>"
      ],
      "text/plain": [
       "<IPython.core.display.SVG object>"
      ]
     },
     "metadata": {},
     "output_type": "display_data"
    },
    {
     "data": {
      "image/svg+xml": [
       "<svg xmlns=\"http://www.w3.org/2000/svg\" xmlns:ev=\"http://www.w3.org/2001/xml-events\" xmlns:xlink=\"http://www.w3.org/1999/xlink\" baseProfile=\"full\" height=\"120\" version=\"1.1\" width=\"120\"><defs/><rect fill=\"#f79036\" height=\"77\" rx=\"10\" ry=\"10\" width=\"100%\" x=\"0.0\" y=\"21.5\"/><text alignment-baseline=\"middle\" fill=\"#000000\" font-family=\"Arial\" font-size=\"45\" font-weight=\"bold\" text-anchor=\"middle\" x=\"50%\" y=\"53%\">19</text></svg>"
      ],
      "text/plain": [
       "<IPython.core.display.SVG object>"
      ]
     },
     "metadata": {},
     "output_type": "display_data"
    },
    {
     "data": {
      "image/svg+xml": [
       "<svg xmlns=\"http://www.w3.org/2000/svg\" xmlns:ev=\"http://www.w3.org/2001/xml-events\" xmlns:xlink=\"http://www.w3.org/1999/xlink\" baseProfile=\"full\" height=\"120\" version=\"1.1\" width=\"120\"><defs/><rect fill=\"#783f04\" height=\"77\" rx=\"10\" ry=\"10\" width=\"100%\" x=\"0.0\" y=\"21.5\"/><text alignment-baseline=\"middle\" fill=\"#ffffff\" font-family=\"Arial\" font-size=\"45\" font-weight=\"bold\" text-anchor=\"middle\" x=\"50%\" y=\"53%\">8B</text></svg>"
      ],
      "text/plain": [
       "<IPython.core.display.SVG object>"
      ]
     },
     "metadata": {},
     "output_type": "display_data"
    },
    {
     "data": {
      "image/svg+xml": [
       "<svg xmlns=\"http://www.w3.org/2000/svg\" xmlns:ev=\"http://www.w3.org/2001/xml-events\" xmlns:xlink=\"http://www.w3.org/1999/xlink\" baseProfile=\"full\" height=\"120\" version=\"1.1\" width=\"120\"><defs/><rect fill=\"#cc7f3c\" height=\"77\" rx=\"10\" ry=\"10\" width=\"100%\" x=\"0.0\" y=\"21.5\"/><text alignment-baseline=\"middle\" fill=\"#000000\" font-family=\"Arial\" font-size=\"45\" font-weight=\"bold\" text-anchor=\"middle\" x=\"50%\" y=\"53%\">34S1</text></svg>"
      ],
      "text/plain": [
       "<IPython.core.display.SVG object>"
      ]
     },
     "metadata": {},
     "output_type": "display_data"
    },
    {
     "data": {
      "image/svg+xml": [
       "<svg xmlns=\"http://www.w3.org/2000/svg\" xmlns:ev=\"http://www.w3.org/2001/xml-events\" xmlns:xlink=\"http://www.w3.org/1999/xlink\" baseProfile=\"full\" height=\"120\" version=\"1.1\" width=\"120\"><defs/><rect fill=\"#ff0000\" height=\"77\" rx=\"10\" ry=\"10\" width=\"100%\" x=\"0.0\" y=\"21.5\"/><text alignment-baseline=\"middle\" fill=\"#ffffff\" font-family=\"Arial\" font-size=\"45\" font-weight=\"bold\" text-anchor=\"middle\" x=\"50%\" y=\"53%\">7005</text></svg>"
      ],
      "text/plain": [
       "<IPython.core.display.SVG object>"
      ]
     },
     "metadata": {},
     "output_type": "display_data"
    },
    {
     "data": {
      "image/svg+xml": [
       "<svg xmlns=\"http://www.w3.org/2000/svg\" xmlns:ev=\"http://www.w3.org/2001/xml-events\" xmlns:xlink=\"http://www.w3.org/1999/xlink\" baseProfile=\"full\" height=\"120\" version=\"1.1\" width=\"120\"><defs/><rect fill=\"#b95a76\" height=\"77\" rx=\"10\" ry=\"10\" width=\"100%\" x=\"0.0\" y=\"21.5\"/><text alignment-baseline=\"middle\" fill=\"#000000\" font-family=\"Arial\" font-size=\"45\" font-weight=\"bold\" text-anchor=\"middle\" x=\"50%\" y=\"53%\">4A</text></svg>"
      ],
      "text/plain": [
       "<IPython.core.display.SVG object>"
      ]
     },
     "metadata": {},
     "output_type": "display_data"
    },
    {
     "data": {
      "image/svg+xml": [
       "<svg xmlns=\"http://www.w3.org/2000/svg\" xmlns:ev=\"http://www.w3.org/2001/xml-events\" xmlns:xlink=\"http://www.w3.org/1999/xlink\" baseProfile=\"full\" height=\"120\" version=\"1.1\" width=\"120\"><defs/><rect fill=\"#be4999\" height=\"77\" rx=\"10\" ry=\"10\" width=\"100%\" x=\"0.0\" y=\"21.5\"/><text alignment-baseline=\"middle\" fill=\"#ffffff\" font-family=\"Arial\" font-size=\"45\" font-weight=\"bold\" text-anchor=\"middle\" x=\"50%\" y=\"53%\">21</text></svg>"
      ],
      "text/plain": [
       "<IPython.core.display.SVG object>"
      ]
     },
     "metadata": {},
     "output_type": "display_data"
    },
    {
     "data": {
      "image/svg+xml": [
       "<svg xmlns=\"http://www.w3.org/2000/svg\" xmlns:ev=\"http://www.w3.org/2001/xml-events\" xmlns:xlink=\"http://www.w3.org/1999/xlink\" baseProfile=\"full\" height=\"120\" version=\"1.1\" width=\"120\"><defs/><rect fill=\"#cccc00\" height=\"77\" rx=\"10\" ry=\"10\" width=\"100%\" x=\"0.0\" y=\"21.5\"/><text alignment-baseline=\"middle\" fill=\"#ffffff\" font-family=\"Arial\" font-size=\"45\" font-weight=\"bold\" text-anchor=\"middle\" x=\"50%\" y=\"53%\">29A</text></svg>"
      ],
      "text/plain": [
       "<IPython.core.display.SVG object>"
      ]
     },
     "metadata": {},
     "output_type": "display_data"
    },
    {
     "data": {
      "image/svg+xml": [
       "<svg xmlns=\"http://www.w3.org/2000/svg\" xmlns:ev=\"http://www.w3.org/2001/xml-events\" xmlns:xlink=\"http://www.w3.org/1999/xlink\" baseProfile=\"full\" height=\"120\" version=\"1.1\" width=\"120\"><defs/><rect fill=\"#38761d\" height=\"77\" rx=\"10\" ry=\"10\" width=\"100%\" x=\"0.0\" y=\"21.5\"/><text alignment-baseline=\"middle\" fill=\"#ffffff\" font-family=\"Arial\" font-size=\"45\" font-weight=\"bold\" text-anchor=\"middle\" x=\"50%\" y=\"53%\">38</text></svg>"
      ],
      "text/plain": [
       "<IPython.core.display.SVG object>"
      ]
     },
     "metadata": {},
     "output_type": "display_data"
    },
    {
     "data": {
      "image/svg+xml": [
       "<svg xmlns=\"http://www.w3.org/2000/svg\" xmlns:ev=\"http://www.w3.org/2001/xml-events\" xmlns:xlink=\"http://www.w3.org/1999/xlink\" baseProfile=\"full\" height=\"120\" version=\"1.1\" width=\"120\"><defs/><rect fill=\"#cfe2f3\" height=\"77\" rx=\"10\" ry=\"10\" width=\"100%\" x=\"0.0\" y=\"21.5\"/><text alignment-baseline=\"middle\" fill=\"#000000\" font-family=\"Arial\" font-size=\"45\" font-weight=\"bold\" text-anchor=\"middle\" x=\"50%\" y=\"53%\">40</text></svg>"
      ],
      "text/plain": [
       "<IPython.core.display.SVG object>"
      ]
     },
     "metadata": {},
     "output_type": "display_data"
    },
    {
     "data": {
      "image/svg+xml": [
       "<svg xmlns=\"http://www.w3.org/2000/svg\" xmlns:ev=\"http://www.w3.org/2001/xml-events\" xmlns:xlink=\"http://www.w3.org/1999/xlink\" baseProfile=\"full\" height=\"120\" version=\"1.1\" width=\"120\"><defs/><rect fill=\"#dc9600\" height=\"77\" rx=\"10\" ry=\"10\" width=\"100%\" x=\"0.0\" y=\"21.5\"/><text alignment-baseline=\"middle\" fill=\"#000000\" font-family=\"Arial\" font-size=\"45\" font-weight=\"bold\" text-anchor=\"middle\" x=\"50%\" y=\"53%\">91</text></svg>"
      ],
      "text/plain": [
       "<IPython.core.display.SVG object>"
      ]
     },
     "metadata": {},
     "output_type": "display_data"
    },
    {
     "data": {
      "image/svg+xml": [
       "<svg xmlns=\"http://www.w3.org/2000/svg\" xmlns:ev=\"http://www.w3.org/2001/xml-events\" xmlns:xlink=\"http://www.w3.org/1999/xlink\" baseProfile=\"full\" height=\"120\" version=\"1.1\" width=\"120\"><defs/><rect fill=\"#ff82b4\" height=\"77\" rx=\"10\" ry=\"10\" width=\"100%\" x=\"0.0\" y=\"21.5\"/><text alignment-baseline=\"middle\" fill=\"#000000\" font-family=\"Arial\" font-size=\"45\" font-weight=\"bold\" text-anchor=\"middle\" x=\"50%\" y=\"53%\">108</text></svg>"
      ],
      "text/plain": [
       "<IPython.core.display.SVG object>"
      ]
     },
     "metadata": {},
     "output_type": "display_data"
    },
    {
     "data": {
      "image/svg+xml": [
       "<svg xmlns=\"http://www.w3.org/2000/svg\" xmlns:ev=\"http://www.w3.org/2001/xml-events\" xmlns:xlink=\"http://www.w3.org/1999/xlink\" baseProfile=\"full\" height=\"120\" version=\"1.1\" width=\"120\"><defs/><rect fill=\"#d2d200\" height=\"77\" rx=\"10\" ry=\"10\" width=\"100%\" x=\"0.0\" y=\"21.5\"/><text alignment-baseline=\"middle\" fill=\"#000000\" font-family=\"Arial\" font-size=\"45\" font-weight=\"bold\" text-anchor=\"middle\" x=\"50%\" y=\"53%\">109</text></svg>"
      ],
      "text/plain": [
       "<IPython.core.display.SVG object>"
      ]
     },
     "metadata": {},
     "output_type": "display_data"
    },
    {
     "data": {
      "image/svg+xml": [
       "<svg xmlns=\"http://www.w3.org/2000/svg\" xmlns:ev=\"http://www.w3.org/2001/xml-events\" xmlns:xlink=\"http://www.w3.org/1999/xlink\" baseProfile=\"full\" height=\"120\" version=\"1.1\" width=\"120\"><defs/><rect fill=\"#d282be\" height=\"77\" rx=\"10\" ry=\"10\" width=\"100%\" x=\"0.0\" y=\"21.5\"/><text alignment-baseline=\"middle\" fill=\"#000000\" font-family=\"Arial\" font-size=\"45\" font-weight=\"bold\" text-anchor=\"middle\" x=\"50%\" y=\"53%\">111</text></svg>"
      ],
      "text/plain": [
       "<IPython.core.display.SVG object>"
      ]
     },
     "metadata": {},
     "output_type": "display_data"
    },
    {
     "data": {
      "image/svg+xml": [
       "<svg xmlns=\"http://www.w3.org/2000/svg\" xmlns:ev=\"http://www.w3.org/2001/xml-events\" xmlns:xlink=\"http://www.w3.org/1999/xlink\" baseProfile=\"full\" height=\"120\" version=\"1.1\" width=\"120\"><defs/><rect fill=\"#00643c\" height=\"77\" rx=\"10\" ry=\"10\" width=\"100%\" x=\"0.0\" y=\"21.5\"/><text alignment-baseline=\"middle\" fill=\"#ffffff\" font-family=\"Arial\" font-size=\"45\" font-weight=\"bold\" text-anchor=\"middle\" x=\"50%\" y=\"53%\">117</text></svg>"
      ],
      "text/plain": [
       "<IPython.core.display.SVG object>"
      ]
     },
     "metadata": {},
     "output_type": "display_data"
    },
    {
     "data": {
      "image/svg+xml": [
       "<svg xmlns=\"http://www.w3.org/2000/svg\" xmlns:ev=\"http://www.w3.org/2001/xml-events\" xmlns:xlink=\"http://www.w3.org/1999/xlink\" baseProfile=\"full\" height=\"120\" version=\"1.1\" width=\"120\"><defs/><rect fill=\"#dc9600\" height=\"77\" rx=\"10\" ry=\"10\" width=\"100%\" x=\"0.0\" y=\"21.5\"/><text alignment-baseline=\"middle\" fill=\"#000000\" font-family=\"Arial\" font-size=\"45\" font-weight=\"bold\" text-anchor=\"middle\" x=\"50%\" y=\"53%\">118</text></svg>"
      ],
      "text/plain": [
       "<IPython.core.display.SVG object>"
      ]
     },
     "metadata": {},
     "output_type": "display_data"
    },
    {
     "data": {
      "image/svg+xml": [
       "<svg xmlns=\"http://www.w3.org/2000/svg\" xmlns:ev=\"http://www.w3.org/2001/xml-events\" xmlns:xlink=\"http://www.w3.org/1999/xlink\" baseProfile=\"full\" height=\"120\" version=\"1.1\" width=\"120\"><defs/><rect fill=\"#0055c8\" height=\"77\" rx=\"10\" ry=\"10\" width=\"100%\" x=\"0.0\" y=\"21.5\"/><text alignment-baseline=\"middle\" fill=\"#ffffff\" font-family=\"Arial\" font-size=\"45\" font-weight=\"bold\" text-anchor=\"middle\" x=\"50%\" y=\"53%\">125</text></svg>"
      ],
      "text/plain": [
       "<IPython.core.display.SVG object>"
      ]
     },
     "metadata": {},
     "output_type": "display_data"
    },
    {
     "data": {
      "image/svg+xml": [
       "<svg xmlns=\"http://www.w3.org/2000/svg\" xmlns:ev=\"http://www.w3.org/2001/xml-events\" xmlns:xlink=\"http://www.w3.org/1999/xlink\" baseProfile=\"full\" height=\"120\" version=\"1.1\" width=\"120\"><defs/><rect fill=\"#82dc73\" height=\"77\" rx=\"10\" ry=\"10\" width=\"100%\" x=\"0.0\" y=\"21.5\"/><text alignment-baseline=\"middle\" fill=\"#000000\" font-family=\"Arial\" font-size=\"45\" font-weight=\"bold\" text-anchor=\"middle\" x=\"50%\" y=\"53%\">133</text></svg>"
      ],
      "text/plain": [
       "<IPython.core.display.SVG object>"
      ]
     },
     "metadata": {},
     "output_type": "display_data"
    },
    {
     "data": {
      "image/svg+xml": [
       "<svg xmlns=\"http://www.w3.org/2000/svg\" xmlns:ev=\"http://www.w3.org/2001/xml-events\" xmlns:xlink=\"http://www.w3.org/1999/xlink\" baseProfile=\"full\" height=\"120\" version=\"1.1\" width=\"120\"><defs/><rect fill=\"#a0006e\" height=\"77\" rx=\"10\" ry=\"10\" width=\"100%\" x=\"0.0\" y=\"21.5\"/><text alignment-baseline=\"middle\" fill=\"#ffffff\" font-family=\"Arial\" font-size=\"45\" font-weight=\"bold\" text-anchor=\"middle\" x=\"50%\" y=\"53%\">138</text></svg>"
      ],
      "text/plain": [
       "<IPython.core.display.SVG object>"
      ]
     },
     "metadata": {},
     "output_type": "display_data"
    },
    {
     "data": {
      "image/svg+xml": [
       "<svg xmlns=\"http://www.w3.org/2000/svg\" xmlns:ev=\"http://www.w3.org/2001/xml-events\" xmlns:xlink=\"http://www.w3.org/1999/xlink\" baseProfile=\"full\" height=\"120\" version=\"1.1\" width=\"120\"><defs/><rect fill=\"#0055c8\" height=\"77\" rx=\"10\" ry=\"10\" width=\"100%\" x=\"0.0\" y=\"21.5\"/><text alignment-baseline=\"middle\" fill=\"#ffffff\" font-family=\"Arial\" font-size=\"45\" font-weight=\"bold\" text-anchor=\"middle\" x=\"50%\" y=\"53%\">143</text></svg>"
      ],
      "text/plain": [
       "<IPython.core.display.SVG object>"
      ]
     },
     "metadata": {},
     "output_type": "display_data"
    },
    {
     "data": {
      "image/svg+xml": [
       "<svg xmlns=\"http://www.w3.org/2000/svg\" xmlns:ev=\"http://www.w3.org/2001/xml-events\" xmlns:xlink=\"http://www.w3.org/1999/xlink\" baseProfile=\"full\" height=\"120\" version=\"1.1\" width=\"120\"><defs/><rect fill=\"#00643c\" height=\"77\" rx=\"10\" ry=\"10\" width=\"100%\" x=\"0.0\" y=\"21.5\"/><text alignment-baseline=\"middle\" fill=\"#ffffff\" font-family=\"Arial\" font-size=\"45\" font-weight=\"bold\" text-anchor=\"middle\" x=\"50%\" y=\"53%\">486</text></svg>"
      ],
      "text/plain": [
       "<IPython.core.display.SVG object>"
      ]
     },
     "metadata": {},
     "output_type": "display_data"
    },
    {
     "data": {
      "image/svg+xml": [
       "<svg xmlns=\"http://www.w3.org/2000/svg\" xmlns:ev=\"http://www.w3.org/2001/xml-events\" xmlns:xlink=\"http://www.w3.org/1999/xlink\" baseProfile=\"full\" height=\"120\" version=\"1.1\" width=\"120\"><defs/><rect fill=\"#a0006e\" height=\"77\" rx=\"10\" ry=\"10\" width=\"100%\" x=\"0.0\" y=\"21.5\"/><text alignment-baseline=\"middle\" fill=\"#ffffff\" font-family=\"Arial\" font-size=\"45\" font-weight=\"bold\" text-anchor=\"middle\" x=\"50%\" y=\"53%\">182</text></svg>"
      ],
      "text/plain": [
       "<IPython.core.display.SVG object>"
      ]
     },
     "metadata": {},
     "output_type": "display_data"
    },
    {
     "data": {
      "image/svg+xml": [
       "<svg xmlns=\"http://www.w3.org/2000/svg\" xmlns:ev=\"http://www.w3.org/2001/xml-events\" xmlns:xlink=\"http://www.w3.org/1999/xlink\" baseProfile=\"full\" height=\"120\" version=\"1.1\" width=\"120\"><defs/><rect fill=\"#00643c\" height=\"77\" rx=\"10\" ry=\"10\" width=\"100%\" x=\"0.0\" y=\"21.5\"/><text alignment-baseline=\"middle\" fill=\"#ffffff\" font-family=\"Arial\" font-size=\"45\" font-weight=\"bold\" text-anchor=\"middle\" x=\"50%\" y=\"53%\">153</text></svg>"
      ],
      "text/plain": [
       "<IPython.core.display.SVG object>"
      ]
     },
     "metadata": {},
     "output_type": "display_data"
    },
    {
     "data": {
      "image/svg+xml": [
       "<svg xmlns=\"http://www.w3.org/2000/svg\" xmlns:ev=\"http://www.w3.org/2001/xml-events\" xmlns:xlink=\"http://www.w3.org/1999/xlink\" baseProfile=\"full\" height=\"120\" version=\"1.1\" width=\"120\"><defs/><rect fill=\"#640082\" height=\"77\" rx=\"10\" ry=\"10\" width=\"100%\" x=\"0.0\" y=\"21.5\"/><text alignment-baseline=\"middle\" fill=\"#ffffff\" font-family=\"Arial\" font-size=\"45\" font-weight=\"bold\" text-anchor=\"middle\" x=\"50%\" y=\"53%\">159</text></svg>"
      ],
      "text/plain": [
       "<IPython.core.display.SVG object>"
      ]
     },
     "metadata": {},
     "output_type": "display_data"
    },
    {
     "data": {
      "image/svg+xml": [
       "<svg xmlns=\"http://www.w3.org/2000/svg\" xmlns:ev=\"http://www.w3.org/2001/xml-events\" xmlns:xlink=\"http://www.w3.org/1999/xlink\" baseProfile=\"full\" height=\"120\" version=\"1.1\" width=\"120\"><defs/><rect fill=\"#00643c\" height=\"77\" rx=\"10\" ry=\"10\" width=\"100%\" x=\"0.0\" y=\"21.5\"/><text alignment-baseline=\"middle\" fill=\"#ffffff\" font-family=\"Arial\" font-size=\"45\" font-weight=\"bold\" text-anchor=\"middle\" x=\"50%\" y=\"53%\">174</text></svg>"
      ],
      "text/plain": [
       "<IPython.core.display.SVG object>"
      ]
     },
     "metadata": {},
     "output_type": "display_data"
    },
    {
     "data": {
      "image/svg+xml": [
       "<svg xmlns=\"http://www.w3.org/2000/svg\" xmlns:ev=\"http://www.w3.org/2001/xml-events\" xmlns:xlink=\"http://www.w3.org/1999/xlink\" baseProfile=\"full\" height=\"120\" version=\"1.1\" width=\"120\"><defs/><rect fill=\"#ff1400\" height=\"77\" rx=\"10\" ry=\"10\" width=\"100%\" x=\"0.0\" y=\"21.5\"/><text alignment-baseline=\"middle\" fill=\"#ffffff\" font-family=\"Arial\" font-size=\"45\" font-weight=\"bold\" text-anchor=\"middle\" x=\"50%\" y=\"53%\">183</text></svg>"
      ],
      "text/plain": [
       "<IPython.core.display.SVG object>"
      ]
     },
     "metadata": {},
     "output_type": "display_data"
    },
    {
     "data": {
      "image/svg+xml": [
       "<svg xmlns=\"http://www.w3.org/2000/svg\" xmlns:ev=\"http://www.w3.org/2001/xml-events\" xmlns:xlink=\"http://www.w3.org/1999/xlink\" baseProfile=\"full\" height=\"120\" version=\"1.1\" width=\"120\"><defs/><rect fill=\"#dc9600\" height=\"77\" rx=\"10\" ry=\"10\" width=\"100%\" x=\"0.0\" y=\"21.5\"/><text alignment-baseline=\"middle\" fill=\"#000000\" font-family=\"Arial\" font-size=\"45\" font-weight=\"bold\" text-anchor=\"middle\" x=\"50%\" y=\"53%\">184</text></svg>"
      ],
      "text/plain": [
       "<IPython.core.display.SVG object>"
      ]
     },
     "metadata": {},
     "output_type": "display_data"
    },
    {
     "data": {
      "image/svg+xml": [
       "<svg xmlns=\"http://www.w3.org/2000/svg\" xmlns:ev=\"http://www.w3.org/2001/xml-events\" xmlns:xlink=\"http://www.w3.org/1999/xlink\" baseProfile=\"full\" height=\"120\" version=\"1.1\" width=\"120\"><defs/><rect fill=\"#a0006e\" height=\"77\" rx=\"10\" ry=\"10\" width=\"100%\" x=\"0.0\" y=\"21.5\"/><text alignment-baseline=\"middle\" fill=\"#ffffff\" font-family=\"Arial\" font-size=\"45\" font-weight=\"bold\" text-anchor=\"middle\" x=\"50%\" y=\"53%\">195</text></svg>"
      ],
      "text/plain": [
       "<IPython.core.display.SVG object>"
      ]
     },
     "metadata": {},
     "output_type": "display_data"
    },
    {
     "data": {
      "image/svg+xml": [
       "<svg xmlns=\"http://www.w3.org/2000/svg\" xmlns:ev=\"http://www.w3.org/2001/xml-events\" xmlns:xlink=\"http://www.w3.org/1999/xlink\" baseProfile=\"full\" height=\"120\" version=\"1.1\" width=\"120\"><defs/><rect fill=\"#dc9600\" height=\"77\" rx=\"10\" ry=\"10\" width=\"100%\" x=\"0.0\" y=\"21.5\"/><text alignment-baseline=\"middle\" fill=\"#000000\" font-family=\"Arial\" font-size=\"45\" font-weight=\"bold\" text-anchor=\"middle\" x=\"50%\" y=\"53%\">196</text></svg>"
      ],
      "text/plain": [
       "<IPython.core.display.SVG object>"
      ]
     },
     "metadata": {},
     "output_type": "display_data"
    },
    {
     "data": {
      "image/svg+xml": [
       "<svg xmlns=\"http://www.w3.org/2000/svg\" xmlns:ev=\"http://www.w3.org/2001/xml-events\" xmlns:xlink=\"http://www.w3.org/1999/xlink\" baseProfile=\"full\" height=\"120\" version=\"1.1\" width=\"120\"><defs/><rect fill=\"#a0006e\" height=\"77\" rx=\"10\" ry=\"10\" width=\"100%\" x=\"0.0\" y=\"21.5\"/><text alignment-baseline=\"middle\" fill=\"#ffffff\" font-family=\"Arial\" font-size=\"45\" font-weight=\"bold\" text-anchor=\"middle\" x=\"50%\" y=\"53%\">208A</text></svg>"
      ],
      "text/plain": [
       "<IPython.core.display.SVG object>"
      ]
     },
     "metadata": {},
     "output_type": "display_data"
    },
    {
     "data": {
      "image/svg+xml": [
       "<svg xmlns=\"http://www.w3.org/2000/svg\" xmlns:ev=\"http://www.w3.org/2001/xml-events\" xmlns:xlink=\"http://www.w3.org/1999/xlink\" baseProfile=\"full\" height=\"120\" version=\"1.1\" width=\"120\"><defs/><rect fill=\"#82c8e6\" height=\"77\" rx=\"10\" ry=\"10\" width=\"100%\" x=\"0.0\" y=\"21.5\"/><text alignment-baseline=\"middle\" fill=\"#000000\" font-family=\"Arial\" font-size=\"45\" font-weight=\"bold\" text-anchor=\"middle\" x=\"50%\" y=\"53%\">212</text></svg>"
      ],
      "text/plain": [
       "<IPython.core.display.SVG object>"
      ]
     },
     "metadata": {},
     "output_type": "display_data"
    },
    {
     "data": {
      "image/svg+xml": [
       "<svg xmlns=\"http://www.w3.org/2000/svg\" xmlns:ev=\"http://www.w3.org/2001/xml-events\" xmlns:xlink=\"http://www.w3.org/1999/xlink\" baseProfile=\"full\" height=\"120\" version=\"1.1\" width=\"120\"><defs/><rect fill=\"#ffbe00\" height=\"77\" rx=\"10\" ry=\"10\" width=\"100%\" x=\"0.0\" y=\"21.5\"/><text alignment-baseline=\"middle\" fill=\"#000000\" font-family=\"Arial\" font-size=\"45\" font-weight=\"bold\" text-anchor=\"middle\" x=\"50%\" y=\"53%\">235</text></svg>"
      ],
      "text/plain": [
       "<IPython.core.display.SVG object>"
      ]
     },
     "metadata": {},
     "output_type": "display_data"
    },
    {
     "data": {
      "image/svg+xml": [
       "<svg xmlns=\"http://www.w3.org/2000/svg\" xmlns:ev=\"http://www.w3.org/2001/xml-events\" xmlns:xlink=\"http://www.w3.org/1999/xlink\" baseProfile=\"full\" height=\"120\" version=\"1.1\" width=\"120\"><defs/><rect fill=\"#d282be\" height=\"77\" rx=\"10\" ry=\"10\" width=\"100%\" x=\"0.0\" y=\"21.5\"/><text alignment-baseline=\"middle\" fill=\"#000000\" font-family=\"Arial\" font-size=\"45\" font-weight=\"bold\" text-anchor=\"middle\" x=\"50%\" y=\"53%\">237</text></svg>"
      ],
      "text/plain": [
       "<IPython.core.display.SVG object>"
      ]
     },
     "metadata": {},
     "output_type": "display_data"
    },
    {
     "data": {
      "image/svg+xml": [
       "<svg xmlns=\"http://www.w3.org/2000/svg\" xmlns:ev=\"http://www.w3.org/2001/xml-events\" xmlns:xlink=\"http://www.w3.org/1999/xlink\" baseProfile=\"full\" height=\"120\" version=\"1.1\" width=\"120\"><defs/><rect fill=\"#a0006e\" height=\"77\" rx=\"10\" ry=\"10\" width=\"100%\" x=\"0.0\" y=\"21.5\"/><text alignment-baseline=\"middle\" fill=\"#ffffff\" font-family=\"Arial\" font-size=\"45\" font-weight=\"bold\" text-anchor=\"middle\" x=\"50%\" y=\"53%\">239</text></svg>"
      ],
      "text/plain": [
       "<IPython.core.display.SVG object>"
      ]
     },
     "metadata": {},
     "output_type": "display_data"
    },
    {
     "data": {
      "image/svg+xml": [
       "<svg xmlns=\"http://www.w3.org/2000/svg\" xmlns:ev=\"http://www.w3.org/2001/xml-events\" xmlns:xlink=\"http://www.w3.org/1999/xlink\" baseProfile=\"full\" height=\"120\" version=\"1.1\" width=\"120\"><defs/><rect fill=\"#d2d200\" height=\"77\" rx=\"10\" ry=\"10\" width=\"100%\" x=\"0.0\" y=\"21.5\"/><text alignment-baseline=\"middle\" fill=\"#000000\" font-family=\"Arial\" font-size=\"45\" font-weight=\"bold\" text-anchor=\"middle\" x=\"50%\" y=\"53%\">249</text></svg>"
      ],
      "text/plain": [
       "<IPython.core.display.SVG object>"
      ]
     },
     "metadata": {},
     "output_type": "display_data"
    },
    {
     "data": {
      "image/svg+xml": [
       "<svg xmlns=\"http://www.w3.org/2000/svg\" xmlns:ev=\"http://www.w3.org/2001/xml-events\" xmlns:xlink=\"http://www.w3.org/1999/xlink\" baseProfile=\"full\" height=\"120\" version=\"1.1\" width=\"120\"><defs/><rect fill=\"#d282be\" height=\"77\" rx=\"10\" ry=\"10\" width=\"100%\" x=\"0.0\" y=\"21.5\"/><text alignment-baseline=\"middle\" fill=\"#000000\" font-family=\"Arial\" font-size=\"45\" font-weight=\"bold\" text-anchor=\"middle\" x=\"50%\" y=\"53%\">278</text></svg>"
      ],
      "text/plain": [
       "<IPython.core.display.SVG object>"
      ]
     },
     "metadata": {},
     "output_type": "display_data"
    },
    {
     "data": {
      "image/svg+xml": [
       "<svg xmlns=\"http://www.w3.org/2000/svg\" xmlns:ev=\"http://www.w3.org/2001/xml-events\" xmlns:xlink=\"http://www.w3.org/1999/xlink\" baseProfile=\"full\" height=\"120\" version=\"1.1\" width=\"120\"><defs/><rect fill=\"#dc9600\" height=\"77\" rx=\"10\" ry=\"10\" width=\"100%\" x=\"0.0\" y=\"21.5\"/><text alignment-baseline=\"middle\" fill=\"#000000\" font-family=\"Arial\" font-size=\"45\" font-weight=\"bold\" text-anchor=\"middle\" x=\"50%\" y=\"53%\">385</text></svg>"
      ],
      "text/plain": [
       "<IPython.core.display.SVG object>"
      ]
     },
     "metadata": {},
     "output_type": "display_data"
    },
    {
     "data": {
      "image/svg+xml": [
       "<svg xmlns=\"http://www.w3.org/2000/svg\" xmlns:ev=\"http://www.w3.org/2001/xml-events\" xmlns:xlink=\"http://www.w3.org/1999/xlink\" baseProfile=\"full\" height=\"120\" version=\"1.1\" width=\"120\"><defs/><rect fill=\"#d2d200\" height=\"77\" rx=\"10\" ry=\"10\" width=\"100%\" x=\"0.0\" y=\"21.5\"/><text alignment-baseline=\"middle\" fill=\"#000000\" font-family=\"Arial\" font-size=\"45\" font-weight=\"bold\" text-anchor=\"middle\" x=\"50%\" y=\"53%\">304</text></svg>"
      ],
      "text/plain": [
       "<IPython.core.display.SVG object>"
      ]
     },
     "metadata": {},
     "output_type": "display_data"
    },
    {
     "data": {
      "image/svg+xml": [
       "<svg xmlns=\"http://www.w3.org/2000/svg\" xmlns:ev=\"http://www.w3.org/2001/xml-events\" xmlns:xlink=\"http://www.w3.org/1999/xlink\" baseProfile=\"full\" height=\"120\" version=\"1.1\" width=\"120\"><defs/><rect fill=\"#0055c8\" height=\"77\" rx=\"10\" ry=\"10\" width=\"100%\" x=\"0.0\" y=\"21.5\"/><text alignment-baseline=\"middle\" fill=\"#ffffff\" font-family=\"Arial\" font-size=\"45\" font-weight=\"bold\" text-anchor=\"middle\" x=\"50%\" y=\"53%\">306</text></svg>"
      ],
      "text/plain": [
       "<IPython.core.display.SVG object>"
      ]
     },
     "metadata": {},
     "output_type": "display_data"
    },
    {
     "data": {
      "image/svg+xml": [
       "<svg xmlns=\"http://www.w3.org/2000/svg\" xmlns:ev=\"http://www.w3.org/2001/xml-events\" xmlns:xlink=\"http://www.w3.org/1999/xlink\" baseProfile=\"full\" height=\"120\" version=\"1.1\" width=\"120\"><defs/><rect fill=\"#ffbe00\" height=\"77\" rx=\"10\" ry=\"10\" width=\"100%\" x=\"0.0\" y=\"21.5\"/><text alignment-baseline=\"middle\" fill=\"#000000\" font-family=\"Arial\" font-size=\"45\" font-weight=\"bold\" text-anchor=\"middle\" x=\"50%\" y=\"53%\">341</text></svg>"
      ],
      "text/plain": [
       "<IPython.core.display.SVG object>"
      ]
     },
     "metadata": {},
     "output_type": "display_data"
    },
    {
     "data": {
      "image/svg+xml": [
       "<svg xmlns=\"http://www.w3.org/2000/svg\" xmlns:ev=\"http://www.w3.org/2001/xml-events\" xmlns:xlink=\"http://www.w3.org/1999/xlink\" baseProfile=\"full\" height=\"120\" version=\"1.1\" width=\"120\"><defs/><rect fill=\"#0055c8\" height=\"77\" rx=\"10\" ry=\"10\" width=\"100%\" x=\"0.0\" y=\"21.5\"/><text alignment-baseline=\"middle\" fill=\"#ffffff\" font-family=\"Arial\" font-size=\"45\" font-weight=\"bold\" text-anchor=\"middle\" x=\"50%\" y=\"53%\">366</text></svg>"
      ],
      "text/plain": [
       "<IPython.core.display.SVG object>"
      ]
     },
     "metadata": {},
     "output_type": "display_data"
    },
    {
     "data": {
      "image/svg+xml": [
       "<svg xmlns=\"http://www.w3.org/2000/svg\" xmlns:ev=\"http://www.w3.org/2001/xml-events\" xmlns:xlink=\"http://www.w3.org/1999/xlink\" baseProfile=\"full\" height=\"120\" version=\"1.1\" width=\"120\"><defs/><rect fill=\"#ffbe00\" height=\"77\" rx=\"10\" ry=\"10\" width=\"100%\" x=\"0.0\" y=\"21.5\"/><text alignment-baseline=\"middle\" fill=\"#000000\" font-family=\"Arial\" font-size=\"45\" font-weight=\"bold\" text-anchor=\"middle\" x=\"50%\" y=\"53%\">367</text></svg>"
      ],
      "text/plain": [
       "<IPython.core.display.SVG object>"
      ]
     },
     "metadata": {},
     "output_type": "display_data"
    },
    {
     "data": {
      "image/svg+xml": [
       "<svg xmlns=\"http://www.w3.org/2000/svg\" xmlns:ev=\"http://www.w3.org/2001/xml-events\" xmlns:xlink=\"http://www.w3.org/1999/xlink\" baseProfile=\"full\" height=\"120\" version=\"1.1\" width=\"120\"><defs/><rect fill=\"#ffbe00\" height=\"77\" rx=\"10\" ry=\"10\" width=\"100%\" x=\"0.0\" y=\"21.5\"/><text alignment-baseline=\"middle\" fill=\"#000000\" font-family=\"Arial\" font-size=\"45\" font-weight=\"bold\" text-anchor=\"middle\" x=\"50%\" y=\"53%\">388</text></svg>"
      ],
      "text/plain": [
       "<IPython.core.display.SVG object>"
      ]
     },
     "metadata": {},
     "output_type": "display_data"
    },
    {
     "data": {
      "image/svg+xml": [
       "<svg xmlns=\"http://www.w3.org/2000/svg\" xmlns:ev=\"http://www.w3.org/2001/xml-events\" xmlns:xlink=\"http://www.w3.org/1999/xlink\" baseProfile=\"full\" height=\"120\" version=\"1.1\" width=\"120\"><defs/><rect fill=\"#f59bbb\" height=\"77\" rx=\"10\" ry=\"10\" width=\"100%\" x=\"0.0\" y=\"21.5\"/><text alignment-baseline=\"middle\" fill=\"#000000\" font-family=\"Arial\" font-size=\"45\" font-weight=\"bold\" text-anchor=\"middle\" x=\"50%\" y=\"53%\">02</text></svg>"
      ],
      "text/plain": [
       "<IPython.core.display.SVG object>"
      ]
     },
     "metadata": {},
     "output_type": "display_data"
    },
    {
     "data": {
      "image/svg+xml": [
       "<svg xmlns=\"http://www.w3.org/2000/svg\" xmlns:ev=\"http://www.w3.org/2001/xml-events\" xmlns:xlink=\"http://www.w3.org/1999/xlink\" baseProfile=\"full\" height=\"120\" version=\"1.1\" width=\"120\"><defs/><rect fill=\"#bd1220\" height=\"77\" rx=\"10\" ry=\"10\" width=\"100%\" x=\"0.0\" y=\"21.5\"/><text alignment-baseline=\"middle\" fill=\"#ffffff\" font-family=\"Arial\" font-size=\"45\" font-weight=\"bold\" text-anchor=\"middle\" x=\"50%\" y=\"53%\">113</text></svg>"
      ],
      "text/plain": [
       "<IPython.core.display.SVG object>"
      ]
     },
     "metadata": {},
     "output_type": "display_data"
    },
    {
     "data": {
      "image/svg+xml": [
       "<svg xmlns=\"http://www.w3.org/2000/svg\" xmlns:ev=\"http://www.w3.org/2001/xml-events\" xmlns:xlink=\"http://www.w3.org/1999/xlink\" baseProfile=\"full\" height=\"120\" version=\"1.1\" width=\"120\"><defs/><rect fill=\"#640082\" height=\"77\" rx=\"10\" ry=\"10\" width=\"100%\" x=\"0.0\" y=\"21.5\"/><text alignment-baseline=\"middle\" fill=\"#ffffff\" font-family=\"Arial\" font-size=\"45\" font-weight=\"bold\" text-anchor=\"middle\" x=\"50%\" y=\"53%\">394</text></svg>"
      ],
      "text/plain": [
       "<IPython.core.display.SVG object>"
      ]
     },
     "metadata": {},
     "output_type": "display_data"
    },
    {
     "data": {
      "image/svg+xml": [
       "<svg xmlns=\"http://www.w3.org/2000/svg\" xmlns:ev=\"http://www.w3.org/2001/xml-events\" xmlns:xlink=\"http://www.w3.org/1999/xlink\" baseProfile=\"full\" height=\"120\" version=\"1.1\" width=\"120\"><defs/><rect fill=\"#d2d200\" height=\"77\" rx=\"10\" ry=\"10\" width=\"100%\" x=\"0.0\" y=\"21.5\"/><text alignment-baseline=\"middle\" fill=\"#000000\" font-family=\"Arial\" font-size=\"45\" font-weight=\"bold\" text-anchor=\"middle\" x=\"50%\" y=\"53%\">N52</text></svg>"
      ],
      "text/plain": [
       "<IPython.core.display.SVG object>"
      ]
     },
     "metadata": {},
     "output_type": "display_data"
    },
    {
     "data": {
      "image/svg+xml": [
       "<svg xmlns=\"http://www.w3.org/2000/svg\" xmlns:ev=\"http://www.w3.org/2001/xml-events\" xmlns:xlink=\"http://www.w3.org/1999/xlink\" baseProfile=\"full\" height=\"120\" version=\"1.1\" width=\"120\"><defs/><rect fill=\"#82dc73\" height=\"77\" rx=\"10\" ry=\"10\" width=\"100%\" x=\"0.0\" y=\"21.5\"/><text alignment-baseline=\"middle\" fill=\"#000000\" font-family=\"Arial\" font-size=\"45\" font-weight=\"bold\" text-anchor=\"middle\" x=\"50%\" y=\"53%\">N44</text></svg>"
      ],
      "text/plain": [
       "<IPython.core.display.SVG object>"
      ]
     },
     "metadata": {},
     "output_type": "display_data"
    },
    {
     "data": {
      "image/svg+xml": [
       "<svg xmlns=\"http://www.w3.org/2000/svg\" xmlns:ev=\"http://www.w3.org/2001/xml-events\" xmlns:xlink=\"http://www.w3.org/1999/xlink\" baseProfile=\"full\" height=\"120\" version=\"1.1\" width=\"120\"><defs/><rect fill=\"#ffbe00\" height=\"77\" rx=\"10\" ry=\"10\" width=\"100%\" x=\"0.0\" y=\"21.5\"/><text alignment-baseline=\"middle\" fill=\"#000000\" font-family=\"Arial\" font-size=\"45\" font-weight=\"bold\" text-anchor=\"middle\" x=\"50%\" y=\"53%\">N15</text></svg>"
      ],
      "text/plain": [
       "<IPython.core.display.SVG object>"
      ]
     },
     "metadata": {},
     "output_type": "display_data"
    },
    {
     "data": {
      "image/svg+xml": [
       "<svg xmlns=\"http://www.w3.org/2000/svg\" xmlns:ev=\"http://www.w3.org/2001/xml-events\" xmlns:xlink=\"http://www.w3.org/1999/xlink\" baseProfile=\"full\" height=\"120\" version=\"1.1\" width=\"120\"><defs/><rect fill=\"#ff1400\" height=\"77\" rx=\"10\" ry=\"10\" width=\"100%\" x=\"0.0\" y=\"21.5\"/><text alignment-baseline=\"middle\" fill=\"#ffffff\" font-family=\"Arial\" font-size=\"45\" font-weight=\"bold\" text-anchor=\"middle\" x=\"50%\" y=\"53%\">N66</text></svg>"
      ],
      "text/plain": [
       "<IPython.core.display.SVG object>"
      ]
     },
     "metadata": {},
     "output_type": "display_data"
    },
    {
     "data": {
      "image/svg+xml": [
       "<svg xmlns=\"http://www.w3.org/2000/svg\" xmlns:ev=\"http://www.w3.org/2001/xml-events\" xmlns:xlink=\"http://www.w3.org/1999/xlink\" baseProfile=\"full\" height=\"120\" version=\"1.1\" width=\"120\"><defs/><rect fill=\"#9185be\" height=\"77\" rx=\"10\" ry=\"10\" width=\"100%\" x=\"0.0\" y=\"21.5\"/><text alignment-baseline=\"middle\" fill=\"#ffffff\" font-family=\"Arial\" font-size=\"45\" font-weight=\"bold\" text-anchor=\"middle\" x=\"50%\" y=\"53%\">456</text></svg>"
      ],
      "text/plain": [
       "<IPython.core.display.SVG object>"
      ]
     },
     "metadata": {},
     "output_type": "display_data"
    },
    {
     "data": {
      "image/svg+xml": [
       "<svg xmlns=\"http://www.w3.org/2000/svg\" xmlns:ev=\"http://www.w3.org/2001/xml-events\" xmlns:xlink=\"http://www.w3.org/1999/xlink\" baseProfile=\"full\" height=\"120\" version=\"1.1\" width=\"120\"><defs/><rect fill=\"#82dc73\" height=\"77\" rx=\"10\" ry=\"10\" width=\"100%\" x=\"0.0\" y=\"21.5\"/><text alignment-baseline=\"middle\" fill=\"#000000\" font-family=\"Arial\" font-size=\"45\" font-weight=\"bold\" text-anchor=\"middle\" x=\"50%\" y=\"53%\">254</text></svg>"
      ],
      "text/plain": [
       "<IPython.core.display.SVG object>"
      ]
     },
     "metadata": {},
     "output_type": "display_data"
    },
    {
     "data": {
      "image/svg+xml": [
       "<svg xmlns=\"http://www.w3.org/2000/svg\" xmlns:ev=\"http://www.w3.org/2001/xml-events\" xmlns:xlink=\"http://www.w3.org/1999/xlink\" baseProfile=\"full\" height=\"120\" version=\"1.1\" width=\"120\"><defs/><rect fill=\"#e74215\" height=\"77\" rx=\"10\" ry=\"10\" width=\"100%\" x=\"0.0\" y=\"21.5\"/><text alignment-baseline=\"middle\" fill=\"#ffffff\" font-family=\"Arial\" font-size=\"45\" font-weight=\"bold\" text-anchor=\"middle\" x=\"50%\" y=\"53%\">418</text></svg>"
      ],
      "text/plain": [
       "<IPython.core.display.SVG object>"
      ]
     },
     "metadata": {},
     "output_type": "display_data"
    },
    {
     "data": {
      "image/svg+xml": [
       "<svg xmlns=\"http://www.w3.org/2000/svg\" xmlns:ev=\"http://www.w3.org/2001/xml-events\" xmlns:xlink=\"http://www.w3.org/1999/xlink\" baseProfile=\"full\" height=\"120\" version=\"1.1\" width=\"120\"><defs/><rect fill=\"#ff82b4\" height=\"77\" rx=\"10\" ry=\"10\" width=\"100%\" x=\"0.0\" y=\"21.5\"/><text alignment-baseline=\"middle\" fill=\"#000000\" font-family=\"Arial\" font-size=\"45\" font-weight=\"bold\" text-anchor=\"middle\" x=\"50%\" y=\"53%\">47</text></svg>"
      ],
      "text/plain": [
       "<IPython.core.display.SVG object>"
      ]
     },
     "metadata": {},
     "output_type": "display_data"
    },
    {
     "data": {
      "image/svg+xml": [
       "<svg xmlns=\"http://www.w3.org/2000/svg\" xmlns:ev=\"http://www.w3.org/2001/xml-events\" xmlns:xlink=\"http://www.w3.org/1999/xlink\" baseProfile=\"full\" height=\"120\" version=\"1.1\" width=\"120\"><defs/><rect fill=\"#82c8e6\" height=\"77\" rx=\"10\" ry=\"10\" width=\"100%\" x=\"0.0\" y=\"21.5\"/><text alignment-baseline=\"middle\" fill=\"#000000\" font-family=\"Arial\" font-size=\"45\" font-weight=\"bold\" text-anchor=\"middle\" x=\"50%\" y=\"53%\">54</text></svg>"
      ],
      "text/plain": [
       "<IPython.core.display.SVG object>"
      ]
     },
     "metadata": {},
     "output_type": "display_data"
    },
    {
     "data": {
      "image/svg+xml": [
       "<svg xmlns=\"http://www.w3.org/2000/svg\" xmlns:ev=\"http://www.w3.org/2001/xml-events\" xmlns:xlink=\"http://www.w3.org/1999/xlink\" baseProfile=\"full\" height=\"120\" version=\"1.1\" width=\"120\"><defs/><rect fill=\"#00643c\" height=\"77\" rx=\"10\" ry=\"10\" width=\"100%\" x=\"0.0\" y=\"21.5\"/><text alignment-baseline=\"middle\" fill=\"#ffffff\" font-family=\"Arial\" font-size=\"45\" font-weight=\"bold\" text-anchor=\"middle\" x=\"50%\" y=\"53%\">58</text></svg>"
      ],
      "text/plain": [
       "<IPython.core.display.SVG object>"
      ]
     },
     "metadata": {},
     "output_type": "display_data"
    },
    {
     "data": {
      "image/svg+xml": [
       "<svg xmlns=\"http://www.w3.org/2000/svg\" xmlns:ev=\"http://www.w3.org/2001/xml-events\" xmlns:xlink=\"http://www.w3.org/1999/xlink\" baseProfile=\"full\" height=\"120\" version=\"1.1\" width=\"120\"><defs/><rect fill=\"#ff1400\" height=\"77\" rx=\"10\" ry=\"10\" width=\"100%\" x=\"0.0\" y=\"21.5\"/><text alignment-baseline=\"middle\" fill=\"#ffffff\" font-family=\"Arial\" font-size=\"45\" font-weight=\"bold\" text-anchor=\"middle\" x=\"50%\" y=\"53%\">60</text></svg>"
      ],
      "text/plain": [
       "<IPython.core.display.SVG object>"
      ]
     },
     "metadata": {},
     "output_type": "display_data"
    },
    {
     "data": {
      "image/svg+xml": [
       "<svg xmlns=\"http://www.w3.org/2000/svg\" xmlns:ev=\"http://www.w3.org/2001/xml-events\" xmlns:xlink=\"http://www.w3.org/1999/xlink\" baseProfile=\"full\" height=\"120\" version=\"1.1\" width=\"120\"><defs/><rect fill=\"#db0073\" height=\"77\" rx=\"10\" ry=\"10\" width=\"100%\" x=\"0.0\" y=\"21.5\"/><text alignment-baseline=\"middle\" fill=\"#ffffff\" font-family=\"Arial\" font-size=\"45\" font-weight=\"bold\" text-anchor=\"middle\" x=\"50%\" y=\"53%\">205</text></svg>"
      ],
      "text/plain": [
       "<IPython.core.display.SVG object>"
      ]
     },
     "metadata": {},
     "output_type": "display_data"
    },
    {
     "data": {
      "image/svg+xml": [
       "<svg xmlns=\"http://www.w3.org/2000/svg\" xmlns:ev=\"http://www.w3.org/2001/xml-events\" xmlns:xlink=\"http://www.w3.org/1999/xlink\" baseProfile=\"full\" height=\"120\" version=\"1.1\" width=\"120\"><defs/><rect fill=\"#f9aa0d\" height=\"77\" rx=\"10\" ry=\"10\" width=\"100%\" x=\"0.0\" y=\"21.5\"/><text alignment-baseline=\"middle\" fill=\"#000000\" font-family=\"Arial\" font-size=\"45\" font-weight=\"bold\" text-anchor=\"middle\" x=\"50%\" y=\"53%\">203</text></svg>"
      ],
      "text/plain": [
       "<IPython.core.display.SVG object>"
      ]
     },
     "metadata": {},
     "output_type": "display_data"
    },
    {
     "data": {
      "image/svg+xml": [
       "<svg xmlns=\"http://www.w3.org/2000/svg\" xmlns:ev=\"http://www.w3.org/2001/xml-events\" xmlns:xlink=\"http://www.w3.org/1999/xlink\" baseProfile=\"full\" height=\"120\" version=\"1.1\" width=\"120\"><defs/><rect fill=\"#1d1d1b\" height=\"77\" rx=\"10\" ry=\"10\" width=\"100%\" x=\"0.0\" y=\"21.5\"/><text alignment-baseline=\"middle\" fill=\"#ffffff\" font-family=\"Arial\" font-size=\"45\" font-weight=\"bold\" text-anchor=\"middle\" x=\"50%\" y=\"53%\">1</text></svg>"
      ],
      "text/plain": [
       "<IPython.core.display.SVG object>"
      ]
     },
     "metadata": {},
     "output_type": "display_data"
    },
    {
     "data": {
      "image/svg+xml": [
       "<svg xmlns=\"http://www.w3.org/2000/svg\" xmlns:ev=\"http://www.w3.org/2001/xml-events\" xmlns:xlink=\"http://www.w3.org/1999/xlink\" baseProfile=\"full\" height=\"120\" version=\"1.1\" width=\"120\"><defs/><rect fill=\"#82dc73\" height=\"77\" rx=\"10\" ry=\"10\" width=\"100%\" x=\"0.0\" y=\"21.5\"/><text alignment-baseline=\"middle\" fill=\"#000000\" font-family=\"Arial\" font-size=\"45\" font-weight=\"bold\" text-anchor=\"middle\" x=\"50%\" y=\"53%\">64</text></svg>"
      ],
      "text/plain": [
       "<IPython.core.display.SVG object>"
      ]
     },
     "metadata": {},
     "output_type": "display_data"
    },
    {
     "data": {
      "image/svg+xml": [
       "<svg xmlns=\"http://www.w3.org/2000/svg\" xmlns:ev=\"http://www.w3.org/2001/xml-events\" xmlns:xlink=\"http://www.w3.org/1999/xlink\" baseProfile=\"full\" height=\"120\" version=\"1.1\" width=\"120\"><defs/><rect fill=\"#00643c\" height=\"77\" rx=\"10\" ry=\"10\" width=\"100%\" x=\"0.0\" y=\"21.5\"/><text alignment-baseline=\"middle\" fill=\"#ffffff\" font-family=\"Arial\" font-size=\"45\" font-weight=\"bold\" text-anchor=\"middle\" x=\"50%\" y=\"53%\">66</text></svg>"
      ],
      "text/plain": [
       "<IPython.core.display.SVG object>"
      ]
     },
     "metadata": {},
     "output_type": "display_data"
    },
    {
     "data": {
      "image/svg+xml": [
       "<svg xmlns=\"http://www.w3.org/2000/svg\" xmlns:ev=\"http://www.w3.org/2001/xml-events\" xmlns:xlink=\"http://www.w3.org/1999/xlink\" baseProfile=\"full\" height=\"120\" version=\"1.1\" width=\"120\"><defs/><rect fill=\"#ff82b4\" height=\"77\" rx=\"10\" ry=\"10\" width=\"100%\" x=\"0.0\" y=\"21.5\"/><text alignment-baseline=\"middle\" fill=\"#000000\" font-family=\"Arial\" font-size=\"45\" font-weight=\"bold\" text-anchor=\"middle\" x=\"50%\" y=\"53%\">67</text></svg>"
      ],
      "text/plain": [
       "<IPython.core.display.SVG object>"
      ]
     },
     "metadata": {},
     "output_type": "display_data"
    },
    {
     "data": {
      "image/svg+xml": [
       "<svg xmlns=\"http://www.w3.org/2000/svg\" xmlns:ev=\"http://www.w3.org/2001/xml-events\" xmlns:xlink=\"http://www.w3.org/1999/xlink\" baseProfile=\"full\" height=\"120\" version=\"1.1\" width=\"120\"><defs/><rect fill=\"#6e5b1e\" height=\"77\" rx=\"10\" ry=\"10\" width=\"100%\" x=\"0.0\" y=\"21.5\"/><text alignment-baseline=\"middle\" fill=\"#ffffff\" font-family=\"Arial\" font-size=\"45\" font-weight=\"bold\" text-anchor=\"middle\" x=\"50%\" y=\"53%\">73</text></svg>"
      ],
      "text/plain": [
       "<IPython.core.display.SVG object>"
      ]
     },
     "metadata": {},
     "output_type": "display_data"
    },
    {
     "data": {
      "image/svg+xml": [
       "<svg xmlns=\"http://www.w3.org/2000/svg\" xmlns:ev=\"http://www.w3.org/2001/xml-events\" xmlns:xlink=\"http://www.w3.org/1999/xlink\" baseProfile=\"full\" height=\"120\" version=\"1.1\" width=\"120\"><defs/><rect fill=\"#ffbe00\" height=\"77\" rx=\"10\" ry=\"10\" width=\"100%\" x=\"0.0\" y=\"21.5\"/><text alignment-baseline=\"middle\" fill=\"#000000\" font-family=\"Arial\" font-size=\"45\" font-weight=\"bold\" text-anchor=\"middle\" x=\"50%\" y=\"53%\">75</text></svg>"
      ],
      "text/plain": [
       "<IPython.core.display.SVG object>"
      ]
     },
     "metadata": {},
     "output_type": "display_data"
    },
    {
     "data": {
      "image/svg+xml": [
       "<svg xmlns=\"http://www.w3.org/2000/svg\" xmlns:ev=\"http://www.w3.org/2001/xml-events\" xmlns:xlink=\"http://www.w3.org/1999/xlink\" baseProfile=\"full\" height=\"120\" version=\"1.1\" width=\"120\"><defs/><rect fill=\"#b6134c\" height=\"77\" rx=\"10\" ry=\"10\" width=\"100%\" x=\"0.0\" y=\"21.5\"/><text alignment-baseline=\"middle\" fill=\"#ffffff\" font-family=\"Arial\" font-size=\"45\" font-weight=\"bold\" text-anchor=\"middle\" x=\"50%\" y=\"53%\">57</text></svg>"
      ],
      "text/plain": [
       "<IPython.core.display.SVG object>"
      ]
     },
     "metadata": {},
     "output_type": "display_data"
    },
    {
     "data": {
      "image/svg+xml": [
       "<svg xmlns=\"http://www.w3.org/2000/svg\" xmlns:ev=\"http://www.w3.org/2001/xml-events\" xmlns:xlink=\"http://www.w3.org/1999/xlink\" baseProfile=\"full\" height=\"120\" version=\"1.1\" width=\"120\"><defs/><rect fill=\"#ff5a00\" height=\"77\" rx=\"10\" ry=\"10\" width=\"100%\" x=\"0.0\" y=\"21.5\"/><text alignment-baseline=\"middle\" fill=\"#000000\" font-family=\"Arial\" font-size=\"45\" font-weight=\"bold\" text-anchor=\"middle\" x=\"50%\" y=\"53%\">82</text></svg>"
      ],
      "text/plain": [
       "<IPython.core.display.SVG object>"
      ]
     },
     "metadata": {},
     "output_type": "display_data"
    },
    {
     "data": {
      "image/svg+xml": [
       "<svg xmlns=\"http://www.w3.org/2000/svg\" xmlns:ev=\"http://www.w3.org/2001/xml-events\" xmlns:xlink=\"http://www.w3.org/1999/xlink\" baseProfile=\"full\" height=\"120\" version=\"1.1\" width=\"120\"><defs/><rect fill=\"#8d5e2a\" height=\"77\" rx=\"10\" ry=\"10\" width=\"100%\" x=\"0.0\" y=\"21.5\"/><text alignment-baseline=\"middle\" fill=\"#ffffff\" font-family=\"Arial\" font-size=\"45\" font-weight=\"bold\" text-anchor=\"middle\" x=\"50%\" y=\"53%\">121</text></svg>"
      ],
      "text/plain": [
       "<IPython.core.display.SVG object>"
      ]
     },
     "metadata": {},
     "output_type": "display_data"
    },
    {
     "data": {
      "image/svg+xml": [
       "<svg xmlns=\"http://www.w3.org/2000/svg\" xmlns:ev=\"http://www.w3.org/2001/xml-events\" xmlns:xlink=\"http://www.w3.org/1999/xlink\" baseProfile=\"full\" height=\"120\" version=\"1.1\" width=\"120\"><defs/><rect fill=\"#ff0000\" height=\"77\" rx=\"10\" ry=\"10\" width=\"100%\" x=\"0.0\" y=\"21.5\"/><text alignment-baseline=\"middle\" fill=\"#ffffff\" font-family=\"Arial\" font-size=\"45\" font-weight=\"bold\" text-anchor=\"middle\" x=\"50%\" y=\"53%\">1</text></svg>"
      ],
      "text/plain": [
       "<IPython.core.display.SVG object>"
      ]
     },
     "metadata": {},
     "output_type": "display_data"
    },
    {
     "data": {
      "image/svg+xml": [
       "<svg xmlns=\"http://www.w3.org/2000/svg\" xmlns:ev=\"http://www.w3.org/2001/xml-events\" xmlns:xlink=\"http://www.w3.org/1999/xlink\" baseProfile=\"full\" height=\"120\" version=\"1.1\" width=\"120\"><defs/><rect fill=\"#ffbf00\" height=\"77\" rx=\"10\" ry=\"10\" width=\"100%\" x=\"0.0\" y=\"21.5\"/><text alignment-baseline=\"middle\" fill=\"#000000\" font-family=\"Arial\" font-size=\"45\" font-weight=\"bold\" text-anchor=\"middle\" x=\"50%\" y=\"53%\">2</text></svg>"
      ],
      "text/plain": [
       "<IPython.core.display.SVG object>"
      ]
     },
     "metadata": {},
     "output_type": "display_data"
    },
    {
     "data": {
      "image/svg+xml": [
       "<svg xmlns=\"http://www.w3.org/2000/svg\" xmlns:ev=\"http://www.w3.org/2001/xml-events\" xmlns:xlink=\"http://www.w3.org/1999/xlink\" baseProfile=\"full\" height=\"120\" version=\"1.1\" width=\"120\"><defs/><rect fill=\"#d8b43c\" height=\"77\" rx=\"10\" ry=\"10\" width=\"100%\" x=\"0.0\" y=\"21.5\"/><text alignment-baseline=\"middle\" fill=\"#000000\" font-family=\"Arial\" font-size=\"45\" font-weight=\"bold\" text-anchor=\"middle\" x=\"50%\" y=\"53%\">73</text></svg>"
      ],
      "text/plain": [
       "<IPython.core.display.SVG object>"
      ]
     },
     "metadata": {},
     "output_type": "display_data"
    },
    {
     "data": {
      "image/svg+xml": [
       "<svg xmlns=\"http://www.w3.org/2000/svg\" xmlns:ev=\"http://www.w3.org/2001/xml-events\" xmlns:xlink=\"http://www.w3.org/1999/xlink\" baseProfile=\"full\" height=\"120\" version=\"1.1\" width=\"120\"><defs/><rect fill=\"#018150\" height=\"77\" rx=\"10\" ry=\"10\" width=\"100%\" x=\"0.0\" y=\"21.5\"/><text alignment-baseline=\"middle\" fill=\"#ffffff\" font-family=\"Arial\" font-size=\"45\" font-weight=\"bold\" text-anchor=\"middle\" x=\"50%\" y=\"53%\">11</text></svg>"
      ],
      "text/plain": [
       "<IPython.core.display.SVG object>"
      ]
     },
     "metadata": {},
     "output_type": "display_data"
    },
    {
     "data": {
      "image/svg+xml": [
       "<svg xmlns=\"http://www.w3.org/2000/svg\" xmlns:ev=\"http://www.w3.org/2001/xml-events\" xmlns:xlink=\"http://www.w3.org/1999/xlink\" baseProfile=\"full\" height=\"120\" version=\"1.1\" width=\"120\"><defs/><rect fill=\"#f3a489\" height=\"77\" rx=\"10\" ry=\"10\" width=\"100%\" x=\"0.0\" y=\"21.5\"/><text alignment-baseline=\"middle\" fill=\"#ffffff\" font-family=\"Arial\" font-size=\"45\" font-weight=\"bold\" text-anchor=\"middle\" x=\"50%\" y=\"53%\">17</text></svg>"
      ],
      "text/plain": [
       "<IPython.core.display.SVG object>"
      ]
     },
     "metadata": {},
     "output_type": "display_data"
    },
    {
     "data": {
      "image/svg+xml": [
       "<svg xmlns=\"http://www.w3.org/2000/svg\" xmlns:ev=\"http://www.w3.org/2001/xml-events\" xmlns:xlink=\"http://www.w3.org/1999/xlink\" baseProfile=\"full\" height=\"120\" version=\"1.1\" width=\"120\"><defs/><rect fill=\"#ff5a00\" height=\"77\" rx=\"10\" ry=\"10\" width=\"100%\" x=\"0.0\" y=\"21.5\"/><text alignment-baseline=\"middle\" fill=\"#000000\" font-family=\"Arial\" font-size=\"45\" font-weight=\"bold\" text-anchor=\"middle\" x=\"50%\" y=\"53%\">105</text></svg>"
      ],
      "text/plain": [
       "<IPython.core.display.SVG object>"
      ]
     },
     "metadata": {},
     "output_type": "display_data"
    },
    {
     "data": {
      "image/svg+xml": [
       "<svg xmlns=\"http://www.w3.org/2000/svg\" xmlns:ev=\"http://www.w3.org/2001/xml-events\" xmlns:xlink=\"http://www.w3.org/1999/xlink\" baseProfile=\"full\" height=\"120\" version=\"1.1\" width=\"120\"><defs/><rect fill=\"#ff5a00\" height=\"77\" rx=\"10\" ry=\"10\" width=\"100%\" x=\"0.0\" y=\"21.5\"/><text alignment-baseline=\"middle\" fill=\"#000000\" font-family=\"Arial\" font-size=\"45\" font-weight=\"bold\" text-anchor=\"middle\" x=\"50%\" y=\"53%\">112</text></svg>"
      ],
      "text/plain": [
       "<IPython.core.display.SVG object>"
      ]
     },
     "metadata": {},
     "output_type": "display_data"
    },
    {
     "data": {
      "image/svg+xml": [
       "<svg xmlns=\"http://www.w3.org/2000/svg\" xmlns:ev=\"http://www.w3.org/2001/xml-events\" xmlns:xlink=\"http://www.w3.org/1999/xlink\" baseProfile=\"full\" height=\"120\" version=\"1.1\" width=\"120\"><defs/><rect fill=\"#ff5a00\" height=\"77\" rx=\"10\" ry=\"10\" width=\"100%\" x=\"0.0\" y=\"21.5\"/><text alignment-baseline=\"middle\" fill=\"#000000\" font-family=\"Arial\" font-size=\"45\" font-weight=\"bold\" text-anchor=\"middle\" x=\"50%\" y=\"53%\">139</text></svg>"
      ],
      "text/plain": [
       "<IPython.core.display.SVG object>"
      ]
     },
     "metadata": {},
     "output_type": "display_data"
    },
    {
     "data": {
      "image/svg+xml": [
       "<svg xmlns=\"http://www.w3.org/2000/svg\" xmlns:ev=\"http://www.w3.org/2001/xml-events\" xmlns:xlink=\"http://www.w3.org/1999/xlink\" baseProfile=\"full\" height=\"120\" version=\"1.1\" width=\"120\"><defs/><rect fill=\"#a0006e\" height=\"77\" rx=\"10\" ry=\"10\" width=\"100%\" x=\"0.0\" y=\"21.5\"/><text alignment-baseline=\"middle\" fill=\"#ffffff\" font-family=\"Arial\" font-size=\"45\" font-weight=\"bold\" text-anchor=\"middle\" x=\"50%\" y=\"53%\">151</text></svg>"
      ],
      "text/plain": [
       "<IPython.core.display.SVG object>"
      ]
     },
     "metadata": {},
     "output_type": "display_data"
    },
    {
     "data": {
      "image/svg+xml": [
       "<svg xmlns=\"http://www.w3.org/2000/svg\" xmlns:ev=\"http://www.w3.org/2001/xml-events\" xmlns:xlink=\"http://www.w3.org/1999/xlink\" baseProfile=\"full\" height=\"120\" version=\"1.1\" width=\"120\"><defs/><rect fill=\"#0055c8\" height=\"77\" rx=\"10\" ry=\"10\" width=\"100%\" x=\"0.0\" y=\"21.5\"/><text alignment-baseline=\"middle\" fill=\"#ffffff\" font-family=\"Arial\" font-size=\"45\" font-weight=\"bold\" text-anchor=\"middle\" x=\"50%\" y=\"53%\">173</text></svg>"
      ],
      "text/plain": [
       "<IPython.core.display.SVG object>"
      ]
     },
     "metadata": {},
     "output_type": "display_data"
    },
    {
     "data": {
      "image/svg+xml": [
       "<svg xmlns=\"http://www.w3.org/2000/svg\" xmlns:ev=\"http://www.w3.org/2001/xml-events\" xmlns:xlink=\"http://www.w3.org/1999/xlink\" baseProfile=\"full\" height=\"120\" version=\"1.1\" width=\"120\"><defs/><rect fill=\"#640082\" height=\"77\" rx=\"10\" ry=\"10\" width=\"100%\" x=\"0.0\" y=\"21.5\"/><text alignment-baseline=\"middle\" fill=\"#ffffff\" font-family=\"Arial\" font-size=\"45\" font-weight=\"bold\" text-anchor=\"middle\" x=\"50%\" y=\"53%\">187</text></svg>"
      ],
      "text/plain": [
       "<IPython.core.display.SVG object>"
      ]
     },
     "metadata": {},
     "output_type": "display_data"
    },
    {
     "data": {
      "image/svg+xml": [
       "<svg xmlns=\"http://www.w3.org/2000/svg\" xmlns:ev=\"http://www.w3.org/2001/xml-events\" xmlns:xlink=\"http://www.w3.org/1999/xlink\" baseProfile=\"full\" height=\"120\" version=\"1.1\" width=\"120\"><defs/><rect fill=\"#ff82b4\" height=\"77\" rx=\"10\" ry=\"10\" width=\"100%\" x=\"0.0\" y=\"21.5\"/><text alignment-baseline=\"middle\" fill=\"#000000\" font-family=\"Arial\" font-size=\"45\" font-weight=\"bold\" text-anchor=\"middle\" x=\"50%\" y=\"53%\">270</text></svg>"
      ],
      "text/plain": [
       "<IPython.core.display.SVG object>"
      ]
     },
     "metadata": {},
     "output_type": "display_data"
    },
    {
     "data": {
      "image/svg+xml": [
       "<svg xmlns=\"http://www.w3.org/2000/svg\" xmlns:ev=\"http://www.w3.org/2001/xml-events\" xmlns:xlink=\"http://www.w3.org/1999/xlink\" baseProfile=\"full\" height=\"120\" version=\"1.1\" width=\"120\"><defs/><rect fill=\"#008a2f\" height=\"77\" rx=\"10\" ry=\"10\" width=\"100%\" x=\"0.0\" y=\"21.5\"/><text alignment-baseline=\"middle\" fill=\"#000000\" font-family=\"Arial\" font-size=\"45\" font-weight=\"bold\" text-anchor=\"middle\" x=\"50%\" y=\"53%\">23</text></svg>"
      ],
      "text/plain": [
       "<IPython.core.display.SVG object>"
      ]
     },
     "metadata": {},
     "output_type": "display_data"
    },
    {
     "data": {
      "image/svg+xml": [
       "<svg xmlns=\"http://www.w3.org/2000/svg\" xmlns:ev=\"http://www.w3.org/2001/xml-events\" xmlns:xlink=\"http://www.w3.org/1999/xlink\" baseProfile=\"full\" height=\"120\" version=\"1.1\" width=\"120\"><defs/><rect fill=\"#ff5a00\" height=\"77\" rx=\"10\" ry=\"10\" width=\"100%\" x=\"0.0\" y=\"21.5\"/><text alignment-baseline=\"middle\" fill=\"#000000\" font-family=\"Arial\" font-size=\"45\" font-weight=\"bold\" text-anchor=\"middle\" x=\"50%\" y=\"53%\">356</text></svg>"
      ],
      "text/plain": [
       "<IPython.core.display.SVG object>"
      ]
     },
     "metadata": {},
     "output_type": "display_data"
    },
    {
     "data": {
      "image/svg+xml": [
       "<svg xmlns=\"http://www.w3.org/2000/svg\" xmlns:ev=\"http://www.w3.org/2001/xml-events\" xmlns:xlink=\"http://www.w3.org/1999/xlink\" baseProfile=\"full\" height=\"120\" version=\"1.1\" width=\"120\"><defs/><rect fill=\"#ff1400\" height=\"77\" rx=\"10\" ry=\"10\" width=\"100%\" x=\"0.0\" y=\"21.5\"/><text alignment-baseline=\"middle\" fill=\"#ffffff\" font-family=\"Arial\" font-size=\"45\" font-weight=\"bold\" text-anchor=\"middle\" x=\"50%\" y=\"53%\">197</text></svg>"
      ],
      "text/plain": [
       "<IPython.core.display.SVG object>"
      ]
     },
     "metadata": {},
     "output_type": "display_data"
    },
    {
     "data": {
      "image/svg+xml": [
       "<svg xmlns=\"http://www.w3.org/2000/svg\" xmlns:ev=\"http://www.w3.org/2001/xml-events\" xmlns:xlink=\"http://www.w3.org/1999/xlink\" baseProfile=\"full\" height=\"120\" version=\"1.1\" width=\"120\"><defs/><rect fill=\"#d2d200\" height=\"77\" rx=\"10\" ry=\"10\" width=\"100%\" x=\"0.0\" y=\"21.5\"/><text alignment-baseline=\"middle\" fill=\"#000000\" font-family=\"Arial\" font-size=\"45\" font-weight=\"bold\" text-anchor=\"middle\" x=\"50%\" y=\"53%\">199</text></svg>"
      ],
      "text/plain": [
       "<IPython.core.display.SVG object>"
      ]
     },
     "metadata": {},
     "output_type": "display_data"
    },
    {
     "data": {
      "image/svg+xml": [
       "<svg xmlns=\"http://www.w3.org/2000/svg\" xmlns:ev=\"http://www.w3.org/2001/xml-events\" xmlns:xlink=\"http://www.w3.org/1999/xlink\" baseProfile=\"full\" height=\"120\" version=\"1.1\" width=\"120\"><defs/><rect fill=\"#6e5b1e\" height=\"77\" rx=\"10\" ry=\"10\" width=\"100%\" x=\"0.0\" y=\"21.5\"/><text alignment-baseline=\"middle\" fill=\"#ffffff\" font-family=\"Arial\" font-size=\"45\" font-weight=\"bold\" text-anchor=\"middle\" x=\"50%\" y=\"53%\">201</text></svg>"
      ],
      "text/plain": [
       "<IPython.core.display.SVG object>"
      ]
     },
     "metadata": {},
     "output_type": "display_data"
    },
    {
     "data": {
      "image/svg+xml": [
       "<svg xmlns=\"http://www.w3.org/2000/svg\" xmlns:ev=\"http://www.w3.org/2001/xml-events\" xmlns:xlink=\"http://www.w3.org/1999/xlink\" baseProfile=\"full\" height=\"120\" version=\"1.1\" width=\"120\"><defs/><rect fill=\"#ff82b4\" height=\"77\" rx=\"10\" ry=\"10\" width=\"100%\" x=\"0.0\" y=\"21.5\"/><text alignment-baseline=\"middle\" fill=\"#000000\" font-family=\"Arial\" font-size=\"45\" font-weight=\"bold\" text-anchor=\"middle\" x=\"50%\" y=\"53%\">203</text></svg>"
      ],
      "text/plain": [
       "<IPython.core.display.SVG object>"
      ]
     },
     "metadata": {},
     "output_type": "display_data"
    },
    {
     "data": {
      "image/svg+xml": [
       "<svg xmlns=\"http://www.w3.org/2000/svg\" xmlns:ev=\"http://www.w3.org/2001/xml-events\" xmlns:xlink=\"http://www.w3.org/1999/xlink\" baseProfile=\"full\" height=\"120\" version=\"1.1\" width=\"120\"><defs/><rect fill=\"#6e5b1e\" height=\"77\" rx=\"10\" ry=\"10\" width=\"100%\" x=\"0.0\" y=\"21.5\"/><text alignment-baseline=\"middle\" fill=\"#ffffff\" font-family=\"Arial\" font-size=\"45\" font-weight=\"bold\" text-anchor=\"middle\" x=\"50%\" y=\"53%\">206</text></svg>"
      ],
      "text/plain": [
       "<IPython.core.display.SVG object>"
      ]
     },
     "metadata": {},
     "output_type": "display_data"
    },
    {
     "data": {
      "image/svg+xml": [
       "<svg xmlns=\"http://www.w3.org/2000/svg\" xmlns:ev=\"http://www.w3.org/2001/xml-events\" xmlns:xlink=\"http://www.w3.org/1999/xlink\" baseProfile=\"full\" height=\"120\" version=\"1.1\" width=\"120\"><defs/><rect fill=\"#82dc73\" height=\"77\" rx=\"10\" ry=\"10\" width=\"100%\" x=\"0.0\" y=\"21.5\"/><text alignment-baseline=\"middle\" fill=\"#000000\" font-family=\"Arial\" font-size=\"45\" font-weight=\"bold\" text-anchor=\"middle\" x=\"50%\" y=\"53%\">380</text></svg>"
      ],
      "text/plain": [
       "<IPython.core.display.SVG object>"
      ]
     },
     "metadata": {},
     "output_type": "display_data"
    },
    {
     "data": {
      "image/svg+xml": [
       "<svg xmlns=\"http://www.w3.org/2000/svg\" xmlns:ev=\"http://www.w3.org/2001/xml-events\" xmlns:xlink=\"http://www.w3.org/1999/xlink\" baseProfile=\"full\" height=\"120\" version=\"1.1\" width=\"120\"><defs/><rect fill=\"#cec92a\" height=\"77\" rx=\"10\" ry=\"10\" width=\"100%\" x=\"0.0\" y=\"21.5\"/><text alignment-baseline=\"middle\" fill=\"#000000\" font-family=\"Arial\" font-size=\"45\" font-weight=\"bold\" text-anchor=\"middle\" x=\"50%\" y=\"53%\">N151</text></svg>"
      ],
      "text/plain": [
       "<IPython.core.display.SVG object>"
      ]
     },
     "metadata": {},
     "output_type": "display_data"
    },
    {
     "data": {
      "image/svg+xml": [
       "<svg xmlns=\"http://www.w3.org/2000/svg\" xmlns:ev=\"http://www.w3.org/2001/xml-events\" xmlns:xlink=\"http://www.w3.org/1999/xlink\" baseProfile=\"full\" height=\"120\" version=\"1.1\" width=\"120\"><defs/><rect fill=\"#ffcd03\" height=\"77\" rx=\"10\" ry=\"10\" width=\"100%\" x=\"0.0\" y=\"21.5\"/><text alignment-baseline=\"middle\" fill=\"#000000\" font-family=\"Arial\" font-size=\"45\" font-weight=\"bold\" text-anchor=\"middle\" x=\"50%\" y=\"53%\">60</text></svg>"
      ],
      "text/plain": [
       "<IPython.core.display.SVG object>"
      ]
     },
     "metadata": {},
     "output_type": "display_data"
    },
    {
     "data": {
      "image/svg+xml": [
       "<svg xmlns=\"http://www.w3.org/2000/svg\" xmlns:ev=\"http://www.w3.org/2001/xml-events\" xmlns:xlink=\"http://www.w3.org/1999/xlink\" baseProfile=\"full\" height=\"120\" version=\"1.1\" width=\"120\"><defs/><rect fill=\"#c04192\" height=\"77\" rx=\"10\" ry=\"10\" width=\"100%\" x=\"0.0\" y=\"21.5\"/><text alignment-baseline=\"middle\" fill=\"#ffffff\" font-family=\"Arial\" font-size=\"45\" font-weight=\"bold\" text-anchor=\"middle\" x=\"50%\" y=\"53%\">N142</text></svg>"
      ],
      "text/plain": [
       "<IPython.core.display.SVG object>"
      ]
     },
     "metadata": {},
     "output_type": "display_data"
    },
    {
     "data": {
      "image/svg+xml": [
       "<svg xmlns=\"http://www.w3.org/2000/svg\" xmlns:ev=\"http://www.w3.org/2001/xml-events\" xmlns:xlink=\"http://www.w3.org/1999/xlink\" baseProfile=\"full\" height=\"120\" version=\"1.1\" width=\"120\"><defs/><rect fill=\"#ed1b2a\" height=\"77\" rx=\"10\" ry=\"10\" width=\"100%\" x=\"0.0\" y=\"21.5\"/><text alignment-baseline=\"middle\" fill=\"#ffffff\" font-family=\"Arial\" font-size=\"45\" font-weight=\"bold\" text-anchor=\"middle\" x=\"50%\" y=\"53%\">N150</text></svg>"
      ],
      "text/plain": [
       "<IPython.core.display.SVG object>"
      ]
     },
     "metadata": {},
     "output_type": "display_data"
    },
    {
     "data": {
      "image/svg+xml": [
       "<svg xmlns=\"http://www.w3.org/2000/svg\" xmlns:ev=\"http://www.w3.org/2001/xml-events\" xmlns:xlink=\"http://www.w3.org/1999/xlink\" baseProfile=\"full\" height=\"120\" version=\"1.1\" width=\"120\"><defs/><rect fill=\"#008b5a\" height=\"77\" rx=\"10\" ry=\"10\" width=\"100%\" x=\"0.0\" y=\"21.5\"/><text alignment-baseline=\"middle\" fill=\"#ffffff\" font-family=\"Arial\" font-size=\"45\" font-weight=\"bold\" text-anchor=\"middle\" x=\"50%\" y=\"53%\">N134</text></svg>"
      ],
      "text/plain": [
       "<IPython.core.display.SVG object>"
      ]
     },
     "metadata": {},
     "output_type": "display_data"
    },
    {
     "data": {
      "image/svg+xml": [
       "<svg xmlns=\"http://www.w3.org/2000/svg\" xmlns:ev=\"http://www.w3.org/2001/xml-events\" xmlns:xlink=\"http://www.w3.org/1999/xlink\" baseProfile=\"full\" height=\"120\" version=\"1.1\" width=\"120\"><defs/><rect fill=\"#8cff00\" height=\"77\" rx=\"10\" ry=\"10\" width=\"100%\" x=\"0.0\" y=\"21.5\"/><text alignment-baseline=\"middle\" fill=\"#000000\" font-family=\"Arial\" font-size=\"45\" font-weight=\"bold\" text-anchor=\"middle\" x=\"50%\" y=\"53%\">108</text></svg>"
      ],
      "text/plain": [
       "<IPython.core.display.SVG object>"
      ]
     },
     "metadata": {},
     "output_type": "display_data"
    },
    {
     "data": {
      "image/svg+xml": [
       "<svg xmlns=\"http://www.w3.org/2000/svg\" xmlns:ev=\"http://www.w3.org/2001/xml-events\" xmlns:xlink=\"http://www.w3.org/1999/xlink\" baseProfile=\"full\" height=\"120\" version=\"1.1\" width=\"120\"><defs/><rect fill=\"#9dcda1\" height=\"77\" rx=\"10\" ry=\"10\" width=\"100%\" x=\"0.0\" y=\"21.5\"/><text alignment-baseline=\"middle\" fill=\"#000000\" font-family=\"Arial\" font-size=\"45\" font-weight=\"bold\" text-anchor=\"middle\" x=\"50%\" y=\"53%\">33</text></svg>"
      ],
      "text/plain": [
       "<IPython.core.display.SVG object>"
      ]
     },
     "metadata": {},
     "output_type": "display_data"
    },
    {
     "data": {
      "image/svg+xml": [
       "<svg xmlns=\"http://www.w3.org/2000/svg\" xmlns:ev=\"http://www.w3.org/2001/xml-events\" xmlns:xlink=\"http://www.w3.org/1999/xlink\" baseProfile=\"full\" height=\"120\" version=\"1.1\" width=\"120\"><defs/><rect fill=\"#6bf5ff\" height=\"77\" rx=\"10\" ry=\"10\" width=\"100%\" x=\"0.0\" y=\"21.5\"/><text alignment-baseline=\"middle\" fill=\"#000000\" font-family=\"Arial\" font-size=\"45\" font-weight=\"bold\" text-anchor=\"middle\" x=\"50%\" y=\"53%\">4</text></svg>"
      ],
      "text/plain": [
       "<IPython.core.display.SVG object>"
      ]
     },
     "metadata": {},
     "output_type": "display_data"
    },
    {
     "data": {
      "image/svg+xml": [
       "<svg xmlns=\"http://www.w3.org/2000/svg\" xmlns:ev=\"http://www.w3.org/2001/xml-events\" xmlns:xlink=\"http://www.w3.org/1999/xlink\" baseProfile=\"full\" height=\"120\" version=\"1.1\" width=\"120\"><defs/><rect fill=\"#674ea7\" height=\"77\" rx=\"10\" ry=\"10\" width=\"100%\" x=\"0.0\" y=\"21.5\"/><text alignment-baseline=\"middle\" fill=\"#ffffff\" font-family=\"Arial\" font-size=\"45\" font-weight=\"bold\" text-anchor=\"middle\" x=\"50%\" y=\"53%\">25</text></svg>"
      ],
      "text/plain": [
       "<IPython.core.display.SVG object>"
      ]
     },
     "metadata": {},
     "output_type": "display_data"
    },
    {
     "data": {
      "image/svg+xml": [
       "<svg xmlns=\"http://www.w3.org/2000/svg\" xmlns:ev=\"http://www.w3.org/2001/xml-events\" xmlns:xlink=\"http://www.w3.org/1999/xlink\" baseProfile=\"full\" height=\"120\" version=\"1.1\" width=\"120\"><defs/><rect fill=\"#f19043\" height=\"77\" rx=\"10\" ry=\"10\" width=\"100%\" x=\"0.0\" y=\"21.5\"/><text alignment-baseline=\"middle\" fill=\"#000000\" font-family=\"Arial\" font-size=\"45\" font-weight=\"bold\" text-anchor=\"middle\" x=\"50%\" y=\"53%\">40</text></svg>"
      ],
      "text/plain": [
       "<IPython.core.display.SVG object>"
      ]
     },
     "metadata": {},
     "output_type": "display_data"
    },
    {
     "data": {
      "image/svg+xml": [
       "<svg xmlns=\"http://www.w3.org/2000/svg\" xmlns:ev=\"http://www.w3.org/2001/xml-events\" xmlns:xlink=\"http://www.w3.org/1999/xlink\" baseProfile=\"full\" height=\"120\" version=\"1.1\" width=\"120\"><defs/><rect fill=\"#54aee3\" height=\"77\" rx=\"10\" ry=\"10\" width=\"100%\" x=\"0.0\" y=\"21.5\"/><text alignment-baseline=\"middle\" fill=\"#000000\" font-family=\"Arial\" font-size=\"45\" font-weight=\"bold\" text-anchor=\"middle\" x=\"50%\" y=\"53%\">14</text></svg>"
      ],
      "text/plain": [
       "<IPython.core.display.SVG object>"
      ]
     },
     "metadata": {},
     "output_type": "display_data"
    },
    {
     "data": {
      "image/svg+xml": [
       "<svg xmlns=\"http://www.w3.org/2000/svg\" xmlns:ev=\"http://www.w3.org/2001/xml-events\" xmlns:xlink=\"http://www.w3.org/1999/xlink\" baseProfile=\"full\" height=\"120\" version=\"1.1\" width=\"120\"><defs/><rect fill=\"#bb4b9b\" height=\"77\" rx=\"10\" ry=\"10\" width=\"100%\" x=\"0.0\" y=\"21.5\"/><text alignment-baseline=\"middle\" fill=\"#ffffff\" font-family=\"Arial\" font-size=\"45\" font-weight=\"bold\" text-anchor=\"middle\" x=\"50%\" y=\"53%\">10</text></svg>"
      ],
      "text/plain": [
       "<IPython.core.display.SVG object>"
      ]
     },
     "metadata": {},
     "output_type": "display_data"
    },
    {
     "data": {
      "image/svg+xml": [
       "<svg xmlns=\"http://www.w3.org/2000/svg\" xmlns:ev=\"http://www.w3.org/2001/xml-events\" xmlns:xlink=\"http://www.w3.org/1999/xlink\" baseProfile=\"full\" height=\"120\" version=\"1.1\" width=\"120\"><defs/><rect fill=\"#5a230a\" height=\"77\" rx=\"10\" ry=\"10\" width=\"100%\" x=\"0.0\" y=\"21.5\"/><text alignment-baseline=\"middle\" fill=\"#ffffff\" font-family=\"Arial\" font-size=\"45\" font-weight=\"bold\" text-anchor=\"middle\" x=\"50%\" y=\"53%\">8</text></svg>"
      ],
      "text/plain": [
       "<IPython.core.display.SVG object>"
      ]
     },
     "metadata": {},
     "output_type": "display_data"
    },
    {
     "data": {
      "image/svg+xml": [
       "<svg xmlns=\"http://www.w3.org/2000/svg\" xmlns:ev=\"http://www.w3.org/2001/xml-events\" xmlns:xlink=\"http://www.w3.org/1999/xlink\" baseProfile=\"full\" height=\"120\" version=\"1.1\" width=\"120\"><defs/><rect fill=\"#783f04\" height=\"77\" rx=\"10\" ry=\"10\" width=\"100%\" x=\"0.0\" y=\"21.5\"/><text alignment-baseline=\"middle\" fill=\"#ffffff\" font-family=\"Arial\" font-size=\"45\" font-weight=\"bold\" text-anchor=\"middle\" x=\"50%\" y=\"53%\">21</text></svg>"
      ],
      "text/plain": [
       "<IPython.core.display.SVG object>"
      ]
     },
     "metadata": {},
     "output_type": "display_data"
    },
    {
     "data": {
      "image/svg+xml": [
       "<svg xmlns=\"http://www.w3.org/2000/svg\" xmlns:ev=\"http://www.w3.org/2001/xml-events\" xmlns:xlink=\"http://www.w3.org/1999/xlink\" baseProfile=\"full\" height=\"120\" version=\"1.1\" width=\"120\"><defs/><rect fill=\"#00814f\" height=\"77\" rx=\"10\" ry=\"10\" width=\"100%\" x=\"0.0\" y=\"21.5\"/><text alignment-baseline=\"middle\" fill=\"#ffffff\" font-family=\"Arial\" font-size=\"45\" font-weight=\"bold\" text-anchor=\"middle\" x=\"50%\" y=\"53%\">1</text></svg>"
      ],
      "text/plain": [
       "<IPython.core.display.SVG object>"
      ]
     },
     "metadata": {},
     "output_type": "display_data"
    },
    {
     "data": {
      "image/svg+xml": [
       "<svg xmlns=\"http://www.w3.org/2000/svg\" xmlns:ev=\"http://www.w3.org/2001/xml-events\" xmlns:xlink=\"http://www.w3.org/1999/xlink\" baseProfile=\"full\" height=\"120\" version=\"1.1\" width=\"120\"><defs/><rect fill=\"#a0006e\" height=\"77\" rx=\"10\" ry=\"10\" width=\"100%\" x=\"0.0\" y=\"21.5\"/><text alignment-baseline=\"middle\" fill=\"#ffffff\" font-family=\"Arial\" font-size=\"45\" font-weight=\"bold\" text-anchor=\"middle\" x=\"50%\" y=\"53%\">34</text></svg>"
      ],
      "text/plain": [
       "<IPython.core.display.SVG object>"
      ]
     },
     "metadata": {},
     "output_type": "display_data"
    },
    {
     "data": {
      "image/svg+xml": [
       "<svg xmlns=\"http://www.w3.org/2000/svg\" xmlns:ev=\"http://www.w3.org/2001/xml-events\" xmlns:xlink=\"http://www.w3.org/1999/xlink\" baseProfile=\"full\" height=\"120\" version=\"1.1\" width=\"120\"><defs/><rect fill=\"#00643c\" height=\"77\" rx=\"10\" ry=\"10\" width=\"100%\" x=\"0.0\" y=\"21.5\"/><text alignment-baseline=\"middle\" fill=\"#ffffff\" font-family=\"Arial\" font-size=\"45\" font-weight=\"bold\" text-anchor=\"middle\" x=\"50%\" y=\"53%\">409</text></svg>"
      ],
      "text/plain": [
       "<IPython.core.display.SVG object>"
      ]
     },
     "metadata": {},
     "output_type": "display_data"
    },
    {
     "data": {
      "image/svg+xml": [
       "<svg xmlns=\"http://www.w3.org/2000/svg\" xmlns:ev=\"http://www.w3.org/2001/xml-events\" xmlns:xlink=\"http://www.w3.org/1999/xlink\" baseProfile=\"full\" height=\"120\" version=\"1.1\" width=\"120\"><defs/><rect fill=\"#ff5a00\" height=\"77\" rx=\"10\" ry=\"10\" width=\"100%\" x=\"0.0\" y=\"21.5\"/><text alignment-baseline=\"middle\" fill=\"#000000\" font-family=\"Arial\" font-size=\"45\" font-weight=\"bold\" text-anchor=\"middle\" x=\"50%\" y=\"53%\">402</text></svg>"
      ],
      "text/plain": [
       "<IPython.core.display.SVG object>"
      ]
     },
     "metadata": {},
     "output_type": "display_data"
    },
    {
     "data": {
      "image/svg+xml": [
       "<svg xmlns=\"http://www.w3.org/2000/svg\" xmlns:ev=\"http://www.w3.org/2001/xml-events\" xmlns:xlink=\"http://www.w3.org/1999/xlink\" baseProfile=\"full\" height=\"120\" version=\"1.1\" width=\"120\"><defs/><rect fill=\"#ffbe00\" height=\"77\" rx=\"10\" ry=\"10\" width=\"100%\" x=\"0.0\" y=\"21.5\"/><text alignment-baseline=\"middle\" fill=\"#000000\" font-family=\"Arial\" font-size=\"45\" font-weight=\"bold\" text-anchor=\"middle\" x=\"50%\" y=\"53%\">408</text></svg>"
      ],
      "text/plain": [
       "<IPython.core.display.SVG object>"
      ]
     },
     "metadata": {},
     "output_type": "display_data"
    },
    {
     "data": {
      "image/svg+xml": [
       "<svg xmlns=\"http://www.w3.org/2000/svg\" xmlns:ev=\"http://www.w3.org/2001/xml-events\" xmlns:xlink=\"http://www.w3.org/1999/xlink\" baseProfile=\"full\" height=\"120\" version=\"1.1\" width=\"120\"><defs/><rect fill=\"#82c8e6\" height=\"77\" rx=\"10\" ry=\"10\" width=\"100%\" x=\"0.0\" y=\"21.5\"/><text alignment-baseline=\"middle\" fill=\"#000000\" font-family=\"Arial\" font-size=\"45\" font-weight=\"bold\" text-anchor=\"middle\" x=\"50%\" y=\"53%\">401</text></svg>"
      ],
      "text/plain": [
       "<IPython.core.display.SVG object>"
      ]
     },
     "metadata": {},
     "output_type": "display_data"
    },
    {
     "data": {
      "image/svg+xml": [
       "<svg xmlns=\"http://www.w3.org/2000/svg\" xmlns:ev=\"http://www.w3.org/2001/xml-events\" xmlns:xlink=\"http://www.w3.org/1999/xlink\" baseProfile=\"full\" height=\"120\" version=\"1.1\" width=\"120\"><defs/><rect fill=\"#78c696\" height=\"77\" rx=\"10\" ry=\"10\" width=\"100%\" x=\"0.0\" y=\"21.5\"/><text alignment-baseline=\"middle\" fill=\"#000000\" font-family=\"Arial\" font-size=\"45\" font-weight=\"bold\" text-anchor=\"middle\" x=\"50%\" y=\"53%\">15</text></svg>"
      ],
      "text/plain": [
       "<IPython.core.display.SVG object>"
      ]
     },
     "metadata": {},
     "output_type": "display_data"
    },
    {
     "data": {
      "image/svg+xml": [
       "<svg xmlns=\"http://www.w3.org/2000/svg\" xmlns:ev=\"http://www.w3.org/2001/xml-events\" xmlns:xlink=\"http://www.w3.org/1999/xlink\" baseProfile=\"full\" height=\"120\" version=\"1.1\" width=\"120\"><defs/><rect fill=\"#f3a4ba\" height=\"77\" rx=\"10\" ry=\"10\" width=\"100%\" x=\"0.0\" y=\"21.5\"/><text alignment-baseline=\"middle\" fill=\"#000000\" font-family=\"Arial\" font-size=\"45\" font-weight=\"bold\" text-anchor=\"middle\" x=\"50%\" y=\"53%\">45</text></svg>"
      ],
      "text/plain": [
       "<IPython.core.display.SVG object>"
      ]
     },
     "metadata": {},
     "output_type": "display_data"
    },
    {
     "data": {
      "image/svg+xml": [
       "<svg xmlns=\"http://www.w3.org/2000/svg\" xmlns:ev=\"http://www.w3.org/2001/xml-events\" xmlns:xlink=\"http://www.w3.org/1999/xlink\" baseProfile=\"full\" height=\"120\" version=\"1.1\" width=\"120\"><defs/><rect fill=\"#00957e\" height=\"77\" rx=\"10\" ry=\"10\" width=\"100%\" x=\"0.0\" y=\"21.5\"/><text alignment-baseline=\"middle\" fill=\"#ffffff\" font-family=\"Arial\" font-size=\"45\" font-weight=\"bold\" text-anchor=\"middle\" x=\"50%\" y=\"53%\">313</text></svg>"
      ],
      "text/plain": [
       "<IPython.core.display.SVG object>"
      ]
     },
     "metadata": {},
     "output_type": "display_data"
    },
    {
     "data": {
      "image/svg+xml": [
       "<svg xmlns=\"http://www.w3.org/2000/svg\" xmlns:ev=\"http://www.w3.org/2001/xml-events\" xmlns:xlink=\"http://www.w3.org/1999/xlink\" baseProfile=\"full\" height=\"120\" version=\"1.1\" width=\"120\"><defs/><rect fill=\"#e74215\" height=\"77\" rx=\"10\" ry=\"10\" width=\"100%\" x=\"0.0\" y=\"21.5\"/><text alignment-baseline=\"middle\" fill=\"#ffffff\" font-family=\"Arial\" font-size=\"45\" font-weight=\"bold\" text-anchor=\"middle\" x=\"50%\" y=\"53%\">8</text></svg>"
      ],
      "text/plain": [
       "<IPython.core.display.SVG object>"
      ]
     },
     "metadata": {},
     "output_type": "display_data"
    },
    {
     "data": {
      "image/svg+xml": [
       "<svg xmlns=\"http://www.w3.org/2000/svg\" xmlns:ev=\"http://www.w3.org/2001/xml-events\" xmlns:xlink=\"http://www.w3.org/1999/xlink\" baseProfile=\"full\" height=\"120\" version=\"1.1\" width=\"120\"><defs/><rect fill=\"#8c0073\" height=\"77\" rx=\"10\" ry=\"10\" width=\"100%\" x=\"0.0\" y=\"21.5\"/><text alignment-baseline=\"middle\" fill=\"#ffffff\" font-family=\"Arial\" font-size=\"45\" font-weight=\"bold\" text-anchor=\"middle\" x=\"50%\" y=\"53%\">25</text></svg>"
      ],
      "text/plain": [
       "<IPython.core.display.SVG object>"
      ]
     },
     "metadata": {},
     "output_type": "display_data"
    },
    {
     "data": {
      "image/svg+xml": [
       "<svg xmlns=\"http://www.w3.org/2000/svg\" xmlns:ev=\"http://www.w3.org/2001/xml-events\" xmlns:xlink=\"http://www.w3.org/1999/xlink\" baseProfile=\"full\" height=\"120\" version=\"1.1\" width=\"120\"><defs/><rect fill=\"#79ac2b\" height=\"77\" rx=\"10\" ry=\"10\" width=\"100%\" x=\"0.0\" y=\"21.5\"/><text alignment-baseline=\"middle\" fill=\"#ffffff\" font-family=\"Arial\" font-size=\"45\" font-weight=\"bold\" text-anchor=\"middle\" x=\"50%\" y=\"53%\">439</text></svg>"
      ],
      "text/plain": [
       "<IPython.core.display.SVG object>"
      ]
     },
     "metadata": {},
     "output_type": "display_data"
    },
    {
     "data": {
      "image/svg+xml": [
       "<svg xmlns=\"http://www.w3.org/2000/svg\" xmlns:ev=\"http://www.w3.org/2001/xml-events\" xmlns:xlink=\"http://www.w3.org/1999/xlink\" baseProfile=\"full\" height=\"120\" version=\"1.1\" width=\"120\"><defs/><rect fill=\"#ffd300\" height=\"77\" rx=\"10\" ry=\"10\" width=\"100%\" x=\"0.0\" y=\"21.5\"/><text alignment-baseline=\"middle\" fill=\"#000000\" font-family=\"Arial\" font-size=\"45\" font-weight=\"bold\" text-anchor=\"middle\" x=\"50%\" y=\"53%\">12</text></svg>"
      ],
      "text/plain": [
       "<IPython.core.display.SVG object>"
      ]
     },
     "metadata": {},
     "output_type": "display_data"
    },
    {
     "data": {
      "image/svg+xml": [
       "<svg xmlns=\"http://www.w3.org/2000/svg\" xmlns:ev=\"http://www.w3.org/2001/xml-events\" xmlns:xlink=\"http://www.w3.org/1999/xlink\" baseProfile=\"full\" height=\"120\" version=\"1.1\" width=\"120\"><defs/><rect fill=\"#951b81\" height=\"77\" rx=\"10\" ry=\"10\" width=\"100%\" x=\"0.0\" y=\"21.5\"/><text alignment-baseline=\"middle\" fill=\"#ffffff\" font-family=\"Arial\" font-size=\"45\" font-weight=\"bold\" text-anchor=\"middle\" x=\"50%\" y=\"53%\">454</text></svg>"
      ],
      "text/plain": [
       "<IPython.core.display.SVG object>"
      ]
     },
     "metadata": {},
     "output_type": "display_data"
    },
    {
     "data": {
      "image/svg+xml": [
       "<svg xmlns=\"http://www.w3.org/2000/svg\" xmlns:ev=\"http://www.w3.org/2001/xml-events\" xmlns:xlink=\"http://www.w3.org/1999/xlink\" baseProfile=\"full\" height=\"120\" version=\"1.1\" width=\"120\"><defs/><rect fill=\"#0dab00\" height=\"77\" rx=\"10\" ry=\"10\" width=\"100%\" x=\"0.0\" y=\"21.5\"/><text alignment-baseline=\"middle\" fill=\"#ffffff\" font-family=\"Arial\" font-size=\"45\" font-weight=\"bold\" text-anchor=\"middle\" x=\"50%\" y=\"53%\">8</text></svg>"
      ],
      "text/plain": [
       "<IPython.core.display.SVG object>"
      ]
     },
     "metadata": {},
     "output_type": "display_data"
    },
    {
     "data": {
      "image/svg+xml": [
       "<svg xmlns=\"http://www.w3.org/2000/svg\" xmlns:ev=\"http://www.w3.org/2001/xml-events\" xmlns:xlink=\"http://www.w3.org/1999/xlink\" baseProfile=\"full\" height=\"120\" version=\"1.1\" width=\"120\"><defs/><rect fill=\"#b94e9a\" height=\"77\" rx=\"10\" ry=\"10\" width=\"100%\" x=\"0.0\" y=\"21.5\"/><text alignment-baseline=\"middle\" fill=\"#ffffff\" font-family=\"Arial\" font-size=\"45\" font-weight=\"bold\" text-anchor=\"middle\" x=\"50%\" y=\"53%\">23</text></svg>"
      ],
      "text/plain": [
       "<IPython.core.display.SVG object>"
      ]
     },
     "metadata": {},
     "output_type": "display_data"
    },
    {
     "data": {
      "image/svg+xml": [
       "<svg xmlns=\"http://www.w3.org/2000/svg\" xmlns:ev=\"http://www.w3.org/2001/xml-events\" xmlns:xlink=\"http://www.w3.org/1999/xlink\" baseProfile=\"full\" height=\"120\" version=\"1.1\" width=\"120\"><defs/><rect fill=\"#f4a25f\" height=\"77\" rx=\"10\" ry=\"10\" width=\"100%\" x=\"0.0\" y=\"21.5\"/><text alignment-baseline=\"middle\" fill=\"#000000\" font-family=\"Arial\" font-size=\"45\" font-weight=\"bold\" text-anchor=\"middle\" x=\"50%\" y=\"53%\">12</text></svg>"
      ],
      "text/plain": [
       "<IPython.core.display.SVG object>"
      ]
     },
     "metadata": {},
     "output_type": "display_data"
    },
    {
     "data": {
      "image/svg+xml": [
       "<svg xmlns=\"http://www.w3.org/2000/svg\" xmlns:ev=\"http://www.w3.org/2001/xml-events\" xmlns:xlink=\"http://www.w3.org/1999/xlink\" baseProfile=\"full\" height=\"120\" version=\"1.1\" width=\"120\"><defs/><rect fill=\"#00643c\" height=\"77\" rx=\"10\" ry=\"10\" width=\"100%\" x=\"0.0\" y=\"21.5\"/><text alignment-baseline=\"middle\" fill=\"#ffffff\" font-family=\"Arial\" font-size=\"45\" font-weight=\"bold\" text-anchor=\"middle\" x=\"50%\" y=\"53%\">3</text></svg>"
      ],
      "text/plain": [
       "<IPython.core.display.SVG object>"
      ]
     },
     "metadata": {},
     "output_type": "display_data"
    },
    {
     "data": {
      "image/svg+xml": [
       "<svg xmlns=\"http://www.w3.org/2000/svg\" xmlns:ev=\"http://www.w3.org/2001/xml-events\" xmlns:xlink=\"http://www.w3.org/1999/xlink\" baseProfile=\"full\" height=\"120\" version=\"1.1\" width=\"120\"><defs/><rect fill=\"#00afad\" height=\"77\" rx=\"10\" ry=\"10\" width=\"100%\" x=\"0.0\" y=\"21.5\"/><text alignment-baseline=\"middle\" fill=\"#000000\" font-family=\"Arial\" font-size=\"45\" font-weight=\"bold\" text-anchor=\"middle\" x=\"50%\" y=\"53%\">03</text></svg>"
      ],
      "text/plain": [
       "<IPython.core.display.SVG object>"
      ]
     },
     "metadata": {},
     "output_type": "display_data"
    },
    {
     "data": {
      "image/svg+xml": [
       "<svg xmlns=\"http://www.w3.org/2000/svg\" xmlns:ev=\"http://www.w3.org/2001/xml-events\" xmlns:xlink=\"http://www.w3.org/1999/xlink\" baseProfile=\"full\" height=\"120\" version=\"1.1\" width=\"120\"><defs/><rect fill=\"#d282be\" height=\"77\" rx=\"10\" ry=\"10\" width=\"100%\" x=\"0.0\" y=\"21.5\"/><text alignment-baseline=\"middle\" fill=\"#000000\" font-family=\"Arial\" font-size=\"45\" font-weight=\"bold\" text-anchor=\"middle\" x=\"50%\" y=\"53%\">44</text></svg>"
      ],
      "text/plain": [
       "<IPython.core.display.SVG object>"
      ]
     },
     "metadata": {},
     "output_type": "display_data"
    },
    {
     "data": {
      "image/svg+xml": [
       "<svg xmlns=\"http://www.w3.org/2000/svg\" xmlns:ev=\"http://www.w3.org/2001/xml-events\" xmlns:xlink=\"http://www.w3.org/1999/xlink\" baseProfile=\"full\" height=\"120\" version=\"1.1\" width=\"120\"><defs/><rect fill=\"#e3b32a\" height=\"77\" rx=\"10\" ry=\"10\" width=\"100%\" x=\"0.0\" y=\"21.5\"/><text alignment-baseline=\"middle\" fill=\"#000000\" font-family=\"Arial\" font-size=\"45\" font-weight=\"bold\" text-anchor=\"middle\" x=\"50%\" y=\"53%\">1</text></svg>"
      ],
      "text/plain": [
       "<IPython.core.display.SVG object>"
      ]
     },
     "metadata": {},
     "output_type": "display_data"
    },
    {
     "data": {
      "image/svg+xml": [
       "<svg xmlns=\"http://www.w3.org/2000/svg\" xmlns:ev=\"http://www.w3.org/2001/xml-events\" xmlns:xlink=\"http://www.w3.org/1999/xlink\" baseProfile=\"full\" height=\"120\" version=\"1.1\" width=\"120\"><defs/><rect fill=\"#ffbf00\" height=\"77\" rx=\"10\" ry=\"10\" width=\"100%\" x=\"0.0\" y=\"21.5\"/><text alignment-baseline=\"middle\" fill=\"#000000\" font-family=\"Arial\" font-size=\"45\" font-weight=\"bold\" text-anchor=\"middle\" x=\"50%\" y=\"53%\">7002</text></svg>"
      ],
      "text/plain": [
       "<IPython.core.display.SVG object>"
      ]
     },
     "metadata": {},
     "output_type": "display_data"
    },
    {
     "data": {
      "image/svg+xml": [
       "<svg xmlns=\"http://www.w3.org/2000/svg\" xmlns:ev=\"http://www.w3.org/2001/xml-events\" xmlns:xlink=\"http://www.w3.org/1999/xlink\" baseProfile=\"full\" height=\"120\" version=\"1.1\" width=\"120\"><defs/><rect fill=\"#0a560b\" height=\"77\" rx=\"10\" ry=\"10\" width=\"100%\" x=\"0.0\" y=\"21.5\"/><text alignment-baseline=\"middle\" fill=\"#ffffff\" font-family=\"Arial\" font-size=\"45\" font-weight=\"bold\" text-anchor=\"middle\" x=\"50%\" y=\"53%\">25</text></svg>"
      ],
      "text/plain": [
       "<IPython.core.display.SVG object>"
      ]
     },
     "metadata": {},
     "output_type": "display_data"
    },
    {
     "data": {
      "image/svg+xml": [
       "<svg xmlns=\"http://www.w3.org/2000/svg\" xmlns:ev=\"http://www.w3.org/2001/xml-events\" xmlns:xlink=\"http://www.w3.org/1999/xlink\" baseProfile=\"full\" height=\"120\" version=\"1.1\" width=\"120\"><defs/><rect fill=\"#87d3df\" height=\"77\" rx=\"10\" ry=\"10\" width=\"100%\" x=\"0.0\" y=\"21.5\"/><text alignment-baseline=\"middle\" fill=\"#000000\" font-family=\"Arial\" font-size=\"45\" font-weight=\"bold\" text-anchor=\"middle\" x=\"50%\" y=\"53%\">52</text></svg>"
      ],
      "text/plain": [
       "<IPython.core.display.SVG object>"
      ]
     },
     "metadata": {},
     "output_type": "display_data"
    },
    {
     "data": {
      "image/svg+xml": [
       "<svg xmlns=\"http://www.w3.org/2000/svg\" xmlns:ev=\"http://www.w3.org/2001/xml-events\" xmlns:xlink=\"http://www.w3.org/1999/xlink\" baseProfile=\"full\" height=\"120\" version=\"1.1\" width=\"120\"><defs/><rect fill=\"#e74215\" height=\"77\" rx=\"10\" ry=\"10\" width=\"100%\" x=\"0.0\" y=\"21.5\"/><text alignment-baseline=\"middle\" fill=\"#ffffff\" font-family=\"Arial\" font-size=\"45\" font-weight=\"bold\" text-anchor=\"middle\" x=\"50%\" y=\"53%\">465</text></svg>"
      ],
      "text/plain": [
       "<IPython.core.display.SVG object>"
      ]
     },
     "metadata": {},
     "output_type": "display_data"
    },
    {
     "data": {
      "image/svg+xml": [
       "<svg xmlns=\"http://www.w3.org/2000/svg\" xmlns:ev=\"http://www.w3.org/2001/xml-events\" xmlns:xlink=\"http://www.w3.org/1999/xlink\" baseProfile=\"full\" height=\"120\" version=\"1.1\" width=\"120\"><defs/><rect fill=\"#b1b9df\" height=\"77\" rx=\"10\" ry=\"10\" width=\"100%\" x=\"0.0\" y=\"21.5\"/><text alignment-baseline=\"middle\" fill=\"#000000\" font-family=\"Arial\" font-size=\"45\" font-weight=\"bold\" text-anchor=\"middle\" x=\"50%\" y=\"53%\">466</text></svg>"
      ],
      "text/plain": [
       "<IPython.core.display.SVG object>"
      ]
     },
     "metadata": {},
     "output_type": "display_data"
    },
    {
     "data": {
      "image/svg+xml": [
       "<svg xmlns=\"http://www.w3.org/2000/svg\" xmlns:ev=\"http://www.w3.org/2001/xml-events\" xmlns:xlink=\"http://www.w3.org/1999/xlink\" baseProfile=\"full\" height=\"120\" version=\"1.1\" width=\"120\"><defs/><rect fill=\"#00812c\" height=\"77\" rx=\"10\" ry=\"10\" width=\"100%\" x=\"0.0\" y=\"21.5\"/><text alignment-baseline=\"middle\" fill=\"#ffffff\" font-family=\"Arial\" font-size=\"45\" font-weight=\"bold\" text-anchor=\"middle\" x=\"50%\" y=\"53%\">409</text></svg>"
      ],
      "text/plain": [
       "<IPython.core.display.SVG object>"
      ]
     },
     "metadata": {},
     "output_type": "display_data"
    },
    {
     "data": {
      "image/svg+xml": [
       "<svg xmlns=\"http://www.w3.org/2000/svg\" xmlns:ev=\"http://www.w3.org/2001/xml-events\" xmlns:xlink=\"http://www.w3.org/1999/xlink\" baseProfile=\"full\" height=\"120\" version=\"1.1\" width=\"120\"><defs/><rect fill=\"#fac8a9\" height=\"77\" rx=\"10\" ry=\"10\" width=\"100%\" x=\"0.0\" y=\"21.5\"/><text alignment-baseline=\"middle\" fill=\"#000000\" font-family=\"Arial\" font-size=\"45\" font-weight=\"bold\" text-anchor=\"middle\" x=\"50%\" y=\"53%\">419</text></svg>"
      ],
      "text/plain": [
       "<IPython.core.display.SVG object>"
      ]
     },
     "metadata": {},
     "output_type": "display_data"
    },
    {
     "data": {
      "image/svg+xml": [
       "<svg xmlns=\"http://www.w3.org/2000/svg\" xmlns:ev=\"http://www.w3.org/2001/xml-events\" xmlns:xlink=\"http://www.w3.org/1999/xlink\" baseProfile=\"full\" height=\"120\" version=\"1.1\" width=\"120\"><defs/><rect fill=\"#bab1d7\" height=\"77\" rx=\"10\" ry=\"10\" width=\"100%\" x=\"0.0\" y=\"21.5\"/><text alignment-baseline=\"middle\" fill=\"#000000\" font-family=\"Arial\" font-size=\"45\" font-weight=\"bold\" text-anchor=\"middle\" x=\"50%\" y=\"53%\">401</text></svg>"
      ],
      "text/plain": [
       "<IPython.core.display.SVG object>"
      ]
     },
     "metadata": {},
     "output_type": "display_data"
    },
    {
     "data": {
      "image/svg+xml": [
       "<svg xmlns=\"http://www.w3.org/2000/svg\" xmlns:ev=\"http://www.w3.org/2001/xml-events\" xmlns:xlink=\"http://www.w3.org/1999/xlink\" baseProfile=\"full\" height=\"120\" version=\"1.1\" width=\"120\"><defs/><rect fill=\"#0064b0\" height=\"77\" rx=\"10\" ry=\"10\" width=\"100%\" x=\"0.0\" y=\"21.5\"/><text alignment-baseline=\"middle\" fill=\"#ffffff\" font-family=\"Arial\" font-size=\"45\" font-weight=\"bold\" text-anchor=\"middle\" x=\"50%\" y=\"53%\">616</text></svg>"
      ],
      "text/plain": [
       "<IPython.core.display.SVG object>"
      ]
     },
     "metadata": {},
     "output_type": "display_data"
    },
    {
     "data": {
      "image/svg+xml": [
       "<svg xmlns=\"http://www.w3.org/2000/svg\" xmlns:ev=\"http://www.w3.org/2001/xml-events\" xmlns:xlink=\"http://www.w3.org/1999/xlink\" baseProfile=\"full\" height=\"120\" version=\"1.1\" width=\"120\"><defs/><rect fill=\"#83c491\" height=\"77\" rx=\"10\" ry=\"10\" width=\"100%\" x=\"0.0\" y=\"21.5\"/><text alignment-baseline=\"middle\" fill=\"#000000\" font-family=\"Arial\" font-size=\"45\" font-weight=\"bold\" text-anchor=\"middle\" x=\"50%\" y=\"53%\">615</text></svg>"
      ],
      "text/plain": [
       "<IPython.core.display.SVG object>"
      ]
     },
     "metadata": {},
     "output_type": "display_data"
    },
    {
     "data": {
      "image/svg+xml": [
       "<svg xmlns=\"http://www.w3.org/2000/svg\" xmlns:ev=\"http://www.w3.org/2001/xml-events\" xmlns:xlink=\"http://www.w3.org/1999/xlink\" baseProfile=\"full\" height=\"120\" version=\"1.1\" width=\"120\"><defs/><rect fill=\"#ec7404\" height=\"77\" rx=\"10\" ry=\"10\" width=\"100%\" x=\"0.0\" y=\"21.5\"/><text alignment-baseline=\"middle\" fill=\"#ffffff\" font-family=\"Arial\" font-size=\"45\" font-weight=\"bold\" text-anchor=\"middle\" x=\"50%\" y=\"53%\">4307</text></svg>"
      ],
      "text/plain": [
       "<IPython.core.display.SVG object>"
      ]
     },
     "metadata": {},
     "output_type": "display_data"
    },
    {
     "data": {
      "image/svg+xml": [
       "<svg xmlns=\"http://www.w3.org/2000/svg\" xmlns:ev=\"http://www.w3.org/2001/xml-events\" xmlns:xlink=\"http://www.w3.org/1999/xlink\" baseProfile=\"full\" height=\"120\" version=\"1.1\" width=\"120\"><defs/><rect fill=\"#26ffd1\" height=\"77\" rx=\"10\" ry=\"10\" width=\"100%\" x=\"0.0\" y=\"21.5\"/><text alignment-baseline=\"middle\" fill=\"#000000\" font-family=\"Arial\" font-size=\"45\" font-weight=\"bold\" text-anchor=\"middle\" x=\"50%\" y=\"53%\">102</text></svg>"
      ],
      "text/plain": [
       "<IPython.core.display.SVG object>"
      ]
     },
     "metadata": {},
     "output_type": "display_data"
    },
    {
     "data": {
      "image/svg+xml": [
       "<svg xmlns=\"http://www.w3.org/2000/svg\" xmlns:ev=\"http://www.w3.org/2001/xml-events\" xmlns:xlink=\"http://www.w3.org/1999/xlink\" baseProfile=\"full\" height=\"120\" version=\"1.1\" width=\"120\"><defs/><rect fill=\"#98b3de\" height=\"77\" rx=\"10\" ry=\"10\" width=\"100%\" x=\"0.0\" y=\"21.5\"/><text alignment-baseline=\"middle\" fill=\"#ffffff\" font-family=\"Arial\" font-size=\"45\" font-weight=\"bold\" text-anchor=\"middle\" x=\"50%\" y=\"53%\">171</text></svg>"
      ],
      "text/plain": [
       "<IPython.core.display.SVG object>"
      ]
     },
     "metadata": {},
     "output_type": "display_data"
    },
    {
     "data": {
      "image/svg+xml": [
       "<svg xmlns=\"http://www.w3.org/2000/svg\" xmlns:ev=\"http://www.w3.org/2001/xml-events\" xmlns:xlink=\"http://www.w3.org/1999/xlink\" baseProfile=\"full\" height=\"120\" version=\"1.1\" width=\"120\"><defs/><rect fill=\"#f19043\" height=\"77\" rx=\"10\" ry=\"10\" width=\"100%\" x=\"0.0\" y=\"21.5\"/><text alignment-baseline=\"middle\" fill=\"#000000\" font-family=\"Arial\" font-size=\"45\" font-weight=\"bold\" text-anchor=\"middle\" x=\"50%\" y=\"53%\">261</text></svg>"
      ],
      "text/plain": [
       "<IPython.core.display.SVG object>"
      ]
     },
     "metadata": {},
     "output_type": "display_data"
    },
    {
     "data": {
      "image/svg+xml": [
       "<svg xmlns=\"http://www.w3.org/2000/svg\" xmlns:ev=\"http://www.w3.org/2001/xml-events\" xmlns:xlink=\"http://www.w3.org/1999/xlink\" baseProfile=\"full\" height=\"120\" version=\"1.1\" width=\"120\"><defs/><rect fill=\"#b2111d\" height=\"77\" rx=\"10\" ry=\"10\" width=\"100%\" x=\"0.0\" y=\"21.5\"/><text alignment-baseline=\"middle\" fill=\"#ffffff\" font-family=\"Arial\" font-size=\"45\" font-weight=\"bold\" text-anchor=\"middle\" x=\"50%\" y=\"53%\">4309</text></svg>"
      ],
      "text/plain": [
       "<IPython.core.display.SVG object>"
      ]
     },
     "metadata": {},
     "output_type": "display_data"
    },
    {
     "data": {
      "image/svg+xml": [
       "<svg xmlns=\"http://www.w3.org/2000/svg\" xmlns:ev=\"http://www.w3.org/2001/xml-events\" xmlns:xlink=\"http://www.w3.org/1999/xlink\" baseProfile=\"full\" height=\"120\" version=\"1.1\" width=\"120\"><defs/><rect fill=\"#f4cccc\" height=\"77\" rx=\"10\" ry=\"10\" width=\"100%\" x=\"0.0\" y=\"21.5\"/><text alignment-baseline=\"middle\" fill=\"#ffffff\" font-family=\"Arial\" font-size=\"45\" font-weight=\"bold\" text-anchor=\"middle\" x=\"50%\" y=\"53%\">22</text></svg>"
      ],
      "text/plain": [
       "<IPython.core.display.SVG object>"
      ]
     },
     "metadata": {},
     "output_type": "display_data"
    },
    {
     "data": {
      "image/svg+xml": [
       "<svg xmlns=\"http://www.w3.org/2000/svg\" xmlns:ev=\"http://www.w3.org/2001/xml-events\" xmlns:xlink=\"http://www.w3.org/1999/xlink\" baseProfile=\"full\" height=\"120\" version=\"1.1\" width=\"120\"><defs/><rect fill=\"#cfc83b\" height=\"77\" rx=\"10\" ry=\"10\" width=\"100%\" x=\"0.0\" y=\"21.5\"/><text alignment-baseline=\"middle\" fill=\"#000000\" font-family=\"Arial\" font-size=\"45\" font-weight=\"bold\" text-anchor=\"middle\" x=\"50%\" y=\"53%\">18</text></svg>"
      ],
      "text/plain": [
       "<IPython.core.display.SVG object>"
      ]
     },
     "metadata": {},
     "output_type": "display_data"
    },
    {
     "data": {
      "image/svg+xml": [
       "<svg xmlns=\"http://www.w3.org/2000/svg\" xmlns:ev=\"http://www.w3.org/2001/xml-events\" xmlns:xlink=\"http://www.w3.org/1999/xlink\" baseProfile=\"full\" height=\"120\" version=\"1.1\" width=\"120\"><defs/><rect fill=\"#e46c0a\" height=\"77\" rx=\"10\" ry=\"10\" width=\"100%\" x=\"0.0\" y=\"21.5\"/><text alignment-baseline=\"middle\" fill=\"#000000\" font-family=\"Arial\" font-size=\"45\" font-weight=\"bold\" text-anchor=\"middle\" x=\"50%\" y=\"53%\">02F</text></svg>"
      ],
      "text/plain": [
       "<IPython.core.display.SVG object>"
      ]
     },
     "metadata": {},
     "output_type": "display_data"
    },
    {
     "data": {
      "image/svg+xml": [
       "<svg xmlns=\"http://www.w3.org/2000/svg\" xmlns:ev=\"http://www.w3.org/2001/xml-events\" xmlns:xlink=\"http://www.w3.org/1999/xlink\" baseProfile=\"full\" height=\"120\" version=\"1.1\" width=\"120\"><defs/><rect fill=\"#9bc0a9\" height=\"77\" rx=\"10\" ry=\"10\" width=\"100%\" x=\"0.0\" y=\"21.5\"/><text alignment-baseline=\"middle\" fill=\"#ffffff\" font-family=\"Arial\" font-size=\"45\" font-weight=\"bold\" text-anchor=\"middle\" x=\"50%\" y=\"53%\">32ZA</text></svg>"
      ],
      "text/plain": [
       "<IPython.core.display.SVG object>"
      ]
     },
     "metadata": {},
     "output_type": "display_data"
    },
    {
     "data": {
      "image/svg+xml": [
       "<svg xmlns=\"http://www.w3.org/2000/svg\" xmlns:ev=\"http://www.w3.org/2001/xml-events\" xmlns:xlink=\"http://www.w3.org/1999/xlink\" baseProfile=\"full\" height=\"120\" version=\"1.1\" width=\"120\"><defs/><rect fill=\"#00b59f\" height=\"77\" rx=\"10\" ry=\"10\" width=\"100%\" x=\"0.0\" y=\"21.5\"/><text alignment-baseline=\"middle\" fill=\"#ffffff\" font-family=\"Arial\" font-size=\"45\" font-weight=\"bold\" text-anchor=\"middle\" x=\"50%\" y=\"53%\">408</text></svg>"
      ],
      "text/plain": [
       "<IPython.core.display.SVG object>"
      ]
     },
     "metadata": {},
     "output_type": "display_data"
    },
    {
     "data": {
      "image/svg+xml": [
       "<svg xmlns=\"http://www.w3.org/2000/svg\" xmlns:ev=\"http://www.w3.org/2001/xml-events\" xmlns:xlink=\"http://www.w3.org/1999/xlink\" baseProfile=\"full\" height=\"120\" version=\"1.1\" width=\"120\"><defs/><rect fill=\"#4db5ff\" height=\"77\" rx=\"10\" ry=\"10\" width=\"100%\" x=\"0.0\" y=\"21.5\"/><text alignment-baseline=\"middle\" fill=\"#ffffff\" font-family=\"Arial\" font-size=\"45\" font-weight=\"bold\" text-anchor=\"middle\" x=\"50%\" y=\"53%\">51</text></svg>"
      ],
      "text/plain": [
       "<IPython.core.display.SVG object>"
      ]
     },
     "metadata": {},
     "output_type": "display_data"
    },
    {
     "data": {
      "image/svg+xml": [
       "<svg xmlns=\"http://www.w3.org/2000/svg\" xmlns:ev=\"http://www.w3.org/2001/xml-events\" xmlns:xlink=\"http://www.w3.org/1999/xlink\" baseProfile=\"full\" height=\"120\" version=\"1.1\" width=\"120\"><defs/><rect fill=\"#5091cb\" height=\"77\" rx=\"10\" ry=\"10\" width=\"100%\" x=\"0.0\" y=\"21.5\"/><text alignment-baseline=\"middle\" fill=\"#ffffff\" font-family=\"Arial\" font-size=\"45\" font-weight=\"bold\" text-anchor=\"middle\" x=\"50%\" y=\"53%\">2A</text></svg>"
      ],
      "text/plain": [
       "<IPython.core.display.SVG object>"
      ]
     },
     "metadata": {},
     "output_type": "display_data"
    },
    {
     "data": {
      "image/svg+xml": [
       "<svg xmlns=\"http://www.w3.org/2000/svg\" xmlns:ev=\"http://www.w3.org/2001/xml-events\" xmlns:xlink=\"http://www.w3.org/1999/xlink\" baseProfile=\"full\" height=\"120\" version=\"1.1\" width=\"120\"><defs/><rect fill=\"#ffcc30\" height=\"77\" rx=\"10\" ry=\"10\" width=\"100%\" x=\"0.0\" y=\"21.5\"/><text alignment-baseline=\"middle\" fill=\"#000000\" font-family=\"Arial\" font-size=\"45\" font-weight=\"bold\" text-anchor=\"middle\" x=\"50%\" y=\"53%\">7</text></svg>"
      ],
      "text/plain": [
       "<IPython.core.display.SVG object>"
      ]
     },
     "metadata": {},
     "output_type": "display_data"
    },
    {
     "data": {
      "image/svg+xml": [
       "<svg xmlns=\"http://www.w3.org/2000/svg\" xmlns:ev=\"http://www.w3.org/2001/xml-events\" xmlns:xlink=\"http://www.w3.org/1999/xlink\" baseProfile=\"full\" height=\"120\" version=\"1.1\" width=\"120\"><defs/><rect fill=\"#cef12b\" height=\"77\" rx=\"10\" ry=\"10\" width=\"100%\" x=\"0.0\" y=\"21.5\"/><text alignment-baseline=\"middle\" fill=\"#000000\" font-family=\"Arial\" font-size=\"45\" font-weight=\"bold\" text-anchor=\"middle\" x=\"50%\" y=\"53%\">11</text></svg>"
      ],
      "text/plain": [
       "<IPython.core.display.SVG object>"
      ]
     },
     "metadata": {},
     "output_type": "display_data"
    },
    {
     "data": {
      "image/svg+xml": [
       "<svg xmlns=\"http://www.w3.org/2000/svg\" xmlns:ev=\"http://www.w3.org/2001/xml-events\" xmlns:xlink=\"http://www.w3.org/1999/xlink\" baseProfile=\"full\" height=\"120\" version=\"1.1\" width=\"120\"><defs/><rect fill=\"#65318f\" height=\"77\" rx=\"10\" ry=\"10\" width=\"100%\" x=\"0.0\" y=\"21.5\"/><text alignment-baseline=\"middle\" fill=\"#ffffff\" font-family=\"Arial\" font-size=\"45\" font-weight=\"bold\" text-anchor=\"middle\" x=\"50%\" y=\"53%\">34</text></svg>"
      ],
      "text/plain": [
       "<IPython.core.display.SVG object>"
      ]
     },
     "metadata": {},
     "output_type": "display_data"
    },
    {
     "data": {
      "image/svg+xml": [
       "<svg xmlns=\"http://www.w3.org/2000/svg\" xmlns:ev=\"http://www.w3.org/2001/xml-events\" xmlns:xlink=\"http://www.w3.org/1999/xlink\" baseProfile=\"full\" height=\"120\" version=\"1.1\" width=\"120\"><defs/><rect fill=\"#ed1c2a\" height=\"77\" rx=\"10\" ry=\"10\" width=\"100%\" x=\"0.0\" y=\"21.5\"/><text alignment-baseline=\"middle\" fill=\"#ffffff\" font-family=\"Arial\" font-size=\"45\" font-weight=\"bold\" text-anchor=\"middle\" x=\"50%\" y=\"53%\">56</text></svg>"
      ],
      "text/plain": [
       "<IPython.core.display.SVG object>"
      ]
     },
     "metadata": {},
     "output_type": "display_data"
    },
    {
     "data": {
      "image/svg+xml": [
       "<svg xmlns=\"http://www.w3.org/2000/svg\" xmlns:ev=\"http://www.w3.org/2001/xml-events\" xmlns:xlink=\"http://www.w3.org/1999/xlink\" baseProfile=\"full\" height=\"120\" version=\"1.1\" width=\"120\"><defs/><rect fill=\"#65318f\" height=\"77\" rx=\"10\" ry=\"10\" width=\"100%\" x=\"0.0\" y=\"21.5\"/><text alignment-baseline=\"middle\" fill=\"#ffffff\" font-family=\"Arial\" font-size=\"45\" font-weight=\"bold\" text-anchor=\"middle\" x=\"50%\" y=\"53%\">45</text></svg>"
      ],
      "text/plain": [
       "<IPython.core.display.SVG object>"
      ]
     },
     "metadata": {},
     "output_type": "display_data"
    },
    {
     "data": {
      "image/svg+xml": [
       "<svg xmlns=\"http://www.w3.org/2000/svg\" xmlns:ev=\"http://www.w3.org/2001/xml-events\" xmlns:xlink=\"http://www.w3.org/1999/xlink\" baseProfile=\"full\" height=\"120\" version=\"1.1\" width=\"120\"><defs/><rect fill=\"#046376\" height=\"77\" rx=\"10\" ry=\"10\" width=\"100%\" x=\"0.0\" y=\"21.5\"/><text alignment-baseline=\"middle\" fill=\"#ffffff\" font-family=\"Arial\" font-size=\"45\" font-weight=\"bold\" text-anchor=\"middle\" x=\"50%\" y=\"53%\">420</text></svg>"
      ],
      "text/plain": [
       "<IPython.core.display.SVG object>"
      ]
     },
     "metadata": {},
     "output_type": "display_data"
    },
    {
     "data": {
      "image/svg+xml": [
       "<svg xmlns=\"http://www.w3.org/2000/svg\" xmlns:ev=\"http://www.w3.org/2001/xml-events\" xmlns:xlink=\"http://www.w3.org/1999/xlink\" baseProfile=\"full\" height=\"120\" version=\"1.1\" width=\"120\"><defs/><rect fill=\"#b3dba6\" height=\"77\" rx=\"10\" ry=\"10\" width=\"100%\" x=\"0.0\" y=\"21.5\"/><text alignment-baseline=\"middle\" fill=\"#000000\" font-family=\"Arial\" font-size=\"45\" font-weight=\"bold\" text-anchor=\"middle\" x=\"50%\" y=\"53%\">418</text></svg>"
      ],
      "text/plain": [
       "<IPython.core.display.SVG object>"
      ]
     },
     "metadata": {},
     "output_type": "display_data"
    },
    {
     "data": {
      "image/svg+xml": [
       "<svg xmlns=\"http://www.w3.org/2000/svg\" xmlns:ev=\"http://www.w3.org/2001/xml-events\" xmlns:xlink=\"http://www.w3.org/1999/xlink\" baseProfile=\"full\" height=\"120\" version=\"1.1\" width=\"120\"><defs/><rect fill=\"#c5a3cd\" height=\"77\" rx=\"10\" ry=\"10\" width=\"100%\" x=\"0.0\" y=\"21.5\"/><text alignment-baseline=\"middle\" fill=\"#000000\" font-family=\"Arial\" font-size=\"45\" font-weight=\"bold\" text-anchor=\"middle\" x=\"50%\" y=\"53%\">27</text></svg>"
      ],
      "text/plain": [
       "<IPython.core.display.SVG object>"
      ]
     },
     "metadata": {},
     "output_type": "display_data"
    },
    {
     "data": {
      "image/svg+xml": [
       "<svg xmlns=\"http://www.w3.org/2000/svg\" xmlns:ev=\"http://www.w3.org/2001/xml-events\" xmlns:xlink=\"http://www.w3.org/1999/xlink\" baseProfile=\"full\" height=\"120\" version=\"1.1\" width=\"120\"><defs/><rect fill=\"#e69138\" height=\"77\" rx=\"10\" ry=\"10\" width=\"100%\" x=\"0.0\" y=\"21.5\"/><text alignment-baseline=\"middle\" fill=\"#ffffff\" font-family=\"Arial\" font-size=\"45\" font-weight=\"bold\" text-anchor=\"middle\" x=\"50%\" y=\"53%\">38</text></svg>"
      ],
      "text/plain": [
       "<IPython.core.display.SVG object>"
      ]
     },
     "metadata": {},
     "output_type": "display_data"
    },
    {
     "data": {
      "image/svg+xml": [
       "<svg xmlns=\"http://www.w3.org/2000/svg\" xmlns:ev=\"http://www.w3.org/2001/xml-events\" xmlns:xlink=\"http://www.w3.org/1999/xlink\" baseProfile=\"full\" height=\"120\" version=\"1.1\" width=\"120\"><defs/><rect fill=\"#0a560b\" height=\"77\" rx=\"10\" ry=\"10\" width=\"100%\" x=\"0.0\" y=\"21.5\"/><text alignment-baseline=\"middle\" fill=\"#ffffff\" font-family=\"Arial\" font-size=\"45\" font-weight=\"bold\" text-anchor=\"middle\" x=\"50%\" y=\"53%\">33</text></svg>"
      ],
      "text/plain": [
       "<IPython.core.display.SVG object>"
      ]
     },
     "metadata": {},
     "output_type": "display_data"
    },
    {
     "data": {
      "image/svg+xml": [
       "<svg xmlns=\"http://www.w3.org/2000/svg\" xmlns:ev=\"http://www.w3.org/2001/xml-events\" xmlns:xlink=\"http://www.w3.org/1999/xlink\" baseProfile=\"full\" height=\"120\" version=\"1.1\" width=\"120\"><defs/><rect fill=\"#ff8ce3\" height=\"77\" rx=\"10\" ry=\"10\" width=\"100%\" x=\"0.0\" y=\"21.5\"/><text alignment-baseline=\"middle\" fill=\"#000000\" font-family=\"Arial\" font-size=\"45\" font-weight=\"bold\" text-anchor=\"middle\" x=\"50%\" y=\"53%\">103</text></svg>"
      ],
      "text/plain": [
       "<IPython.core.display.SVG object>"
      ]
     },
     "metadata": {},
     "output_type": "display_data"
    },
    {
     "data": {
      "image/svg+xml": [
       "<svg xmlns=\"http://www.w3.org/2000/svg\" xmlns:ev=\"http://www.w3.org/2001/xml-events\" xmlns:xlink=\"http://www.w3.org/1999/xlink\" baseProfile=\"full\" height=\"120\" version=\"1.1\" width=\"120\"><defs/><rect fill=\"#5091cb\" height=\"77\" rx=\"10\" ry=\"10\" width=\"100%\" x=\"0.0\" y=\"21.5\"/><text alignment-baseline=\"middle\" fill=\"#ffffff\" font-family=\"Arial\" font-size=\"45\" font-weight=\"bold\" text-anchor=\"middle\" x=\"50%\" y=\"53%\">43</text></svg>"
      ],
      "text/plain": [
       "<IPython.core.display.SVG object>"
      ]
     },
     "metadata": {},
     "output_type": "display_data"
    },
    {
     "data": {
      "image/svg+xml": [
       "<svg xmlns=\"http://www.w3.org/2000/svg\" xmlns:ev=\"http://www.w3.org/2001/xml-events\" xmlns:xlink=\"http://www.w3.org/1999/xlink\" baseProfile=\"full\" height=\"120\" version=\"1.1\" width=\"120\"><defs/><rect fill=\"#ffcc30\" height=\"77\" rx=\"10\" ry=\"10\" width=\"100%\" x=\"0.0\" y=\"21.5\"/><text alignment-baseline=\"middle\" fill=\"#000000\" font-family=\"Arial\" font-size=\"45\" font-weight=\"bold\" text-anchor=\"middle\" x=\"50%\" y=\"53%\">82</text></svg>"
      ],
      "text/plain": [
       "<IPython.core.display.SVG object>"
      ]
     },
     "metadata": {},
     "output_type": "display_data"
    },
    {
     "data": {
      "image/svg+xml": [
       "<svg xmlns=\"http://www.w3.org/2000/svg\" xmlns:ev=\"http://www.w3.org/2001/xml-events\" xmlns:xlink=\"http://www.w3.org/1999/xlink\" baseProfile=\"full\" height=\"120\" version=\"1.1\" width=\"120\"><defs/><rect fill=\"#f49fb3\" height=\"77\" rx=\"10\" ry=\"10\" width=\"100%\" x=\"0.0\" y=\"21.5\"/><text alignment-baseline=\"middle\" fill=\"#000000\" font-family=\"Arial\" font-size=\"45\" font-weight=\"bold\" text-anchor=\"middle\" x=\"50%\" y=\"53%\">27</text></svg>"
      ],
      "text/plain": [
       "<IPython.core.display.SVG object>"
      ]
     },
     "metadata": {},
     "output_type": "display_data"
    },
    {
     "data": {
      "image/svg+xml": [
       "<svg xmlns=\"http://www.w3.org/2000/svg\" xmlns:ev=\"http://www.w3.org/2001/xml-events\" xmlns:xlink=\"http://www.w3.org/1999/xlink\" baseProfile=\"full\" height=\"120\" version=\"1.1\" width=\"120\"><defs/><rect fill=\"#ff9900\" height=\"77\" rx=\"10\" ry=\"10\" width=\"100%\" x=\"0.0\" y=\"21.5\"/><text alignment-baseline=\"middle\" fill=\"#000000\" font-family=\"Arial\" font-size=\"45\" font-weight=\"bold\" text-anchor=\"middle\" x=\"50%\" y=\"53%\">56S</text></svg>"
      ],
      "text/plain": [
       "<IPython.core.display.SVG object>"
      ]
     },
     "metadata": {},
     "output_type": "display_data"
    },
    {
     "data": {
      "image/svg+xml": [
       "<svg xmlns=\"http://www.w3.org/2000/svg\" xmlns:ev=\"http://www.w3.org/2001/xml-events\" xmlns:xlink=\"http://www.w3.org/1999/xlink\" baseProfile=\"full\" height=\"120\" version=\"1.1\" width=\"120\"><defs/><rect fill=\"#8e6539\" height=\"77\" rx=\"10\" ry=\"10\" width=\"100%\" x=\"0.0\" y=\"21.5\"/><text alignment-baseline=\"middle\" fill=\"#ffffff\" font-family=\"Arial\" font-size=\"45\" font-weight=\"bold\" text-anchor=\"middle\" x=\"50%\" y=\"53%\">58</text></svg>"
      ],
      "text/plain": [
       "<IPython.core.display.SVG object>"
      ]
     },
     "metadata": {},
     "output_type": "display_data"
    },
    {
     "data": {
      "image/svg+xml": [
       "<svg xmlns=\"http://www.w3.org/2000/svg\" xmlns:ev=\"http://www.w3.org/2001/xml-events\" xmlns:xlink=\"http://www.w3.org/1999/xlink\" baseProfile=\"full\" height=\"120\" version=\"1.1\" width=\"120\"><defs/><rect fill=\"#7a6fac\" height=\"77\" rx=\"10\" ry=\"10\" width=\"100%\" x=\"0.0\" y=\"21.5\"/><text alignment-baseline=\"middle\" fill=\"#000000\" font-family=\"Arial\" font-size=\"45\" font-weight=\"bold\" text-anchor=\"middle\" x=\"50%\" y=\"53%\">12</text></svg>"
      ],
      "text/plain": [
       "<IPython.core.display.SVG object>"
      ]
     },
     "metadata": {},
     "output_type": "display_data"
    },
    {
     "data": {
      "image/svg+xml": [
       "<svg xmlns=\"http://www.w3.org/2000/svg\" xmlns:ev=\"http://www.w3.org/2001/xml-events\" xmlns:xlink=\"http://www.w3.org/1999/xlink\" baseProfile=\"full\" height=\"120\" version=\"1.1\" width=\"120\"><defs/><rect fill=\"#f78f4b\" height=\"77\" rx=\"10\" ry=\"10\" width=\"100%\" x=\"0.0\" y=\"21.5\"/><text alignment-baseline=\"middle\" fill=\"#000000\" font-family=\"Arial\" font-size=\"45\" font-weight=\"bold\" text-anchor=\"middle\" x=\"50%\" y=\"53%\">2</text></svg>"
      ],
      "text/plain": [
       "<IPython.core.display.SVG object>"
      ]
     },
     "metadata": {},
     "output_type": "display_data"
    },
    {
     "data": {
      "image/svg+xml": [
       "<svg xmlns=\"http://www.w3.org/2000/svg\" xmlns:ev=\"http://www.w3.org/2001/xml-events\" xmlns:xlink=\"http://www.w3.org/1999/xlink\" baseProfile=\"full\" height=\"120\" version=\"1.1\" width=\"120\"><defs/><rect fill=\"#e3051c\" height=\"77\" rx=\"10\" ry=\"10\" width=\"100%\" x=\"0.0\" y=\"21.5\"/><text alignment-baseline=\"middle\" fill=\"#ffffff\" font-family=\"Arial\" font-size=\"45\" font-weight=\"bold\" text-anchor=\"middle\" x=\"50%\" y=\"53%\">21</text></svg>"
      ],
      "text/plain": [
       "<IPython.core.display.SVG object>"
      ]
     },
     "metadata": {},
     "output_type": "display_data"
    },
    {
     "data": {
      "image/svg+xml": [
       "<svg xmlns=\"http://www.w3.org/2000/svg\" xmlns:ev=\"http://www.w3.org/2001/xml-events\" xmlns:xlink=\"http://www.w3.org/1999/xlink\" baseProfile=\"full\" height=\"120\" version=\"1.1\" width=\"120\"><defs/><rect fill=\"#ceadd2\" height=\"77\" rx=\"10\" ry=\"10\" width=\"100%\" x=\"0.0\" y=\"21.5\"/><text alignment-baseline=\"middle\" fill=\"#000000\" font-family=\"Arial\" font-size=\"45\" font-weight=\"bold\" text-anchor=\"middle\" x=\"50%\" y=\"53%\">610</text></svg>"
      ],
      "text/plain": [
       "<IPython.core.display.SVG object>"
      ]
     },
     "metadata": {},
     "output_type": "display_data"
    },
    {
     "data": {
      "image/svg+xml": [
       "<svg xmlns=\"http://www.w3.org/2000/svg\" xmlns:ev=\"http://www.w3.org/2001/xml-events\" xmlns:xlink=\"http://www.w3.org/1999/xlink\" baseProfile=\"full\" height=\"120\" version=\"1.1\" width=\"120\"><defs/><rect fill=\"#8e6539\" height=\"77\" rx=\"10\" ry=\"10\" width=\"100%\" x=\"0.0\" y=\"21.5\"/><text alignment-baseline=\"middle\" fill=\"#ffffff\" font-family=\"Arial\" font-size=\"45\" font-weight=\"bold\" text-anchor=\"middle\" x=\"50%\" y=\"53%\">3</text></svg>"
      ],
      "text/plain": [
       "<IPython.core.display.SVG object>"
      ]
     },
     "metadata": {},
     "output_type": "display_data"
    },
    {
     "data": {
      "image/svg+xml": [
       "<svg xmlns=\"http://www.w3.org/2000/svg\" xmlns:ev=\"http://www.w3.org/2001/xml-events\" xmlns:xlink=\"http://www.w3.org/1999/xlink\" baseProfile=\"full\" height=\"120\" version=\"1.1\" width=\"120\"><defs/><rect fill=\"#006db8\" height=\"77\" rx=\"10\" ry=\"10\" width=\"100%\" x=\"0.0\" y=\"21.5\"/><text alignment-baseline=\"middle\" fill=\"#ffffff\" font-family=\"Arial\" font-size=\"45\" font-weight=\"bold\" text-anchor=\"middle\" x=\"50%\" y=\"53%\">26</text></svg>"
      ],
      "text/plain": [
       "<IPython.core.display.SVG object>"
      ]
     },
     "metadata": {},
     "output_type": "display_data"
    },
    {
     "data": {
      "image/svg+xml": [
       "<svg xmlns=\"http://www.w3.org/2000/svg\" xmlns:ev=\"http://www.w3.org/2001/xml-events\" xmlns:xlink=\"http://www.w3.org/1999/xlink\" baseProfile=\"full\" height=\"120\" version=\"1.1\" width=\"120\"><defs/><rect fill=\"#f59eb3\" height=\"77\" rx=\"10\" ry=\"10\" width=\"100%\" x=\"0.0\" y=\"21.5\"/><text alignment-baseline=\"middle\" fill=\"#000000\" font-family=\"Arial\" font-size=\"45\" font-weight=\"bold\" text-anchor=\"middle\" x=\"50%\" y=\"53%\">23</text></svg>"
      ],
      "text/plain": [
       "<IPython.core.display.SVG object>"
      ]
     },
     "metadata": {},
     "output_type": "display_data"
    },
    {
     "data": {
      "image/svg+xml": [
       "<svg xmlns=\"http://www.w3.org/2000/svg\" xmlns:ev=\"http://www.w3.org/2001/xml-events\" xmlns:xlink=\"http://www.w3.org/1999/xlink\" baseProfile=\"full\" height=\"120\" version=\"1.1\" width=\"120\"><defs/><rect fill=\"#87d3df\" height=\"77\" rx=\"10\" ry=\"10\" width=\"100%\" x=\"0.0\" y=\"21.5\"/><text alignment-baseline=\"middle\" fill=\"#000000\" font-family=\"Arial\" font-size=\"45\" font-weight=\"bold\" text-anchor=\"middle\" x=\"50%\" y=\"53%\">42</text></svg>"
      ],
      "text/plain": [
       "<IPython.core.display.SVG object>"
      ]
     },
     "metadata": {},
     "output_type": "display_data"
    },
    {
     "data": {
      "image/svg+xml": [
       "<svg xmlns=\"http://www.w3.org/2000/svg\" xmlns:ev=\"http://www.w3.org/2001/xml-events\" xmlns:xlink=\"http://www.w3.org/1999/xlink\" baseProfile=\"full\" height=\"120\" version=\"1.1\" width=\"120\"><defs/><rect fill=\"#e52529\" height=\"77\" rx=\"10\" ry=\"10\" width=\"100%\" x=\"0.0\" y=\"21.5\"/><text alignment-baseline=\"middle\" fill=\"#ffffff\" font-family=\"Arial\" font-size=\"45\" font-weight=\"bold\" text-anchor=\"middle\" x=\"50%\" y=\"53%\">16</text></svg>"
      ],
      "text/plain": [
       "<IPython.core.display.SVG object>"
      ]
     },
     "metadata": {},
     "output_type": "display_data"
    },
    {
     "data": {
      "image/svg+xml": [
       "<svg xmlns=\"http://www.w3.org/2000/svg\" xmlns:ev=\"http://www.w3.org/2001/xml-events\" xmlns:xlink=\"http://www.w3.org/1999/xlink\" baseProfile=\"full\" height=\"120\" version=\"1.1\" width=\"120\"><defs/><rect fill=\"#ffcd03\" height=\"77\" rx=\"10\" ry=\"10\" width=\"100%\" x=\"0.0\" y=\"21.5\"/><text alignment-baseline=\"middle\" fill=\"#000000\" font-family=\"Arial\" font-size=\"45\" font-weight=\"bold\" text-anchor=\"middle\" x=\"50%\" y=\"53%\">20</text></svg>"
      ],
      "text/plain": [
       "<IPython.core.display.SVG object>"
      ]
     },
     "metadata": {},
     "output_type": "display_data"
    },
    {
     "data": {
      "image/svg+xml": [
       "<svg xmlns=\"http://www.w3.org/2000/svg\" xmlns:ev=\"http://www.w3.org/2001/xml-events\" xmlns:xlink=\"http://www.w3.org/1999/xlink\" baseProfile=\"full\" height=\"120\" version=\"1.1\" width=\"120\"><defs/><rect fill=\"#f28f42\" height=\"77\" rx=\"10\" ry=\"10\" width=\"100%\" x=\"0.0\" y=\"21.5\"/><text alignment-baseline=\"middle\" fill=\"#000000\" font-family=\"Arial\" font-size=\"45\" font-weight=\"bold\" text-anchor=\"middle\" x=\"50%\" y=\"53%\">704</text></svg>"
      ],
      "text/plain": [
       "<IPython.core.display.SVG object>"
      ]
     },
     "metadata": {},
     "output_type": "display_data"
    },
    {
     "data": {
      "image/svg+xml": [
       "<svg xmlns=\"http://www.w3.org/2000/svg\" xmlns:ev=\"http://www.w3.org/2001/xml-events\" xmlns:xlink=\"http://www.w3.org/1999/xlink\" baseProfile=\"full\" height=\"120\" version=\"1.1\" width=\"120\"><defs/><rect fill=\"#f5a488\" height=\"77\" rx=\"10\" ry=\"10\" width=\"100%\" x=\"0.0\" y=\"21.5\"/><text alignment-baseline=\"middle\" fill=\"#000000\" font-family=\"Arial\" font-size=\"45\" font-weight=\"bold\" text-anchor=\"middle\" x=\"50%\" y=\"53%\">21</text></svg>"
      ],
      "text/plain": [
       "<IPython.core.display.SVG object>"
      ]
     },
     "metadata": {},
     "output_type": "display_data"
    },
    {
     "data": {
      "image/svg+xml": [
       "<svg xmlns=\"http://www.w3.org/2000/svg\" xmlns:ev=\"http://www.w3.org/2001/xml-events\" xmlns:xlink=\"http://www.w3.org/1999/xlink\" baseProfile=\"full\" height=\"120\" version=\"1.1\" width=\"120\"><defs/><rect fill=\"#f3a9ba\" height=\"77\" rx=\"10\" ry=\"10\" width=\"100%\" x=\"0.0\" y=\"21.5\"/><text alignment-baseline=\"middle\" fill=\"#000000\" font-family=\"Arial\" font-size=\"45\" font-weight=\"bold\" text-anchor=\"middle\" x=\"50%\" y=\"53%\">117</text></svg>"
      ],
      "text/plain": [
       "<IPython.core.display.SVG object>"
      ]
     },
     "metadata": {},
     "output_type": "display_data"
    },
    {
     "data": {
      "image/svg+xml": [
       "<svg xmlns=\"http://www.w3.org/2000/svg\" xmlns:ev=\"http://www.w3.org/2001/xml-events\" xmlns:xlink=\"http://www.w3.org/1999/xlink\" baseProfile=\"full\" height=\"120\" version=\"1.1\" width=\"120\"><defs/><rect fill=\"#3c91dc\" height=\"77\" rx=\"10\" ry=\"10\" width=\"100%\" x=\"0.0\" y=\"21.5\"/><text alignment-baseline=\"middle\" fill=\"#ffffff\" font-family=\"Arial\" font-size=\"45\" font-weight=\"bold\" text-anchor=\"middle\" x=\"50%\" y=\"53%\">259</text></svg>"
      ],
      "text/plain": [
       "<IPython.core.display.SVG object>"
      ]
     },
     "metadata": {},
     "output_type": "display_data"
    },
    {
     "data": {
      "image/svg+xml": [
       "<svg xmlns=\"http://www.w3.org/2000/svg\" xmlns:ev=\"http://www.w3.org/2001/xml-events\" xmlns:xlink=\"http://www.w3.org/1999/xlink\" baseProfile=\"full\" height=\"120\" version=\"1.1\" width=\"120\"><defs/><rect fill=\"#662483\" height=\"77\" rx=\"10\" ry=\"10\" width=\"100%\" x=\"0.0\" y=\"21.5\"/><text alignment-baseline=\"middle\" fill=\"#ffffff\" font-family=\"Arial\" font-size=\"45\" font-weight=\"bold\" text-anchor=\"middle\" x=\"50%\" y=\"53%\">44S</text></svg>"
      ],
      "text/plain": [
       "<IPython.core.display.SVG object>"
      ]
     },
     "metadata": {},
     "output_type": "display_data"
    },
    {
     "data": {
      "image/svg+xml": [
       "<svg xmlns=\"http://www.w3.org/2000/svg\" xmlns:ev=\"http://www.w3.org/2001/xml-events\" xmlns:xlink=\"http://www.w3.org/1999/xlink\" baseProfile=\"full\" height=\"120\" version=\"1.1\" width=\"120\"><defs/><rect fill=\"#d5c900\" height=\"77\" rx=\"10\" ry=\"10\" width=\"100%\" x=\"0.0\" y=\"21.5\"/><text alignment-baseline=\"middle\" fill=\"#000000\" font-family=\"Arial\" font-size=\"45\" font-weight=\"bold\" text-anchor=\"middle\" x=\"50%\" y=\"53%\">323</text></svg>"
      ],
      "text/plain": [
       "<IPython.core.display.SVG object>"
      ]
     },
     "metadata": {},
     "output_type": "display_data"
    },
    {
     "data": {
      "image/svg+xml": [
       "<svg xmlns=\"http://www.w3.org/2000/svg\" xmlns:ev=\"http://www.w3.org/2001/xml-events\" xmlns:xlink=\"http://www.w3.org/1999/xlink\" baseProfile=\"full\" height=\"120\" version=\"1.1\" width=\"120\"><defs/><rect fill=\"#e46c0a\" height=\"77\" rx=\"10\" ry=\"10\" width=\"100%\" x=\"0.0\" y=\"21.5\"/><text alignment-baseline=\"middle\" fill=\"#000000\" font-family=\"Arial\" font-size=\"45\" font-weight=\"bold\" text-anchor=\"middle\" x=\"50%\" y=\"53%\">02E</text></svg>"
      ],
      "text/plain": [
       "<IPython.core.display.SVG object>"
      ]
     },
     "metadata": {},
     "output_type": "display_data"
    },
    {
     "data": {
      "image/svg+xml": [
       "<svg xmlns=\"http://www.w3.org/2000/svg\" xmlns:ev=\"http://www.w3.org/2001/xml-events\" xmlns:xlink=\"http://www.w3.org/1999/xlink\" baseProfile=\"full\" height=\"120\" version=\"1.1\" width=\"120\"><defs/><rect fill=\"#e3b32a\" height=\"77\" rx=\"10\" ry=\"10\" width=\"100%\" x=\"0.0\" y=\"21.5\"/><text alignment-baseline=\"middle\" fill=\"#000000\" font-family=\"Arial\" font-size=\"45\" font-weight=\"bold\" text-anchor=\"middle\" x=\"50%\" y=\"53%\">321</text></svg>"
      ],
      "text/plain": [
       "<IPython.core.display.SVG object>"
      ]
     },
     "metadata": {},
     "output_type": "display_data"
    },
    {
     "data": {
      "image/svg+xml": [
       "<svg xmlns=\"http://www.w3.org/2000/svg\" xmlns:ev=\"http://www.w3.org/2001/xml-events\" xmlns:xlink=\"http://www.w3.org/1999/xlink\" baseProfile=\"full\" height=\"120\" version=\"1.1\" width=\"120\"><defs/><rect fill=\"#fcbb73\" height=\"77\" rx=\"10\" ry=\"10\" width=\"100%\" x=\"0.0\" y=\"21.5\"/><text alignment-baseline=\"middle\" fill=\"#000000\" font-family=\"Arial\" font-size=\"45\" font-weight=\"bold\" text-anchor=\"middle\" x=\"50%\" y=\"53%\">61B</text></svg>"
      ],
      "text/plain": [
       "<IPython.core.display.SVG object>"
      ]
     },
     "metadata": {},
     "output_type": "display_data"
    },
    {
     "data": {
      "image/svg+xml": [
       "<svg xmlns=\"http://www.w3.org/2000/svg\" xmlns:ev=\"http://www.w3.org/2001/xml-events\" xmlns:xlink=\"http://www.w3.org/1999/xlink\" baseProfile=\"full\" height=\"120\" version=\"1.1\" width=\"120\"><defs/><rect fill=\"#e46c0a\" height=\"77\" rx=\"10\" ry=\"10\" width=\"100%\" x=\"0.0\" y=\"21.5\"/><text alignment-baseline=\"middle\" fill=\"#000000\" font-family=\"Arial\" font-size=\"45\" font-weight=\"bold\" text-anchor=\"middle\" x=\"50%\" y=\"53%\">02D</text></svg>"
      ],
      "text/plain": [
       "<IPython.core.display.SVG object>"
      ]
     },
     "metadata": {},
     "output_type": "display_data"
    },
    {
     "data": {
      "image/svg+xml": [
       "<svg xmlns=\"http://www.w3.org/2000/svg\" xmlns:ev=\"http://www.w3.org/2001/xml-events\" xmlns:xlink=\"http://www.w3.org/1999/xlink\" baseProfile=\"full\" height=\"120\" version=\"1.1\" width=\"120\"><defs/><rect fill=\"#ffcc30\" height=\"77\" rx=\"10\" ry=\"10\" width=\"100%\" x=\"0.0\" y=\"21.5\"/><text alignment-baseline=\"middle\" fill=\"#000000\" font-family=\"Arial\" font-size=\"45\" font-weight=\"bold\" text-anchor=\"middle\" x=\"50%\" y=\"53%\">41</text></svg>"
      ],
      "text/plain": [
       "<IPython.core.display.SVG object>"
      ]
     },
     "metadata": {},
     "output_type": "display_data"
    },
    {
     "data": {
      "image/svg+xml": [
       "<svg xmlns=\"http://www.w3.org/2000/svg\" xmlns:ev=\"http://www.w3.org/2001/xml-events\" xmlns:xlink=\"http://www.w3.org/1999/xlink\" baseProfile=\"full\" height=\"120\" version=\"1.1\" width=\"120\"><defs/><rect fill=\"#cc9900\" height=\"77\" rx=\"10\" ry=\"10\" width=\"100%\" x=\"0.0\" y=\"21.5\"/><text alignment-baseline=\"middle\" fill=\"#000000\" font-family=\"Arial\" font-size=\"45\" font-weight=\"bold\" text-anchor=\"middle\" x=\"50%\" y=\"53%\">03C</text></svg>"
      ],
      "text/plain": [
       "<IPython.core.display.SVG object>"
      ]
     },
     "metadata": {},
     "output_type": "display_data"
    },
    {
     "data": {
      "image/svg+xml": [
       "<svg xmlns=\"http://www.w3.org/2000/svg\" xmlns:ev=\"http://www.w3.org/2001/xml-events\" xmlns:xlink=\"http://www.w3.org/1999/xlink\" baseProfile=\"full\" height=\"120\" version=\"1.1\" width=\"120\"><defs/><rect fill=\"#ffcc30\" height=\"77\" rx=\"10\" ry=\"10\" width=\"100%\" x=\"0.0\" y=\"21.5\"/><text alignment-baseline=\"middle\" fill=\"#000000\" font-family=\"Arial\" font-size=\"45\" font-weight=\"bold\" text-anchor=\"middle\" x=\"50%\" y=\"53%\">37</text></svg>"
      ],
      "text/plain": [
       "<IPython.core.display.SVG object>"
      ]
     },
     "metadata": {},
     "output_type": "display_data"
    },
    {
     "data": {
      "image/svg+xml": [
       "<svg xmlns=\"http://www.w3.org/2000/svg\" xmlns:ev=\"http://www.w3.org/2001/xml-events\" xmlns:xlink=\"http://www.w3.org/1999/xlink\" baseProfile=\"full\" height=\"120\" version=\"1.1\" width=\"120\"><defs/><rect fill=\"#8cc7ff\" height=\"77\" rx=\"10\" ry=\"10\" width=\"100%\" x=\"0.0\" y=\"21.5\"/><text alignment-baseline=\"middle\" fill=\"#ffffff\" font-family=\"Arial\" font-size=\"45\" font-weight=\"bold\" text-anchor=\"middle\" x=\"50%\" y=\"53%\">14</text></svg>"
      ],
      "text/plain": [
       "<IPython.core.display.SVG object>"
      ]
     },
     "metadata": {},
     "output_type": "display_data"
    },
    {
     "data": {
      "image/svg+xml": [
       "<svg xmlns=\"http://www.w3.org/2000/svg\" xmlns:ev=\"http://www.w3.org/2001/xml-events\" xmlns:xlink=\"http://www.w3.org/1999/xlink\" baseProfile=\"full\" height=\"120\" version=\"1.1\" width=\"120\"><defs/><rect fill=\"#e46c0a\" height=\"77\" rx=\"10\" ry=\"10\" width=\"100%\" x=\"0.0\" y=\"21.5\"/><text alignment-baseline=\"middle\" fill=\"#000000\" font-family=\"Arial\" font-size=\"45\" font-weight=\"bold\" text-anchor=\"middle\" x=\"50%\" y=\"53%\">02B</text></svg>"
      ],
      "text/plain": [
       "<IPython.core.display.SVG object>"
      ]
     },
     "metadata": {},
     "output_type": "display_data"
    },
    {
     "data": {
      "image/svg+xml": [
       "<svg xmlns=\"http://www.w3.org/2000/svg\" xmlns:ev=\"http://www.w3.org/2001/xml-events\" xmlns:xlink=\"http://www.w3.org/1999/xlink\" baseProfile=\"full\" height=\"120\" version=\"1.1\" width=\"120\"><defs/><rect fill=\"#253b82\" height=\"77\" rx=\"10\" ry=\"10\" width=\"100%\" x=\"0.0\" y=\"21.5\"/><text alignment-baseline=\"middle\" fill=\"#ffffff\" font-family=\"Arial\" font-size=\"45\" font-weight=\"bold\" text-anchor=\"middle\" x=\"50%\" y=\"53%\">15</text></svg>"
      ],
      "text/plain": [
       "<IPython.core.display.SVG object>"
      ]
     },
     "metadata": {},
     "output_type": "display_data"
    },
    {
     "data": {
      "image/svg+xml": [
       "<svg xmlns=\"http://www.w3.org/2000/svg\" xmlns:ev=\"http://www.w3.org/2001/xml-events\" xmlns:xlink=\"http://www.w3.org/1999/xlink\" baseProfile=\"full\" height=\"120\" version=\"1.1\" width=\"120\"><defs/><rect fill=\"#00afad\" height=\"77\" rx=\"10\" ry=\"10\" width=\"100%\" x=\"0.0\" y=\"21.5\"/><text alignment-baseline=\"middle\" fill=\"#000000\" font-family=\"Arial\" font-size=\"45\" font-weight=\"bold\" text-anchor=\"middle\" x=\"50%\" y=\"53%\">62A</text></svg>"
      ],
      "text/plain": [
       "<IPython.core.display.SVG object>"
      ]
     },
     "metadata": {},
     "output_type": "display_data"
    },
    {
     "data": {
      "image/svg+xml": [
       "<svg xmlns=\"http://www.w3.org/2000/svg\" xmlns:ev=\"http://www.w3.org/2001/xml-events\" xmlns:xlink=\"http://www.w3.org/1999/xlink\" baseProfile=\"full\" height=\"120\" version=\"1.1\" width=\"120\"><defs/><rect fill=\"#ffce00\" height=\"77\" rx=\"10\" ry=\"10\" width=\"100%\" x=\"0.0\" y=\"21.5\"/><text alignment-baseline=\"middle\" fill=\"#000000\" font-family=\"Arial\" font-size=\"45\" font-weight=\"bold\" text-anchor=\"middle\" x=\"50%\" y=\"53%\">62</text></svg>"
      ],
      "text/plain": [
       "<IPython.core.display.SVG object>"
      ]
     },
     "metadata": {},
     "output_type": "display_data"
    },
    {
     "data": {
      "image/svg+xml": [
       "<svg xmlns=\"http://www.w3.org/2000/svg\" xmlns:ev=\"http://www.w3.org/2001/xml-events\" xmlns:xlink=\"http://www.w3.org/1999/xlink\" baseProfile=\"full\" height=\"120\" version=\"1.1\" width=\"120\"><defs/><rect fill=\"#ff82b4\" height=\"77\" rx=\"10\" ry=\"10\" width=\"100%\" x=\"0.0\" y=\"21.5\"/><text alignment-baseline=\"middle\" fill=\"#000000\" font-family=\"Arial\" font-size=\"45\" font-weight=\"bold\" text-anchor=\"middle\" x=\"50%\" y=\"53%\">45</text></svg>"
      ],
      "text/plain": [
       "<IPython.core.display.SVG object>"
      ]
     },
     "metadata": {},
     "output_type": "display_data"
    },
    {
     "data": {
      "image/svg+xml": [
       "<svg xmlns=\"http://www.w3.org/2000/svg\" xmlns:ev=\"http://www.w3.org/2001/xml-events\" xmlns:xlink=\"http://www.w3.org/1999/xlink\" baseProfile=\"full\" height=\"120\" version=\"1.1\" width=\"120\"><defs/><rect fill=\"#dfaf47\" height=\"77\" rx=\"10\" ry=\"10\" width=\"100%\" x=\"0.0\" y=\"21.5\"/><text alignment-baseline=\"middle\" fill=\"#000000\" font-family=\"Arial\" font-size=\"45\" font-weight=\"bold\" text-anchor=\"middle\" x=\"50%\" y=\"53%\">27</text></svg>"
      ],
      "text/plain": [
       "<IPython.core.display.SVG object>"
      ]
     },
     "metadata": {},
     "output_type": "display_data"
    },
    {
     "data": {
      "image/svg+xml": [
       "<svg xmlns=\"http://www.w3.org/2000/svg\" xmlns:ev=\"http://www.w3.org/2001/xml-events\" xmlns:xlink=\"http://www.w3.org/1999/xlink\" baseProfile=\"full\" height=\"120\" version=\"1.1\" width=\"120\"><defs/><rect fill=\"#87d3df\" height=\"77\" rx=\"10\" ry=\"10\" width=\"100%\" x=\"0.0\" y=\"21.5\"/><text alignment-baseline=\"middle\" fill=\"#000000\" font-family=\"Arial\" font-size=\"45\" font-weight=\"bold\" text-anchor=\"middle\" x=\"50%\" y=\"53%\">95</text></svg>"
      ],
      "text/plain": [
       "<IPython.core.display.SVG object>"
      ]
     },
     "metadata": {},
     "output_type": "display_data"
    },
    {
     "data": {
      "image/svg+xml": [
       "<svg xmlns=\"http://www.w3.org/2000/svg\" xmlns:ev=\"http://www.w3.org/2001/xml-events\" xmlns:xlink=\"http://www.w3.org/1999/xlink\" baseProfile=\"full\" height=\"120\" version=\"1.1\" width=\"120\"><defs/><rect fill=\"#ceadd2\" height=\"77\" rx=\"10\" ry=\"10\" width=\"100%\" x=\"0.0\" y=\"21.5\"/><text alignment-baseline=\"middle\" fill=\"#000000\" font-family=\"Arial\" font-size=\"45\" font-weight=\"bold\" text-anchor=\"middle\" x=\"50%\" y=\"53%\">324</text></svg>"
      ],
      "text/plain": [
       "<IPython.core.display.SVG object>"
      ]
     },
     "metadata": {},
     "output_type": "display_data"
    },
    {
     "data": {
      "image/svg+xml": [
       "<svg xmlns=\"http://www.w3.org/2000/svg\" xmlns:ev=\"http://www.w3.org/2001/xml-events\" xmlns:xlink=\"http://www.w3.org/1999/xlink\" baseProfile=\"full\" height=\"120\" version=\"1.1\" width=\"120\"><defs/><rect fill=\"#cfe2f3\" height=\"77\" rx=\"10\" ry=\"10\" width=\"100%\" x=\"0.0\" y=\"21.5\"/><text alignment-baseline=\"middle\" fill=\"#000000\" font-family=\"Arial\" font-size=\"45\" font-weight=\"bold\" text-anchor=\"middle\" x=\"50%\" y=\"53%\">1</text></svg>"
      ],
      "text/plain": [
       "<IPython.core.display.SVG object>"
      ]
     },
     "metadata": {},
     "output_type": "display_data"
    },
    {
     "data": {
      "image/svg+xml": [
       "<svg xmlns=\"http://www.w3.org/2000/svg\" xmlns:ev=\"http://www.w3.org/2001/xml-events\" xmlns:xlink=\"http://www.w3.org/1999/xlink\" baseProfile=\"full\" height=\"120\" version=\"1.1\" width=\"120\"><defs/><rect fill=\"#ffbe00\" height=\"77\" rx=\"10\" ry=\"10\" width=\"100%\" x=\"0.0\" y=\"21.5\"/><text alignment-baseline=\"middle\" fill=\"#000000\" font-family=\"Arial\" font-size=\"45\" font-weight=\"bold\" text-anchor=\"middle\" x=\"50%\" y=\"53%\">40</text></svg>"
      ],
      "text/plain": [
       "<IPython.core.display.SVG object>"
      ]
     },
     "metadata": {},
     "output_type": "display_data"
    },
    {
     "data": {
      "image/svg+xml": [
       "<svg xmlns=\"http://www.w3.org/2000/svg\" xmlns:ev=\"http://www.w3.org/2001/xml-events\" xmlns:xlink=\"http://www.w3.org/1999/xlink\" baseProfile=\"full\" height=\"120\" version=\"1.1\" width=\"120\"><defs/><rect fill=\"#ceacd2\" height=\"77\" rx=\"10\" ry=\"10\" width=\"100%\" x=\"0.0\" y=\"21.5\"/><text alignment-baseline=\"middle\" fill=\"#000000\" font-family=\"Arial\" font-size=\"45\" font-weight=\"bold\" text-anchor=\"middle\" x=\"50%\" y=\"53%\">11.5</text></svg>"
      ],
      "text/plain": [
       "<IPython.core.display.SVG object>"
      ]
     },
     "metadata": {},
     "output_type": "display_data"
    },
    {
     "data": {
      "image/svg+xml": [
       "<svg xmlns=\"http://www.w3.org/2000/svg\" xmlns:ev=\"http://www.w3.org/2001/xml-events\" xmlns:xlink=\"http://www.w3.org/1999/xlink\" baseProfile=\"full\" height=\"120\" version=\"1.1\" width=\"120\"><defs/><rect fill=\"#fedf53\" height=\"77\" rx=\"10\" ry=\"10\" width=\"100%\" x=\"0.0\" y=\"21.5\"/><text alignment-baseline=\"middle\" fill=\"#000000\" font-family=\"Arial\" font-size=\"45\" font-weight=\"bold\" text-anchor=\"middle\" x=\"50%\" y=\"53%\">N133</text></svg>"
      ],
      "text/plain": [
       "<IPython.core.display.SVG object>"
      ]
     },
     "metadata": {},
     "output_type": "display_data"
    },
    {
     "data": {
      "image/svg+xml": [
       "<svg xmlns=\"http://www.w3.org/2000/svg\" xmlns:ev=\"http://www.w3.org/2001/xml-events\" xmlns:xlink=\"http://www.w3.org/1999/xlink\" baseProfile=\"full\" height=\"120\" version=\"1.1\" width=\"120\"><defs/><rect fill=\"#d9ead3\" height=\"77\" rx=\"10\" ry=\"10\" width=\"100%\" x=\"0.0\" y=\"21.5\"/><text alignment-baseline=\"middle\" fill=\"#000000\" font-family=\"Arial\" font-size=\"45\" font-weight=\"bold\" text-anchor=\"middle\" x=\"50%\" y=\"53%\">61B</text></svg>"
      ],
      "text/plain": [
       "<IPython.core.display.SVG object>"
      ]
     },
     "metadata": {},
     "output_type": "display_data"
    },
    {
     "data": {
      "image/svg+xml": [
       "<svg xmlns=\"http://www.w3.org/2000/svg\" xmlns:ev=\"http://www.w3.org/2001/xml-events\" xmlns:xlink=\"http://www.w3.org/1999/xlink\" baseProfile=\"full\" height=\"120\" version=\"1.1\" width=\"120\"><defs/><rect fill=\"#b44a9c\" height=\"77\" rx=\"10\" ry=\"10\" width=\"100%\" x=\"0.0\" y=\"21.5\"/><text alignment-baseline=\"middle\" fill=\"#ffffff\" font-family=\"Arial\" font-size=\"45\" font-weight=\"bold\" text-anchor=\"middle\" x=\"50%\" y=\"53%\">3s</text></svg>"
      ],
      "text/plain": [
       "<IPython.core.display.SVG object>"
      ]
     },
     "metadata": {},
     "output_type": "display_data"
    },
    {
     "data": {
      "image/svg+xml": [
       "<svg xmlns=\"http://www.w3.org/2000/svg\" xmlns:ev=\"http://www.w3.org/2001/xml-events\" xmlns:xlink=\"http://www.w3.org/1999/xlink\" baseProfile=\"full\" height=\"120\" version=\"1.1\" width=\"120\"><defs/><rect fill=\"#b44a9c\" height=\"77\" rx=\"10\" ry=\"10\" width=\"100%\" x=\"0.0\" y=\"21.5\"/><text alignment-baseline=\"middle\" fill=\"#ffffff\" font-family=\"Arial\" font-size=\"45\" font-weight=\"bold\" text-anchor=\"middle\" x=\"50%\" y=\"53%\">3</text></svg>"
      ],
      "text/plain": [
       "<IPython.core.display.SVG object>"
      ]
     },
     "metadata": {},
     "output_type": "display_data"
    },
    {
     "data": {
      "image/svg+xml": [
       "<svg xmlns=\"http://www.w3.org/2000/svg\" xmlns:ev=\"http://www.w3.org/2001/xml-events\" xmlns:xlink=\"http://www.w3.org/1999/xlink\" baseProfile=\"full\" height=\"120\" version=\"1.1\" width=\"120\"><defs/><rect fill=\"#69bf80\" height=\"77\" rx=\"10\" ry=\"10\" width=\"100%\" x=\"0.0\" y=\"21.5\"/><text alignment-baseline=\"middle\" fill=\"#ffffff\" font-family=\"Arial\" font-size=\"45\" font-weight=\"bold\" text-anchor=\"middle\" x=\"50%\" y=\"53%\">70</text></svg>"
      ],
      "text/plain": [
       "<IPython.core.display.SVG object>"
      ]
     },
     "metadata": {},
     "output_type": "display_data"
    },
    {
     "data": {
      "image/svg+xml": [
       "<svg xmlns=\"http://www.w3.org/2000/svg\" xmlns:ev=\"http://www.w3.org/2001/xml-events\" xmlns:xlink=\"http://www.w3.org/1999/xlink\" baseProfile=\"full\" height=\"120\" version=\"1.1\" width=\"120\"><defs/><rect fill=\"#b6d7a8\" height=\"77\" rx=\"10\" ry=\"10\" width=\"100%\" x=\"0.0\" y=\"21.5\"/><text alignment-baseline=\"middle\" fill=\"#000000\" font-family=\"Arial\" font-size=\"45\" font-weight=\"bold\" text-anchor=\"middle\" x=\"50%\" y=\"53%\">22</text></svg>"
      ],
      "text/plain": [
       "<IPython.core.display.SVG object>"
      ]
     },
     "metadata": {},
     "output_type": "display_data"
    },
    {
     "data": {
      "image/svg+xml": [
       "<svg xmlns=\"http://www.w3.org/2000/svg\" xmlns:ev=\"http://www.w3.org/2001/xml-events\" xmlns:xlink=\"http://www.w3.org/1999/xlink\" baseProfile=\"full\" height=\"120\" version=\"1.1\" width=\"120\"><defs/><rect fill=\"#ffce00\" height=\"77\" rx=\"10\" ry=\"10\" width=\"100%\" x=\"0.0\" y=\"21.5\"/><text alignment-baseline=\"middle\" fill=\"#000000\" font-family=\"Arial\" font-size=\"45\" font-weight=\"bold\" text-anchor=\"middle\" x=\"50%\" y=\"53%\">32</text></svg>"
      ],
      "text/plain": [
       "<IPython.core.display.SVG object>"
      ]
     },
     "metadata": {},
     "output_type": "display_data"
    },
    {
     "data": {
      "image/svg+xml": [
       "<svg xmlns=\"http://www.w3.org/2000/svg\" xmlns:ev=\"http://www.w3.org/2001/xml-events\" xmlns:xlink=\"http://www.w3.org/1999/xlink\" baseProfile=\"full\" height=\"120\" version=\"1.1\" width=\"120\"><defs/><rect fill=\"#f28e42\" height=\"77\" rx=\"10\" ry=\"10\" width=\"100%\" x=\"0.0\" y=\"21.5\"/><text alignment-baseline=\"middle\" fill=\"#000000\" font-family=\"Arial\" font-size=\"45\" font-weight=\"bold\" text-anchor=\"middle\" x=\"50%\" y=\"53%\">63</text></svg>"
      ],
      "text/plain": [
       "<IPython.core.display.SVG object>"
      ]
     },
     "metadata": {},
     "output_type": "display_data"
    },
    {
     "data": {
      "image/svg+xml": [
       "<svg xmlns=\"http://www.w3.org/2000/svg\" xmlns:ev=\"http://www.w3.org/2001/xml-events\" xmlns:xlink=\"http://www.w3.org/1999/xlink\" baseProfile=\"full\" height=\"120\" version=\"1.1\" width=\"120\"><defs/><rect fill=\"#009640\" height=\"77\" rx=\"10\" ry=\"10\" width=\"100%\" x=\"0.0\" y=\"21.5\"/><text alignment-baseline=\"middle\" fill=\"#ffffff\" font-family=\"Arial\" font-size=\"45\" font-weight=\"bold\" text-anchor=\"middle\" x=\"50%\" y=\"53%\">457</text></svg>"
      ],
      "text/plain": [
       "<IPython.core.display.SVG object>"
      ]
     },
     "metadata": {},
     "output_type": "display_data"
    },
    {
     "data": {
      "image/svg+xml": [
       "<svg xmlns=\"http://www.w3.org/2000/svg\" xmlns:ev=\"http://www.w3.org/2001/xml-events\" xmlns:xlink=\"http://www.w3.org/1999/xlink\" baseProfile=\"full\" height=\"120\" version=\"1.1\" width=\"120\"><defs/><rect fill=\"#3bb2ff\" height=\"77\" rx=\"10\" ry=\"10\" width=\"100%\" x=\"0.0\" y=\"21.5\"/><text alignment-baseline=\"middle\" fill=\"#000000\" font-family=\"Arial\" font-size=\"45\" font-weight=\"bold\" text-anchor=\"middle\" x=\"50%\" y=\"53%\">34</text></svg>"
      ],
      "text/plain": [
       "<IPython.core.display.SVG object>"
      ]
     },
     "metadata": {},
     "output_type": "display_data"
    },
    {
     "data": {
      "image/svg+xml": [
       "<svg xmlns=\"http://www.w3.org/2000/svg\" xmlns:ev=\"http://www.w3.org/2001/xml-events\" xmlns:xlink=\"http://www.w3.org/1999/xlink\" baseProfile=\"full\" height=\"120\" version=\"1.1\" width=\"120\"><defs/><rect fill=\"#f9b000\" height=\"77\" rx=\"10\" ry=\"10\" width=\"100%\" x=\"0.0\" y=\"21.5\"/><text alignment-baseline=\"middle\" fill=\"#000000\" font-family=\"Arial\" font-size=\"45\" font-weight=\"bold\" text-anchor=\"middle\" x=\"50%\" y=\"53%\">39</text></svg>"
      ],
      "text/plain": [
       "<IPython.core.display.SVG object>"
      ]
     },
     "metadata": {},
     "output_type": "display_data"
    },
    {
     "data": {
      "image/svg+xml": [
       "<svg xmlns=\"http://www.w3.org/2000/svg\" xmlns:ev=\"http://www.w3.org/2001/xml-events\" xmlns:xlink=\"http://www.w3.org/1999/xlink\" baseProfile=\"full\" height=\"120\" version=\"1.1\" width=\"120\"><defs/><rect fill=\"#b397c7\" height=\"77\" rx=\"10\" ry=\"10\" width=\"100%\" x=\"0.0\" y=\"21.5\"/><text alignment-baseline=\"middle\" fill=\"#ffffff\" font-family=\"Arial\" font-size=\"45\" font-weight=\"bold\" text-anchor=\"middle\" x=\"50%\" y=\"53%\">749</text></svg>"
      ],
      "text/plain": [
       "<IPython.core.display.SVG object>"
      ]
     },
     "metadata": {},
     "output_type": "display_data"
    },
    {
     "data": {
      "image/svg+xml": [
       "<svg xmlns=\"http://www.w3.org/2000/svg\" xmlns:ev=\"http://www.w3.org/2001/xml-events\" xmlns:xlink=\"http://www.w3.org/1999/xlink\" baseProfile=\"full\" height=\"120\" version=\"1.1\" width=\"120\"><defs/><rect fill=\"#b8ddd1\" height=\"77\" rx=\"10\" ry=\"10\" width=\"100%\" x=\"0.0\" y=\"21.5\"/><text alignment-baseline=\"middle\" fill=\"#000000\" font-family=\"Arial\" font-size=\"45\" font-weight=\"bold\" text-anchor=\"middle\" x=\"50%\" y=\"53%\">79</text></svg>"
      ],
      "text/plain": [
       "<IPython.core.display.SVG object>"
      ]
     },
     "metadata": {},
     "output_type": "display_data"
    },
    {
     "data": {
      "image/svg+xml": [
       "<svg xmlns=\"http://www.w3.org/2000/svg\" xmlns:ev=\"http://www.w3.org/2001/xml-events\" xmlns:xlink=\"http://www.w3.org/1999/xlink\" baseProfile=\"full\" height=\"120\" version=\"1.1\" width=\"120\"><defs/><rect fill=\"#660000\" height=\"77\" rx=\"10\" ry=\"10\" width=\"100%\" x=\"0.0\" y=\"21.5\"/><text alignment-baseline=\"middle\" fill=\"#ffffff\" font-family=\"Arial\" font-size=\"45\" font-weight=\"bold\" text-anchor=\"middle\" x=\"50%\" y=\"53%\">305</text></svg>"
      ],
      "text/plain": [
       "<IPython.core.display.SVG object>"
      ]
     },
     "metadata": {},
     "output_type": "display_data"
    },
    {
     "data": {
      "image/svg+xml": [
       "<svg xmlns=\"http://www.w3.org/2000/svg\" xmlns:ev=\"http://www.w3.org/2001/xml-events\" xmlns:xlink=\"http://www.w3.org/1999/xlink\" baseProfile=\"full\" height=\"120\" version=\"1.1\" width=\"120\"><defs/><rect fill=\"#3bb2ff\" height=\"77\" rx=\"10\" ry=\"10\" width=\"100%\" x=\"0.0\" y=\"21.5\"/><text alignment-baseline=\"middle\" fill=\"#000000\" font-family=\"Arial\" font-size=\"45\" font-weight=\"bold\" text-anchor=\"middle\" x=\"50%\" y=\"53%\">11</text></svg>"
      ],
      "text/plain": [
       "<IPython.core.display.SVG object>"
      ]
     },
     "metadata": {},
     "output_type": "display_data"
    },
    {
     "data": {
      "image/svg+xml": [
       "<svg xmlns=\"http://www.w3.org/2000/svg\" xmlns:ev=\"http://www.w3.org/2001/xml-events\" xmlns:xlink=\"http://www.w3.org/1999/xlink\" baseProfile=\"full\" height=\"120\" version=\"1.1\" width=\"120\"><defs/><rect fill=\"#f5a374\" height=\"77\" rx=\"10\" ry=\"10\" width=\"100%\" x=\"0.0\" y=\"21.5\"/><text alignment-baseline=\"middle\" fill=\"#ffffff\" font-family=\"Arial\" font-size=\"45\" font-weight=\"bold\" text-anchor=\"middle\" x=\"50%\" y=\"53%\">28</text></svg>"
      ],
      "text/plain": [
       "<IPython.core.display.SVG object>"
      ]
     },
     "metadata": {},
     "output_type": "display_data"
    },
    {
     "data": {
      "image/svg+xml": [
       "<svg xmlns=\"http://www.w3.org/2000/svg\" xmlns:ev=\"http://www.w3.org/2001/xml-events\" xmlns:xlink=\"http://www.w3.org/1999/xlink\" baseProfile=\"full\" height=\"120\" version=\"1.1\" width=\"120\"><defs/><rect fill=\"#a862a5\" height=\"77\" rx=\"10\" ry=\"10\" width=\"100%\" x=\"0.0\" y=\"21.5\"/><text alignment-baseline=\"middle\" fill=\"#000000\" font-family=\"Arial\" font-size=\"45\" font-weight=\"bold\" text-anchor=\"middle\" x=\"50%\" y=\"53%\">11B</text></svg>"
      ],
      "text/plain": [
       "<IPython.core.display.SVG object>"
      ]
     },
     "metadata": {},
     "output_type": "display_data"
    },
    {
     "data": {
      "image/svg+xml": [
       "<svg xmlns=\"http://www.w3.org/2000/svg\" xmlns:ev=\"http://www.w3.org/2001/xml-events\" xmlns:xlink=\"http://www.w3.org/1999/xlink\" baseProfile=\"full\" height=\"120\" version=\"1.1\" width=\"120\"><defs/><rect fill=\"#cf95c2\" height=\"77\" rx=\"10\" ry=\"10\" width=\"100%\" x=\"0.0\" y=\"21.5\"/><text alignment-baseline=\"middle\" fill=\"#000000\" font-family=\"Arial\" font-size=\"45\" font-weight=\"bold\" text-anchor=\"middle\" x=\"50%\" y=\"53%\">11C</text></svg>"
      ],
      "text/plain": [
       "<IPython.core.display.SVG object>"
      ]
     },
     "metadata": {},
     "output_type": "display_data"
    },
    {
     "data": {
      "image/svg+xml": [
       "<svg xmlns=\"http://www.w3.org/2000/svg\" xmlns:ev=\"http://www.w3.org/2001/xml-events\" xmlns:xlink=\"http://www.w3.org/1999/xlink\" baseProfile=\"full\" height=\"120\" version=\"1.1\" width=\"120\"><defs/><rect fill=\"#a1daf7\" height=\"77\" rx=\"10\" ry=\"10\" width=\"100%\" x=\"0.0\" y=\"21.5\"/><text alignment-baseline=\"middle\" fill=\"#000000\" font-family=\"Arial\" font-size=\"45\" font-weight=\"bold\" text-anchor=\"middle\" x=\"50%\" y=\"53%\">13C</text></svg>"
      ],
      "text/plain": [
       "<IPython.core.display.SVG object>"
      ]
     },
     "metadata": {},
     "output_type": "display_data"
    },
    {
     "data": {
      "image/svg+xml": [
       "<svg xmlns=\"http://www.w3.org/2000/svg\" xmlns:ev=\"http://www.w3.org/2001/xml-events\" xmlns:xlink=\"http://www.w3.org/1999/xlink\" baseProfile=\"full\" height=\"120\" version=\"1.1\" width=\"120\"><defs/><rect fill=\"#97d4e2\" height=\"77\" rx=\"10\" ry=\"10\" width=\"100%\" x=\"0.0\" y=\"21.5\"/><text alignment-baseline=\"middle\" fill=\"#000000\" font-family=\"Arial\" font-size=\"45\" font-weight=\"bold\" text-anchor=\"middle\" x=\"50%\" y=\"53%\">309</text></svg>"
      ],
      "text/plain": [
       "<IPython.core.display.SVG object>"
      ]
     },
     "metadata": {},
     "output_type": "display_data"
    },
    {
     "data": {
      "image/svg+xml": [
       "<svg xmlns=\"http://www.w3.org/2000/svg\" xmlns:ev=\"http://www.w3.org/2001/xml-events\" xmlns:xlink=\"http://www.w3.org/1999/xlink\" baseProfile=\"full\" height=\"120\" version=\"1.1\" width=\"120\"><defs/><rect fill=\"#686183\" height=\"77\" rx=\"10\" ry=\"10\" width=\"100%\" x=\"0.0\" y=\"21.5\"/><text alignment-baseline=\"middle\" fill=\"#ffffff\" font-family=\"Arial\" font-size=\"45\" font-weight=\"bold\" text-anchor=\"middle\" x=\"50%\" y=\"53%\">61</text></svg>"
      ],
      "text/plain": [
       "<IPython.core.display.SVG object>"
      ]
     },
     "metadata": {},
     "output_type": "display_data"
    },
    {
     "data": {
      "image/svg+xml": [
       "<svg xmlns=\"http://www.w3.org/2000/svg\" xmlns:ev=\"http://www.w3.org/2001/xml-events\" xmlns:xlink=\"http://www.w3.org/1999/xlink\" baseProfile=\"full\" height=\"120\" version=\"1.1\" width=\"120\"><defs/><rect fill=\"#cbdc4f\" height=\"77\" rx=\"10\" ry=\"10\" width=\"100%\" x=\"0.0\" y=\"21.5\"/><text alignment-baseline=\"middle\" fill=\"#000000\" font-family=\"Arial\" font-size=\"45\" font-weight=\"bold\" text-anchor=\"middle\" x=\"50%\" y=\"53%\">61</text></svg>"
      ],
      "text/plain": [
       "<IPython.core.display.SVG object>"
      ]
     },
     "metadata": {},
     "output_type": "display_data"
    },
    {
     "data": {
      "image/svg+xml": [
       "<svg xmlns=\"http://www.w3.org/2000/svg\" xmlns:ev=\"http://www.w3.org/2001/xml-events\" xmlns:xlink=\"http://www.w3.org/1999/xlink\" baseProfile=\"full\" height=\"120\" version=\"1.1\" width=\"120\"><defs/><rect fill=\"#be4999\" height=\"77\" rx=\"10\" ry=\"10\" width=\"100%\" x=\"0.0\" y=\"21.5\"/><text alignment-baseline=\"middle\" fill=\"#ffffff\" font-family=\"Arial\" font-size=\"45\" font-weight=\"bold\" text-anchor=\"middle\" x=\"50%\" y=\"53%\">21S</text></svg>"
      ],
      "text/plain": [
       "<IPython.core.display.SVG object>"
      ]
     },
     "metadata": {},
     "output_type": "display_data"
    },
    {
     "data": {
      "image/svg+xml": [
       "<svg xmlns=\"http://www.w3.org/2000/svg\" xmlns:ev=\"http://www.w3.org/2001/xml-events\" xmlns:xlink=\"http://www.w3.org/1999/xlink\" baseProfile=\"full\" height=\"120\" version=\"1.1\" width=\"120\"><defs/><rect fill=\"#aaaaaa\" height=\"77\" rx=\"10\" ry=\"10\" width=\"100%\" x=\"0.0\" y=\"21.5\"/><text alignment-baseline=\"middle\" fill=\"#ffffff\" font-family=\"Arial\" font-size=\"45\" font-weight=\"bold\" text-anchor=\"middle\" x=\"50%\" y=\"53%\">N146</text></svg>"
      ],
      "text/plain": [
       "<IPython.core.display.SVG object>"
      ]
     },
     "metadata": {},
     "output_type": "display_data"
    },
    {
     "data": {
      "image/svg+xml": [
       "<svg xmlns=\"http://www.w3.org/2000/svg\" xmlns:ev=\"http://www.w3.org/2001/xml-events\" xmlns:xlink=\"http://www.w3.org/1999/xlink\" baseProfile=\"full\" height=\"120\" version=\"1.1\" width=\"120\"><defs/><rect fill=\"#96b28a\" height=\"77\" rx=\"10\" ry=\"10\" width=\"100%\" x=\"0.0\" y=\"21.5\"/><text alignment-baseline=\"middle\" fill=\"#ffffff\" font-family=\"Arial\" font-size=\"45\" font-weight=\"bold\" text-anchor=\"middle\" x=\"50%\" y=\"53%\">501</text></svg>"
      ],
      "text/plain": [
       "<IPython.core.display.SVG object>"
      ]
     },
     "metadata": {},
     "output_type": "display_data"
    },
    {
     "data": {
      "image/svg+xml": [
       "<svg xmlns=\"http://www.w3.org/2000/svg\" xmlns:ev=\"http://www.w3.org/2001/xml-events\" xmlns:xlink=\"http://www.w3.org/1999/xlink\" baseProfile=\"full\" height=\"120\" version=\"1.1\" width=\"120\"><defs/><rect fill=\"#a38c57\" height=\"77\" rx=\"10\" ry=\"10\" width=\"100%\" x=\"0.0\" y=\"21.5\"/><text alignment-baseline=\"middle\" fill=\"#ffffff\" font-family=\"Arial\" font-size=\"45\" font-weight=\"bold\" text-anchor=\"middle\" x=\"50%\" y=\"53%\">7</text></svg>"
      ],
      "text/plain": [
       "<IPython.core.display.SVG object>"
      ]
     },
     "metadata": {},
     "output_type": "display_data"
    },
    {
     "data": {
      "image/svg+xml": [
       "<svg xmlns=\"http://www.w3.org/2000/svg\" xmlns:ev=\"http://www.w3.org/2001/xml-events\" xmlns:xlink=\"http://www.w3.org/1999/xlink\" baseProfile=\"full\" height=\"120\" version=\"1.1\" width=\"120\"><defs/><rect fill=\"#ea9999\" height=\"77\" rx=\"10\" ry=\"10\" width=\"100%\" x=\"0.0\" y=\"21.5\"/><text alignment-baseline=\"middle\" fill=\"#000000\" font-family=\"Arial\" font-size=\"45\" font-weight=\"bold\" text-anchor=\"middle\" x=\"50%\" y=\"53%\">8</text></svg>"
      ],
      "text/plain": [
       "<IPython.core.display.SVG object>"
      ]
     },
     "metadata": {},
     "output_type": "display_data"
    },
    {
     "data": {
      "image/svg+xml": [
       "<svg xmlns=\"http://www.w3.org/2000/svg\" xmlns:ev=\"http://www.w3.org/2001/xml-events\" xmlns:xlink=\"http://www.w3.org/1999/xlink\" baseProfile=\"full\" height=\"120\" version=\"1.1\" width=\"120\"><defs/><rect fill=\"#dc9015\" height=\"77\" rx=\"10\" ry=\"10\" width=\"100%\" x=\"0.0\" y=\"21.5\"/><text alignment-baseline=\"middle\" fill=\"#000000\" font-family=\"Arial\" font-size=\"45\" font-weight=\"bold\" text-anchor=\"middle\" x=\"50%\" y=\"53%\">4s</text></svg>"
      ],
      "text/plain": [
       "<IPython.core.display.SVG object>"
      ]
     },
     "metadata": {},
     "output_type": "display_data"
    },
    {
     "data": {
      "image/svg+xml": [
       "<svg xmlns=\"http://www.w3.org/2000/svg\" xmlns:ev=\"http://www.w3.org/2001/xml-events\" xmlns:xlink=\"http://www.w3.org/1999/xlink\" baseProfile=\"full\" height=\"120\" version=\"1.1\" width=\"120\"><defs/><rect fill=\"#7f1518\" height=\"77\" rx=\"10\" ry=\"10\" width=\"100%\" x=\"0.0\" y=\"21.5\"/><text alignment-baseline=\"middle\" fill=\"#ffffff\" font-family=\"Arial\" font-size=\"45\" font-weight=\"bold\" text-anchor=\"middle\" x=\"50%\" y=\"53%\">09</text></svg>"
      ],
      "text/plain": [
       "<IPython.core.display.SVG object>"
      ]
     },
     "metadata": {},
     "output_type": "display_data"
    },
    {
     "data": {
      "image/svg+xml": [
       "<svg xmlns=\"http://www.w3.org/2000/svg\" xmlns:ev=\"http://www.w3.org/2001/xml-events\" xmlns:xlink=\"http://www.w3.org/1999/xlink\" baseProfile=\"full\" height=\"120\" version=\"1.1\" width=\"120\"><defs/><rect fill=\"#19ff99\" height=\"77\" rx=\"10\" ry=\"10\" width=\"100%\" x=\"0.0\" y=\"21.5\"/><text alignment-baseline=\"middle\" fill=\"#000000\" font-family=\"Arial\" font-size=\"45\" font-weight=\"bold\" text-anchor=\"middle\" x=\"50%\" y=\"53%\">114</text></svg>"
      ],
      "text/plain": [
       "<IPython.core.display.SVG object>"
      ]
     },
     "metadata": {},
     "output_type": "display_data"
    },
    {
     "data": {
      "image/svg+xml": [
       "<svg xmlns=\"http://www.w3.org/2000/svg\" xmlns:ev=\"http://www.w3.org/2001/xml-events\" xmlns:xlink=\"http://www.w3.org/1999/xlink\" baseProfile=\"full\" height=\"120\" version=\"1.1\" width=\"120\"><defs/><rect fill=\"#fabf5f\" height=\"77\" rx=\"10\" ry=\"10\" width=\"100%\" x=\"0.0\" y=\"21.5\"/><text alignment-baseline=\"middle\" fill=\"#ffffff\" font-family=\"Arial\" font-size=\"45\" font-weight=\"bold\" text-anchor=\"middle\" x=\"50%\" y=\"53%\">21s</text></svg>"
      ],
      "text/plain": [
       "<IPython.core.display.SVG object>"
      ]
     },
     "metadata": {},
     "output_type": "display_data"
    },
    {
     "data": {
      "image/svg+xml": [
       "<svg xmlns=\"http://www.w3.org/2000/svg\" xmlns:ev=\"http://www.w3.org/2001/xml-events\" xmlns:xlink=\"http://www.w3.org/1999/xlink\" baseProfile=\"full\" height=\"120\" version=\"1.1\" width=\"120\"><defs/><rect fill=\"#e78c29\" height=\"77\" rx=\"10\" ry=\"10\" width=\"100%\" x=\"0.0\" y=\"21.5\"/><text alignment-baseline=\"middle\" fill=\"#000000\" font-family=\"Arial\" font-size=\"45\" font-weight=\"bold\" text-anchor=\"middle\" x=\"50%\" y=\"53%\">4</text></svg>"
      ],
      "text/plain": [
       "<IPython.core.display.SVG object>"
      ]
     },
     "metadata": {},
     "output_type": "display_data"
    },
    {
     "data": {
      "image/svg+xml": [
       "<svg xmlns=\"http://www.w3.org/2000/svg\" xmlns:ev=\"http://www.w3.org/2001/xml-events\" xmlns:xlink=\"http://www.w3.org/1999/xlink\" baseProfile=\"full\" height=\"120\" version=\"1.1\" width=\"120\"><defs/><rect fill=\"#cf2939\" height=\"77\" rx=\"10\" ry=\"10\" width=\"100%\" x=\"0.0\" y=\"21.5\"/><text alignment-baseline=\"middle\" fill=\"#ffffff\" font-family=\"Arial\" font-size=\"45\" font-weight=\"bold\" text-anchor=\"middle\" x=\"50%\" y=\"53%\">1</text></svg>"
      ],
      "text/plain": [
       "<IPython.core.display.SVG object>"
      ]
     },
     "metadata": {},
     "output_type": "display_data"
    },
    {
     "data": {
      "image/svg+xml": [
       "<svg xmlns=\"http://www.w3.org/2000/svg\" xmlns:ev=\"http://www.w3.org/2001/xml-events\" xmlns:xlink=\"http://www.w3.org/1999/xlink\" baseProfile=\"full\" height=\"120\" version=\"1.1\" width=\"120\"><defs/><rect fill=\"#b1b9df\" height=\"77\" rx=\"10\" ry=\"10\" width=\"100%\" x=\"0.0\" y=\"21.5\"/><text alignment-baseline=\"middle\" fill=\"#000000\" font-family=\"Arial\" font-size=\"45\" font-weight=\"bold\" text-anchor=\"middle\" x=\"50%\" y=\"53%\">6</text></svg>"
      ],
      "text/plain": [
       "<IPython.core.display.SVG object>"
      ]
     },
     "metadata": {},
     "output_type": "display_data"
    },
    {
     "data": {
      "image/svg+xml": [
       "<svg xmlns=\"http://www.w3.org/2000/svg\" xmlns:ev=\"http://www.w3.org/2001/xml-events\" xmlns:xlink=\"http://www.w3.org/1999/xlink\" baseProfile=\"full\" height=\"120\" version=\"1.1\" width=\"120\"><defs/><rect fill=\"#79ac2b\" height=\"77\" rx=\"10\" ry=\"10\" width=\"100%\" x=\"0.0\" y=\"21.5\"/><text alignment-baseline=\"middle\" fill=\"#ffffff\" font-family=\"Arial\" font-size=\"45\" font-weight=\"bold\" text-anchor=\"middle\" x=\"50%\" y=\"53%\">9</text></svg>"
      ],
      "text/plain": [
       "<IPython.core.display.SVG object>"
      ]
     },
     "metadata": {},
     "output_type": "display_data"
    },
    {
     "data": {
      "image/svg+xml": [
       "<svg xmlns=\"http://www.w3.org/2000/svg\" xmlns:ev=\"http://www.w3.org/2001/xml-events\" xmlns:xlink=\"http://www.w3.org/1999/xlink\" baseProfile=\"full\" height=\"120\" version=\"1.1\" width=\"120\"><defs/><rect fill=\"#00814f\" height=\"77\" rx=\"10\" ry=\"10\" width=\"100%\" x=\"0.0\" y=\"21.5\"/><text alignment-baseline=\"middle\" fill=\"#ffffff\" font-family=\"Arial\" font-size=\"45\" font-weight=\"bold\" text-anchor=\"middle\" x=\"50%\" y=\"53%\">22</text></svg>"
      ],
      "text/plain": [
       "<IPython.core.display.SVG object>"
      ]
     },
     "metadata": {},
     "output_type": "display_data"
    },
    {
     "data": {
      "image/svg+xml": [
       "<svg xmlns=\"http://www.w3.org/2000/svg\" xmlns:ev=\"http://www.w3.org/2001/xml-events\" xmlns:xlink=\"http://www.w3.org/1999/xlink\" baseProfile=\"full\" height=\"120\" version=\"1.1\" width=\"120\"><defs/><rect fill=\"#d4ca00\" height=\"77\" rx=\"10\" ry=\"10\" width=\"100%\" x=\"0.0\" y=\"21.5\"/><text alignment-baseline=\"middle\" fill=\"#000000\" font-family=\"Arial\" font-size=\"45\" font-weight=\"bold\" text-anchor=\"middle\" x=\"50%\" y=\"53%\">209</text></svg>"
      ],
      "text/plain": [
       "<IPython.core.display.SVG object>"
      ]
     },
     "metadata": {},
     "output_type": "display_data"
    },
    {
     "data": {
      "image/svg+xml": [
       "<svg xmlns=\"http://www.w3.org/2000/svg\" xmlns:ev=\"http://www.w3.org/2001/xml-events\" xmlns:xlink=\"http://www.w3.org/1999/xlink\" baseProfile=\"full\" height=\"120\" version=\"1.1\" width=\"120\"><defs/><rect fill=\"#fece00\" height=\"77\" rx=\"10\" ry=\"10\" width=\"100%\" x=\"0.0\" y=\"21.5\"/><text alignment-baseline=\"middle\" fill=\"#000000\" font-family=\"Arial\" font-size=\"45\" font-weight=\"bold\" text-anchor=\"middle\" x=\"50%\" y=\"53%\">10</text></svg>"
      ],
      "text/plain": [
       "<IPython.core.display.SVG object>"
      ]
     },
     "metadata": {},
     "output_type": "display_data"
    },
    {
     "data": {
      "image/svg+xml": [
       "<svg xmlns=\"http://www.w3.org/2000/svg\" xmlns:ev=\"http://www.w3.org/2001/xml-events\" xmlns:xlink=\"http://www.w3.org/1999/xlink\" baseProfile=\"full\" height=\"120\" version=\"1.1\" width=\"120\"><defs/><rect fill=\"#f28e42\" height=\"77\" rx=\"10\" ry=\"10\" width=\"100%\" x=\"0.0\" y=\"21.5\"/><text alignment-baseline=\"middle\" fill=\"#000000\" font-family=\"Arial\" font-size=\"45\" font-weight=\"bold\" text-anchor=\"middle\" x=\"50%\" y=\"53%\">14</text></svg>"
      ],
      "text/plain": [
       "<IPython.core.display.SVG object>"
      ]
     },
     "metadata": {},
     "output_type": "display_data"
    },
    {
     "data": {
      "image/svg+xml": [
       "<svg xmlns=\"http://www.w3.org/2000/svg\" xmlns:ev=\"http://www.w3.org/2001/xml-events\" xmlns:xlink=\"http://www.w3.org/1999/xlink\" baseProfile=\"full\" height=\"120\" version=\"1.1\" width=\"120\"><defs/><rect fill=\"#f5a05f\" height=\"77\" rx=\"10\" ry=\"10\" width=\"100%\" x=\"0.0\" y=\"21.5\"/><text alignment-baseline=\"middle\" fill=\"#000000\" font-family=\"Arial\" font-size=\"45\" font-weight=\"bold\" text-anchor=\"middle\" x=\"50%\" y=\"53%\">46</text></svg>"
      ],
      "text/plain": [
       "<IPython.core.display.SVG object>"
      ]
     },
     "metadata": {},
     "output_type": "display_data"
    },
    {
     "data": {
      "image/svg+xml": [
       "<svg xmlns=\"http://www.w3.org/2000/svg\" xmlns:ev=\"http://www.w3.org/2001/xml-events\" xmlns:xlink=\"http://www.w3.org/1999/xlink\" baseProfile=\"full\" height=\"120\" version=\"1.1\" width=\"120\"><defs/><rect fill=\"#f5a05f\" height=\"77\" rx=\"10\" ry=\"10\" width=\"100%\" x=\"0.0\" y=\"21.5\"/><text alignment-baseline=\"middle\" fill=\"#000000\" font-family=\"Arial\" font-size=\"45\" font-weight=\"bold\" text-anchor=\"middle\" x=\"50%\" y=\"53%\">18</text></svg>"
      ],
      "text/plain": [
       "<IPython.core.display.SVG object>"
      ]
     },
     "metadata": {},
     "output_type": "display_data"
    },
    {
     "data": {
      "image/svg+xml": [
       "<svg xmlns=\"http://www.w3.org/2000/svg\" xmlns:ev=\"http://www.w3.org/2001/xml-events\" xmlns:xlink=\"http://www.w3.org/1999/xlink\" baseProfile=\"full\" height=\"120\" version=\"1.1\" width=\"120\"><defs/><rect fill=\"#9bcda4\" height=\"77\" rx=\"10\" ry=\"10\" width=\"100%\" x=\"0.0\" y=\"21.5\"/><text alignment-baseline=\"middle\" fill=\"#000000\" font-family=\"Arial\" font-size=\"45\" font-weight=\"bold\" text-anchor=\"middle\" x=\"50%\" y=\"53%\">32A</text></svg>"
      ],
      "text/plain": [
       "<IPython.core.display.SVG object>"
      ]
     },
     "metadata": {},
     "output_type": "display_data"
    },
    {
     "data": {
      "image/svg+xml": [
       "<svg xmlns=\"http://www.w3.org/2000/svg\" xmlns:ev=\"http://www.w3.org/2001/xml-events\" xmlns:xlink=\"http://www.w3.org/1999/xlink\" baseProfile=\"full\" height=\"120\" version=\"1.1\" width=\"120\"><defs/><rect fill=\"#d4ca00\" height=\"77\" rx=\"10\" ry=\"10\" width=\"100%\" x=\"0.0\" y=\"21.5\"/><text alignment-baseline=\"middle\" fill=\"#000000\" font-family=\"Arial\" font-size=\"45\" font-weight=\"bold\" text-anchor=\"middle\" x=\"50%\" y=\"53%\">755</text></svg>"
      ],
      "text/plain": [
       "<IPython.core.display.SVG object>"
      ]
     },
     "metadata": {},
     "output_type": "display_data"
    },
    {
     "data": {
      "image/svg+xml": [
       "<svg xmlns=\"http://www.w3.org/2000/svg\" xmlns:ev=\"http://www.w3.org/2001/xml-events\" xmlns:xlink=\"http://www.w3.org/1999/xlink\" baseProfile=\"full\" height=\"120\" version=\"1.1\" width=\"120\"><defs/><rect fill=\"#98d4e2\" height=\"77\" rx=\"10\" ry=\"10\" width=\"100%\" x=\"0.0\" y=\"21.5\"/><text alignment-baseline=\"middle\" fill=\"#000000\" font-family=\"Arial\" font-size=\"45\" font-weight=\"bold\" text-anchor=\"middle\" x=\"50%\" y=\"53%\">30B</text></svg>"
      ],
      "text/plain": [
       "<IPython.core.display.SVG object>"
      ]
     },
     "metadata": {},
     "output_type": "display_data"
    },
    {
     "data": {
      "image/svg+xml": [
       "<svg xmlns=\"http://www.w3.org/2000/svg\" xmlns:ev=\"http://www.w3.org/2001/xml-events\" xmlns:xlink=\"http://www.w3.org/1999/xlink\" baseProfile=\"full\" height=\"120\" version=\"1.1\" width=\"120\"><defs/><rect fill=\"#f4a7b0\" height=\"77\" rx=\"10\" ry=\"10\" width=\"100%\" x=\"0.0\" y=\"21.5\"/><text alignment-baseline=\"middle\" fill=\"#000000\" font-family=\"Arial\" font-size=\"45\" font-weight=\"bold\" text-anchor=\"middle\" x=\"50%\" y=\"53%\">13</text></svg>"
      ],
      "text/plain": [
       "<IPython.core.display.SVG object>"
      ]
     },
     "metadata": {},
     "output_type": "display_data"
    },
    {
     "data": {
      "image/svg+xml": [
       "<svg xmlns=\"http://www.w3.org/2000/svg\" xmlns:ev=\"http://www.w3.org/2001/xml-events\" xmlns:xlink=\"http://www.w3.org/1999/xlink\" baseProfile=\"full\" height=\"120\" version=\"1.1\" width=\"120\"><defs/><rect fill=\"#fce800\" height=\"77\" rx=\"10\" ry=\"10\" width=\"100%\" x=\"0.0\" y=\"21.5\"/><text alignment-baseline=\"middle\" fill=\"#000000\" font-family=\"Arial\" font-size=\"45\" font-weight=\"bold\" text-anchor=\"middle\" x=\"50%\" y=\"53%\">03</text></svg>"
      ],
      "text/plain": [
       "<IPython.core.display.SVG object>"
      ]
     },
     "metadata": {},
     "output_type": "display_data"
    },
    {
     "data": {
      "image/svg+xml": [
       "<svg xmlns=\"http://www.w3.org/2000/svg\" xmlns:ev=\"http://www.w3.org/2001/xml-events\" xmlns:xlink=\"http://www.w3.org/1999/xlink\" baseProfile=\"full\" height=\"120\" version=\"1.1\" width=\"120\"><defs/><rect fill=\"#99cec4\" height=\"77\" rx=\"10\" ry=\"10\" width=\"100%\" x=\"0.0\" y=\"21.5\"/><text alignment-baseline=\"middle\" fill=\"#000000\" font-family=\"Arial\" font-size=\"45\" font-weight=\"bold\" text-anchor=\"middle\" x=\"50%\" y=\"53%\">30</text></svg>"
      ],
      "text/plain": [
       "<IPython.core.display.SVG object>"
      ]
     },
     "metadata": {},
     "output_type": "display_data"
    },
    {
     "data": {
      "image/svg+xml": [
       "<svg xmlns=\"http://www.w3.org/2000/svg\" xmlns:ev=\"http://www.w3.org/2001/xml-events\" xmlns:xlink=\"http://www.w3.org/1999/xlink\" baseProfile=\"full\" height=\"120\" version=\"1.1\" width=\"120\"><defs/><rect fill=\"#38761d\" height=\"77\" rx=\"10\" ry=\"10\" width=\"100%\" x=\"0.0\" y=\"21.5\"/><text alignment-baseline=\"middle\" fill=\"#000000\" font-family=\"Arial\" font-size=\"45\" font-weight=\"bold\" text-anchor=\"middle\" x=\"50%\" y=\"53%\">303</text></svg>"
      ],
      "text/plain": [
       "<IPython.core.display.SVG object>"
      ]
     },
     "metadata": {},
     "output_type": "display_data"
    },
    {
     "data": {
      "image/svg+xml": [
       "<svg xmlns=\"http://www.w3.org/2000/svg\" xmlns:ev=\"http://www.w3.org/2001/xml-events\" xmlns:xlink=\"http://www.w3.org/1999/xlink\" baseProfile=\"full\" height=\"120\" version=\"1.1\" width=\"120\"><defs/><rect fill=\"#a0006e\" height=\"77\" rx=\"10\" ry=\"10\" width=\"100%\" x=\"0.0\" y=\"21.5\"/><text alignment-baseline=\"middle\" fill=\"#ffffff\" font-family=\"Arial\" font-size=\"45\" font-weight=\"bold\" text-anchor=\"middle\" x=\"50%\" y=\"53%\">56</text></svg>"
      ],
      "text/plain": [
       "<IPython.core.display.SVG object>"
      ]
     },
     "metadata": {},
     "output_type": "display_data"
    },
    {
     "data": {
      "image/svg+xml": [
       "<svg xmlns=\"http://www.w3.org/2000/svg\" xmlns:ev=\"http://www.w3.org/2001/xml-events\" xmlns:xlink=\"http://www.w3.org/1999/xlink\" baseProfile=\"full\" height=\"120\" version=\"1.1\" width=\"120\"><defs/><rect fill=\"#253883\" height=\"77\" rx=\"10\" ry=\"10\" width=\"100%\" x=\"0.0\" y=\"21.5\"/><text alignment-baseline=\"middle\" fill=\"#ffffff\" font-family=\"Arial\" font-size=\"45\" font-weight=\"bold\" text-anchor=\"middle\" x=\"50%\" y=\"53%\">14</text></svg>"
      ],
      "text/plain": [
       "<IPython.core.display.SVG object>"
      ]
     },
     "metadata": {},
     "output_type": "display_data"
    },
    {
     "data": {
      "image/svg+xml": [
       "<svg xmlns=\"http://www.w3.org/2000/svg\" xmlns:ev=\"http://www.w3.org/2001/xml-events\" xmlns:xlink=\"http://www.w3.org/1999/xlink\" baseProfile=\"full\" height=\"120\" version=\"1.1\" width=\"120\"><defs/><rect fill=\"#a0006e\" height=\"77\" rx=\"10\" ry=\"10\" width=\"100%\" x=\"0.0\" y=\"21.5\"/><text alignment-baseline=\"middle\" fill=\"#ffffff\" font-family=\"Arial\" font-size=\"45\" font-weight=\"bold\" text-anchor=\"middle\" x=\"50%\" y=\"53%\">39</text></svg>"
      ],
      "text/plain": [
       "<IPython.core.display.SVG object>"
      ]
     },
     "metadata": {},
     "output_type": "display_data"
    },
    {
     "data": {
      "image/svg+xml": [
       "<svg xmlns=\"http://www.w3.org/2000/svg\" xmlns:ev=\"http://www.w3.org/2001/xml-events\" xmlns:xlink=\"http://www.w3.org/1999/xlink\" baseProfile=\"full\" height=\"120\" version=\"1.1\" width=\"120\"><defs/><rect fill=\"#5a79b6\" height=\"77\" rx=\"10\" ry=\"10\" width=\"100%\" x=\"0.0\" y=\"21.5\"/><text alignment-baseline=\"middle\" fill=\"#000000\" font-family=\"Arial\" font-size=\"45\" font-weight=\"bold\" text-anchor=\"middle\" x=\"50%\" y=\"53%\">12</text></svg>"
      ],
      "text/plain": [
       "<IPython.core.display.SVG object>"
      ]
     },
     "metadata": {},
     "output_type": "display_data"
    },
    {
     "data": {
      "image/svg+xml": [
       "<svg xmlns=\"http://www.w3.org/2000/svg\" xmlns:ev=\"http://www.w3.org/2001/xml-events\" xmlns:xlink=\"http://www.w3.org/1999/xlink\" baseProfile=\"full\" height=\"120\" version=\"1.1\" width=\"120\"><defs/><rect fill=\"#c4a4cc\" height=\"77\" rx=\"10\" ry=\"10\" width=\"100%\" x=\"0.0\" y=\"21.5\"/><text alignment-baseline=\"middle\" fill=\"#000000\" font-family=\"Arial\" font-size=\"45\" font-weight=\"bold\" text-anchor=\"middle\" x=\"50%\" y=\"53%\">20</text></svg>"
      ],
      "text/plain": [
       "<IPython.core.display.SVG object>"
      ]
     },
     "metadata": {},
     "output_type": "display_data"
    },
    {
     "data": {
      "image/svg+xml": [
       "<svg xmlns=\"http://www.w3.org/2000/svg\" xmlns:ev=\"http://www.w3.org/2001/xml-events\" xmlns:xlink=\"http://www.w3.org/1999/xlink\" baseProfile=\"full\" height=\"120\" version=\"1.1\" width=\"120\"><defs/><rect fill=\"#ffe600\" height=\"77\" rx=\"10\" ry=\"10\" width=\"100%\" x=\"0.0\" y=\"21.5\"/><text alignment-baseline=\"middle\" fill=\"#000000\" font-family=\"Arial\" font-size=\"45\" font-weight=\"bold\" text-anchor=\"middle\" x=\"50%\" y=\"53%\">22</text></svg>"
      ],
      "text/plain": [
       "<IPython.core.display.SVG object>"
      ]
     },
     "metadata": {},
     "output_type": "display_data"
    },
    {
     "data": {
      "image/svg+xml": [
       "<svg xmlns=\"http://www.w3.org/2000/svg\" xmlns:ev=\"http://www.w3.org/2001/xml-events\" xmlns:xlink=\"http://www.w3.org/1999/xlink\" baseProfile=\"full\" height=\"120\" version=\"1.1\" width=\"120\"><defs/><rect fill=\"#33f2ff\" height=\"77\" rx=\"10\" ry=\"10\" width=\"100%\" x=\"0.0\" y=\"21.5\"/><text alignment-baseline=\"middle\" fill=\"#000000\" font-family=\"Arial\" font-size=\"45\" font-weight=\"bold\" text-anchor=\"middle\" x=\"50%\" y=\"53%\">35</text></svg>"
      ],
      "text/plain": [
       "<IPython.core.display.SVG object>"
      ]
     },
     "metadata": {},
     "output_type": "display_data"
    },
    {
     "data": {
      "image/svg+xml": [
       "<svg xmlns=\"http://www.w3.org/2000/svg\" xmlns:ev=\"http://www.w3.org/2001/xml-events\" xmlns:xlink=\"http://www.w3.org/1999/xlink\" baseProfile=\"full\" height=\"120\" version=\"1.1\" width=\"120\"><defs/><rect fill=\"#6e6e00\" height=\"77\" rx=\"10\" ry=\"10\" width=\"100%\" x=\"0.0\" y=\"21.5\"/><text alignment-baseline=\"middle\" fill=\"#ffffff\" font-family=\"Arial\" font-size=\"45\" font-weight=\"bold\" text-anchor=\"middle\" x=\"50%\" y=\"53%\">467</text></svg>"
      ],
      "text/plain": [
       "<IPython.core.display.SVG object>"
      ]
     },
     "metadata": {},
     "output_type": "display_data"
    },
    {
     "data": {
      "image/svg+xml": [
       "<svg xmlns=\"http://www.w3.org/2000/svg\" xmlns:ev=\"http://www.w3.org/2001/xml-events\" xmlns:xlink=\"http://www.w3.org/1999/xlink\" baseProfile=\"full\" height=\"120\" version=\"1.1\" width=\"120\"><defs/><rect fill=\"#45ffc7\" height=\"77\" rx=\"10\" ry=\"10\" width=\"100%\" x=\"0.0\" y=\"21.5\"/><text alignment-baseline=\"middle\" fill=\"#000000\" font-family=\"Arial\" font-size=\"45\" font-weight=\"bold\" text-anchor=\"middle\" x=\"50%\" y=\"53%\">38</text></svg>"
      ],
      "text/plain": [
       "<IPython.core.display.SVG object>"
      ]
     },
     "metadata": {},
     "output_type": "display_data"
    },
    {
     "data": {
      "image/svg+xml": [
       "<svg xmlns=\"http://www.w3.org/2000/svg\" xmlns:ev=\"http://www.w3.org/2001/xml-events\" xmlns:xlink=\"http://www.w3.org/1999/xlink\" baseProfile=\"full\" height=\"120\" version=\"1.1\" width=\"120\"><defs/><rect fill=\"#ed7f10\" height=\"77\" rx=\"10\" ry=\"10\" width=\"100%\" x=\"0.0\" y=\"21.5\"/><text alignment-baseline=\"middle\" fill=\"#ffffff\" font-family=\"Arial\" font-size=\"45\" font-weight=\"bold\" text-anchor=\"middle\" x=\"50%\" y=\"53%\">3</text></svg>"
      ],
      "text/plain": [
       "<IPython.core.display.SVG object>"
      ]
     },
     "metadata": {},
     "output_type": "display_data"
    },
    {
     "data": {
      "image/svg+xml": [
       "<svg xmlns=\"http://www.w3.org/2000/svg\" xmlns:ev=\"http://www.w3.org/2001/xml-events\" xmlns:xlink=\"http://www.w3.org/1999/xlink\" baseProfile=\"full\" height=\"120\" version=\"1.1\" width=\"120\"><defs/><rect fill=\"#e73e01\" height=\"77\" rx=\"10\" ry=\"10\" width=\"100%\" x=\"0.0\" y=\"21.5\"/><text alignment-baseline=\"middle\" fill=\"#ffffff\" font-family=\"Arial\" font-size=\"45\" font-weight=\"bold\" text-anchor=\"middle\" x=\"50%\" y=\"53%\">112</text></svg>"
      ],
      "text/plain": [
       "<IPython.core.display.SVG object>"
      ]
     },
     "metadata": {},
     "output_type": "display_data"
    },
    {
     "data": {
      "image/svg+xml": [
       "<svg xmlns=\"http://www.w3.org/2000/svg\" xmlns:ev=\"http://www.w3.org/2001/xml-events\" xmlns:xlink=\"http://www.w3.org/1999/xlink\" baseProfile=\"full\" height=\"120\" version=\"1.1\" width=\"120\"><defs/><rect fill=\"#1e7fcb\" height=\"77\" rx=\"10\" ry=\"10\" width=\"100%\" x=\"0.0\" y=\"21.5\"/><text alignment-baseline=\"middle\" fill=\"#ffffff\" font-family=\"Arial\" font-size=\"45\" font-weight=\"bold\" text-anchor=\"middle\" x=\"50%\" y=\"53%\">2</text></svg>"
      ],
      "text/plain": [
       "<IPython.core.display.SVG object>"
      ]
     },
     "metadata": {},
     "output_type": "display_data"
    },
    {
     "data": {
      "image/svg+xml": [
       "<svg xmlns=\"http://www.w3.org/2000/svg\" xmlns:ev=\"http://www.w3.org/2001/xml-events\" xmlns:xlink=\"http://www.w3.org/1999/xlink\" baseProfile=\"full\" height=\"120\" version=\"1.1\" width=\"120\"><defs/><rect fill=\"#568203\" height=\"77\" rx=\"10\" ry=\"10\" width=\"100%\" x=\"0.0\" y=\"21.5\"/><text alignment-baseline=\"middle\" fill=\"#ffffff\" font-family=\"Arial\" font-size=\"45\" font-weight=\"bold\" text-anchor=\"middle\" x=\"50%\" y=\"53%\">44</text></svg>"
      ],
      "text/plain": [
       "<IPython.core.display.SVG object>"
      ]
     },
     "metadata": {},
     "output_type": "display_data"
    },
    {
     "data": {
      "image/svg+xml": [
       "<svg xmlns=\"http://www.w3.org/2000/svg\" xmlns:ev=\"http://www.w3.org/2001/xml-events\" xmlns:xlink=\"http://www.w3.org/1999/xlink\" baseProfile=\"full\" height=\"120\" version=\"1.1\" width=\"120\"><defs/><rect fill=\"#b33a00\" height=\"77\" rx=\"10\" ry=\"10\" width=\"100%\" x=\"0.0\" y=\"21.5\"/><text alignment-baseline=\"middle\" fill=\"#ffffff\" font-family=\"Arial\" font-size=\"45\" font-weight=\"bold\" text-anchor=\"middle\" x=\"50%\" y=\"53%\">211</text></svg>"
      ],
      "text/plain": [
       "<IPython.core.display.SVG object>"
      ]
     },
     "metadata": {},
     "output_type": "display_data"
    },
    {
     "data": {
      "image/svg+xml": [
       "<svg xmlns=\"http://www.w3.org/2000/svg\" xmlns:ev=\"http://www.w3.org/2001/xml-events\" xmlns:xlink=\"http://www.w3.org/1999/xlink\" baseProfile=\"full\" height=\"120\" version=\"1.1\" width=\"120\"><defs/><rect fill=\"#cc99ff\" height=\"77\" rx=\"10\" ry=\"10\" width=\"100%\" x=\"0.0\" y=\"21.5\"/><text alignment-baseline=\"middle\" fill=\"#000000\" font-family=\"Arial\" font-size=\"45\" font-weight=\"bold\" text-anchor=\"middle\" x=\"50%\" y=\"53%\">3</text></svg>"
      ],
      "text/plain": [
       "<IPython.core.display.SVG object>"
      ]
     },
     "metadata": {},
     "output_type": "display_data"
    },
    {
     "data": {
      "image/svg+xml": [
       "<svg xmlns=\"http://www.w3.org/2000/svg\" xmlns:ev=\"http://www.w3.org/2001/xml-events\" xmlns:xlink=\"http://www.w3.org/1999/xlink\" baseProfile=\"full\" height=\"120\" version=\"1.1\" width=\"120\"><defs/><rect fill=\"#67abdf\" height=\"77\" rx=\"10\" ry=\"10\" width=\"100%\" x=\"0.0\" y=\"21.5\"/><text alignment-baseline=\"middle\" fill=\"#000000\" font-family=\"Arial\" font-size=\"45\" font-weight=\"bold\" text-anchor=\"middle\" x=\"50%\" y=\"53%\">8A</text></svg>"
      ],
      "text/plain": [
       "<IPython.core.display.SVG object>"
      ]
     },
     "metadata": {},
     "output_type": "display_data"
    },
    {
     "data": {
      "image/svg+xml": [
       "<svg xmlns=\"http://www.w3.org/2000/svg\" xmlns:ev=\"http://www.w3.org/2001/xml-events\" xmlns:xlink=\"http://www.w3.org/1999/xlink\" baseProfile=\"full\" height=\"120\" version=\"1.1\" width=\"120\"><defs/><rect fill=\"#77ad1c\" height=\"77\" rx=\"10\" ry=\"10\" width=\"100%\" x=\"0.0\" y=\"21.5\"/><text alignment-baseline=\"middle\" fill=\"#ffffff\" font-family=\"Arial\" font-size=\"45\" font-weight=\"bold\" text-anchor=\"middle\" x=\"50%\" y=\"53%\">10</text></svg>"
      ],
      "text/plain": [
       "<IPython.core.display.SVG object>"
      ]
     },
     "metadata": {},
     "output_type": "display_data"
    },
    {
     "data": {
      "image/svg+xml": [
       "<svg xmlns=\"http://www.w3.org/2000/svg\" xmlns:ev=\"http://www.w3.org/2001/xml-events\" xmlns:xlink=\"http://www.w3.org/1999/xlink\" baseProfile=\"full\" height=\"120\" version=\"1.1\" width=\"120\"><defs/><rect fill=\"#662d91\" height=\"77\" rx=\"10\" ry=\"10\" width=\"100%\" x=\"0.0\" y=\"21.5\"/><text alignment-baseline=\"middle\" fill=\"#ffffff\" font-family=\"Arial\" font-size=\"45\" font-weight=\"bold\" text-anchor=\"middle\" x=\"50%\" y=\"53%\">7</text></svg>"
      ],
      "text/plain": [
       "<IPython.core.display.SVG object>"
      ]
     },
     "metadata": {},
     "output_type": "display_data"
    },
    {
     "data": {
      "image/svg+xml": [
       "<svg xmlns=\"http://www.w3.org/2000/svg\" xmlns:ev=\"http://www.w3.org/2001/xml-events\" xmlns:xlink=\"http://www.w3.org/1999/xlink\" baseProfile=\"full\" height=\"120\" version=\"1.1\" width=\"120\"><defs/><rect fill=\"#bc8431\" height=\"77\" rx=\"10\" ry=\"10\" width=\"100%\" x=\"0.0\" y=\"21.5\"/><text alignment-baseline=\"middle\" fill=\"#ffffff\" font-family=\"Arial\" font-size=\"45\" font-weight=\"bold\" text-anchor=\"middle\" x=\"50%\" y=\"53%\">05</text></svg>"
      ],
      "text/plain": [
       "<IPython.core.display.SVG object>"
      ]
     },
     "metadata": {},
     "output_type": "display_data"
    },
    {
     "data": {
      "image/svg+xml": [
       "<svg xmlns=\"http://www.w3.org/2000/svg\" xmlns:ev=\"http://www.w3.org/2001/xml-events\" xmlns:xlink=\"http://www.w3.org/1999/xlink\" baseProfile=\"full\" height=\"120\" version=\"1.1\" width=\"120\"><defs/><rect fill=\"#40147f\" height=\"77\" rx=\"10\" ry=\"10\" width=\"100%\" x=\"0.0\" y=\"21.5\"/><text alignment-baseline=\"middle\" fill=\"#ffffff\" font-family=\"Arial\" font-size=\"45\" font-weight=\"bold\" text-anchor=\"middle\" x=\"50%\" y=\"53%\">11</text></svg>"
      ],
      "text/plain": [
       "<IPython.core.display.SVG object>"
      ]
     },
     "metadata": {},
     "output_type": "display_data"
    },
    {
     "data": {
      "image/svg+xml": [
       "<svg xmlns=\"http://www.w3.org/2000/svg\" xmlns:ev=\"http://www.w3.org/2001/xml-events\" xmlns:xlink=\"http://www.w3.org/1999/xlink\" baseProfile=\"full\" height=\"120\" version=\"1.1\" width=\"120\"><defs/><rect fill=\"#8e4900\" height=\"77\" rx=\"10\" ry=\"10\" width=\"100%\" x=\"0.0\" y=\"21.5\"/><text alignment-baseline=\"middle\" fill=\"#ffffff\" font-family=\"Arial\" font-size=\"45\" font-weight=\"bold\" text-anchor=\"middle\" x=\"50%\" y=\"53%\">41</text></svg>"
      ],
      "text/plain": [
       "<IPython.core.display.SVG object>"
      ]
     },
     "metadata": {},
     "output_type": "display_data"
    },
    {
     "data": {
      "image/svg+xml": [
       "<svg xmlns=\"http://www.w3.org/2000/svg\" xmlns:ev=\"http://www.w3.org/2001/xml-events\" xmlns:xlink=\"http://www.w3.org/1999/xlink\" baseProfile=\"full\" height=\"120\" version=\"1.1\" width=\"120\"><defs/><rect fill=\"#831f82\" height=\"77\" rx=\"10\" ry=\"10\" width=\"100%\" x=\"0.0\" y=\"21.5\"/><text alignment-baseline=\"middle\" fill=\"#ffffff\" font-family=\"Arial\" font-size=\"45\" font-weight=\"bold\" text-anchor=\"middle\" x=\"50%\" y=\"53%\">11A</text></svg>"
      ],
      "text/plain": [
       "<IPython.core.display.SVG object>"
      ]
     },
     "metadata": {},
     "output_type": "display_data"
    },
    {
     "data": {
      "image/svg+xml": [
       "<svg xmlns=\"http://www.w3.org/2000/svg\" xmlns:ev=\"http://www.w3.org/2001/xml-events\" xmlns:xlink=\"http://www.w3.org/1999/xlink\" baseProfile=\"full\" height=\"120\" version=\"1.1\" width=\"120\"><defs/><rect fill=\"#009fe3\" height=\"77\" rx=\"10\" ry=\"10\" width=\"100%\" x=\"0.0\" y=\"21.5\"/><text alignment-baseline=\"middle\" fill=\"#000000\" font-family=\"Arial\" font-size=\"45\" font-weight=\"bold\" text-anchor=\"middle\" x=\"50%\" y=\"53%\">13A</text></svg>"
      ],
      "text/plain": [
       "<IPython.core.display.SVG object>"
      ]
     },
     "metadata": {},
     "output_type": "display_data"
    },
    {
     "data": {
      "image/svg+xml": [
       "<svg xmlns=\"http://www.w3.org/2000/svg\" xmlns:ev=\"http://www.w3.org/2001/xml-events\" xmlns:xlink=\"http://www.w3.org/1999/xlink\" baseProfile=\"full\" height=\"120\" version=\"1.1\" width=\"120\"><defs/><rect fill=\"#f6ab59\" height=\"77\" rx=\"10\" ry=\"10\" width=\"100%\" x=\"0.0\" y=\"21.5\"/><text alignment-baseline=\"middle\" fill=\"#000000\" font-family=\"Arial\" font-size=\"45\" font-weight=\"bold\" text-anchor=\"middle\" x=\"50%\" y=\"53%\">1</text></svg>"
      ],
      "text/plain": [
       "<IPython.core.display.SVG object>"
      ]
     },
     "metadata": {},
     "output_type": "display_data"
    },
    {
     "data": {
      "image/svg+xml": [
       "<svg xmlns=\"http://www.w3.org/2000/svg\" xmlns:ev=\"http://www.w3.org/2001/xml-events\" xmlns:xlink=\"http://www.w3.org/1999/xlink\" baseProfile=\"full\" height=\"120\" version=\"1.1\" width=\"120\"><defs/><rect fill=\"#4dffff\" height=\"77\" rx=\"10\" ry=\"10\" width=\"100%\" x=\"0.0\" y=\"21.5\"/><text alignment-baseline=\"middle\" fill=\"#000000\" font-family=\"Arial\" font-size=\"45\" font-weight=\"bold\" text-anchor=\"middle\" x=\"50%\" y=\"53%\">4303</text></svg>"
      ],
      "text/plain": [
       "<IPython.core.display.SVG object>"
      ]
     },
     "metadata": {},
     "output_type": "display_data"
    },
    {
     "data": {
      "image/svg+xml": [
       "<svg xmlns=\"http://www.w3.org/2000/svg\" xmlns:ev=\"http://www.w3.org/2001/xml-events\" xmlns:xlink=\"http://www.w3.org/1999/xlink\" baseProfile=\"full\" height=\"120\" version=\"1.1\" width=\"120\"><defs/><rect fill=\"#783f04\" height=\"77\" rx=\"10\" ry=\"10\" width=\"100%\" x=\"0.0\" y=\"21.5\"/><text alignment-baseline=\"middle\" fill=\"#ffffff\" font-family=\"Arial\" font-size=\"45\" font-weight=\"bold\" text-anchor=\"middle\" x=\"50%\" y=\"53%\">8C</text></svg>"
      ],
      "text/plain": [
       "<IPython.core.display.SVG object>"
      ]
     },
     "metadata": {},
     "output_type": "display_data"
    },
    {
     "data": {
      "image/svg+xml": [
       "<svg xmlns=\"http://www.w3.org/2000/svg\" xmlns:ev=\"http://www.w3.org/2001/xml-events\" xmlns:xlink=\"http://www.w3.org/1999/xlink\" baseProfile=\"full\" height=\"120\" version=\"1.1\" width=\"120\"><defs/><rect fill=\"#d60093\" height=\"77\" rx=\"10\" ry=\"10\" width=\"100%\" x=\"0.0\" y=\"21.5\"/><text alignment-baseline=\"middle\" fill=\"#000000\" font-family=\"Arial\" font-size=\"45\" font-weight=\"bold\" text-anchor=\"middle\" x=\"50%\" y=\"53%\">27</text></svg>"
      ],
      "text/plain": [
       "<IPython.core.display.SVG object>"
      ]
     },
     "metadata": {},
     "output_type": "display_data"
    },
    {
     "data": {
      "image/svg+xml": [
       "<svg xmlns=\"http://www.w3.org/2000/svg\" xmlns:ev=\"http://www.w3.org/2001/xml-events\" xmlns:xlink=\"http://www.w3.org/1999/xlink\" baseProfile=\"full\" height=\"120\" version=\"1.1\" width=\"120\"><defs/><rect fill=\"#d2d200\" height=\"77\" rx=\"10\" ry=\"10\" width=\"100%\" x=\"0.0\" y=\"21.5\"/><text alignment-baseline=\"middle\" fill=\"#000000\" font-family=\"Arial\" font-size=\"45\" font-weight=\"bold\" text-anchor=\"middle\" x=\"50%\" y=\"53%\">10</text></svg>"
      ],
      "text/plain": [
       "<IPython.core.display.SVG object>"
      ]
     },
     "metadata": {},
     "output_type": "display_data"
    },
    {
     "data": {
      "image/svg+xml": [
       "<svg xmlns=\"http://www.w3.org/2000/svg\" xmlns:ev=\"http://www.w3.org/2001/xml-events\" xmlns:xlink=\"http://www.w3.org/1999/xlink\" baseProfile=\"full\" height=\"120\" version=\"1.1\" width=\"120\"><defs/><rect fill=\"#0070c0\" height=\"77\" rx=\"10\" ry=\"10\" width=\"100%\" x=\"0.0\" y=\"21.5\"/><text alignment-baseline=\"middle\" fill=\"#ffffff\" font-family=\"Arial\" font-size=\"45\" font-weight=\"bold\" text-anchor=\"middle\" x=\"50%\" y=\"53%\">26</text></svg>"
      ],
      "text/plain": [
       "<IPython.core.display.SVG object>"
      ]
     },
     "metadata": {},
     "output_type": "display_data"
    },
    {
     "data": {
      "image/svg+xml": [
       "<svg xmlns=\"http://www.w3.org/2000/svg\" xmlns:ev=\"http://www.w3.org/2001/xml-events\" xmlns:xlink=\"http://www.w3.org/1999/xlink\" baseProfile=\"full\" height=\"120\" version=\"1.1\" width=\"120\"><defs/><rect fill=\"#d2d200\" height=\"77\" rx=\"10\" ry=\"10\" width=\"100%\" x=\"0.0\" y=\"21.5\"/><text alignment-baseline=\"middle\" fill=\"#000000\" font-family=\"Arial\" font-size=\"45\" font-weight=\"bold\" text-anchor=\"middle\" x=\"50%\" y=\"53%\">88</text></svg>"
      ],
      "text/plain": [
       "<IPython.core.display.SVG object>"
      ]
     },
     "metadata": {},
     "output_type": "display_data"
    },
    {
     "data": {
      "image/svg+xml": [
       "<svg xmlns=\"http://www.w3.org/2000/svg\" xmlns:ev=\"http://www.w3.org/2001/xml-events\" xmlns:xlink=\"http://www.w3.org/1999/xlink\" baseProfile=\"full\" height=\"120\" version=\"1.1\" width=\"120\"><defs/><rect fill=\"#ff1400\" height=\"77\" rx=\"10\" ry=\"10\" width=\"100%\" x=\"0.0\" y=\"21.5\"/><text alignment-baseline=\"middle\" fill=\"#ffffff\" font-family=\"Arial\" font-size=\"45\" font-weight=\"bold\" text-anchor=\"middle\" x=\"50%\" y=\"53%\">121</text></svg>"
      ],
      "text/plain": [
       "<IPython.core.display.SVG object>"
      ]
     },
     "metadata": {},
     "output_type": "display_data"
    },
    {
     "data": {
      "image/svg+xml": [
       "<svg xmlns=\"http://www.w3.org/2000/svg\" xmlns:ev=\"http://www.w3.org/2001/xml-events\" xmlns:xlink=\"http://www.w3.org/1999/xlink\" baseProfile=\"full\" height=\"120\" version=\"1.1\" width=\"120\"><defs/><rect fill=\"#82c8e6\" height=\"77\" rx=\"10\" ry=\"10\" width=\"100%\" x=\"0.0\" y=\"21.5\"/><text alignment-baseline=\"middle\" fill=\"#000000\" font-family=\"Arial\" font-size=\"45\" font-weight=\"bold\" text-anchor=\"middle\" x=\"50%\" y=\"53%\">126</text></svg>"
      ],
      "text/plain": [
       "<IPython.core.display.SVG object>"
      ]
     },
     "metadata": {},
     "output_type": "display_data"
    },
    {
     "data": {
      "image/svg+xml": [
       "<svg xmlns=\"http://www.w3.org/2000/svg\" xmlns:ev=\"http://www.w3.org/2001/xml-events\" xmlns:xlink=\"http://www.w3.org/1999/xlink\" baseProfile=\"full\" height=\"120\" version=\"1.1\" width=\"120\"><defs/><rect fill=\"#a0006e\" height=\"77\" rx=\"10\" ry=\"10\" width=\"100%\" x=\"0.0\" y=\"21.5\"/><text alignment-baseline=\"middle\" fill=\"#ffffff\" font-family=\"Arial\" font-size=\"45\" font-weight=\"bold\" text-anchor=\"middle\" x=\"50%\" y=\"53%\">145</text></svg>"
      ],
      "text/plain": [
       "<IPython.core.display.SVG object>"
      ]
     },
     "metadata": {},
     "output_type": "display_data"
    },
    {
     "data": {
      "image/svg+xml": [
       "<svg xmlns=\"http://www.w3.org/2000/svg\" xmlns:ev=\"http://www.w3.org/2001/xml-events\" xmlns:xlink=\"http://www.w3.org/1999/xlink\" baseProfile=\"full\" height=\"120\" version=\"1.1\" width=\"120\"><defs/><rect fill=\"#82dc73\" height=\"77\" rx=\"10\" ry=\"10\" width=\"100%\" x=\"0.0\" y=\"21.5\"/><text alignment-baseline=\"middle\" fill=\"#000000\" font-family=\"Arial\" font-size=\"45\" font-weight=\"bold\" text-anchor=\"middle\" x=\"50%\" y=\"53%\">177</text></svg>"
      ],
      "text/plain": [
       "<IPython.core.display.SVG object>"
      ]
     },
     "metadata": {},
     "output_type": "display_data"
    },
    {
     "data": {
      "image/svg+xml": [
       "<svg xmlns=\"http://www.w3.org/2000/svg\" xmlns:ev=\"http://www.w3.org/2001/xml-events\" xmlns:xlink=\"http://www.w3.org/1999/xlink\" baseProfile=\"full\" height=\"120\" version=\"1.1\" width=\"120\"><defs/><rect fill=\"#00643c\" height=\"77\" rx=\"10\" ry=\"10\" width=\"100%\" x=\"0.0\" y=\"21.5\"/><text alignment-baseline=\"middle\" fill=\"#ffffff\" font-family=\"Arial\" font-size=\"45\" font-weight=\"bold\" text-anchor=\"middle\" x=\"50%\" y=\"53%\">179</text></svg>"
      ],
      "text/plain": [
       "<IPython.core.display.SVG object>"
      ]
     },
     "metadata": {},
     "output_type": "display_data"
    },
    {
     "data": {
      "image/svg+xml": [
       "<svg xmlns=\"http://www.w3.org/2000/svg\" xmlns:ev=\"http://www.w3.org/2001/xml-events\" xmlns:xlink=\"http://www.w3.org/1999/xlink\" baseProfile=\"full\" height=\"120\" version=\"1.1\" width=\"120\"><defs/><rect fill=\"#ffbe00\" height=\"77\" rx=\"10\" ry=\"10\" width=\"100%\" x=\"0.0\" y=\"21.5\"/><text alignment-baseline=\"middle\" fill=\"#000000\" font-family=\"Arial\" font-size=\"45\" font-weight=\"bold\" text-anchor=\"middle\" x=\"50%\" y=\"53%\">210</text></svg>"
      ],
      "text/plain": [
       "<IPython.core.display.SVG object>"
      ]
     },
     "metadata": {},
     "output_type": "display_data"
    },
    {
     "data": {
      "image/svg+xml": [
       "<svg xmlns=\"http://www.w3.org/2000/svg\" xmlns:ev=\"http://www.w3.org/2001/xml-events\" xmlns:xlink=\"http://www.w3.org/1999/xlink\" baseProfile=\"full\" height=\"120\" version=\"1.1\" width=\"120\"><defs/><rect fill=\"#a0006e\" height=\"77\" rx=\"10\" ry=\"10\" width=\"100%\" x=\"0.0\" y=\"21.5\"/><text alignment-baseline=\"middle\" fill=\"#ffffff\" font-family=\"Arial\" font-size=\"45\" font-weight=\"bold\" text-anchor=\"middle\" x=\"50%\" y=\"53%\">244</text></svg>"
      ],
      "text/plain": [
       "<IPython.core.display.SVG object>"
      ]
     },
     "metadata": {},
     "output_type": "display_data"
    },
    {
     "data": {
      "image/svg+xml": [
       "<svg xmlns=\"http://www.w3.org/2000/svg\" xmlns:ev=\"http://www.w3.org/2001/xml-events\" xmlns:xlink=\"http://www.w3.org/1999/xlink\" baseProfile=\"full\" height=\"120\" version=\"1.1\" width=\"120\"><defs/><rect fill=\"#a0006e\" height=\"77\" rx=\"10\" ry=\"10\" width=\"100%\" x=\"0.0\" y=\"21.5\"/><text alignment-baseline=\"middle\" fill=\"#ffffff\" font-family=\"Arial\" font-size=\"45\" font-weight=\"bold\" text-anchor=\"middle\" x=\"50%\" y=\"53%\">289</text></svg>"
      ],
      "text/plain": [
       "<IPython.core.display.SVG object>"
      ]
     },
     "metadata": {},
     "output_type": "display_data"
    },
    {
     "data": {
      "image/svg+xml": [
       "<svg xmlns=\"http://www.w3.org/2000/svg\" xmlns:ev=\"http://www.w3.org/2001/xml-events\" xmlns:xlink=\"http://www.w3.org/1999/xlink\" baseProfile=\"full\" height=\"120\" version=\"1.1\" width=\"120\"><defs/><rect fill=\"#82c8e6\" height=\"77\" rx=\"10\" ry=\"10\" width=\"100%\" x=\"0.0\" y=\"21.5\"/><text alignment-baseline=\"middle\" fill=\"#000000\" font-family=\"Arial\" font-size=\"45\" font-weight=\"bold\" text-anchor=\"middle\" x=\"50%\" y=\"53%\">393</text></svg>"
      ],
      "text/plain": [
       "<IPython.core.display.SVG object>"
      ]
     },
     "metadata": {},
     "output_type": "display_data"
    },
    {
     "data": {
      "image/svg+xml": [
       "<svg xmlns=\"http://www.w3.org/2000/svg\" xmlns:ev=\"http://www.w3.org/2001/xml-events\" xmlns:xlink=\"http://www.w3.org/1999/xlink\" baseProfile=\"full\" height=\"120\" version=\"1.1\" width=\"120\"><defs/><rect fill=\"#af171a\" height=\"77\" rx=\"10\" ry=\"10\" width=\"100%\" x=\"0.0\" y=\"21.5\"/><text alignment-baseline=\"middle\" fill=\"#ffffff\" font-family=\"Arial\" font-size=\"45\" font-weight=\"bold\" text-anchor=\"middle\" x=\"50%\" y=\"53%\">6</text></svg>"
      ],
      "text/plain": [
       "<IPython.core.display.SVG object>"
      ]
     },
     "metadata": {},
     "output_type": "display_data"
    },
    {
     "data": {
      "image/svg+xml": [
       "<svg xmlns=\"http://www.w3.org/2000/svg\" xmlns:ev=\"http://www.w3.org/2001/xml-events\" xmlns:xlink=\"http://www.w3.org/1999/xlink\" baseProfile=\"full\" height=\"120\" version=\"1.1\" width=\"120\"><defs/><rect fill=\"#82dc73\" height=\"77\" rx=\"10\" ry=\"10\" width=\"100%\" x=\"0.0\" y=\"21.5\"/><text alignment-baseline=\"middle\" fill=\"#000000\" font-family=\"Arial\" font-size=\"45\" font-weight=\"bold\" text-anchor=\"middle\" x=\"50%\" y=\"53%\">308</text></svg>"
      ],
      "text/plain": [
       "<IPython.core.display.SVG object>"
      ]
     },
     "metadata": {},
     "output_type": "display_data"
    },
    {
     "data": {
      "image/svg+xml": [
       "<svg xmlns=\"http://www.w3.org/2000/svg\" xmlns:ev=\"http://www.w3.org/2001/xml-events\" xmlns:xlink=\"http://www.w3.org/1999/xlink\" baseProfile=\"full\" height=\"120\" version=\"1.1\" width=\"120\"><defs/><rect fill=\"#d2d200\" height=\"77\" rx=\"10\" ry=\"10\" width=\"100%\" x=\"0.0\" y=\"21.5\"/><text alignment-baseline=\"middle\" fill=\"#000000\" font-family=\"Arial\" font-size=\"45\" font-weight=\"bold\" text-anchor=\"middle\" x=\"50%\" y=\"53%\">310</text></svg>"
      ],
      "text/plain": [
       "<IPython.core.display.SVG object>"
      ]
     },
     "metadata": {},
     "output_type": "display_data"
    },
    {
     "data": {
      "image/svg+xml": [
       "<svg xmlns=\"http://www.w3.org/2000/svg\" xmlns:ev=\"http://www.w3.org/2001/xml-events\" xmlns:xlink=\"http://www.w3.org/1999/xlink\" baseProfile=\"full\" height=\"120\" version=\"1.1\" width=\"120\"><defs/><rect fill=\"#d2d200\" height=\"77\" rx=\"10\" ry=\"10\" width=\"100%\" x=\"0.0\" y=\"21.5\"/><text alignment-baseline=\"middle\" fill=\"#000000\" font-family=\"Arial\" font-size=\"45\" font-weight=\"bold\" text-anchor=\"middle\" x=\"50%\" y=\"53%\">317</text></svg>"
      ],
      "text/plain": [
       "<IPython.core.display.SVG object>"
      ]
     },
     "metadata": {},
     "output_type": "display_data"
    },
    {
     "data": {
      "image/svg+xml": [
       "<svg xmlns=\"http://www.w3.org/2000/svg\" xmlns:ev=\"http://www.w3.org/2001/xml-events\" xmlns:xlink=\"http://www.w3.org/1999/xlink\" baseProfile=\"full\" height=\"120\" version=\"1.1\" width=\"120\"><defs/><rect fill=\"#ffbe00\" height=\"77\" rx=\"10\" ry=\"10\" width=\"100%\" x=\"0.0\" y=\"21.5\"/><text alignment-baseline=\"middle\" fill=\"#000000\" font-family=\"Arial\" font-size=\"45\" font-weight=\"bold\" text-anchor=\"middle\" x=\"50%\" y=\"53%\">330</text></svg>"
      ],
      "text/plain": [
       "<IPython.core.display.SVG object>"
      ]
     },
     "metadata": {},
     "output_type": "display_data"
    },
    {
     "data": {
      "image/svg+xml": [
       "<svg xmlns=\"http://www.w3.org/2000/svg\" xmlns:ev=\"http://www.w3.org/2001/xml-events\" xmlns:xlink=\"http://www.w3.org/1999/xlink\" baseProfile=\"full\" height=\"120\" version=\"1.1\" width=\"120\"><defs/><rect fill=\"#82c8e6\" height=\"77\" rx=\"10\" ry=\"10\" width=\"100%\" x=\"0.0\" y=\"21.5\"/><text alignment-baseline=\"middle\" fill=\"#000000\" font-family=\"Arial\" font-size=\"45\" font-weight=\"bold\" text-anchor=\"middle\" x=\"50%\" y=\"53%\">370</text></svg>"
      ],
      "text/plain": [
       "<IPython.core.display.SVG object>"
      ]
     },
     "metadata": {},
     "output_type": "display_data"
    },
    {
     "data": {
      "image/svg+xml": [
       "<svg xmlns=\"http://www.w3.org/2000/svg\" xmlns:ev=\"http://www.w3.org/2001/xml-events\" xmlns:xlink=\"http://www.w3.org/1999/xlink\" baseProfile=\"full\" height=\"120\" version=\"1.1\" width=\"120\"><defs/><rect fill=\"#00643c\" height=\"77\" rx=\"10\" ry=\"10\" width=\"100%\" x=\"0.0\" y=\"21.5\"/><text alignment-baseline=\"middle\" fill=\"#ffffff\" font-family=\"Arial\" font-size=\"45\" font-weight=\"bold\" text-anchor=\"middle\" x=\"50%\" y=\"53%\">520</text></svg>"
      ],
      "text/plain": [
       "<IPython.core.display.SVG object>"
      ]
     },
     "metadata": {},
     "output_type": "display_data"
    },
    {
     "data": {
      "image/svg+xml": [
       "<svg xmlns=\"http://www.w3.org/2000/svg\" xmlns:ev=\"http://www.w3.org/2001/xml-events\" xmlns:xlink=\"http://www.w3.org/1999/xlink\" baseProfile=\"full\" height=\"120\" version=\"1.1\" width=\"120\"><defs/><rect fill=\"#ff5a00\" height=\"77\" rx=\"10\" ry=\"10\" width=\"100%\" x=\"0.0\" y=\"21.5\"/><text alignment-baseline=\"middle\" fill=\"#ffffff\" font-family=\"Arial\" font-size=\"45\" font-weight=\"bold\" text-anchor=\"middle\" x=\"50%\" y=\"53%\">N33</text></svg>"
      ],
      "text/plain": [
       "<IPython.core.display.SVG object>"
      ]
     },
     "metadata": {},
     "output_type": "display_data"
    },
    {
     "data": {
      "image/svg+xml": [
       "<svg xmlns=\"http://www.w3.org/2000/svg\" xmlns:ev=\"http://www.w3.org/2001/xml-events\" xmlns:xlink=\"http://www.w3.org/1999/xlink\" baseProfile=\"full\" height=\"120\" version=\"1.1\" width=\"120\"><defs/><rect fill=\"#ffbe00\" height=\"77\" rx=\"10\" ry=\"10\" width=\"100%\" x=\"0.0\" y=\"21.5\"/><text alignment-baseline=\"middle\" fill=\"#000000\" font-family=\"Arial\" font-size=\"45\" font-weight=\"bold\" text-anchor=\"middle\" x=\"50%\" y=\"53%\">N51</text></svg>"
      ],
      "text/plain": [
       "<IPython.core.display.SVG object>"
      ]
     },
     "metadata": {},
     "output_type": "display_data"
    },
    {
     "data": {
      "image/svg+xml": [
       "<svg xmlns=\"http://www.w3.org/2000/svg\" xmlns:ev=\"http://www.w3.org/2001/xml-events\" xmlns:xlink=\"http://www.w3.org/1999/xlink\" baseProfile=\"full\" height=\"120\" version=\"1.1\" width=\"120\"><defs/><rect fill=\"#d2d200\" height=\"77\" rx=\"10\" ry=\"10\" width=\"100%\" x=\"0.0\" y=\"21.5\"/><text alignment-baseline=\"middle\" fill=\"#000000\" font-family=\"Arial\" font-size=\"45\" font-weight=\"bold\" text-anchor=\"middle\" x=\"50%\" y=\"53%\">N34</text></svg>"
      ],
      "text/plain": [
       "<IPython.core.display.SVG object>"
      ]
     },
     "metadata": {},
     "output_type": "display_data"
    },
    {
     "data": {
      "image/svg+xml": [
       "<svg xmlns=\"http://www.w3.org/2000/svg\" xmlns:ev=\"http://www.w3.org/2001/xml-events\" xmlns:xlink=\"http://www.w3.org/1999/xlink\" baseProfile=\"full\" height=\"120\" version=\"1.1\" width=\"120\"><defs/><rect fill=\"#d2d200\" height=\"77\" rx=\"10\" ry=\"10\" width=\"100%\" x=\"0.0\" y=\"21.5\"/><text alignment-baseline=\"middle\" fill=\"#000000\" font-family=\"Arial\" font-size=\"45\" font-weight=\"bold\" text-anchor=\"middle\" x=\"50%\" y=\"53%\">N16</text></svg>"
      ],
      "text/plain": [
       "<IPython.core.display.SVG object>"
      ]
     },
     "metadata": {},
     "output_type": "display_data"
    },
    {
     "data": {
      "image/svg+xml": [
       "<svg xmlns=\"http://www.w3.org/2000/svg\" xmlns:ev=\"http://www.w3.org/2001/xml-events\" xmlns:xlink=\"http://www.w3.org/1999/xlink\" baseProfile=\"full\" height=\"120\" version=\"1.1\" width=\"120\"><defs/><rect fill=\"#82c8e6\" height=\"77\" rx=\"10\" ry=\"10\" width=\"100%\" x=\"0.0\" y=\"21.5\"/><text alignment-baseline=\"middle\" fill=\"#000000\" font-family=\"Arial\" font-size=\"45\" font-weight=\"bold\" text-anchor=\"middle\" x=\"50%\" y=\"53%\">52</text></svg>"
      ],
      "text/plain": [
       "<IPython.core.display.SVG object>"
      ]
     },
     "metadata": {},
     "output_type": "display_data"
    },
    {
     "data": {
      "image/svg+xml": [
       "<svg xmlns=\"http://www.w3.org/2000/svg\" xmlns:ev=\"http://www.w3.org/2001/xml-events\" xmlns:xlink=\"http://www.w3.org/1999/xlink\" baseProfile=\"full\" height=\"120\" version=\"1.1\" width=\"120\"><defs/><rect fill=\"#6862ab\" height=\"77\" rx=\"10\" ry=\"10\" width=\"100%\" x=\"0.0\" y=\"21.5\"/><text alignment-baseline=\"middle\" fill=\"#ffffff\" font-family=\"Arial\" font-size=\"45\" font-weight=\"bold\" text-anchor=\"middle\" x=\"50%\" y=\"53%\">206</text></svg>"
      ],
      "text/plain": [
       "<IPython.core.display.SVG object>"
      ]
     },
     "metadata": {},
     "output_type": "display_data"
    },
    {
     "data": {
      "image/svg+xml": [
       "<svg xmlns=\"http://www.w3.org/2000/svg\" xmlns:ev=\"http://www.w3.org/2001/xml-events\" xmlns:xlink=\"http://www.w3.org/1999/xlink\" baseProfile=\"full\" height=\"120\" version=\"1.1\" width=\"120\"><defs/><rect fill=\"#b3a016\" height=\"77\" rx=\"10\" ry=\"10\" width=\"100%\" x=\"0.0\" y=\"21.5\"/><text alignment-baseline=\"middle\" fill=\"#000000\" font-family=\"Arial\" font-size=\"45\" font-weight=\"bold\" text-anchor=\"middle\" x=\"50%\" y=\"53%\">19</text></svg>"
      ],
      "text/plain": [
       "<IPython.core.display.SVG object>"
      ]
     },
     "metadata": {},
     "output_type": "display_data"
    },
    {
     "data": {
      "image/svg+xml": [
       "<svg xmlns=\"http://www.w3.org/2000/svg\" xmlns:ev=\"http://www.w3.org/2001/xml-events\" xmlns:xlink=\"http://www.w3.org/1999/xlink\" baseProfile=\"full\" height=\"120\" version=\"1.1\" width=\"120\"><defs/><rect fill=\"#33bdd9\" height=\"77\" rx=\"10\" ry=\"10\" width=\"100%\" x=\"0.0\" y=\"21.5\"/><text alignment-baseline=\"middle\" fill=\"#000000\" font-family=\"Arial\" font-size=\"45\" font-weight=\"bold\" text-anchor=\"middle\" x=\"50%\" y=\"53%\">503</text></svg>"
      ],
      "text/plain": [
       "<IPython.core.display.SVG object>"
      ]
     },
     "metadata": {},
     "output_type": "display_data"
    },
    {
     "data": {
      "image/svg+xml": [
       "<svg xmlns=\"http://www.w3.org/2000/svg\" xmlns:ev=\"http://www.w3.org/2001/xml-events\" xmlns:xlink=\"http://www.w3.org/1999/xlink\" baseProfile=\"full\" height=\"120\" version=\"1.1\" width=\"120\"><defs/><rect fill=\"#79ac2b\" height=\"77\" rx=\"10\" ry=\"10\" width=\"100%\" x=\"0.0\" y=\"21.5\"/><text alignment-baseline=\"middle\" fill=\"#ffffff\" font-family=\"Arial\" font-size=\"45\" font-weight=\"bold\" text-anchor=\"middle\" x=\"50%\" y=\"53%\">422</text></svg>"
      ],
      "text/plain": [
       "<IPython.core.display.SVG object>"
      ]
     },
     "metadata": {},
     "output_type": "display_data"
    },
    {
     "data": {
      "image/svg+xml": [
       "<svg xmlns=\"http://www.w3.org/2000/svg\" xmlns:ev=\"http://www.w3.org/2001/xml-events\" xmlns:xlink=\"http://www.w3.org/1999/xlink\" baseProfile=\"full\" height=\"120\" version=\"1.1\" width=\"120\"><defs/><rect fill=\"#ffbe00\" height=\"77\" rx=\"10\" ry=\"10\" width=\"100%\" x=\"0.0\" y=\"21.5\"/><text alignment-baseline=\"middle\" fill=\"#000000\" font-family=\"Arial\" font-size=\"45\" font-weight=\"bold\" text-anchor=\"middle\" x=\"50%\" y=\"53%\">68</text></svg>"
      ],
      "text/plain": [
       "<IPython.core.display.SVG object>"
      ]
     },
     "metadata": {},
     "output_type": "display_data"
    },
    {
     "data": {
      "image/svg+xml": [
       "<svg xmlns=\"http://www.w3.org/2000/svg\" xmlns:ev=\"http://www.w3.org/2001/xml-events\" xmlns:xlink=\"http://www.w3.org/1999/xlink\" baseProfile=\"full\" height=\"120\" version=\"1.1\" width=\"120\"><defs/><rect fill=\"#ff1400\" height=\"77\" rx=\"10\" ry=\"10\" width=\"100%\" x=\"0.0\" y=\"21.5\"/><text alignment-baseline=\"middle\" fill=\"#ffffff\" font-family=\"Arial\" font-size=\"45\" font-weight=\"bold\" text-anchor=\"middle\" x=\"50%\" y=\"53%\">72</text></svg>"
      ],
      "text/plain": [
       "<IPython.core.display.SVG object>"
      ]
     },
     "metadata": {},
     "output_type": "display_data"
    },
    {
     "data": {
      "image/svg+xml": [
       "<svg xmlns=\"http://www.w3.org/2000/svg\" xmlns:ev=\"http://www.w3.org/2001/xml-events\" xmlns:xlink=\"http://www.w3.org/1999/xlink\" baseProfile=\"full\" height=\"120\" version=\"1.1\" width=\"120\"><defs/><rect fill=\"#640082\" height=\"77\" rx=\"10\" ry=\"10\" width=\"100%\" x=\"0.0\" y=\"21.5\"/><text alignment-baseline=\"middle\" fill=\"#ffffff\" font-family=\"Arial\" font-size=\"45\" font-weight=\"bold\" text-anchor=\"middle\" x=\"50%\" y=\"53%\">76</text></svg>"
      ],
      "text/plain": [
       "<IPython.core.display.SVG object>"
      ]
     },
     "metadata": {},
     "output_type": "display_data"
    },
    {
     "data": {
      "image/svg+xml": [
       "<svg xmlns=\"http://www.w3.org/2000/svg\" xmlns:ev=\"http://www.w3.org/2001/xml-events\" xmlns:xlink=\"http://www.w3.org/1999/xlink\" baseProfile=\"full\" height=\"120\" version=\"1.1\" width=\"120\"><defs/><rect fill=\"#b94e9a\" height=\"77\" rx=\"10\" ry=\"10\" width=\"100%\" x=\"0.0\" y=\"21.5\"/><text alignment-baseline=\"middle\" fill=\"#ffffff\" font-family=\"Arial\" font-size=\"45\" font-weight=\"bold\" text-anchor=\"middle\" x=\"50%\" y=\"53%\">46</text></svg>"
      ],
      "text/plain": [
       "<IPython.core.display.SVG object>"
      ]
     },
     "metadata": {},
     "output_type": "display_data"
    },
    {
     "data": {
      "image/svg+xml": [
       "<svg xmlns=\"http://www.w3.org/2000/svg\" xmlns:ev=\"http://www.w3.org/2001/xml-events\" xmlns:xlink=\"http://www.w3.org/1999/xlink\" baseProfile=\"full\" height=\"120\" version=\"1.1\" width=\"120\"><defs/><rect fill=\"#0055c8\" height=\"77\" rx=\"10\" ry=\"10\" width=\"100%\" x=\"0.0\" y=\"21.5\"/><text alignment-baseline=\"middle\" fill=\"#ffffff\" font-family=\"Arial\" font-size=\"45\" font-weight=\"bold\" text-anchor=\"middle\" x=\"50%\" y=\"53%\">418</text></svg>"
      ],
      "text/plain": [
       "<IPython.core.display.SVG object>"
      ]
     },
     "metadata": {},
     "output_type": "display_data"
    },
    {
     "data": {
      "image/svg+xml": [
       "<svg xmlns=\"http://www.w3.org/2000/svg\" xmlns:ev=\"http://www.w3.org/2001/xml-events\" xmlns:xlink=\"http://www.w3.org/1999/xlink\" baseProfile=\"full\" height=\"120\" version=\"1.1\" width=\"120\"><defs/><rect fill=\"#d5c900\" height=\"77\" rx=\"10\" ry=\"10\" width=\"100%\" x=\"0.0\" y=\"21.5\"/><text alignment-baseline=\"middle\" fill=\"#000000\" font-family=\"Arial\" font-size=\"45\" font-weight=\"bold\" text-anchor=\"middle\" x=\"50%\" y=\"53%\">104</text></svg>"
      ],
      "text/plain": [
       "<IPython.core.display.SVG object>"
      ]
     },
     "metadata": {},
     "output_type": "display_data"
    },
    {
     "data": {
      "image/svg+xml": [
       "<svg xmlns=\"http://www.w3.org/2000/svg\" xmlns:ev=\"http://www.w3.org/2001/xml-events\" xmlns:xlink=\"http://www.w3.org/1999/xlink\" baseProfile=\"full\" height=\"120\" version=\"1.1\" width=\"120\"><defs/><rect fill=\"#ffbe00\" height=\"77\" rx=\"10\" ry=\"10\" width=\"100%\" x=\"0.0\" y=\"21.5\"/><text alignment-baseline=\"middle\" fill=\"#000000\" font-family=\"Arial\" font-size=\"45\" font-weight=\"bold\" text-anchor=\"middle\" x=\"50%\" y=\"53%\">83</text></svg>"
      ],
      "text/plain": [
       "<IPython.core.display.SVG object>"
      ]
     },
     "metadata": {},
     "output_type": "display_data"
    },
    {
     "data": {
      "image/svg+xml": [
       "<svg xmlns=\"http://www.w3.org/2000/svg\" xmlns:ev=\"http://www.w3.org/2001/xml-events\" xmlns:xlink=\"http://www.w3.org/1999/xlink\" baseProfile=\"full\" height=\"120\" version=\"1.1\" width=\"120\"><defs/><rect fill=\"#008a2f\" height=\"77\" rx=\"10\" ry=\"10\" width=\"100%\" x=\"0.0\" y=\"21.5\"/><text alignment-baseline=\"middle\" fill=\"#000000\" font-family=\"Arial\" font-size=\"45\" font-weight=\"bold\" text-anchor=\"middle\" x=\"50%\" y=\"53%\">115</text></svg>"
      ],
      "text/plain": [
       "<IPython.core.display.SVG object>"
      ]
     },
     "metadata": {},
     "output_type": "display_data"
    },
    {
     "data": {
      "image/svg+xml": [
       "<svg xmlns=\"http://www.w3.org/2000/svg\" xmlns:ev=\"http://www.w3.org/2001/xml-events\" xmlns:xlink=\"http://www.w3.org/1999/xlink\" baseProfile=\"full\" height=\"120\" version=\"1.1\" width=\"120\"><defs/><rect fill=\"#9b993b\" height=\"77\" rx=\"10\" ry=\"10\" width=\"100%\" x=\"0.0\" y=\"21.5\"/><text alignment-baseline=\"middle\" fill=\"#ffffff\" font-family=\"Arial\" font-size=\"45\" font-weight=\"bold\" text-anchor=\"middle\" x=\"50%\" y=\"53%\">92</text></svg>"
      ],
      "text/plain": [
       "<IPython.core.display.SVG object>"
      ]
     },
     "metadata": {},
     "output_type": "display_data"
    },
    {
     "data": {
      "image/svg+xml": [
       "<svg xmlns=\"http://www.w3.org/2000/svg\" xmlns:ev=\"http://www.w3.org/2001/xml-events\" xmlns:xlink=\"http://www.w3.org/1999/xlink\" baseProfile=\"full\" height=\"120\" version=\"1.1\" width=\"120\"><defs/><rect fill=\"#0033ff\" height=\"77\" rx=\"10\" ry=\"10\" width=\"100%\" x=\"0.0\" y=\"21.5\"/><text alignment-baseline=\"middle\" fill=\"#ffffff\" font-family=\"Arial\" font-size=\"45\" font-weight=\"bold\" text-anchor=\"middle\" x=\"50%\" y=\"53%\">4</text></svg>"
      ],
      "text/plain": [
       "<IPython.core.display.SVG object>"
      ]
     },
     "metadata": {},
     "output_type": "display_data"
    },
    {
     "data": {
      "image/svg+xml": [
       "<svg xmlns=\"http://www.w3.org/2000/svg\" xmlns:ev=\"http://www.w3.org/2001/xml-events\" xmlns:xlink=\"http://www.w3.org/1999/xlink\" baseProfile=\"full\" height=\"120\" version=\"1.1\" width=\"120\"><defs/><rect fill=\"#ff1400\" height=\"77\" rx=\"10\" ry=\"10\" width=\"100%\" x=\"0.0\" y=\"21.5\"/><text alignment-baseline=\"middle\" fill=\"#ffffff\" font-family=\"Arial\" font-size=\"45\" font-weight=\"bold\" text-anchor=\"middle\" x=\"50%\" y=\"53%\">106</text></svg>"
      ],
      "text/plain": [
       "<IPython.core.display.SVG object>"
      ]
     },
     "metadata": {},
     "output_type": "display_data"
    },
    {
     "data": {
      "image/svg+xml": [
       "<svg xmlns=\"http://www.w3.org/2000/svg\" xmlns:ev=\"http://www.w3.org/2001/xml-events\" xmlns:xlink=\"http://www.w3.org/1999/xlink\" baseProfile=\"full\" height=\"120\" version=\"1.1\" width=\"120\"><defs/><rect fill=\"#990000\" height=\"77\" rx=\"10\" ry=\"10\" width=\"100%\" x=\"0.0\" y=\"21.5\"/><text alignment-baseline=\"middle\" fill=\"#ffffff\" font-family=\"Arial\" font-size=\"45\" font-weight=\"bold\" text-anchor=\"middle\" x=\"50%\" y=\"53%\">54</text></svg>"
      ],
      "text/plain": [
       "<IPython.core.display.SVG object>"
      ]
     },
     "metadata": {},
     "output_type": "display_data"
    },
    {
     "data": {
      "image/svg+xml": [
       "<svg xmlns=\"http://www.w3.org/2000/svg\" xmlns:ev=\"http://www.w3.org/2001/xml-events\" xmlns:xlink=\"http://www.w3.org/1999/xlink\" baseProfile=\"full\" height=\"120\" version=\"1.1\" width=\"120\"><defs/><rect fill=\"#6e6e00\" height=\"77\" rx=\"10\" ry=\"10\" width=\"100%\" x=\"0.0\" y=\"21.5\"/><text alignment-baseline=\"middle\" fill=\"#ffffff\" font-family=\"Arial\" font-size=\"45\" font-weight=\"bold\" text-anchor=\"middle\" x=\"50%\" y=\"53%\">180</text></svg>"
      ],
      "text/plain": [
       "<IPython.core.display.SVG object>"
      ]
     },
     "metadata": {},
     "output_type": "display_data"
    },
    {
     "data": {
      "image/svg+xml": [
       "<svg xmlns=\"http://www.w3.org/2000/svg\" xmlns:ev=\"http://www.w3.org/2001/xml-events\" xmlns:xlink=\"http://www.w3.org/1999/xlink\" baseProfile=\"full\" height=\"120\" version=\"1.1\" width=\"120\"><defs/><rect fill=\"#dc9600\" height=\"77\" rx=\"10\" ry=\"10\" width=\"100%\" x=\"0.0\" y=\"21.5\"/><text alignment-baseline=\"middle\" fill=\"#000000\" font-family=\"Arial\" font-size=\"45\" font-weight=\"bold\" text-anchor=\"middle\" x=\"50%\" y=\"53%\">268</text></svg>"
      ],
      "text/plain": [
       "<IPython.core.display.SVG object>"
      ]
     },
     "metadata": {},
     "output_type": "display_data"
    },
    {
     "data": {
      "image/svg+xml": [
       "<svg xmlns=\"http://www.w3.org/2000/svg\" xmlns:ev=\"http://www.w3.org/2001/xml-events\" xmlns:xlink=\"http://www.w3.org/1999/xlink\" baseProfile=\"full\" height=\"120\" version=\"1.1\" width=\"120\"><defs/><rect fill=\"#d2d200\" height=\"77\" rx=\"10\" ry=\"10\" width=\"100%\" x=\"0.0\" y=\"21.5\"/><text alignment-baseline=\"middle\" fill=\"#000000\" font-family=\"Arial\" font-size=\"45\" font-weight=\"bold\" text-anchor=\"middle\" x=\"50%\" y=\"53%\">368</text></svg>"
      ],
      "text/plain": [
       "<IPython.core.display.SVG object>"
      ]
     },
     "metadata": {},
     "output_type": "display_data"
    },
    {
     "data": {
      "image/svg+xml": [
       "<svg xmlns=\"http://www.w3.org/2000/svg\" xmlns:ev=\"http://www.w3.org/2001/xml-events\" xmlns:xlink=\"http://www.w3.org/1999/xlink\" baseProfile=\"full\" height=\"120\" version=\"1.1\" width=\"120\"><defs/><rect fill=\"#ff1400\" height=\"77\" rx=\"10\" ry=\"10\" width=\"100%\" x=\"0.0\" y=\"21.5\"/><text alignment-baseline=\"middle\" fill=\"#ffffff\" font-family=\"Arial\" font-size=\"45\" font-weight=\"bold\" text-anchor=\"middle\" x=\"50%\" y=\"53%\">258</text></svg>"
      ],
      "text/plain": [
       "<IPython.core.display.SVG object>"
      ]
     },
     "metadata": {},
     "output_type": "display_data"
    },
    {
     "data": {
      "image/svg+xml": [
       "<svg xmlns=\"http://www.w3.org/2000/svg\" xmlns:ev=\"http://www.w3.org/2001/xml-events\" xmlns:xlink=\"http://www.w3.org/1999/xlink\" baseProfile=\"full\" height=\"120\" version=\"1.1\" width=\"120\"><defs/><rect fill=\"#a0006e\" height=\"77\" rx=\"10\" ry=\"10\" width=\"100%\" x=\"0.0\" y=\"21.5\"/><text alignment-baseline=\"middle\" fill=\"#ffffff\" font-family=\"Arial\" font-size=\"45\" font-weight=\"bold\" text-anchor=\"middle\" x=\"50%\" y=\"53%\">262</text></svg>"
      ],
      "text/plain": [
       "<IPython.core.display.SVG object>"
      ]
     },
     "metadata": {},
     "output_type": "display_data"
    },
    {
     "data": {
      "image/svg+xml": [
       "<svg xmlns=\"http://www.w3.org/2000/svg\" xmlns:ev=\"http://www.w3.org/2001/xml-events\" xmlns:xlink=\"http://www.w3.org/1999/xlink\" baseProfile=\"full\" height=\"120\" version=\"1.1\" width=\"120\"><defs/><rect fill=\"#ff1400\" height=\"77\" rx=\"10\" ry=\"10\" width=\"100%\" x=\"0.0\" y=\"21.5\"/><text alignment-baseline=\"middle\" fill=\"#ffffff\" font-family=\"Arial\" font-size=\"45\" font-weight=\"bold\" text-anchor=\"middle\" x=\"50%\" y=\"53%\">274</text></svg>"
      ],
      "text/plain": [
       "<IPython.core.display.SVG object>"
      ]
     },
     "metadata": {},
     "output_type": "display_data"
    },
    {
     "data": {
      "image/svg+xml": [
       "<svg xmlns=\"http://www.w3.org/2000/svg\" xmlns:ev=\"http://www.w3.org/2001/xml-events\" xmlns:xlink=\"http://www.w3.org/1999/xlink\" baseProfile=\"full\" height=\"120\" version=\"1.1\" width=\"120\"><defs/><rect fill=\"#ffbe00\" height=\"77\" rx=\"10\" ry=\"10\" width=\"100%\" x=\"0.0\" y=\"21.5\"/><text alignment-baseline=\"middle\" fill=\"#000000\" font-family=\"Arial\" font-size=\"45\" font-weight=\"bold\" text-anchor=\"middle\" x=\"50%\" y=\"53%\">321</text></svg>"
      ],
      "text/plain": [
       "<IPython.core.display.SVG object>"
      ]
     },
     "metadata": {},
     "output_type": "display_data"
    },
    {
     "data": {
      "image/svg+xml": [
       "<svg xmlns=\"http://www.w3.org/2000/svg\" xmlns:ev=\"http://www.w3.org/2001/xml-events\" xmlns:xlink=\"http://www.w3.org/1999/xlink\" baseProfile=\"full\" height=\"120\" version=\"1.1\" width=\"120\"><defs/><rect fill=\"#de8b53\" height=\"77\" rx=\"10\" ry=\"10\" width=\"100%\" x=\"0.0\" y=\"21.5\"/><text alignment-baseline=\"middle\" fill=\"#000000\" font-family=\"Arial\" font-size=\"45\" font-weight=\"bold\" text-anchor=\"middle\" x=\"50%\" y=\"53%\">566</text></svg>"
      ],
      "text/plain": [
       "<IPython.core.display.SVG object>"
      ]
     },
     "metadata": {},
     "output_type": "display_data"
    },
    {
     "data": {
      "image/svg+xml": [
       "<svg xmlns=\"http://www.w3.org/2000/svg\" xmlns:ev=\"http://www.w3.org/2001/xml-events\" xmlns:xlink=\"http://www.w3.org/1999/xlink\" baseProfile=\"full\" height=\"120\" version=\"1.1\" width=\"120\"><defs/><rect fill=\"#3c91dc\" height=\"77\" rx=\"10\" ry=\"10\" width=\"100%\" x=\"0.0\" y=\"21.5\"/><text alignment-baseline=\"middle\" fill=\"#ffffff\" font-family=\"Arial\" font-size=\"45\" font-weight=\"bold\" text-anchor=\"middle\" x=\"50%\" y=\"53%\">N122</text></svg>"
      ],
      "text/plain": [
       "<IPython.core.display.SVG object>"
      ]
     },
     "metadata": {},
     "output_type": "display_data"
    },
    {
     "data": {
      "image/svg+xml": [
       "<svg xmlns=\"http://www.w3.org/2000/svg\" xmlns:ev=\"http://www.w3.org/2001/xml-events\" xmlns:xlink=\"http://www.w3.org/1999/xlink\" baseProfile=\"full\" height=\"120\" version=\"1.1\" width=\"120\"><defs/><rect fill=\"#ff1400\" height=\"77\" rx=\"10\" ry=\"10\" width=\"100%\" x=\"0.0\" y=\"21.5\"/><text alignment-baseline=\"middle\" fill=\"#ffffff\" font-family=\"Arial\" font-size=\"45\" font-weight=\"bold\" text-anchor=\"middle\" x=\"50%\" y=\"53%\">459</text></svg>"
      ],
      "text/plain": [
       "<IPython.core.display.SVG object>"
      ]
     },
     "metadata": {},
     "output_type": "display_data"
    },
    {
     "data": {
      "image/svg+xml": [
       "<svg xmlns=\"http://www.w3.org/2000/svg\" xmlns:ev=\"http://www.w3.org/2001/xml-events\" xmlns:xlink=\"http://www.w3.org/1999/xlink\" baseProfile=\"full\" height=\"120\" version=\"1.1\" width=\"120\"><defs/><rect fill=\"#6e5b1e\" height=\"77\" rx=\"10\" ry=\"10\" width=\"100%\" x=\"0.0\" y=\"21.5\"/><text alignment-baseline=\"middle\" fill=\"#ffffff\" font-family=\"Arial\" font-size=\"45\" font-weight=\"bold\" text-anchor=\"middle\" x=\"50%\" y=\"53%\">426</text></svg>"
      ],
      "text/plain": [
       "<IPython.core.display.SVG object>"
      ]
     },
     "metadata": {},
     "output_type": "display_data"
    },
    {
     "data": {
      "image/svg+xml": [
       "<svg xmlns=\"http://www.w3.org/2000/svg\" xmlns:ev=\"http://www.w3.org/2001/xml-events\" xmlns:xlink=\"http://www.w3.org/1999/xlink\" baseProfile=\"full\" height=\"120\" version=\"1.1\" width=\"120\"><defs/><rect fill=\"#0aa896\" height=\"77\" rx=\"10\" ry=\"10\" width=\"100%\" x=\"0.0\" y=\"21.5\"/><text alignment-baseline=\"middle\" fill=\"#ffffff\" font-family=\"Arial\" font-size=\"45\" font-weight=\"bold\" text-anchor=\"middle\" x=\"50%\" y=\"53%\">N145</text></svg>"
      ],
      "text/plain": [
       "<IPython.core.display.SVG object>"
      ]
     },
     "metadata": {},
     "output_type": "display_data"
    },
    {
     "data": {
      "image/svg+xml": [
       "<svg xmlns=\"http://www.w3.org/2000/svg\" xmlns:ev=\"http://www.w3.org/2001/xml-events\" xmlns:xlink=\"http://www.w3.org/1999/xlink\" baseProfile=\"full\" height=\"120\" version=\"1.1\" width=\"120\"><defs/><rect fill=\"#9998be\" height=\"77\" rx=\"10\" ry=\"10\" width=\"100%\" x=\"0.0\" y=\"21.5\"/><text alignment-baseline=\"middle\" fill=\"#000000\" font-family=\"Arial\" font-size=\"45\" font-weight=\"bold\" text-anchor=\"middle\" x=\"50%\" y=\"53%\">20</text></svg>"
      ],
      "text/plain": [
       "<IPython.core.display.SVG object>"
      ]
     },
     "metadata": {},
     "output_type": "display_data"
    },
    {
     "data": {
      "image/svg+xml": [
       "<svg xmlns=\"http://www.w3.org/2000/svg\" xmlns:ev=\"http://www.w3.org/2001/xml-events\" xmlns:xlink=\"http://www.w3.org/1999/xlink\" baseProfile=\"full\" height=\"120\" version=\"1.1\" width=\"120\"><defs/><rect fill=\"#9b9bcd\" height=\"77\" rx=\"10\" ry=\"10\" width=\"100%\" x=\"0.0\" y=\"21.5\"/><text alignment-baseline=\"middle\" fill=\"#000000\" font-family=\"Arial\" font-size=\"45\" font-weight=\"bold\" text-anchor=\"middle\" x=\"50%\" y=\"53%\">51</text></svg>"
      ],
      "text/plain": [
       "<IPython.core.display.SVG object>"
      ]
     },
     "metadata": {},
     "output_type": "display_data"
    },
    {
     "data": {
      "image/svg+xml": [
       "<svg xmlns=\"http://www.w3.org/2000/svg\" xmlns:ev=\"http://www.w3.org/2001/xml-events\" xmlns:xlink=\"http://www.w3.org/1999/xlink\" baseProfile=\"full\" height=\"120\" version=\"1.1\" width=\"120\"><defs/><rect fill=\"#f5e312\" height=\"77\" rx=\"10\" ry=\"10\" width=\"100%\" x=\"0.0\" y=\"21.5\"/><text alignment-baseline=\"middle\" fill=\"#000000\" font-family=\"Arial\" font-size=\"45\" font-weight=\"bold\" text-anchor=\"middle\" x=\"50%\" y=\"53%\">2</text></svg>"
      ],
      "text/plain": [
       "<IPython.core.display.SVG object>"
      ]
     },
     "metadata": {},
     "output_type": "display_data"
    },
    {
     "data": {
      "image/svg+xml": [
       "<svg xmlns=\"http://www.w3.org/2000/svg\" xmlns:ev=\"http://www.w3.org/2001/xml-events\" xmlns:xlink=\"http://www.w3.org/1999/xlink\" baseProfile=\"full\" height=\"120\" version=\"1.1\" width=\"120\"><defs/><rect fill=\"#bf59e5\" height=\"77\" rx=\"10\" ry=\"10\" width=\"100%\" x=\"0.0\" y=\"21.5\"/><text alignment-baseline=\"middle\" fill=\"#000000\" font-family=\"Arial\" font-size=\"45\" font-weight=\"bold\" text-anchor=\"middle\" x=\"50%\" y=\"53%\">3</text></svg>"
      ],
      "text/plain": [
       "<IPython.core.display.SVG object>"
      ]
     },
     "metadata": {},
     "output_type": "display_data"
    },
    {
     "data": {
      "image/svg+xml": [
       "<svg xmlns=\"http://www.w3.org/2000/svg\" xmlns:ev=\"http://www.w3.org/2001/xml-events\" xmlns:xlink=\"http://www.w3.org/1999/xlink\" baseProfile=\"full\" height=\"120\" version=\"1.1\" width=\"120\"><defs/><rect fill=\"#007e49\" height=\"77\" rx=\"10\" ry=\"10\" width=\"100%\" x=\"0.0\" y=\"21.5\"/><text alignment-baseline=\"middle\" fill=\"#ffffff\" font-family=\"Arial\" font-size=\"45\" font-weight=\"bold\" text-anchor=\"middle\" x=\"50%\" y=\"53%\">42</text></svg>"
      ],
      "text/plain": [
       "<IPython.core.display.SVG object>"
      ]
     },
     "metadata": {},
     "output_type": "display_data"
    },
    {
     "data": {
      "image/svg+xml": [
       "<svg xmlns=\"http://www.w3.org/2000/svg\" xmlns:ev=\"http://www.w3.org/2001/xml-events\" xmlns:xlink=\"http://www.w3.org/1999/xlink\" baseProfile=\"full\" height=\"120\" version=\"1.1\" width=\"120\"><defs/><rect fill=\"#e5122e\" height=\"77\" rx=\"10\" ry=\"10\" width=\"100%\" x=\"0.0\" y=\"21.5\"/><text alignment-baseline=\"middle\" fill=\"#000000\" font-family=\"Arial\" font-size=\"45\" font-weight=\"bold\" text-anchor=\"middle\" x=\"50%\" y=\"53%\">1</text></svg>"
      ],
      "text/plain": [
       "<IPython.core.display.SVG object>"
      ]
     },
     "metadata": {},
     "output_type": "display_data"
    },
    {
     "data": {
      "image/svg+xml": [
       "<svg xmlns=\"http://www.w3.org/2000/svg\" xmlns:ev=\"http://www.w3.org/2001/xml-events\" xmlns:xlink=\"http://www.w3.org/1999/xlink\" baseProfile=\"full\" height=\"120\" version=\"1.1\" width=\"120\"><defs/><rect fill=\"#2ecfff\" height=\"77\" rx=\"10\" ry=\"10\" width=\"100%\" x=\"0.0\" y=\"21.5\"/><text alignment-baseline=\"middle\" fill=\"#ffffff\" font-family=\"Arial\" font-size=\"45\" font-weight=\"bold\" text-anchor=\"middle\" x=\"50%\" y=\"53%\">107</text></svg>"
      ],
      "text/plain": [
       "<IPython.core.display.SVG object>"
      ]
     },
     "metadata": {},
     "output_type": "display_data"
    },
    {
     "data": {
      "image/svg+xml": [
       "<svg xmlns=\"http://www.w3.org/2000/svg\" xmlns:ev=\"http://www.w3.org/2001/xml-events\" xmlns:xlink=\"http://www.w3.org/1999/xlink\" baseProfile=\"full\" height=\"120\" version=\"1.1\" width=\"120\"><defs/><rect fill=\"#59ff4c\" height=\"77\" rx=\"10\" ry=\"10\" width=\"100%\" x=\"0.0\" y=\"21.5\"/><text alignment-baseline=\"middle\" fill=\"#ffffff\" font-family=\"Arial\" font-size=\"45\" font-weight=\"bold\" text-anchor=\"middle\" x=\"50%\" y=\"53%\">15</text></svg>"
      ],
      "text/plain": [
       "<IPython.core.display.SVG object>"
      ]
     },
     "metadata": {},
     "output_type": "display_data"
    },
    {
     "data": {
      "image/svg+xml": [
       "<svg xmlns=\"http://www.w3.org/2000/svg\" xmlns:ev=\"http://www.w3.org/2001/xml-events\" xmlns:xlink=\"http://www.w3.org/1999/xlink\" baseProfile=\"full\" height=\"120\" version=\"1.1\" width=\"120\"><defs/><rect fill=\"#ead1dc\" height=\"77\" rx=\"10\" ry=\"10\" width=\"100%\" x=\"0.0\" y=\"21.5\"/><text alignment-baseline=\"middle\" fill=\"#ffffff\" font-family=\"Arial\" font-size=\"45\" font-weight=\"bold\" text-anchor=\"middle\" x=\"50%\" y=\"53%\">10</text></svg>"
      ],
      "text/plain": [
       "<IPython.core.display.SVG object>"
      ]
     },
     "metadata": {},
     "output_type": "display_data"
    },
    {
     "data": {
      "image/svg+xml": [
       "<svg xmlns=\"http://www.w3.org/2000/svg\" xmlns:ev=\"http://www.w3.org/2001/xml-events\" xmlns:xlink=\"http://www.w3.org/1999/xlink\" baseProfile=\"full\" height=\"120\" version=\"1.1\" width=\"120\"><defs/><rect fill=\"#8e6539\" height=\"77\" rx=\"10\" ry=\"10\" width=\"100%\" x=\"0.0\" y=\"21.5\"/><text alignment-baseline=\"middle\" fill=\"#ffffff\" font-family=\"Arial\" font-size=\"45\" font-weight=\"bold\" text-anchor=\"middle\" x=\"50%\" y=\"53%\">22</text></svg>"
      ],
      "text/plain": [
       "<IPython.core.display.SVG object>"
      ]
     },
     "metadata": {},
     "output_type": "display_data"
    },
    {
     "data": {
      "image/svg+xml": [
       "<svg xmlns=\"http://www.w3.org/2000/svg\" xmlns:ev=\"http://www.w3.org/2001/xml-events\" xmlns:xlink=\"http://www.w3.org/1999/xlink\" baseProfile=\"full\" height=\"120\" version=\"1.1\" width=\"120\"><defs/><rect fill=\"#cec92b\" height=\"77\" rx=\"10\" ry=\"10\" width=\"100%\" x=\"0.0\" y=\"21.5\"/><text alignment-baseline=\"middle\" fill=\"#000000\" font-family=\"Arial\" font-size=\"45\" font-weight=\"bold\" text-anchor=\"middle\" x=\"50%\" y=\"53%\">24</text></svg>"
      ],
      "text/plain": [
       "<IPython.core.display.SVG object>"
      ]
     },
     "metadata": {},
     "output_type": "display_data"
    },
    {
     "data": {
      "image/svg+xml": [
       "<svg xmlns=\"http://www.w3.org/2000/svg\" xmlns:ev=\"http://www.w3.org/2001/xml-events\" xmlns:xlink=\"http://www.w3.org/1999/xlink\" baseProfile=\"full\" height=\"120\" version=\"1.1\" width=\"120\"><defs/><rect fill=\"#83c491\" height=\"77\" rx=\"10\" ry=\"10\" width=\"100%\" x=\"0.0\" y=\"21.5\"/><text alignment-baseline=\"middle\" fill=\"#000000\" font-family=\"Arial\" font-size=\"45\" font-weight=\"bold\" text-anchor=\"middle\" x=\"50%\" y=\"53%\">330</text></svg>"
      ],
      "text/plain": [
       "<IPython.core.display.SVG object>"
      ]
     },
     "metadata": {},
     "output_type": "display_data"
    },
    {
     "data": {
      "image/svg+xml": [
       "<svg xmlns=\"http://www.w3.org/2000/svg\" xmlns:ev=\"http://www.w3.org/2001/xml-events\" xmlns:xlink=\"http://www.w3.org/1999/xlink\" baseProfile=\"full\" height=\"120\" version=\"1.1\" width=\"120\"><defs/><rect fill=\"#f59eb3\" height=\"77\" rx=\"10\" ry=\"10\" width=\"100%\" x=\"0.0\" y=\"21.5\"/><text alignment-baseline=\"middle\" fill=\"#000000\" font-family=\"Arial\" font-size=\"45\" font-weight=\"bold\" text-anchor=\"middle\" x=\"50%\" y=\"53%\">12</text></svg>"
      ],
      "text/plain": [
       "<IPython.core.display.SVG object>"
      ]
     },
     "metadata": {},
     "output_type": "display_data"
    },
    {
     "data": {
      "image/svg+xml": [
       "<svg xmlns=\"http://www.w3.org/2000/svg\" xmlns:ev=\"http://www.w3.org/2001/xml-events\" xmlns:xlink=\"http://www.w3.org/1999/xlink\" baseProfile=\"full\" height=\"120\" version=\"1.1\" width=\"120\"><defs/><rect fill=\"#ed1c2a\" height=\"77\" rx=\"10\" ry=\"10\" width=\"100%\" x=\"0.0\" y=\"21.5\"/><text alignment-baseline=\"middle\" fill=\"#ffffff\" font-family=\"Arial\" font-size=\"45\" font-weight=\"bold\" text-anchor=\"middle\" x=\"50%\" y=\"53%\">41</text></svg>"
      ],
      "text/plain": [
       "<IPython.core.display.SVG object>"
      ]
     },
     "metadata": {},
     "output_type": "display_data"
    },
    {
     "data": {
      "image/svg+xml": [
       "<svg xmlns=\"http://www.w3.org/2000/svg\" xmlns:ev=\"http://www.w3.org/2001/xml-events\" xmlns:xlink=\"http://www.w3.org/1999/xlink\" baseProfile=\"full\" height=\"120\" version=\"1.1\" width=\"120\"><defs/><rect fill=\"#662483\" height=\"77\" rx=\"10\" ry=\"10\" width=\"100%\" x=\"0.0\" y=\"21.5\"/><text alignment-baseline=\"middle\" fill=\"#ffffff\" font-family=\"Arial\" font-size=\"45\" font-weight=\"bold\" text-anchor=\"middle\" x=\"50%\" y=\"53%\">14</text></svg>"
      ],
      "text/plain": [
       "<IPython.core.display.SVG object>"
      ]
     },
     "metadata": {},
     "output_type": "display_data"
    },
    {
     "data": {
      "image/svg+xml": [
       "<svg xmlns=\"http://www.w3.org/2000/svg\" xmlns:ev=\"http://www.w3.org/2001/xml-events\" xmlns:xlink=\"http://www.w3.org/1999/xlink\" baseProfile=\"full\" height=\"120\" version=\"1.1\" width=\"120\"><defs/><rect fill=\"#ff8c00\" height=\"77\" rx=\"10\" ry=\"10\" width=\"100%\" x=\"0.0\" y=\"21.5\"/><text alignment-baseline=\"middle\" fill=\"#000000\" font-family=\"Arial\" font-size=\"45\" font-weight=\"bold\" text-anchor=\"middle\" x=\"50%\" y=\"53%\">103</text></svg>"
      ],
      "text/plain": [
       "<IPython.core.display.SVG object>"
      ]
     },
     "metadata": {},
     "output_type": "display_data"
    },
    {
     "data": {
      "image/svg+xml": [
       "<svg xmlns=\"http://www.w3.org/2000/svg\" xmlns:ev=\"http://www.w3.org/2001/xml-events\" xmlns:xlink=\"http://www.w3.org/1999/xlink\" baseProfile=\"full\" height=\"120\" version=\"1.1\" width=\"120\"><defs/><rect fill=\"#0055c8\" height=\"77\" rx=\"10\" ry=\"10\" width=\"100%\" x=\"0.0\" y=\"21.5\"/><text alignment-baseline=\"middle\" fill=\"#ffffff\" font-family=\"Arial\" font-size=\"45\" font-weight=\"bold\" text-anchor=\"middle\" x=\"50%\" y=\"53%\">2</text></svg>"
      ],
      "text/plain": [
       "<IPython.core.display.SVG object>"
      ]
     },
     "metadata": {},
     "output_type": "display_data"
    },
    {
     "data": {
      "image/svg+xml": [
       "<svg xmlns=\"http://www.w3.org/2000/svg\" xmlns:ev=\"http://www.w3.org/2001/xml-events\" xmlns:xlink=\"http://www.w3.org/1999/xlink\" baseProfile=\"full\" height=\"120\" version=\"1.1\" width=\"120\"><defs/><rect fill=\"#008c5a\" height=\"77\" rx=\"10\" ry=\"10\" width=\"100%\" x=\"0.0\" y=\"21.5\"/><text alignment-baseline=\"middle\" fill=\"#ffffff\" font-family=\"Arial\" font-size=\"45\" font-weight=\"bold\" text-anchor=\"middle\" x=\"50%\" y=\"53%\">67</text></svg>"
      ],
      "text/plain": [
       "<IPython.core.display.SVG object>"
      ]
     },
     "metadata": {},
     "output_type": "display_data"
    },
    {
     "data": {
      "image/svg+xml": [
       "<svg xmlns=\"http://www.w3.org/2000/svg\" xmlns:ev=\"http://www.w3.org/2001/xml-events\" xmlns:xlink=\"http://www.w3.org/1999/xlink\" baseProfile=\"full\" height=\"120\" version=\"1.1\" width=\"120\"><defs/><rect fill=\"#0055fa\" height=\"77\" rx=\"10\" ry=\"10\" width=\"100%\" x=\"0.0\" y=\"21.5\"/><text alignment-baseline=\"middle\" fill=\"#ffffff\" font-family=\"Arial\" font-size=\"45\" font-weight=\"bold\" text-anchor=\"middle\" x=\"50%\" y=\"53%\">14</text></svg>"
      ],
      "text/plain": [
       "<IPython.core.display.SVG object>"
      ]
     },
     "metadata": {},
     "output_type": "display_data"
    },
    {
     "data": {
      "image/svg+xml": [
       "<svg xmlns=\"http://www.w3.org/2000/svg\" xmlns:ev=\"http://www.w3.org/2001/xml-events\" xmlns:xlink=\"http://www.w3.org/1999/xlink\" baseProfile=\"full\" height=\"120\" version=\"1.1\" width=\"120\"><defs/><rect fill=\"#cc0000\" height=\"77\" rx=\"10\" ry=\"10\" width=\"100%\" x=\"0.0\" y=\"21.5\"/><text alignment-baseline=\"middle\" fill=\"#000000\" font-family=\"Arial\" font-size=\"45\" font-weight=\"bold\" text-anchor=\"middle\" x=\"50%\" y=\"53%\">304</text></svg>"
      ],
      "text/plain": [
       "<IPython.core.display.SVG object>"
      ]
     },
     "metadata": {},
     "output_type": "display_data"
    },
    {
     "data": {
      "image/svg+xml": [
       "<svg xmlns=\"http://www.w3.org/2000/svg\" xmlns:ev=\"http://www.w3.org/2001/xml-events\" xmlns:xlink=\"http://www.w3.org/1999/xlink\" baseProfile=\"full\" height=\"120\" version=\"1.1\" width=\"120\"><defs/><rect fill=\"#4d90cd\" height=\"77\" rx=\"10\" ry=\"10\" width=\"100%\" x=\"0.0\" y=\"21.5\"/><text alignment-baseline=\"middle\" fill=\"#ffffff\" font-family=\"Arial\" font-size=\"45\" font-weight=\"bold\" text-anchor=\"middle\" x=\"50%\" y=\"53%\">16</text></svg>"
      ],
      "text/plain": [
       "<IPython.core.display.SVG object>"
      ]
     },
     "metadata": {},
     "output_type": "display_data"
    },
    {
     "data": {
      "image/svg+xml": [
       "<svg xmlns=\"http://www.w3.org/2000/svg\" xmlns:ev=\"http://www.w3.org/2001/xml-events\" xmlns:xlink=\"http://www.w3.org/1999/xlink\" baseProfile=\"full\" height=\"120\" version=\"1.1\" width=\"120\"><defs/><rect fill=\"#feca2a\" height=\"77\" rx=\"10\" ry=\"10\" width=\"100%\" x=\"0.0\" y=\"21.5\"/><text alignment-baseline=\"middle\" fill=\"#000000\" font-family=\"Arial\" font-size=\"45\" font-weight=\"bold\" text-anchor=\"middle\" x=\"50%\" y=\"53%\">3801</text></svg>"
      ],
      "text/plain": [
       "<IPython.core.display.SVG object>"
      ]
     },
     "metadata": {},
     "output_type": "display_data"
    },
    {
     "data": {
      "image/svg+xml": [
       "<svg xmlns=\"http://www.w3.org/2000/svg\" xmlns:ev=\"http://www.w3.org/2001/xml-events\" xmlns:xlink=\"http://www.w3.org/1999/xlink\" baseProfile=\"full\" height=\"120\" version=\"1.1\" width=\"120\"><defs/><rect fill=\"#f58f53\" height=\"77\" rx=\"10\" ry=\"10\" width=\"100%\" x=\"0.0\" y=\"21.5\"/><text alignment-baseline=\"middle\" fill=\"#000000\" font-family=\"Arial\" font-size=\"45\" font-weight=\"bold\" text-anchor=\"middle\" x=\"50%\" y=\"53%\">13</text></svg>"
      ],
      "text/plain": [
       "<IPython.core.display.SVG object>"
      ]
     },
     "metadata": {},
     "output_type": "display_data"
    },
    {
     "data": {
      "image/svg+xml": [
       "<svg xmlns=\"http://www.w3.org/2000/svg\" xmlns:ev=\"http://www.w3.org/2001/xml-events\" xmlns:xlink=\"http://www.w3.org/1999/xlink\" baseProfile=\"full\" height=\"120\" version=\"1.1\" width=\"120\"><defs/><rect fill=\"#6e1f64\" height=\"77\" rx=\"10\" ry=\"10\" width=\"100%\" x=\"0.0\" y=\"21.5\"/><text alignment-baseline=\"middle\" fill=\"#ffffff\" font-family=\"Arial\" font-size=\"45\" font-weight=\"bold\" text-anchor=\"middle\" x=\"50%\" y=\"53%\">1</text></svg>"
      ],
      "text/plain": [
       "<IPython.core.display.SVG object>"
      ]
     },
     "metadata": {},
     "output_type": "display_data"
    },
    {
     "data": {
      "image/svg+xml": [
       "<svg xmlns=\"http://www.w3.org/2000/svg\" xmlns:ev=\"http://www.w3.org/2001/xml-events\" xmlns:xlink=\"http://www.w3.org/1999/xlink\" baseProfile=\"full\" height=\"120\" version=\"1.1\" width=\"120\"><defs/><rect fill=\"#0097d5\" height=\"77\" rx=\"10\" ry=\"10\" width=\"100%\" x=\"0.0\" y=\"21.5\"/><text alignment-baseline=\"middle\" fill=\"#000000\" font-family=\"Arial\" font-size=\"45\" font-weight=\"bold\" text-anchor=\"middle\" x=\"50%\" y=\"53%\">3</text></svg>"
      ],
      "text/plain": [
       "<IPython.core.display.SVG object>"
      ]
     },
     "metadata": {},
     "output_type": "display_data"
    },
    {
     "data": {
      "image/svg+xml": [
       "<svg xmlns=\"http://www.w3.org/2000/svg\" xmlns:ev=\"http://www.w3.org/2001/xml-events\" xmlns:xlink=\"http://www.w3.org/1999/xlink\" baseProfile=\"full\" height=\"120\" version=\"1.1\" width=\"120\"><defs/><rect fill=\"#ffdf00\" height=\"77\" rx=\"10\" ry=\"10\" width=\"100%\" x=\"0.0\" y=\"21.5\"/><text alignment-baseline=\"middle\" fill=\"#000000\" font-family=\"Arial\" font-size=\"45\" font-weight=\"bold\" text-anchor=\"middle\" x=\"50%\" y=\"53%\">4</text></svg>"
      ],
      "text/plain": [
       "<IPython.core.display.SVG object>"
      ]
     },
     "metadata": {},
     "output_type": "display_data"
    },
    {
     "data": {
      "image/svg+xml": [
       "<svg xmlns=\"http://www.w3.org/2000/svg\" xmlns:ev=\"http://www.w3.org/2001/xml-events\" xmlns:xlink=\"http://www.w3.org/1999/xlink\" baseProfile=\"full\" height=\"120\" version=\"1.1\" width=\"120\"><defs/><rect fill=\"#e3051b\" height=\"77\" rx=\"10\" ry=\"10\" width=\"100%\" x=\"0.0\" y=\"21.5\"/><text alignment-baseline=\"middle\" fill=\"#ffffff\" font-family=\"Arial\" font-size=\"45\" font-weight=\"bold\" text-anchor=\"middle\" x=\"50%\" y=\"53%\">2</text></svg>"
      ],
      "text/plain": [
       "<IPython.core.display.SVG object>"
      ]
     },
     "metadata": {},
     "output_type": "display_data"
    },
    {
     "data": {
      "image/svg+xml": [
       "<svg xmlns=\"http://www.w3.org/2000/svg\" xmlns:ev=\"http://www.w3.org/2001/xml-events\" xmlns:xlink=\"http://www.w3.org/1999/xlink\" baseProfile=\"full\" height=\"120\" version=\"1.1\" width=\"120\"><defs/><rect fill=\"#008b5b\" height=\"77\" rx=\"10\" ry=\"10\" width=\"100%\" x=\"0.0\" y=\"21.5\"/><text alignment-baseline=\"middle\" fill=\"#ffffff\" font-family=\"Arial\" font-size=\"45\" font-weight=\"bold\" text-anchor=\"middle\" x=\"50%\" y=\"53%\">29</text></svg>"
      ],
      "text/plain": [
       "<IPython.core.display.SVG object>"
      ]
     },
     "metadata": {},
     "output_type": "display_data"
    },
    {
     "data": {
      "image/svg+xml": [
       "<svg xmlns=\"http://www.w3.org/2000/svg\" xmlns:ev=\"http://www.w3.org/2001/xml-events\" xmlns:xlink=\"http://www.w3.org/1999/xlink\" baseProfile=\"full\" height=\"120\" version=\"1.1\" width=\"120\"><defs/><rect fill=\"#9b9842\" height=\"77\" rx=\"10\" ry=\"10\" width=\"100%\" x=\"0.0\" y=\"21.5\"/><text alignment-baseline=\"middle\" fill=\"#ffffff\" font-family=\"Arial\" font-size=\"45\" font-weight=\"bold\" text-anchor=\"middle\" x=\"50%\" y=\"53%\">44</text></svg>"
      ],
      "text/plain": [
       "<IPython.core.display.SVG object>"
      ]
     },
     "metadata": {},
     "output_type": "display_data"
    },
    {
     "data": {
      "image/svg+xml": [
       "<svg xmlns=\"http://www.w3.org/2000/svg\" xmlns:ev=\"http://www.w3.org/2001/xml-events\" xmlns:xlink=\"http://www.w3.org/1999/xlink\" baseProfile=\"full\" height=\"120\" version=\"1.1\" width=\"120\"><defs/><rect fill=\"#8d653d\" height=\"77\" rx=\"10\" ry=\"10\" width=\"100%\" x=\"0.0\" y=\"21.5\"/><text alignment-baseline=\"middle\" fill=\"#ffffff\" font-family=\"Arial\" font-size=\"45\" font-weight=\"bold\" text-anchor=\"middle\" x=\"50%\" y=\"53%\">43</text></svg>"
      ],
      "text/plain": [
       "<IPython.core.display.SVG object>"
      ]
     },
     "metadata": {},
     "output_type": "display_data"
    },
    {
     "data": {
      "image/svg+xml": [
       "<svg xmlns=\"http://www.w3.org/2000/svg\" xmlns:ev=\"http://www.w3.org/2001/xml-events\" xmlns:xlink=\"http://www.w3.org/1999/xlink\" baseProfile=\"full\" height=\"120\" version=\"1.1\" width=\"120\"><defs/><rect fill=\"#006fb6\" height=\"77\" rx=\"10\" ry=\"10\" width=\"100%\" x=\"0.0\" y=\"21.5\"/><text alignment-baseline=\"middle\" fill=\"#ffffff\" font-family=\"Arial\" font-size=\"45\" font-weight=\"bold\" text-anchor=\"middle\" x=\"50%\" y=\"53%\">26</text></svg>"
      ],
      "text/plain": [
       "<IPython.core.display.SVG object>"
      ]
     },
     "metadata": {},
     "output_type": "display_data"
    },
    {
     "data": {
      "image/svg+xml": [
       "<svg xmlns=\"http://www.w3.org/2000/svg\" xmlns:ev=\"http://www.w3.org/2001/xml-events\" xmlns:xlink=\"http://www.w3.org/1999/xlink\" baseProfile=\"full\" height=\"120\" version=\"1.1\" width=\"120\"><defs/><rect fill=\"#82dc73\" height=\"77\" rx=\"10\" ry=\"10\" width=\"100%\" x=\"0.0\" y=\"21.5\"/><text alignment-baseline=\"middle\" fill=\"#000000\" font-family=\"Arial\" font-size=\"45\" font-weight=\"bold\" text-anchor=\"middle\" x=\"50%\" y=\"53%\">35</text></svg>"
      ],
      "text/plain": [
       "<IPython.core.display.SVG object>"
      ]
     },
     "metadata": {},
     "output_type": "display_data"
    },
    {
     "data": {
      "image/svg+xml": [
       "<svg xmlns=\"http://www.w3.org/2000/svg\" xmlns:ev=\"http://www.w3.org/2001/xml-events\" xmlns:xlink=\"http://www.w3.org/1999/xlink\" baseProfile=\"full\" height=\"120\" version=\"1.1\" width=\"120\"><defs/><rect fill=\"#008c5a\" height=\"77\" rx=\"10\" ry=\"10\" width=\"100%\" x=\"0.0\" y=\"21.5\"/><text alignment-baseline=\"middle\" fill=\"#ffffff\" font-family=\"Arial\" font-size=\"45\" font-weight=\"bold\" text-anchor=\"middle\" x=\"50%\" y=\"53%\">29</text></svg>"
      ],
      "text/plain": [
       "<IPython.core.display.SVG object>"
      ]
     },
     "metadata": {},
     "output_type": "display_data"
    },
    {
     "data": {
      "image/svg+xml": [
       "<svg xmlns=\"http://www.w3.org/2000/svg\" xmlns:ev=\"http://www.w3.org/2001/xml-events\" xmlns:xlink=\"http://www.w3.org/1999/xlink\" baseProfile=\"full\" height=\"120\" version=\"1.1\" width=\"120\"><defs/><rect fill=\"#ee8260\" height=\"77\" rx=\"10\" ry=\"10\" width=\"100%\" x=\"0.0\" y=\"21.5\"/><text alignment-baseline=\"middle\" fill=\"#000000\" font-family=\"Arial\" font-size=\"45\" font-weight=\"bold\" text-anchor=\"middle\" x=\"50%\" y=\"53%\">4</text></svg>"
      ],
      "text/plain": [
       "<IPython.core.display.SVG object>"
      ]
     },
     "metadata": {},
     "output_type": "display_data"
    },
    {
     "data": {
      "image/svg+xml": [
       "<svg xmlns=\"http://www.w3.org/2000/svg\" xmlns:ev=\"http://www.w3.org/2001/xml-events\" xmlns:xlink=\"http://www.w3.org/1999/xlink\" baseProfile=\"full\" height=\"120\" version=\"1.1\" width=\"120\"><defs/><rect fill=\"#c99eff\" height=\"77\" rx=\"10\" ry=\"10\" width=\"100%\" x=\"0.0\" y=\"21.5\"/><text alignment-baseline=\"middle\" fill=\"#ffffff\" font-family=\"Arial\" font-size=\"45\" font-weight=\"bold\" text-anchor=\"middle\" x=\"50%\" y=\"53%\">104</text></svg>"
      ],
      "text/plain": [
       "<IPython.core.display.SVG object>"
      ]
     },
     "metadata": {},
     "output_type": "display_data"
    },
    {
     "data": {
      "image/svg+xml": [
       "<svg xmlns=\"http://www.w3.org/2000/svg\" xmlns:ev=\"http://www.w3.org/2001/xml-events\" xmlns:xlink=\"http://www.w3.org/1999/xlink\" baseProfile=\"full\" height=\"120\" version=\"1.1\" width=\"120\"><defs/><rect fill=\"#8cff8c\" height=\"77\" rx=\"10\" ry=\"10\" width=\"100%\" x=\"0.0\" y=\"21.5\"/><text alignment-baseline=\"middle\" fill=\"#000000\" font-family=\"Arial\" font-size=\"45\" font-weight=\"bold\" text-anchor=\"middle\" x=\"50%\" y=\"53%\">8</text></svg>"
      ],
      "text/plain": [
       "<IPython.core.display.SVG object>"
      ]
     },
     "metadata": {},
     "output_type": "display_data"
    },
    {
     "data": {
      "image/svg+xml": [
       "<svg xmlns=\"http://www.w3.org/2000/svg\" xmlns:ev=\"http://www.w3.org/2001/xml-events\" xmlns:xlink=\"http://www.w3.org/1999/xlink\" baseProfile=\"full\" height=\"120\" version=\"1.1\" width=\"120\"><defs/><rect fill=\"#0a560b\" height=\"77\" rx=\"10\" ry=\"10\" width=\"100%\" x=\"0.0\" y=\"21.5\"/><text alignment-baseline=\"middle\" fill=\"#ffffff\" font-family=\"Arial\" font-size=\"45\" font-weight=\"bold\" text-anchor=\"middle\" x=\"50%\" y=\"53%\">43</text></svg>"
      ],
      "text/plain": [
       "<IPython.core.display.SVG object>"
      ]
     },
     "metadata": {},
     "output_type": "display_data"
    },
    {
     "data": {
      "image/svg+xml": [
       "<svg xmlns=\"http://www.w3.org/2000/svg\" xmlns:ev=\"http://www.w3.org/2001/xml-events\" xmlns:xlink=\"http://www.w3.org/1999/xlink\" baseProfile=\"full\" height=\"120\" version=\"1.1\" width=\"120\"><defs/><rect fill=\"#ff5a00\" height=\"77\" rx=\"10\" ry=\"10\" width=\"100%\" x=\"0.0\" y=\"21.5\"/><text alignment-baseline=\"middle\" fill=\"#000000\" font-family=\"Arial\" font-size=\"45\" font-weight=\"bold\" text-anchor=\"middle\" x=\"50%\" y=\"53%\">42</text></svg>"
      ],
      "text/plain": [
       "<IPython.core.display.SVG object>"
      ]
     },
     "metadata": {},
     "output_type": "display_data"
    },
    {
     "data": {
      "image/svg+xml": [
       "<svg xmlns=\"http://www.w3.org/2000/svg\" xmlns:ev=\"http://www.w3.org/2001/xml-events\" xmlns:xlink=\"http://www.w3.org/1999/xlink\" baseProfile=\"full\" height=\"120\" version=\"1.1\" width=\"120\"><defs/><rect fill=\"#c04191\" height=\"77\" rx=\"10\" ry=\"10\" width=\"100%\" x=\"0.0\" y=\"21.5\"/><text alignment-baseline=\"middle\" fill=\"#ffffff\" font-family=\"Arial\" font-size=\"45\" font-weight=\"bold\" text-anchor=\"middle\" x=\"50%\" y=\"53%\">609</text></svg>"
      ],
      "text/plain": [
       "<IPython.core.display.SVG object>"
      ]
     },
     "metadata": {},
     "output_type": "display_data"
    },
    {
     "data": {
      "image/svg+xml": [
       "<svg xmlns=\"http://www.w3.org/2000/svg\" xmlns:ev=\"http://www.w3.org/2001/xml-events\" xmlns:xlink=\"http://www.w3.org/1999/xlink\" baseProfile=\"full\" height=\"120\" version=\"1.1\" width=\"120\"><defs/><rect fill=\"#e30613\" height=\"77\" rx=\"10\" ry=\"10\" width=\"100%\" x=\"0.0\" y=\"21.5\"/><text alignment-baseline=\"middle\" fill=\"#ffffff\" font-family=\"Arial\" font-size=\"45\" font-weight=\"bold\" text-anchor=\"middle\" x=\"50%\" y=\"53%\">05</text></svg>"
      ],
      "text/plain": [
       "<IPython.core.display.SVG object>"
      ]
     },
     "metadata": {},
     "output_type": "display_data"
    },
    {
     "data": {
      "image/svg+xml": [
       "<svg xmlns=\"http://www.w3.org/2000/svg\" xmlns:ev=\"http://www.w3.org/2001/xml-events\" xmlns:xlink=\"http://www.w3.org/1999/xlink\" baseProfile=\"full\" height=\"120\" version=\"1.1\" width=\"120\"><defs/><rect fill=\"#fbcc9a\" height=\"77\" rx=\"10\" ry=\"10\" width=\"100%\" x=\"0.0\" y=\"21.5\"/><text alignment-baseline=\"middle\" fill=\"#000000\" font-family=\"Arial\" font-size=\"45\" font-weight=\"bold\" text-anchor=\"middle\" x=\"50%\" y=\"53%\">2274</text></svg>"
      ],
      "text/plain": [
       "<IPython.core.display.SVG object>"
      ]
     },
     "metadata": {},
     "output_type": "display_data"
    },
    {
     "data": {
      "image/svg+xml": [
       "<svg xmlns=\"http://www.w3.org/2000/svg\" xmlns:ev=\"http://www.w3.org/2001/xml-events\" xmlns:xlink=\"http://www.w3.org/1999/xlink\" baseProfile=\"full\" height=\"120\" version=\"1.1\" width=\"120\"><defs/><rect fill=\"#9c91c5\" height=\"77\" rx=\"10\" ry=\"10\" width=\"100%\" x=\"0.0\" y=\"21.5\"/><text alignment-baseline=\"middle\" fill=\"#ffffff\" font-family=\"Arial\" font-size=\"45\" font-weight=\"bold\" text-anchor=\"middle\" x=\"50%\" y=\"53%\">17A</text></svg>"
      ],
      "text/plain": [
       "<IPython.core.display.SVG object>"
      ]
     },
     "metadata": {},
     "output_type": "display_data"
    },
    {
     "data": {
      "image/svg+xml": [
       "<svg xmlns=\"http://www.w3.org/2000/svg\" xmlns:ev=\"http://www.w3.org/2001/xml-events\" xmlns:xlink=\"http://www.w3.org/1999/xlink\" baseProfile=\"full\" height=\"120\" version=\"1.1\" width=\"120\"><defs/><rect fill=\"#d5c900\" height=\"77\" rx=\"10\" ry=\"10\" width=\"100%\" x=\"0.0\" y=\"21.5\"/><text alignment-baseline=\"middle\" fill=\"#000000\" font-family=\"Arial\" font-size=\"45\" font-weight=\"bold\" text-anchor=\"middle\" x=\"50%\" y=\"53%\">605</text></svg>"
      ],
      "text/plain": [
       "<IPython.core.display.SVG object>"
      ]
     },
     "metadata": {},
     "output_type": "display_data"
    },
    {
     "data": {
      "image/svg+xml": [
       "<svg xmlns=\"http://www.w3.org/2000/svg\" xmlns:ev=\"http://www.w3.org/2001/xml-events\" xmlns:xlink=\"http://www.w3.org/1999/xlink\" baseProfile=\"full\" height=\"120\" version=\"1.1\" width=\"120\"><defs/><rect fill=\"#ff7600\" height=\"77\" rx=\"10\" ry=\"10\" width=\"100%\" x=\"0.0\" y=\"21.5\"/><text alignment-baseline=\"middle\" fill=\"#000000\" font-family=\"Arial\" font-size=\"45\" font-weight=\"bold\" text-anchor=\"middle\" x=\"50%\" y=\"53%\">29</text></svg>"
      ],
      "text/plain": [
       "<IPython.core.display.SVG object>"
      ]
     },
     "metadata": {},
     "output_type": "display_data"
    },
    {
     "data": {
      "image/svg+xml": [
       "<svg xmlns=\"http://www.w3.org/2000/svg\" xmlns:ev=\"http://www.w3.org/2001/xml-events\" xmlns:xlink=\"http://www.w3.org/1999/xlink\" baseProfile=\"full\" height=\"120\" version=\"1.1\" width=\"120\"><defs/><rect fill=\"#7f78ed\" height=\"77\" rx=\"10\" ry=\"10\" width=\"100%\" x=\"0.0\" y=\"21.5\"/><text alignment-baseline=\"middle\" fill=\"#000000\" font-family=\"Arial\" font-size=\"45\" font-weight=\"bold\" text-anchor=\"middle\" x=\"50%\" y=\"53%\">4306</text></svg>"
      ],
      "text/plain": [
       "<IPython.core.display.SVG object>"
      ]
     },
     "metadata": {},
     "output_type": "display_data"
    },
    {
     "data": {
      "image/svg+xml": [
       "<svg xmlns=\"http://www.w3.org/2000/svg\" xmlns:ev=\"http://www.w3.org/2001/xml-events\" xmlns:xlink=\"http://www.w3.org/1999/xlink\" baseProfile=\"full\" height=\"120\" version=\"1.1\" width=\"120\"><defs/><rect fill=\"#ac8fab\" height=\"77\" rx=\"10\" ry=\"10\" width=\"100%\" x=\"0.0\" y=\"21.5\"/><text alignment-baseline=\"middle\" fill=\"#ffffff\" font-family=\"Arial\" font-size=\"45\" font-weight=\"bold\" text-anchor=\"middle\" x=\"50%\" y=\"53%\">23</text></svg>"
      ],
      "text/plain": [
       "<IPython.core.display.SVG object>"
      ]
     },
     "metadata": {},
     "output_type": "display_data"
    },
    {
     "data": {
      "image/svg+xml": [
       "<svg xmlns=\"http://www.w3.org/2000/svg\" xmlns:ev=\"http://www.w3.org/2001/xml-events\" xmlns:xlink=\"http://www.w3.org/1999/xlink\" baseProfile=\"full\" height=\"120\" version=\"1.1\" width=\"120\"><defs/><rect fill=\"#5291ce\" height=\"77\" rx=\"10\" ry=\"10\" width=\"100%\" x=\"0.0\" y=\"21.5\"/><text alignment-baseline=\"middle\" fill=\"#ffffff\" font-family=\"Arial\" font-size=\"45\" font-weight=\"bold\" text-anchor=\"middle\" x=\"50%\" y=\"53%\">42</text></svg>"
      ],
      "text/plain": [
       "<IPython.core.display.SVG object>"
      ]
     },
     "metadata": {},
     "output_type": "display_data"
    },
    {
     "data": {
      "image/svg+xml": [
       "<svg xmlns=\"http://www.w3.org/2000/svg\" xmlns:ev=\"http://www.w3.org/2001/xml-events\" xmlns:xlink=\"http://www.w3.org/1999/xlink\" baseProfile=\"full\" height=\"120\" version=\"1.1\" width=\"120\"><defs/><rect fill=\"#005c63\" height=\"77\" rx=\"10\" ry=\"10\" width=\"100%\" x=\"0.0\" y=\"21.5\"/><text alignment-baseline=\"middle\" fill=\"#ffffff\" font-family=\"Arial\" font-size=\"45\" font-weight=\"bold\" text-anchor=\"middle\" x=\"50%\" y=\"53%\">62B</text></svg>"
      ],
      "text/plain": [
       "<IPython.core.display.SVG object>"
      ]
     },
     "metadata": {},
     "output_type": "display_data"
    },
    {
     "data": {
      "image/svg+xml": [
       "<svg xmlns=\"http://www.w3.org/2000/svg\" xmlns:ev=\"http://www.w3.org/2001/xml-events\" xmlns:xlink=\"http://www.w3.org/1999/xlink\" baseProfile=\"full\" height=\"120\" version=\"1.1\" width=\"120\"><defs/><rect fill=\"#ac9072\" height=\"77\" rx=\"10\" ry=\"10\" width=\"100%\" x=\"0.0\" y=\"21.5\"/><text alignment-baseline=\"middle\" fill=\"#000000\" font-family=\"Arial\" font-size=\"45\" font-weight=\"bold\" text-anchor=\"middle\" x=\"50%\" y=\"53%\">06</text></svg>"
      ],
      "text/plain": [
       "<IPython.core.display.SVG object>"
      ]
     },
     "metadata": {},
     "output_type": "display_data"
    },
    {
     "data": {
      "image/svg+xml": [
       "<svg xmlns=\"http://www.w3.org/2000/svg\" xmlns:ev=\"http://www.w3.org/2001/xml-events\" xmlns:xlink=\"http://www.w3.org/1999/xlink\" baseProfile=\"full\" height=\"120\" version=\"1.1\" width=\"120\"><defs/><rect fill=\"#79ac2b\" height=\"77\" rx=\"10\" ry=\"10\" width=\"100%\" x=\"0.0\" y=\"21.5\"/><text alignment-baseline=\"middle\" fill=\"#ffffff\" font-family=\"Arial\" font-size=\"45\" font-weight=\"bold\" text-anchor=\"middle\" x=\"50%\" y=\"53%\">44</text></svg>"
      ],
      "text/plain": [
       "<IPython.core.display.SVG object>"
      ]
     },
     "metadata": {},
     "output_type": "display_data"
    },
    {
     "data": {
      "image/svg+xml": [
       "<svg xmlns=\"http://www.w3.org/2000/svg\" xmlns:ev=\"http://www.w3.org/2001/xml-events\" xmlns:xlink=\"http://www.w3.org/1999/xlink\" baseProfile=\"full\" height=\"120\" version=\"1.1\" width=\"120\"><defs/><rect fill=\"#7bac2b\" height=\"77\" rx=\"10\" ry=\"10\" width=\"100%\" x=\"0.0\" y=\"21.5\"/><text alignment-baseline=\"middle\" fill=\"#ffffff\" font-family=\"Arial\" font-size=\"45\" font-weight=\"bold\" text-anchor=\"middle\" x=\"50%\" y=\"53%\">424</text></svg>"
      ],
      "text/plain": [
       "<IPython.core.display.SVG object>"
      ]
     },
     "metadata": {},
     "output_type": "display_data"
    },
    {
     "data": {
      "image/svg+xml": [
       "<svg xmlns=\"http://www.w3.org/2000/svg\" xmlns:ev=\"http://www.w3.org/2001/xml-events\" xmlns:xlink=\"http://www.w3.org/1999/xlink\" baseProfile=\"full\" height=\"120\" version=\"1.1\" width=\"120\"><defs/><rect fill=\"#ffcc30\" height=\"77\" rx=\"10\" ry=\"10\" width=\"100%\" x=\"0.0\" y=\"21.5\"/><text alignment-baseline=\"middle\" fill=\"#000000\" font-family=\"Arial\" font-size=\"45\" font-weight=\"bold\" text-anchor=\"middle\" x=\"50%\" y=\"53%\">110</text></svg>"
      ],
      "text/plain": [
       "<IPython.core.display.SVG object>"
      ]
     },
     "metadata": {},
     "output_type": "display_data"
    },
    {
     "data": {
      "image/svg+xml": [
       "<svg xmlns=\"http://www.w3.org/2000/svg\" xmlns:ev=\"http://www.w3.org/2001/xml-events\" xmlns:xlink=\"http://www.w3.org/1999/xlink\" baseProfile=\"full\" height=\"120\" version=\"1.1\" width=\"120\"><defs/><rect fill=\"#7ac597\" height=\"77\" rx=\"10\" ry=\"10\" width=\"100%\" x=\"0.0\" y=\"21.5\"/><text alignment-baseline=\"middle\" fill=\"#ffffff\" font-family=\"Arial\" font-size=\"45\" font-weight=\"bold\" text-anchor=\"middle\" x=\"50%\" y=\"53%\">2B</text></svg>"
      ],
      "text/plain": [
       "<IPython.core.display.SVG object>"
      ]
     },
     "metadata": {},
     "output_type": "display_data"
    },
    {
     "data": {
      "image/svg+xml": [
       "<svg xmlns=\"http://www.w3.org/2000/svg\" xmlns:ev=\"http://www.w3.org/2001/xml-events\" xmlns:xlink=\"http://www.w3.org/1999/xlink\" baseProfile=\"full\" height=\"120\" version=\"1.1\" width=\"120\"><defs/><rect fill=\"#008b5b\" height=\"77\" rx=\"10\" ry=\"10\" width=\"100%\" x=\"0.0\" y=\"21.5\"/><text alignment-baseline=\"middle\" fill=\"#ffffff\" font-family=\"Arial\" font-size=\"45\" font-weight=\"bold\" text-anchor=\"middle\" x=\"50%\" y=\"53%\">9</text></svg>"
      ],
      "text/plain": [
       "<IPython.core.display.SVG object>"
      ]
     },
     "metadata": {},
     "output_type": "display_data"
    },
    {
     "data": {
      "image/svg+xml": [
       "<svg xmlns=\"http://www.w3.org/2000/svg\" xmlns:ev=\"http://www.w3.org/2001/xml-events\" xmlns:xlink=\"http://www.w3.org/1999/xlink\" baseProfile=\"full\" height=\"120\" version=\"1.1\" width=\"120\"><defs/><rect fill=\"#dfaf47\" height=\"77\" rx=\"10\" ry=\"10\" width=\"100%\" x=\"0.0\" y=\"21.5\"/><text alignment-baseline=\"middle\" fill=\"#ffffff\" font-family=\"Arial\" font-size=\"45\" font-weight=\"bold\" text-anchor=\"middle\" x=\"50%\" y=\"53%\">44</text></svg>"
      ],
      "text/plain": [
       "<IPython.core.display.SVG object>"
      ]
     },
     "metadata": {},
     "output_type": "display_data"
    },
    {
     "data": {
      "image/svg+xml": [
       "<svg xmlns=\"http://www.w3.org/2000/svg\" xmlns:ev=\"http://www.w3.org/2001/xml-events\" xmlns:xlink=\"http://www.w3.org/1999/xlink\" baseProfile=\"full\" height=\"120\" version=\"1.1\" width=\"120\"><defs/><rect fill=\"#ffcc30\" height=\"77\" rx=\"10\" ry=\"10\" width=\"100%\" x=\"0.0\" y=\"21.5\"/><text alignment-baseline=\"middle\" fill=\"#000000\" font-family=\"Arial\" font-size=\"45\" font-weight=\"bold\" text-anchor=\"middle\" x=\"50%\" y=\"53%\">88A</text></svg>"
      ],
      "text/plain": [
       "<IPython.core.display.SVG object>"
      ]
     },
     "metadata": {},
     "output_type": "display_data"
    },
    {
     "data": {
      "image/svg+xml": [
       "<svg xmlns=\"http://www.w3.org/2000/svg\" xmlns:ev=\"http://www.w3.org/2001/xml-events\" xmlns:xlink=\"http://www.w3.org/1999/xlink\" baseProfile=\"full\" height=\"120\" version=\"1.1\" width=\"120\"><defs/><rect fill=\"#ff00ff\" height=\"77\" rx=\"10\" ry=\"10\" width=\"100%\" x=\"0.0\" y=\"21.5\"/><text alignment-baseline=\"middle\" fill=\"#ffffff\" font-family=\"Arial\" font-size=\"45\" font-weight=\"bold\" text-anchor=\"middle\" x=\"50%\" y=\"53%\">460</text></svg>"
      ],
      "text/plain": [
       "<IPython.core.display.SVG object>"
      ]
     },
     "metadata": {},
     "output_type": "display_data"
    },
    {
     "data": {
      "image/svg+xml": [
       "<svg xmlns=\"http://www.w3.org/2000/svg\" xmlns:ev=\"http://www.w3.org/2001/xml-events\" xmlns:xlink=\"http://www.w3.org/1999/xlink\" baseProfile=\"full\" height=\"120\" version=\"1.1\" width=\"120\"><defs/><rect fill=\"#e0b03b\" height=\"77\" rx=\"10\" ry=\"10\" width=\"100%\" x=\"0.0\" y=\"21.5\"/><text alignment-baseline=\"middle\" fill=\"#000000\" font-family=\"Arial\" font-size=\"45\" font-weight=\"bold\" text-anchor=\"middle\" x=\"50%\" y=\"53%\">70</text></svg>"
      ],
      "text/plain": [
       "<IPython.core.display.SVG object>"
      ]
     },
     "metadata": {},
     "output_type": "display_data"
    },
    {
     "data": {
      "image/svg+xml": [
       "<svg xmlns=\"http://www.w3.org/2000/svg\" xmlns:ev=\"http://www.w3.org/2001/xml-events\" xmlns:xlink=\"http://www.w3.org/1999/xlink\" baseProfile=\"full\" height=\"120\" version=\"1.1\" width=\"120\"><defs/><rect fill=\"#005c63\" height=\"77\" rx=\"10\" ry=\"10\" width=\"100%\" x=\"0.0\" y=\"21.5\"/><text alignment-baseline=\"middle\" fill=\"#ffffff\" font-family=\"Arial\" font-size=\"45\" font-weight=\"bold\" text-anchor=\"middle\" x=\"50%\" y=\"53%\">01</text></svg>"
      ],
      "text/plain": [
       "<IPython.core.display.SVG object>"
      ]
     },
     "metadata": {},
     "output_type": "display_data"
    },
    {
     "data": {
      "image/svg+xml": [
       "<svg xmlns=\"http://www.w3.org/2000/svg\" xmlns:ev=\"http://www.w3.org/2001/xml-events\" xmlns:xlink=\"http://www.w3.org/1999/xlink\" baseProfile=\"full\" height=\"120\" version=\"1.1\" width=\"120\"><defs/><rect fill=\"#b398c3\" height=\"77\" rx=\"10\" ry=\"10\" width=\"100%\" x=\"0.0\" y=\"21.5\"/><text alignment-baseline=\"middle\" fill=\"#ffffff\" font-family=\"Arial\" font-size=\"45\" font-weight=\"bold\" text-anchor=\"middle\" x=\"50%\" y=\"53%\">113</text></svg>"
      ],
      "text/plain": [
       "<IPython.core.display.SVG object>"
      ]
     },
     "metadata": {},
     "output_type": "display_data"
    },
    {
     "data": {
      "image/svg+xml": [
       "<svg xmlns=\"http://www.w3.org/2000/svg\" xmlns:ev=\"http://www.w3.org/2001/xml-events\" xmlns:xlink=\"http://www.w3.org/1999/xlink\" baseProfile=\"full\" height=\"120\" version=\"1.1\" width=\"120\"><defs/><rect fill=\"#ee1d23\" height=\"77\" rx=\"10\" ry=\"10\" width=\"100%\" x=\"0.0\" y=\"21.5\"/><text alignment-baseline=\"middle\" fill=\"#ffffff\" font-family=\"Arial\" font-size=\"45\" font-weight=\"bold\" text-anchor=\"middle\" x=\"50%\" y=\"53%\">32</text></svg>"
      ],
      "text/plain": [
       "<IPython.core.display.SVG object>"
      ]
     },
     "metadata": {},
     "output_type": "display_data"
    },
    {
     "data": {
      "image/svg+xml": [
       "<svg xmlns=\"http://www.w3.org/2000/svg\" xmlns:ev=\"http://www.w3.org/2001/xml-events\" xmlns:xlink=\"http://www.w3.org/1999/xlink\" baseProfile=\"full\" height=\"120\" version=\"1.1\" width=\"120\"><defs/><rect fill=\"#eb2132\" height=\"77\" rx=\"10\" ry=\"10\" width=\"100%\" x=\"0.0\" y=\"21.5\"/><text alignment-baseline=\"middle\" fill=\"#ffffff\" font-family=\"Arial\" font-size=\"45\" font-weight=\"bold\" text-anchor=\"middle\" x=\"50%\" y=\"53%\">40</text></svg>"
      ],
      "text/plain": [
       "<IPython.core.display.SVG object>"
      ]
     },
     "metadata": {},
     "output_type": "display_data"
    },
    {
     "data": {
      "image/svg+xml": [
       "<svg xmlns=\"http://www.w3.org/2000/svg\" xmlns:ev=\"http://www.w3.org/2001/xml-events\" xmlns:xlink=\"http://www.w3.org/1999/xlink\" baseProfile=\"full\" height=\"120\" version=\"1.1\" width=\"120\"><defs/><rect fill=\"#82c8e6\" height=\"77\" rx=\"10\" ry=\"10\" width=\"100%\" x=\"0.0\" y=\"21.5\"/><text alignment-baseline=\"middle\" fill=\"#000000\" font-family=\"Arial\" font-size=\"45\" font-weight=\"bold\" text-anchor=\"middle\" x=\"50%\" y=\"53%\">6</text></svg>"
      ],
      "text/plain": [
       "<IPython.core.display.SVG object>"
      ]
     },
     "metadata": {},
     "output_type": "display_data"
    },
    {
     "data": {
      "image/svg+xml": [
       "<svg xmlns=\"http://www.w3.org/2000/svg\" xmlns:ev=\"http://www.w3.org/2001/xml-events\" xmlns:xlink=\"http://www.w3.org/1999/xlink\" baseProfile=\"full\" height=\"120\" version=\"1.1\" width=\"120\"><defs/><rect fill=\"#8d5e2a\" height=\"77\" rx=\"10\" ry=\"10\" width=\"100%\" x=\"0.0\" y=\"21.5\"/><text alignment-baseline=\"middle\" fill=\"#ffffff\" font-family=\"Arial\" font-size=\"45\" font-weight=\"bold\" text-anchor=\"middle\" x=\"50%\" y=\"53%\">34B</text></svg>"
      ],
      "text/plain": [
       "<IPython.core.display.SVG object>"
      ]
     },
     "metadata": {},
     "output_type": "display_data"
    },
    {
     "data": {
      "image/svg+xml": [
       "<svg xmlns=\"http://www.w3.org/2000/svg\" xmlns:ev=\"http://www.w3.org/2001/xml-events\" xmlns:xlink=\"http://www.w3.org/1999/xlink\" baseProfile=\"full\" height=\"120\" version=\"1.1\" width=\"120\"><defs/><rect fill=\"#b1b9df\" height=\"77\" rx=\"10\" ry=\"10\" width=\"100%\" x=\"0.0\" y=\"21.5\"/><text alignment-baseline=\"middle\" fill=\"#000000\" font-family=\"Arial\" font-size=\"45\" font-weight=\"bold\" text-anchor=\"middle\" x=\"50%\" y=\"53%\">441</text></svg>"
      ],
      "text/plain": [
       "<IPython.core.display.SVG object>"
      ]
     },
     "metadata": {},
     "output_type": "display_data"
    },
    {
     "data": {
      "image/svg+xml": [
       "<svg xmlns=\"http://www.w3.org/2000/svg\" xmlns:ev=\"http://www.w3.org/2001/xml-events\" xmlns:xlink=\"http://www.w3.org/1999/xlink\" baseProfile=\"full\" height=\"120\" version=\"1.1\" width=\"120\"><defs/><rect fill=\"#f49fb3\" height=\"77\" rx=\"10\" ry=\"10\" width=\"100%\" x=\"0.0\" y=\"21.5\"/><text alignment-baseline=\"middle\" fill=\"#000000\" font-family=\"Arial\" font-size=\"45\" font-weight=\"bold\" text-anchor=\"middle\" x=\"50%\" y=\"53%\">12</text></svg>"
      ],
      "text/plain": [
       "<IPython.core.display.SVG object>"
      ]
     },
     "metadata": {},
     "output_type": "display_data"
    },
    {
     "data": {
      "image/svg+xml": [
       "<svg xmlns=\"http://www.w3.org/2000/svg\" xmlns:ev=\"http://www.w3.org/2001/xml-events\" xmlns:xlink=\"http://www.w3.org/1999/xlink\" baseProfile=\"full\" height=\"120\" version=\"1.1\" width=\"120\"><defs/><rect fill=\"#83c491\" height=\"77\" rx=\"10\" ry=\"10\" width=\"100%\" x=\"0.0\" y=\"21.5\"/><text alignment-baseline=\"middle\" fill=\"#000000\" font-family=\"Arial\" font-size=\"45\" font-weight=\"bold\" text-anchor=\"middle\" x=\"50%\" y=\"53%\">619</text></svg>"
      ],
      "text/plain": [
       "<IPython.core.display.SVG object>"
      ]
     },
     "metadata": {},
     "output_type": "display_data"
    },
    {
     "data": {
      "image/svg+xml": [
       "<svg xmlns=\"http://www.w3.org/2000/svg\" xmlns:ev=\"http://www.w3.org/2001/xml-events\" xmlns:xlink=\"http://www.w3.org/1999/xlink\" baseProfile=\"full\" height=\"120\" version=\"1.1\" width=\"120\"><defs/><rect fill=\"#3bb2ff\" height=\"77\" rx=\"10\" ry=\"10\" width=\"100%\" x=\"0.0\" y=\"21.5\"/><text alignment-baseline=\"middle\" fill=\"#000000\" font-family=\"Arial\" font-size=\"45\" font-weight=\"bold\" text-anchor=\"middle\" x=\"50%\" y=\"53%\">475</text></svg>"
      ],
      "text/plain": [
       "<IPython.core.display.SVG object>"
      ]
     },
     "metadata": {},
     "output_type": "display_data"
    },
    {
     "data": {
      "image/svg+xml": [
       "<svg xmlns=\"http://www.w3.org/2000/svg\" xmlns:ev=\"http://www.w3.org/2001/xml-events\" xmlns:xlink=\"http://www.w3.org/1999/xlink\" baseProfile=\"full\" height=\"120\" version=\"1.1\" width=\"120\"><defs/><rect fill=\"#87d3df\" height=\"77\" rx=\"10\" ry=\"10\" width=\"100%\" x=\"0.0\" y=\"21.5\"/><text alignment-baseline=\"middle\" fill=\"#000000\" font-family=\"Arial\" font-size=\"45\" font-weight=\"bold\" text-anchor=\"middle\" x=\"50%\" y=\"53%\">61</text></svg>"
      ],
      "text/plain": [
       "<IPython.core.display.SVG object>"
      ]
     },
     "metadata": {},
     "output_type": "display_data"
    },
    {
     "data": {
      "image/svg+xml": [
       "<svg xmlns=\"http://www.w3.org/2000/svg\" xmlns:ev=\"http://www.w3.org/2001/xml-events\" xmlns:xlink=\"http://www.w3.org/1999/xlink\" baseProfile=\"full\" height=\"120\" version=\"1.1\" width=\"120\"><defs/><rect fill=\"#e0b03b\" height=\"77\" rx=\"10\" ry=\"10\" width=\"100%\" x=\"0.0\" y=\"21.5\"/><text alignment-baseline=\"middle\" fill=\"#000000\" font-family=\"Arial\" font-size=\"45\" font-weight=\"bold\" text-anchor=\"middle\" x=\"50%\" y=\"53%\">21</text></svg>"
      ],
      "text/plain": [
       "<IPython.core.display.SVG object>"
      ]
     },
     "metadata": {},
     "output_type": "display_data"
    },
    {
     "data": {
      "image/svg+xml": [
       "<svg xmlns=\"http://www.w3.org/2000/svg\" xmlns:ev=\"http://www.w3.org/2001/xml-events\" xmlns:xlink=\"http://www.w3.org/1999/xlink\" baseProfile=\"full\" height=\"120\" version=\"1.1\" width=\"120\"><defs/><rect fill=\"#00b397\" height=\"77\" rx=\"10\" ry=\"10\" width=\"100%\" x=\"0.0\" y=\"21.5\"/><text alignment-baseline=\"middle\" fill=\"#ffffff\" font-family=\"Arial\" font-size=\"45\" font-weight=\"bold\" text-anchor=\"middle\" x=\"50%\" y=\"53%\">30</text></svg>"
      ],
      "text/plain": [
       "<IPython.core.display.SVG object>"
      ]
     },
     "metadata": {},
     "output_type": "display_data"
    },
    {
     "data": {
      "image/svg+xml": [
       "<svg xmlns=\"http://www.w3.org/2000/svg\" xmlns:ev=\"http://www.w3.org/2001/xml-events\" xmlns:xlink=\"http://www.w3.org/1999/xlink\" baseProfile=\"full\" height=\"120\" version=\"1.1\" width=\"120\"><defs/><rect fill=\"#78c4ee\" height=\"77\" rx=\"10\" ry=\"10\" width=\"100%\" x=\"0.0\" y=\"21.5\"/><text alignment-baseline=\"middle\" fill=\"#000000\" font-family=\"Arial\" font-size=\"45\" font-weight=\"bold\" text-anchor=\"middle\" x=\"50%\" y=\"53%\">13</text></svg>"
      ],
      "text/plain": [
       "<IPython.core.display.SVG object>"
      ]
     },
     "metadata": {},
     "output_type": "display_data"
    },
    {
     "data": {
      "image/svg+xml": [
       "<svg xmlns=\"http://www.w3.org/2000/svg\" xmlns:ev=\"http://www.w3.org/2001/xml-events\" xmlns:xlink=\"http://www.w3.org/1999/xlink\" baseProfile=\"full\" height=\"120\" version=\"1.1\" width=\"120\"><defs/><rect fill=\"#7ac597\" height=\"77\" rx=\"10\" ry=\"10\" width=\"100%\" x=\"0.0\" y=\"21.5\"/><text alignment-baseline=\"middle\" fill=\"#000000\" font-family=\"Arial\" font-size=\"45\" font-weight=\"bold\" text-anchor=\"middle\" x=\"50%\" y=\"53%\">88C</text></svg>"
      ],
      "text/plain": [
       "<IPython.core.display.SVG object>"
      ]
     },
     "metadata": {},
     "output_type": "display_data"
    },
    {
     "data": {
      "image/svg+xml": [
       "<svg xmlns=\"http://www.w3.org/2000/svg\" xmlns:ev=\"http://www.w3.org/2001/xml-events\" xmlns:xlink=\"http://www.w3.org/1999/xlink\" baseProfile=\"full\" height=\"120\" version=\"1.1\" width=\"120\"><defs/><rect fill=\"#71cc98\" height=\"77\" rx=\"10\" ry=\"10\" width=\"100%\" x=\"0.0\" y=\"21.5\"/><text alignment-baseline=\"middle\" fill=\"#000000\" font-family=\"Arial\" font-size=\"45\" font-weight=\"bold\" text-anchor=\"middle\" x=\"50%\" y=\"53%\">06</text></svg>"
      ],
      "text/plain": [
       "<IPython.core.display.SVG object>"
      ]
     },
     "metadata": {},
     "output_type": "display_data"
    },
    {
     "data": {
      "image/svg+xml": [
       "<svg xmlns=\"http://www.w3.org/2000/svg\" xmlns:ev=\"http://www.w3.org/2001/xml-events\" xmlns:xlink=\"http://www.w3.org/1999/xlink\" baseProfile=\"full\" height=\"120\" version=\"1.1\" width=\"120\"><defs/><rect fill=\"#5091cb\" height=\"77\" rx=\"10\" ry=\"10\" width=\"100%\" x=\"0.0\" y=\"21.5\"/><text alignment-baseline=\"middle\" fill=\"#ffffff\" font-family=\"Arial\" font-size=\"45\" font-weight=\"bold\" text-anchor=\"middle\" x=\"50%\" y=\"53%\">60</text></svg>"
      ],
      "text/plain": [
       "<IPython.core.display.SVG object>"
      ]
     },
     "metadata": {},
     "output_type": "display_data"
    },
    {
     "data": {
      "image/svg+xml": [
       "<svg xmlns=\"http://www.w3.org/2000/svg\" xmlns:ev=\"http://www.w3.org/2001/xml-events\" xmlns:xlink=\"http://www.w3.org/1999/xlink\" baseProfile=\"full\" height=\"120\" version=\"1.1\" width=\"120\"><defs/><rect fill=\"#ff1400\" height=\"77\" rx=\"10\" ry=\"10\" width=\"100%\" x=\"0.0\" y=\"21.5\"/><text alignment-baseline=\"middle\" fill=\"#ffffff\" font-family=\"Arial\" font-size=\"45\" font-weight=\"bold\" text-anchor=\"middle\" x=\"50%\" y=\"53%\">25</text></svg>"
      ],
      "text/plain": [
       "<IPython.core.display.SVG object>"
      ]
     },
     "metadata": {},
     "output_type": "display_data"
    },
    {
     "data": {
      "image/svg+xml": [
       "<svg xmlns=\"http://www.w3.org/2000/svg\" xmlns:ev=\"http://www.w3.org/2001/xml-events\" xmlns:xlink=\"http://www.w3.org/1999/xlink\" baseProfile=\"full\" height=\"120\" version=\"1.1\" width=\"120\"><defs/><rect fill=\"#feca3f\" height=\"77\" rx=\"10\" ry=\"10\" width=\"100%\" x=\"0.0\" y=\"21.5\"/><text alignment-baseline=\"middle\" fill=\"#000000\" font-family=\"Arial\" font-size=\"45\" font-weight=\"bold\" text-anchor=\"middle\" x=\"50%\" y=\"53%\">2</text></svg>"
      ],
      "text/plain": [
       "<IPython.core.display.SVG object>"
      ]
     },
     "metadata": {},
     "output_type": "display_data"
    },
    {
     "data": {
      "image/svg+xml": [
       "<svg xmlns=\"http://www.w3.org/2000/svg\" xmlns:ev=\"http://www.w3.org/2001/xml-events\" xmlns:xlink=\"http://www.w3.org/1999/xlink\" baseProfile=\"full\" height=\"120\" version=\"1.1\" width=\"120\"><defs/><rect fill=\"#019caf\" height=\"77\" rx=\"10\" ry=\"10\" width=\"100%\" x=\"0.0\" y=\"21.5\"/><text alignment-baseline=\"middle\" fill=\"#000000\" font-family=\"Arial\" font-size=\"45\" font-weight=\"bold\" text-anchor=\"middle\" x=\"50%\" y=\"53%\">15</text></svg>"
      ],
      "text/plain": [
       "<IPython.core.display.SVG object>"
      ]
     },
     "metadata": {},
     "output_type": "display_data"
    },
    {
     "data": {
      "image/svg+xml": [
       "<svg xmlns=\"http://www.w3.org/2000/svg\" xmlns:ev=\"http://www.w3.org/2001/xml-events\" xmlns:xlink=\"http://www.w3.org/1999/xlink\" baseProfile=\"full\" height=\"120\" version=\"1.1\" width=\"120\"><defs/><rect fill=\"#990000\" height=\"77\" rx=\"10\" ry=\"10\" width=\"100%\" x=\"0.0\" y=\"21.5\"/><text alignment-baseline=\"middle\" fill=\"#ffffff\" font-family=\"Arial\" font-size=\"45\" font-weight=\"bold\" text-anchor=\"middle\" x=\"50%\" y=\"53%\">41A</text></svg>"
      ],
      "text/plain": [
       "<IPython.core.display.SVG object>"
      ]
     },
     "metadata": {},
     "output_type": "display_data"
    },
    {
     "data": {
      "image/svg+xml": [
       "<svg xmlns=\"http://www.w3.org/2000/svg\" xmlns:ev=\"http://www.w3.org/2001/xml-events\" xmlns:xlink=\"http://www.w3.org/1999/xlink\" baseProfile=\"full\" height=\"120\" version=\"1.1\" width=\"120\"><defs/><rect fill=\"#cc9900\" height=\"77\" rx=\"10\" ry=\"10\" width=\"100%\" x=\"0.0\" y=\"21.5\"/><text alignment-baseline=\"middle\" fill=\"#000000\" font-family=\"Arial\" font-size=\"45\" font-weight=\"bold\" text-anchor=\"middle\" x=\"50%\" y=\"53%\">03A</text></svg>"
      ],
      "text/plain": [
       "<IPython.core.display.SVG object>"
      ]
     },
     "metadata": {},
     "output_type": "display_data"
    },
    {
     "data": {
      "image/svg+xml": [
       "<svg xmlns=\"http://www.w3.org/2000/svg\" xmlns:ev=\"http://www.w3.org/2001/xml-events\" xmlns:xlink=\"http://www.w3.org/1999/xlink\" baseProfile=\"full\" height=\"120\" version=\"1.1\" width=\"120\"><defs/><rect fill=\"#674ea7\" height=\"77\" rx=\"10\" ry=\"10\" width=\"100%\" x=\"0.0\" y=\"21.5\"/><text alignment-baseline=\"middle\" fill=\"#ffffff\" font-family=\"Arial\" font-size=\"45\" font-weight=\"bold\" text-anchor=\"middle\" x=\"50%\" y=\"53%\">31S</text></svg>"
      ],
      "text/plain": [
       "<IPython.core.display.SVG object>"
      ]
     },
     "metadata": {},
     "output_type": "display_data"
    },
    {
     "data": {
      "image/svg+xml": [
       "<svg xmlns=\"http://www.w3.org/2000/svg\" xmlns:ev=\"http://www.w3.org/2001/xml-events\" xmlns:xlink=\"http://www.w3.org/1999/xlink\" baseProfile=\"full\" height=\"120\" version=\"1.1\" width=\"120\"><defs/><rect fill=\"#ffff00\" height=\"77\" rx=\"10\" ry=\"10\" width=\"100%\" x=\"0.0\" y=\"21.5\"/><text alignment-baseline=\"middle\" fill=\"#000000\" font-family=\"Arial\" font-size=\"45\" font-weight=\"bold\" text-anchor=\"middle\" x=\"50%\" y=\"53%\">2</text></svg>"
      ],
      "text/plain": [
       "<IPython.core.display.SVG object>"
      ]
     },
     "metadata": {},
     "output_type": "display_data"
    },
    {
     "data": {
      "image/svg+xml": [
       "<svg xmlns=\"http://www.w3.org/2000/svg\" xmlns:ev=\"http://www.w3.org/2001/xml-events\" xmlns:xlink=\"http://www.w3.org/1999/xlink\" baseProfile=\"full\" height=\"120\" version=\"1.1\" width=\"120\"><defs/><rect fill=\"#662583\" height=\"77\" rx=\"10\" ry=\"10\" width=\"100%\" x=\"0.0\" y=\"21.5\"/><text alignment-baseline=\"middle\" fill=\"#ffffff\" font-family=\"Arial\" font-size=\"45\" font-weight=\"bold\" text-anchor=\"middle\" x=\"50%\" y=\"53%\">28A</text></svg>"
      ],
      "text/plain": [
       "<IPython.core.display.SVG object>"
      ]
     },
     "metadata": {},
     "output_type": "display_data"
    },
    {
     "data": {
      "image/svg+xml": [
       "<svg xmlns=\"http://www.w3.org/2000/svg\" xmlns:ev=\"http://www.w3.org/2001/xml-events\" xmlns:xlink=\"http://www.w3.org/1999/xlink\" baseProfile=\"full\" height=\"120\" version=\"1.1\" width=\"120\"><defs/><rect fill=\"#ff0000\" height=\"77\" rx=\"10\" ry=\"10\" width=\"100%\" x=\"0.0\" y=\"21.5\"/><text alignment-baseline=\"middle\" fill=\"#000000\" font-family=\"Arial\" font-size=\"45\" font-weight=\"bold\" text-anchor=\"middle\" x=\"50%\" y=\"53%\">252</text></svg>"
      ],
      "text/plain": [
       "<IPython.core.display.SVG object>"
      ]
     },
     "metadata": {},
     "output_type": "display_data"
    },
    {
     "data": {
      "image/svg+xml": [
       "<svg xmlns=\"http://www.w3.org/2000/svg\" xmlns:ev=\"http://www.w3.org/2001/xml-events\" xmlns:xlink=\"http://www.w3.org/1999/xlink\" baseProfile=\"full\" height=\"120\" version=\"1.1\" width=\"120\"><defs/><rect fill=\"#f28e42\" height=\"77\" rx=\"10\" ry=\"10\" width=\"100%\" x=\"0.0\" y=\"21.5\"/><text alignment-baseline=\"middle\" fill=\"#000000\" font-family=\"Arial\" font-size=\"45\" font-weight=\"bold\" text-anchor=\"middle\" x=\"50%\" y=\"53%\">37C</text></svg>"
      ],
      "text/plain": [
       "<IPython.core.display.SVG object>"
      ]
     },
     "metadata": {},
     "output_type": "display_data"
    },
    {
     "data": {
      "image/svg+xml": [
       "<svg xmlns=\"http://www.w3.org/2000/svg\" xmlns:ev=\"http://www.w3.org/2001/xml-events\" xmlns:xlink=\"http://www.w3.org/1999/xlink\" baseProfile=\"full\" height=\"120\" version=\"1.1\" width=\"120\"><defs/><rect fill=\"#8e7cc3\" height=\"77\" rx=\"10\" ry=\"10\" width=\"100%\" x=\"0.0\" y=\"21.5\"/><text alignment-baseline=\"middle\" fill=\"#ffffff\" font-family=\"Arial\" font-size=\"45\" font-weight=\"bold\" text-anchor=\"middle\" x=\"50%\" y=\"53%\">177</text></svg>"
      ],
      "text/plain": [
       "<IPython.core.display.SVG object>"
      ]
     },
     "metadata": {},
     "output_type": "display_data"
    },
    {
     "data": {
      "image/svg+xml": [
       "<svg xmlns=\"http://www.w3.org/2000/svg\" xmlns:ev=\"http://www.w3.org/2001/xml-events\" xmlns:xlink=\"http://www.w3.org/1999/xlink\" baseProfile=\"full\" height=\"120\" version=\"1.1\" width=\"120\"><defs/><rect fill=\"#e46c0a\" height=\"77\" rx=\"10\" ry=\"10\" width=\"100%\" x=\"0.0\" y=\"21.5\"/><text alignment-baseline=\"middle\" fill=\"#000000\" font-family=\"Arial\" font-size=\"45\" font-weight=\"bold\" text-anchor=\"middle\" x=\"50%\" y=\"53%\">02A</text></svg>"
      ],
      "text/plain": [
       "<IPython.core.display.SVG object>"
      ]
     },
     "metadata": {},
     "output_type": "display_data"
    },
    {
     "data": {
      "image/svg+xml": [
       "<svg xmlns=\"http://www.w3.org/2000/svg\" xmlns:ev=\"http://www.w3.org/2001/xml-events\" xmlns:xlink=\"http://www.w3.org/1999/xlink\" baseProfile=\"full\" height=\"120\" version=\"1.1\" width=\"120\"><defs/><rect fill=\"#783f04\" height=\"77\" rx=\"10\" ry=\"10\" width=\"100%\" x=\"0.0\" y=\"21.5\"/><text alignment-baseline=\"middle\" fill=\"#ffffff\" font-family=\"Arial\" font-size=\"45\" font-weight=\"bold\" text-anchor=\"middle\" x=\"50%\" y=\"53%\">09C</text></svg>"
      ],
      "text/plain": [
       "<IPython.core.display.SVG object>"
      ]
     },
     "metadata": {},
     "output_type": "display_data"
    },
    {
     "data": {
      "image/svg+xml": [
       "<svg xmlns=\"http://www.w3.org/2000/svg\" xmlns:ev=\"http://www.w3.org/2001/xml-events\" xmlns:xlink=\"http://www.w3.org/1999/xlink\" baseProfile=\"full\" height=\"120\" version=\"1.1\" width=\"120\"><defs/><rect fill=\"#fece00\" height=\"77\" rx=\"10\" ry=\"10\" width=\"100%\" x=\"0.0\" y=\"21.5\"/><text alignment-baseline=\"middle\" fill=\"#000000\" font-family=\"Arial\" font-size=\"45\" font-weight=\"bold\" text-anchor=\"middle\" x=\"50%\" y=\"53%\">37R</text></svg>"
      ],
      "text/plain": [
       "<IPython.core.display.SVG object>"
      ]
     },
     "metadata": {},
     "output_type": "display_data"
    },
    {
     "data": {
      "image/svg+xml": [
       "<svg xmlns=\"http://www.w3.org/2000/svg\" xmlns:ev=\"http://www.w3.org/2001/xml-events\" xmlns:xlink=\"http://www.w3.org/1999/xlink\" baseProfile=\"full\" height=\"120\" version=\"1.1\" width=\"120\"><defs/><rect fill=\"#c04191\" height=\"77\" rx=\"10\" ry=\"10\" width=\"100%\" x=\"0.0\" y=\"21.5\"/><text alignment-baseline=\"middle\" fill=\"#ffffff\" font-family=\"Arial\" font-size=\"45\" font-weight=\"bold\" text-anchor=\"middle\" x=\"50%\" y=\"53%\">43</text></svg>"
      ],
      "text/plain": [
       "<IPython.core.display.SVG object>"
      ]
     },
     "metadata": {},
     "output_type": "display_data"
    },
    {
     "data": {
      "image/svg+xml": [
       "<svg xmlns=\"http://www.w3.org/2000/svg\" xmlns:ev=\"http://www.w3.org/2001/xml-events\" xmlns:xlink=\"http://www.w3.org/1999/xlink\" baseProfile=\"full\" height=\"120\" version=\"1.1\" width=\"120\"><defs/><rect fill=\"#0b5394\" height=\"77\" rx=\"10\" ry=\"10\" width=\"100%\" x=\"0.0\" y=\"21.5\"/><text alignment-baseline=\"middle\" fill=\"#ffffff\" font-family=\"Arial\" font-size=\"45\" font-weight=\"bold\" text-anchor=\"middle\" x=\"50%\" y=\"53%\">301</text></svg>"
      ],
      "text/plain": [
       "<IPython.core.display.SVG object>"
      ]
     },
     "metadata": {},
     "output_type": "display_data"
    },
    {
     "data": {
      "image/svg+xml": [
       "<svg xmlns=\"http://www.w3.org/2000/svg\" xmlns:ev=\"http://www.w3.org/2001/xml-events\" xmlns:xlink=\"http://www.w3.org/1999/xlink\" baseProfile=\"full\" height=\"120\" version=\"1.1\" width=\"120\"><defs/><rect fill=\"#ff8c94\" height=\"77\" rx=\"10\" ry=\"10\" width=\"100%\" x=\"0.0\" y=\"21.5\"/><text alignment-baseline=\"middle\" fill=\"#ffffff\" font-family=\"Arial\" font-size=\"45\" font-weight=\"bold\" text-anchor=\"middle\" x=\"50%\" y=\"53%\">106</text></svg>"
      ],
      "text/plain": [
       "<IPython.core.display.SVG object>"
      ]
     },
     "metadata": {},
     "output_type": "display_data"
    },
    {
     "data": {
      "image/svg+xml": [
       "<svg xmlns=\"http://www.w3.org/2000/svg\" xmlns:ev=\"http://www.w3.org/2001/xml-events\" xmlns:xlink=\"http://www.w3.org/1999/xlink\" baseProfile=\"full\" height=\"120\" version=\"1.1\" width=\"120\"><defs/><rect fill=\"#79ac2b\" height=\"77\" rx=\"10\" ry=\"10\" width=\"100%\" x=\"0.0\" y=\"21.5\"/><text alignment-baseline=\"middle\" fill=\"#ffffff\" font-family=\"Arial\" font-size=\"45\" font-weight=\"bold\" text-anchor=\"middle\" x=\"50%\" y=\"53%\">423</text></svg>"
      ],
      "text/plain": [
       "<IPython.core.display.SVG object>"
      ]
     },
     "metadata": {},
     "output_type": "display_data"
    },
    {
     "data": {
      "image/svg+xml": [
       "<svg xmlns=\"http://www.w3.org/2000/svg\" xmlns:ev=\"http://www.w3.org/2001/xml-events\" xmlns:xlink=\"http://www.w3.org/1999/xlink\" baseProfile=\"full\" height=\"120\" version=\"1.1\" width=\"120\"><defs/><rect fill=\"#314c9a\" height=\"77\" rx=\"10\" ry=\"10\" width=\"100%\" x=\"0.0\" y=\"21.5\"/><text alignment-baseline=\"middle\" fill=\"#ffffff\" font-family=\"Arial\" font-size=\"45\" font-weight=\"bold\" text-anchor=\"middle\" x=\"50%\" y=\"53%\">42</text></svg>"
      ],
      "text/plain": [
       "<IPython.core.display.SVG object>"
      ]
     },
     "metadata": {},
     "output_type": "display_data"
    },
    {
     "data": {
      "image/svg+xml": [
       "<svg xmlns=\"http://www.w3.org/2000/svg\" xmlns:ev=\"http://www.w3.org/2001/xml-events\" xmlns:xlink=\"http://www.w3.org/1999/xlink\" baseProfile=\"full\" height=\"120\" version=\"1.1\" width=\"120\"><defs/><rect fill=\"#ff1400\" height=\"77\" rx=\"10\" ry=\"10\" width=\"100%\" x=\"0.0\" y=\"21.5\"/><text alignment-baseline=\"middle\" fill=\"#ffffff\" font-family=\"Arial\" font-size=\"45\" font-weight=\"bold\" text-anchor=\"middle\" x=\"50%\" y=\"53%\">9</text></svg>"
      ],
      "text/plain": [
       "<IPython.core.display.SVG object>"
      ]
     },
     "metadata": {},
     "output_type": "display_data"
    },
    {
     "data": {
      "image/svg+xml": [
       "<svg xmlns=\"http://www.w3.org/2000/svg\" xmlns:ev=\"http://www.w3.org/2001/xml-events\" xmlns:xlink=\"http://www.w3.org/1999/xlink\" baseProfile=\"full\" height=\"120\" version=\"1.1\" width=\"120\"><defs/><rect fill=\"#0000ff\" height=\"77\" rx=\"10\" ry=\"10\" width=\"100%\" x=\"0.0\" y=\"21.5\"/><text alignment-baseline=\"middle\" fill=\"#ffffff\" font-family=\"Arial\" font-size=\"45\" font-weight=\"bold\" text-anchor=\"middle\" x=\"50%\" y=\"53%\">8</text></svg>"
      ],
      "text/plain": [
       "<IPython.core.display.SVG object>"
      ]
     },
     "metadata": {},
     "output_type": "display_data"
    },
    {
     "data": {
      "image/svg+xml": [
       "<svg xmlns=\"http://www.w3.org/2000/svg\" xmlns:ev=\"http://www.w3.org/2001/xml-events\" xmlns:xlink=\"http://www.w3.org/1999/xlink\" baseProfile=\"full\" height=\"120\" version=\"1.1\" width=\"120\"><defs/><rect fill=\"#9b9842\" height=\"77\" rx=\"10\" ry=\"10\" width=\"100%\" x=\"0.0\" y=\"21.5\"/><text alignment-baseline=\"middle\" fill=\"#ffffff\" font-family=\"Arial\" font-size=\"45\" font-weight=\"bold\" text-anchor=\"middle\" x=\"50%\" y=\"53%\">27</text></svg>"
      ],
      "text/plain": [
       "<IPython.core.display.SVG object>"
      ]
     },
     "metadata": {},
     "output_type": "display_data"
    },
    {
     "data": {
      "image/svg+xml": [
       "<svg xmlns=\"http://www.w3.org/2000/svg\" xmlns:ev=\"http://www.w3.org/2001/xml-events\" xmlns:xlink=\"http://www.w3.org/1999/xlink\" baseProfile=\"full\" height=\"120\" version=\"1.1\" width=\"120\"><defs/><rect fill=\"#dba5cb\" height=\"77\" rx=\"10\" ry=\"10\" width=\"100%\" x=\"0.0\" y=\"21.5\"/><text alignment-baseline=\"middle\" fill=\"#000000\" font-family=\"Arial\" font-size=\"45\" font-weight=\"bold\" text-anchor=\"middle\" x=\"50%\" y=\"53%\">59</text></svg>"
      ],
      "text/plain": [
       "<IPython.core.display.SVG object>"
      ]
     },
     "metadata": {},
     "output_type": "display_data"
    },
    {
     "data": {
      "image/svg+xml": [
       "<svg xmlns=\"http://www.w3.org/2000/svg\" xmlns:ev=\"http://www.w3.org/2001/xml-events\" xmlns:xlink=\"http://www.w3.org/1999/xlink\" baseProfile=\"full\" height=\"120\" version=\"1.1\" width=\"120\"><defs/><rect fill=\"#3bb2ff\" height=\"77\" rx=\"10\" ry=\"10\" width=\"100%\" x=\"0.0\" y=\"21.5\"/><text alignment-baseline=\"middle\" fill=\"#000000\" font-family=\"Arial\" font-size=\"45\" font-weight=\"bold\" text-anchor=\"middle\" x=\"50%\" y=\"53%\">54</text></svg>"
      ],
      "text/plain": [
       "<IPython.core.display.SVG object>"
      ]
     },
     "metadata": {},
     "output_type": "display_data"
    },
    {
     "data": {
      "image/svg+xml": [
       "<svg xmlns=\"http://www.w3.org/2000/svg\" xmlns:ev=\"http://www.w3.org/2001/xml-events\" xmlns:xlink=\"http://www.w3.org/1999/xlink\" baseProfile=\"full\" height=\"120\" version=\"1.1\" width=\"120\"><defs/><rect fill=\"#3bb2ff\" height=\"77\" rx=\"10\" ry=\"10\" width=\"100%\" x=\"0.0\" y=\"21.5\"/><text alignment-baseline=\"middle\" fill=\"#000000\" font-family=\"Arial\" font-size=\"45\" font-weight=\"bold\" text-anchor=\"middle\" x=\"50%\" y=\"53%\">12</text></svg>"
      ],
      "text/plain": [
       "<IPython.core.display.SVG object>"
      ]
     },
     "metadata": {},
     "output_type": "display_data"
    },
    {
     "data": {
      "image/svg+xml": [
       "<svg xmlns=\"http://www.w3.org/2000/svg\" xmlns:ev=\"http://www.w3.org/2001/xml-events\" xmlns:xlink=\"http://www.w3.org/1999/xlink\" baseProfile=\"full\" height=\"120\" version=\"1.1\" width=\"120\"><defs/><rect fill=\"#ed1c2a\" height=\"77\" rx=\"10\" ry=\"10\" width=\"100%\" x=\"0.0\" y=\"21.5\"/><text alignment-baseline=\"middle\" fill=\"#ffffff\" font-family=\"Arial\" font-size=\"45\" font-weight=\"bold\" text-anchor=\"middle\" x=\"50%\" y=\"53%\">90</text></svg>"
      ],
      "text/plain": [
       "<IPython.core.display.SVG object>"
      ]
     },
     "metadata": {},
     "output_type": "display_data"
    },
    {
     "data": {
      "image/svg+xml": [
       "<svg xmlns=\"http://www.w3.org/2000/svg\" xmlns:ev=\"http://www.w3.org/2001/xml-events\" xmlns:xlink=\"http://www.w3.org/1999/xlink\" baseProfile=\"full\" height=\"120\" version=\"1.1\" width=\"120\"><defs/><rect fill=\"#fedf53\" height=\"77\" rx=\"10\" ry=\"10\" width=\"100%\" x=\"0.0\" y=\"21.5\"/><text alignment-baseline=\"middle\" fill=\"#000000\" font-family=\"Arial\" font-size=\"45\" font-weight=\"bold\" text-anchor=\"middle\" x=\"50%\" y=\"53%\">N131</text></svg>"
      ],
      "text/plain": [
       "<IPython.core.display.SVG object>"
      ]
     },
     "metadata": {},
     "output_type": "display_data"
    },
    {
     "data": {
      "image/svg+xml": [
       "<svg xmlns=\"http://www.w3.org/2000/svg\" xmlns:ev=\"http://www.w3.org/2001/xml-events\" xmlns:xlink=\"http://www.w3.org/1999/xlink\" baseProfile=\"full\" height=\"120\" version=\"1.1\" width=\"120\"><defs/><rect fill=\"#ff0000\" height=\"77\" rx=\"10\" ry=\"10\" width=\"100%\" x=\"0.0\" y=\"21.5\"/><text alignment-baseline=\"middle\" fill=\"#000000\" font-family=\"Arial\" font-size=\"45\" font-weight=\"bold\" text-anchor=\"middle\" x=\"50%\" y=\"53%\">216</text></svg>"
      ],
      "text/plain": [
       "<IPython.core.display.SVG object>"
      ]
     },
     "metadata": {},
     "output_type": "display_data"
    },
    {
     "data": {
      "image/svg+xml": [
       "<svg xmlns=\"http://www.w3.org/2000/svg\" xmlns:ev=\"http://www.w3.org/2001/xml-events\" xmlns:xlink=\"http://www.w3.org/1999/xlink\" baseProfile=\"full\" height=\"120\" version=\"1.1\" width=\"120\"><defs/><rect fill=\"#9b9842\" height=\"77\" rx=\"10\" ry=\"10\" width=\"100%\" x=\"0.0\" y=\"21.5\"/><text alignment-baseline=\"middle\" fill=\"#ffffff\" font-family=\"Arial\" font-size=\"45\" font-weight=\"bold\" text-anchor=\"middle\" x=\"50%\" y=\"53%\">90</text></svg>"
      ],
      "text/plain": [
       "<IPython.core.display.SVG object>"
      ]
     },
     "metadata": {},
     "output_type": "display_data"
    },
    {
     "data": {
      "image/svg+xml": [
       "<svg xmlns=\"http://www.w3.org/2000/svg\" xmlns:ev=\"http://www.w3.org/2001/xml-events\" xmlns:xlink=\"http://www.w3.org/1999/xlink\" baseProfile=\"full\" height=\"120\" version=\"1.1\" width=\"120\"><defs/><rect fill=\"#f3a489\" height=\"77\" rx=\"10\" ry=\"10\" width=\"100%\" x=\"0.0\" y=\"21.5\"/><text alignment-baseline=\"middle\" fill=\"#ffffff\" font-family=\"Arial\" font-size=\"45\" font-weight=\"bold\" text-anchor=\"middle\" x=\"50%\" y=\"53%\">17S</text></svg>"
      ],
      "text/plain": [
       "<IPython.core.display.SVG object>"
      ]
     },
     "metadata": {},
     "output_type": "display_data"
    },
    {
     "data": {
      "image/svg+xml": [
       "<svg xmlns=\"http://www.w3.org/2000/svg\" xmlns:ev=\"http://www.w3.org/2001/xml-events\" xmlns:xlink=\"http://www.w3.org/1999/xlink\" baseProfile=\"full\" height=\"120\" version=\"1.1\" width=\"120\"><defs/><rect fill=\"#dac062\" height=\"77\" rx=\"10\" ry=\"10\" width=\"100%\" x=\"0.0\" y=\"21.5\"/><text alignment-baseline=\"middle\" fill=\"#000000\" font-family=\"Arial\" font-size=\"45\" font-weight=\"bold\" text-anchor=\"middle\" x=\"50%\" y=\"53%\">9B</text></svg>"
      ],
      "text/plain": [
       "<IPython.core.display.SVG object>"
      ]
     },
     "metadata": {},
     "output_type": "display_data"
    },
    {
     "data": {
      "image/svg+xml": [
       "<svg xmlns=\"http://www.w3.org/2000/svg\" xmlns:ev=\"http://www.w3.org/2001/xml-events\" xmlns:xlink=\"http://www.w3.org/1999/xlink\" baseProfile=\"full\" height=\"120\" version=\"1.1\" width=\"120\"><defs/><rect fill=\"#2394d2\" height=\"77\" rx=\"10\" ry=\"10\" width=\"100%\" x=\"0.0\" y=\"21.5\"/><text alignment-baseline=\"middle\" fill=\"#ffffff\" font-family=\"Arial\" font-size=\"45\" font-weight=\"bold\" text-anchor=\"middle\" x=\"50%\" y=\"53%\">52</text></svg>"
      ],
      "text/plain": [
       "<IPython.core.display.SVG object>"
      ]
     },
     "metadata": {},
     "output_type": "display_data"
    },
    {
     "data": {
      "image/svg+xml": [
       "<svg xmlns=\"http://www.w3.org/2000/svg\" xmlns:ev=\"http://www.w3.org/2001/xml-events\" xmlns:xlink=\"http://www.w3.org/1999/xlink\" baseProfile=\"full\" height=\"120\" version=\"1.1\" width=\"120\"><defs/><rect fill=\"#e4c2dd\" height=\"77\" rx=\"10\" ry=\"10\" width=\"100%\" x=\"0.0\" y=\"21.5\"/><text alignment-baseline=\"middle\" fill=\"#000000\" font-family=\"Arial\" font-size=\"45\" font-weight=\"bold\" text-anchor=\"middle\" x=\"50%\" y=\"53%\">11D</text></svg>"
      ],
      "text/plain": [
       "<IPython.core.display.SVG object>"
      ]
     },
     "metadata": {},
     "output_type": "display_data"
    },
    {
     "data": {
      "image/svg+xml": [
       "<svg xmlns=\"http://www.w3.org/2000/svg\" xmlns:ev=\"http://www.w3.org/2001/xml-events\" xmlns:xlink=\"http://www.w3.org/1999/xlink\" baseProfile=\"full\" height=\"120\" version=\"1.1\" width=\"120\"><defs/><rect fill=\"#e2bb8b\" height=\"77\" rx=\"10\" ry=\"10\" width=\"100%\" x=\"0.0\" y=\"21.5\"/><text alignment-baseline=\"middle\" fill=\"#000000\" font-family=\"Arial\" font-size=\"45\" font-weight=\"bold\" text-anchor=\"middle\" x=\"50%\" y=\"53%\">18B</text></svg>"
      ],
      "text/plain": [
       "<IPython.core.display.SVG object>"
      ]
     },
     "metadata": {},
     "output_type": "display_data"
    },
    {
     "data": {
      "image/svg+xml": [
       "<svg xmlns=\"http://www.w3.org/2000/svg\" xmlns:ev=\"http://www.w3.org/2001/xml-events\" xmlns:xlink=\"http://www.w3.org/1999/xlink\" baseProfile=\"full\" height=\"120\" version=\"1.1\" width=\"120\"><defs/><rect fill=\"#bc9ac8\" height=\"77\" rx=\"10\" ry=\"10\" width=\"100%\" x=\"0.0\" y=\"21.5\"/><text alignment-baseline=\"middle\" fill=\"#000000\" font-family=\"Arial\" font-size=\"45\" font-weight=\"bold\" text-anchor=\"middle\" x=\"50%\" y=\"53%\">22</text></svg>"
      ],
      "text/plain": [
       "<IPython.core.display.SVG object>"
      ]
     },
     "metadata": {},
     "output_type": "display_data"
    },
    {
     "data": {
      "image/svg+xml": [
       "<svg xmlns=\"http://www.w3.org/2000/svg\" xmlns:ev=\"http://www.w3.org/2001/xml-events\" xmlns:xlink=\"http://www.w3.org/1999/xlink\" baseProfile=\"full\" height=\"120\" version=\"1.1\" width=\"120\"><defs/><rect fill=\"#7aa9c5\" height=\"77\" rx=\"10\" ry=\"10\" width=\"100%\" x=\"0.0\" y=\"21.5\"/><text alignment-baseline=\"middle\" fill=\"#000000\" font-family=\"Arial\" font-size=\"45\" font-weight=\"bold\" text-anchor=\"middle\" x=\"50%\" y=\"53%\">40</text></svg>"
      ],
      "text/plain": [
       "<IPython.core.display.SVG object>"
      ]
     },
     "metadata": {},
     "output_type": "display_data"
    },
    {
     "data": {
      "image/svg+xml": [
       "<svg xmlns=\"http://www.w3.org/2000/svg\" xmlns:ev=\"http://www.w3.org/2001/xml-events\" xmlns:xlink=\"http://www.w3.org/1999/xlink\" baseProfile=\"full\" height=\"120\" version=\"1.1\" width=\"120\"><defs/><rect fill=\"#990000\" height=\"77\" rx=\"10\" ry=\"10\" width=\"100%\" x=\"0.0\" y=\"21.5\"/><text alignment-baseline=\"middle\" fill=\"#ffffff\" font-family=\"Arial\" font-size=\"45\" font-weight=\"bold\" text-anchor=\"middle\" x=\"50%\" y=\"53%\">54B</text></svg>"
      ],
      "text/plain": [
       "<IPython.core.display.SVG object>"
      ]
     },
     "metadata": {},
     "output_type": "display_data"
    },
    {
     "data": {
      "image/svg+xml": [
       "<svg xmlns=\"http://www.w3.org/2000/svg\" xmlns:ev=\"http://www.w3.org/2001/xml-events\" xmlns:xlink=\"http://www.w3.org/1999/xlink\" baseProfile=\"full\" height=\"120\" version=\"1.1\" width=\"120\"><defs/><rect fill=\"#fece00\" height=\"77\" rx=\"10\" ry=\"10\" width=\"100%\" x=\"0.0\" y=\"21.5\"/><text alignment-baseline=\"middle\" fill=\"#000000\" font-family=\"Arial\" font-size=\"45\" font-weight=\"bold\" text-anchor=\"middle\" x=\"50%\" y=\"53%\">409</text></svg>"
      ],
      "text/plain": [
       "<IPython.core.display.SVG object>"
      ]
     },
     "metadata": {},
     "output_type": "display_data"
    },
    {
     "data": {
      "image/svg+xml": [
       "<svg xmlns=\"http://www.w3.org/2000/svg\" xmlns:ev=\"http://www.w3.org/2001/xml-events\" xmlns:xlink=\"http://www.w3.org/1999/xlink\" baseProfile=\"full\" height=\"120\" version=\"1.1\" width=\"120\"><defs/><rect fill=\"#ffdd00\" height=\"77\" rx=\"10\" ry=\"10\" width=\"100%\" x=\"0.0\" y=\"21.5\"/><text alignment-baseline=\"middle\" fill=\"#000000\" font-family=\"Arial\" font-size=\"45\" font-weight=\"bold\" text-anchor=\"middle\" x=\"50%\" y=\"53%\">48</text></svg>"
      ],
      "text/plain": [
       "<IPython.core.display.SVG object>"
      ]
     },
     "metadata": {},
     "output_type": "display_data"
    },
    {
     "data": {
      "image/svg+xml": [
       "<svg xmlns=\"http://www.w3.org/2000/svg\" xmlns:ev=\"http://www.w3.org/2001/xml-events\" xmlns:xlink=\"http://www.w3.org/1999/xlink\" baseProfile=\"full\" height=\"120\" version=\"1.1\" width=\"120\"><defs/><rect fill=\"#ffcc00\" height=\"77\" rx=\"10\" ry=\"10\" width=\"100%\" x=\"0.0\" y=\"21.5\"/><text alignment-baseline=\"middle\" fill=\"#000000\" font-family=\"Arial\" font-size=\"45\" font-weight=\"bold\" text-anchor=\"middle\" x=\"50%\" y=\"53%\">55</text></svg>"
      ],
      "text/plain": [
       "<IPython.core.display.SVG object>"
      ]
     },
     "metadata": {},
     "output_type": "display_data"
    },
    {
     "data": {
      "image/svg+xml": [
       "<svg xmlns=\"http://www.w3.org/2000/svg\" xmlns:ev=\"http://www.w3.org/2001/xml-events\" xmlns:xlink=\"http://www.w3.org/1999/xlink\" baseProfile=\"full\" height=\"120\" version=\"1.1\" width=\"120\"><defs/><rect fill=\"#891d81\" height=\"77\" rx=\"10\" ry=\"10\" width=\"100%\" x=\"0.0\" y=\"21.5\"/><text alignment-baseline=\"middle\" fill=\"#ffffff\" font-family=\"Arial\" font-size=\"45\" font-weight=\"bold\" text-anchor=\"middle\" x=\"50%\" y=\"53%\">4</text></svg>"
      ],
      "text/plain": [
       "<IPython.core.display.SVG object>"
      ]
     },
     "metadata": {},
     "output_type": "display_data"
    },
    {
     "data": {
      "image/svg+xml": [
       "<svg xmlns=\"http://www.w3.org/2000/svg\" xmlns:ev=\"http://www.w3.org/2001/xml-events\" xmlns:xlink=\"http://www.w3.org/1999/xlink\" baseProfile=\"full\" height=\"120\" version=\"1.1\" width=\"120\"><defs/><rect fill=\"#ffeb00\" height=\"77\" rx=\"10\" ry=\"10\" width=\"100%\" x=\"0.0\" y=\"21.5\"/><text alignment-baseline=\"middle\" fill=\"#000000\" font-family=\"Arial\" font-size=\"45\" font-weight=\"bold\" text-anchor=\"middle\" x=\"50%\" y=\"53%\">12</text></svg>"
      ],
      "text/plain": [
       "<IPython.core.display.SVG object>"
      ]
     },
     "metadata": {},
     "output_type": "display_data"
    },
    {
     "data": {
      "image/svg+xml": [
       "<svg xmlns=\"http://www.w3.org/2000/svg\" xmlns:ev=\"http://www.w3.org/2001/xml-events\" xmlns:xlink=\"http://www.w3.org/1999/xlink\" baseProfile=\"full\" height=\"120\" version=\"1.1\" width=\"120\"><defs/><rect fill=\"#996633\" height=\"77\" rx=\"10\" ry=\"10\" width=\"100%\" x=\"0.0\" y=\"21.5\"/><text alignment-baseline=\"middle\" fill=\"#ffffff\" font-family=\"Arial\" font-size=\"45\" font-weight=\"bold\" text-anchor=\"middle\" x=\"50%\" y=\"53%\">193</text></svg>"
      ],
      "text/plain": [
       "<IPython.core.display.SVG object>"
      ]
     },
     "metadata": {},
     "output_type": "display_data"
    },
    {
     "data": {
      "image/svg+xml": [
       "<svg xmlns=\"http://www.w3.org/2000/svg\" xmlns:ev=\"http://www.w3.org/2001/xml-events\" xmlns:xlink=\"http://www.w3.org/1999/xlink\" baseProfile=\"full\" height=\"120\" version=\"1.1\" width=\"120\"><defs/><rect fill=\"#fbe324\" height=\"77\" rx=\"10\" ry=\"10\" width=\"100%\" x=\"0.0\" y=\"21.5\"/><text alignment-baseline=\"middle\" fill=\"#000000\" font-family=\"Arial\" font-size=\"45\" font-weight=\"bold\" text-anchor=\"middle\" x=\"50%\" y=\"53%\">502</text></svg>"
      ],
      "text/plain": [
       "<IPython.core.display.SVG object>"
      ]
     },
     "metadata": {},
     "output_type": "display_data"
    },
    {
     "data": {
      "image/svg+xml": [
       "<svg xmlns=\"http://www.w3.org/2000/svg\" xmlns:ev=\"http://www.w3.org/2001/xml-events\" xmlns:xlink=\"http://www.w3.org/1999/xlink\" baseProfile=\"full\" height=\"120\" version=\"1.1\" width=\"120\"><defs/><rect fill=\"#8cff8c\" height=\"77\" rx=\"10\" ry=\"10\" width=\"100%\" x=\"0.0\" y=\"21.5\"/><text alignment-baseline=\"middle\" fill=\"#000000\" font-family=\"Arial\" font-size=\"45\" font-weight=\"bold\" text-anchor=\"middle\" x=\"50%\" y=\"53%\">52</text></svg>"
      ],
      "text/plain": [
       "<IPython.core.display.SVG object>"
      ]
     },
     "metadata": {},
     "output_type": "display_data"
    },
    {
     "data": {
      "image/svg+xml": [
       "<svg xmlns=\"http://www.w3.org/2000/svg\" xmlns:ev=\"http://www.w3.org/2001/xml-events\" xmlns:xlink=\"http://www.w3.org/1999/xlink\" baseProfile=\"full\" height=\"120\" version=\"1.1\" width=\"120\"><defs/><rect fill=\"#b90845\" height=\"77\" rx=\"10\" ry=\"10\" width=\"100%\" x=\"0.0\" y=\"21.5\"/><text alignment-baseline=\"middle\" fill=\"#ffffff\" font-family=\"Arial\" font-size=\"45\" font-weight=\"bold\" text-anchor=\"middle\" x=\"50%\" y=\"53%\">332</text></svg>"
      ],
      "text/plain": [
       "<IPython.core.display.SVG object>"
      ]
     },
     "metadata": {},
     "output_type": "display_data"
    },
    {
     "data": {
      "image/svg+xml": [
       "<svg xmlns=\"http://www.w3.org/2000/svg\" xmlns:ev=\"http://www.w3.org/2001/xml-events\" xmlns:xlink=\"http://www.w3.org/1999/xlink\" baseProfile=\"full\" height=\"120\" version=\"1.1\" width=\"120\"><defs/><rect fill=\"#97bf35\" height=\"77\" rx=\"10\" ry=\"10\" width=\"100%\" x=\"0.0\" y=\"21.5\"/><text alignment-baseline=\"middle\" fill=\"#000000\" font-family=\"Arial\" font-size=\"45\" font-weight=\"bold\" text-anchor=\"middle\" x=\"50%\" y=\"53%\">7s</text></svg>"
      ],
      "text/plain": [
       "<IPython.core.display.SVG object>"
      ]
     },
     "metadata": {},
     "output_type": "display_data"
    },
    {
     "data": {
      "image/svg+xml": [
       "<svg xmlns=\"http://www.w3.org/2000/svg\" xmlns:ev=\"http://www.w3.org/2001/xml-events\" xmlns:xlink=\"http://www.w3.org/1999/xlink\" baseProfile=\"full\" height=\"120\" version=\"1.1\" width=\"120\"><defs/><rect fill=\"#dc9015\" height=\"77\" rx=\"10\" ry=\"10\" width=\"100%\" x=\"0.0\" y=\"21.5\"/><text alignment-baseline=\"middle\" fill=\"#000000\" font-family=\"Arial\" font-size=\"45\" font-weight=\"bold\" text-anchor=\"middle\" x=\"50%\" y=\"53%\">4</text></svg>"
      ],
      "text/plain": [
       "<IPython.core.display.SVG object>"
      ]
     },
     "metadata": {},
     "output_type": "display_data"
    },
    {
     "data": {
      "image/svg+xml": [
       "<svg xmlns=\"http://www.w3.org/2000/svg\" xmlns:ev=\"http://www.w3.org/2001/xml-events\" xmlns:xlink=\"http://www.w3.org/1999/xlink\" baseProfile=\"full\" height=\"120\" version=\"1.1\" width=\"120\"><defs/><rect fill=\"#8c5e23\" height=\"77\" rx=\"10\" ry=\"10\" width=\"100%\" x=\"0.0\" y=\"21.5\"/><text alignment-baseline=\"middle\" fill=\"#ffffff\" font-family=\"Arial\" font-size=\"45\" font-weight=\"bold\" text-anchor=\"middle\" x=\"50%\" y=\"53%\">8s</text></svg>"
      ],
      "text/plain": [
       "<IPython.core.display.SVG object>"
      ]
     },
     "metadata": {},
     "output_type": "display_data"
    },
    {
     "data": {
      "image/svg+xml": [
       "<svg xmlns=\"http://www.w3.org/2000/svg\" xmlns:ev=\"http://www.w3.org/2001/xml-events\" xmlns:xlink=\"http://www.w3.org/1999/xlink\" baseProfile=\"full\" height=\"120\" version=\"1.1\" width=\"120\"><defs/><rect fill=\"#004a99\" height=\"77\" rx=\"10\" ry=\"10\" width=\"100%\" x=\"0.0\" y=\"21.5\"/><text alignment-baseline=\"middle\" fill=\"#ffffff\" font-family=\"Arial\" font-size=\"45\" font-weight=\"bold\" text-anchor=\"middle\" x=\"50%\" y=\"53%\">21</text></svg>"
      ],
      "text/plain": [
       "<IPython.core.display.SVG object>"
      ]
     },
     "metadata": {},
     "output_type": "display_data"
    },
    {
     "data": {
      "image/svg+xml": [
       "<svg xmlns=\"http://www.w3.org/2000/svg\" xmlns:ev=\"http://www.w3.org/2001/xml-events\" xmlns:xlink=\"http://www.w3.org/1999/xlink\" baseProfile=\"full\" height=\"120\" version=\"1.1\" width=\"120\"><defs/><rect fill=\"#e7a3bf\" height=\"77\" rx=\"10\" ry=\"10\" width=\"100%\" x=\"0.0\" y=\"21.5\"/><text alignment-baseline=\"middle\" fill=\"#000000\" font-family=\"Arial\" font-size=\"45\" font-weight=\"bold\" text-anchor=\"middle\" x=\"50%\" y=\"53%\">8</text></svg>"
      ],
      "text/plain": [
       "<IPython.core.display.SVG object>"
      ]
     },
     "metadata": {},
     "output_type": "display_data"
    },
    {
     "data": {
      "image/svg+xml": [
       "<svg xmlns=\"http://www.w3.org/2000/svg\" xmlns:ev=\"http://www.w3.org/2001/xml-events\" xmlns:xlink=\"http://www.w3.org/1999/xlink\" baseProfile=\"full\" height=\"120\" version=\"1.1\" width=\"120\"><defs/><rect fill=\"#8a8946\" height=\"77\" rx=\"10\" ry=\"10\" width=\"100%\" x=\"0.0\" y=\"21.5\"/><text alignment-baseline=\"middle\" fill=\"#ffffff\" font-family=\"Arial\" font-size=\"45\" font-weight=\"bold\" text-anchor=\"middle\" x=\"50%\" y=\"53%\">511</text></svg>"
      ],
      "text/plain": [
       "<IPython.core.display.SVG object>"
      ]
     },
     "metadata": {},
     "output_type": "display_data"
    },
    {
     "data": {
      "image/svg+xml": [
       "<svg xmlns=\"http://www.w3.org/2000/svg\" xmlns:ev=\"http://www.w3.org/2001/xml-events\" xmlns:xlink=\"http://www.w3.org/1999/xlink\" baseProfile=\"full\" height=\"120\" version=\"1.1\" width=\"120\"><defs/><rect fill=\"#b28e64\" height=\"77\" rx=\"10\" ry=\"10\" width=\"100%\" x=\"0.0\" y=\"21.5\"/><text alignment-baseline=\"middle\" fill=\"#ffffff\" font-family=\"Arial\" font-size=\"45\" font-weight=\"bold\" text-anchor=\"middle\" x=\"50%\" y=\"53%\">22</text></svg>"
      ],
      "text/plain": [
       "<IPython.core.display.SVG object>"
      ]
     },
     "metadata": {},
     "output_type": "display_data"
    },
    {
     "data": {
      "image/svg+xml": [
       "<svg xmlns=\"http://www.w3.org/2000/svg\" xmlns:ev=\"http://www.w3.org/2001/xml-events\" xmlns:xlink=\"http://www.w3.org/1999/xlink\" baseProfile=\"full\" height=\"120\" version=\"1.1\" width=\"120\"><defs/><rect fill=\"#00814f\" height=\"77\" rx=\"10\" ry=\"10\" width=\"100%\" x=\"0.0\" y=\"21.5\"/><text alignment-baseline=\"middle\" fill=\"#ffffff\" font-family=\"Arial\" font-size=\"45\" font-weight=\"bold\" text-anchor=\"middle\" x=\"50%\" y=\"53%\">777</text></svg>"
      ],
      "text/plain": [
       "<IPython.core.display.SVG object>"
      ]
     },
     "metadata": {},
     "output_type": "display_data"
    },
    {
     "data": {
      "image/svg+xml": [
       "<svg xmlns=\"http://www.w3.org/2000/svg\" xmlns:ev=\"http://www.w3.org/2001/xml-events\" xmlns:xlink=\"http://www.w3.org/1999/xlink\" baseProfile=\"full\" height=\"120\" version=\"1.1\" width=\"120\"><defs/><rect fill=\"#ff7f00\" height=\"77\" rx=\"10\" ry=\"10\" width=\"100%\" x=\"0.0\" y=\"21.5\"/><text alignment-baseline=\"middle\" fill=\"#ffffff\" font-family=\"Arial\" font-size=\"45\" font-weight=\"bold\" text-anchor=\"middle\" x=\"50%\" y=\"53%\">35</text></svg>"
      ],
      "text/plain": [
       "<IPython.core.display.SVG object>"
      ]
     },
     "metadata": {},
     "output_type": "display_data"
    },
    {
     "data": {
      "image/svg+xml": [
       "<svg xmlns=\"http://www.w3.org/2000/svg\" xmlns:ev=\"http://www.w3.org/2001/xml-events\" xmlns:xlink=\"http://www.w3.org/1999/xlink\" baseProfile=\"full\" height=\"120\" version=\"1.1\" width=\"120\"><defs/><rect fill=\"#f5a160\" height=\"77\" rx=\"10\" ry=\"10\" width=\"100%\" x=\"0.0\" y=\"21.5\"/><text alignment-baseline=\"middle\" fill=\"#000000\" font-family=\"Arial\" font-size=\"45\" font-weight=\"bold\" text-anchor=\"middle\" x=\"50%\" y=\"53%\">751</text></svg>"
      ],
      "text/plain": [
       "<IPython.core.display.SVG object>"
      ]
     },
     "metadata": {},
     "output_type": "display_data"
    },
    {
     "data": {
      "image/svg+xml": [
       "<svg xmlns=\"http://www.w3.org/2000/svg\" xmlns:ev=\"http://www.w3.org/2001/xml-events\" xmlns:xlink=\"http://www.w3.org/1999/xlink\" baseProfile=\"full\" height=\"120\" version=\"1.1\" width=\"120\"><defs/><rect fill=\"#f5a162\" height=\"77\" rx=\"10\" ry=\"10\" width=\"100%\" x=\"0.0\" y=\"21.5\"/><text alignment-baseline=\"middle\" fill=\"#000000\" font-family=\"Arial\" font-size=\"45\" font-weight=\"bold\" text-anchor=\"middle\" x=\"50%\" y=\"53%\">2</text></svg>"
      ],
      "text/plain": [
       "<IPython.core.display.SVG object>"
      ]
     },
     "metadata": {},
     "output_type": "display_data"
    },
    {
     "data": {
      "image/svg+xml": [
       "<svg xmlns=\"http://www.w3.org/2000/svg\" xmlns:ev=\"http://www.w3.org/2001/xml-events\" xmlns:xlink=\"http://www.w3.org/1999/xlink\" baseProfile=\"full\" height=\"120\" version=\"1.1\" width=\"120\"><defs/><rect fill=\"#c4f059\" height=\"77\" rx=\"10\" ry=\"10\" width=\"100%\" x=\"0.0\" y=\"21.5\"/><text alignment-baseline=\"middle\" fill=\"#000000\" font-family=\"Arial\" font-size=\"45\" font-weight=\"bold\" text-anchor=\"middle\" x=\"50%\" y=\"53%\">1025</text></svg>"
      ],
      "text/plain": [
       "<IPython.core.display.SVG object>"
      ]
     },
     "metadata": {},
     "output_type": "display_data"
    },
    {
     "data": {
      "image/svg+xml": [
       "<svg xmlns=\"http://www.w3.org/2000/svg\" xmlns:ev=\"http://www.w3.org/2001/xml-events\" xmlns:xlink=\"http://www.w3.org/1999/xlink\" baseProfile=\"full\" height=\"120\" version=\"1.1\" width=\"120\"><defs/><rect fill=\"#f0a9c9\" height=\"77\" rx=\"10\" ry=\"10\" width=\"100%\" x=\"0.0\" y=\"21.5\"/><text alignment-baseline=\"middle\" fill=\"#000000\" font-family=\"Arial\" font-size=\"45\" font-weight=\"bold\" text-anchor=\"middle\" x=\"50%\" y=\"53%\">26</text></svg>"
      ],
      "text/plain": [
       "<IPython.core.display.SVG object>"
      ]
     },
     "metadata": {},
     "output_type": "display_data"
    },
    {
     "data": {
      "image/svg+xml": [
       "<svg xmlns=\"http://www.w3.org/2000/svg\" xmlns:ev=\"http://www.w3.org/2001/xml-events\" xmlns:xlink=\"http://www.w3.org/1999/xlink\" baseProfile=\"full\" height=\"120\" version=\"1.1\" width=\"120\"><defs/><rect fill=\"#f1a388\" height=\"77\" rx=\"10\" ry=\"10\" width=\"100%\" x=\"0.0\" y=\"21.5\"/><text alignment-baseline=\"middle\" fill=\"#000000\" font-family=\"Arial\" font-size=\"45\" font-weight=\"bold\" text-anchor=\"middle\" x=\"50%\" y=\"53%\">29</text></svg>"
      ],
      "text/plain": [
       "<IPython.core.display.SVG object>"
      ]
     },
     "metadata": {},
     "output_type": "display_data"
    },
    {
     "data": {
      "image/svg+xml": [
       "<svg xmlns=\"http://www.w3.org/2000/svg\" xmlns:ev=\"http://www.w3.org/2001/xml-events\" xmlns:xlink=\"http://www.w3.org/1999/xlink\" baseProfile=\"full\" height=\"120\" version=\"1.1\" width=\"120\"><defs/><rect fill=\"#6e6e00\" height=\"77\" rx=\"10\" ry=\"10\" width=\"100%\" x=\"0.0\" y=\"21.5\"/><text alignment-baseline=\"middle\" fill=\"#ffffff\" font-family=\"Arial\" font-size=\"45\" font-weight=\"bold\" text-anchor=\"middle\" x=\"50%\" y=\"53%\">213</text></svg>"
      ],
      "text/plain": [
       "<IPython.core.display.SVG object>"
      ]
     },
     "metadata": {},
     "output_type": "display_data"
    },
    {
     "data": {
      "image/svg+xml": [
       "<svg xmlns=\"http://www.w3.org/2000/svg\" xmlns:ev=\"http://www.w3.org/2001/xml-events\" xmlns:xlink=\"http://www.w3.org/1999/xlink\" baseProfile=\"full\" height=\"120\" version=\"1.1\" width=\"120\"><defs/><rect fill=\"#197790\" height=\"77\" rx=\"10\" ry=\"10\" width=\"100%\" x=\"0.0\" y=\"21.5\"/><text alignment-baseline=\"middle\" fill=\"#ffffff\" font-family=\"Arial\" font-size=\"45\" font-weight=\"bold\" text-anchor=\"middle\" x=\"50%\" y=\"53%\">7</text></svg>"
      ],
      "text/plain": [
       "<IPython.core.display.SVG object>"
      ]
     },
     "metadata": {},
     "output_type": "display_data"
    },
    {
     "data": {
      "image/svg+xml": [
       "<svg xmlns=\"http://www.w3.org/2000/svg\" xmlns:ev=\"http://www.w3.org/2001/xml-events\" xmlns:xlink=\"http://www.w3.org/1999/xlink\" baseProfile=\"full\" height=\"120\" version=\"1.1\" width=\"120\"><defs/><rect fill=\"#b8ffe0\" height=\"77\" rx=\"10\" ry=\"10\" width=\"100%\" x=\"0.0\" y=\"21.5\"/><text alignment-baseline=\"middle\" fill=\"#000000\" font-family=\"Arial\" font-size=\"45\" font-weight=\"bold\" text-anchor=\"middle\" x=\"50%\" y=\"53%\">19</text></svg>"
      ],
      "text/plain": [
       "<IPython.core.display.SVG object>"
      ]
     },
     "metadata": {},
     "output_type": "display_data"
    },
    {
     "data": {
      "image/svg+xml": [
       "<svg xmlns=\"http://www.w3.org/2000/svg\" xmlns:ev=\"http://www.w3.org/2001/xml-events\" xmlns:xlink=\"http://www.w3.org/1999/xlink\" baseProfile=\"full\" height=\"120\" version=\"1.1\" width=\"120\"><defs/><rect fill=\"#a6c9ff\" height=\"77\" rx=\"10\" ry=\"10\" width=\"100%\" x=\"0.0\" y=\"21.5\"/><text alignment-baseline=\"middle\" fill=\"#ffffff\" font-family=\"Arial\" font-size=\"45\" font-weight=\"bold\" text-anchor=\"middle\" x=\"50%\" y=\"53%\">17</text></svg>"
      ],
      "text/plain": [
       "<IPython.core.display.SVG object>"
      ]
     },
     "metadata": {},
     "output_type": "display_data"
    },
    {
     "data": {
      "image/svg+xml": [
       "<svg xmlns=\"http://www.w3.org/2000/svg\" xmlns:ev=\"http://www.w3.org/2001/xml-events\" xmlns:xlink=\"http://www.w3.org/1999/xlink\" baseProfile=\"full\" height=\"120\" version=\"1.1\" width=\"120\"><defs/><rect fill=\"#79ac2b\" height=\"77\" rx=\"10\" ry=\"10\" width=\"100%\" x=\"0.0\" y=\"21.5\"/><text alignment-baseline=\"middle\" fill=\"#ffffff\" font-family=\"Arial\" font-size=\"45\" font-weight=\"bold\" text-anchor=\"middle\" x=\"50%\" y=\"53%\">10</text></svg>"
      ],
      "text/plain": [
       "<IPython.core.display.SVG object>"
      ]
     },
     "metadata": {},
     "output_type": "display_data"
    },
    {
     "data": {
      "image/svg+xml": [
       "<svg xmlns=\"http://www.w3.org/2000/svg\" xmlns:ev=\"http://www.w3.org/2001/xml-events\" xmlns:xlink=\"http://www.w3.org/1999/xlink\" baseProfile=\"full\" height=\"120\" version=\"1.1\" width=\"120\"><defs/><rect fill=\"#8d653d\" height=\"77\" rx=\"10\" ry=\"10\" width=\"100%\" x=\"0.0\" y=\"21.5\"/><text alignment-baseline=\"middle\" fill=\"#ffffff\" font-family=\"Arial\" font-size=\"45\" font-weight=\"bold\" text-anchor=\"middle\" x=\"50%\" y=\"53%\">15</text></svg>"
      ],
      "text/plain": [
       "<IPython.core.display.SVG object>"
      ]
     },
     "metadata": {},
     "output_type": "display_data"
    },
    {
     "data": {
      "image/svg+xml": [
       "<svg xmlns=\"http://www.w3.org/2000/svg\" xmlns:ev=\"http://www.w3.org/2001/xml-events\" xmlns:xlink=\"http://www.w3.org/1999/xlink\" baseProfile=\"full\" height=\"120\" version=\"1.1\" width=\"120\"><defs/><rect fill=\"#cec73d\" height=\"77\" rx=\"10\" ry=\"10\" width=\"100%\" x=\"0.0\" y=\"21.5\"/><text alignment-baseline=\"middle\" fill=\"#000000\" font-family=\"Arial\" font-size=\"45\" font-weight=\"bold\" text-anchor=\"middle\" x=\"50%\" y=\"53%\">21</text></svg>"
      ],
      "text/plain": [
       "<IPython.core.display.SVG object>"
      ]
     },
     "metadata": {},
     "output_type": "display_data"
    },
    {
     "data": {
      "image/svg+xml": [
       "<svg xmlns=\"http://www.w3.org/2000/svg\" xmlns:ev=\"http://www.w3.org/2001/xml-events\" xmlns:xlink=\"http://www.w3.org/1999/xlink\" baseProfile=\"full\" height=\"120\" version=\"1.1\" width=\"120\"><defs/><rect fill=\"#5091cb\" height=\"77\" rx=\"10\" ry=\"10\" width=\"100%\" x=\"0.0\" y=\"21.5\"/><text alignment-baseline=\"middle\" fill=\"#ffffff\" font-family=\"Arial\" font-size=\"45\" font-weight=\"bold\" text-anchor=\"middle\" x=\"50%\" y=\"53%\">24</text></svg>"
      ],
      "text/plain": [
       "<IPython.core.display.SVG object>"
      ]
     },
     "metadata": {},
     "output_type": "display_data"
    },
    {
     "data": {
      "image/svg+xml": [
       "<svg xmlns=\"http://www.w3.org/2000/svg\" xmlns:ev=\"http://www.w3.org/2001/xml-events\" xmlns:xlink=\"http://www.w3.org/1999/xlink\" baseProfile=\"full\" height=\"120\" version=\"1.1\" width=\"120\"><defs/><rect fill=\"#eb2132\" height=\"77\" rx=\"10\" ry=\"10\" width=\"100%\" x=\"0.0\" y=\"21.5\"/><text alignment-baseline=\"middle\" fill=\"#ffffff\" font-family=\"Arial\" font-size=\"45\" font-weight=\"bold\" text-anchor=\"middle\" x=\"50%\" y=\"53%\">25</text></svg>"
      ],
      "text/plain": [
       "<IPython.core.display.SVG object>"
      ]
     },
     "metadata": {},
     "output_type": "display_data"
    },
    {
     "data": {
      "image/svg+xml": [
       "<svg xmlns=\"http://www.w3.org/2000/svg\" xmlns:ev=\"http://www.w3.org/2001/xml-events\" xmlns:xlink=\"http://www.w3.org/1999/xlink\" baseProfile=\"full\" height=\"120\" version=\"1.1\" width=\"120\"><defs/><rect fill=\"#c5a3cd\" height=\"77\" rx=\"10\" ry=\"10\" width=\"100%\" x=\"0.0\" y=\"21.5\"/><text alignment-baseline=\"middle\" fill=\"#000000\" font-family=\"Arial\" font-size=\"45\" font-weight=\"bold\" text-anchor=\"middle\" x=\"50%\" y=\"53%\">6</text></svg>"
      ],
      "text/plain": [
       "<IPython.core.display.SVG object>"
      ]
     },
     "metadata": {},
     "output_type": "display_data"
    },
    {
     "data": {
      "image/svg+xml": [
       "<svg xmlns=\"http://www.w3.org/2000/svg\" xmlns:ev=\"http://www.w3.org/2001/xml-events\" xmlns:xlink=\"http://www.w3.org/1999/xlink\" baseProfile=\"full\" height=\"120\" version=\"1.1\" width=\"120\"><defs/><rect fill=\"#fd3f92\" height=\"77\" rx=\"10\" ry=\"10\" width=\"100%\" x=\"0.0\" y=\"21.5\"/><text alignment-baseline=\"middle\" fill=\"#000000\" font-family=\"Arial\" font-size=\"45\" font-weight=\"bold\" text-anchor=\"middle\" x=\"50%\" y=\"53%\">45</text></svg>"
      ],
      "text/plain": [
       "<IPython.core.display.SVG object>"
      ]
     },
     "metadata": {},
     "output_type": "display_data"
    },
    {
     "data": {
      "image/svg+xml": [
       "<svg xmlns=\"http://www.w3.org/2000/svg\" xmlns:ev=\"http://www.w3.org/2001/xml-events\" xmlns:xlink=\"http://www.w3.org/1999/xlink\" baseProfile=\"full\" height=\"120\" version=\"1.1\" width=\"120\"><defs/><rect fill=\"#e69138\" height=\"77\" rx=\"10\" ry=\"10\" width=\"100%\" x=\"0.0\" y=\"21.5\"/><text alignment-baseline=\"middle\" fill=\"#000000\" font-family=\"Arial\" font-size=\"45\" font-weight=\"bold\" text-anchor=\"middle\" x=\"50%\" y=\"53%\">34S3</text></svg>"
      ],
      "text/plain": [
       "<IPython.core.display.SVG object>"
      ]
     },
     "metadata": {},
     "output_type": "display_data"
    },
    {
     "data": {
      "image/svg+xml": [
       "<svg xmlns=\"http://www.w3.org/2000/svg\" xmlns:ev=\"http://www.w3.org/2001/xml-events\" xmlns:xlink=\"http://www.w3.org/1999/xlink\" baseProfile=\"full\" height=\"120\" version=\"1.1\" width=\"120\"><defs/><rect fill=\"#811453\" height=\"77\" rx=\"10\" ry=\"10\" width=\"100%\" x=\"0.0\" y=\"21.5\"/><text alignment-baseline=\"middle\" fill=\"#ffffff\" font-family=\"Arial\" font-size=\"45\" font-weight=\"bold\" text-anchor=\"middle\" x=\"50%\" y=\"53%\">42</text></svg>"
      ],
      "text/plain": [
       "<IPython.core.display.SVG object>"
      ]
     },
     "metadata": {},
     "output_type": "display_data"
    },
    {
     "data": {
      "image/svg+xml": [
       "<svg xmlns=\"http://www.w3.org/2000/svg\" xmlns:ev=\"http://www.w3.org/2001/xml-events\" xmlns:xlink=\"http://www.w3.org/1999/xlink\" baseProfile=\"full\" height=\"120\" version=\"1.1\" width=\"120\"><defs/><rect fill=\"#a50034\" height=\"77\" rx=\"10\" ry=\"10\" width=\"100%\" x=\"0.0\" y=\"21.5\"/><text alignment-baseline=\"middle\" fill=\"#ffffff\" font-family=\"Arial\" font-size=\"45\" font-weight=\"bold\" text-anchor=\"middle\" x=\"50%\" y=\"53%\">60</text></svg>"
      ],
      "text/plain": [
       "<IPython.core.display.SVG object>"
      ]
     },
     "metadata": {},
     "output_type": "display_data"
    },
    {
     "data": {
      "image/svg+xml": [
       "<svg xmlns=\"http://www.w3.org/2000/svg\" xmlns:ev=\"http://www.w3.org/2001/xml-events\" xmlns:xlink=\"http://www.w3.org/1999/xlink\" baseProfile=\"full\" height=\"120\" version=\"1.1\" width=\"120\"><defs/><rect fill=\"#ff5a00\" height=\"77\" rx=\"10\" ry=\"10\" width=\"100%\" x=\"0.0\" y=\"21.5\"/><text alignment-baseline=\"middle\" fill=\"#000000\" font-family=\"Arial\" font-size=\"45\" font-weight=\"bold\" text-anchor=\"middle\" x=\"50%\" y=\"53%\">26</text></svg>"
      ],
      "text/plain": [
       "<IPython.core.display.SVG object>"
      ]
     },
     "metadata": {},
     "output_type": "display_data"
    },
    {
     "data": {
      "image/svg+xml": [
       "<svg xmlns=\"http://www.w3.org/2000/svg\" xmlns:ev=\"http://www.w3.org/2001/xml-events\" xmlns:xlink=\"http://www.w3.org/1999/xlink\" baseProfile=\"full\" height=\"120\" version=\"1.1\" width=\"120\"><defs/><rect fill=\"#a17a70\" height=\"77\" rx=\"10\" ry=\"10\" width=\"100%\" x=\"0.0\" y=\"21.5\"/><text alignment-baseline=\"middle\" fill=\"#ffffff\" font-family=\"Arial\" font-size=\"45\" font-weight=\"bold\" text-anchor=\"middle\" x=\"50%\" y=\"53%\">8A</text></svg>"
      ],
      "text/plain": [
       "<IPython.core.display.SVG object>"
      ]
     },
     "metadata": {},
     "output_type": "display_data"
    },
    {
     "data": {
      "image/svg+xml": [
       "<svg xmlns=\"http://www.w3.org/2000/svg\" xmlns:ev=\"http://www.w3.org/2001/xml-events\" xmlns:xlink=\"http://www.w3.org/1999/xlink\" baseProfile=\"full\" height=\"120\" version=\"1.1\" width=\"120\"><defs/><rect fill=\"#35b660\" height=\"77\" rx=\"10\" ry=\"10\" width=\"100%\" x=\"0.0\" y=\"21.5\"/><text alignment-baseline=\"middle\" fill=\"#ffffff\" font-family=\"Arial\" font-size=\"45\" font-weight=\"bold\" text-anchor=\"middle\" x=\"50%\" y=\"53%\">32</text></svg>"
      ],
      "text/plain": [
       "<IPython.core.display.SVG object>"
      ]
     },
     "metadata": {},
     "output_type": "display_data"
    },
    {
     "data": {
      "image/svg+xml": [
       "<svg xmlns=\"http://www.w3.org/2000/svg\" xmlns:ev=\"http://www.w3.org/2001/xml-events\" xmlns:xlink=\"http://www.w3.org/1999/xlink\" baseProfile=\"full\" height=\"120\" version=\"1.1\" width=\"120\"><defs/><rect fill=\"#bf6cac\" height=\"77\" rx=\"10\" ry=\"10\" width=\"100%\" x=\"0.0\" y=\"21.5\"/><text alignment-baseline=\"middle\" fill=\"#ffffff\" font-family=\"Arial\" font-size=\"45\" font-weight=\"bold\" text-anchor=\"middle\" x=\"50%\" y=\"53%\">33</text></svg>"
      ],
      "text/plain": [
       "<IPython.core.display.SVG object>"
      ]
     },
     "metadata": {},
     "output_type": "display_data"
    },
    {
     "data": {
      "image/svg+xml": [
       "<svg xmlns=\"http://www.w3.org/2000/svg\" xmlns:ev=\"http://www.w3.org/2001/xml-events\" xmlns:xlink=\"http://www.w3.org/1999/xlink\" baseProfile=\"full\" height=\"120\" version=\"1.1\" width=\"120\"><defs/><rect fill=\"#a0006e\" height=\"77\" rx=\"10\" ry=\"10\" width=\"100%\" x=\"0.0\" y=\"21.5\"/><text alignment-baseline=\"middle\" fill=\"#ffffff\" font-family=\"Arial\" font-size=\"45\" font-weight=\"bold\" text-anchor=\"middle\" x=\"50%\" y=\"53%\">24</text></svg>"
      ],
      "text/plain": [
       "<IPython.core.display.SVG object>"
      ]
     },
     "metadata": {},
     "output_type": "display_data"
    },
    {
     "data": {
      "image/svg+xml": [
       "<svg xmlns=\"http://www.w3.org/2000/svg\" xmlns:ev=\"http://www.w3.org/2001/xml-events\" xmlns:xlink=\"http://www.w3.org/1999/xlink\" baseProfile=\"full\" height=\"120\" version=\"1.1\" width=\"120\"><defs/><rect fill=\"#f3a4ba\" height=\"77\" rx=\"10\" ry=\"10\" width=\"100%\" x=\"0.0\" y=\"21.5\"/><text alignment-baseline=\"middle\" fill=\"#000000\" font-family=\"Arial\" font-size=\"45\" font-weight=\"bold\" text-anchor=\"middle\" x=\"50%\" y=\"53%\">33</text></svg>"
      ],
      "text/plain": [
       "<IPython.core.display.SVG object>"
      ]
     },
     "metadata": {},
     "output_type": "display_data"
    },
    {
     "data": {
      "image/svg+xml": [
       "<svg xmlns=\"http://www.w3.org/2000/svg\" xmlns:ev=\"http://www.w3.org/2001/xml-events\" xmlns:xlink=\"http://www.w3.org/1999/xlink\" baseProfile=\"full\" height=\"120\" version=\"1.1\" width=\"120\"><defs/><rect fill=\"#ff82b4\" height=\"77\" rx=\"10\" ry=\"10\" width=\"100%\" x=\"0.0\" y=\"21.5\"/><text alignment-baseline=\"middle\" fill=\"#000000\" font-family=\"Arial\" font-size=\"45\" font-weight=\"bold\" text-anchor=\"middle\" x=\"50%\" y=\"53%\">28</text></svg>"
      ],
      "text/plain": [
       "<IPython.core.display.SVG object>"
      ]
     },
     "metadata": {},
     "output_type": "display_data"
    },
    {
     "data": {
      "image/svg+xml": [
       "<svg xmlns=\"http://www.w3.org/2000/svg\" xmlns:ev=\"http://www.w3.org/2001/xml-events\" xmlns:xlink=\"http://www.w3.org/1999/xlink\" baseProfile=\"full\" height=\"120\" version=\"1.1\" width=\"120\"><defs/><rect fill=\"#82c8e6\" height=\"77\" rx=\"10\" ry=\"10\" width=\"100%\" x=\"0.0\" y=\"21.5\"/><text alignment-baseline=\"middle\" fill=\"#000000\" font-family=\"Arial\" font-size=\"45\" font-weight=\"bold\" text-anchor=\"middle\" x=\"50%\" y=\"53%\">29</text></svg>"
      ],
      "text/plain": [
       "<IPython.core.display.SVG object>"
      ]
     },
     "metadata": {},
     "output_type": "display_data"
    },
    {
     "data": {
      "image/svg+xml": [
       "<svg xmlns=\"http://www.w3.org/2000/svg\" xmlns:ev=\"http://www.w3.org/2001/xml-events\" xmlns:xlink=\"http://www.w3.org/1999/xlink\" baseProfile=\"full\" height=\"120\" version=\"1.1\" width=\"120\"><defs/><rect fill=\"#009db2\" height=\"77\" rx=\"10\" ry=\"10\" width=\"100%\" x=\"0.0\" y=\"21.5\"/><text alignment-baseline=\"middle\" fill=\"#ffffff\" font-family=\"Arial\" font-size=\"45\" font-weight=\"bold\" text-anchor=\"middle\" x=\"50%\" y=\"53%\">11</text></svg>"
      ],
      "text/plain": [
       "<IPython.core.display.SVG object>"
      ]
     },
     "metadata": {},
     "output_type": "display_data"
    },
    {
     "data": {
      "image/svg+xml": [
       "<svg xmlns=\"http://www.w3.org/2000/svg\" xmlns:ev=\"http://www.w3.org/2001/xml-events\" xmlns:xlink=\"http://www.w3.org/1999/xlink\" baseProfile=\"full\" height=\"120\" version=\"1.1\" width=\"120\"><defs/><rect fill=\"#d282be\" height=\"77\" rx=\"10\" ry=\"10\" width=\"100%\" x=\"0.0\" y=\"21.5\"/><text alignment-baseline=\"middle\" fill=\"#000000\" font-family=\"Arial\" font-size=\"45\" font-weight=\"bold\" text-anchor=\"middle\" x=\"50%\" y=\"53%\">120</text></svg>"
      ],
      "text/plain": [
       "<IPython.core.display.SVG object>"
      ]
     },
     "metadata": {},
     "output_type": "display_data"
    },
    {
     "data": {
      "image/svg+xml": [
       "<svg xmlns=\"http://www.w3.org/2000/svg\" xmlns:ev=\"http://www.w3.org/2001/xml-events\" xmlns:xlink=\"http://www.w3.org/1999/xlink\" baseProfile=\"full\" height=\"120\" version=\"1.1\" width=\"120\"><defs/><rect fill=\"#ffbe00\" height=\"77\" rx=\"10\" ry=\"10\" width=\"100%\" x=\"0.0\" y=\"21.5\"/><text alignment-baseline=\"middle\" fill=\"#000000\" font-family=\"Arial\" font-size=\"45\" font-weight=\"bold\" text-anchor=\"middle\" x=\"50%\" y=\"53%\">31</text></svg>"
      ],
      "text/plain": [
       "<IPython.core.display.SVG object>"
      ]
     },
     "metadata": {},
     "output_type": "display_data"
    },
    {
     "data": {
      "image/svg+xml": [
       "<svg xmlns=\"http://www.w3.org/2000/svg\" xmlns:ev=\"http://www.w3.org/2001/xml-events\" xmlns:xlink=\"http://www.w3.org/1999/xlink\" baseProfile=\"full\" height=\"120\" version=\"1.1\" width=\"120\"><defs/><rect fill=\"#640082\" height=\"77\" rx=\"10\" ry=\"10\" width=\"100%\" x=\"0.0\" y=\"21.5\"/><text alignment-baseline=\"middle\" fill=\"#ffffff\" font-family=\"Arial\" font-size=\"45\" font-weight=\"bold\" text-anchor=\"middle\" x=\"50%\" y=\"53%\">87</text></svg>"
      ],
      "text/plain": [
       "<IPython.core.display.SVG object>"
      ]
     },
     "metadata": {},
     "output_type": "display_data"
    },
    {
     "data": {
      "image/svg+xml": [
       "<svg xmlns=\"http://www.w3.org/2000/svg\" xmlns:ev=\"http://www.w3.org/2001/xml-events\" xmlns:xlink=\"http://www.w3.org/1999/xlink\" baseProfile=\"full\" height=\"120\" version=\"1.1\" width=\"120\"><defs/><rect fill=\"#00643c\" height=\"77\" rx=\"10\" ry=\"10\" width=\"100%\" x=\"0.0\" y=\"21.5\"/><text alignment-baseline=\"middle\" fill=\"#ffffff\" font-family=\"Arial\" font-size=\"45\" font-weight=\"bold\" text-anchor=\"middle\" x=\"50%\" y=\"53%\">115</text></svg>"
      ],
      "text/plain": [
       "<IPython.core.display.SVG object>"
      ]
     },
     "metadata": {},
     "output_type": "display_data"
    },
    {
     "data": {
      "image/svg+xml": [
       "<svg xmlns=\"http://www.w3.org/2000/svg\" xmlns:ev=\"http://www.w3.org/2001/xml-events\" xmlns:xlink=\"http://www.w3.org/1999/xlink\" baseProfile=\"full\" height=\"120\" version=\"1.1\" width=\"120\"><defs/><rect fill=\"#640082\" height=\"77\" rx=\"10\" ry=\"10\" width=\"100%\" x=\"0.0\" y=\"21.5\"/><text alignment-baseline=\"middle\" fill=\"#ffffff\" font-family=\"Arial\" font-size=\"45\" font-weight=\"bold\" text-anchor=\"middle\" x=\"50%\" y=\"53%\">132</text></svg>"
      ],
      "text/plain": [
       "<IPython.core.display.SVG object>"
      ]
     },
     "metadata": {},
     "output_type": "display_data"
    },
    {
     "data": {
      "image/svg+xml": [
       "<svg xmlns=\"http://www.w3.org/2000/svg\" xmlns:ev=\"http://www.w3.org/2001/xml-events\" xmlns:xlink=\"http://www.w3.org/1999/xlink\" baseProfile=\"full\" height=\"120\" version=\"1.1\" width=\"120\"><defs/><rect fill=\"#0055c8\" height=\"77\" rx=\"10\" ry=\"10\" width=\"100%\" x=\"0.0\" y=\"21.5\"/><text alignment-baseline=\"middle\" fill=\"#ffffff\" font-family=\"Arial\" font-size=\"45\" font-weight=\"bold\" text-anchor=\"middle\" x=\"50%\" y=\"53%\">38</text></svg>"
      ],
      "text/plain": [
       "<IPython.core.display.SVG object>"
      ]
     },
     "metadata": {},
     "output_type": "display_data"
    },
    {
     "data": {
      "image/svg+xml": [
       "<svg xmlns=\"http://www.w3.org/2000/svg\" xmlns:ev=\"http://www.w3.org/2001/xml-events\" xmlns:xlink=\"http://www.w3.org/1999/xlink\" baseProfile=\"full\" height=\"120\" version=\"1.1\" width=\"120\"><defs/><rect fill=\"#6e5b1e\" height=\"77\" rx=\"10\" ry=\"10\" width=\"100%\" x=\"0.0\" y=\"21.5\"/><text alignment-baseline=\"middle\" fill=\"#ffffff\" font-family=\"Arial\" font-size=\"45\" font-weight=\"bold\" text-anchor=\"middle\" x=\"50%\" y=\"53%\">148</text></svg>"
      ],
      "text/plain": [
       "<IPython.core.display.SVG object>"
      ]
     },
     "metadata": {},
     "output_type": "display_data"
    },
    {
     "data": {
      "image/svg+xml": [
       "<svg xmlns=\"http://www.w3.org/2000/svg\" xmlns:ev=\"http://www.w3.org/2001/xml-events\" xmlns:xlink=\"http://www.w3.org/1999/xlink\" baseProfile=\"full\" height=\"120\" version=\"1.1\" width=\"120\"><defs/><rect fill=\"#ff82b4\" height=\"77\" rx=\"10\" ry=\"10\" width=\"100%\" x=\"0.0\" y=\"21.5\"/><text alignment-baseline=\"middle\" fill=\"#000000\" font-family=\"Arial\" font-size=\"45\" font-weight=\"bold\" text-anchor=\"middle\" x=\"50%\" y=\"53%\">150</text></svg>"
      ],
      "text/plain": [
       "<IPython.core.display.SVG object>"
      ]
     },
     "metadata": {},
     "output_type": "display_data"
    },
    {
     "data": {
      "image/svg+xml": [
       "<svg xmlns=\"http://www.w3.org/2000/svg\" xmlns:ev=\"http://www.w3.org/2001/xml-events\" xmlns:xlink=\"http://www.w3.org/1999/xlink\" baseProfile=\"full\" height=\"120\" version=\"1.1\" width=\"120\"><defs/><rect fill=\"#a0006e\" height=\"77\" rx=\"10\" ry=\"10\" width=\"100%\" x=\"0.0\" y=\"21.5\"/><text alignment-baseline=\"middle\" fill=\"#ffffff\" font-family=\"Arial\" font-size=\"45\" font-weight=\"bold\" text-anchor=\"middle\" x=\"50%\" y=\"53%\">157</text></svg>"
      ],
      "text/plain": [
       "<IPython.core.display.SVG object>"
      ]
     },
     "metadata": {},
     "output_type": "display_data"
    },
    {
     "data": {
      "image/svg+xml": [
       "<svg xmlns=\"http://www.w3.org/2000/svg\" xmlns:ev=\"http://www.w3.org/2001/xml-events\" xmlns:xlink=\"http://www.w3.org/1999/xlink\" baseProfile=\"full\" height=\"120\" version=\"1.1\" width=\"120\"><defs/><rect fill=\"#0055c8\" height=\"77\" rx=\"10\" ry=\"10\" width=\"100%\" x=\"0.0\" y=\"21.5\"/><text alignment-baseline=\"middle\" fill=\"#ffffff\" font-family=\"Arial\" font-size=\"45\" font-weight=\"bold\" text-anchor=\"middle\" x=\"50%\" y=\"53%\">162</text></svg>"
      ],
      "text/plain": [
       "<IPython.core.display.SVG object>"
      ]
     },
     "metadata": {},
     "output_type": "display_data"
    },
    {
     "data": {
      "image/svg+xml": [
       "<svg xmlns=\"http://www.w3.org/2000/svg\" xmlns:ev=\"http://www.w3.org/2001/xml-events\" xmlns:xlink=\"http://www.w3.org/1999/xlink\" baseProfile=\"full\" height=\"120\" version=\"1.1\" width=\"120\"><defs/><rect fill=\"#a0006e\" height=\"77\" rx=\"10\" ry=\"10\" width=\"100%\" x=\"0.0\" y=\"21.5\"/><text alignment-baseline=\"middle\" fill=\"#ffffff\" font-family=\"Arial\" font-size=\"45\" font-weight=\"bold\" text-anchor=\"middle\" x=\"50%\" y=\"53%\">164</text></svg>"
      ],
      "text/plain": [
       "<IPython.core.display.SVG object>"
      ]
     },
     "metadata": {},
     "output_type": "display_data"
    },
    {
     "data": {
      "image/svg+xml": [
       "<svg xmlns=\"http://www.w3.org/2000/svg\" xmlns:ev=\"http://www.w3.org/2001/xml-events\" xmlns:xlink=\"http://www.w3.org/1999/xlink\" baseProfile=\"full\" height=\"120\" version=\"1.1\" width=\"120\"><defs/><rect fill=\"#82dc73\" height=\"77\" rx=\"10\" ry=\"10\" width=\"100%\" x=\"0.0\" y=\"21.5\"/><text alignment-baseline=\"middle\" fill=\"#000000\" font-family=\"Arial\" font-size=\"45\" font-weight=\"bold\" text-anchor=\"middle\" x=\"50%\" y=\"53%\">169</text></svg>"
      ],
      "text/plain": [
       "<IPython.core.display.SVG object>"
      ]
     },
     "metadata": {},
     "output_type": "display_data"
    },
    {
     "data": {
      "image/svg+xml": [
       "<svg xmlns=\"http://www.w3.org/2000/svg\" xmlns:ev=\"http://www.w3.org/2001/xml-events\" xmlns:xlink=\"http://www.w3.org/1999/xlink\" baseProfile=\"full\" height=\"120\" version=\"1.1\" width=\"120\"><defs/><rect fill=\"#82c8e6\" height=\"77\" rx=\"10\" ry=\"10\" width=\"100%\" x=\"0.0\" y=\"21.5\"/><text alignment-baseline=\"middle\" fill=\"#000000\" font-family=\"Arial\" font-size=\"45\" font-weight=\"bold\" text-anchor=\"middle\" x=\"50%\" y=\"53%\">170</text></svg>"
      ],
      "text/plain": [
       "<IPython.core.display.SVG object>"
      ]
     },
     "metadata": {},
     "output_type": "display_data"
    },
    {
     "data": {
      "image/svg+xml": [
       "<svg xmlns=\"http://www.w3.org/2000/svg\" xmlns:ev=\"http://www.w3.org/2001/xml-events\" xmlns:xlink=\"http://www.w3.org/1999/xlink\" baseProfile=\"full\" height=\"120\" version=\"1.1\" width=\"120\"><defs/><rect fill=\"#ff1400\" height=\"77\" rx=\"10\" ry=\"10\" width=\"100%\" x=\"0.0\" y=\"21.5\"/><text alignment-baseline=\"middle\" fill=\"#ffffff\" font-family=\"Arial\" font-size=\"45\" font-weight=\"bold\" text-anchor=\"middle\" x=\"50%\" y=\"53%\">171</text></svg>"
      ],
      "text/plain": [
       "<IPython.core.display.SVG object>"
      ]
     },
     "metadata": {},
     "output_type": "display_data"
    },
    {
     "data": {
      "image/svg+xml": [
       "<svg xmlns=\"http://www.w3.org/2000/svg\" xmlns:ev=\"http://www.w3.org/2001/xml-events\" xmlns:xlink=\"http://www.w3.org/1999/xlink\" baseProfile=\"full\" height=\"120\" version=\"1.1\" width=\"120\"><defs/><rect fill=\"#dc9600\" height=\"77\" rx=\"10\" ry=\"10\" width=\"100%\" x=\"0.0\" y=\"21.5\"/><text alignment-baseline=\"middle\" fill=\"#000000\" font-family=\"Arial\" font-size=\"45\" font-weight=\"bold\" text-anchor=\"middle\" x=\"50%\" y=\"53%\">176</text></svg>"
      ],
      "text/plain": [
       "<IPython.core.display.SVG object>"
      ]
     },
     "metadata": {},
     "output_type": "display_data"
    },
    {
     "data": {
      "image/svg+xml": [
       "<svg xmlns=\"http://www.w3.org/2000/svg\" xmlns:ev=\"http://www.w3.org/2001/xml-events\" xmlns:xlink=\"http://www.w3.org/1999/xlink\" baseProfile=\"full\" height=\"120\" version=\"1.1\" width=\"120\"><defs/><rect fill=\"#a0006e\" height=\"77\" rx=\"10\" ry=\"10\" width=\"100%\" x=\"0.0\" y=\"21.5\"/><text alignment-baseline=\"middle\" fill=\"#ffffff\" font-family=\"Arial\" font-size=\"45\" font-weight=\"bold\" text-anchor=\"middle\" x=\"50%\" y=\"53%\">285</text></svg>"
      ],
      "text/plain": [
       "<IPython.core.display.SVG object>"
      ]
     },
     "metadata": {},
     "output_type": "display_data"
    },
    {
     "data": {
      "image/svg+xml": [
       "<svg xmlns=\"http://www.w3.org/2000/svg\" xmlns:ev=\"http://www.w3.org/2001/xml-events\" xmlns:xlink=\"http://www.w3.org/1999/xlink\" baseProfile=\"full\" height=\"120\" version=\"1.1\" width=\"120\"><defs/><rect fill=\"#dc9600\" height=\"77\" rx=\"10\" ry=\"10\" width=\"100%\" x=\"0.0\" y=\"21.5\"/><text alignment-baseline=\"middle\" fill=\"#000000\" font-family=\"Arial\" font-size=\"45\" font-weight=\"bold\" text-anchor=\"middle\" x=\"50%\" y=\"53%\">207</text></svg>"
      ],
      "text/plain": [
       "<IPython.core.display.SVG object>"
      ]
     },
     "metadata": {},
     "output_type": "display_data"
    },
    {
     "data": {
      "image/svg+xml": [
       "<svg xmlns=\"http://www.w3.org/2000/svg\" xmlns:ev=\"http://www.w3.org/2001/xml-events\" xmlns:xlink=\"http://www.w3.org/1999/xlink\" baseProfile=\"full\" height=\"120\" version=\"1.1\" width=\"120\"><defs/><rect fill=\"#ff82b4\" height=\"77\" rx=\"10\" ry=\"10\" width=\"100%\" x=\"0.0\" y=\"21.5\"/><text alignment-baseline=\"middle\" fill=\"#000000\" font-family=\"Arial\" font-size=\"45\" font-weight=\"bold\" text-anchor=\"middle\" x=\"50%\" y=\"53%\">211</text></svg>"
      ],
      "text/plain": [
       "<IPython.core.display.SVG object>"
      ]
     },
     "metadata": {},
     "output_type": "display_data"
    },
    {
     "data": {
      "image/svg+xml": [
       "<svg xmlns=\"http://www.w3.org/2000/svg\" xmlns:ev=\"http://www.w3.org/2001/xml-events\" xmlns:xlink=\"http://www.w3.org/1999/xlink\" baseProfile=\"full\" height=\"120\" version=\"1.1\" width=\"120\"><defs/><rect fill=\"#d282be\" height=\"77\" rx=\"10\" ry=\"10\" width=\"100%\" x=\"0.0\" y=\"21.5\"/><text alignment-baseline=\"middle\" fill=\"#000000\" font-family=\"Arial\" font-size=\"45\" font-weight=\"bold\" text-anchor=\"middle\" x=\"50%\" y=\"53%\">214</text></svg>"
      ],
      "text/plain": [
       "<IPython.core.display.SVG object>"
      ]
     },
     "metadata": {},
     "output_type": "display_data"
    },
    {
     "data": {
      "image/svg+xml": [
       "<svg xmlns=\"http://www.w3.org/2000/svg\" xmlns:ev=\"http://www.w3.org/2001/xml-events\" xmlns:xlink=\"http://www.w3.org/1999/xlink\" baseProfile=\"full\" height=\"120\" version=\"1.1\" width=\"120\"><defs/><rect fill=\"#a0006e\" height=\"77\" rx=\"10\" ry=\"10\" width=\"100%\" x=\"0.0\" y=\"21.5\"/><text alignment-baseline=\"middle\" fill=\"#ffffff\" font-family=\"Arial\" font-size=\"45\" font-weight=\"bold\" text-anchor=\"middle\" x=\"50%\" y=\"53%\">220</text></svg>"
      ],
      "text/plain": [
       "<IPython.core.display.SVG object>"
      ]
     },
     "metadata": {},
     "output_type": "display_data"
    },
    {
     "data": {
      "image/svg+xml": [
       "<svg xmlns=\"http://www.w3.org/2000/svg\" xmlns:ev=\"http://www.w3.org/2001/xml-events\" xmlns:xlink=\"http://www.w3.org/1999/xlink\" baseProfile=\"full\" height=\"120\" version=\"1.1\" width=\"120\"><defs/><rect fill=\"#6e6e00\" height=\"77\" rx=\"10\" ry=\"10\" width=\"100%\" x=\"0.0\" y=\"21.5\"/><text alignment-baseline=\"middle\" fill=\"#ffffff\" font-family=\"Arial\" font-size=\"45\" font-weight=\"bold\" text-anchor=\"middle\" x=\"50%\" y=\"53%\">255</text></svg>"
      ],
      "text/plain": [
       "<IPython.core.display.SVG object>"
      ]
     },
     "metadata": {},
     "output_type": "display_data"
    },
    {
     "data": {
      "image/svg+xml": [
       "<svg xmlns=\"http://www.w3.org/2000/svg\" xmlns:ev=\"http://www.w3.org/2001/xml-events\" xmlns:xlink=\"http://www.w3.org/1999/xlink\" baseProfile=\"full\" height=\"120\" version=\"1.1\" width=\"120\"><defs/><rect fill=\"#6e5b1e\" height=\"77\" rx=\"10\" ry=\"10\" width=\"100%\" x=\"0.0\" y=\"21.5\"/><text alignment-baseline=\"middle\" fill=\"#ffffff\" font-family=\"Arial\" font-size=\"45\" font-weight=\"bold\" text-anchor=\"middle\" x=\"50%\" y=\"53%\">256</text></svg>"
      ],
      "text/plain": [
       "<IPython.core.display.SVG object>"
      ]
     },
     "metadata": {},
     "output_type": "display_data"
    },
    {
     "data": {
      "image/svg+xml": [
       "<svg xmlns=\"http://www.w3.org/2000/svg\" xmlns:ev=\"http://www.w3.org/2001/xml-events\" xmlns:xlink=\"http://www.w3.org/1999/xlink\" baseProfile=\"full\" height=\"120\" version=\"1.1\" width=\"120\"><defs/><rect fill=\"#d282be\" height=\"77\" rx=\"10\" ry=\"10\" width=\"100%\" x=\"0.0\" y=\"21.5\"/><text alignment-baseline=\"middle\" fill=\"#000000\" font-family=\"Arial\" font-size=\"45\" font-weight=\"bold\" text-anchor=\"middle\" x=\"50%\" y=\"53%\">286</text></svg>"
      ],
      "text/plain": [
       "<IPython.core.display.SVG object>"
      ]
     },
     "metadata": {},
     "output_type": "display_data"
    },
    {
     "data": {
      "image/svg+xml": [
       "<svg xmlns=\"http://www.w3.org/2000/svg\" xmlns:ev=\"http://www.w3.org/2001/xml-events\" xmlns:xlink=\"http://www.w3.org/1999/xlink\" baseProfile=\"full\" height=\"120\" version=\"1.1\" width=\"120\"><defs/><rect fill=\"#d282be\" height=\"77\" rx=\"10\" ry=\"10\" width=\"100%\" x=\"0.0\" y=\"21.5\"/><text alignment-baseline=\"middle\" fill=\"#000000\" font-family=\"Arial\" font-size=\"45\" font-weight=\"bold\" text-anchor=\"middle\" x=\"50%\" y=\"53%\">290</text></svg>"
      ],
      "text/plain": [
       "<IPython.core.display.SVG object>"
      ]
     },
     "metadata": {},
     "output_type": "display_data"
    },
    {
     "data": {
      "image/svg+xml": [
       "<svg xmlns=\"http://www.w3.org/2000/svg\" xmlns:ev=\"http://www.w3.org/2001/xml-events\" xmlns:xlink=\"http://www.w3.org/1999/xlink\" baseProfile=\"full\" height=\"120\" version=\"1.1\" width=\"120\"><defs/><rect fill=\"#ffbe00\" height=\"77\" rx=\"10\" ry=\"10\" width=\"100%\" x=\"0.0\" y=\"21.5\"/><text alignment-baseline=\"middle\" fill=\"#000000\" font-family=\"Arial\" font-size=\"45\" font-weight=\"bold\" text-anchor=\"middle\" x=\"50%\" y=\"53%\">302</text></svg>"
      ],
      "text/plain": [
       "<IPython.core.display.SVG object>"
      ]
     },
     "metadata": {},
     "output_type": "display_data"
    },
    {
     "data": {
      "image/svg+xml": [
       "<svg xmlns=\"http://www.w3.org/2000/svg\" xmlns:ev=\"http://www.w3.org/2001/xml-events\" xmlns:xlink=\"http://www.w3.org/1999/xlink\" baseProfile=\"full\" height=\"120\" version=\"1.1\" width=\"120\"><defs/><rect fill=\"#00643c\" height=\"77\" rx=\"10\" ry=\"10\" width=\"100%\" x=\"0.0\" y=\"21.5\"/><text alignment-baseline=\"middle\" fill=\"#ffffff\" font-family=\"Arial\" font-size=\"45\" font-weight=\"bold\" text-anchor=\"middle\" x=\"50%\" y=\"53%\">319</text></svg>"
      ],
      "text/plain": [
       "<IPython.core.display.SVG object>"
      ]
     },
     "metadata": {},
     "output_type": "display_data"
    },
    {
     "data": {
      "image/svg+xml": [
       "<svg xmlns=\"http://www.w3.org/2000/svg\" xmlns:ev=\"http://www.w3.org/2001/xml-events\" xmlns:xlink=\"http://www.w3.org/1999/xlink\" baseProfile=\"full\" height=\"120\" version=\"1.1\" width=\"120\"><defs/><rect fill=\"#640082\" height=\"77\" rx=\"10\" ry=\"10\" width=\"100%\" x=\"0.0\" y=\"21.5\"/><text alignment-baseline=\"middle\" fill=\"#ffffff\" font-family=\"Arial\" font-size=\"45\" font-weight=\"bold\" text-anchor=\"middle\" x=\"50%\" y=\"53%\">355</text></svg>"
      ],
      "text/plain": [
       "<IPython.core.display.SVG object>"
      ]
     },
     "metadata": {},
     "output_type": "display_data"
    },
    {
     "data": {
      "image/svg+xml": [
       "<svg xmlns=\"http://www.w3.org/2000/svg\" xmlns:ev=\"http://www.w3.org/2001/xml-events\" xmlns:xlink=\"http://www.w3.org/1999/xlink\" baseProfile=\"full\" height=\"120\" version=\"1.1\" width=\"120\"><defs/><rect fill=\"#d2d200\" height=\"77\" rx=\"10\" ry=\"10\" width=\"100%\" x=\"0.0\" y=\"21.5\"/><text alignment-baseline=\"middle\" fill=\"#000000\" font-family=\"Arial\" font-size=\"45\" font-weight=\"bold\" text-anchor=\"middle\" x=\"50%\" y=\"53%\">360</text></svg>"
      ],
      "text/plain": [
       "<IPython.core.display.SVG object>"
      ]
     },
     "metadata": {},
     "output_type": "display_data"
    },
    {
     "data": {
      "image/svg+xml": [
       "<svg xmlns=\"http://www.w3.org/2000/svg\" xmlns:ev=\"http://www.w3.org/2001/xml-events\" xmlns:xlink=\"http://www.w3.org/1999/xlink\" baseProfile=\"full\" height=\"120\" version=\"1.1\" width=\"120\"><defs/><rect fill=\"#82c8e6\" height=\"77\" rx=\"10\" ry=\"10\" width=\"100%\" x=\"0.0\" y=\"21.5\"/><text alignment-baseline=\"middle\" fill=\"#000000\" font-family=\"Arial\" font-size=\"45\" font-weight=\"bold\" text-anchor=\"middle\" x=\"50%\" y=\"53%\">390</text></svg>"
      ],
      "text/plain": [
       "<IPython.core.display.SVG object>"
      ]
     },
     "metadata": {},
     "output_type": "display_data"
    },
    {
     "data": {
      "image/svg+xml": [
       "<svg xmlns=\"http://www.w3.org/2000/svg\" xmlns:ev=\"http://www.w3.org/2001/xml-events\" xmlns:xlink=\"http://www.w3.org/1999/xlink\" baseProfile=\"full\" height=\"120\" version=\"1.1\" width=\"120\"><defs/><rect fill=\"#dc9600\" height=\"77\" rx=\"10\" ry=\"10\" width=\"100%\" x=\"0.0\" y=\"21.5\"/><text alignment-baseline=\"middle\" fill=\"#000000\" font-family=\"Arial\" font-size=\"45\" font-weight=\"bold\" text-anchor=\"middle\" x=\"50%\" y=\"53%\">N23</text></svg>"
      ],
      "text/plain": [
       "<IPython.core.display.SVG object>"
      ]
     },
     "metadata": {},
     "output_type": "display_data"
    },
    {
     "data": {
      "image/svg+xml": [
       "<svg xmlns=\"http://www.w3.org/2000/svg\" xmlns:ev=\"http://www.w3.org/2001/xml-events\" xmlns:xlink=\"http://www.w3.org/1999/xlink\" baseProfile=\"full\" height=\"120\" version=\"1.1\" width=\"120\"><defs/><rect fill=\"#82dc73\" height=\"77\" rx=\"10\" ry=\"10\" width=\"100%\" x=\"0.0\" y=\"21.5\"/><text alignment-baseline=\"middle\" fill=\"#000000\" font-family=\"Arial\" font-size=\"45\" font-weight=\"bold\" text-anchor=\"middle\" x=\"50%\" y=\"53%\">N21</text></svg>"
      ],
      "text/plain": [
       "<IPython.core.display.SVG object>"
      ]
     },
     "metadata": {},
     "output_type": "display_data"
    },
    {
     "data": {
      "image/svg+xml": [
       "<svg xmlns=\"http://www.w3.org/2000/svg\" xmlns:ev=\"http://www.w3.org/2001/xml-events\" xmlns:xlink=\"http://www.w3.org/1999/xlink\" baseProfile=\"full\" height=\"120\" version=\"1.1\" width=\"120\"><defs/><rect fill=\"#ffbe00\" height=\"77\" rx=\"10\" ry=\"10\" width=\"100%\" x=\"0.0\" y=\"21.5\"/><text alignment-baseline=\"middle\" fill=\"#000000\" font-family=\"Arial\" font-size=\"45\" font-weight=\"bold\" text-anchor=\"middle\" x=\"50%\" y=\"53%\">N22</text></svg>"
      ],
      "text/plain": [
       "<IPython.core.display.SVG object>"
      ]
     },
     "metadata": {},
     "output_type": "display_data"
    },
    {
     "data": {
      "image/svg+xml": [
       "<svg xmlns=\"http://www.w3.org/2000/svg\" xmlns:ev=\"http://www.w3.org/2001/xml-events\" xmlns:xlink=\"http://www.w3.org/1999/xlink\" baseProfile=\"full\" height=\"120\" version=\"1.1\" width=\"120\"><defs/><rect fill=\"#0055c8\" height=\"77\" rx=\"10\" ry=\"10\" width=\"100%\" x=\"0.0\" y=\"21.5\"/><text alignment-baseline=\"middle\" fill=\"#ffffff\" font-family=\"Arial\" font-size=\"45\" font-weight=\"bold\" text-anchor=\"middle\" x=\"50%\" y=\"53%\">395</text></svg>"
      ],
      "text/plain": [
       "<IPython.core.display.SVG object>"
      ]
     },
     "metadata": {},
     "output_type": "display_data"
    },
    {
     "data": {
      "image/svg+xml": [
       "<svg xmlns=\"http://www.w3.org/2000/svg\" xmlns:ev=\"http://www.w3.org/2001/xml-events\" xmlns:xlink=\"http://www.w3.org/1999/xlink\" baseProfile=\"full\" height=\"120\" version=\"1.1\" width=\"120\"><defs/><rect fill=\"#82c8e6\" height=\"77\" rx=\"10\" ry=\"10\" width=\"100%\" x=\"0.0\" y=\"21.5\"/><text alignment-baseline=\"middle\" fill=\"#000000\" font-family=\"Arial\" font-size=\"45\" font-weight=\"bold\" text-anchor=\"middle\" x=\"50%\" y=\"53%\">399</text></svg>"
      ],
      "text/plain": [
       "<IPython.core.display.SVG object>"
      ]
     },
     "metadata": {},
     "output_type": "display_data"
    },
    {
     "data": {
      "image/svg+xml": [
       "<svg xmlns=\"http://www.w3.org/2000/svg\" xmlns:ev=\"http://www.w3.org/2001/xml-events\" xmlns:xlink=\"http://www.w3.org/1999/xlink\" baseProfile=\"full\" height=\"120\" version=\"1.1\" width=\"120\"><defs/><rect fill=\"#ffbe00\" height=\"77\" rx=\"10\" ry=\"10\" width=\"100%\" x=\"0.0\" y=\"21.5\"/><text alignment-baseline=\"middle\" fill=\"#000000\" font-family=\"Arial\" font-size=\"45\" font-weight=\"bold\" text-anchor=\"middle\" x=\"50%\" y=\"53%\">545</text></svg>"
      ],
      "text/plain": [
       "<IPython.core.display.SVG object>"
      ]
     },
     "metadata": {},
     "output_type": "display_data"
    },
    {
     "data": {
      "image/svg+xml": [
       "<svg xmlns=\"http://www.w3.org/2000/svg\" xmlns:ev=\"http://www.w3.org/2001/xml-events\" xmlns:xlink=\"http://www.w3.org/1999/xlink\" baseProfile=\"full\" height=\"120\" version=\"1.1\" width=\"120\"><defs/><rect fill=\"#ff82b4\" height=\"77\" rx=\"10\" ry=\"10\" width=\"100%\" x=\"0.0\" y=\"21.5\"/><text alignment-baseline=\"middle\" fill=\"#000000\" font-family=\"Arial\" font-size=\"45\" font-weight=\"bold\" text-anchor=\"middle\" x=\"50%\" y=\"53%\">N62</text></svg>"
      ],
      "text/plain": [
       "<IPython.core.display.SVG object>"
      ]
     },
     "metadata": {},
     "output_type": "display_data"
    },
    {
     "data": {
      "image/svg+xml": [
       "<svg xmlns=\"http://www.w3.org/2000/svg\" xmlns:ev=\"http://www.w3.org/2001/xml-events\" xmlns:xlink=\"http://www.w3.org/1999/xlink\" baseProfile=\"full\" height=\"120\" version=\"1.1\" width=\"120\"><defs/><rect fill=\"#dc9600\" height=\"77\" rx=\"10\" ry=\"10\" width=\"100%\" x=\"0.0\" y=\"21.5\"/><text alignment-baseline=\"middle\" fill=\"#000000\" font-family=\"Arial\" font-size=\"45\" font-weight=\"bold\" text-anchor=\"middle\" x=\"50%\" y=\"53%\">N12</text></svg>"
      ],
      "text/plain": [
       "<IPython.core.display.SVG object>"
      ]
     },
     "metadata": {},
     "output_type": "display_data"
    },
    {
     "data": {
      "image/svg+xml": [
       "<svg xmlns=\"http://www.w3.org/2000/svg\" xmlns:ev=\"http://www.w3.org/2001/xml-events\" xmlns:xlink=\"http://www.w3.org/1999/xlink\" baseProfile=\"full\" height=\"120\" version=\"1.1\" width=\"120\"><defs/><rect fill=\"#82c8e6\" height=\"77\" rx=\"10\" ry=\"10\" width=\"100%\" x=\"0.0\" y=\"21.5\"/><text alignment-baseline=\"middle\" fill=\"#000000\" font-family=\"Arial\" font-size=\"45\" font-weight=\"bold\" text-anchor=\"middle\" x=\"50%\" y=\"53%\">40</text></svg>"
      ],
      "text/plain": [
       "<IPython.core.display.SVG object>"
      ]
     },
     "metadata": {},
     "output_type": "display_data"
    },
    {
     "data": {
      "image/svg+xml": [
       "<svg xmlns=\"http://www.w3.org/2000/svg\" xmlns:ev=\"http://www.w3.org/2001/xml-events\" xmlns:xlink=\"http://www.w3.org/1999/xlink\" baseProfile=\"full\" height=\"120\" version=\"1.1\" width=\"120\"><defs/><rect fill=\"#ff5a00\" height=\"77\" rx=\"10\" ry=\"10\" width=\"100%\" x=\"0.0\" y=\"21.5\"/><text alignment-baseline=\"middle\" fill=\"#ffffff\" font-family=\"Arial\" font-size=\"45\" font-weight=\"bold\" text-anchor=\"middle\" x=\"50%\" y=\"53%\">N11</text></svg>"
      ],
      "text/plain": [
       "<IPython.core.display.SVG object>"
      ]
     },
     "metadata": {},
     "output_type": "display_data"
    },
    {
     "data": {
      "image/svg+xml": [
       "<svg xmlns=\"http://www.w3.org/2000/svg\" xmlns:ev=\"http://www.w3.org/2001/xml-events\" xmlns:xlink=\"http://www.w3.org/1999/xlink\" baseProfile=\"full\" height=\"120\" version=\"1.1\" width=\"120\"><defs/><rect fill=\"#79ac2b\" height=\"77\" rx=\"10\" ry=\"10\" width=\"100%\" x=\"0.0\" y=\"21.5\"/><text alignment-baseline=\"middle\" fill=\"#ffffff\" font-family=\"Arial\" font-size=\"45\" font-weight=\"bold\" text-anchor=\"middle\" x=\"50%\" y=\"53%\">464</text></svg>"
      ],
      "text/plain": [
       "<IPython.core.display.SVG object>"
      ]
     },
     "metadata": {},
     "output_type": "display_data"
    },
    {
     "data": {
      "image/svg+xml": [
       "<svg xmlns=\"http://www.w3.org/2000/svg\" xmlns:ev=\"http://www.w3.org/2001/xml-events\" xmlns:xlink=\"http://www.w3.org/1999/xlink\" baseProfile=\"full\" height=\"120\" version=\"1.1\" width=\"120\"><defs/><rect fill=\"#00b8e0\" height=\"77\" rx=\"10\" ry=\"10\" width=\"100%\" x=\"0.0\" y=\"21.5\"/><text alignment-baseline=\"middle\" fill=\"#000000\" font-family=\"Arial\" font-size=\"45\" font-weight=\"bold\" text-anchor=\"middle\" x=\"50%\" y=\"53%\">5</text></svg>"
      ],
      "text/plain": [
       "<IPython.core.display.SVG object>"
      ]
     },
     "metadata": {},
     "output_type": "display_data"
    },
    {
     "data": {
      "image/svg+xml": [
       "<svg xmlns=\"http://www.w3.org/2000/svg\" xmlns:ev=\"http://www.w3.org/2001/xml-events\" xmlns:xlink=\"http://www.w3.org/1999/xlink\" baseProfile=\"full\" height=\"120\" version=\"1.1\" width=\"120\"><defs/><rect fill=\"#98d4e2\" height=\"77\" rx=\"10\" ry=\"10\" width=\"100%\" x=\"0.0\" y=\"21.5\"/><text alignment-baseline=\"middle\" fill=\"#000000\" font-family=\"Arial\" font-size=\"45\" font-weight=\"bold\" text-anchor=\"middle\" x=\"50%\" y=\"53%\">623</text></svg>"
      ],
      "text/plain": [
       "<IPython.core.display.SVG object>"
      ]
     },
     "metadata": {},
     "output_type": "display_data"
    },
    {
     "data": {
      "image/svg+xml": [
       "<svg xmlns=\"http://www.w3.org/2000/svg\" xmlns:ev=\"http://www.w3.org/2001/xml-events\" xmlns:xlink=\"http://www.w3.org/1999/xlink\" baseProfile=\"full\" height=\"120\" version=\"1.1\" width=\"120\"><defs/><rect fill=\"#6e6e00\" height=\"77\" rx=\"10\" ry=\"10\" width=\"100%\" x=\"0.0\" y=\"21.5\"/><text alignment-baseline=\"middle\" fill=\"#ffffff\" font-family=\"Arial\" font-size=\"45\" font-weight=\"bold\" text-anchor=\"middle\" x=\"50%\" y=\"53%\">57</text></svg>"
      ],
      "text/plain": [
       "<IPython.core.display.SVG object>"
      ]
     },
     "metadata": {},
     "output_type": "display_data"
    },
    {
     "data": {
      "image/svg+xml": [
       "<svg xmlns=\"http://www.w3.org/2000/svg\" xmlns:ev=\"http://www.w3.org/2001/xml-events\" xmlns:xlink=\"http://www.w3.org/1999/xlink\" baseProfile=\"full\" height=\"120\" version=\"1.1\" width=\"120\"><defs/><rect fill=\"#aaaaaa\" height=\"77\" rx=\"10\" ry=\"10\" width=\"100%\" x=\"0.0\" y=\"21.5\"/><text alignment-baseline=\"middle\" fill=\"#000000\" font-family=\"Arial\" font-size=\"45\" font-weight=\"bold\" text-anchor=\"middle\" x=\"50%\" y=\"53%\">4007</text></svg>"
      ],
      "text/plain": [
       "<IPython.core.display.SVG object>"
      ]
     },
     "metadata": {},
     "output_type": "display_data"
    },
    {
     "data": {
      "image/svg+xml": [
       "<svg xmlns=\"http://www.w3.org/2000/svg\" xmlns:ev=\"http://www.w3.org/2001/xml-events\" xmlns:xlink=\"http://www.w3.org/1999/xlink\" baseProfile=\"full\" height=\"120\" version=\"1.1\" width=\"120\"><defs/><rect fill=\"#79ac2b\" height=\"77\" rx=\"10\" ry=\"10\" width=\"100%\" x=\"0.0\" y=\"21.5\"/><text alignment-baseline=\"middle\" fill=\"#ffffff\" font-family=\"Arial\" font-size=\"45\" font-weight=\"bold\" text-anchor=\"middle\" x=\"50%\" y=\"53%\">401</text></svg>"
      ],
      "text/plain": [
       "<IPython.core.display.SVG object>"
      ]
     },
     "metadata": {},
     "output_type": "display_data"
    },
    {
     "data": {
      "image/svg+xml": [
       "<svg xmlns=\"http://www.w3.org/2000/svg\" xmlns:ev=\"http://www.w3.org/2001/xml-events\" xmlns:xlink=\"http://www.w3.org/1999/xlink\" baseProfile=\"full\" height=\"120\" version=\"1.1\" width=\"120\"><defs/><rect fill=\"#6e5b1e\" height=\"77\" rx=\"10\" ry=\"10\" width=\"100%\" x=\"0.0\" y=\"21.5\"/><text alignment-baseline=\"middle\" fill=\"#ffffff\" font-family=\"Arial\" font-size=\"45\" font-weight=\"bold\" text-anchor=\"middle\" x=\"50%\" y=\"53%\">62</text></svg>"
      ],
      "text/plain": [
       "<IPython.core.display.SVG object>"
      ]
     },
     "metadata": {},
     "output_type": "display_data"
    },
    {
     "data": {
      "image/svg+xml": [
       "<svg xmlns=\"http://www.w3.org/2000/svg\" xmlns:ev=\"http://www.w3.org/2001/xml-events\" xmlns:xlink=\"http://www.w3.org/1999/xlink\" baseProfile=\"full\" height=\"120\" version=\"1.1\" width=\"120\"><defs/><rect fill=\"#c1d95c\" height=\"77\" rx=\"10\" ry=\"10\" width=\"100%\" x=\"0.0\" y=\"21.5\"/><text alignment-baseline=\"middle\" fill=\"#000000\" font-family=\"Arial\" font-size=\"45\" font-weight=\"bold\" text-anchor=\"middle\" x=\"50%\" y=\"53%\">59</text></svg>"
      ],
      "text/plain": [
       "<IPython.core.display.SVG object>"
      ]
     },
     "metadata": {},
     "output_type": "display_data"
    },
    {
     "data": {
      "image/svg+xml": [
       "<svg xmlns=\"http://www.w3.org/2000/svg\" xmlns:ev=\"http://www.w3.org/2001/xml-events\" xmlns:xlink=\"http://www.w3.org/1999/xlink\" baseProfile=\"full\" height=\"120\" version=\"1.1\" width=\"120\"><defs/><rect fill=\"#9b993b\" height=\"77\" rx=\"10\" ry=\"10\" width=\"100%\" x=\"0.0\" y=\"21.5\"/><text alignment-baseline=\"middle\" fill=\"#ffffff\" font-family=\"Arial\" font-size=\"45\" font-weight=\"bold\" text-anchor=\"middle\" x=\"50%\" y=\"53%\">13</text></svg>"
      ],
      "text/plain": [
       "<IPython.core.display.SVG object>"
      ]
     },
     "metadata": {},
     "output_type": "display_data"
    },
    {
     "data": {
      "image/svg+xml": [
       "<svg xmlns=\"http://www.w3.org/2000/svg\" xmlns:ev=\"http://www.w3.org/2001/xml-events\" xmlns:xlink=\"http://www.w3.org/1999/xlink\" baseProfile=\"full\" height=\"120\" version=\"1.1\" width=\"120\"><defs/><rect fill=\"#17a79c\" height=\"77\" rx=\"10\" ry=\"10\" width=\"100%\" x=\"0.0\" y=\"21.5\"/><text alignment-baseline=\"middle\" fill=\"#000000\" font-family=\"Arial\" font-size=\"45\" font-weight=\"bold\" text-anchor=\"middle\" x=\"50%\" y=\"53%\">N</text></svg>"
      ],
      "text/plain": [
       "<IPython.core.display.SVG object>"
      ]
     },
     "metadata": {},
     "output_type": "display_data"
    },
    {
     "data": {
      "image/svg+xml": [
       "<svg xmlns=\"http://www.w3.org/2000/svg\" xmlns:ev=\"http://www.w3.org/2001/xml-events\" xmlns:xlink=\"http://www.w3.org/1999/xlink\" baseProfile=\"full\" height=\"120\" version=\"1.1\" width=\"120\"><defs/><rect fill=\"#a29a24\" height=\"77\" rx=\"10\" ry=\"10\" width=\"100%\" x=\"0.0\" y=\"21.5\"/><text alignment-baseline=\"middle\" fill=\"#ffffff\" font-family=\"Arial\" font-size=\"45\" font-weight=\"bold\" text-anchor=\"middle\" x=\"50%\" y=\"53%\">109</text></svg>"
      ],
      "text/plain": [
       "<IPython.core.display.SVG object>"
      ]
     },
     "metadata": {},
     "output_type": "display_data"
    },
    {
     "data": {
      "image/svg+xml": [
       "<svg xmlns=\"http://www.w3.org/2000/svg\" xmlns:ev=\"http://www.w3.org/2001/xml-events\" xmlns:xlink=\"http://www.w3.org/1999/xlink\" baseProfile=\"full\" height=\"120\" version=\"1.1\" width=\"120\"><defs/><rect fill=\"#6fa8dc\" height=\"77\" rx=\"10\" ry=\"10\" width=\"100%\" x=\"0.0\" y=\"21.5\"/><text alignment-baseline=\"middle\" fill=\"#ffffff\" font-family=\"Arial\" font-size=\"45\" font-weight=\"bold\" text-anchor=\"middle\" x=\"50%\" y=\"53%\">13B</text></svg>"
      ],
      "text/plain": [
       "<IPython.core.display.SVG object>"
      ]
     },
     "metadata": {},
     "output_type": "display_data"
    },
    {
     "data": {
      "image/svg+xml": [
       "<svg xmlns=\"http://www.w3.org/2000/svg\" xmlns:ev=\"http://www.w3.org/2001/xml-events\" xmlns:xlink=\"http://www.w3.org/1999/xlink\" baseProfile=\"full\" height=\"120\" version=\"1.1\" width=\"120\"><defs/><rect fill=\"#ff82b4\" height=\"77\" rx=\"10\" ry=\"10\" width=\"100%\" x=\"0.0\" y=\"21.5\"/><text alignment-baseline=\"middle\" fill=\"#000000\" font-family=\"Arial\" font-size=\"45\" font-weight=\"bold\" text-anchor=\"middle\" x=\"50%\" y=\"53%\">80</text></svg>"
      ],
      "text/plain": [
       "<IPython.core.display.SVG object>"
      ]
     },
     "metadata": {},
     "output_type": "display_data"
    },
    {
     "data": {
      "image/svg+xml": [
       "<svg xmlns=\"http://www.w3.org/2000/svg\" xmlns:ev=\"http://www.w3.org/2001/xml-events\" xmlns:xlink=\"http://www.w3.org/1999/xlink\" baseProfile=\"full\" height=\"120\" version=\"1.1\" width=\"120\"><defs/><rect fill=\"#d282be\" height=\"77\" rx=\"10\" ry=\"10\" width=\"100%\" x=\"0.0\" y=\"21.5\"/><text alignment-baseline=\"middle\" fill=\"#000000\" font-family=\"Arial\" font-size=\"45\" font-weight=\"bold\" text-anchor=\"middle\" x=\"50%\" y=\"53%\">84</text></svg>"
      ],
      "text/plain": [
       "<IPython.core.display.SVG object>"
      ]
     },
     "metadata": {},
     "output_type": "display_data"
    },
    {
     "data": {
      "image/svg+xml": [
       "<svg xmlns=\"http://www.w3.org/2000/svg\" xmlns:ev=\"http://www.w3.org/2001/xml-events\" xmlns:xlink=\"http://www.w3.org/1999/xlink\" baseProfile=\"full\" height=\"120\" version=\"1.1\" width=\"120\"><defs/><rect fill=\"#fece00\" height=\"77\" rx=\"10\" ry=\"10\" width=\"100%\" x=\"0.0\" y=\"21.5\"/><text alignment-baseline=\"middle\" fill=\"#000000\" font-family=\"Arial\" font-size=\"45\" font-weight=\"bold\" text-anchor=\"middle\" x=\"50%\" y=\"53%\">3A</text></svg>"
      ],
      "text/plain": [
       "<IPython.core.display.SVG object>"
      ]
     },
     "metadata": {},
     "output_type": "display_data"
    },
    {
     "data": {
      "image/svg+xml": [
       "<svg xmlns=\"http://www.w3.org/2000/svg\" xmlns:ev=\"http://www.w3.org/2001/xml-events\" xmlns:xlink=\"http://www.w3.org/1999/xlink\" baseProfile=\"full\" height=\"120\" version=\"1.1\" width=\"120\"><defs/><rect fill=\"#6ca513\" height=\"77\" rx=\"10\" ry=\"10\" width=\"100%\" x=\"0.0\" y=\"21.5\"/><text alignment-baseline=\"middle\" fill=\"#ffffff\" font-family=\"Arial\" font-size=\"45\" font-weight=\"bold\" text-anchor=\"middle\" x=\"50%\" y=\"53%\">N2</text></svg>"
      ],
      "text/plain": [
       "<IPython.core.display.SVG object>"
      ]
     },
     "metadata": {},
     "output_type": "display_data"
    },
    {
     "data": {
      "image/svg+xml": [
       "<svg xmlns=\"http://www.w3.org/2000/svg\" xmlns:ev=\"http://www.w3.org/2001/xml-events\" xmlns:xlink=\"http://www.w3.org/1999/xlink\" baseProfile=\"full\" height=\"120\" version=\"1.1\" width=\"120\"><defs/><rect fill=\"#00b297\" height=\"77\" rx=\"10\" ry=\"10\" width=\"100%\" x=\"0.0\" y=\"21.5\"/><text alignment-baseline=\"middle\" fill=\"#ffffff\" font-family=\"Arial\" font-size=\"45\" font-weight=\"bold\" text-anchor=\"middle\" x=\"50%\" y=\"53%\">N</text></svg>"
      ],
      "text/plain": [
       "<IPython.core.display.SVG object>"
      ]
     },
     "metadata": {},
     "output_type": "display_data"
    },
    {
     "data": {
      "image/svg+xml": [
       "<svg xmlns=\"http://www.w3.org/2000/svg\" xmlns:ev=\"http://www.w3.org/2001/xml-events\" xmlns:xlink=\"http://www.w3.org/1999/xlink\" baseProfile=\"full\" height=\"120\" version=\"1.1\" width=\"120\"><defs/><rect fill=\"#f28f42\" height=\"77\" rx=\"10\" ry=\"10\" width=\"100%\" x=\"0.0\" y=\"21.5\"/><text alignment-baseline=\"middle\" fill=\"#000000\" font-family=\"Arial\" font-size=\"45\" font-weight=\"bold\" text-anchor=\"middle\" x=\"50%\" y=\"53%\">24</text></svg>"
      ],
      "text/plain": [
       "<IPython.core.display.SVG object>"
      ]
     },
     "metadata": {},
     "output_type": "display_data"
    },
    {
     "data": {
      "image/svg+xml": [
       "<svg xmlns=\"http://www.w3.org/2000/svg\" xmlns:ev=\"http://www.w3.org/2001/xml-events\" xmlns:xlink=\"http://www.w3.org/1999/xlink\" baseProfile=\"full\" height=\"120\" version=\"1.1\" width=\"120\"><defs/><rect fill=\"#ff1400\" height=\"77\" rx=\"10\" ry=\"10\" width=\"100%\" x=\"0.0\" y=\"21.5\"/><text alignment-baseline=\"middle\" fill=\"#ffffff\" font-family=\"Arial\" font-size=\"45\" font-weight=\"bold\" text-anchor=\"middle\" x=\"50%\" y=\"53%\">86</text></svg>"
      ],
      "text/plain": [
       "<IPython.core.display.SVG object>"
      ]
     },
     "metadata": {},
     "output_type": "display_data"
    },
    {
     "data": {
      "image/svg+xml": [
       "<svg xmlns=\"http://www.w3.org/2000/svg\" xmlns:ev=\"http://www.w3.org/2001/xml-events\" xmlns:xlink=\"http://www.w3.org/1999/xlink\" baseProfile=\"full\" height=\"120\" version=\"1.1\" width=\"120\"><defs/><rect fill=\"#a0006e\" height=\"77\" rx=\"10\" ry=\"10\" width=\"100%\" x=\"0.0\" y=\"21.5\"/><text alignment-baseline=\"middle\" fill=\"#ffffff\" font-family=\"Arial\" font-size=\"45\" font-weight=\"bold\" text-anchor=\"middle\" x=\"50%\" y=\"53%\">94</text></svg>"
      ],
      "text/plain": [
       "<IPython.core.display.SVG object>"
      ]
     },
     "metadata": {},
     "output_type": "display_data"
    },
    {
     "data": {
      "image/svg+xml": [
       "<svg xmlns=\"http://www.w3.org/2000/svg\" xmlns:ev=\"http://www.w3.org/2001/xml-events\" xmlns:xlink=\"http://www.w3.org/1999/xlink\" baseProfile=\"full\" height=\"120\" version=\"1.1\" width=\"120\"><defs/><rect fill=\"#ff1400\" height=\"77\" rx=\"10\" ry=\"10\" width=\"100%\" x=\"0.0\" y=\"21.5\"/><text alignment-baseline=\"middle\" fill=\"#ffffff\" font-family=\"Arial\" font-size=\"45\" font-weight=\"bold\" text-anchor=\"middle\" x=\"50%\" y=\"53%\">113</text></svg>"
      ],
      "text/plain": [
       "<IPython.core.display.SVG object>"
      ]
     },
     "metadata": {},
     "output_type": "display_data"
    },
    {
     "data": {
      "image/svg+xml": [
       "<svg xmlns=\"http://www.w3.org/2000/svg\" xmlns:ev=\"http://www.w3.org/2001/xml-events\" xmlns:xlink=\"http://www.w3.org/1999/xlink\" baseProfile=\"full\" height=\"120\" version=\"1.1\" width=\"120\"><defs/><rect fill=\"#ff5a00\" height=\"77\" rx=\"10\" ry=\"10\" width=\"100%\" x=\"0.0\" y=\"21.5\"/><text alignment-baseline=\"middle\" fill=\"#000000\" font-family=\"Arial\" font-size=\"45\" font-weight=\"bold\" text-anchor=\"middle\" x=\"50%\" y=\"53%\">127</text></svg>"
      ],
      "text/plain": [
       "<IPython.core.display.SVG object>"
      ]
     },
     "metadata": {},
     "output_type": "display_data"
    },
    {
     "data": {
      "image/svg+xml": [
       "<svg xmlns=\"http://www.w3.org/2000/svg\" xmlns:ev=\"http://www.w3.org/2001/xml-events\" xmlns:xlink=\"http://www.w3.org/1999/xlink\" baseProfile=\"full\" height=\"120\" version=\"1.1\" width=\"120\"><defs/><rect fill=\"#ffbe00\" height=\"77\" rx=\"10\" ry=\"10\" width=\"100%\" x=\"0.0\" y=\"21.5\"/><text alignment-baseline=\"middle\" fill=\"#000000\" font-family=\"Arial\" font-size=\"45\" font-weight=\"bold\" text-anchor=\"middle\" x=\"50%\" y=\"53%\">101</text></svg>"
      ],
      "text/plain": [
       "<IPython.core.display.SVG object>"
      ]
     },
     "metadata": {},
     "output_type": "display_data"
    },
    {
     "data": {
      "image/svg+xml": [
       "<svg xmlns=\"http://www.w3.org/2000/svg\" xmlns:ev=\"http://www.w3.org/2001/xml-events\" xmlns:xlink=\"http://www.w3.org/1999/xlink\" baseProfile=\"full\" height=\"120\" version=\"1.1\" width=\"120\"><defs/><rect fill=\"#ff1400\" height=\"77\" rx=\"10\" ry=\"10\" width=\"100%\" x=\"0.0\" y=\"21.5\"/><text alignment-baseline=\"middle\" fill=\"#ffffff\" font-family=\"Arial\" font-size=\"45\" font-weight=\"bold\" text-anchor=\"middle\" x=\"50%\" y=\"53%\">104</text></svg>"
      ],
      "text/plain": [
       "<IPython.core.display.SVG object>"
      ]
     },
     "metadata": {},
     "output_type": "display_data"
    },
    {
     "data": {
      "image/svg+xml": [
       "<svg xmlns=\"http://www.w3.org/2000/svg\" xmlns:ev=\"http://www.w3.org/2001/xml-events\" xmlns:xlink=\"http://www.w3.org/1999/xlink\" baseProfile=\"full\" height=\"120\" version=\"1.1\" width=\"120\"><defs/><rect fill=\"#00643c\" height=\"77\" rx=\"10\" ry=\"10\" width=\"100%\" x=\"0.0\" y=\"21.5\"/><text alignment-baseline=\"middle\" fill=\"#ffffff\" font-family=\"Arial\" font-size=\"45\" font-weight=\"bold\" text-anchor=\"middle\" x=\"50%\" y=\"53%\">160</text></svg>"
      ],
      "text/plain": [
       "<IPython.core.display.SVG object>"
      ]
     },
     "metadata": {},
     "output_type": "display_data"
    },
    {
     "data": {
      "image/svg+xml": [
       "<svg xmlns=\"http://www.w3.org/2000/svg\" xmlns:ev=\"http://www.w3.org/2001/xml-events\" xmlns:xlink=\"http://www.w3.org/1999/xlink\" baseProfile=\"full\" height=\"120\" version=\"1.1\" width=\"120\"><defs/><rect fill=\"#ff5a00\" height=\"77\" rx=\"10\" ry=\"10\" width=\"100%\" x=\"0.0\" y=\"21.5\"/><text alignment-baseline=\"middle\" fill=\"#000000\" font-family=\"Arial\" font-size=\"45\" font-weight=\"bold\" text-anchor=\"middle\" x=\"50%\" y=\"53%\">189</text></svg>"
      ],
      "text/plain": [
       "<IPython.core.display.SVG object>"
      ]
     },
     "metadata": {},
     "output_type": "display_data"
    },
    {
     "data": {
      "image/svg+xml": [
       "<svg xmlns=\"http://www.w3.org/2000/svg\" xmlns:ev=\"http://www.w3.org/2001/xml-events\" xmlns:xlink=\"http://www.w3.org/1999/xlink\" baseProfile=\"full\" height=\"120\" version=\"1.1\" width=\"120\"><defs/><rect fill=\"#ff5a00\" height=\"77\" rx=\"10\" ry=\"10\" width=\"100%\" x=\"0.0\" y=\"21.5\"/><text alignment-baseline=\"middle\" fill=\"#000000\" font-family=\"Arial\" font-size=\"45\" font-weight=\"bold\" text-anchor=\"middle\" x=\"50%\" y=\"53%\">234</text></svg>"
      ],
      "text/plain": [
       "<IPython.core.display.SVG object>"
      ]
     },
     "metadata": {},
     "output_type": "display_data"
    },
    {
     "data": {
      "image/svg+xml": [
       "<svg xmlns=\"http://www.w3.org/2000/svg\" xmlns:ev=\"http://www.w3.org/2001/xml-events\" xmlns:xlink=\"http://www.w3.org/1999/xlink\" baseProfile=\"full\" height=\"120\" version=\"1.1\" width=\"120\"><defs/><rect fill=\"#a0006e\" height=\"77\" rx=\"10\" ry=\"10\" width=\"100%\" x=\"0.0\" y=\"21.5\"/><text alignment-baseline=\"middle\" fill=\"#ffffff\" font-family=\"Arial\" font-size=\"45\" font-weight=\"bold\" text-anchor=\"middle\" x=\"50%\" y=\"53%\">250</text></svg>"
      ],
      "text/plain": [
       "<IPython.core.display.SVG object>"
      ]
     },
     "metadata": {},
     "output_type": "display_data"
    },
    {
     "data": {
      "image/svg+xml": [
       "<svg xmlns=\"http://www.w3.org/2000/svg\" xmlns:ev=\"http://www.w3.org/2001/xml-events\" xmlns:xlink=\"http://www.w3.org/1999/xlink\" baseProfile=\"full\" height=\"120\" version=\"1.1\" width=\"120\"><defs/><rect fill=\"#c04192\" height=\"77\" rx=\"10\" ry=\"10\" width=\"100%\" x=\"0.0\" y=\"21.5\"/><text alignment-baseline=\"middle\" fill=\"#ffffff\" font-family=\"Arial\" font-size=\"45\" font-weight=\"bold\" text-anchor=\"middle\" x=\"50%\" y=\"53%\">5</text></svg>"
      ],
      "text/plain": [
       "<IPython.core.display.SVG object>"
      ]
     },
     "metadata": {},
     "output_type": "display_data"
    },
    {
     "data": {
      "image/svg+xml": [
       "<svg xmlns=\"http://www.w3.org/2000/svg\" xmlns:ev=\"http://www.w3.org/2001/xml-events\" xmlns:xlink=\"http://www.w3.org/1999/xlink\" baseProfile=\"full\" height=\"120\" version=\"1.1\" width=\"120\"><defs/><rect fill=\"#ff1400\" height=\"77\" rx=\"10\" ry=\"10\" width=\"100%\" x=\"0.0\" y=\"21.5\"/><text alignment-baseline=\"middle\" fill=\"#ffffff\" font-family=\"Arial\" font-size=\"45\" font-weight=\"bold\" text-anchor=\"middle\" x=\"50%\" y=\"53%\">261</text></svg>"
      ],
      "text/plain": [
       "<IPython.core.display.SVG object>"
      ]
     },
     "metadata": {},
     "output_type": "display_data"
    },
    {
     "data": {
      "image/svg+xml": [
       "<svg xmlns=\"http://www.w3.org/2000/svg\" xmlns:ev=\"http://www.w3.org/2001/xml-events\" xmlns:xlink=\"http://www.w3.org/1999/xlink\" baseProfile=\"full\" height=\"120\" version=\"1.1\" width=\"120\"><defs/><rect fill=\"#ffbe00\" height=\"77\" rx=\"10\" ry=\"10\" width=\"100%\" x=\"0.0\" y=\"21.5\"/><text alignment-baseline=\"middle\" fill=\"#000000\" font-family=\"Arial\" font-size=\"45\" font-weight=\"bold\" text-anchor=\"middle\" x=\"50%\" y=\"53%\">559A</text></svg>"
      ],
      "text/plain": [
       "<IPython.core.display.SVG object>"
      ]
     },
     "metadata": {},
     "output_type": "display_data"
    },
    {
     "data": {
      "image/svg+xml": [
       "<svg xmlns=\"http://www.w3.org/2000/svg\" xmlns:ev=\"http://www.w3.org/2001/xml-events\" xmlns:xlink=\"http://www.w3.org/1999/xlink\" baseProfile=\"full\" height=\"120\" version=\"1.1\" width=\"120\"><defs/><rect fill=\"#0055c8\" height=\"77\" rx=\"10\" ry=\"10\" width=\"100%\" x=\"0.0\" y=\"21.5\"/><text alignment-baseline=\"middle\" fill=\"#ffffff\" font-family=\"Arial\" font-size=\"45\" font-weight=\"bold\" text-anchor=\"middle\" x=\"50%\" y=\"53%\">595</text></svg>"
      ],
      "text/plain": [
       "<IPython.core.display.SVG object>"
      ]
     },
     "metadata": {},
     "output_type": "display_data"
    },
    {
     "data": {
      "image/svg+xml": [
       "<svg xmlns=\"http://www.w3.org/2000/svg\" xmlns:ev=\"http://www.w3.org/2001/xml-events\" xmlns:xlink=\"http://www.w3.org/1999/xlink\" baseProfile=\"full\" height=\"120\" version=\"1.1\" width=\"120\"><defs/><rect fill=\"#a0006e\" height=\"77\" rx=\"10\" ry=\"10\" width=\"100%\" x=\"0.0\" y=\"21.5\"/><text alignment-baseline=\"middle\" fill=\"#ffffff\" font-family=\"Arial\" font-size=\"45\" font-weight=\"bold\" text-anchor=\"middle\" x=\"50%\" y=\"53%\">208B</text></svg>"
      ],
      "text/plain": [
       "<IPython.core.display.SVG object>"
      ]
     },
     "metadata": {},
     "output_type": "display_data"
    },
    {
     "data": {
      "image/svg+xml": [
       "<svg xmlns=\"http://www.w3.org/2000/svg\" xmlns:ev=\"http://www.w3.org/2001/xml-events\" xmlns:xlink=\"http://www.w3.org/1999/xlink\" baseProfile=\"full\" height=\"120\" version=\"1.1\" width=\"120\"><defs/><rect fill=\"#a0006e\" height=\"77\" rx=\"10\" ry=\"10\" width=\"100%\" x=\"0.0\" y=\"21.5\"/><text alignment-baseline=\"middle\" fill=\"#ffffff\" font-family=\"Arial\" font-size=\"45\" font-weight=\"bold\" text-anchor=\"middle\" x=\"50%\" y=\"53%\">208S</text></svg>"
      ],
      "text/plain": [
       "<IPython.core.display.SVG object>"
      ]
     },
     "metadata": {},
     "output_type": "display_data"
    },
    {
     "data": {
      "image/svg+xml": [
       "<svg xmlns=\"http://www.w3.org/2000/svg\" xmlns:ev=\"http://www.w3.org/2001/xml-events\" xmlns:xlink=\"http://www.w3.org/1999/xlink\" baseProfile=\"full\" height=\"120\" version=\"1.1\" width=\"120\"><defs/><rect fill=\"#dc9600\" height=\"77\" rx=\"10\" ry=\"10\" width=\"100%\" x=\"0.0\" y=\"21.5\"/><text alignment-baseline=\"middle\" fill=\"#000000\" font-family=\"Arial\" font-size=\"45\" font-weight=\"bold\" text-anchor=\"middle\" x=\"50%\" y=\"53%\">59</text></svg>"
      ],
      "text/plain": [
       "<IPython.core.display.SVG object>"
      ]
     },
     "metadata": {},
     "output_type": "display_data"
    },
    {
     "data": {
      "image/svg+xml": [
       "<svg xmlns=\"http://www.w3.org/2000/svg\" xmlns:ev=\"http://www.w3.org/2001/xml-events\" xmlns:xlink=\"http://www.w3.org/1999/xlink\" baseProfile=\"full\" height=\"120\" version=\"1.1\" width=\"120\"><defs/><rect fill=\"#ff5a00\" height=\"77\" rx=\"10\" ry=\"10\" width=\"100%\" x=\"0.0\" y=\"21.5\"/><text alignment-baseline=\"middle\" fill=\"#000000\" font-family=\"Arial\" font-size=\"45\" font-weight=\"bold\" text-anchor=\"middle\" x=\"50%\" y=\"53%\">559C</text></svg>"
      ],
      "text/plain": [
       "<IPython.core.display.SVG object>"
      ]
     },
     "metadata": {},
     "output_type": "display_data"
    },
    {
     "data": {
      "image/svg+xml": [
       "<svg xmlns=\"http://www.w3.org/2000/svg\" xmlns:ev=\"http://www.w3.org/2001/xml-events\" xmlns:xlink=\"http://www.w3.org/1999/xlink\" baseProfile=\"full\" height=\"120\" version=\"1.1\" width=\"120\"><defs/><rect fill=\"#b1b9df\" height=\"77\" rx=\"10\" ry=\"10\" width=\"100%\" x=\"0.0\" y=\"21.5\"/><text alignment-baseline=\"middle\" fill=\"#000000\" font-family=\"Arial\" font-size=\"45\" font-weight=\"bold\" text-anchor=\"middle\" x=\"50%\" y=\"53%\">460</text></svg>"
      ],
      "text/plain": [
       "<IPython.core.display.SVG object>"
      ]
     },
     "metadata": {},
     "output_type": "display_data"
    },
    {
     "data": {
      "image/svg+xml": [
       "<svg xmlns=\"http://www.w3.org/2000/svg\" xmlns:ev=\"http://www.w3.org/2001/xml-events\" xmlns:xlink=\"http://www.w3.org/1999/xlink\" baseProfile=\"full\" height=\"120\" version=\"1.1\" width=\"120\"><defs/><rect fill=\"#5b3800\" height=\"77\" rx=\"10\" ry=\"10\" width=\"100%\" x=\"0.0\" y=\"21.5\"/><text alignment-baseline=\"middle\" fill=\"#ffffff\" font-family=\"Arial\" font-size=\"45\" font-weight=\"bold\" text-anchor=\"middle\" x=\"50%\" y=\"53%\">10</text></svg>"
      ],
      "text/plain": [
       "<IPython.core.display.SVG object>"
      ]
     },
     "metadata": {},
     "output_type": "display_data"
    },
    {
     "data": {
      "image/svg+xml": [
       "<svg xmlns=\"http://www.w3.org/2000/svg\" xmlns:ev=\"http://www.w3.org/2001/xml-events\" xmlns:xlink=\"http://www.w3.org/1999/xlink\" baseProfile=\"full\" height=\"120\" version=\"1.1\" width=\"120\"><defs/><rect fill=\"#009de0\" height=\"77\" rx=\"10\" ry=\"10\" width=\"100%\" x=\"0.0\" y=\"21.5\"/><text alignment-baseline=\"middle\" fill=\"#000000\" font-family=\"Arial\" font-size=\"45\" font-weight=\"bold\" text-anchor=\"middle\" x=\"50%\" y=\"53%\">N</text></svg>"
      ],
      "text/plain": [
       "<IPython.core.display.SVG object>"
      ]
     },
     "metadata": {},
     "output_type": "display_data"
    },
    {
     "data": {
      "image/svg+xml": [
       "<svg xmlns=\"http://www.w3.org/2000/svg\" xmlns:ev=\"http://www.w3.org/2001/xml-events\" xmlns:xlink=\"http://www.w3.org/1999/xlink\" baseProfile=\"full\" height=\"120\" version=\"1.1\" width=\"120\"><defs/><rect fill=\"#008b5a\" height=\"77\" rx=\"10\" ry=\"10\" width=\"100%\" x=\"0.0\" y=\"21.5\"/><text alignment-baseline=\"middle\" fill=\"#ffffff\" font-family=\"Arial\" font-size=\"45\" font-weight=\"bold\" text-anchor=\"middle\" x=\"50%\" y=\"53%\">N135</text></svg>"
      ],
      "text/plain": [
       "<IPython.core.display.SVG object>"
      ]
     },
     "metadata": {},
     "output_type": "display_data"
    },
    {
     "data": {
      "image/svg+xml": [
       "<svg xmlns=\"http://www.w3.org/2000/svg\" xmlns:ev=\"http://www.w3.org/2001/xml-events\" xmlns:xlink=\"http://www.w3.org/1999/xlink\" baseProfile=\"full\" height=\"120\" version=\"1.1\" width=\"120\"><defs/><rect fill=\"#82dc73\" height=\"77\" rx=\"10\" ry=\"10\" width=\"100%\" x=\"0.0\" y=\"21.5\"/><text alignment-baseline=\"middle\" fill=\"#000000\" font-family=\"Arial\" font-size=\"45\" font-weight=\"bold\" text-anchor=\"middle\" x=\"50%\" y=\"53%\">33</text></svg>"
      ],
      "text/plain": [
       "<IPython.core.display.SVG object>"
      ]
     },
     "metadata": {},
     "output_type": "display_data"
    },
    {
     "data": {
      "image/svg+xml": [
       "<svg xmlns=\"http://www.w3.org/2000/svg\" xmlns:ev=\"http://www.w3.org/2001/xml-events\" xmlns:xlink=\"http://www.w3.org/1999/xlink\" baseProfile=\"full\" height=\"120\" version=\"1.1\" width=\"120\"><defs/><rect fill=\"#f7941d\" height=\"77\" rx=\"10\" ry=\"10\" width=\"100%\" x=\"0.0\" y=\"21.5\"/><text alignment-baseline=\"middle\" fill=\"#000000\" font-family=\"Arial\" font-size=\"45\" font-weight=\"bold\" text-anchor=\"middle\" x=\"50%\" y=\"53%\">483</text></svg>"
      ],
      "text/plain": [
       "<IPython.core.display.SVG object>"
      ]
     },
     "metadata": {},
     "output_type": "display_data"
    },
    {
     "data": {
      "image/svg+xml": [
       "<svg xmlns=\"http://www.w3.org/2000/svg\" xmlns:ev=\"http://www.w3.org/2001/xml-events\" xmlns:xlink=\"http://www.w3.org/1999/xlink\" baseProfile=\"full\" height=\"120\" version=\"1.1\" width=\"120\"><defs/><rect fill=\"#be418e\" height=\"77\" rx=\"10\" ry=\"10\" width=\"100%\" x=\"0.0\" y=\"21.5\"/><text alignment-baseline=\"middle\" fill=\"#ffffff\" font-family=\"Arial\" font-size=\"45\" font-weight=\"bold\" text-anchor=\"middle\" x=\"50%\" y=\"53%\">45</text></svg>"
      ],
      "text/plain": [
       "<IPython.core.display.SVG object>"
      ]
     },
     "metadata": {},
     "output_type": "display_data"
    },
    {
     "data": {
      "image/svg+xml": [
       "<svg xmlns=\"http://www.w3.org/2000/svg\" xmlns:ev=\"http://www.w3.org/2001/xml-events\" xmlns:xlink=\"http://www.w3.org/1999/xlink\" baseProfile=\"full\" height=\"120\" version=\"1.1\" width=\"120\"><defs/><rect fill=\"#daa3c6\" height=\"77\" rx=\"10\" ry=\"10\" width=\"100%\" x=\"0.0\" y=\"21.5\"/><text alignment-baseline=\"middle\" fill=\"#ffffff\" font-family=\"Arial\" font-size=\"45\" font-weight=\"bold\" text-anchor=\"middle\" x=\"50%\" y=\"53%\">22</text></svg>"
      ],
      "text/plain": [
       "<IPython.core.display.SVG object>"
      ]
     },
     "metadata": {},
     "output_type": "display_data"
    },
    {
     "data": {
      "image/svg+xml": [
       "<svg xmlns=\"http://www.w3.org/2000/svg\" xmlns:ev=\"http://www.w3.org/2001/xml-events\" xmlns:xlink=\"http://www.w3.org/1999/xlink\" baseProfile=\"full\" height=\"120\" version=\"1.1\" width=\"120\"><defs/><rect fill=\"#84d3db\" height=\"77\" rx=\"10\" ry=\"10\" width=\"100%\" x=\"0.0\" y=\"21.5\"/><text alignment-baseline=\"middle\" fill=\"#000000\" font-family=\"Arial\" font-size=\"45\" font-weight=\"bold\" text-anchor=\"middle\" x=\"50%\" y=\"53%\">31</text></svg>"
      ],
      "text/plain": [
       "<IPython.core.display.SVG object>"
      ]
     },
     "metadata": {},
     "output_type": "display_data"
    },
    {
     "data": {
      "image/svg+xml": [
       "<svg xmlns=\"http://www.w3.org/2000/svg\" xmlns:ev=\"http://www.w3.org/2001/xml-events\" xmlns:xlink=\"http://www.w3.org/1999/xlink\" baseProfile=\"full\" height=\"120\" version=\"1.1\" width=\"120\"><defs/><rect fill=\"#b1b9df\" height=\"77\" rx=\"10\" ry=\"10\" width=\"100%\" x=\"0.0\" y=\"21.5\"/><text alignment-baseline=\"middle\" fill=\"#000000\" font-family=\"Arial\" font-size=\"45\" font-weight=\"bold\" text-anchor=\"middle\" x=\"50%\" y=\"53%\">459</text></svg>"
      ],
      "text/plain": [
       "<IPython.core.display.SVG object>"
      ]
     },
     "metadata": {},
     "output_type": "display_data"
    },
    {
     "data": {
      "image/svg+xml": [
       "<svg xmlns=\"http://www.w3.org/2000/svg\" xmlns:ev=\"http://www.w3.org/2001/xml-events\" xmlns:xlink=\"http://www.w3.org/1999/xlink\" baseProfile=\"full\" height=\"120\" version=\"1.1\" width=\"120\"><defs/><rect fill=\"#b6d7a8\" height=\"77\" rx=\"10\" ry=\"10\" width=\"100%\" x=\"0.0\" y=\"21.5\"/><text alignment-baseline=\"middle\" fill=\"#ffffff\" font-family=\"Arial\" font-size=\"45\" font-weight=\"bold\" text-anchor=\"middle\" x=\"50%\" y=\"53%\">15</text></svg>"
      ],
      "text/plain": [
       "<IPython.core.display.SVG object>"
      ]
     },
     "metadata": {},
     "output_type": "display_data"
    },
    {
     "data": {
      "image/svg+xml": [
       "<svg xmlns=\"http://www.w3.org/2000/svg\" xmlns:ev=\"http://www.w3.org/2001/xml-events\" xmlns:xlink=\"http://www.w3.org/1999/xlink\" baseProfile=\"full\" height=\"120\" version=\"1.1\" width=\"120\"><defs/><rect fill=\"#ed1c2a\" height=\"77\" rx=\"10\" ry=\"10\" width=\"100%\" x=\"0.0\" y=\"21.5\"/><text alignment-baseline=\"middle\" fill=\"#ffffff\" font-family=\"Arial\" font-size=\"45\" font-weight=\"bold\" text-anchor=\"middle\" x=\"50%\" y=\"53%\">71</text></svg>"
      ],
      "text/plain": [
       "<IPython.core.display.SVG object>"
      ]
     },
     "metadata": {},
     "output_type": "display_data"
    },
    {
     "data": {
      "image/svg+xml": [
       "<svg xmlns=\"http://www.w3.org/2000/svg\" xmlns:ev=\"http://www.w3.org/2001/xml-events\" xmlns:xlink=\"http://www.w3.org/1999/xlink\" baseProfile=\"full\" height=\"120\" version=\"1.1\" width=\"120\"><defs/><rect fill=\"#f28f42\" height=\"77\" rx=\"10\" ry=\"10\" width=\"100%\" x=\"0.0\" y=\"21.5\"/><text alignment-baseline=\"middle\" fill=\"#000000\" font-family=\"Arial\" font-size=\"45\" font-weight=\"bold\" text-anchor=\"middle\" x=\"50%\" y=\"53%\">23</text></svg>"
      ],
      "text/plain": [
       "<IPython.core.display.SVG object>"
      ]
     },
     "metadata": {},
     "output_type": "display_data"
    },
    {
     "data": {
      "image/svg+xml": [
       "<svg xmlns=\"http://www.w3.org/2000/svg\" xmlns:ev=\"http://www.w3.org/2001/xml-events\" xmlns:xlink=\"http://www.w3.org/1999/xlink\" baseProfile=\"full\" height=\"120\" version=\"1.1\" width=\"120\"><defs/><rect fill=\"#f39327\" height=\"77\" rx=\"10\" ry=\"10\" width=\"100%\" x=\"0.0\" y=\"21.5\"/><text alignment-baseline=\"middle\" fill=\"#ffffff\" font-family=\"Arial\" font-size=\"45\" font-weight=\"bold\" text-anchor=\"middle\" x=\"50%\" y=\"53%\">13</text></svg>"
      ],
      "text/plain": [
       "<IPython.core.display.SVG object>"
      ]
     },
     "metadata": {},
     "output_type": "display_data"
    },
    {
     "data": {
      "image/svg+xml": [
       "<svg xmlns=\"http://www.w3.org/2000/svg\" xmlns:ev=\"http://www.w3.org/2001/xml-events\" xmlns:xlink=\"http://www.w3.org/1999/xlink\" baseProfile=\"full\" height=\"120\" version=\"1.1\" width=\"120\"><defs/><rect fill=\"#cec73d\" height=\"77\" rx=\"10\" ry=\"10\" width=\"100%\" x=\"0.0\" y=\"21.5\"/><text alignment-baseline=\"middle\" fill=\"#000000\" font-family=\"Arial\" font-size=\"45\" font-weight=\"bold\" text-anchor=\"middle\" x=\"50%\" y=\"53%\">75</text></svg>"
      ],
      "text/plain": [
       "<IPython.core.display.SVG object>"
      ]
     },
     "metadata": {},
     "output_type": "display_data"
    },
    {
     "data": {
      "image/svg+xml": [
       "<svg xmlns=\"http://www.w3.org/2000/svg\" xmlns:ev=\"http://www.w3.org/2001/xml-events\" xmlns:xlink=\"http://www.w3.org/1999/xlink\" baseProfile=\"full\" height=\"120\" version=\"1.1\" width=\"120\"><defs/><rect fill=\"#ffd966\" height=\"77\" rx=\"10\" ry=\"10\" width=\"100%\" x=\"0.0\" y=\"21.5\"/><text alignment-baseline=\"middle\" fill=\"#ffffff\" font-family=\"Arial\" font-size=\"45\" font-weight=\"bold\" text-anchor=\"middle\" x=\"50%\" y=\"53%\">302</text></svg>"
      ],
      "text/plain": [
       "<IPython.core.display.SVG object>"
      ]
     },
     "metadata": {},
     "output_type": "display_data"
    },
    {
     "data": {
      "image/svg+xml": [
       "<svg xmlns=\"http://www.w3.org/2000/svg\" xmlns:ev=\"http://www.w3.org/2001/xml-events\" xmlns:xlink=\"http://www.w3.org/1999/xlink\" baseProfile=\"full\" height=\"120\" version=\"1.1\" width=\"120\"><defs/><rect fill=\"#f18c04\" height=\"77\" rx=\"10\" ry=\"10\" width=\"100%\" x=\"0.0\" y=\"21.5\"/><text alignment-baseline=\"middle\" fill=\"#000000\" font-family=\"Arial\" font-size=\"45\" font-weight=\"bold\" text-anchor=\"middle\" x=\"50%\" y=\"53%\">41</text></svg>"
      ],
      "text/plain": [
       "<IPython.core.display.SVG object>"
      ]
     },
     "metadata": {},
     "output_type": "display_data"
    },
    {
     "data": {
      "image/svg+xml": [
       "<svg xmlns=\"http://www.w3.org/2000/svg\" xmlns:ev=\"http://www.w3.org/2001/xml-events\" xmlns:xlink=\"http://www.w3.org/1999/xlink\" baseProfile=\"full\" height=\"120\" version=\"1.1\" width=\"120\"><defs/><rect fill=\"#f29503\" height=\"77\" rx=\"10\" ry=\"10\" width=\"100%\" x=\"0.0\" y=\"21.5\"/><text alignment-baseline=\"middle\" fill=\"#000000\" font-family=\"Arial\" font-size=\"45\" font-weight=\"bold\" text-anchor=\"middle\" x=\"50%\" y=\"53%\">5</text></svg>"
      ],
      "text/plain": [
       "<IPython.core.display.SVG object>"
      ]
     },
     "metadata": {},
     "output_type": "display_data"
    },
    {
     "data": {
      "image/svg+xml": [
       "<svg xmlns=\"http://www.w3.org/2000/svg\" xmlns:ev=\"http://www.w3.org/2001/xml-events\" xmlns:xlink=\"http://www.w3.org/1999/xlink\" baseProfile=\"full\" height=\"120\" version=\"1.1\" width=\"120\"><defs/><rect fill=\"#9b993b\" height=\"77\" rx=\"10\" ry=\"10\" width=\"100%\" x=\"0.0\" y=\"21.5\"/><text alignment-baseline=\"middle\" fill=\"#ffffff\" font-family=\"Arial\" font-size=\"45\" font-weight=\"bold\" text-anchor=\"middle\" x=\"50%\" y=\"53%\">5</text></svg>"
      ],
      "text/plain": [
       "<IPython.core.display.SVG object>"
      ]
     },
     "metadata": {},
     "output_type": "display_data"
    },
    {
     "data": {
      "image/svg+xml": [
       "<svg xmlns=\"http://www.w3.org/2000/svg\" xmlns:ev=\"http://www.w3.org/2001/xml-events\" xmlns:xlink=\"http://www.w3.org/1999/xlink\" baseProfile=\"full\" height=\"120\" version=\"1.1\" width=\"120\"><defs/><rect fill=\"#f58f53\" height=\"77\" rx=\"10\" ry=\"10\" width=\"100%\" x=\"0.0\" y=\"21.5\"/><text alignment-baseline=\"middle\" fill=\"#000000\" font-family=\"Arial\" font-size=\"45\" font-weight=\"bold\" text-anchor=\"middle\" x=\"50%\" y=\"53%\">32</text></svg>"
      ],
      "text/plain": [
       "<IPython.core.display.SVG object>"
      ]
     },
     "metadata": {},
     "output_type": "display_data"
    },
    {
     "data": {
      "image/svg+xml": [
       "<svg xmlns=\"http://www.w3.org/2000/svg\" xmlns:ev=\"http://www.w3.org/2001/xml-events\" xmlns:xlink=\"http://www.w3.org/1999/xlink\" baseProfile=\"full\" height=\"120\" version=\"1.1\" width=\"120\"><defs/><rect fill=\"#99d4df\" height=\"77\" rx=\"10\" ry=\"10\" width=\"100%\" x=\"0.0\" y=\"21.5\"/><text alignment-baseline=\"middle\" fill=\"#000000\" font-family=\"Arial\" font-size=\"45\" font-weight=\"bold\" text-anchor=\"middle\" x=\"50%\" y=\"53%\">11</text></svg>"
      ],
      "text/plain": [
       "<IPython.core.display.SVG object>"
      ]
     },
     "metadata": {},
     "output_type": "display_data"
    },
    {
     "data": {
      "image/svg+xml": [
       "<svg xmlns=\"http://www.w3.org/2000/svg\" xmlns:ev=\"http://www.w3.org/2001/xml-events\" xmlns:xlink=\"http://www.w3.org/1999/xlink\" baseProfile=\"full\" height=\"120\" version=\"1.1\" width=\"120\"><defs/><rect fill=\"#004c93\" height=\"77\" rx=\"10\" ry=\"10\" width=\"100%\" x=\"0.0\" y=\"21.5\"/><text alignment-baseline=\"middle\" fill=\"#000000\" font-family=\"Arial\" font-size=\"45\" font-weight=\"bold\" text-anchor=\"middle\" x=\"50%\" y=\"53%\">5</text></svg>"
      ],
      "text/plain": [
       "<IPython.core.display.SVG object>"
      ]
     },
     "metadata": {},
     "output_type": "display_data"
    },
    {
     "data": {
      "image/svg+xml": [
       "<svg xmlns=\"http://www.w3.org/2000/svg\" xmlns:ev=\"http://www.w3.org/2001/xml-events\" xmlns:xlink=\"http://www.w3.org/1999/xlink\" baseProfile=\"full\" height=\"120\" version=\"1.1\" width=\"120\"><defs/><rect fill=\"#ee1d23\" height=\"77\" rx=\"10\" ry=\"10\" width=\"100%\" x=\"0.0\" y=\"21.5\"/><text alignment-baseline=\"middle\" fill=\"#ffffff\" font-family=\"Arial\" font-size=\"45\" font-weight=\"bold\" text-anchor=\"middle\" x=\"50%\" y=\"53%\">12</text></svg>"
      ],
      "text/plain": [
       "<IPython.core.display.SVG object>"
      ]
     },
     "metadata": {},
     "output_type": "display_data"
    },
    {
     "data": {
      "image/svg+xml": [
       "<svg xmlns=\"http://www.w3.org/2000/svg\" xmlns:ev=\"http://www.w3.org/2001/xml-events\" xmlns:xlink=\"http://www.w3.org/1999/xlink\" baseProfile=\"full\" height=\"120\" version=\"1.1\" width=\"120\"><defs/><rect fill=\"#40147f\" height=\"77\" rx=\"10\" ry=\"10\" width=\"100%\" x=\"0.0\" y=\"21.5\"/><text alignment-baseline=\"middle\" fill=\"#ffffff\" font-family=\"Arial\" font-size=\"45\" font-weight=\"bold\" text-anchor=\"middle\" x=\"50%\" y=\"53%\">21</text></svg>"
      ],
      "text/plain": [
       "<IPython.core.display.SVG object>"
      ]
     },
     "metadata": {},
     "output_type": "display_data"
    },
    {
     "data": {
      "image/svg+xml": [
       "<svg xmlns=\"http://www.w3.org/2000/svg\" xmlns:ev=\"http://www.w3.org/2001/xml-events\" xmlns:xlink=\"http://www.w3.org/1999/xlink\" baseProfile=\"full\" height=\"120\" version=\"1.1\" width=\"120\"><defs/><rect fill=\"#ffbe00\" height=\"77\" rx=\"10\" ry=\"10\" width=\"100%\" x=\"0.0\" y=\"21.5\"/><text alignment-baseline=\"middle\" fill=\"#000000\" font-family=\"Arial\" font-size=\"45\" font-weight=\"bold\" text-anchor=\"middle\" x=\"50%\" y=\"53%\">10</text></svg>"
      ],
      "text/plain": [
       "<IPython.core.display.SVG object>"
      ]
     },
     "metadata": {},
     "output_type": "display_data"
    },
    {
     "data": {
      "image/svg+xml": [
       "<svg xmlns=\"http://www.w3.org/2000/svg\" xmlns:ev=\"http://www.w3.org/2001/xml-events\" xmlns:xlink=\"http://www.w3.org/1999/xlink\" baseProfile=\"full\" height=\"120\" version=\"1.1\" width=\"120\"><defs/><rect fill=\"#a88cff\" height=\"77\" rx=\"10\" ry=\"10\" width=\"100%\" x=\"0.0\" y=\"21.5\"/><text alignment-baseline=\"middle\" fill=\"#ffffff\" font-family=\"Arial\" font-size=\"45\" font-weight=\"bold\" text-anchor=\"middle\" x=\"50%\" y=\"53%\">13</text></svg>"
      ],
      "text/plain": [
       "<IPython.core.display.SVG object>"
      ]
     },
     "metadata": {},
     "output_type": "display_data"
    },
    {
     "data": {
      "image/svg+xml": [
       "<svg xmlns=\"http://www.w3.org/2000/svg\" xmlns:ev=\"http://www.w3.org/2001/xml-events\" xmlns:xlink=\"http://www.w3.org/1999/xlink\" baseProfile=\"full\" height=\"120\" version=\"1.1\" width=\"120\"><defs/><rect fill=\"#8e4900\" height=\"77\" rx=\"10\" ry=\"10\" width=\"100%\" x=\"0.0\" y=\"21.5\"/><text alignment-baseline=\"middle\" fill=\"#ffffff\" font-family=\"Arial\" font-size=\"45\" font-weight=\"bold\" text-anchor=\"middle\" x=\"50%\" y=\"53%\">34</text></svg>"
      ],
      "text/plain": [
       "<IPython.core.display.SVG object>"
      ]
     },
     "metadata": {},
     "output_type": "display_data"
    },
    {
     "data": {
      "image/svg+xml": [
       "<svg xmlns=\"http://www.w3.org/2000/svg\" xmlns:ev=\"http://www.w3.org/2001/xml-events\" xmlns:xlink=\"http://www.w3.org/1999/xlink\" baseProfile=\"full\" height=\"120\" version=\"1.1\" width=\"120\"><defs/><rect fill=\"#5a230a\" height=\"77\" rx=\"10\" ry=\"10\" width=\"100%\" x=\"0.0\" y=\"21.5\"/><text alignment-baseline=\"middle\" fill=\"#ffffff\" font-family=\"Arial\" font-size=\"45\" font-weight=\"bold\" text-anchor=\"middle\" x=\"50%\" y=\"53%\">56</text></svg>"
      ],
      "text/plain": [
       "<IPython.core.display.SVG object>"
      ]
     },
     "metadata": {},
     "output_type": "display_data"
    },
    {
     "data": {
      "image/svg+xml": [
       "<svg xmlns=\"http://www.w3.org/2000/svg\" xmlns:ev=\"http://www.w3.org/2001/xml-events\" xmlns:xlink=\"http://www.w3.org/1999/xlink\" baseProfile=\"full\" height=\"120\" version=\"1.1\" width=\"120\"><defs/><rect fill=\"#ee1d23\" height=\"77\" rx=\"10\" ry=\"10\" width=\"100%\" x=\"0.0\" y=\"21.5\"/><text alignment-baseline=\"middle\" fill=\"#ffffff\" font-family=\"Arial\" font-size=\"45\" font-weight=\"bold\" text-anchor=\"middle\" x=\"50%\" y=\"53%\">42</text></svg>"
      ],
      "text/plain": [
       "<IPython.core.display.SVG object>"
      ]
     },
     "metadata": {},
     "output_type": "display_data"
    },
    {
     "data": {
      "image/svg+xml": [
       "<svg xmlns=\"http://www.w3.org/2000/svg\" xmlns:ev=\"http://www.w3.org/2001/xml-events\" xmlns:xlink=\"http://www.w3.org/1999/xlink\" baseProfile=\"full\" height=\"120\" version=\"1.1\" width=\"120\"><defs/><rect fill=\"#5291ce\" height=\"77\" rx=\"10\" ry=\"10\" width=\"100%\" x=\"0.0\" y=\"21.5\"/><text alignment-baseline=\"middle\" fill=\"#ffffff\" font-family=\"Arial\" font-size=\"45\" font-weight=\"bold\" text-anchor=\"middle\" x=\"50%\" y=\"53%\">3</text></svg>"
      ],
      "text/plain": [
       "<IPython.core.display.SVG object>"
      ]
     },
     "metadata": {},
     "output_type": "display_data"
    },
    {
     "data": {
      "image/svg+xml": [
       "<svg xmlns=\"http://www.w3.org/2000/svg\" xmlns:ev=\"http://www.w3.org/2001/xml-events\" xmlns:xlink=\"http://www.w3.org/1999/xlink\" baseProfile=\"full\" height=\"120\" version=\"1.1\" width=\"120\"><defs/><rect fill=\"#8066ff\" height=\"77\" rx=\"10\" ry=\"10\" width=\"100%\" x=\"0.0\" y=\"21.5\"/><text alignment-baseline=\"middle\" fill=\"#000000\" font-family=\"Arial\" font-size=\"45\" font-weight=\"bold\" text-anchor=\"middle\" x=\"50%\" y=\"53%\">7001</text></svg>"
      ],
      "text/plain": [
       "<IPython.core.display.SVG object>"
      ]
     },
     "metadata": {},
     "output_type": "display_data"
    },
    {
     "data": {
      "image/svg+xml": [
       "<svg xmlns=\"http://www.w3.org/2000/svg\" xmlns:ev=\"http://www.w3.org/2001/xml-events\" xmlns:xlink=\"http://www.w3.org/1999/xlink\" baseProfile=\"full\" height=\"120\" version=\"1.1\" width=\"120\"><defs/><rect fill=\"#f9dc00\" height=\"77\" rx=\"10\" ry=\"10\" width=\"100%\" x=\"0.0\" y=\"21.5\"/><text alignment-baseline=\"middle\" fill=\"#000000\" font-family=\"Arial\" font-size=\"45\" font-weight=\"bold\" text-anchor=\"middle\" x=\"50%\" y=\"53%\">1</text></svg>"
      ],
      "text/plain": [
       "<IPython.core.display.SVG object>"
      ]
     },
     "metadata": {},
     "output_type": "display_data"
    },
    {
     "data": {
      "image/svg+xml": [
       "<svg xmlns=\"http://www.w3.org/2000/svg\" xmlns:ev=\"http://www.w3.org/2001/xml-events\" xmlns:xlink=\"http://www.w3.org/1999/xlink\" baseProfile=\"full\" height=\"120\" version=\"1.1\" width=\"120\"><defs/><rect fill=\"#ff8ce3\" height=\"77\" rx=\"10\" ry=\"10\" width=\"100%\" x=\"0.0\" y=\"21.5\"/><text alignment-baseline=\"middle\" fill=\"#000000\" font-family=\"Arial\" font-size=\"45\" font-weight=\"bold\" text-anchor=\"middle\" x=\"50%\" y=\"53%\">9</text></svg>"
      ],
      "text/plain": [
       "<IPython.core.display.SVG object>"
      ]
     },
     "metadata": {},
     "output_type": "display_data"
    },
    {
     "data": {
      "image/svg+xml": [
       "<svg xmlns=\"http://www.w3.org/2000/svg\" xmlns:ev=\"http://www.w3.org/2001/xml-events\" xmlns:xlink=\"http://www.w3.org/1999/xlink\" baseProfile=\"full\" height=\"120\" version=\"1.1\" width=\"120\"><defs/><rect fill=\"#006fb6\" height=\"77\" rx=\"10\" ry=\"10\" width=\"100%\" x=\"0.0\" y=\"21.5\"/><text alignment-baseline=\"middle\" fill=\"#ffffff\" font-family=\"Arial\" font-size=\"45\" font-weight=\"bold\" text-anchor=\"middle\" x=\"50%\" y=\"53%\">16</text></svg>"
      ],
      "text/plain": [
       "<IPython.core.display.SVG object>"
      ]
     },
     "metadata": {},
     "output_type": "display_data"
    },
    {
     "data": {
      "image/svg+xml": [
       "<svg xmlns=\"http://www.w3.org/2000/svg\" xmlns:ev=\"http://www.w3.org/2001/xml-events\" xmlns:xlink=\"http://www.w3.org/1999/xlink\" baseProfile=\"full\" height=\"120\" version=\"1.1\" width=\"120\"><defs/><rect fill=\"#0088c6\" height=\"77\" rx=\"10\" ry=\"10\" width=\"100%\" x=\"0.0\" y=\"21.5\"/><text alignment-baseline=\"middle\" fill=\"#ffffff\" font-family=\"Arial\" font-size=\"45\" font-weight=\"bold\" text-anchor=\"middle\" x=\"50%\" y=\"53%\">405</text></svg>"
      ],
      "text/plain": [
       "<IPython.core.display.SVG object>"
      ]
     },
     "metadata": {},
     "output_type": "display_data"
    },
    {
     "data": {
      "image/svg+xml": [
       "<svg xmlns=\"http://www.w3.org/2000/svg\" xmlns:ev=\"http://www.w3.org/2001/xml-events\" xmlns:xlink=\"http://www.w3.org/1999/xlink\" baseProfile=\"full\" height=\"120\" version=\"1.1\" width=\"120\"><defs/><rect fill=\"#8d653d\" height=\"77\" rx=\"10\" ry=\"10\" width=\"100%\" x=\"0.0\" y=\"21.5\"/><text alignment-baseline=\"middle\" fill=\"#ffffff\" font-family=\"Arial\" font-size=\"45\" font-weight=\"bold\" text-anchor=\"middle\" x=\"50%\" y=\"53%\">88B</text></svg>"
      ],
      "text/plain": [
       "<IPython.core.display.SVG object>"
      ]
     },
     "metadata": {},
     "output_type": "display_data"
    },
    {
     "data": {
      "image/svg+xml": [
       "<svg xmlns=\"http://www.w3.org/2000/svg\" xmlns:ev=\"http://www.w3.org/2001/xml-events\" xmlns:xlink=\"http://www.w3.org/1999/xlink\" baseProfile=\"full\" height=\"120\" version=\"1.1\" width=\"120\"><defs/><rect fill=\"#71351d\" height=\"77\" rx=\"10\" ry=\"10\" width=\"100%\" x=\"0.0\" y=\"21.5\"/><text alignment-baseline=\"middle\" fill=\"#ffffff\" font-family=\"Arial\" font-size=\"45\" font-weight=\"bold\" text-anchor=\"middle\" x=\"50%\" y=\"53%\">415</text></svg>"
      ],
      "text/plain": [
       "<IPython.core.display.SVG object>"
      ]
     },
     "metadata": {},
     "output_type": "display_data"
    },
    {
     "data": {
      "image/svg+xml": [
       "<svg xmlns=\"http://www.w3.org/2000/svg\" xmlns:ev=\"http://www.w3.org/2001/xml-events\" xmlns:xlink=\"http://www.w3.org/1999/xlink\" baseProfile=\"full\" height=\"120\" version=\"1.1\" width=\"120\"><defs/><rect fill=\"#834d48\" height=\"77\" rx=\"10\" ry=\"10\" width=\"100%\" x=\"0.0\" y=\"21.5\"/><text alignment-baseline=\"middle\" fill=\"#ffffff\" font-family=\"Arial\" font-size=\"45\" font-weight=\"bold\" text-anchor=\"middle\" x=\"50%\" y=\"53%\">406</text></svg>"
      ],
      "text/plain": [
       "<IPython.core.display.SVG object>"
      ]
     },
     "metadata": {},
     "output_type": "display_data"
    },
    {
     "data": {
      "image/svg+xml": [
       "<svg xmlns=\"http://www.w3.org/2000/svg\" xmlns:ev=\"http://www.w3.org/2001/xml-events\" xmlns:xlink=\"http://www.w3.org/1999/xlink\" baseProfile=\"full\" height=\"120\" version=\"1.1\" width=\"120\"><defs/><rect fill=\"#e6001b\" height=\"77\" rx=\"10\" ry=\"10\" width=\"100%\" x=\"0.0\" y=\"21.5\"/><text alignment-baseline=\"middle\" fill=\"#ffffff\" font-family=\"Arial\" font-size=\"45\" font-weight=\"bold\" text-anchor=\"middle\" x=\"50%\" y=\"53%\">402</text></svg>"
      ],
      "text/plain": [
       "<IPython.core.display.SVG object>"
      ]
     },
     "metadata": {},
     "output_type": "display_data"
    },
    {
     "data": {
      "image/svg+xml": [
       "<svg xmlns=\"http://www.w3.org/2000/svg\" xmlns:ev=\"http://www.w3.org/2001/xml-events\" xmlns:xlink=\"http://www.w3.org/1999/xlink\" baseProfile=\"full\" height=\"120\" version=\"1.1\" width=\"120\"><defs/><rect fill=\"#0064b0\" height=\"77\" rx=\"10\" ry=\"10\" width=\"100%\" x=\"0.0\" y=\"21.5\"/><text alignment-baseline=\"middle\" fill=\"#ffffff\" font-family=\"Arial\" font-size=\"45\" font-weight=\"bold\" text-anchor=\"middle\" x=\"50%\" y=\"53%\">642</text></svg>"
      ],
      "text/plain": [
       "<IPython.core.display.SVG object>"
      ]
     },
     "metadata": {},
     "output_type": "display_data"
    },
    {
     "data": {
      "image/svg+xml": [
       "<svg xmlns=\"http://www.w3.org/2000/svg\" xmlns:ev=\"http://www.w3.org/2001/xml-events\" xmlns:xlink=\"http://www.w3.org/1999/xlink\" baseProfile=\"full\" height=\"120\" version=\"1.1\" width=\"120\"><defs/><rect fill=\"#4f91cd\" height=\"77\" rx=\"10\" ry=\"10\" width=\"100%\" x=\"0.0\" y=\"21.5\"/><text alignment-baseline=\"middle\" fill=\"#ffffff\" font-family=\"Arial\" font-size=\"45\" font-weight=\"bold\" text-anchor=\"middle\" x=\"50%\" y=\"53%\">24</text></svg>"
      ],
      "text/plain": [
       "<IPython.core.display.SVG object>"
      ]
     },
     "metadata": {},
     "output_type": "display_data"
    },
    {
     "data": {
      "image/svg+xml": [
       "<svg xmlns=\"http://www.w3.org/2000/svg\" xmlns:ev=\"http://www.w3.org/2001/xml-events\" xmlns:xlink=\"http://www.w3.org/1999/xlink\" baseProfile=\"full\" height=\"120\" version=\"1.1\" width=\"120\"><defs/><rect fill=\"#f1e513\" height=\"77\" rx=\"10\" ry=\"10\" width=\"100%\" x=\"0.0\" y=\"21.5\"/><text alignment-baseline=\"middle\" fill=\"#000000\" font-family=\"Arial\" font-size=\"45\" font-weight=\"bold\" text-anchor=\"middle\" x=\"50%\" y=\"53%\">43</text></svg>"
      ],
      "text/plain": [
       "<IPython.core.display.SVG object>"
      ]
     },
     "metadata": {},
     "output_type": "display_data"
    },
    {
     "data": {
      "image/svg+xml": [
       "<svg xmlns=\"http://www.w3.org/2000/svg\" xmlns:ev=\"http://www.w3.org/2001/xml-events\" xmlns:xlink=\"http://www.w3.org/1999/xlink\" baseProfile=\"full\" height=\"120\" version=\"1.1\" width=\"120\"><defs/><rect fill=\"#0076bf\" height=\"77\" rx=\"10\" ry=\"10\" width=\"100%\" x=\"0.0\" y=\"21.5\"/><text alignment-baseline=\"middle\" fill=\"#ffffff\" font-family=\"Arial\" font-size=\"45\" font-weight=\"bold\" text-anchor=\"middle\" x=\"50%\" y=\"53%\">2272</text></svg>"
      ],
      "text/plain": [
       "<IPython.core.display.SVG object>"
      ]
     },
     "metadata": {},
     "output_type": "display_data"
    },
    {
     "data": {
      "image/svg+xml": [
       "<svg xmlns=\"http://www.w3.org/2000/svg\" xmlns:ev=\"http://www.w3.org/2001/xml-events\" xmlns:xlink=\"http://www.w3.org/1999/xlink\" baseProfile=\"full\" height=\"120\" version=\"1.1\" width=\"120\"><defs/><rect fill=\"#6624ff\" height=\"77\" rx=\"10\" ry=\"10\" width=\"100%\" x=\"0.0\" y=\"21.5\"/><text alignment-baseline=\"middle\" fill=\"#ffffff\" font-family=\"Arial\" font-size=\"45\" font-weight=\"bold\" text-anchor=\"middle\" x=\"50%\" y=\"53%\">4316</text></svg>"
      ],
      "text/plain": [
       "<IPython.core.display.SVG object>"
      ]
     },
     "metadata": {},
     "output_type": "display_data"
    },
    {
     "data": {
      "image/svg+xml": [
       "<svg xmlns=\"http://www.w3.org/2000/svg\" xmlns:ev=\"http://www.w3.org/2001/xml-events\" xmlns:xlink=\"http://www.w3.org/1999/xlink\" baseProfile=\"full\" height=\"120\" version=\"1.1\" width=\"120\"><defs/><rect fill=\"#006db8\" height=\"77\" rx=\"10\" ry=\"10\" width=\"100%\" x=\"0.0\" y=\"21.5\"/><text alignment-baseline=\"middle\" fill=\"#000000\" font-family=\"Arial\" font-size=\"45\" font-weight=\"bold\" text-anchor=\"middle\" x=\"50%\" y=\"53%\">53</text></svg>"
      ],
      "text/plain": [
       "<IPython.core.display.SVG object>"
      ]
     },
     "metadata": {},
     "output_type": "display_data"
    },
    {
     "data": {
      "image/svg+xml": [
       "<svg xmlns=\"http://www.w3.org/2000/svg\" xmlns:ev=\"http://www.w3.org/2001/xml-events\" xmlns:xlink=\"http://www.w3.org/1999/xlink\" baseProfile=\"full\" height=\"120\" version=\"1.1\" width=\"120\"><defs/><rect fill=\"#b80c4b\" height=\"77\" rx=\"10\" ry=\"10\" width=\"100%\" x=\"0.0\" y=\"21.5\"/><text alignment-baseline=\"middle\" fill=\"#ffffff\" font-family=\"Arial\" font-size=\"45\" font-weight=\"bold\" text-anchor=\"middle\" x=\"50%\" y=\"53%\">54</text></svg>"
      ],
      "text/plain": [
       "<IPython.core.display.SVG object>"
      ]
     },
     "metadata": {},
     "output_type": "display_data"
    },
    {
     "data": {
      "image/svg+xml": [
       "<svg xmlns=\"http://www.w3.org/2000/svg\" xmlns:ev=\"http://www.w3.org/2001/xml-events\" xmlns:xlink=\"http://www.w3.org/1999/xlink\" baseProfile=\"full\" height=\"120\" version=\"1.1\" width=\"120\"><defs/><rect fill=\"#339966\" height=\"77\" rx=\"10\" ry=\"10\" width=\"100%\" x=\"0.0\" y=\"21.5\"/><text alignment-baseline=\"middle\" fill=\"#ffffff\" font-family=\"Arial\" font-size=\"45\" font-weight=\"bold\" text-anchor=\"middle\" x=\"50%\" y=\"53%\">30</text></svg>"
      ],
      "text/plain": [
       "<IPython.core.display.SVG object>"
      ]
     },
     "metadata": {},
     "output_type": "display_data"
    },
    {
     "data": {
      "image/svg+xml": [
       "<svg xmlns=\"http://www.w3.org/2000/svg\" xmlns:ev=\"http://www.w3.org/2001/xml-events\" xmlns:xlink=\"http://www.w3.org/1999/xlink\" baseProfile=\"full\" height=\"120\" version=\"1.1\" width=\"120\"><defs/><rect fill=\"#009ee0\" height=\"77\" rx=\"10\" ry=\"10\" width=\"100%\" x=\"0.0\" y=\"21.5\"/><text alignment-baseline=\"middle\" fill=\"#ffffff\" font-family=\"Arial\" font-size=\"45\" font-weight=\"bold\" text-anchor=\"middle\" x=\"50%\" y=\"53%\">4308</text></svg>"
      ],
      "text/plain": [
       "<IPython.core.display.SVG object>"
      ]
     },
     "metadata": {},
     "output_type": "display_data"
    },
    {
     "data": {
      "image/svg+xml": [
       "<svg xmlns=\"http://www.w3.org/2000/svg\" xmlns:ev=\"http://www.w3.org/2001/xml-events\" xmlns:xlink=\"http://www.w3.org/1999/xlink\" baseProfile=\"full\" height=\"120\" version=\"1.1\" width=\"120\"><defs/><rect fill=\"#93c47d\" height=\"77\" rx=\"10\" ry=\"10\" width=\"100%\" x=\"0.0\" y=\"21.5\"/><text alignment-baseline=\"middle\" fill=\"#ffffff\" font-family=\"Arial\" font-size=\"45\" font-weight=\"bold\" text-anchor=\"middle\" x=\"50%\" y=\"53%\">81</text></svg>"
      ],
      "text/plain": [
       "<IPython.core.display.SVG object>"
      ]
     },
     "metadata": {},
     "output_type": "display_data"
    },
    {
     "data": {
      "image/svg+xml": [
       "<svg xmlns=\"http://www.w3.org/2000/svg\" xmlns:ev=\"http://www.w3.org/2001/xml-events\" xmlns:xlink=\"http://www.w3.org/1999/xlink\" baseProfile=\"full\" height=\"120\" version=\"1.1\" width=\"120\"><defs/><rect fill=\"#8a5d99\" height=\"77\" rx=\"10\" ry=\"10\" width=\"100%\" x=\"0.0\" y=\"21.5\"/><text alignment-baseline=\"middle\" fill=\"#ffffff\" font-family=\"Arial\" font-size=\"45\" font-weight=\"bold\" text-anchor=\"middle\" x=\"50%\" y=\"53%\">6</text></svg>"
      ],
      "text/plain": [
       "<IPython.core.display.SVG object>"
      ]
     },
     "metadata": {},
     "output_type": "display_data"
    },
    {
     "data": {
      "image/svg+xml": [
       "<svg xmlns=\"http://www.w3.org/2000/svg\" xmlns:ev=\"http://www.w3.org/2001/xml-events\" xmlns:xlink=\"http://www.w3.org/1999/xlink\" baseProfile=\"full\" height=\"120\" version=\"1.1\" width=\"120\"><defs/><rect fill=\"#ed1c2a\" height=\"77\" rx=\"10\" ry=\"10\" width=\"100%\" x=\"0.0\" y=\"21.5\"/><text alignment-baseline=\"middle\" fill=\"#ffffff\" font-family=\"Arial\" font-size=\"45\" font-weight=\"bold\" text-anchor=\"middle\" x=\"50%\" y=\"53%\">1</text></svg>"
      ],
      "text/plain": [
       "<IPython.core.display.SVG object>"
      ]
     },
     "metadata": {},
     "output_type": "display_data"
    },
    {
     "data": {
      "image/svg+xml": [
       "<svg xmlns=\"http://www.w3.org/2000/svg\" xmlns:ev=\"http://www.w3.org/2001/xml-events\" xmlns:xlink=\"http://www.w3.org/1999/xlink\" baseProfile=\"full\" height=\"120\" version=\"1.1\" width=\"120\"><defs/><rect fill=\"#f59eb3\" height=\"77\" rx=\"10\" ry=\"10\" width=\"100%\" x=\"0.0\" y=\"21.5\"/><text alignment-baseline=\"middle\" fill=\"#000000\" font-family=\"Arial\" font-size=\"45\" font-weight=\"bold\" text-anchor=\"middle\" x=\"50%\" y=\"53%\">55</text></svg>"
      ],
      "text/plain": [
       "<IPython.core.display.SVG object>"
      ]
     },
     "metadata": {},
     "output_type": "display_data"
    },
    {
     "data": {
      "image/svg+xml": [
       "<svg xmlns=\"http://www.w3.org/2000/svg\" xmlns:ev=\"http://www.w3.org/2001/xml-events\" xmlns:xlink=\"http://www.w3.org/1999/xlink\" baseProfile=\"full\" height=\"120\" version=\"1.1\" width=\"120\"><defs/><rect fill=\"#79ac2b\" height=\"77\" rx=\"10\" ry=\"10\" width=\"100%\" x=\"0.0\" y=\"21.5\"/><text alignment-baseline=\"middle\" fill=\"#ffffff\" font-family=\"Arial\" font-size=\"45\" font-weight=\"bold\" text-anchor=\"middle\" x=\"50%\" y=\"53%\">419</text></svg>"
      ],
      "text/plain": [
       "<IPython.core.display.SVG object>"
      ]
     },
     "metadata": {},
     "output_type": "display_data"
    },
    {
     "data": {
      "image/svg+xml": [
       "<svg xmlns=\"http://www.w3.org/2000/svg\" xmlns:ev=\"http://www.w3.org/2001/xml-events\" xmlns:xlink=\"http://www.w3.org/1999/xlink\" baseProfile=\"full\" height=\"120\" version=\"1.1\" width=\"120\"><defs/><rect fill=\"#0064b0\" height=\"77\" rx=\"10\" ry=\"10\" width=\"100%\" x=\"0.0\" y=\"21.5\"/><text alignment-baseline=\"middle\" fill=\"#ffffff\" font-family=\"Arial\" font-size=\"45\" font-weight=\"bold\" text-anchor=\"middle\" x=\"50%\" y=\"53%\">15</text></svg>"
      ],
      "text/plain": [
       "<IPython.core.display.SVG object>"
      ]
     },
     "metadata": {},
     "output_type": "display_data"
    },
    {
     "data": {
      "image/svg+xml": [
       "<svg xmlns=\"http://www.w3.org/2000/svg\" xmlns:ev=\"http://www.w3.org/2001/xml-events\" xmlns:xlink=\"http://www.w3.org/1999/xlink\" baseProfile=\"full\" height=\"120\" version=\"1.1\" width=\"120\"><defs/><rect fill=\"#8d5e24\" height=\"77\" rx=\"10\" ry=\"10\" width=\"100%\" x=\"0.0\" y=\"21.5\"/><text alignment-baseline=\"middle\" fill=\"#ffffff\" font-family=\"Arial\" font-size=\"45\" font-weight=\"bold\" text-anchor=\"middle\" x=\"50%\" y=\"53%\">603</text></svg>"
      ],
      "text/plain": [
       "<IPython.core.display.SVG object>"
      ]
     },
     "metadata": {},
     "output_type": "display_data"
    },
    {
     "data": {
      "image/svg+xml": [
       "<svg xmlns=\"http://www.w3.org/2000/svg\" xmlns:ev=\"http://www.w3.org/2001/xml-events\" xmlns:xlink=\"http://www.w3.org/1999/xlink\" baseProfile=\"full\" height=\"120\" version=\"1.1\" width=\"120\"><defs/><rect fill=\"#ffcc30\" height=\"77\" rx=\"10\" ry=\"10\" width=\"100%\" x=\"0.0\" y=\"21.5\"/><text alignment-baseline=\"middle\" fill=\"#000000\" font-family=\"Arial\" font-size=\"45\" font-weight=\"bold\" text-anchor=\"middle\" x=\"50%\" y=\"53%\">87</text></svg>"
      ],
      "text/plain": [
       "<IPython.core.display.SVG object>"
      ]
     },
     "metadata": {},
     "output_type": "display_data"
    },
    {
     "data": {
      "image/svg+xml": [
       "<svg xmlns=\"http://www.w3.org/2000/svg\" xmlns:ev=\"http://www.w3.org/2001/xml-events\" xmlns:xlink=\"http://www.w3.org/1999/xlink\" baseProfile=\"full\" height=\"120\" version=\"1.1\" width=\"120\"><defs/><rect fill=\"#f49fb3\" height=\"77\" rx=\"10\" ry=\"10\" width=\"100%\" x=\"0.0\" y=\"21.5\"/><text alignment-baseline=\"middle\" fill=\"#000000\" font-family=\"Arial\" font-size=\"45\" font-weight=\"bold\" text-anchor=\"middle\" x=\"50%\" y=\"53%\">76</text></svg>"
      ],
      "text/plain": [
       "<IPython.core.display.SVG object>"
      ]
     },
     "metadata": {},
     "output_type": "display_data"
    },
    {
     "data": {
      "image/svg+xml": [
       "<svg xmlns=\"http://www.w3.org/2000/svg\" xmlns:ev=\"http://www.w3.org/2001/xml-events\" xmlns:xlink=\"http://www.w3.org/1999/xlink\" baseProfile=\"full\" height=\"120\" version=\"1.1\" width=\"120\"><defs/><rect fill=\"#00b297\" height=\"77\" rx=\"10\" ry=\"10\" width=\"100%\" x=\"0.0\" y=\"21.5\"/><text alignment-baseline=\"middle\" fill=\"#ffffff\" font-family=\"Arial\" font-size=\"45\" font-weight=\"bold\" text-anchor=\"middle\" x=\"50%\" y=\"53%\">52</text></svg>"
      ],
      "text/plain": [
       "<IPython.core.display.SVG object>"
      ]
     },
     "metadata": {},
     "output_type": "display_data"
    },
    {
     "data": {
      "image/svg+xml": [
       "<svg xmlns=\"http://www.w3.org/2000/svg\" xmlns:ev=\"http://www.w3.org/2001/xml-events\" xmlns:xlink=\"http://www.w3.org/1999/xlink\" baseProfile=\"full\" height=\"120\" version=\"1.1\" width=\"120\"><defs/><rect fill=\"#65318f\" height=\"77\" rx=\"10\" ry=\"10\" width=\"100%\" x=\"0.0\" y=\"21.5\"/><text alignment-baseline=\"middle\" fill=\"#ffffff\" font-family=\"Arial\" font-size=\"45\" font-weight=\"bold\" text-anchor=\"middle\" x=\"50%\" y=\"53%\">72</text></svg>"
      ],
      "text/plain": [
       "<IPython.core.display.SVG object>"
      ]
     },
     "metadata": {},
     "output_type": "display_data"
    },
    {
     "data": {
      "image/svg+xml": [
       "<svg xmlns=\"http://www.w3.org/2000/svg\" xmlns:ev=\"http://www.w3.org/2001/xml-events\" xmlns:xlink=\"http://www.w3.org/1999/xlink\" baseProfile=\"full\" height=\"120\" version=\"1.1\" width=\"120\"><defs/><rect fill=\"#ffcc30\" height=\"77\" rx=\"10\" ry=\"10\" width=\"100%\" x=\"0.0\" y=\"21.5\"/><text alignment-baseline=\"middle\" fill=\"#000000\" font-family=\"Arial\" font-size=\"45\" font-weight=\"bold\" text-anchor=\"middle\" x=\"50%\" y=\"53%\">73</text></svg>"
      ],
      "text/plain": [
       "<IPython.core.display.SVG object>"
      ]
     },
     "metadata": {},
     "output_type": "display_data"
    },
    {
     "data": {
      "image/svg+xml": [
       "<svg xmlns=\"http://www.w3.org/2000/svg\" xmlns:ev=\"http://www.w3.org/2001/xml-events\" xmlns:xlink=\"http://www.w3.org/1999/xlink\" baseProfile=\"full\" height=\"120\" version=\"1.1\" width=\"120\"><defs/><rect fill=\"#b6134c\" height=\"77\" rx=\"10\" ry=\"10\" width=\"100%\" x=\"0.0\" y=\"21.5\"/><text alignment-baseline=\"middle\" fill=\"#ffffff\" font-family=\"Arial\" font-size=\"45\" font-weight=\"bold\" text-anchor=\"middle\" x=\"50%\" y=\"53%\">71</text></svg>"
      ],
      "text/plain": [
       "<IPython.core.display.SVG object>"
      ]
     },
     "metadata": {},
     "output_type": "display_data"
    },
    {
     "data": {
      "image/svg+xml": [
       "<svg xmlns=\"http://www.w3.org/2000/svg\" xmlns:ev=\"http://www.w3.org/2001/xml-events\" xmlns:xlink=\"http://www.w3.org/1999/xlink\" baseProfile=\"full\" height=\"120\" version=\"1.1\" width=\"120\"><defs/><rect fill=\"#eb2132\" height=\"77\" rx=\"10\" ry=\"10\" width=\"100%\" x=\"0.0\" y=\"21.5\"/><text alignment-baseline=\"middle\" fill=\"#ffffff\" font-family=\"Arial\" font-size=\"45\" font-weight=\"bold\" text-anchor=\"middle\" x=\"50%\" y=\"53%\">91</text></svg>"
      ],
      "text/plain": [
       "<IPython.core.display.SVG object>"
      ]
     },
     "metadata": {},
     "output_type": "display_data"
    },
    {
     "data": {
      "image/svg+xml": [
       "<svg xmlns=\"http://www.w3.org/2000/svg\" xmlns:ev=\"http://www.w3.org/2001/xml-events\" xmlns:xlink=\"http://www.w3.org/1999/xlink\" baseProfile=\"full\" height=\"120\" version=\"1.1\" width=\"120\"><defs/><rect fill=\"#ffcd03\" height=\"77\" rx=\"10\" ry=\"10\" width=\"100%\" x=\"0.0\" y=\"21.5\"/><text alignment-baseline=\"middle\" fill=\"#000000\" font-family=\"Arial\" font-size=\"45\" font-weight=\"bold\" text-anchor=\"middle\" x=\"50%\" y=\"53%\">43</text></svg>"
      ],
      "text/plain": [
       "<IPython.core.display.SVG object>"
      ]
     },
     "metadata": {},
     "output_type": "display_data"
    },
    {
     "data": {
      "image/svg+xml": [
       "<svg xmlns=\"http://www.w3.org/2000/svg\" xmlns:ev=\"http://www.w3.org/2001/xml-events\" xmlns:xlink=\"http://www.w3.org/1999/xlink\" baseProfile=\"full\" height=\"120\" version=\"1.1\" width=\"120\"><defs/><rect fill=\"#777677\" height=\"77\" rx=\"10\" ry=\"10\" width=\"100%\" x=\"0.0\" y=\"21.5\"/><text alignment-baseline=\"middle\" fill=\"#ffffff\" font-family=\"Arial\" font-size=\"45\" font-weight=\"bold\" text-anchor=\"middle\" x=\"50%\" y=\"53%\">510</text></svg>"
      ],
      "text/plain": [
       "<IPython.core.display.SVG object>"
      ]
     },
     "metadata": {},
     "output_type": "display_data"
    },
    {
     "data": {
      "image/svg+xml": [
       "<svg xmlns=\"http://www.w3.org/2000/svg\" xmlns:ev=\"http://www.w3.org/2001/xml-events\" xmlns:xlink=\"http://www.w3.org/1999/xlink\" baseProfile=\"full\" height=\"120\" version=\"1.1\" width=\"120\"><defs/><rect fill=\"#f78f4b\" height=\"77\" rx=\"10\" ry=\"10\" width=\"100%\" x=\"0.0\" y=\"21.5\"/><text alignment-baseline=\"middle\" fill=\"#000000\" font-family=\"Arial\" font-size=\"45\" font-weight=\"bold\" text-anchor=\"middle\" x=\"50%\" y=\"53%\">57</text></svg>"
      ],
      "text/plain": [
       "<IPython.core.display.SVG object>"
      ]
     },
     "metadata": {},
     "output_type": "display_data"
    },
    {
     "data": {
      "image/svg+xml": [
       "<svg xmlns=\"http://www.w3.org/2000/svg\" xmlns:ev=\"http://www.w3.org/2001/xml-events\" xmlns:xlink=\"http://www.w3.org/1999/xlink\" baseProfile=\"full\" height=\"120\" version=\"1.1\" width=\"120\"><defs/><rect fill=\"#ffdd00\" height=\"77\" rx=\"10\" ry=\"10\" width=\"100%\" x=\"0.0\" y=\"21.5\"/><text alignment-baseline=\"middle\" fill=\"#000000\" font-family=\"Arial\" font-size=\"45\" font-weight=\"bold\" text-anchor=\"middle\" x=\"50%\" y=\"53%\">413</text></svg>"
      ],
      "text/plain": [
       "<IPython.core.display.SVG object>"
      ]
     },
     "metadata": {},
     "output_type": "display_data"
    },
    {
     "data": {
      "image/svg+xml": [
       "<svg xmlns=\"http://www.w3.org/2000/svg\" xmlns:ev=\"http://www.w3.org/2001/xml-events\" xmlns:xlink=\"http://www.w3.org/1999/xlink\" baseProfile=\"full\" height=\"120\" version=\"1.1\" width=\"120\"><defs/><rect fill=\"#f3a9ba\" height=\"77\" rx=\"10\" ry=\"10\" width=\"100%\" x=\"0.0\" y=\"21.5\"/><text alignment-baseline=\"middle\" fill=\"#000000\" font-family=\"Arial\" font-size=\"45\" font-weight=\"bold\" text-anchor=\"middle\" x=\"50%\" y=\"53%\">118</text></svg>"
      ],
      "text/plain": [
       "<IPython.core.display.SVG object>"
      ]
     },
     "metadata": {},
     "output_type": "display_data"
    },
    {
     "data": {
      "image/svg+xml": [
       "<svg xmlns=\"http://www.w3.org/2000/svg\" xmlns:ev=\"http://www.w3.org/2001/xml-events\" xmlns:xlink=\"http://www.w3.org/1999/xlink\" baseProfile=\"full\" height=\"120\" version=\"1.1\" width=\"120\"><defs/><rect fill=\"#f3bd04\" height=\"77\" rx=\"10\" ry=\"10\" width=\"100%\" x=\"0.0\" y=\"21.5\"/><text alignment-baseline=\"middle\" fill=\"#000000\" font-family=\"Arial\" font-size=\"45\" font-weight=\"bold\" text-anchor=\"middle\" x=\"50%\" y=\"53%\">61A</text></svg>"
      ],
      "text/plain": [
       "<IPython.core.display.SVG object>"
      ]
     },
     "metadata": {},
     "output_type": "display_data"
    },
    {
     "data": {
      "image/svg+xml": [
       "<svg xmlns=\"http://www.w3.org/2000/svg\" xmlns:ev=\"http://www.w3.org/2001/xml-events\" xmlns:xlink=\"http://www.w3.org/1999/xlink\" baseProfile=\"full\" height=\"120\" version=\"1.1\" width=\"120\"><defs/><rect fill=\"#f78f4b\" height=\"77\" rx=\"10\" ry=\"10\" width=\"100%\" x=\"0.0\" y=\"21.5\"/><text alignment-baseline=\"middle\" fill=\"#000000\" font-family=\"Arial\" font-size=\"45\" font-weight=\"bold\" text-anchor=\"middle\" x=\"50%\" y=\"53%\">63</text></svg>"
      ],
      "text/plain": [
       "<IPython.core.display.SVG object>"
      ]
     },
     "metadata": {},
     "output_type": "display_data"
    },
    {
     "data": {
      "image/svg+xml": [
       "<svg xmlns=\"http://www.w3.org/2000/svg\" xmlns:ev=\"http://www.w3.org/2001/xml-events\" xmlns:xlink=\"http://www.w3.org/1999/xlink\" baseProfile=\"full\" height=\"120\" version=\"1.1\" width=\"120\"><defs/><rect fill=\"#ffbe00\" height=\"77\" rx=\"10\" ry=\"10\" width=\"100%\" x=\"0.0\" y=\"21.5\"/><text alignment-baseline=\"middle\" fill=\"#000000\" font-family=\"Arial\" font-size=\"45\" font-weight=\"bold\" text-anchor=\"middle\" x=\"50%\" y=\"53%\">5</text></svg>"
      ],
      "text/plain": [
       "<IPython.core.display.SVG object>"
      ]
     },
     "metadata": {},
     "output_type": "display_data"
    },
    {
     "data": {
      "image/svg+xml": [
       "<svg xmlns=\"http://www.w3.org/2000/svg\" xmlns:ev=\"http://www.w3.org/2001/xml-events\" xmlns:xlink=\"http://www.w3.org/1999/xlink\" baseProfile=\"full\" height=\"120\" version=\"1.1\" width=\"120\"><defs/><rect fill=\"#0055c8\" height=\"77\" rx=\"10\" ry=\"10\" width=\"100%\" x=\"0.0\" y=\"21.5\"/><text alignment-baseline=\"middle\" fill=\"#ffffff\" font-family=\"Arial\" font-size=\"45\" font-weight=\"bold\" text-anchor=\"middle\" x=\"50%\" y=\"53%\">18</text></svg>"
      ],
      "text/plain": [
       "<IPython.core.display.SVG object>"
      ]
     },
     "metadata": {},
     "output_type": "display_data"
    },
    {
     "data": {
      "image/svg+xml": [
       "<svg xmlns=\"http://www.w3.org/2000/svg\" xmlns:ev=\"http://www.w3.org/2001/xml-events\" xmlns:xlink=\"http://www.w3.org/1999/xlink\" baseProfile=\"full\" height=\"120\" version=\"1.1\" width=\"120\"><defs/><rect fill=\"#ffbe00\" height=\"77\" rx=\"10\" ry=\"10\" width=\"100%\" x=\"0.0\" y=\"21.5\"/><text alignment-baseline=\"middle\" fill=\"#000000\" font-family=\"Arial\" font-size=\"45\" font-weight=\"bold\" text-anchor=\"middle\" x=\"50%\" y=\"53%\">17</text></svg>"
      ],
      "text/plain": [
       "<IPython.core.display.SVG object>"
      ]
     },
     "metadata": {},
     "output_type": "display_data"
    },
    {
     "data": {
      "image/svg+xml": [
       "<svg xmlns=\"http://www.w3.org/2000/svg\" xmlns:ev=\"http://www.w3.org/2001/xml-events\" xmlns:xlink=\"http://www.w3.org/1999/xlink\" baseProfile=\"full\" height=\"120\" version=\"1.1\" width=\"120\"><defs/><rect fill=\"#82dc73\" height=\"77\" rx=\"10\" ry=\"10\" width=\"100%\" x=\"0.0\" y=\"21.5\"/><text alignment-baseline=\"middle\" fill=\"#000000\" font-family=\"Arial\" font-size=\"45\" font-weight=\"bold\" text-anchor=\"middle\" x=\"50%\" y=\"53%\">4</text></svg>"
      ],
      "text/plain": [
       "<IPython.core.display.SVG object>"
      ]
     },
     "metadata": {},
     "output_type": "display_data"
    },
    {
     "data": {
      "image/svg+xml": [
       "<svg xmlns=\"http://www.w3.org/2000/svg\" xmlns:ev=\"http://www.w3.org/2001/xml-events\" xmlns:xlink=\"http://www.w3.org/1999/xlink\" baseProfile=\"full\" height=\"120\" version=\"1.1\" width=\"120\"><defs/><rect fill=\"#c04192\" height=\"77\" rx=\"10\" ry=\"10\" width=\"100%\" x=\"0.0\" y=\"21.5\"/><text alignment-baseline=\"middle\" fill=\"#ffffff\" font-family=\"Arial\" font-size=\"45\" font-weight=\"bold\" text-anchor=\"middle\" x=\"50%\" y=\"53%\">17</text></svg>"
      ],
      "text/plain": [
       "<IPython.core.display.SVG object>"
      ]
     },
     "metadata": {},
     "output_type": "display_data"
    },
    {
     "data": {
      "image/svg+xml": [
       "<svg xmlns=\"http://www.w3.org/2000/svg\" xmlns:ev=\"http://www.w3.org/2001/xml-events\" xmlns:xlink=\"http://www.w3.org/1999/xlink\" baseProfile=\"full\" height=\"120\" version=\"1.1\" width=\"120\"><defs/><rect fill=\"#c04192\" height=\"77\" rx=\"10\" ry=\"10\" width=\"100%\" x=\"0.0\" y=\"21.5\"/><text alignment-baseline=\"middle\" fill=\"#ffffff\" font-family=\"Arial\" font-size=\"45\" font-weight=\"bold\" text-anchor=\"middle\" x=\"50%\" y=\"53%\">28C</text></svg>"
      ],
      "text/plain": [
       "<IPython.core.display.SVG object>"
      ]
     },
     "metadata": {},
     "output_type": "display_data"
    },
    {
     "data": {
      "image/svg+xml": [
       "<svg xmlns=\"http://www.w3.org/2000/svg\" xmlns:ev=\"http://www.w3.org/2001/xml-events\" xmlns:xlink=\"http://www.w3.org/1999/xlink\" baseProfile=\"full\" height=\"120\" version=\"1.1\" width=\"120\"><defs/><rect fill=\"#d4ca00\" height=\"77\" rx=\"10\" ry=\"10\" width=\"100%\" x=\"0.0\" y=\"21.5\"/><text alignment-baseline=\"middle\" fill=\"#000000\" font-family=\"Arial\" font-size=\"45\" font-weight=\"bold\" text-anchor=\"middle\" x=\"50%\" y=\"53%\">35D</text></svg>"
      ],
      "text/plain": [
       "<IPython.core.display.SVG object>"
      ]
     },
     "metadata": {},
     "output_type": "display_data"
    },
    {
     "data": {
      "image/svg+xml": [
       "<svg xmlns=\"http://www.w3.org/2000/svg\" xmlns:ev=\"http://www.w3.org/2001/xml-events\" xmlns:xlink=\"http://www.w3.org/1999/xlink\" baseProfile=\"full\" height=\"120\" version=\"1.1\" width=\"120\"><defs/><rect fill=\"#f3a4ba\" height=\"77\" rx=\"10\" ry=\"10\" width=\"100%\" x=\"0.0\" y=\"21.5\"/><text alignment-baseline=\"middle\" fill=\"#000000\" font-family=\"Arial\" font-size=\"45\" font-weight=\"bold\" text-anchor=\"middle\" x=\"50%\" y=\"53%\">637</text></svg>"
      ],
      "text/plain": [
       "<IPython.core.display.SVG object>"
      ]
     },
     "metadata": {},
     "output_type": "display_data"
    },
    {
     "data": {
      "image/svg+xml": [
       "<svg xmlns=\"http://www.w3.org/2000/svg\" xmlns:ev=\"http://www.w3.org/2001/xml-events\" xmlns:xlink=\"http://www.w3.org/1999/xlink\" baseProfile=\"full\" height=\"120\" version=\"1.1\" width=\"120\"><defs/><rect fill=\"#bb4b9b\" height=\"77\" rx=\"10\" ry=\"10\" width=\"100%\" x=\"0.0\" y=\"21.5\"/><text alignment-baseline=\"middle\" fill=\"#ffffff\" font-family=\"Arial\" font-size=\"45\" font-weight=\"bold\" text-anchor=\"middle\" x=\"50%\" y=\"53%\">18</text></svg>"
      ],
      "text/plain": [
       "<IPython.core.display.SVG object>"
      ]
     },
     "metadata": {},
     "output_type": "display_data"
    },
    {
     "data": {
      "image/svg+xml": [
       "<svg xmlns=\"http://www.w3.org/2000/svg\" xmlns:ev=\"http://www.w3.org/2001/xml-events\" xmlns:xlink=\"http://www.w3.org/1999/xlink\" baseProfile=\"full\" height=\"120\" version=\"1.1\" width=\"120\"><defs/><rect fill=\"#cec92b\" height=\"77\" rx=\"10\" ry=\"10\" width=\"100%\" x=\"0.0\" y=\"21.5\"/><text alignment-baseline=\"middle\" fill=\"#000000\" font-family=\"Arial\" font-size=\"45\" font-weight=\"bold\" text-anchor=\"middle\" x=\"50%\" y=\"53%\">64</text></svg>"
      ],
      "text/plain": [
       "<IPython.core.display.SVG object>"
      ]
     },
     "metadata": {},
     "output_type": "display_data"
    },
    {
     "data": {
      "image/svg+xml": [
       "<svg xmlns=\"http://www.w3.org/2000/svg\" xmlns:ev=\"http://www.w3.org/2001/xml-events\" xmlns:xlink=\"http://www.w3.org/1999/xlink\" baseProfile=\"full\" height=\"120\" version=\"1.1\" width=\"120\"><defs/><rect fill=\"#662d91\" height=\"77\" rx=\"10\" ry=\"10\" width=\"100%\" x=\"0.0\" y=\"21.5\"/><text alignment-baseline=\"middle\" fill=\"#ffffff\" font-family=\"Arial\" font-size=\"45\" font-weight=\"bold\" text-anchor=\"middle\" x=\"50%\" y=\"53%\">32</text></svg>"
      ],
      "text/plain": [
       "<IPython.core.display.SVG object>"
      ]
     },
     "metadata": {},
     "output_type": "display_data"
    },
    {
     "data": {
      "image/svg+xml": [
       "<svg xmlns=\"http://www.w3.org/2000/svg\" xmlns:ev=\"http://www.w3.org/2001/xml-events\" xmlns:xlink=\"http://www.w3.org/1999/xlink\" baseProfile=\"full\" height=\"120\" version=\"1.1\" width=\"120\"><defs/><rect fill=\"#feca2a\" height=\"77\" rx=\"10\" ry=\"10\" width=\"100%\" x=\"0.0\" y=\"21.5\"/><text alignment-baseline=\"middle\" fill=\"#000000\" font-family=\"Arial\" font-size=\"45\" font-weight=\"bold\" text-anchor=\"middle\" x=\"50%\" y=\"53%\">12</text></svg>"
      ],
      "text/plain": [
       "<IPython.core.display.SVG object>"
      ]
     },
     "metadata": {},
     "output_type": "display_data"
    },
    {
     "data": {
      "image/svg+xml": [
       "<svg xmlns=\"http://www.w3.org/2000/svg\" xmlns:ev=\"http://www.w3.org/2001/xml-events\" xmlns:xlink=\"http://www.w3.org/1999/xlink\" baseProfile=\"full\" height=\"120\" version=\"1.1\" width=\"120\"><defs/><rect fill=\"#c4a4cc\" height=\"77\" rx=\"10\" ry=\"10\" width=\"100%\" x=\"0.0\" y=\"21.5\"/><text alignment-baseline=\"middle\" fill=\"#000000\" font-family=\"Arial\" font-size=\"45\" font-weight=\"bold\" text-anchor=\"middle\" x=\"50%\" y=\"53%\">14</text></svg>"
      ],
      "text/plain": [
       "<IPython.core.display.SVG object>"
      ]
     },
     "metadata": {},
     "output_type": "display_data"
    }
   ],
   "source": [
    "import json\n",
    "import matplotlib.pyplot as plt\n",
    "import svgwrite\n",
    "from IPython.display import SVG, display\n",
    "\n",
    "# Load the JSON data from a file\n",
    "with open(\"C:\\\\Users\\\\T\\\\Downloads\\\\referentiel-des-lignes.json\", \"r\") as f:\n",
    "    data = json.load(f)\n",
    "\n",
    "# Iterate over each item in the list\n",
    "for item in data:\n",
    "    # Extract the relevant fields from the item\n",
    "    name = item[\"fields\"][\"name_line\"]\n",
    "    \n",
    "    # Only process names that start with a number or letter \"N\"\n",
    "    if ((name[0].isdigit() or name[0] == \"N\") and len(name) < 5) and item[\"fields\"][\"transportmode\"] == \"bus\":\n",
    "        color = \"#\" + item[\"fields\"][\"colourweb_hexa\"]\n",
    "        text_color = \"#\" + item[\"fields\"][\"textcolourweb_hexa\"]\n",
    "\n",
    "        # Create a new SVG drawing with rounded rectangle and text\n",
    "        dwg = svgwrite.Drawing(filename=f\"{name}.svg\", size=(\"120\", \"120\"))  # Set size to square\n",
    "        corner_radius = 10\n",
    "\n",
    "        # Calculate position and size to center the rectangle\n",
    "        rect_x = 0 / 2\n",
    "        rect_y = (120 - 77) / 2\n",
    "        rect_width = \"100%\"\n",
    "        rect_height = 77\n",
    "\n",
    "        # Draw the rounded rectangle with background color\n",
    "        rect = dwg.rect(insert=(rect_x, rect_y), size=(rect_width, rect_height), rx=corner_radius, ry=corner_radius, fill=color)\n",
    "        dwg.add(rect)\n",
    "\n",
    "        # Add the text label\n",
    "        text = dwg.text(name, insert=(\"50%\", \"53%\"), fill=text_color, font_family=\"Arial\", font_size=45, text_anchor=\"middle\", alignment_baseline=\"middle\", font_weight=\"bold\")\n",
    "        dwg.add(text)\n",
    "\n",
    "        # save into download folder\n",
    "        dwg.saveas(f\"C:\\\\Users\\\\T\\\\Downloads\\\\test svg\\\\{item['fields']['id_line']}.svg\")\n",
    "\n",
    "        display(SVG(f\"C:\\\\Users\\\\T\\\\Downloads\\\\test svg\\\\{item['fields']['id_line']}.svg\"))       \n",
    "    "
   ]
  }
 ],
 "metadata": {
  "kernelspec": {
   "display_name": "Python 3",
   "language": "python",
   "name": "python3"
  },
  "language_info": {
   "codemirror_mode": {
    "name": "ipython",
    "version": 3
   },
   "file_extension": ".py",
   "mimetype": "text/x-python",
   "name": "python",
   "nbconvert_exporter": "python",
   "pygments_lexer": "ipython3",
   "version": "3.10.9"
  },
  "orig_nbformat": 4
 },
 "nbformat": 4,
 "nbformat_minor": 2
}
