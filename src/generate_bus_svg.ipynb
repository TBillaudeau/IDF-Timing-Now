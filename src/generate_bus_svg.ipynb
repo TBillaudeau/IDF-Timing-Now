{
 "cells": [
  {
   "cell_type": "code",
   "execution_count": null,
   "metadata": {},
   "outputs": [],
   "source": [
    "import json\n",
    "import matplotlib.pyplot as plt\n",
    "import svgwrite\n",
    "from IPython.display import SVG, display\n",
    "\n",
    "# Load the JSON data from a file\n",
    "with open(\"C:\\\\Users\\\\T\\\\Downloads\\\\referentiel-des-lignes.json\", \"r\") as f:\n",
    "    data = json.load(f)\n",
    "\n",
    "# Iterate over each item in the list\n",
    "for item in data:\n",
    "    # Extract the relevant fields from the item\n",
    "    name = item[\"fields\"][\"name_line\"]\n",
    "    \n",
    "    # Only process names that start with a number or letter \"N\"\n",
    "    if ((name[0].isdigit() or name[0] == \"N\") and len(name) < 5) and item[\"fields\"][\"transportmode\"] == \"bus\":\n",
    "        color = \"#\" + item[\"fields\"][\"colourweb_hexa\"]\n",
    "        text_color = \"#\" + item[\"fields\"][\"textcolourweb_hexa\"]\n",
    "\n",
    "        # Create a new SVG drawing with rounded rectangle and text\n",
    "        dwg = svgwrite.Drawing(filename=f\"{name}.svg\", size=(\"120\", \"120\"))  # Set size to square\n",
    "        corner_radius = 10\n",
    "\n",
    "        # Calculate position and size to center the rectangle\n",
    "        rect_x = 0 / 2\n",
    "        rect_y = (120 - 77) / 2\n",
    "        rect_width = \"100%\"\n",
    "        rect_height = 77\n",
    "\n",
    "        # Draw the rounded rectangle with background color\n",
    "        rect = dwg.rect(insert=(rect_x, rect_y), size=(rect_width, rect_height), rx=corner_radius, ry=corner_radius, fill=color)\n",
    "        dwg.add(rect)\n",
    "\n",
    "        # Add the text label\n",
    "        text = dwg.text(name, insert=(\"50%\", \"53%\"), fill=text_color, font_family=\"Arial\", font_size=45, text_anchor=\"middle\", alignment_baseline=\"middle\", font_weight=\"bold\")\n",
    "        dwg.add(text)\n",
    "\n",
    "        # save into download folder\n",
    "        dwg.saveas(f\"C:\\\\Users\\\\T\\\\Downloads\\\\test svg\\\\{item['fields']['id_line']}.svg\")\n",
    "\n",
    "        display(SVG(f\"C:\\\\Users\\\\T\\\\Downloads\\\\test svg\\\\{item['fields']['id_line']}.svg\"))       \n",
    "    "
   ]
  }
 ],
 "metadata": {
  "kernelspec": {
   "display_name": "Python 3",
   "language": "python",
   "name": "python3"
  },
  "language_info": {
   "codemirror_mode": {
    "name": "ipython",
    "version": 3
   },
   "file_extension": ".py",
   "mimetype": "text/x-python",
   "name": "python",
   "nbconvert_exporter": "python",
   "pygments_lexer": "ipython3",
   "version": "3.10.9"
  },
  "orig_nbformat": 4
 },
 "nbformat": 4,
 "nbformat_minor": 2
}
